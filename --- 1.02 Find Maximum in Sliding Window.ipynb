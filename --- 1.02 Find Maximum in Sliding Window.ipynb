{
 "cells": [
  {
   "cell_type": "code",
   "execution_count": 3,
   "metadata": {
    "collapsed": true
   },
   "outputs": [],
   "source": [
    "from collections import deque\n",
    "\n",
    "arr = [-4, 10, -5, 3, 2, 3, 10]"
   ]
  },
  {
   "cell_type": "code",
   "execution_count": 10,
   "metadata": {
    "collapsed": true
   },
   "outputs": [],
   "source": [
    "def sliding_window(arr, window_size):\n",
    "    \n",
    "    ### first window\n",
    "    window = deque()\n",
    "    for i in range(0, window_size):\n",
    "        \n",
    "        # remove all the stored indices if new one is larger than arr[window[-1]]\n",
    "        # so that window[0] > window[1] > window[2] > .....\n",
    "        while window and arr[i] > arr[window[-1]]: # note this is not if\n",
    "            window.pop()\n",
    "        \n",
    "        window.append(i)\n",
    "        \n",
    "    print (arr[window[0]])\n",
    "    \n",
    "    ### following windows\n",
    "    for i in range(window_size, len(arr)):\n",
    "        \n",
    "        while window and arr[i] >= arr[window[-1]]:\n",
    "            window.pop()\n",
    "            \n",
    "        if window and (window[0] <= i - window_size):\n",
    "            window.popleft()\n",
    "            \n",
    "        window.append(i)\n",
    "        print(window)\n",
    "        \n",
    "        print(arr[window[0]])\n",
    "        \n",
    "        "
   ]
  },
  {
   "cell_type": "code",
   "execution_count": 11,
   "metadata": {
    "scrolled": false
   },
   "outputs": [
    {
     "name": "stdout",
     "output_type": "stream",
     "text": [
      "10\n",
      "deque([1, 3])\n",
      "10\n",
      "deque([1, 3, 4])\n",
      "10\n",
      "deque([3, 5])\n",
      "3\n",
      "deque([6])\n",
      "10\n"
     ]
    }
   ],
   "source": [
    "sliding_window(arr, 3)"
   ]
  }
 ],
 "metadata": {
  "kernelspec": {
   "display_name": "Python 3",
   "language": "python",
   "name": "python3"
  },
  "language_info": {
   "codemirror_mode": {
    "name": "ipython",
    "version": 3
   },
   "file_extension": ".py",
   "mimetype": "text/x-python",
   "name": "python",
   "nbconvert_exporter": "python",
   "pygments_lexer": "ipython3",
   "version": "3.6.0"
  }
 },
 "nbformat": 4,
 "nbformat_minor": 2
}
