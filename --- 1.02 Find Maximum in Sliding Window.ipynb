{
 "cells": [
  {
   "cell_type": "code",
   "execution_count": 1,
   "metadata": {},
   "outputs": [],
   "source": [
    "from collections import deque"
   ]
  },
  {
   "cell_type": "code",
   "execution_count": 2,
   "metadata": {
    "collapsed": true
   },
   "outputs": [],
   "source": [
    "arr = [5, 10, 2, 15, 16, 15, 3, 10, 30 ,15]"
   ]
  },
  {
   "cell_type": "code",
   "execution_count": 3,
   "metadata": {},
   "outputs": [],
   "source": [
    "def sliding_window(arr, window_size):\n",
    "    # first window\n",
    "    window = deque()\n",
    "    for i in range(0, window_size):\n",
    "        \n",
    "        # remove all the stored indices if new one is larger than arr[window[0]]\n",
    "        # so that arr[window[0]] is always the largest value\n",
    "#         print(i)\n",
    "        while window and arr[i] > arr[window[0]]: # note this is not if\n",
    "            window.pop()\n",
    "        \n",
    "        window.append(i)\n",
    "        \n",
    "    print (arr[window[0]])\n",
    "    \n",
    "    for i in range(window_size, len(arr)):\n",
    "        \n",
    "        while window and arr[i] > arr[window[0]]:\n",
    "            window.pop()\n",
    "            \n",
    "        if window and (window[0] < i - window_size):\n",
    "            window.popleft()\n",
    "            \n",
    "        window.append(i)\n",
    "        \n",
    "        print(arr[window[0]])\n",
    "        \n",
    "        "
   ]
  },
  {
   "cell_type": "code",
   "execution_count": 4,
   "metadata": {
    "scrolled": true
   },
   "outputs": [
    {
     "name": "stdout",
     "output_type": "stream",
     "text": [
      "15\n",
      "16\n",
      "16\n",
      "16\n",
      "16\n",
      "30\n",
      "30\n"
     ]
    }
   ],
   "source": [
    "sliding_window(arr, 4)"
   ]
  }
 ],
 "metadata": {
  "kernelspec": {
   "display_name": "Python 3",
   "language": "python",
   "name": "python3"
  },
  "language_info": {
   "codemirror_mode": {
    "name": "ipython",
    "version": 3
   },
   "file_extension": ".py",
   "mimetype": "text/x-python",
   "name": "python",
   "nbconvert_exporter": "python",
   "pygments_lexer": "ipython3",
   "version": "3.6.0"
  }
 },
 "nbformat": 4,
 "nbformat_minor": 2
}
