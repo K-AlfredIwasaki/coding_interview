{
 "cells": [
  {
   "cell_type": "code",
   "execution_count": 123,
   "metadata": {
    "collapsed": true
   },
   "outputs": [],
   "source": [
    "# consider corner cases when stack is empty"
   ]
  },
  {
   "cell_type": "code",
   "execution_count": 103,
   "metadata": {
    "collapsed": true
   },
   "outputs": [],
   "source": [
    "from collections import deque\n",
    "\n",
    "class Min_stack():\n",
    "    \n",
    "    def __init__(self):\n",
    "        self.stack = deque()\n",
    "        self.min_val = None\n",
    "        \n",
    "    def push_item(self, value):\n",
    "        if self.min_val and self.min_val > value:\n",
    "            calc = 2*value - self.min_val\n",
    "            self.stack.append(calc)\n",
    "            self.min_val = value\n",
    "            \n",
    "        elif not self.min_val:\n",
    "            self.min_val = value\n",
    "            self.stack.append(value)\n",
    "        else:\n",
    "            self.stack.append(value)\n",
    "            \n",
    "    def get_minimum(self):\n",
    "        \n",
    "        return self.min_val\n",
    "    \n",
    "    def pop_item(self):\n",
    "        val = self.stack.pop()\n",
    "        \n",
    "        if val < self.min_val:\n",
    "            item = self.min_val\n",
    "            # update self.min_val\n",
    "            self.min_val = 2*self.min_val - val\n",
    "        else:\n",
    "            item = val\n",
    "        \n",
    "        return item\n",
    "        \n",
    "        "
   ]
  },
  {
   "cell_type": "code",
   "execution_count": 108,
   "metadata": {
    "collapsed": true
   },
   "outputs": [],
   "source": [
    "m = Min_stack()\n",
    "m.push_item(2)\n",
    "m.push_item(7)\n",
    "m.push_item(8)\n",
    "m.push_item(0)"
   ]
  },
  {
   "cell_type": "code",
   "execution_count": 109,
   "metadata": {},
   "outputs": [
    {
     "data": {
      "text/plain": [
       "0"
      ]
     },
     "execution_count": 109,
     "metadata": {},
     "output_type": "execute_result"
    }
   ],
   "source": [
    "m.get_minimum()"
   ]
  },
  {
   "cell_type": "code",
   "execution_count": 110,
   "metadata": {},
   "outputs": [
    {
     "data": {
      "text/plain": [
       "0"
      ]
     },
     "execution_count": 110,
     "metadata": {},
     "output_type": "execute_result"
    }
   ],
   "source": [
    "m.pop_item()"
   ]
  },
  {
   "cell_type": "code",
   "execution_count": 111,
   "metadata": {},
   "outputs": [
    {
     "data": {
      "text/plain": [
       "2"
      ]
     },
     "execution_count": 111,
     "metadata": {},
     "output_type": "execute_result"
    }
   ],
   "source": [
    "m.get_minimum()"
   ]
  },
  {
   "cell_type": "code",
   "execution_count": 112,
   "metadata": {},
   "outputs": [
    {
     "data": {
      "text/plain": [
       "8"
      ]
     },
     "execution_count": 112,
     "metadata": {},
     "output_type": "execute_result"
    }
   ],
   "source": [
    "m.pop_item()"
   ]
  },
  {
   "cell_type": "code",
   "execution_count": 113,
   "metadata": {},
   "outputs": [
    {
     "data": {
      "text/plain": [
       "2"
      ]
     },
     "execution_count": 113,
     "metadata": {},
     "output_type": "execute_result"
    }
   ],
   "source": [
    "m.get_minimum()"
   ]
  },
  {
   "cell_type": "code",
   "execution_count": 116,
   "metadata": {
    "collapsed": true
   },
   "outputs": [],
   "source": [
    "class Min_two_stack():\n",
    "    \n",
    "    def __init__(self):\n",
    "        self.stack = deque()\n",
    "        self.min_stack = deque()\n",
    "    \n",
    "    def push_item(self, value):\n",
    "        self.stack.append(value)\n",
    "        \n",
    "        if self.min_stack:\n",
    "            global_min = self.min_stack[-1]\n",
    "            \n",
    "            if global_min > value:\n",
    "                self.min_stack.append(value)\n",
    "\n",
    "            else:\n",
    "                self.min_stack.append(global_min)\n",
    "                \n",
    "        else:\n",
    "            self.min_stack.append(value)\n",
    "\n",
    "        \n",
    "    def get_minimum(self):\n",
    "        \n",
    "        return self.min_stack[-1]\n",
    "    \n",
    "    def pop_item(self):\n",
    "        self.min_stack.pop()\n",
    "        return self.stack.pop()"
   ]
  },
  {
   "cell_type": "code",
   "execution_count": 117,
   "metadata": {
    "collapsed": true
   },
   "outputs": [],
   "source": [
    "m = Min_two_stack()\n",
    "m.push_item(2)\n",
    "m.push_item(7)\n",
    "m.push_item(8)\n",
    "m.push_item(0)"
   ]
  },
  {
   "cell_type": "code",
   "execution_count": 118,
   "metadata": {
    "scrolled": true
   },
   "outputs": [
    {
     "data": {
      "text/plain": [
       "0"
      ]
     },
     "execution_count": 118,
     "metadata": {},
     "output_type": "execute_result"
    }
   ],
   "source": [
    "m.get_minimum()"
   ]
  },
  {
   "cell_type": "code",
   "execution_count": 119,
   "metadata": {},
   "outputs": [
    {
     "data": {
      "text/plain": [
       "0"
      ]
     },
     "execution_count": 119,
     "metadata": {},
     "output_type": "execute_result"
    }
   ],
   "source": [
    "m.pop_item()"
   ]
  },
  {
   "cell_type": "code",
   "execution_count": 120,
   "metadata": {},
   "outputs": [
    {
     "data": {
      "text/plain": [
       "2"
      ]
     },
     "execution_count": 120,
     "metadata": {},
     "output_type": "execute_result"
    }
   ],
   "source": [
    "m.get_minimum()"
   ]
  },
  {
   "cell_type": "code",
   "execution_count": 121,
   "metadata": {
    "scrolled": true
   },
   "outputs": [
    {
     "data": {
      "text/plain": [
       "8"
      ]
     },
     "execution_count": 121,
     "metadata": {},
     "output_type": "execute_result"
    }
   ],
   "source": [
    "m.pop_item()"
   ]
  },
  {
   "cell_type": "code",
   "execution_count": 122,
   "metadata": {},
   "outputs": [
    {
     "data": {
      "text/plain": [
       "2"
      ]
     },
     "execution_count": 122,
     "metadata": {},
     "output_type": "execute_result"
    }
   ],
   "source": [
    "m.get_minimum()"
   ]
  }
 ],
 "metadata": {
  "kernelspec": {
   "display_name": "Python 3",
   "language": "python",
   "name": "python3"
  },
  "language_info": {
   "codemirror_mode": {
    "name": "ipython",
    "version": 3
   },
   "file_extension": ".py",
   "mimetype": "text/x-python",
   "name": "python",
   "nbconvert_exporter": "python",
   "pygments_lexer": "ipython3",
   "version": "3.6.0"
  }
 },
 "nbformat": 4,
 "nbformat_minor": 2
}
