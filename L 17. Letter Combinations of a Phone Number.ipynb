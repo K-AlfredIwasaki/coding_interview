{
 "cells": [
  {
   "cell_type": "code",
   "execution_count": 34,
   "metadata": {},
   "outputs": [],
   "source": [
    "class Solution(object):\n",
    "    def letterCombinations(self, digits, pos = 0, current = [], result = []):\n",
    "        \"\"\"\n",
    "        :type digits: str\n",
    "        :rtype: List[str]\n",
    "        \"\"\"\n",
    "        if len(digits) <= 0 or not digits:\n",
    "            return None\n",
    "\n",
    "        # base\n",
    "        if pos == len(digits):\n",
    "            temp = \"\".join(current)\n",
    "            result.append(temp)\n",
    "            return\n",
    "\n",
    "        d = {2: \"abc\",\n",
    "            3: \"def\",\n",
    "            4: \"ghi\",\n",
    "            5: \"jkl\",\n",
    "            6: \"mno\",\n",
    "            7: \"pqrs\",\n",
    "            8: \"tuv\",\n",
    "            9: \"wxyz\"}\n",
    "\n",
    "        digit = int(digits[pos])\n",
    "        alphabets = d[digit]\n",
    "\n",
    "        for char in alphabets:\n",
    "            current.append(char)\n",
    "            self.letterCombinations(digits, pos+1, current, result)\n",
    "            current.pop()\n",
    "\n",
    "        return result    "
   ]
  },
  {
   "cell_type": "code",
   "execution_count": 35,
   "metadata": {
    "collapsed": true
   },
   "outputs": [],
   "source": [
    "s = Solution()"
   ]
  },
  {
   "cell_type": "code",
   "execution_count": 36,
   "metadata": {
    "scrolled": true
   },
   "outputs": [
    {
     "data": {
      "text/plain": [
       "['ad', 'ae', 'af', 'bd', 'be', 'bf', 'cd', 'ce', 'cf']"
      ]
     },
     "execution_count": 36,
     "metadata": {},
     "output_type": "execute_result"
    }
   ],
   "source": [
    "s.letterCombinations(\"23\")"
   ]
  }
 ],
 "metadata": {
  "kernelspec": {
   "display_name": "Python 3",
   "language": "python",
   "name": "python3"
  },
  "language_info": {
   "codemirror_mode": {
    "name": "ipython",
    "version": 3
   },
   "file_extension": ".py",
   "mimetype": "text/x-python",
   "name": "python",
   "nbconvert_exporter": "python",
   "pygments_lexer": "ipython3",
   "version": "3.6.0"
  }
 },
 "nbformat": 4,
 "nbformat_minor": 2
}
