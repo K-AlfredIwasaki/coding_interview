{
 "cells": [
  {
   "cell_type": "code",
   "execution_count": 9,
   "metadata": {
    "collapsed": true
   },
   "outputs": [],
   "source": [
    "from random import randint, shuffle"
   ]
  },
  {
   "cell_type": "code",
   "execution_count": 18,
   "metadata": {},
   "outputs": [
    {
     "data": {
      "text/plain": [
       "[35, 24, 15, 0, 0, 9, 3, 9, 0, 16]"
      ]
     },
     "execution_count": 18,
     "metadata": {},
     "output_type": "execute_result"
    }
   ],
   "source": [
    "t = [randint(1, 50) for i in range(7)]\n",
    "t.append(0)\n",
    "t.append(0)\n",
    "t.append(0)\n",
    "\n",
    "shuffle(t) # shuffle work in replace and return none\n",
    "t"
   ]
  },
  {
   "cell_type": "code",
   "execution_count": 26,
   "metadata": {},
   "outputs": [
    {
     "data": {
      "text/plain": [
       "[0, 0, 0, 35, 24, 15, 9, 3, 9, 16]"
      ]
     },
     "execution_count": 26,
     "metadata": {},
     "output_type": "execute_result"
    }
   ],
   "source": [
    "def swap_machine(arr):\n",
    "    \n",
    "    \n",
    "    new_arr = []\n",
    "    \n",
    "    # append zeros to the array\n",
    "    for item in arr:\n",
    "        if item == 0:\n",
    "            new_arr.append(item)\n",
    "    \n",
    "    # append non zeros to the array\n",
    "    for item in arr:\n",
    "        if item != 0:\n",
    "            new_arr.append(item)\n",
    "    \n",
    "    return new_arr\n",
    "\n",
    "swap_machine(t)"
   ]
  },
  {
   "cell_type": "code",
   "execution_count": 27,
   "metadata": {
    "collapsed": true
   },
   "outputs": [],
   "source": [
    "def swap_machine(arr):\n",
    "    last = len(arr) -1\n",
    "    reader = last\n",
    "    writer = last\n",
    "    \n",
    "    # iterate back to front\n",
    "    # and store non-zero to the right\n",
    "    while reader != -1:  ############## IMPORTANT -1\n",
    "        if arr[reader] != 0:\n",
    "            arr[writer] = arr[reader]\n",
    "            writer += -1\n",
    "        \n",
    "        reader += -1\n",
    "    \n",
    "    # now we finished storing non-zero\n",
    "    # fill the left with zero\n",
    "    while writer != -1: ############## IMPORTANT -1\n",
    "        arr[writer] = 0\n",
    "        writer += -1\n",
    "    \n",
    "    return arr"
   ]
  },
  {
   "cell_type": "code",
   "execution_count": 28,
   "metadata": {},
   "outputs": [
    {
     "data": {
      "text/plain": [
       "[0, 0, 0, 35, 24, 15, 9, 3, 9, 16]"
      ]
     },
     "execution_count": 28,
     "metadata": {},
     "output_type": "execute_result"
    }
   ],
   "source": [
    "swap_machine(t)"
   ]
  }
 ],
 "metadata": {
  "kernelspec": {
   "display_name": "Python 3",
   "language": "python",
   "name": "python3"
  },
  "language_info": {
   "codemirror_mode": {
    "name": "ipython",
    "version": 3
   },
   "file_extension": ".py",
   "mimetype": "text/x-python",
   "name": "python",
   "nbconvert_exporter": "python",
   "pygments_lexer": "ipython3",
   "version": "3.6.0"
  }
 },
 "nbformat": 4,
 "nbformat_minor": 2
}
