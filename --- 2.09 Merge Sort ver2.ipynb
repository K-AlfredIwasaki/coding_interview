{
 "cells": [
  {
   "cell_type": "code",
   "execution_count": 167,
   "metadata": {
    "scrolled": true
   },
   "outputs": [
    {
     "name": "stdout",
     "output_type": "stream",
     "text": [
      "25=>40=>21=>30=>5=>12=>10\n"
     ]
    }
   ],
   "source": [
    "from data_structure.linkedlist_simple import *\n",
    "\n",
    "l = LinkedList(25)\n",
    "l.next = LinkedList(40)\n",
    "l.next.next = LinkedList(21)\n",
    "l.next.next.next = LinkedList(30)\n",
    "l.next.next.next.next = LinkedList(5)\n",
    "l.next.next.next.next.next = LinkedList(12)\n",
    "l.next.next.next.next.next.next = LinkedList(10)\n",
    "print (l)"
   ]
  },
  {
   "cell_type": "code",
   "execution_count": 168,
   "metadata": {
    "collapsed": true
   },
   "outputs": [],
   "source": [
    "def split_list(head):\n",
    "    if head == None:\n",
    "        return None\n",
    "    \n",
    "    if head.next == None:\n",
    "        return (head, None)\n",
    "    \n",
    "    fast = head\n",
    "    slow = head\n",
    "    count = 0\n",
    "    while fast != None:\n",
    "        fast = fast.next\n",
    "        count += 1\n",
    "    \n",
    "    count = count // 2\n",
    "    \n",
    "    while count > 1:\n",
    "        slow = slow.next\n",
    "        count -= 1\n",
    "    \n",
    "    temp = slow.next\n",
    "    slow.next = None\n",
    "    return (head, temp)\n",
    "    "
   ]
  },
  {
   "cell_type": "code",
   "execution_count": 169,
   "metadata": {
    "collapsed": true
   },
   "outputs": [],
   "source": [
    "def merge(a, b):\n",
    "    print (\"merging {} and {}\".format(a, b))\n",
    "    # if one of them is none\n",
    "    if a == None:\n",
    "        return b\n",
    "    elif b == None:\n",
    "        return a\n",
    "    \n",
    "    \n",
    "    # create new list - merged_list\n",
    "    head = None    \n",
    "    tail = None\n",
    "    \n",
    "    while a != None and b != None:\n",
    "        # pick which one to add to the merged_list\n",
    "        if a.content < b.content:\n",
    "            # a goes to the head\n",
    "            temp = a\n",
    "            a = a.next\n",
    "        else:\n",
    "            # b goes to the head\n",
    "            temp = b\n",
    "            b = b.next\n",
    "        \n",
    "        # add one to themerged_list\n",
    "        # if it's first item\n",
    "        if head == None:\n",
    "            tail = temp\n",
    "            head = temp\n",
    "            \n",
    "        else:\n",
    "            tail.next = temp\n",
    "            tail = temp\n",
    "    \n",
    "    # one while loop is over. either a or b might be remained\n",
    "    if a != None:\n",
    "        tail.next = a\n",
    "    if b != None:\n",
    "        tail.next = b\n",
    "        \n",
    "    return head "
   ]
  },
  {
   "cell_type": "code",
   "execution_count": 170,
   "metadata": {},
   "outputs": [],
   "source": [
    "def merge_sort(head):\n",
    "    print (head)\n",
    "    # base\n",
    "    if head == None or head.next == None:\n",
    "        return head\n",
    "    \n",
    "    # split\n",
    "    a, b = split_list(head)\n",
    "    \n",
    "    # recursion\n",
    "    result_a = merge_sort(a)\n",
    "    result_b = merge_sort(b)\n",
    "    \n",
    "    # merge\n",
    "    return merge(result_a, result_b)"
   ]
  },
  {
   "cell_type": "code",
   "execution_count": 171,
   "metadata": {
    "scrolled": false
   },
   "outputs": [
    {
     "name": "stdout",
     "output_type": "stream",
     "text": [
      "25=>40=>21=>30=>5=>12=>10\n",
      "25=>40=>21\n",
      "25\n",
      "40=>21\n",
      "40\n",
      "21\n",
      "merging 40 and 21\n",
      "merging 25 and 21=>40\n",
      "30=>5=>12=>10\n",
      "30=>5\n",
      "30\n",
      "5\n",
      "merging 30 and 5\n",
      "12=>10\n",
      "12\n",
      "10\n",
      "merging 12 and 10\n",
      "merging 5=>30 and 10=>12\n",
      "merging 21=>25=>40 and 5=>10=>12=>30\n",
      "5=>10=>12=>21=>25=>30=>40\n"
     ]
    }
   ],
   "source": [
    "print (merge_sort(l))"
   ]
  }
 ],
 "metadata": {
  "kernelspec": {
   "display_name": "Python 3",
   "language": "python",
   "name": "python3"
  },
  "language_info": {
   "codemirror_mode": {
    "name": "ipython",
    "version": 3
   },
   "file_extension": ".py",
   "mimetype": "text/x-python",
   "name": "python",
   "nbconvert_exporter": "python",
   "pygments_lexer": "ipython3",
   "version": "3.6.0"
  }
 },
 "nbformat": 4,
 "nbformat_minor": 2
}
