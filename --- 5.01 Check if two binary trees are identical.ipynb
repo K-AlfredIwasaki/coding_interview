{
 "cells": [
  {
   "cell_type": "code",
   "execution_count": 1,
   "metadata": {
    "collapsed": true
   },
   "outputs": [],
   "source": [
    "from data_structure.binary_tree import *\n",
    "\n",
    "b = BinaryTree(100)\n",
    "b.left = BinaryTree(50)\n",
    "b.left.left = BinaryTree(25)\n",
    "b.left.right = BinaryTree(75)\n",
    "b.left.left.right = BinaryTree(35)\n",
    "b.right = BinaryTree(200)"
   ]
  },
  {
   "cell_type": "code",
   "execution_count": 2,
   "metadata": {
    "collapsed": true
   },
   "outputs": [],
   "source": [
    "t = BinaryTree(100)\n",
    "t.left = BinaryTree(50)\n",
    "t.left.left = BinaryTree(25)\n",
    "t.left.right = BinaryTree(75)\n",
    "t.left.left.right = BinaryTree(35)\n",
    "t.right = BinaryTree(200)"
   ]
  },
  {
   "cell_type": "code",
   "execution_count": 9,
   "metadata": {
    "collapsed": true
   },
   "outputs": [],
   "source": [
    "# recursion\n",
    "\n",
    "def check_identical(root1, root2):\n",
    "    # base\n",
    "    if root1 == None and root2 == None:\n",
    "        return True\n",
    "    \n",
    "    # recursion\n",
    "    if root1 != None and root2 != None:\n",
    "        check_root = (root1.content == root2.content)\n",
    "        check_left = check_identical(root1.left, root2.left)\n",
    "        check_right = check_identical(root1.right, root2.right)\n",
    "        return (check_root and check_left and check_right)\n",
    "    \n",
    "    return False"
   ]
  },
  {
   "cell_type": "code",
   "execution_count": 8,
   "metadata": {
    "scrolled": false
   },
   "outputs": [
    {
     "data": {
      "text/plain": [
       "True"
      ]
     },
     "execution_count": 8,
     "metadata": {},
     "output_type": "execute_result"
    }
   ],
   "source": [
    "check_identical(b, t)"
   ]
  },
  {
   "cell_type": "code",
   "execution_count": 10,
   "metadata": {
    "collapsed": true
   },
   "outputs": [],
   "source": [
    "\n",
    "# ---------- solution1 --------------------------------\n",
    "## use in-order search and pre-order search\n",
    "## make sure to mark null values\n",
    "\n",
    "\n",
    "def inOrderTraversal(node, returnlist = []):\n",
    "    if node == None:\n",
    "        return returnlist.append(\"0\")\n",
    "    \n",
    "    inOrderTraversal(node.left)\n",
    "    returnlist.append(str(node.content))\n",
    "    inOrderTraversal(node.right)\n",
    "\n",
    "    return \"\".join(returnlist)\n",
    "\n",
    "def preOrderTraversal(node, returnlist = []):\n",
    "    if node == None:\n",
    "        return returnlist.append(\"0\")\n",
    "    \n",
    "    returnlist.append(str(node.content))\n",
    "    preOrderTraversal(node.left)\n",
    "    preOrderTraversal(node.right)\n",
    "\n",
    "    return \"\".join(returnlist)\n",
    "\n",
    "def subtreeCheck(node1, node2):\n",
    "    check1 = inOrderTraversal(node2) in inOrderTraversal(node1)\n",
    "    check2 = preOrderTraversal(node2) in preOrderTraversal(node1)\n",
    "    \n",
    "    return check1 and check2"
   ]
  },
  {
   "cell_type": "code",
   "execution_count": 11,
   "metadata": {},
   "outputs": [
    {
     "data": {
      "text/plain": [
       "True"
      ]
     },
     "execution_count": 11,
     "metadata": {},
     "output_type": "execute_result"
    }
   ],
   "source": [
    "subtreeCheck(b, t)"
   ]
  }
 ],
 "metadata": {
  "kernelspec": {
   "display_name": "Python 3",
   "language": "python",
   "name": "python3"
  },
  "language_info": {
   "codemirror_mode": {
    "name": "ipython",
    "version": 3
   },
   "file_extension": ".py",
   "mimetype": "text/x-python",
   "name": "python",
   "nbconvert_exporter": "python",
   "pygments_lexer": "ipython3",
   "version": "3.6.0"
  }
 },
 "nbformat": 4,
 "nbformat_minor": 2
}
