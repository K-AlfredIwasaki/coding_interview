{
 "cells": [
  {
   "cell_type": "markdown",
   "metadata": {},
   "source": [
    "-Stack() creates a new stack that is empty. It needs no parameters and returns an empty stack.\n",
    "\n",
    "-push(item) adds a new item to the top of the stack. It needs the item and returns nothing.\n",
    "\n",
    "-pop() removes the top item from the stack. It needs no parameters and returns the item. The stack is modified.\n",
    "\n",
    "-peek() returns the top item from the stack but does not remove it. It needs no parameters. The stack is not modified.\n",
    "\n",
    "-isEmpty() tests to see whether the stack is empty. It needs no parameters and returns a boolean value.\n",
    "\n",
    "-size() returns the number of items on the stack. It needs no parameters and returns an integer."
   ]
  },
  {
   "cell_type": "code",
   "execution_count": 15,
   "metadata": {
    "collapsed": true
   },
   "outputs": [],
   "source": [
    "class Stack():\n",
    "    \n",
    "    def __init__(self, item=1):\n",
    "        self.items = [item, 2, 2]\n",
    "        \n",
    "    def push(self, item):\n",
    "        self.items.append(item)\n",
    "        \n",
    "    def pop(self):\n",
    "        return self.pop()\n",
    "    \n",
    "    def peek(self):\n",
    "        return self.items[len(self.items)-1]\n",
    "        \n",
    "    def isEmpty(self):\n",
    "        return self.items == []\n",
    "    \n",
    "    def size(self):\n",
    "        return len(self.items)\n",
    "    \n",
    "    def returnlst(self):\n",
    "        return self.items"
   ]
  }
 ],
 "metadata": {
  "kernelspec": {
   "display_name": "Python 3",
   "language": "python",
   "name": "python3"
  },
  "language_info": {
   "codemirror_mode": {
    "name": "ipython",
    "version": 3
   },
   "file_extension": ".py",
   "mimetype": "text/x-python",
   "name": "python",
   "nbconvert_exporter": "python",
   "pygments_lexer": "ipython3",
   "version": "3.6.0"
  }
 },
 "nbformat": 4,
 "nbformat_minor": 2
}
