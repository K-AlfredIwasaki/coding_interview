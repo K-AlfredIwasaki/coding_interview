{
 "cells": [
  {
   "cell_type": "code",
   "execution_count": 80,
   "metadata": {
    "collapsed": true
   },
   "outputs": [],
   "source": [
    "# you can write to stdout for debugging purposes, e.g.\n",
    "# print(\"this is a debug message\")\n",
    "\n",
    "def solution(A):\n",
    "    \n",
    "    partial_sums = {0 : 1} # sum : number of cases\n",
    "    current_sum = 0\n",
    "    count = 0\n",
    "    \n",
    "    for i in range(len(A)):\n",
    "        current_sum += A[i]\n",
    "        \n",
    "        if current_sum in partial_sums:\n",
    "        \n",
    "            count += partial_sums[current_sum]\n",
    "            partial_sums[current_sum] += 1\n",
    "            \n",
    "        else:\n",
    "            partial_sums[current_sum] = 1\n",
    "            \n",
    "        if count > 1000000000:\n",
    "            return -1\n",
    "            \n",
    "    return count"
   ]
  },
  {
   "cell_type": "code",
   "execution_count": 81,
   "metadata": {
    "scrolled": true
   },
   "outputs": [
    {
     "data": {
      "text/plain": [
       "6"
      ]
     },
     "execution_count": 81,
     "metadata": {},
     "output_type": "execute_result"
    }
   ],
   "source": [
    "solution([2, -2, 3, 0, 4, -7, 3])"
   ]
  }
 ],
 "metadata": {
  "kernelspec": {
   "display_name": "Python 3",
   "language": "python",
   "name": "python3"
  },
  "language_info": {
   "codemirror_mode": {
    "name": "ipython",
    "version": 3
   },
   "file_extension": ".py",
   "mimetype": "text/x-python",
   "name": "python",
   "nbconvert_exporter": "python",
   "pygments_lexer": "ipython3",
   "version": "3.6.0"
  }
 },
 "nbformat": 4,
 "nbformat_minor": 2
}
