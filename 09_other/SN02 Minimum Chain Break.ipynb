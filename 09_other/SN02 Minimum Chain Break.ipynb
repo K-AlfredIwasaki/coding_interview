{
 "cells": [
  {
   "cell_type": "code",
   "execution_count": 12,
   "metadata": {},
   "outputs": [],
   "source": [
    "array = [5, 2, 4, 6, 3, 1, 2, -5, 15, 7, 3]\n",
    "import sys\n",
    "def minimum_chain_break(array):\n",
    "    global_min = sys.maxsize\n",
    "    \n",
    "    p = 1\n",
    "    \n",
    "    for q in range(3, len(array) - 1):\n",
    "        print(p, q)\n",
    "        \n",
    "        global_min = min(global_min, array[q] + array[p])\n",
    "        \n",
    "        # update p -------------------------------- IMPORTANT\n",
    "        # if p can be smaller\n",
    "        if array[q-1] < array[p]:\n",
    "            p = q-1\n",
    "            \n",
    "    return global_min"
   ]
  },
  {
   "cell_type": "code",
   "execution_count": 13,
   "metadata": {},
   "outputs": [
    {
     "name": "stdout",
     "output_type": "stream",
     "text": [
      "1 3\n",
      "1 4\n",
      "1 5\n",
      "1 6\n",
      "5 7\n",
      "5 8\n",
      "7 9\n"
     ]
    },
    {
     "data": {
      "text/plain": [
       "-4"
      ]
     },
     "execution_count": 13,
     "metadata": {},
     "output_type": "execute_result"
    }
   ],
   "source": [
    "minimum_chain_break(array)"
   ]
  }
 ],
 "metadata": {
  "kernelspec": {
   "display_name": "Python 3",
   "language": "python",
   "name": "python3"
  },
  "language_info": {
   "codemirror_mode": {
    "name": "ipython",
    "version": 3
   },
   "file_extension": ".py",
   "mimetype": "text/x-python",
   "name": "python",
   "nbconvert_exporter": "python",
   "pygments_lexer": "ipython3",
   "version": "3.6.0"
  }
 },
 "nbformat": 4,
 "nbformat_minor": 2
}
