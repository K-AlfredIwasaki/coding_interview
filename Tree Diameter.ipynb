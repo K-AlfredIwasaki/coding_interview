{
 "cells": [
  {
   "cell_type": "code",
   "execution_count": 4,
   "metadata": {
    "collapsed": true
   },
   "outputs": [],
   "source": [
    "from data_structure.binary_tree import *\n",
    "\n",
    "b = BinaryTree(\"a\")\n",
    "b.left = BinaryTree(\"b\")\n",
    "b.left.left = BinaryTree(\"c\")\n",
    "b.left.left.left = BinaryTree(\"d\")\n",
    "b.left.left.right = BinaryTree(\"e\")\n",
    "b.left.right = BinaryTree(\"f\")\n",
    "b.left.right.left = BinaryTree(\"g\")\n",
    "b.left.right.left.left = BinaryTree(\"h\")\n",
    "b.left.right.left.left.left = BinaryTree(\"i\")\n",
    "b.left.right.left.right = BinaryTree(\"k\")\n",
    "b.left.right.right = BinaryTree(\"l\")\n",
    "b.left.right.right.right = BinaryTree(\"m\")\n",
    "b.right = BinaryTree(\"n\")"
   ]
  },
  {
   "cell_type": "code",
   "execution_count": 34,
   "metadata": {
    "collapsed": true
   },
   "outputs": [],
   "source": [
    "max_diam = 0\n",
    "def diameter(root):\n",
    "    height, diameter = diameter_rec(root)\n",
    "    return diameter\n",
    "\n",
    "def diameter_rec(root):\n",
    "    global max_diam\n",
    "    # base\n",
    "    if root == None:\n",
    "        return 0, 0\n",
    "    \n",
    "    left_height, max_diam = diameter_rec(root.left)\n",
    "    right_height, max_diam = diameter_rec(root.right)\n",
    "    height = max(left_height, right_height) + 1\n",
    "    print (\"root is {} with height {}\".format(root.content, height))\n",
    "\n",
    "    current_diam = 1 + left_height + right_height\n",
    "    print (\"current diameter is {}\".format(current_diam))\n",
    "    if current_diam > max_diam:\n",
    "        max_diam = current_diam\n",
    "        \n",
    "    return height, max_diam"
   ]
  },
  {
   "cell_type": "code",
   "execution_count": 35,
   "metadata": {
    "scrolled": false
   },
   "outputs": [
    {
     "name": "stdout",
     "output_type": "stream",
     "text": [
      "root is d with height 1\n",
      "current diameter is 1\n",
      "root is e with height 1\n",
      "current diameter is 1\n",
      "root is c with height 2\n",
      "current diameter is 3\n",
      "root is i with height 1\n",
      "current diameter is 1\n",
      "root is h with height 2\n",
      "current diameter is 2\n",
      "root is k with height 1\n",
      "current diameter is 1\n",
      "root is g with height 3\n",
      "current diameter is 4\n",
      "root is m with height 1\n",
      "current diameter is 1\n",
      "root is l with height 2\n",
      "current diameter is 2\n",
      "root is f with height 4\n",
      "current diameter is 6\n",
      "root is b with height 5\n",
      "current diameter is 7\n",
      "root is n with height 1\n",
      "current diameter is 1\n",
      "root is a with height 6\n",
      "current diameter is 7\n"
     ]
    },
    {
     "data": {
      "text/plain": [
       "7"
      ]
     },
     "execution_count": 35,
     "metadata": {},
     "output_type": "execute_result"
    }
   ],
   "source": [
    "diameter(b)"
   ]
  }
 ],
 "metadata": {
  "kernelspec": {
   "display_name": "Python 3",
   "language": "python",
   "name": "python3"
  },
  "language_info": {
   "codemirror_mode": {
    "name": "ipython",
    "version": 3
   },
   "file_extension": ".py",
   "mimetype": "text/x-python",
   "name": "python",
   "nbconvert_exporter": "python",
   "pygments_lexer": "ipython3",
   "version": "3.6.0"
  }
 },
 "nbformat": 4,
 "nbformat_minor": 2
}
