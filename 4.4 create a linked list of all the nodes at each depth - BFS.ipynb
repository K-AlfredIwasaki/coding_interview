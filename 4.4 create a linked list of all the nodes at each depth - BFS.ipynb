{
 "cells": [
  {
   "cell_type": "code",
   "execution_count": 41,
   "metadata": {
    "collapsed": true
   },
   "outputs": [],
   "source": [
    "class Node:\n",
    "    def __init__(self, content):\n",
    "        self.content = content\n",
    "        self.next = None\n",
    "    \n",
    "\n",
    "class LinkedList:\n",
    "    def __init__(self):\n",
    "        self.head = None\n",
    "        self.tail = None\n",
    "        \n",
    "    def addNode(self, content):\n",
    "        if self.head == None:\n",
    "            self.head = Node(content)\n",
    "            self.tail = self.head\n",
    "            \n",
    "        else:\n",
    "            self.tail.next = Node(content)\n",
    "            self.tail = self.tail.next\n",
    "\n",
    "    def __str__(self):\n",
    "        returnlist = []\n",
    "        current = self.head\n",
    "        while current != None:\n",
    "            returnlist.append(str(current.content))\n",
    "            current = current.next\n",
    "        \n",
    "        return \"->\".join(returnlist)\n",
    "        "
   ]
  },
  {
   "cell_type": "code",
   "execution_count": 32,
   "metadata": {},
   "outputs": [
    {
     "name": "stdout",
     "output_type": "stream",
     "text": [
      "3->8->1->4->9->10->3->8->9->9\n"
     ]
    }
   ],
   "source": [
    "l = LinkedList()\n",
    "from random import randint\n",
    "for i in range(10):\n",
    "    l.addNode(randint(0, 10))\n",
    "print (l)"
   ]
  },
  {
   "cell_type": "code",
   "execution_count": 33,
   "metadata": {
    "collapsed": true
   },
   "outputs": [],
   "source": [
    "l.head = l.head.next"
   ]
  },
  {
   "cell_type": "code",
   "execution_count": 34,
   "metadata": {},
   "outputs": [
    {
     "name": "stdout",
     "output_type": "stream",
     "text": [
      "8->1->4->9->10->3->8->9->9\n"
     ]
    }
   ],
   "source": [
    "print (l)"
   ]
  },
  {
   "cell_type": "code",
   "execution_count": 1,
   "metadata": {
    "collapsed": true
   },
   "outputs": [],
   "source": [
    "import random\n",
    "\n",
    "class BinaryTree:\n",
    "    def __init__(self, content, left=None, right=None):\n",
    "        self.content = content\n",
    "        self.left = left\n",
    "        self.right = right\n",
    "        \n",
    "        self.depth = -1\n",
    "        \n",
    "    def __str__(self):\n",
    "        return \"(\" + str(self.content) + \" ( \" + str(self.left) + \" | \"  \\\n",
    "    + str(self.right) + \"))\""
   ]
  },
  {
   "cell_type": "code",
   "execution_count": 2,
   "metadata": {
    "collapsed": true
   },
   "outputs": [],
   "source": [
    "# test case1\n",
    "def make_random_balanced_tree(depth):\n",
    "    if depth > 0:\n",
    "        tree = BinaryTree(random.randint(0, 100))\n",
    "        tree.left = make_random_balanced_tree(depth - 1)\n",
    "        tree.right = make_random_balanced_tree(depth - 1)\n",
    "        return tree\n",
    "    else:\n",
    "        return None"
   ]
  },
  {
   "cell_type": "code",
   "execution_count": 4,
   "metadata": {},
   "outputs": [
    {
     "name": "stdout",
     "output_type": "stream",
     "text": [
      "(46 ( (79 ( (89 ( None | None)) | (16 ( None | None)))) | (21 ( (51 ( None | None)) | (35 ( None | None))))))\n"
     ]
    }
   ],
   "source": [
    "b = make_random_balanced_tree(3)\n",
    "print(b)"
   ]
  },
  {
   "cell_type": "code",
   "execution_count": 15,
   "metadata": {
    "collapsed": true
   },
   "outputs": [],
   "source": [
    "def btree_to_list(btree):\n",
    "    \n",
    "    if btree is None:\n",
    "        return []\n",
    "    \n",
    "    # initialize: \n",
    "    # returnlist = the result to return\n",
    "    # queue tracks nodes at each depth\n",
    "    returnlist = [[btree.content]]\n",
    "    print(\"returnlist is {}\".format(returnlist))\n",
    "    queue = [btree]\n",
    "    print(\"queue is {}\".format(queue))\n",
    "    \n",
    "    # continue while there is a queue (a node)\n",
    "    while len(queue) > 0:\n",
    "        new_queue = []\n",
    "        # iterate all child nodes and store nodes NOT their contents\n",
    "        for node in queue:\n",
    "            if node.left is not None:\n",
    "                new_queue.append(node.left)\n",
    "            if node.right is not None:\n",
    "                new_queue.append(node.right)\n",
    "                \n",
    "        # update the queue to \n",
    "        queue = new_queue\n",
    "        \n",
    "        # break if there is no node\n",
    "        if len(queue) == 0:\n",
    "            break\n",
    "            \n",
    "        # store a content of each node that is stored in returnlist\n",
    "        returnlist.append([x.content for x in queue])\n",
    "    return returnlist"
   ]
  },
  {
   "cell_type": "code",
   "execution_count": 16,
   "metadata": {
    "scrolled": true
   },
   "outputs": [
    {
     "name": "stdout",
     "output_type": "stream",
     "text": [
      "returnlist is [[46]]\n",
      "queue is [<__main__.BinaryTree object at 0x00000230D804E128>]\n"
     ]
    },
    {
     "data": {
      "text/plain": [
       "[[46], [79, 21], [89, 16, 51, 35]]"
      ]
     },
     "execution_count": 16,
     "metadata": {},
     "output_type": "execute_result"
    }
   ],
   "source": [
    "btree_to_list(b)"
   ]
  },
  {
   "cell_type": "code",
   "execution_count": 21,
   "metadata": {
    "scrolled": true
   },
   "outputs": [
    {
     "name": "stdout",
     "output_type": "stream",
     "text": [
      "( 2 None )\n"
     ]
    }
   ],
   "source": [
    "print (LinkedList(2))"
   ]
  },
  {
   "cell_type": "code",
   "execution_count": 56,
   "metadata": {
    "collapsed": true
   },
   "outputs": [],
   "source": [
    "def btree_to_linkedlist(btree):\n",
    "    \n",
    "    if btree is None:\n",
    "        return []\n",
    "    \n",
    "    # initialize: \n",
    "    # returnlist = the result to return\n",
    "    # queue tracks nodes at each depth\n",
    "    l = LinkedList()\n",
    "    l.addNode(btree.content)\n",
    "    returnlist = [l]\n",
    "    print(\"returnlist is {}\".format(returnlist))\n",
    "    queue = [btree]\n",
    "    print(\"queue is {}\".format(queue))\n",
    "    \n",
    "    # continue while there is a queue (a node)\n",
    "    while len(queue) > 0:\n",
    "        # initialize\n",
    "        new_queue = []\n",
    "        l = LinkedList()\n",
    "        l.addNode(0) # add dummy node\n",
    "        # iterate all child nodes and store nodes NOT their contents\n",
    "        for node in queue:\n",
    "            if node.left is not None:\n",
    "                new_queue.append(node.left)\n",
    "                l.addNode(node.left.content)\n",
    "            if node.right is not None:\n",
    "                new_queue.append(node.right)\n",
    "                l.addNode(node.right.content)\n",
    "        # update the queue to \n",
    "        queue = new_queue\n",
    "        \n",
    "        # break if there is no node\n",
    "        if len(queue) == 0:\n",
    "            break\n",
    "        \n",
    "        # remove dummy head\n",
    "        l.head = l.head.next\n",
    "        returnlist.append(l)\n",
    "    return returnlist"
   ]
  },
  {
   "cell_type": "code",
   "execution_count": 57,
   "metadata": {},
   "outputs": [
    {
     "name": "stdout",
     "output_type": "stream",
     "text": [
      "returnlist is [<__main__.LinkedList object at 0x00000230D811DDA0>]\n",
      "queue is [<__main__.BinaryTree object at 0x00000230D804E128>]\n",
      "layer 0 is 46\n",
      "layer 1 is 79->21\n",
      "layer 2 is 89->16->51->35\n"
     ]
    }
   ],
   "source": [
    "for i, item in enumerate(btree_to_linkedlist(b)):\n",
    "    print (\"layer {} is {}\".format(i, item))"
   ]
  }
 ],
 "metadata": {
  "kernelspec": {
   "display_name": "Python 3",
   "language": "python",
   "name": "python3"
  },
  "language_info": {
   "codemirror_mode": {
    "name": "ipython",
    "version": 3
   },
   "file_extension": ".py",
   "mimetype": "text/x-python",
   "name": "python",
   "nbconvert_exporter": "python",
   "pygments_lexer": "ipython3",
   "version": "3.6.0"
  }
 },
 "nbformat": 4,
 "nbformat_minor": 2
}
