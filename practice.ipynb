{
 "cells": [
  {
   "cell_type": "code",
   "execution_count": null,
   "metadata": {
    "collapsed": true
   },
   "outputs": [],
   "source": []
  },
  {
   "cell_type": "code",
   "execution_count": 1,
   "metadata": {},
   "outputs": [
    {
     "name": "stdout",
     "output_type": "stream",
     "text": [
      "(20 ( (8 ( (6 ( (2 ( None | None)) | (7 ( None | None)))) | (10 ( None | None)))) | (22 ( (15 ( None | None)) | (30 ( None | None))))))\n"
     ]
    }
   ],
   "source": [
    "import random\n",
    "\n",
    "class BinaryTree:\n",
    "    def __init__(self, content):\n",
    "        self.content = content\n",
    "        self.left = None\n",
    "        self.right = None\n",
    "        \n",
    "        self.depth = -1\n",
    "        \n",
    "    def __str__(self):\n",
    "        return \"(\" + str(self.content) + \" ( \" + str(self.left) + \" | \"  \\\n",
    "    + str(self.right) + \"))\"\n",
    "    \n",
    "b = BinaryTree(20)\n",
    "b.left = BinaryTree(8)\n",
    "b.left.left = BinaryTree(6)\n",
    "b.left.left.left = BinaryTree(2)\n",
    "b.left.left.right = BinaryTree(7)\n",
    "b.left.right = BinaryTree(10)\n",
    "b.right = BinaryTree(22)\n",
    "b.right.left = BinaryTree(15)\n",
    "b.right.right = BinaryTree(30)\n",
    "\n",
    "print(b)                               "
   ]
  },
  {
   "cell_type": "code",
   "execution_count": 8,
   "metadata": {
    "collapsed": true
   },
   "outputs": [],
   "source": [
    "def check(rootnode, node):\n",
    "    # base case\n",
    "    if rootnode == None:\n",
    "        return False\n",
    "    if rootnode == node:\n",
    "        return True\n",
    "    \n",
    "    # recursive\n",
    "    left = check(rootnode.left, node)\n",
    "    right = check(rootnode.right, node)\n",
    "    \n",
    "    return left or right"
   ]
  },
  {
   "cell_type": "code",
   "execution_count": 10,
   "metadata": {},
   "outputs": [
    {
     "data": {
      "text/plain": [
       "True"
      ]
     },
     "execution_count": 10,
     "metadata": {},
     "output_type": "execute_result"
    }
   ],
   "source": [
    "check(b, b.right.right)"
   ]
  },
  {
   "cell_type": "code",
   "execution_count": null,
   "metadata": {
    "collapsed": true
   },
   "outputs": [],
   "source": [
    "def findAncestor(rootnode, node1, node2):\n",
    "    \n",
    "    # base case\n",
    "    if rootnode == None:\n",
    "        return None\n",
    "    \n",
    "    # case1: either node1 or node2 == rootnode\n",
    "    if rootnode == node1:\n",
    "        if check(rootnode, node2):\n",
    "            return node1.content\n",
    "        else:\n",
    "            return None\n",
    "    if rootnode == node2:\n",
    "        if check(rootnode, node2):\n",
    "            return node1.content\n",
    "        else:\n",
    "            return None\n",
    "    \n",
    "    # \n",
    "    check(rootnode.left, node1)\n",
    "    check(rootnode.right, node2)\n",
    "    "
   ]
  }
 ],
 "metadata": {
  "kernelspec": {
   "display_name": "Python 3",
   "language": "python",
   "name": "python3"
  },
  "language_info": {
   "codemirror_mode": {
    "name": "ipython",
    "version": 3
   },
   "file_extension": ".py",
   "mimetype": "text/x-python",
   "name": "python",
   "nbconvert_exporter": "python",
   "pygments_lexer": "ipython3",
   "version": "3.6.0"
  }
 },
 "nbformat": 4,
 "nbformat_minor": 2
}
