{
 "cells": [
  {
   "cell_type": "code",
   "execution_count": 62,
   "metadata": {},
   "outputs": [],
   "source": [
    "# create two class: a node and a linkedlist\n",
    "class Node():\n",
    "    \n",
    "    def __init__(self):\n",
    "        self.data = None\n",
    "        self.next = None\n",
    "    \n",
    "class LinkedList():\n",
    "    \n",
    "    def __init__(self):\n",
    "        self.head = None\n",
    "        self.tail = None\n",
    "        \n",
    "    def add(self, item):\n",
    "        \n",
    "        if self.head == None:\n",
    "            self.head = Node() # create a node\n",
    "            self.head.data = item # put the item in the node\n",
    "            self.tail = self.head\n",
    "            \n",
    "        else:\n",
    "            n = Node() # create a node\n",
    "            n.data = item # put the item in the node\n",
    "            \n",
    "            # connect new node to the tail\n",
    "            self.tail.next = n\n",
    "            self.tail = n\n",
    "            \n",
    "    def size(self):\n",
    "        current = self.head\n",
    "        count = 0\n",
    "        while current != None:\n",
    "            # traverse nodes and increment count\n",
    "            count += 1\n",
    "            current = current.next\n",
    "            \n",
    "        return count\n",
    "    \n",
    "    def search(self, item):\n",
    "        current = self.head\n",
    "        found = False\n",
    "        while current != None and not found:\n",
    "            print (current.data)\n",
    "            if current.data == item:\n",
    "                found = True\n",
    "            current = current.next\n",
    "        \n",
    "        return found\n",
    "    \n",
    "    def __str__(self):\n",
    "        current = self.head\n",
    "        result = []\n",
    "        while current != None:\n",
    "            result.append(str(current.data))\n",
    "            current = current.next\n",
    "        \n",
    "        return \"->\".join(result)\n",
    "                \n",
    "    def remove(self, item):\n",
    "        current = self.head\n",
    "        previous = None\n",
    "        found = False\n",
    "        \n",
    "        while current != None and not found:\n",
    "            # special case the item is at self.head\n",
    "            if self.head.data == item:\n",
    "                found = True\n",
    "                self.head = self.head.next\n",
    "                \n",
    "            elif current.data == item:\n",
    "                found = True\n",
    "                previous.next = current.next\n",
    "            \n",
    "            previous = current\n",
    "            current = current.next\n",
    "               "
   ]
  },
  {
   "cell_type": "code",
   "execution_count": 73,
   "metadata": {
    "collapsed": true
   },
   "outputs": [],
   "source": [
    "l = LinkedList()\n",
    "import random\n",
    "for i in range(10):\n",
    "    l.add(random.randint(0, 20))"
   ]
  },
  {
   "cell_type": "code",
   "execution_count": 75,
   "metadata": {},
   "outputs": [
    {
     "data": {
      "text/plain": [
       "10"
      ]
     },
     "execution_count": 75,
     "metadata": {},
     "output_type": "execute_result"
    }
   ],
   "source": [
    "l.size()"
   ]
  },
  {
   "cell_type": "code",
   "execution_count": 76,
   "metadata": {
    "scrolled": true
   },
   "outputs": [
    {
     "name": "stdout",
     "output_type": "stream",
     "text": [
      "4->4->18->20->0->20->17->8->19->2\n"
     ]
    }
   ],
   "source": [
    "print (l)"
   ]
  },
  {
   "cell_type": "code",
   "execution_count": 77,
   "metadata": {},
   "outputs": [],
   "source": [
    "l.remove(20)"
   ]
  },
  {
   "cell_type": "code",
   "execution_count": 78,
   "metadata": {},
   "outputs": [
    {
     "name": "stdout",
     "output_type": "stream",
     "text": [
      "4->4->18->0->20->17->8->19->2\n"
     ]
    }
   ],
   "source": [
    "print (l)"
   ]
  }
 ],
 "metadata": {
  "kernelspec": {
   "display_name": "Python 3",
   "language": "python",
   "name": "python3"
  },
  "language_info": {
   "codemirror_mode": {
    "name": "ipython",
    "version": 3
   },
   "file_extension": ".py",
   "mimetype": "text/x-python",
   "name": "python",
   "nbconvert_exporter": "python",
   "pygments_lexer": "ipython3",
   "version": "3.6.0"
  }
 },
 "nbformat": 4,
 "nbformat_minor": 2
}
