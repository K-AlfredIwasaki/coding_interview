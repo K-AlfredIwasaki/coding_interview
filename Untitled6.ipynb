{
 "cells": [
  {
   "cell_type": "code",
   "execution_count": null,
   "metadata": {
    "collapsed": true
   },
   "outputs": [],
   "source": [
    "from collections import deque\n",
    "\n",
    "class Queue():\n",
    "    \n",
    "    def __init__(self):\n",
    "        self.stack1 = deque()\n",
    "        self.stack2 = deque()\n",
    "    \n",
    "    def enqueue(self, val):\n",
    "        self.stack1.append(val)\n",
    "        \n",
    "    def dequeue(self):\n",
    "        if len(self.stack2) == 0:\n",
    "            self.stack2.append(self.stack1.pop())\n",
    "            return self.stack2.pop()\n",
    "        \n",
    "        elif len(self.stack2) == 0 and len(self.stack1) == 0:\n",
    "            return -1\n",
    "        \n",
    "        else:\n",
    "            return self.stack2.pop()\n",
    "        \n",
    "\n",
    "def implement_queue(operations):\n",
    "    \n",
    "    q = Queue()\n",
    "    current = operations\n",
    "    while current != None:\n",
    "        if current.val < 0:\n",
    "            print(q.dequeue())\n",
    "            \n",
    "        else:\n",
    "            q.enqueue(current.val)\n",
    "            \n",
    "        current = current.next\n",
    "    "
   ]
  }
 ],
 "metadata": {
  "kernelspec": {
   "display_name": "Python 3",
   "language": "python",
   "name": "python3"
  },
  "language_info": {
   "codemirror_mode": {
    "name": "ipython",
    "version": 3
   },
   "file_extension": ".py",
   "mimetype": "text/x-python",
   "name": "python",
   "nbconvert_exporter": "python",
   "pygments_lexer": "ipython3",
   "version": "3.6.0"
  }
 },
 "nbformat": 4,
 "nbformat_minor": 2
}
