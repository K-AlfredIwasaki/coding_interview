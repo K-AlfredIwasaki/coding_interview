{
 "cells": [
  {
   "cell_type": "code",
   "execution_count": 15,
   "metadata": {},
   "outputs": [
    {
     "data": {
      "text/plain": [
       "[3, 5, 5, 5, 12, 25, 28, 28, 42, 50]"
      ]
     },
     "execution_count": 15,
     "metadata": {},
     "output_type": "execute_result"
    }
   ],
   "source": [
    "from random import randint\n",
    "t = sorted([randint(0, 50) for i in range(5)])\n",
    "t.append(5)\n",
    "t.append(5)\n",
    "t.append(5)\n",
    "t.append(28)\n",
    "t.append(28)\n",
    "t = sorted(t)\n",
    "t"
   ]
  },
  {
   "cell_type": "code",
   "execution_count": 48,
   "metadata": {
    "collapsed": true
   },
   "outputs": [],
   "source": [
    "def find_low_index(arr, target):\n",
    "    start = 0\n",
    "    end = len(arr) - 1\n",
    "    mid = end // 2\n",
    "    found = False\n",
    "    \n",
    "    while start <= end and not found:\n",
    "        print (start, end)\n",
    "        \n",
    "        if target <= arr[mid]:\n",
    "            end = mid - 1\n",
    "                \n",
    "        else:\n",
    "            start = mid + 1\n",
    "        \n",
    "        mid = start + (end - start) // 2\n",
    "    \n",
    "    if arr[start] == target: \n",
    "        return start"
   ]
  },
  {
   "cell_type": "code",
   "execution_count": 49,
   "metadata": {},
   "outputs": [
    {
     "name": "stdout",
     "output_type": "stream",
     "text": [
      "0 9\n",
      "0 3\n",
      "0 0\n"
     ]
    },
    {
     "data": {
      "text/plain": [
       "1"
      ]
     },
     "execution_count": 49,
     "metadata": {},
     "output_type": "execute_result"
    }
   ],
   "source": [
    "find_low_index(t, 5)"
   ]
  },
  {
   "cell_type": "code",
   "execution_count": 16,
   "metadata": {
    "collapsed": true
   },
   "outputs": [],
   "source": [
    "# brute force\n",
    "\n",
    "def find_low_high(arr, target):\n",
    "    start = 0\n",
    "    end = len(arr) - 1\n",
    "    found = False\n",
    "    \n",
    "    while start <= end and not found:\n",
    "        mid = (start + end) // 2\n",
    "        if arr[mid] == target:\n",
    "            found = True\n",
    "        else:\n",
    "            if target < arr[mid]:\n",
    "                end = mid - 1\n",
    "                \n",
    "            else:\n",
    "                start = mid + 1\n",
    "                \n",
    "    if not found:\n",
    "        return -1\n",
    "    \n",
    "    # check left and right\n",
    "    right = mid\n",
    "    left = mid\n",
    "\n",
    "    while right <= len(arr) - 1:\n",
    "        if arr[right+1] == target:\n",
    "            right += 1\n",
    "        else:\n",
    "            break\n",
    "            \n",
    "    while left >= 0:\n",
    "        if arr[left-1] == target:\n",
    "            left += -1\n",
    "        else:\n",
    "            break\n",
    "            \n",
    "    return (left, right)"
   ]
  },
  {
   "cell_type": "code",
   "execution_count": 18,
   "metadata": {},
   "outputs": [
    {
     "data": {
      "text/plain": [
       "(6, 7)"
      ]
     },
     "execution_count": 18,
     "metadata": {},
     "output_type": "execute_result"
    }
   ],
   "source": [
    "find_low_high(t, 28)"
   ]
  }
 ],
 "metadata": {
  "kernelspec": {
   "display_name": "Python 3",
   "language": "python",
   "name": "python3"
  },
  "language_info": {
   "codemirror_mode": {
    "name": "ipython",
    "version": 3
   },
   "file_extension": ".py",
   "mimetype": "text/x-python",
   "name": "python",
   "nbconvert_exporter": "python",
   "pygments_lexer": "ipython3",
   "version": "3.6.0"
  }
 },
 "nbformat": 4,
 "nbformat_minor": 2
}
