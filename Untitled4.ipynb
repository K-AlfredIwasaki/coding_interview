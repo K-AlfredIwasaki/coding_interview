{
 "cells": [
  {
   "cell_type": "code",
   "execution_count": 41,
   "metadata": {
    "collapsed": true
   },
   "outputs": [],
   "source": [
    "def integer_division(dividend, divisor):\n",
    "    if dividend == divisor:\n",
    "        return 1\n",
    "    if dividend < divisor:\n",
    "        return None\n",
    "    if divisor == 1:\n",
    "        return dividend\n",
    "    \n",
    "    temp = divisor\n",
    "    quotient = 1\n",
    "    \n",
    "    while temp < dividend:\n",
    "        temp <<= 1\n",
    "        quotient <<= 1\n",
    "        \n",
    "    if temp == dividend:\n",
    "        return quotient\n",
    "    \n",
    "    else:\n",
    "        temp >>= 1\n",
    "        quotient >>= 1\n",
    "        return quotient + integer_division(dividend - temp, divisor)"
   ]
  },
  {
   "cell_type": "code",
   "execution_count": 45,
   "metadata": {
    "scrolled": false
   },
   "outputs": [
    {
     "ename": "TypeError",
     "evalue": "unsupported operand type(s) for +: 'int' and 'NoneType'",
     "output_type": "error",
     "traceback": [
      "\u001b[0;31m---------------------------------------------------------------------------\u001b[0m",
      "\u001b[0;31mTypeError\u001b[0m                                 Traceback (most recent call last)",
      "\u001b[0;32m<ipython-input-45-13880bdfaff6>\u001b[0m in \u001b[0;36m<module>\u001b[0;34m()\u001b[0m\n\u001b[0;32m----> 1\u001b[0;31m \u001b[0minteger_division\u001b[0m\u001b[1;33m(\u001b[0m\u001b[1;36m55\u001b[0m\u001b[1;33m,\u001b[0m \u001b[1;36m4\u001b[0m\u001b[1;33m)\u001b[0m\u001b[1;33m\u001b[0m\u001b[0m\n\u001b[0m",
      "\u001b[0;32m<ipython-input-41-42d713fd3ec4>\u001b[0m in \u001b[0;36minteger_division\u001b[0;34m(dividend, divisor)\u001b[0m\n\u001b[1;32m     20\u001b[0m         \u001b[0mtemp\u001b[0m \u001b[1;33m>>=\u001b[0m \u001b[1;36m1\u001b[0m\u001b[1;33m\u001b[0m\u001b[0m\n\u001b[1;32m     21\u001b[0m         \u001b[0mquotient\u001b[0m \u001b[1;33m>>=\u001b[0m \u001b[1;36m1\u001b[0m\u001b[1;33m\u001b[0m\u001b[0m\n\u001b[0;32m---> 22\u001b[0;31m         \u001b[1;32mreturn\u001b[0m \u001b[0mquotient\u001b[0m \u001b[1;33m+\u001b[0m \u001b[0minteger_division\u001b[0m\u001b[1;33m(\u001b[0m\u001b[0mdividend\u001b[0m \u001b[1;33m-\u001b[0m \u001b[0mtemp\u001b[0m\u001b[1;33m,\u001b[0m \u001b[0mdivisor\u001b[0m\u001b[1;33m)\u001b[0m\u001b[1;33m\u001b[0m\u001b[0m\n\u001b[0m",
      "\u001b[0;32m<ipython-input-41-42d713fd3ec4>\u001b[0m in \u001b[0;36minteger_division\u001b[0;34m(dividend, divisor)\u001b[0m\n\u001b[1;32m     20\u001b[0m         \u001b[0mtemp\u001b[0m \u001b[1;33m>>=\u001b[0m \u001b[1;36m1\u001b[0m\u001b[1;33m\u001b[0m\u001b[0m\n\u001b[1;32m     21\u001b[0m         \u001b[0mquotient\u001b[0m \u001b[1;33m>>=\u001b[0m \u001b[1;36m1\u001b[0m\u001b[1;33m\u001b[0m\u001b[0m\n\u001b[0;32m---> 22\u001b[0;31m         \u001b[1;32mreturn\u001b[0m \u001b[0mquotient\u001b[0m \u001b[1;33m+\u001b[0m \u001b[0minteger_division\u001b[0m\u001b[1;33m(\u001b[0m\u001b[0mdividend\u001b[0m \u001b[1;33m-\u001b[0m \u001b[0mtemp\u001b[0m\u001b[1;33m,\u001b[0m \u001b[0mdivisor\u001b[0m\u001b[1;33m)\u001b[0m\u001b[1;33m\u001b[0m\u001b[0m\n\u001b[0m",
      "\u001b[0;32m<ipython-input-41-42d713fd3ec4>\u001b[0m in \u001b[0;36minteger_division\u001b[0;34m(dividend, divisor)\u001b[0m\n\u001b[1;32m     20\u001b[0m         \u001b[0mtemp\u001b[0m \u001b[1;33m>>=\u001b[0m \u001b[1;36m1\u001b[0m\u001b[1;33m\u001b[0m\u001b[0m\n\u001b[1;32m     21\u001b[0m         \u001b[0mquotient\u001b[0m \u001b[1;33m>>=\u001b[0m \u001b[1;36m1\u001b[0m\u001b[1;33m\u001b[0m\u001b[0m\n\u001b[0;32m---> 22\u001b[0;31m         \u001b[1;32mreturn\u001b[0m \u001b[0mquotient\u001b[0m \u001b[1;33m+\u001b[0m \u001b[0minteger_division\u001b[0m\u001b[1;33m(\u001b[0m\u001b[0mdividend\u001b[0m \u001b[1;33m-\u001b[0m \u001b[0mtemp\u001b[0m\u001b[1;33m,\u001b[0m \u001b[0mdivisor\u001b[0m\u001b[1;33m)\u001b[0m\u001b[1;33m\u001b[0m\u001b[0m\n\u001b[0m",
      "\u001b[0;31mTypeError\u001b[0m: unsupported operand type(s) for +: 'int' and 'NoneType'"
     ]
    }
   ],
   "source": [
    "integer_division(55, 4)"
   ]
  }
 ],
 "metadata": {
  "kernelspec": {
   "display_name": "Python 3",
   "language": "python",
   "name": "python3"
  },
  "language_info": {
   "codemirror_mode": {
    "name": "ipython",
    "version": 3
   },
   "file_extension": ".py",
   "mimetype": "text/x-python",
   "name": "python",
   "nbconvert_exporter": "python",
   "pygments_lexer": "ipython3",
   "version": "3.6.0"
  }
 },
 "nbformat": 4,
 "nbformat_minor": 2
}
