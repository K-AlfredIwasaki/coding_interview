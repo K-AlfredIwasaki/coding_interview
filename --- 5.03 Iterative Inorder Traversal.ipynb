{
 "cells": [
  {
   "cell_type": "code",
   "execution_count": 1,
   "metadata": {
    "collapsed": true
   },
   "outputs": [],
   "source": [
    "from collections import deque\n",
    "from data_structure.binary_tree import *\n",
    "\n",
    "b = BinaryTree(100)\n",
    "b.left = BinaryTree(50)\n",
    "b.left.left = BinaryTree(25)\n",
    "b.left.right = BinaryTree(75)\n",
    "b.left.left.right = BinaryTree(35)\n",
    "b.right = BinaryTree(200)"
   ]
  },
  {
   "cell_type": "code",
   "execution_count": 1,
   "metadata": {
    "collapsed": true
   },
   "outputs": [],
   "source": [
    "def inorder_iterative(root):\n",
    "    if root == None:\n",
    "        return\n",
    "    \n",
    "    stk = deque()\n",
    "    count = 0\n",
    "    \n",
    "    while (len(stk) != 0 or root != None): ############ IMPORTANT\n",
    "        print (\"test\")\n",
    "        if root != None:\n",
    "            stk.append(root)\n",
    "            root = root.left\n",
    "            continue\n",
    "            \n",
    "        print (stk[-1].content)\n",
    "        root = stk[-1].right\n",
    "        stk.pop()\n",
    "    "
   ]
  },
  {
   "cell_type": "code",
   "execution_count": 5,
   "metadata": {},
   "outputs": [
    {
     "name": "stdout",
     "output_type": "stream",
     "text": [
      "test\n",
      "test\n",
      "test\n",
      "test\n",
      "25\n",
      "test\n",
      "test\n",
      "35\n",
      "test\n",
      "50\n",
      "test\n",
      "test\n",
      "75\n",
      "test\n",
      "100\n",
      "test\n",
      "test\n",
      "200\n"
     ]
    }
   ],
   "source": [
    "inorder_iterative(b)"
   ]
  }
 ],
 "metadata": {
  "kernelspec": {
   "display_name": "Python 3",
   "language": "python",
   "name": "python3"
  },
  "language_info": {
   "codemirror_mode": {
    "name": "ipython",
    "version": 3
   },
   "file_extension": ".py",
   "mimetype": "text/x-python",
   "name": "python",
   "nbconvert_exporter": "python",
   "pygments_lexer": "ipython3",
   "version": "3.6.0"
  }
 },
 "nbformat": 4,
 "nbformat_minor": 2
}
