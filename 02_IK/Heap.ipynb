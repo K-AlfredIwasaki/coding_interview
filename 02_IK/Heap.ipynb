{
 "cells": [
  {
   "cell_type": "markdown",
   "metadata": {},
   "source": [
    "Two properties\n",
    "1. parent < children\n",
    "2. Left-balanced binary tree --- A balanced binary tree where the left sub-tree of each node is filled before the right sub-tree\n",
    "\n",
    "\n",
    "Because the tree is complete, the left child of a parent (at position p) is the node that is found in position 2p in the list. Similarly, the right child of the parent is at position 2p+1 in the list. "
   ]
  },
  {
   "cell_type": "markdown",
   "metadata": {},
   "source": [
    "http://interactivepython.org/runestone/static/pythonds/Trees/BinaryHeapImplementation.html"
   ]
  },
  {
   "cell_type": "code",
   "execution_count": 4,
   "metadata": {
    "collapsed": true
   },
   "outputs": [],
   "source": [
    "class Heap:\n",
    "    \n",
    "    def __init__(self):\n",
    "        self.heapList = [0]\n",
    "        self.currentSize = 0\n",
    "        \n",
    "    def insert(self, k): # time O(h = long(n))\n",
    "        \"\"\"\n",
    "        1. append k to the tail\n",
    "        2. percUp\n",
    "        \"\"\"\n",
    "        \n",
    "        self.heapList.append(k)\n",
    "        self.currentSize += 1\n",
    "        self.percUp(self.currentSize)\n",
    "        \n",
    "    def percUp(self, i):\n",
    "        \n",
    "        while i // 2 > 0:\n",
    "            if self.heapList[i] < self.heapList[i // 2]:\n",
    "                self.heapList[i], self.heapList[i // 2] = self.heapList[i // 2], self.heapList[i]\n",
    "                \n",
    "            i = i // 2\n",
    "            \n",
    "    def delMin(self): # time O(h = long(n))\n",
    "        \"\"\"\n",
    "        1. move the min at heapList[1] to the tail and delete(pop) it\n",
    "        2. percDown(1)\n",
    "        3. return min\n",
    "        \"\"\"\n",
    "        \n",
    "        retval = self.heapList[1]\n",
    "        \n",
    "        self.heapList[1] = self.heapList[self.currentSize]\n",
    "        self.currentSize -= 1\n",
    "        self.heapList.pop()\n",
    "        self.percDown(1)\n",
    "        \n",
    "        return retval\n",
    "    \n",
    "    def percDown(self, i):\n",
    "        while (i * 2) <= self.currentSize:\n",
    "            mc = self.mindChild(i)\n",
    "            if self.heapList[i] > self.heapList[mc]:\n",
    "                self.heapList[i], self.heapList[mc] = self.heapList[mc], self.heapList[i]\n",
    "                \n",
    "            i = mc\n",
    "    \n",
    "    def minChild(self, i):\n",
    "        # if it has only a left child\n",
    "        if i * 2 + 1 > self.currentSize:\n",
    "            return i * 2\n",
    "        \n",
    "        # if it has both a left and a right child\n",
    "        # return the smaller one\n",
    "        else:\n",
    "            if self.heapList[i*2] < self.heapList[i*2+1]:\n",
    "                return i * 2\n",
    "            \n",
    "            else:\n",
    "                return i * 2 + 1    \n",
    "            \n",
    "    def buildHeap(self, alist):\n",
    "        i = len(alist) // 2 # a parent of a leaf node\n",
    "        self.currentSize = len(alist)\n",
    "        self.heapList = [0] + alist\n",
    "        \n",
    "        while i > 0:\n",
    "            self.percDown(i)\n",
    "            i -= 1\n",
    "            \n",
    "    def heapSort(self, alist):\n",
    "        h = self.buildHeap(alist)\n",
    "        \n",
    "        # delete add min to the list by for loop\n",
    "        # you get a sorted list\n",
    "            "
   ]
  }
 ],
 "metadata": {
  "kernelspec": {
   "display_name": "Python 3",
   "language": "python",
   "name": "python3"
  },
  "language_info": {
   "codemirror_mode": {
    "name": "ipython",
    "version": 3
   },
   "file_extension": ".py",
   "mimetype": "text/x-python",
   "name": "python",
   "nbconvert_exporter": "python",
   "pygments_lexer": "ipython3",
   "version": "3.6.0"
  }
 },
 "nbformat": 4,
 "nbformat_minor": 2
}
