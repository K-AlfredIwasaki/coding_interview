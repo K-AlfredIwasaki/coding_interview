{
 "cells": [
  {
   "cell_type": "code",
   "execution_count": 79,
   "metadata": {
    "collapsed": true
   },
   "outputs": [],
   "source": [
    "def pow_rec(x, k):\n",
    "    # base\n",
    "    if k == 1:\n",
    "        return x\n",
    "    if k == -1:\n",
    "        return 1/x\n",
    "    \n",
    "    # recursion\n",
    "    part = pow(x, k // 2) ######## IMPORTANT\n",
    "    result = None\n",
    "    if k % 2 == 0:\n",
    "        result = part * part\n",
    "    else:\n",
    "        result = x * part * part\n",
    "        \n",
    "    return result\n",
    "\n",
    "def pow(x, k):\n",
    "    if k < 0:\n",
    "        return 1 / pow_rec(x, -k) ### IMPORTANT\n",
    "    else:\n",
    "        return pow_rec(x, k)\n",
    "    "
   ]
  },
  {
   "cell_type": "code",
   "execution_count": 78,
   "metadata": {
    "scrolled": true
   },
   "outputs": [
    {
     "data": {
      "text/plain": [
       "0.03125"
      ]
     },
     "execution_count": 78,
     "metadata": {},
     "output_type": "execute_result"
    }
   ],
   "source": [
    "pow(2, -5)"
   ]
  },
  {
   "cell_type": "code",
   "execution_count": 77,
   "metadata": {},
   "outputs": [
    {
     "data": {
      "text/plain": [
       "0.03125"
      ]
     },
     "execution_count": 77,
     "metadata": {},
     "output_type": "execute_result"
    }
   ],
   "source": [
    "pow(2, -5)"
   ]
  },
  {
   "cell_type": "markdown",
   "metadata": {},
   "source": [
    "pow(x, n)\n",
    "\n",
    "Time complexity: O(long n) --- number of nodes in the execution tree\n",
    "\n",
    "Memory complexity: O(log n) --- height of the exeuction tree"
   ]
  }
 ],
 "metadata": {
  "kernelspec": {
   "display_name": "Python 3",
   "language": "python",
   "name": "python3"
  },
  "language_info": {
   "codemirror_mode": {
    "name": "ipython",
    "version": 3
   },
   "file_extension": ".py",
   "mimetype": "text/x-python",
   "name": "python",
   "nbconvert_exporter": "python",
   "pygments_lexer": "ipython3",
   "version": "3.6.0"
  }
 },
 "nbformat": 4,
 "nbformat_minor": 2
}
