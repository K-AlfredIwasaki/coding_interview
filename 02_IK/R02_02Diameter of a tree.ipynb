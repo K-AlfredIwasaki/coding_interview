{
 "cells": [
  {
   "cell_type": "code",
   "execution_count": 29,
   "metadata": {
    "collapsed": true
   },
   "outputs": [],
   "source": [
    "from data_structure.binary_tree import *\n",
    "\n",
    "b = BinaryTree(\"a\")\n",
    "b.left = BinaryTree(\"b\")\n",
    "b.left.left = BinaryTree(\"c\")\n",
    "b.left.left.left = BinaryTree(\"d\")\n",
    "b.left.left.right = BinaryTree(\"e\")\n",
    "b.left.right = BinaryTree(\"f\")\n",
    "b.left.right.left = BinaryTree(\"g\")\n",
    "b.left.right.left.left = BinaryTree(\"h\")\n",
    "b.left.right.left.left.left = BinaryTree(\"i\")\n",
    "b.left.right.left.left.left.left = BinaryTree(\"0\")\n",
    "b.left.right.left.left.left.left.left = BinaryTree(\"0\")\n",
    "b.left.right.left.right = BinaryTree(\"k\")\n",
    "b.left.right.right = BinaryTree(\"l\")\n",
    "b.left.right.right.right = BinaryTree(\"m\")\n",
    "b.left.right.right.right.right = BinaryTree(\"0\")\n",
    "b.left.right.right.right.right.left = BinaryTree(\"0\")\n",
    "b.left.right.right.right.right.left.left = BinaryTree(\"0\")\n",
    "b.right = BinaryTree(\"n\")"
   ]
  },
  {
   "cell_type": "code",
   "execution_count": 31,
   "metadata": {
    "collapsed": true
   },
   "outputs": [],
   "source": [
    "def diameter_rec(node):\n",
    "    # base\n",
    "    if node == None:\n",
    "        return 0, 0 # height, diam\n",
    "    \n",
    "    # recursion\n",
    "    left_height, left_diam = diameter_rec(node.left)\n",
    "    right_height, right_diam = diameter_rec(node.right)\n",
    "    current_diam = left_height + 1 + right_height\n",
    "    current_height = max(left_height, right_height) + 1\n",
    "    \n",
    "    return current_height, max(current_diam, left_diam, right_diam)\n",
    "        \n",
    "def diam(root):\n",
    "    \n",
    "    return diameter_rec(root)[1]\n",
    "    "
   ]
  },
  {
   "cell_type": "code",
   "execution_count": 32,
   "metadata": {
    "scrolled": true
   },
   "outputs": [
    {
     "data": {
      "text/plain": [
       "11"
      ]
     },
     "execution_count": 32,
     "metadata": {},
     "output_type": "execute_result"
    }
   ],
   "source": [
    "diam(b)"
   ]
  },
  {
   "cell_type": "markdown",
   "metadata": {},
   "source": [
    "Time complexity O(n): Number of nodes in the tree\n",
    "\n",
    "Space compexility O(h): Height of the tree"
   ]
  }
 ],
 "metadata": {
  "kernelspec": {
   "display_name": "Python 3",
   "language": "python",
   "name": "python3"
  },
  "language_info": {
   "codemirror_mode": {
    "name": "ipython",
    "version": 3
   },
   "file_extension": ".py",
   "mimetype": "text/x-python",
   "name": "python",
   "nbconvert_exporter": "python",
   "pygments_lexer": "ipython3",
   "version": "3.6.0"
  }
 },
 "nbformat": 4,
 "nbformat_minor": 2
}
