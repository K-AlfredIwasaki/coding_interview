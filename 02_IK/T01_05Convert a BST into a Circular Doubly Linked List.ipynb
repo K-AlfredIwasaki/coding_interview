{
 "cells": [
  {
   "cell_type": "code",
   "execution_count": 1,
   "metadata": {
    "collapsed": true
   },
   "outputs": [],
   "source": [
    "# join two list nodes so the second imeediately follow the first\n",
    "def join(node1, node2):\n",
    "    \n",
    "    node1.right = node2\n",
    "    node2.left = node1\n",
    "    \n",
    "\n",
    "# given two circular doubly linked lists, append them and return the new list\n",
    "def concatenate_lists(head1, head2):\n",
    "    \n",
    "    if head1 == None:\n",
    "        return head2\n",
    "    \n",
    "    if head2 == None:\n",
    "        return head1\n",
    "    \n",
    "    # left for previous\n",
    "    # right for next\n",
    "    tail1 = head1.left\n",
    "    tail2 = head2.left\n",
    "    \n",
    "    join(tail1, head2)\n",
    "    join(tail2, head1)\n",
    "    \n",
    "    return head1\n",
    "\n",
    "def convert_to_linked_list(root):\n",
    "    # base\n",
    "    if root == None:\n",
    "        return None\n",
    "    \n",
    "    # recursive\n",
    "    # generate two lists\n",
    "    list1 = convert_to_linked_list(root.left)\n",
    "    list2 = convert_to_linked_list(root.right)\n",
    "    \n",
    "    # make the single root node into a list length -1\n",
    "    root.left = root\n",
    "    root.right = root\n",
    "    \n",
    "    # append three lists (list1, root, list2) in the right order\n",
    "    result = concatenate_lists(list1, root)\n",
    "    result = concatenate_lists(result, list2)\n",
    "    \n",
    "    return result"
   ]
  },
  {
   "cell_type": "markdown",
   "metadata": {},
   "source": [
    "http://cslibrary.stanford.edu/109/TreeListRecursion.html"
   ]
  },
  {
   "cell_type": "markdown",
   "metadata": {},
   "source": [
    "Time complexity: O(n) based on the number of nodes in the tree\n",
    "\n",
    "Space complexity: O(h) = O(longn) for the balanced tree, = O(n) for the worst case"
   ]
  }
 ],
 "metadata": {
  "kernelspec": {
   "display_name": "Python 3",
   "language": "python",
   "name": "python3"
  },
  "language_info": {
   "codemirror_mode": {
    "name": "ipython",
    "version": 3
   },
   "file_extension": ".py",
   "mimetype": "text/x-python",
   "name": "python",
   "nbconvert_exporter": "python",
   "pygments_lexer": "ipython3",
   "version": "3.6.0"
  }
 },
 "nbformat": 4,
 "nbformat_minor": 2
}
