{
 "cells": [
  {
   "cell_type": "code",
   "execution_count": 8,
   "metadata": {
    "collapsed": true
   },
   "outputs": [],
   "source": [
    "from data_structure.binary_tree import *\n",
    "\n",
    "b = BinaryTree(\"1\")\n",
    "b.left = BinaryTree(\"2\")\n",
    "b.left.left = BinaryTree(\"4\")\n",
    "b.left.right = BinaryTree(\"5\")\n",
    "b.left.right.left = BinaryTree(\"6\")\n",
    "b.right = BinaryTree(\"3\")\n",
    "b.right.right = BinaryTree(\"7\")\n",
    "b.right.right.right = BinaryTree(\"8\")"
   ]
  },
  {
   "cell_type": "code",
   "execution_count": 2,
   "metadata": {
    "collapsed": true
   },
   "outputs": [],
   "source": [
    "from collections import deque\n",
    "def postorder(root):\n",
    "    if root == None:\n",
    "        return root\n",
    "    \n",
    "    s1 = deque()\n",
    "    s2 = deque()\n",
    "    \n",
    "    s1.append(root)\n",
    "    \n",
    "    while s1:\n",
    "        current = s1.pop()\n",
    "        s2.append(current)\n",
    "        \n",
    "        if current.left:\n",
    "            s1.append(current.left)\n",
    "            \n",
    "        if current.right:\n",
    "            s1.append(current.right)\n",
    "        \n",
    "    \n",
    "    while s2:\n",
    "        temp = s2.pop()\n",
    "        print(temp.content)\n",
    "    "
   ]
  },
  {
   "cell_type": "code",
   "execution_count": 3,
   "metadata": {
    "scrolled": true
   },
   "outputs": [
    {
     "name": "stdout",
     "output_type": "stream",
     "text": [
      "4\n",
      "6\n",
      "5\n",
      "2\n",
      "8\n",
      "7\n",
      "3\n",
      "1\n"
     ]
    }
   ],
   "source": [
    "postorder(b)"
   ]
  },
  {
   "cell_type": "code",
   "execution_count": 13,
   "metadata": {
    "collapsed": true
   },
   "outputs": [],
   "source": [
    "def postorder(root):\n",
    "    if root == None:\n",
    "        return root\n",
    "    \n",
    "    s = deque()\n",
    "    current = root\n",
    "    stop = False\n",
    "    \n",
    "    while not stop:\n",
    "        \n",
    "        if current:\n",
    "            s.append(current)\n",
    "            current = current.left\n",
    "            continue\n",
    "            \n",
    "        if s and s[-1].right:\n",
    "            temp = s[-1].right\n",
    "            current = temp\n",
    "            \n",
    "        elif s and s[-1].right == None:\n",
    "            temp = s.pop()\n",
    "            print(temp.content)\n",
    "            \n",
    "            while s and s[-1].right == temp:\n",
    "                temp = s.pop()\n",
    "                print(temp.content)\n",
    "                \n",
    "        else:\n",
    "            stop = True"
   ]
  },
  {
   "cell_type": "code",
   "execution_count": 14,
   "metadata": {},
   "outputs": [
    {
     "name": "stdout",
     "output_type": "stream",
     "text": [
      "4\n",
      "6\n",
      "5\n",
      "2\n",
      "8\n",
      "7\n",
      "3\n",
      "1\n"
     ]
    }
   ],
   "source": [
    "postorder(b)"
   ]
  }
 ],
 "metadata": {
  "kernelspec": {
   "display_name": "Python 3",
   "language": "python",
   "name": "python3"
  },
  "language_info": {
   "codemirror_mode": {
    "name": "ipython",
    "version": 3
   },
   "file_extension": ".py",
   "mimetype": "text/x-python",
   "name": "python",
   "nbconvert_exporter": "python",
   "pygments_lexer": "ipython3",
   "version": "3.6.0"
  }
 },
 "nbformat": 4,
 "nbformat_minor": 2
}
