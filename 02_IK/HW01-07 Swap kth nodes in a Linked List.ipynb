{
 "cells": [
  {
   "cell_type": "code",
   "execution_count": 14,
   "metadata": {
    "collapsed": true
   },
   "outputs": [],
   "source": [
    "from collections import deque\n",
    "\n",
    "def maxLenMatchingParen(string):\n",
    "    if len(string) == 0:\n",
    "        return 0\n",
    "    \n",
    "    s = deque()\n",
    "    current_max = 0\n",
    "    global_max = 0\n",
    "    \n",
    "    status_open = True\n",
    "    \n",
    "    for i in range(len(string)):\n",
    "        \n",
    "        if string[i] == \"(\":\n",
    "            if status_open:\n",
    "                s.append(string[i])\n",
    "            else:\n",
    "                while s:\n",
    "                    s.pop()\n",
    "                status_open = True\n",
    "                s.append(string[i])\n",
    "                       \n",
    "        else:\n",
    "            if s:\n",
    "                status_open = False\n",
    "                s.pop()\n",
    "                current_max += 2\n",
    "                if current_max > global_max:\n",
    "                    global_max = current_max\n",
    "                    \n",
    "            else:\n",
    "                current_max = 0\n",
    "    \n",
    "    return global_max\n",
    "    "
   ]
  },
  {
   "cell_type": "code",
   "execution_count": 16,
   "metadata": {},
   "outputs": [
    {
     "data": {
      "text/plain": [
       "6"
      ]
     },
     "execution_count": 16,
     "metadata": {},
     "output_type": "execute_result"
    }
   ],
   "source": [
    "maxLenMatchingParen(\"((((())(((()\")"
   ]
  },
  {
   "cell_type": "code",
   "execution_count": 15,
   "metadata": {},
   "outputs": [
    {
     "data": {
      "text/plain": [
       "6"
      ]
     },
     "execution_count": 15,
     "metadata": {},
     "output_type": "execute_result"
    }
   ],
   "source": [
    "maxLenMatchingParen(\"()(())\")"
   ]
  },
  {
   "cell_type": "markdown",
   "metadata": {},
   "source": [
    "In a given singly Linked List of length N, swap kth node from the beginning, with kth node from the end. WE are not swapping just the contents; we are swapping thenodes themselves. "
   ]
  },
  {
   "cell_type": "code",
   "execution_count": 111,
   "metadata": {
    "collapsed": true
   },
   "outputs": [],
   "source": [
    "import sys\n",
    "import os\n",
    "\n",
    "class LinkedListNode:\n",
    "    def __init__(self, node_value):\n",
    "        self.val = node_value\n",
    "        self.next = None\n",
    "\n",
    "def _insert_node_into_singlylinkedlist(head, tail, val):\n",
    "    if head == None:\n",
    "        head = LinkedListNode(val)\n",
    "        tail = head\n",
    "    else:\n",
    "        node = LinkedListNode(val)\n",
    "        tail.next = node\n",
    "        tail = tail.next\n",
    "    return tail"
   ]
  },
  {
   "cell_type": "code",
   "execution_count": 115,
   "metadata": {
    "collapsed": true
   },
   "outputs": [],
   "source": [
    "def swap(head ,prev1, node1, prev2, node2):\n",
    "    if node1 == None or node2 == None:\n",
    "        return\n",
    "    \n",
    "    # prev1 is null when node1 is the first node\n",
    "    if not prev1:\n",
    "        node2.next = node1.next\n",
    "        node1.next = None\n",
    "        prev2.next = node1\n",
    "        head = node2\n",
    "        \n",
    "    # prev2 is null when node2 is the first node\n",
    "    elif not prev2:\n",
    "        node1.next = node2.next\n",
    "        node2.next = None\n",
    "        prev1.next = node2\n",
    "        head = node1\n",
    "        \n",
    "    # symmetrical case: k == n-k\n",
    "    elif node1 == node2:\n",
    "        pass\n",
    "    \n",
    "    # other cases\n",
    "    else:\n",
    "        prev1.next = node2\n",
    "        prev2.next = node1\n",
    "        \n",
    "        temp = node2.next\n",
    "        node2.next = node1.next\n",
    "        node1.next = temp\n",
    "        \n",
    "    \n",
    "    return head\n",
    "\n",
    "def swapNodes(pList, iK):\n",
    "    if pList == None or iK <= 0:\n",
    "        return pList\n",
    "    \n",
    "    # move pointers to \n",
    "    # 1. nodes BEFORE kth node and n-kth node\n",
    "    # 2. kth node and n-kth node\n",
    "    \n",
    "    temp = pList\n",
    "    prev1, prev2 = None, None\n",
    "    step = 1\n",
    "    \n",
    "    # set pointers before kth node and at kth node\n",
    "    while step < iK:\n",
    "        \n",
    "        prev1 = temp\n",
    "        temp = temp.next\n",
    "        step += 1\n",
    "        \n",
    "    node1 = temp\n",
    "    \n",
    "    # set pointers before n-kth node and at n-kth node\n",
    "    node2 = pList\n",
    "    while temp.next != None:\n",
    "        \n",
    "        prev2 = node2\n",
    "        node2 = node2.next\n",
    "        temp = temp.next\n",
    "    \n",
    "    return swap(pList, prev1, node1, prev2, node2)"
   ]
  },
  {
   "cell_type": "code",
   "execution_count": 105,
   "metadata": {
    "collapsed": true
   },
   "outputs": [],
   "source": []
  },
  {
   "cell_type": "code",
   "execution_count": 116,
   "metadata": {
    "scrolled": true
   },
   "outputs": [],
   "source": [
    "test = LinkedListNode(3)\n",
    "test.next = LinkedListNode(1)\n",
    "test.next.next = LinkedListNode(2)\n",
    "test.next.next.next = LinkedListNode(0)\n",
    "\n",
    "new = swapNodes(test, 1)"
   ]
  },
  {
   "cell_type": "code",
   "execution_count": 117,
   "metadata": {
    "scrolled": false
   },
   "outputs": [
    {
     "name": "stdout",
     "output_type": "stream",
     "text": [
      "0\n",
      "1\n",
      "2\n",
      "3\n"
     ]
    }
   ],
   "source": [
    "temp = new\n",
    "while temp != None:\n",
    "    print(temp.val)\n",
    "    temp = temp.next"
   ]
  },
  {
   "cell_type": "code",
   "execution_count": 108,
   "metadata": {},
   "outputs": [
    {
     "data": {
      "text/plain": [
       "3"
      ]
     },
     "execution_count": 108,
     "metadata": {},
     "output_type": "execute_result"
    }
   ],
   "source": []
  },
  {
   "cell_type": "code",
   "execution_count": 95,
   "metadata": {},
   "outputs": [
    {
     "data": {
      "text/plain": [
       "4"
      ]
     },
     "execution_count": 95,
     "metadata": {},
     "output_type": "execute_result"
    }
   ],
   "source": [
    "new.next.next.next.val"
   ]
  },
  {
   "cell_type": "code",
   "execution_count": 93,
   "metadata": {},
   "outputs": [
    {
     "data": {
      "text/plain": [
       "4"
      ]
     },
     "execution_count": 93,
     "metadata": {},
     "output_type": "execute_result"
    }
   ],
   "source": [
    "new.next.next.val"
   ]
  }
 ],
 "metadata": {
  "kernelspec": {
   "display_name": "Python 3",
   "language": "python",
   "name": "python3"
  },
  "language_info": {
   "codemirror_mode": {
    "name": "ipython",
    "version": 3
   },
   "file_extension": ".py",
   "mimetype": "text/x-python",
   "name": "python",
   "nbconvert_exporter": "python",
   "pygments_lexer": "ipython3",
   "version": "3.6.0"
  }
 },
 "nbformat": 4,
 "nbformat_minor": 2
}
