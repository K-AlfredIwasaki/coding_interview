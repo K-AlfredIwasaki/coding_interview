{
 "cells": [
  {
   "cell_type": "code",
   "execution_count": 2,
   "metadata": {},
   "outputs": [],
   "source": [
    "def print_route_rec(root, path):\n",
    "    # base\n",
    "    if root == None:\n",
    "        return\n",
    "    \n",
    "    path.append(root.content)\n",
    "    \n",
    "    if root.left == None and root.right == None:\n",
    "        print(path)\n",
    "    \n",
    "    print_route_rec(root.left, path)\n",
    "    print_route_rec(root.right, path)\n",
    "    \n",
    "    path.pop()\n",
    "\n",
    "def print_route(root):\n",
    "    path = []\n",
    "    \n",
    "    return print_route_rec(root, path)\n",
    "    "
   ]
  },
  {
   "cell_type": "code",
   "execution_count": 15,
   "metadata": {},
   "outputs": [],
   "source": [
    "from data_structure.binary_tree import *\n",
    "\n",
    "b = BinaryTree(\"a\")\n",
    "b.left = BinaryTree(\"b\")\n",
    "b.left.left = BinaryTree(\"c\")\n",
    "b.left.left.left = BinaryTree(\"d\")\n",
    "b.left.left.right = BinaryTree(\"e\")\n",
    "b.left.right = BinaryTree(\"f\")\n",
    "b.right = BinaryTree(\"n\")\n",
    "b.right.right = BinaryTree(\"t\")"
   ]
  },
  {
   "cell_type": "code",
   "execution_count": 16,
   "metadata": {
    "scrolled": true
   },
   "outputs": [
    {
     "name": "stdout",
     "output_type": "stream",
     "text": [
      "['a', 'b', 'c', 'd']\n",
      "['a', 'b', 'c', 'e']\n",
      "['a', 'b', 'f']\n",
      "['a', 'n', 't']\n"
     ]
    }
   ],
   "source": [
    "print_route(b)"
   ]
  }
 ],
 "metadata": {
  "kernelspec": {
   "display_name": "Python 3",
   "language": "python",
   "name": "python3"
  },
  "language_info": {
   "codemirror_mode": {
    "name": "ipython",
    "version": 3
   },
   "file_extension": ".py",
   "mimetype": "text/x-python",
   "name": "python",
   "nbconvert_exporter": "python",
   "pygments_lexer": "ipython3",
   "version": "3.6.0"
  }
 },
 "nbformat": 4,
 "nbformat_minor": 2
}
