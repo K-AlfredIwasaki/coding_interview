{
 "cells": [
  {
   "cell_type": "markdown",
   "metadata": {},
   "source": [
    "# BFS / DFS"
   ]
  },
  {
   "cell_type": "markdown",
   "metadata": {},
   "source": [
    "http://mishadoff.com/blog/dfs-on-binary-tree-array/"
   ]
  },
  {
   "cell_type": "code",
   "execution_count": 44,
   "metadata": {
    "collapsed": true
   },
   "outputs": [],
   "source": [
    "from data_structure.binary_tree import *\n",
    "b = BinaryTree(100)\n",
    "b.left = BinaryTree(50)\n",
    "b.left.left = BinaryTree(25)\n",
    "b.left.right = BinaryTree(75)\n",
    "b.right = BinaryTree(200)\n",
    "b.right.right = BinaryTree(350)"
   ]
  },
  {
   "cell_type": "code",
   "execution_count": 17,
   "metadata": {
    "collapsed": true
   },
   "outputs": [],
   "source": [
    "from collections import deque\n",
    "\n",
    "def bfs(root):\n",
    "    q = deque()\n",
    "    q.append(root)\n",
    "    \n",
    "    while q:\n",
    "        temp = q.popleft()\n",
    "        print(temp.content)\n",
    "        \n",
    "        if temp.left:\n",
    "            q.append(temp.left)\n",
    "            \n",
    "        if temp.right:\n",
    "            q.append(temp.right)"
   ]
  },
  {
   "cell_type": "code",
   "execution_count": 18,
   "metadata": {
    "scrolled": true
   },
   "outputs": [
    {
     "name": "stdout",
     "output_type": "stream",
     "text": [
      "100\n",
      "50\n",
      "200\n",
      "25\n",
      "75\n",
      "350\n"
     ]
    }
   ],
   "source": [
    "bfs(b)"
   ]
  },
  {
   "cell_type": "code",
   "execution_count": 22,
   "metadata": {
    "collapsed": true
   },
   "outputs": [],
   "source": [
    "from collections import deque\n",
    "\n",
    "def dfs(root):\n",
    "    s = deque()\n",
    "    s.append(root)\n",
    "    \n",
    "    while s:\n",
    "        temp = s.pop()\n",
    "        print(temp.content)\n",
    "        \n",
    "        if temp.right:\n",
    "            s.append(temp.right) ### IMPORTANT\n",
    "            \n",
    "        if temp.left:\n",
    "            s.append(temp.left)"
   ]
  },
  {
   "cell_type": "code",
   "execution_count": 23,
   "metadata": {
    "scrolled": true
   },
   "outputs": [
    {
     "name": "stdout",
     "output_type": "stream",
     "text": [
      "100\n",
      "50\n",
      "25\n",
      "75\n",
      "200\n",
      "350\n"
     ]
    }
   ],
   "source": [
    "dfs(b)"
   ]
  },
  {
   "cell_type": "markdown",
   "metadata": {},
   "source": [
    "### Pros and Cons of BST/DFT for Binary Tree\n",
    "\n",
    "http://www.geeksforgeeks.org/bfs-vs-dfs-binary-tree/\n",
    "\n",
    "How to Pick One?\n",
    "\n",
    "1. Extra Space can be one factor (Explained above) More space for BFS\n",
    "2. Depth First Traversals are typically recursive and recursive code requires function call overheads.\n",
    "3. The most important points is, BFS starts visiting nodes from root while DFS starts visiting nodes from leaves. So if our problem is to search something that is more likely to closer to root, we would prefer BFS. And if the target node is close to a leaf, we would prefer DFS."
   ]
  },
  {
   "cell_type": "markdown",
   "metadata": {},
   "source": [
    "# Pre-order/ In-order/ Post-order"
   ]
  },
  {
   "cell_type": "code",
   "execution_count": 25,
   "metadata": {
    "collapsed": true
   },
   "outputs": [],
   "source": [
    "def preorder(root):\n",
    "    if root == None:\n",
    "        return\n",
    "    \n",
    "    print(root.content)\n",
    "    preorder(root.left)\n",
    "    preorder(root.right)"
   ]
  },
  {
   "cell_type": "code",
   "execution_count": 28,
   "metadata": {},
   "outputs": [
    {
     "name": "stdout",
     "output_type": "stream",
     "text": [
      "100\n",
      "50\n",
      "25\n",
      "75\n",
      "200\n",
      "350\n"
     ]
    }
   ],
   "source": [
    "preorder(b)"
   ]
  },
  {
   "cell_type": "code",
   "execution_count": 29,
   "metadata": {
    "collapsed": true
   },
   "outputs": [],
   "source": [
    "def inorder(root):\n",
    "    if root == None:\n",
    "        return\n",
    "    \n",
    "    \n",
    "    inorder(root.left)\n",
    "    print(root.content)\n",
    "    inorder(root.right)"
   ]
  },
  {
   "cell_type": "code",
   "execution_count": 31,
   "metadata": {},
   "outputs": [
    {
     "name": "stdout",
     "output_type": "stream",
     "text": [
      "25\n",
      "50\n",
      "75\n",
      "100\n",
      "200\n",
      "350\n"
     ]
    }
   ],
   "source": [
    "inorder(b)"
   ]
  },
  {
   "cell_type": "markdown",
   "metadata": {},
   "source": [
    "# Reverse a tree from left to right"
   ]
  },
  {
   "cell_type": "code",
   "execution_count": 32,
   "metadata": {
    "collapsed": true
   },
   "outputs": [],
   "source": [
    "def reverse_tree(root):\n",
    "    if root == None:\n",
    "        return\n",
    "    \n",
    "    root.left, root.right = root.right, root.left\n",
    "    reverse_tree(root.left)\n",
    "    reverse_tree(root.right)"
   ]
  },
  {
   "cell_type": "code",
   "execution_count": 33,
   "metadata": {
    "collapsed": true
   },
   "outputs": [],
   "source": [
    "reverse_tree(b)"
   ]
  },
  {
   "cell_type": "code",
   "execution_count": 35,
   "metadata": {
    "scrolled": true
   },
   "outputs": [
    {
     "name": "stdout",
     "output_type": "stream",
     "text": [
      "100\n",
      "200\n",
      "350\n",
      "50\n",
      "75\n",
      "25\n"
     ]
    }
   ],
   "source": [
    "preorder(b)"
   ]
  },
  {
   "cell_type": "markdown",
   "metadata": {},
   "source": [
    "# Extend an each node on the left"
   ]
  },
  {
   "cell_type": "code",
   "execution_count": 45,
   "metadata": {
    "collapsed": true
   },
   "outputs": [],
   "source": [
    "def extend(root):\n",
    "    if root == None:\n",
    "        return\n",
    "    \n",
    "    node = BinaryTree(root.content)\n",
    "    node.left = root.left\n",
    "    root.left = node\n",
    "    root = node\n",
    "    extend(root.left)"
   ]
  },
  {
   "cell_type": "code",
   "execution_count": 46,
   "metadata": {
    "scrolled": true
   },
   "outputs": [
    {
     "name": "stdout",
     "output_type": "stream",
     "text": [
      "100\n",
      "50\n",
      "25\n",
      "75\n",
      "200\n",
      "350\n"
     ]
    }
   ],
   "source": [
    "preorder(b)"
   ]
  },
  {
   "cell_type": "code",
   "execution_count": 47,
   "metadata": {
    "collapsed": true
   },
   "outputs": [],
   "source": [
    "extend(b)"
   ]
  },
  {
   "cell_type": "code",
   "execution_count": 48,
   "metadata": {
    "scrolled": false
   },
   "outputs": [
    {
     "name": "stdout",
     "output_type": "stream",
     "text": [
      "100\n",
      "100\n",
      "50\n",
      "50\n",
      "25\n",
      "25\n",
      "75\n",
      "200\n",
      "350\n"
     ]
    }
   ],
   "source": [
    "preorder(b)"
   ]
  },
  {
   "cell_type": "markdown",
   "metadata": {},
   "source": [
    "# Parent = Childs"
   ]
  },
  {
   "cell_type": "code",
   "execution_count": 88,
   "metadata": {
    "collapsed": true
   },
   "outputs": [],
   "source": [
    "def rewrite_node(root):\n",
    "    if root == None:\n",
    "        return 0\n",
    "    \n",
    "    print(root.content)\n",
    "    left = rewrite_node(root.left)\n",
    "    right = rewrite_node(root.right)\n",
    "    \n",
    "    parent = left + right + root.content\n",
    "    root.content = parent\n",
    "    \n",
    "    return parent ########### IMPORTANT"
   ]
  },
  {
   "cell_type": "code",
   "execution_count": 89,
   "metadata": {
    "collapsed": true
   },
   "outputs": [],
   "source": [
    "from data_structure.binary_tree import *\n",
    "b = BinaryTree(100)\n",
    "b.left = BinaryTree(50)\n",
    "b.left.left = BinaryTree(25)\n",
    "b.left.right = BinaryTree(75)\n",
    "b.right = BinaryTree(200)\n",
    "b.right.right = BinaryTree(350)"
   ]
  },
  {
   "cell_type": "code",
   "execution_count": 90,
   "metadata": {},
   "outputs": [
    {
     "name": "stdout",
     "output_type": "stream",
     "text": [
      "100\n",
      "50\n",
      "25\n",
      "25\n",
      "75\n",
      "75\n",
      "150\n",
      "200\n",
      "350\n",
      "350\n",
      "550\n",
      "800\n"
     ]
    },
    {
     "data": {
      "text/plain": [
       "800"
      ]
     },
     "execution_count": 90,
     "metadata": {},
     "output_type": "execute_result"
    }
   ],
   "source": [
    "rewrite_node(b)"
   ]
  },
  {
   "cell_type": "code",
   "execution_count": 91,
   "metadata": {
    "scrolled": true
   },
   "outputs": [
    {
     "name": "stdout",
     "output_type": "stream",
     "text": [
      "800\n",
      "150\n",
      "25\n",
      "75\n",
      "550\n",
      "350\n"
     ]
    }
   ],
   "source": [
    "preorder(b)"
   ]
  },
  {
   "cell_type": "markdown",
   "metadata": {},
   "source": [
    "# Is BST?"
   ]
  },
  {
   "cell_type": "code",
   "execution_count": 92,
   "metadata": {},
   "outputs": [
    {
     "data": {
      "text/plain": [
       "False"
      ]
     },
     "execution_count": 92,
     "metadata": {},
     "output_type": "execute_result"
    }
   ],
   "source": [
    "True and False and False"
   ]
  },
  {
   "cell_type": "code",
   "execution_count": 95,
   "metadata": {
    "collapsed": true
   },
   "outputs": [],
   "source": [
    "def bst_check_rec(root, lower, upper):\n",
    "    # base\n",
    "    if root == None:\n",
    "        return True\n",
    "        \n",
    "    \n",
    "    left = bst_check_rec(root.left, lower, root.content)\n",
    "    right = bst_check_rec(root.left, lower, root.content)\n",
    "    \n",
    "    # check the bound\n",
    "    lower_bound = True\n",
    "    upper_bound = True\n",
    "    \n",
    "    if lower:\n",
    "        lower_bound = root.content >= lower\n",
    "    if upper:\n",
    "        upper_bound = root.content <= upper \n",
    "    \n",
    "    center = lower_bound and upper_bound\n",
    "        \n",
    "    return left and right and center\n",
    "\n",
    "def bst_check(root):\n",
    "    lower = None\n",
    "    upper = None\n",
    "    \n",
    "    return bst_check_rec(root, lower, upper)\n",
    "    "
   ]
  },
  {
   "cell_type": "code",
   "execution_count": 97,
   "metadata": {
    "scrolled": true
   },
   "outputs": [
    {
     "data": {
      "text/plain": [
       "True"
      ]
     },
     "execution_count": 97,
     "metadata": {},
     "output_type": "execute_result"
    }
   ],
   "source": [
    "from data_structure.binary_tree import *\n",
    "b = BinaryTree(100)\n",
    "b.left = BinaryTree(50)\n",
    "b.left.left = BinaryTree(25)\n",
    "b.left.right = BinaryTree(75)\n",
    "b.right = BinaryTree(200)\n",
    "b.right.right = BinaryTree(350)\n",
    "\n",
    "bst_check(b)"
   ]
  },
  {
   "cell_type": "code",
   "execution_count": 99,
   "metadata": {},
   "outputs": [
    {
     "data": {
      "text/plain": [
       "False"
      ]
     },
     "execution_count": 99,
     "metadata": {},
     "output_type": "execute_result"
    }
   ],
   "source": [
    "from data_structure.binary_tree import *\n",
    "b = BinaryTree(100)\n",
    "b.left = BinaryTree(50)\n",
    "b.left.left = BinaryTree(25)\n",
    "b.left.left.left = BinaryTree(60)\n",
    "b.left.right = BinaryTree(75)\n",
    "b.right = BinaryTree(200)\n",
    "b.right.right = BinaryTree(350)\n",
    "\n",
    "bst_check(b)"
   ]
  },
  {
   "cell_type": "markdown",
   "metadata": {},
   "source": [
    "# Level-order traversal with a tweak"
   ]
  },
  {
   "cell_type": "code",
   "execution_count": 106,
   "metadata": {
    "collapsed": true
   },
   "outputs": [],
   "source": [
    "def level_traversal(root):\n",
    "    \n",
    "    if root == None:\n",
    "        return root\n",
    "    \n",
    "    current_parents = []\n",
    "    current_parents.append(root)\n",
    "    \n",
    "    while current_parents:\n",
    "        temp = []\n",
    "        for parent in current_parents:\n",
    "            if parent.left:\n",
    "                temp.append(parent.left)\n",
    "            if parent.right:\n",
    "                temp.append(parent.right)\n",
    "            \n",
    "        print(temp)\n",
    "        current_parents = temp\n",
    "        "
   ]
  },
  {
   "cell_type": "code",
   "execution_count": 107,
   "metadata": {
    "scrolled": true
   },
   "outputs": [
    {
     "name": "stdout",
     "output_type": "stream",
     "text": [
      "[<data_structure.binary_tree.BinaryTree object at 0x00000193C54BA630>, <data_structure.binary_tree.BinaryTree object at 0x00000193C54BA320>]\n",
      "[<data_structure.binary_tree.BinaryTree object at 0x00000193C54BA668>, <data_structure.binary_tree.BinaryTree object at 0x00000193C54BA5F8>, <data_structure.binary_tree.BinaryTree object at 0x00000193C548E7F0>]\n",
      "[<data_structure.binary_tree.BinaryTree object at 0x00000193C54BA5C0>]\n",
      "[]\n"
     ]
    }
   ],
   "source": [
    "level_traversal(b)"
   ]
  },
  {
   "cell_type": "markdown",
   "metadata": {},
   "source": [
    "# Insert/Delete a node in a BST 2:00:00\n",
    "# find successor"
   ]
  },
  {
   "cell_type": "markdown",
   "metadata": {},
   "source": [
    "# Print a path to a value you look for"
   ]
  },
  {
   "cell_type": "markdown",
   "metadata": {},
   "source": [
    "# Balancing a BST: 2:40:00"
   ]
  },
  {
   "cell_type": "code",
   "execution_count": null,
   "metadata": {
    "collapsed": true
   },
   "outputs": [],
   "source": []
  }
 ],
 "metadata": {
  "kernelspec": {
   "display_name": "Python 3",
   "language": "python",
   "name": "python3"
  },
  "language_info": {
   "codemirror_mode": {
    "name": "ipython",
    "version": 3
   },
   "file_extension": ".py",
   "mimetype": "text/x-python",
   "name": "python",
   "nbconvert_exporter": "python",
   "pygments_lexer": "ipython3",
   "version": "3.6.0"
  }
 },
 "nbformat": 4,
 "nbformat_minor": 2
}
