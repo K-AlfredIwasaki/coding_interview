{
 "cells": [
  {
   "cell_type": "markdown",
   "metadata": {},
   "source": [
    "# QuickSort"
   ]
  },
  {
   "cell_type": "code",
   "execution_count": 29,
   "metadata": {
    "collapsed": true
   },
   "outputs": [],
   "source": [
    "def partition(a, i, j):\n",
    "    \n",
    "    pivot = i\n",
    "    i += 1\n",
    "    \n",
    "    while i <= j: ### need =\n",
    "        \n",
    "        while i <= j and a[i] < a[pivot]: ######  need i <= j\n",
    "            i += 1\n",
    "            \n",
    "        while i <= j and a[j] > a[pivot]: ###### need i <= j\n",
    "            j -= 1\n",
    "        \n",
    "        if i <= j:\n",
    "            a[i],a[j] = a[j],a[i]\n",
    "    \n",
    "    a[pivot], a[j] = a[j], a[pivot]\n",
    "    \n",
    "    return j\n",
    "\n",
    "def quick_sort_rec(a, i, j):\n",
    "\n",
    "    # recursion\n",
    "    if i < j:\n",
    "        idx = partition(a, i, j)\n",
    "        quick_sort_rec(a, i, idx-1)\n",
    "        quick_sort_rec(a, idx+1, j)\n",
    "        \n",
    "    return a\n",
    "\n",
    "def quick_sort(a):\n",
    "    if a == None or len(a) == 1:\n",
    "        return a\n",
    "    \n",
    "    i = 0\n",
    "    j = len(a) - 1\n",
    "    \n",
    "    return quick_sort_rec(a, i, j)"
   ]
  },
  {
   "cell_type": "code",
   "execution_count": 30,
   "metadata": {
    "scrolled": true
   },
   "outputs": [
    {
     "data": {
      "text/plain": [
       "[1, 3, 4, 5, 6, 7, 10, 15, 22]"
      ]
     },
     "execution_count": 30,
     "metadata": {},
     "output_type": "execute_result"
    }
   ],
   "source": [
    "quick_sort([1, 3, 4, 10, 6, 7, 5, 22, 15])"
   ]
  },
  {
   "cell_type": "markdown",
   "metadata": {},
   "source": [
    "Time complexity: best O(nlogn) (balanced tree), worst O(n^2)\n",
    "\n",
    "Space complexity: best O(logn) (balanced tree), worst O(n)"
   ]
  },
  {
   "cell_type": "markdown",
   "metadata": {},
   "source": [
    "# MergeSort"
   ]
  },
  {
   "cell_type": "code",
   "execution_count": 4,
   "metadata": {
    "collapsed": true
   },
   "outputs": [],
   "source": [
    "def merge(array1, array2):\n",
    "    # two pointers\n",
    "    i = 0\n",
    "    j = 0\n",
    "    result = []\n",
    "    \n",
    "    while i < len(array1) and j < len(array2):\n",
    "        if array1[i] <= array2[j]:\n",
    "            temp = array1[i]\n",
    "            i += 1\n",
    "\n",
    "        elif array1[i] > array2[j]:\n",
    "            temp = array2[j]\n",
    "            j += 1\n",
    "        \n",
    "        result.append(temp)\n",
    "    \n",
    "    while i < len(array1):\n",
    "        result.append(array1[i])\n",
    "        i += 1\n",
    "        \n",
    "    while j < len(array2):\n",
    "        result.append(array2[j])\n",
    "        j += 1\n",
    "\n",
    "    return result\n",
    "\n",
    "\n",
    "def merge_sort_rec(a, i, j):\n",
    "    if i == j:\n",
    "        return a[i:j+1]\n",
    "    \n",
    "    mid = (i+j) // 2\n",
    "    left = merge_sort_rec(a, i, mid)\n",
    "    right = merge_sort_rec(a, mid+1, j)\n",
    "    \n",
    "    return merge(left, right)\n",
    "\n",
    "def merge_sort(a):\n",
    "    if a == None or len(a) == 1:\n",
    "        return a\n",
    "    \n",
    "    i = 0\n",
    "    j = len(a) - 1\n",
    "    \n",
    "    return merge_sort_rec(a, i, j)"
   ]
  },
  {
   "cell_type": "code",
   "execution_count": 6,
   "metadata": {
    "scrolled": false
   },
   "outputs": [
    {
     "data": {
      "text/plain": [
       "[1, 3, 4, 5, 6, 7, 10, 15, 22]"
      ]
     },
     "execution_count": 6,
     "metadata": {},
     "output_type": "execute_result"
    }
   ],
   "source": [
    "merge_sort([1, 3, 4, 10, 6, 7, 5, 22, 15])"
   ]
  },
  {
   "cell_type": "markdown",
   "metadata": {
    "collapsed": true
   },
   "source": [
    "Time complexity: always O(nlogn)\n",
    "\n",
    "Space compelxity: O(n) since merge is not inplace"
   ]
  },
  {
   "cell_type": "markdown",
   "metadata": {},
   "source": [
    "# QuickSort vs. MergeSort\n",
    "\n",
    "- Prioritize time complexity: always O(nlogn) for MergeSort\n",
    "- Prioritize space complexity: QuickSort\n",
    "- Prioritize stability: choose MergeSort for database multiple sort"
   ]
  },
  {
   "cell_type": "markdown",
   "metadata": {},
   "source": [
    "# QuickSort with a tweak\n",
    "\n",
    "Given an array of integers, return the elements of rank-k?"
   ]
  },
  {
   "cell_type": "code",
   "execution_count": 74,
   "metadata": {
    "collapsed": true
   },
   "outputs": [],
   "source": [
    "def partition(a, i, j):\n",
    "    \n",
    "    pivot = i\n",
    "    i += 1\n",
    "    \n",
    "    while i <= j: ### need =\n",
    "        \n",
    "        while i <= j and a[i] < a[pivot]: ######  need i <= j\n",
    "            i += 1\n",
    "            \n",
    "        while i <= j and a[j] > a[pivot]: ###### need i <= j\n",
    "            j -= 1\n",
    "        \n",
    "        if i <= j:\n",
    "            a[i],a[j] = a[j],a[i]\n",
    "    \n",
    "    a[pivot], a[j] = a[j], a[pivot]\n",
    "    \n",
    "    return j\n",
    "\n",
    "def rank_k_rec(a, adj_k, i, j):\n",
    "\n",
    "    # recursion\n",
    "    if i <= j:\n",
    "        idx = partition(a, i, j)\n",
    "        print(idx, adj_k, i, j)\n",
    "        print(a)\n",
    "        if idx == adj_k:\n",
    "            print(\"check\")\n",
    "            return a[idx]\n",
    "        elif adj_k < idx:\n",
    "            return rank_k_rec(a, adj_k, i, idx-1)\n",
    "        elif adj_k > idx:\n",
    "            return rank_k_rec(a, adj_k, idx+1, j)\n",
    "    \n",
    "\n",
    "def rank_k(a, k):\n",
    "    if len(a) < k:\n",
    "        return None\n",
    "    \n",
    "    adj_k = k - 1\n",
    "    i = 0\n",
    "    j = len(a) - 1\n",
    "    \n",
    "    return rank_k_rec(a, adj_k, i, j)"
   ]
  },
  {
   "cell_type": "code",
   "execution_count": 77,
   "metadata": {},
   "outputs": [
    {
     "name": "stdout",
     "output_type": "stream",
     "text": [
      "3 1 0 5\n",
      "[3, 4, 2, 5, 15, 10]\n",
      "1 1 0 2\n",
      "[2, 3, 4, 5, 15, 10]\n",
      "check\n"
     ]
    },
    {
     "data": {
      "text/plain": [
       "3"
      ]
     },
     "execution_count": 77,
     "metadata": {},
     "output_type": "execute_result"
    }
   ],
   "source": [
    "rank_k([5, 10, 2, 3, 15, 4], 2)"
   ]
  }
 ],
 "metadata": {
  "kernelspec": {
   "display_name": "Python 3",
   "language": "python",
   "name": "python3"
  },
  "language_info": {
   "codemirror_mode": {
    "name": "ipython",
    "version": 3
   },
   "file_extension": ".py",
   "mimetype": "text/x-python",
   "name": "python",
   "nbconvert_exporter": "python",
   "pygments_lexer": "ipython3",
   "version": "3.6.0"
  }
 },
 "nbformat": 4,
 "nbformat_minor": 2
}
