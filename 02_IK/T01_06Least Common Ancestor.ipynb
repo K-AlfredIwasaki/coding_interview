{
 "cells": [
  {
   "cell_type": "markdown",
   "metadata": {},
   "source": [
    "http://www.geeksforgeeks.org/lowest-common-ancestor-binary-tree-set-1/"
   ]
  },
  {
   "cell_type": "markdown",
   "metadata": {},
   "source": [
    "## Approach1: Method1 Get n1 path and n2 path\n",
    "\n",
    "- Find path from root to n1 and path from root to n2, and store them\n",
    "- Traverse both paths till the values in arrays are same. Return the common element just before the mismatch"
   ]
  },
  {
   "cell_type": "code",
   "execution_count": 1,
   "metadata": {
    "collapsed": true
   },
   "outputs": [],
   "source": [
    "def findPath(root, path, k):\n",
    "    \n",
    "    # base\n",
    "    if root == None:\n",
    "        return False\n",
    "    \n",
    "    path.append(root.content)\n",
    "    \n",
    "    if root.content == k:\n",
    "        return True\n",
    "    \n",
    "    if root.left:\n",
    "        l = findPath(root.left, path, k)\n",
    "        \n",
    "    if root.right:\n",
    "        r = findPath(root.right, path, k)\n",
    "    \n",
    "    if (root.left and findPath(root.left, path, k) or \n",
    "       (root.right and findPath(root.right, path, k))):\n",
    "        return True\n",
    "    \n",
    "    \n",
    "    path.pop()\n",
    "    return False\n",
    "    \n",
    "def findLCA(root, n1, n2):\n",
    "    \n",
    "    path1 = []\n",
    "    path2 = []\n",
    "    \n",
    "    if (not findPath(root, path1, n1) or not findPath(root, path2, n2)):\n",
    "        return False\n",
    "    \n",
    "    # compare the two paths to get the first different value\n",
    "    i = 0\n",
    "    while (i < len(path1) and i < len(path2)):\n",
    "        if path1[i] != path2[i]:\n",
    "            break\n",
    "        i += 1\n",
    "        \n",
    "    return path1[i-1]\n",
    "    "
   ]
  },
  {
   "cell_type": "markdown",
   "metadata": {},
   "source": [
    "# Approach2: Method2 Using single traversal"
   ]
  },
  {
   "cell_type": "code",
   "execution_count": null,
   "metadata": {
    "collapsed": true
   },
   "outputs": [],
   "source": [
    "def findLCA(root, n1, n2):\n",
    "    \n",
    "    # base\n",
    "    if root == None:\n",
    "        return None\n",
    "    \n",
    "    if root.content == n1 or root.content == n2:\n",
    "        return root\n",
    "    \n",
    "    l = findLCA(root.left, n1, n2)\n",
    "    r = findLCA(root.right, n1, n2)\n",
    "    \n",
    "    if l and r:\n",
    "        return root\n",
    "    \n",
    "    return l if l != None else r\n",
    "    "
   ]
  },
  {
   "cell_type": "markdown",
   "metadata": {},
   "source": [
    "# Revised Approach2"
   ]
  }
 ],
 "metadata": {
  "kernelspec": {
   "display_name": "Python 3",
   "language": "python",
   "name": "python3"
  },
  "language_info": {
   "codemirror_mode": {
    "name": "ipython",
    "version": 3
   },
   "file_extension": ".py",
   "mimetype": "text/x-python",
   "name": "python",
   "nbconvert_exporter": "python",
   "pygments_lexer": "ipython3",
   "version": "3.6.0"
  }
 },
 "nbformat": 4,
 "nbformat_minor": 2
}
