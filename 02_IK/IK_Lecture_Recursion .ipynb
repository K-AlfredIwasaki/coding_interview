{
 "cells": [
  {
   "cell_type": "markdown",
   "metadata": {},
   "source": [
    "# Problem 1: CountMaxPaths"
   ]
  },
  {
   "cell_type": "code",
   "execution_count": 42,
   "metadata": {
    "collapsed": true
   },
   "outputs": [],
   "source": [
    "r = 5\n",
    "c = 4\n",
    "grid = [[1, 2, 3, 4],\n",
    "        [5, 6, 7, 8],\n",
    "        [0.1, 0.2, 0.3, 0.4],\n",
    "        [12, 11, 10, 9],\n",
    "       [1.1, 1.2, 1.4, 1.5]]"
   ]
  },
  {
   "cell_type": "code",
   "execution_count": 43,
   "metadata": {
    "collapsed": true
   },
   "outputs": [],
   "source": [
    "def path_count_rec(grid, r, c):\n",
    "    \n",
    "    if r >= len(grid) or c >= len(grid[0]):\n",
    "        return 0\n",
    "    if r  == len(grid)-1 and c == len(grid[0]) - 1:\n",
    "        return 1\n",
    "    \n",
    "    count = path_count_rec(grid, r, c+1) + path_count_rec(grid, r+1, c)\n",
    "    \n",
    "    return count\n",
    "\n",
    "def path_count(grid):\n",
    "    \n",
    "    return path_count_rec(grid, 0, 0)"
   ]
  },
  {
   "cell_type": "code",
   "execution_count": 44,
   "metadata": {},
   "outputs": [
    {
     "data": {
      "text/plain": [
       "35"
      ]
     },
     "execution_count": 44,
     "metadata": {},
     "output_type": "execute_result"
    }
   ],
   "source": [
    "path_count(grid)"
   ]
  },
  {
   "cell_type": "markdown",
   "metadata": {},
   "source": [
    "**Complexity:**\n",
    "\n",
    "Time: Time is number of calls. This is Binary tree with height Rows + Cols. So 2^(R+C)\n",
    "\n",
    "Space: R+C (height of the Binary tree)"
   ]
  },
  {
   "cell_type": "markdown",
   "metadata": {},
   "source": [
    "## Extensions"
   ]
  },
  {
   "cell_type": "code",
   "execution_count": 39,
   "metadata": {
    "collapsed": true
   },
   "outputs": [],
   "source": [
    "def path_print_rec(grid, r, c, path, k):\n",
    "    \n",
    "    if r >= len(grid) or c >= len(grid[0]):\n",
    "        return\n",
    "    if r  == len(grid)-1 and c == len(grid[0]) - 1:\n",
    "        path[k] = grid[r][c]\n",
    "        print (path)\n",
    "        return\n",
    "    \n",
    "    path[k] = grid[r][c]\n",
    "    path_print_rec(grid, r, c+1, path, k+1)\n",
    "    path_print_rec(grid, r+1, c, path, k+1)\n",
    "    \n",
    "\n",
    "def path_count(grid):\n",
    "    path = [0 for i in range(len(grid) + len(grid[0])-1)]\n",
    "    return path_print_rec(grid, 0, 0, path, 0)"
   ]
  },
  {
   "cell_type": "code",
   "execution_count": 41,
   "metadata": {},
   "outputs": [
    {
     "name": "stdout",
     "output_type": "stream",
     "text": [
      "[1, 2, 3, 4, 8, 0.4, 9, 1.5]\n",
      "[1, 2, 3, 7, 8, 0.4, 9, 1.5]\n",
      "[1, 2, 3, 7, 0.3, 0.4, 9, 1.5]\n",
      "[1, 2, 3, 7, 0.3, 10, 9, 1.5]\n",
      "[1, 2, 3, 7, 0.3, 10, 1.4, 1.5]\n",
      "[1, 2, 6, 7, 8, 0.4, 9, 1.5]\n",
      "[1, 2, 6, 7, 0.3, 0.4, 9, 1.5]\n",
      "[1, 2, 6, 7, 0.3, 10, 9, 1.5]\n",
      "[1, 2, 6, 7, 0.3, 10, 1.4, 1.5]\n",
      "[1, 2, 6, 0.2, 0.3, 0.4, 9, 1.5]\n",
      "[1, 2, 6, 0.2, 0.3, 10, 9, 1.5]\n",
      "[1, 2, 6, 0.2, 0.3, 10, 1.4, 1.5]\n",
      "[1, 2, 6, 0.2, 11, 10, 9, 1.5]\n",
      "[1, 2, 6, 0.2, 11, 10, 1.4, 1.5]\n",
      "[1, 2, 6, 0.2, 11, 1.2, 1.4, 1.5]\n",
      "[1, 5, 6, 7, 8, 0.4, 9, 1.5]\n",
      "[1, 5, 6, 7, 0.3, 0.4, 9, 1.5]\n",
      "[1, 5, 6, 7, 0.3, 10, 9, 1.5]\n",
      "[1, 5, 6, 7, 0.3, 10, 1.4, 1.5]\n",
      "[1, 5, 6, 0.2, 0.3, 0.4, 9, 1.5]\n",
      "[1, 5, 6, 0.2, 0.3, 10, 9, 1.5]\n",
      "[1, 5, 6, 0.2, 0.3, 10, 1.4, 1.5]\n",
      "[1, 5, 6, 0.2, 11, 10, 9, 1.5]\n",
      "[1, 5, 6, 0.2, 11, 10, 1.4, 1.5]\n",
      "[1, 5, 6, 0.2, 11, 1.2, 1.4, 1.5]\n",
      "[1, 5, 0.1, 0.2, 0.3, 0.4, 9, 1.5]\n",
      "[1, 5, 0.1, 0.2, 0.3, 10, 9, 1.5]\n",
      "[1, 5, 0.1, 0.2, 0.3, 10, 1.4, 1.5]\n",
      "[1, 5, 0.1, 0.2, 11, 10, 9, 1.5]\n",
      "[1, 5, 0.1, 0.2, 11, 10, 1.4, 1.5]\n",
      "[1, 5, 0.1, 0.2, 11, 1.2, 1.4, 1.5]\n",
      "[1, 5, 0.1, 12, 11, 10, 9, 1.5]\n",
      "[1, 5, 0.1, 12, 11, 10, 1.4, 1.5]\n",
      "[1, 5, 0.1, 12, 11, 1.2, 1.4, 1.5]\n",
      "[1, 5, 0.1, 12, 1.1, 1.2, 1.4, 1.5]\n"
     ]
    }
   ],
   "source": [
    "path_count(grid)"
   ]
  },
  {
   "cell_type": "markdown",
   "metadata": {},
   "source": [
    "# Problem2: Print all permutations"
   ]
  },
  {
   "cell_type": "code",
   "execution_count": 45,
   "metadata": {
    "collapsed": true
   },
   "outputs": [],
   "source": [
    "def print_perm_rec(array, i):\n",
    "    # base\n",
    "    if i == len(array):\n",
    "        print(array)\n",
    "        return\n",
    "    \n",
    "    # recursion\n",
    "    for j in range(i, len(array)):\n",
    "        # swap\n",
    "        array[j], array[i] = array[i], array[j]\n",
    "        \n",
    "        print_perm_rec(array, i+1)\n",
    "        \n",
    "        # swap\n",
    "        array[j], array[i] = array[i], array[j]\n",
    "\n",
    "def print_perm(array):\n",
    "    \n",
    "    return print_perm_rec(array, 0)\n",
    "    "
   ]
  },
  {
   "cell_type": "code",
   "execution_count": 46,
   "metadata": {},
   "outputs": [
    {
     "name": "stdout",
     "output_type": "stream",
     "text": [
      "['a', 'b', 'c', 'd']\n",
      "['a', 'b', 'd', 'c']\n",
      "['a', 'c', 'b', 'd']\n",
      "['a', 'c', 'd', 'b']\n",
      "['a', 'd', 'c', 'b']\n",
      "['a', 'd', 'b', 'c']\n",
      "['b', 'a', 'c', 'd']\n",
      "['b', 'a', 'd', 'c']\n",
      "['b', 'c', 'a', 'd']\n",
      "['b', 'c', 'd', 'a']\n",
      "['b', 'd', 'c', 'a']\n",
      "['b', 'd', 'a', 'c']\n",
      "['c', 'b', 'a', 'd']\n",
      "['c', 'b', 'd', 'a']\n",
      "['c', 'a', 'b', 'd']\n",
      "['c', 'a', 'd', 'b']\n",
      "['c', 'd', 'a', 'b']\n",
      "['c', 'd', 'b', 'a']\n",
      "['d', 'b', 'c', 'a']\n",
      "['d', 'b', 'a', 'c']\n",
      "['d', 'c', 'b', 'a']\n",
      "['d', 'c', 'a', 'b']\n",
      "['d', 'a', 'c', 'b']\n",
      "['d', 'a', 'b', 'c']\n"
     ]
    }
   ],
   "source": [
    "print_perm([\"a\", \"b\", \"c\", \"d\"])"
   ]
  },
  {
   "cell_type": "markdown",
   "metadata": {},
   "source": [
    "Complexity:\n",
    "\n",
    "The execution tree is interesting. Top level (level 0) has one node and has n kids. The n nodes on level 1 have n-1 kids each and so on. There is a loop in the body of the function but the loop is just used to make recursive calls so the time complexity of the program is the size of the execution tree. The leaves of the tree are the permutations so the tree has N! Leaves. Time to print each is O(N) so time is O(N.N!) \n",
    "\n",
    "The space used is O(N). --- Height of the execution tree"
   ]
  },
  {
   "cell_type": "markdown",
   "metadata": {},
   "source": [
    "# Problem 3: Print all subests"
   ]
  },
  {
   "cell_type": "code",
   "execution_count": 58,
   "metadata": {},
   "outputs": [],
   "source": [
    "def allsubsets_rec(array, i, subset):\n",
    "    # base\n",
    "    if i == len(array):\n",
    "        print (subset)\n",
    "        return\n",
    "        \n",
    "    # no\n",
    "    allsubsets_rec(array, i+1, subset)\n",
    "    # yes\n",
    "    subset.add(array[i])\n",
    "    allsubsets_rec(array, i+1, subset)\n",
    "    subset.remove(array[i])\n",
    "\n",
    "\n",
    "def allsubsets(array):\n",
    "    subset = set([])\n",
    "    return allsubsets_rec(array, 0, subset)"
   ]
  },
  {
   "cell_type": "code",
   "execution_count": 59,
   "metadata": {
    "scrolled": true
   },
   "outputs": [
    {
     "name": "stdout",
     "output_type": "stream",
     "text": [
      "set()\n",
      "{'d'}\n",
      "{'c'}\n",
      "{'c', 'd'}\n",
      "{'b'}\n",
      "{'b', 'd'}\n",
      "{'b', 'c'}\n",
      "{'b', 'c', 'd'}\n",
      "{'a'}\n",
      "{'a', 'd'}\n",
      "{'c', 'a'}\n",
      "{'c', 'a', 'd'}\n",
      "{'b', 'a'}\n",
      "{'b', 'a', 'd'}\n",
      "{'b', 'c', 'a'}\n",
      "{'b', 'c', 'a', 'd'}\n"
     ]
    }
   ],
   "source": [
    "allsubsets([\"a\", \"b\", \"c\", \"d\"])"
   ]
  }
 ],
 "metadata": {
  "kernelspec": {
   "display_name": "Python 3",
   "language": "python",
   "name": "python3"
  },
  "language_info": {
   "codemirror_mode": {
    "name": "ipython",
    "version": 3
   },
   "file_extension": ".py",
   "mimetype": "text/x-python",
   "name": "python",
   "nbconvert_exporter": "python",
   "pygments_lexer": "ipython3",
   "version": "3.6.0"
  }
 },
 "nbformat": 4,
 "nbformat_minor": 2
}
