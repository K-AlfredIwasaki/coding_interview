{
 "cells": [
  {
   "cell_type": "markdown",
   "metadata": {},
   "source": [
    "# do iterative inorder traversal"
   ]
  },
  {
   "cell_type": "code",
   "execution_count": 18,
   "metadata": {
    "collapsed": true
   },
   "outputs": [],
   "source": [
    "from data_structure.binary_tree import *\n",
    "\n",
    "b = BinaryTree(\"1\")\n",
    "b.left = BinaryTree(\"2\")\n",
    "b.left.left = BinaryTree(\"4\")\n",
    "b.left.right = BinaryTree(\"5\")\n",
    "b.left.right.left = BinaryTree(\"6\")\n",
    "b.right = BinaryTree(\"3\")\n",
    "b.right.right = BinaryTree(\"7\")\n",
    "b.right.right.right = BinaryTree(\"8\")"
   ]
  },
  {
   "cell_type": "code",
   "execution_count": 21,
   "metadata": {
    "collapsed": true
   },
   "outputs": [],
   "source": [
    "# two stacks\n",
    "\n",
    "from collections import deque\n",
    "def postorder(root):\n",
    "    if root == None:\n",
    "        return root\n",
    "    \n",
    "    s1 = deque()\n",
    "    s2 = deque()\n",
    "    \n",
    "    s1.append(root)\n",
    "    while s1:\n",
    "        temp = s1.pop()\n",
    "        s2.append(temp)\n",
    "        \n",
    "        if temp.left:\n",
    "            s1.append(temp.left)\n",
    "            \n",
    "        if temp.right:\n",
    "            s1.append(temp.right)\n",
    "        \n",
    "    while s2:\n",
    "        temp = s2.pop()\n",
    "        print(temp.content)\n",
    "    "
   ]
  },
  {
   "cell_type": "code",
   "execution_count": 22,
   "metadata": {
    "scrolled": true
   },
   "outputs": [
    {
     "name": "stdout",
     "output_type": "stream",
     "text": [
      "4\n",
      "6\n",
      "5\n",
      "2\n",
      "8\n",
      "7\n",
      "3\n",
      "1\n"
     ]
    }
   ],
   "source": [
    "postorder(b)"
   ]
  },
  {
   "cell_type": "code",
   "execution_count": 23,
   "metadata": {},
   "outputs": [
    {
     "data": {
      "text/plain": [
       "True"
      ]
     },
     "execution_count": 23,
     "metadata": {},
     "output_type": "execute_result"
    }
   ],
   "source": [
    "True or False"
   ]
  },
  {
   "cell_type": "code",
   "execution_count": 45,
   "metadata": {
    "collapsed": true
   },
   "outputs": [],
   "source": [
    "from collections import deque\n",
    "def postorder(root):\n",
    "    if root == None:\n",
    "        return root\n",
    "    \n",
    "    s = deque()\n",
    "    current = root\n",
    "    \n",
    "    while current != None or s:\n",
    "        \n",
    "        if current != None:\n",
    "            s.append(current)\n",
    "            current = current.left\n",
    "            continue\n",
    "            \n",
    "        \n",
    "        if s and s[-1].right:\n",
    "            temp = s[-1].right\n",
    "            current = temp\n",
    "        \n",
    "        elif s and s[-1].right == None:\n",
    "            temp = s.pop()\n",
    "            print(temp.content)\n",
    "\n",
    "            while s and temp == s[-1].right:\n",
    "                temp = s.pop()\n",
    "                print(temp.content)\n",
    "                \n",
    "        else:\n",
    "            break\n"
   ]
  },
  {
   "cell_type": "code",
   "execution_count": 46,
   "metadata": {
    "scrolled": true
   },
   "outputs": [
    {
     "name": "stdout",
     "output_type": "stream",
     "text": [
      "4\n",
      "6\n",
      "5\n",
      "2\n",
      "8\n",
      "7\n",
      "3\n",
      "1\n"
     ]
    }
   ],
   "source": [
    "postorder(b)"
   ]
  }
 ],
 "metadata": {
  "kernelspec": {
   "display_name": "Python 3",
   "language": "python",
   "name": "python3"
  },
  "language_info": {
   "codemirror_mode": {
    "name": "ipython",
    "version": 3
   },
   "file_extension": ".py",
   "mimetype": "text/x-python",
   "name": "python",
   "nbconvert_exporter": "python",
   "pygments_lexer": "ipython3",
   "version": "3.6.0"
  }
 },
 "nbformat": 4,
 "nbformat_minor": 2
}
