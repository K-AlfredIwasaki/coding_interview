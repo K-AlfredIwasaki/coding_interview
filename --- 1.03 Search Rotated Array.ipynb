{
 "cells": [
  {
   "cell_type": "markdown",
   "metadata": {},
   "source": [
    "## Problem: Search rotated array\n",
    "Search a given number in a sorted array that has been rotated by some arbitrary number."
   ]
  },
  {
   "cell_type": "code",
   "execution_count": 1,
   "metadata": {},
   "outputs": [
    {
     "data": {
      "text/plain": [
       "[0, 14, 15, 17, 33, 34, 43, 44, 47, 50]"
      ]
     },
     "execution_count": 1,
     "metadata": {},
     "output_type": "execute_result"
    }
   ],
   "source": [
    "from random import randint\n",
    "t = sorted([randint(0, 50) for i in range(10)])\n",
    "t"
   ]
  },
  {
   "cell_type": "code",
   "execution_count": 2,
   "metadata": {},
   "outputs": [
    {
     "data": {
      "text/plain": [
       "[17, 33, 34, 43, 44, 47, 50, 0, 14, 15]"
      ]
     },
     "execution_count": 2,
     "metadata": {},
     "output_type": "execute_result"
    }
   ],
   "source": [
    "s = t[3:] + t[:3]\n",
    "s"
   ]
  },
  {
   "cell_type": "code",
   "execution_count": 3,
   "metadata": {
    "collapsed": true
   },
   "outputs": [],
   "source": [
    "def binary_search(arry, target):\n",
    "    first = 0\n",
    "    last = len(arry) - 1\n",
    "    found = False\n",
    "    \n",
    "    while first <= last and not found:\n",
    "        midpoint = (first + last) //2\n",
    "        if arry[midpoint] == target:\n",
    "            found = True\n",
    "        else:\n",
    "            if target < arry[midpoint]:\n",
    "                last = midpoint - 1\n",
    "            else:\n",
    "                first = midpoint + 1\n",
    "    return found"
   ]
  },
  {
   "cell_type": "code",
   "execution_count": 4,
   "metadata": {
    "scrolled": true
   },
   "outputs": [
    {
     "data": {
      "text/plain": [
       "False"
      ]
     },
     "execution_count": 4,
     "metadata": {},
     "output_type": "execute_result"
    }
   ],
   "source": [
    "binary_search(t, 19)"
   ]
  },
  {
   "cell_type": "code",
   "execution_count": 5,
   "metadata": {
    "collapsed": true
   },
   "outputs": [],
   "source": [
    "def rotated_bsearch(arry, target):\n",
    "    first = 0\n",
    "    last = len(arry) - 1\n",
    "    found = False\n",
    "    \n",
    "    while first <= last and not found:\n",
    "        mid = (first + last) // 2\n",
    "        print (arry[mid])\n",
    "        if arry[mid] == target:\n",
    "            found = True\n",
    "        else:\n",
    "            if arry[mid] > target:\n",
    "                if arry[mid] < arry[last]:\n",
    "                    # go left\n",
    "                    last = mid - 1\n",
    "                else:\n",
    "                    if arry[first] <= target:\n",
    "                        # go left\n",
    "                        last = mid - 1\n",
    "                    else:\n",
    "                        # go right\n",
    "                        first = mid + 1\n",
    "            else:\n",
    "                if arry[mid] < arry[last]:\n",
    "                    # go right\n",
    "                    first = mid + 1\n",
    "                else:\n",
    "                    if arry[first] <= target:\n",
    "                        # go right\n",
    "                        first = mid + 1\n",
    "                    else:\n",
    "                        # go left\n",
    "                        last = mid - 1\n",
    "    return found"
   ]
  },
  {
   "cell_type": "code",
   "execution_count": 6,
   "metadata": {},
   "outputs": [
    {
     "data": {
      "text/plain": [
       "[17, 33, 34, 43, 44, 47, 50, 0, 14, 15]"
      ]
     },
     "execution_count": 6,
     "metadata": {},
     "output_type": "execute_result"
    }
   ],
   "source": [
    "s"
   ]
  },
  {
   "cell_type": "code",
   "execution_count": 7,
   "metadata": {},
   "outputs": [
    {
     "name": "stdout",
     "output_type": "stream",
     "text": [
      "44\n",
      "33\n",
      "34\n",
      "43\n"
     ]
    },
    {
     "data": {
      "text/plain": [
       "False"
      ]
     },
     "execution_count": 7,
     "metadata": {},
     "output_type": "execute_result"
    }
   ],
   "source": [
    "rotated_bsearch(s, 41)"
   ]
  },
  {
   "cell_type": "code",
   "execution_count": 8,
   "metadata": {},
   "outputs": [
    {
     "name": "stdout",
     "output_type": "stream",
     "text": [
      "44\n",
      "33\n",
      "34\n",
      "43\n"
     ]
    },
    {
     "data": {
      "text/plain": [
       "False"
      ]
     },
     "execution_count": 8,
     "metadata": {},
     "output_type": "execute_result"
    }
   ],
   "source": [
    "def rotated_bsearch2(arr, start, end, key):\n",
    "    # stop\n",
    "    if start > end:\n",
    "        return False\n",
    "    \n",
    "    mid = (start + end) // 2\n",
    "    print(arr[mid])\n",
    "    # base base\n",
    "    if arr[mid] == key:\n",
    "        return True\n",
    "    \n",
    "    s1, s2, s3, s4 = None, None, None, None\n",
    "    \n",
    "    if (arr[start] < arr[mid] and key < arr[mid] and key >= arr[start]):\n",
    "        # simple b_search\n",
    "        s1 = rotated_bsearch2(arr, start, mid -1, key)\n",
    "        \n",
    "    elif (arr[mid] < arr[end] and key <= arr[end] and key > arr[mid]):\n",
    "        # simple b_search\n",
    "        s2 = rotated_bsearch2(arr, mid+1, end, key)\n",
    "        \n",
    "    elif (arr[start] > arr[mid]):\n",
    "        s3 = rotated_bsearch2(arr, start, mid-1, key)\n",
    "        \n",
    "    elif (arr[mid] > arr[end]):\n",
    "        s4 = rotated_bsearch2(arr, mid+1, end, key)\n",
    "    \n",
    "    return s1 or s2 or s3 or s4\n",
    "    \n",
    "\n",
    "def binary_search_rotated(arr, key):\n",
    "    if rotated_bsearch2(arr, 0, len(arr)-1, key) == 1:\n",
    "        return True\n",
    "    else:\n",
    "        return False\n",
    "\n",
    "binary_search_rotated(s, 42)"
   ]
  }
 ],
 "metadata": {
  "kernelspec": {
   "display_name": "Python 3",
   "language": "python",
   "name": "python3"
  },
  "language_info": {
   "codemirror_mode": {
    "name": "ipython",
    "version": 3
   },
   "file_extension": ".py",
   "mimetype": "text/x-python",
   "name": "python",
   "nbconvert_exporter": "python",
   "pygments_lexer": "ipython3",
   "version": "3.6.0"
  }
 },
 "nbformat": 4,
 "nbformat_minor": 2
}
