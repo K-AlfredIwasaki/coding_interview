{
 "cells": [
  {
   "cell_type": "markdown",
   "metadata": {
    "collapsed": true
   },
   "source": [
    "# Search in a Matrix\n",
    "\n",
    "Search (find position of) a given key in 2D matrix. All rows and columns are sorted."
   ]
  },
  {
   "cell_type": "code",
   "execution_count": 1,
   "metadata": {
    "collapsed": true
   },
   "outputs": [],
   "source": [
    "matrix = [[2, 4, 9, 13],\n",
    "         [3, 5, 11, 18],\n",
    "         [6, 8, 16, 21],\n",
    "         [9, 11, 20, 25]]"
   ]
  },
  {
   "cell_type": "code",
   "execution_count": 2,
   "metadata": {},
   "outputs": [
    {
     "data": {
      "text/plain": [
       "[2, 4, 9, 13]"
      ]
     },
     "execution_count": 2,
     "metadata": {},
     "output_type": "execute_result"
    }
   ],
   "source": [
    "matrix[0]"
   ]
  },
  {
   "cell_type": "code",
   "execution_count": 10,
   "metadata": {},
   "outputs": [],
   "source": [
    "# because the matrix is sorted, moving Left would result in lower values than current value \n",
    "# and moving Down would result in higher values than current value.\n",
    "# O(m+n) time complexity\n",
    "\n",
    "def search_in_matrix(matrix, target):\n",
    "    cols_num = len(matrix[0]) - 1\n",
    "    rows_num = len(matrix) - 1\n",
    "    \n",
    "    # a pointer starting at the top right\n",
    "    col = cols_num\n",
    "    row = 0\n",
    "    \n",
    "    found = False\n",
    "    while not found and row <= rows_num and col <= cols_num:\n",
    "        print (matrix[row][col])\n",
    "        \n",
    "        if matrix[row][col] == target: # row 0 cols length\n",
    "            found = True\n",
    "        elif matrix[row][col] < target:\n",
    "            row += 1\n",
    "        else:\n",
    "            col -= 1\n",
    "            \n",
    "    if found:\n",
    "        return (row, col)\n",
    "    else:\n",
    "        return False\n",
    "            \n",
    "    "
   ]
  },
  {
   "cell_type": "code",
   "execution_count": 9,
   "metadata": {},
   "outputs": [
    {
     "name": "stdout",
     "output_type": "stream",
     "text": [
      "13\n",
      "18\n",
      "11\n",
      "16\n"
     ]
    },
    {
     "data": {
      "text/plain": [
       "(2, 2)"
      ]
     },
     "execution_count": 9,
     "metadata": {},
     "output_type": "execute_result"
    }
   ],
   "source": [
    "search_in_matrix(matrix, 16)"
   ]
  },
  {
   "cell_type": "code",
   "execution_count": null,
   "metadata": {
    "collapsed": true
   },
   "outputs": [],
   "source": [
    "# the ohter solution which is less efficient is to do binary search on each row: O(m * longn)"
   ]
  }
 ],
 "metadata": {
  "kernelspec": {
   "display_name": "Python 3",
   "language": "python",
   "name": "python3"
  },
  "language_info": {
   "codemirror_mode": {
    "name": "ipython",
    "version": 3
   },
   "file_extension": ".py",
   "mimetype": "text/x-python",
   "name": "python",
   "nbconvert_exporter": "python",
   "pygments_lexer": "ipython3",
   "version": "3.6.0"
  }
 },
 "nbformat": 4,
 "nbformat_minor": 2
}
