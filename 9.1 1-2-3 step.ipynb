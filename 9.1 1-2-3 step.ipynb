{
 "cells": [
  {
   "cell_type": "code",
   "execution_count": 10,
   "metadata": {},
   "outputs": [],
   "source": [
    "def nways(steps, max_steps = 3):\n",
    "    \"\"\" Return in how many possible ways we can run up the stairs \"\"\"\n",
    "\n",
    "    # At any given time we can hop up to 'max_steps' steps up the stairs: for\n",
    "    # each possibility we need to compute the different number of ways in which\n",
    "    # the remaining steps can be walked. The number of steps that we hop cannot\n",
    "    # be greater than the number of remaining steps in the staircase (i.e., if\n",
    "    # there are only two steps left we cannot hop three). Stop when the number\n",
    "    # of remaining steps is zero: it means that we have reached the top.\n",
    "    \n",
    "    # base case\n",
    "    if not steps:\n",
    "        return 1\n",
    "    elif steps == 0:\n",
    "        return 1\n",
    "    \n",
    "    elif steps < 0:\n",
    "        return 0\n",
    "    \n",
    "    # general relationship\n",
    "    else:\n",
    "        total = 0\n",
    "        total = nways(steps - 1, max_steps = max_steps) +\\\n",
    "                nways(steps - 2, max_steps = max_steps) +\\\n",
    "                nways(steps - 3, max_steps = max_steps)\n",
    "        return total\n",
    "    "
   ]
  },
  {
   "cell_type": "code",
   "execution_count": 16,
   "metadata": {},
   "outputs": [
    {
     "data": {
      "text/plain": [
       "1705"
      ]
     },
     "execution_count": 16,
     "metadata": {},
     "output_type": "execute_result"
    }
   ],
   "source": [
    "nways(13)"
   ]
  }
 ],
 "metadata": {
  "kernelspec": {
   "display_name": "Python 3",
   "language": "python",
   "name": "python3"
  },
  "language_info": {
   "codemirror_mode": {
    "name": "ipython",
    "version": 3
   },
   "file_extension": ".py",
   "mimetype": "text/x-python",
   "name": "python",
   "nbconvert_exporter": "python",
   "pygments_lexer": "ipython3",
   "version": "3.6.0"
  }
 },
 "nbformat": 4,
 "nbformat_minor": 2
}
