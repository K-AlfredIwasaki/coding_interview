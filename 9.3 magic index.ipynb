{
 "cells": [
  {
   "cell_type": "code",
   "execution_count": 45,
   "metadata": {
    "collapsed": true
   },
   "outputs": [],
   "source": [
    "t = [0, 1, 5, 3, 9, 7, 2]"
   ]
  },
  {
   "cell_type": "code",
   "execution_count": 48,
   "metadata": {
    "collapsed": true
   },
   "outputs": [],
   "source": [
    "# brute force\n",
    "def magicIndexFinder(array):\n",
    "    result = []\n",
    "    for i, j in enumerate(array):\n",
    "        if i == j:\n",
    "            result.append(i)\n",
    "    return result"
   ]
  },
  {
   "cell_type": "code",
   "execution_count": 47,
   "metadata": {},
   "outputs": [
    {
     "data": {
      "text/plain": [
       "[0, 1, 3]"
      ]
     },
     "execution_count": 47,
     "metadata": {},
     "output_type": "execute_result"
    }
   ],
   "source": [
    "magicIndexFinder(t)"
   ]
  },
  {
   "cell_type": "code",
   "execution_count": 2,
   "metadata": {
    "collapsed": true
   },
   "outputs": [],
   "source": []
  },
  {
   "cell_type": "code",
   "execution_count": 123,
   "metadata": {
    "collapsed": true
   },
   "outputs": [],
   "source": [
    "def magicIndexFinder2(array, start = None, end = None):\n",
    "    \n",
    "    # initialize -- set index\n",
    "    if start is None:\n",
    "        start = 0\n",
    "    if end is None:\n",
    "        end = len(array) - 1\n",
    "        \n",
    "    i = (start + end) // 2\n",
    "    \n",
    "    # check\n",
    "    if start > end:\n",
    "        return -1 # if it doesn't exist\n",
    "    \n",
    "    \n",
    "    if i == array[i]:\n",
    "        return i\n",
    "\n",
    "    if i > array[i]:\n",
    "        print (i)\n",
    "        print(\"go right with new index {} {}\".format(i+1, end))\n",
    "\n",
    "        return magicIndexFinder2(array, i+1, end = end)\n",
    "    \n",
    "    else:\n",
    "        print(\"go left\")\n",
    "        print(\"go right with new index {} {}\".format(start, i - 1))\n",
    "        return magicIndexFinder2(array, start, end = i - 1)\n",
    "        "
   ]
  },
  {
   "cell_type": "code",
   "execution_count": null,
   "metadata": {
    "collapsed": true
   },
   "outputs": [],
   "source": [
    "t2 = [-40, -20, -1, 1, 2, 3, 5, 7, 9, 12, 13]"
   ]
  },
  {
   "cell_type": "code",
   "execution_count": 12,
   "metadata": {
    "collapsed": true
   },
   "outputs": [],
   "source": [
    "def magicIndexFinder3(array, start = None, end = None):\n",
    "    \"\"\" return the magic index, or -1 if it does not exist\"\"\"\n",
    "    \n",
    "    if start is None:\n",
    "        start = 0\n",
    "    if end is None:\n",
    "        end = len(array) - 1\n",
    "    \n",
    "    if start > end:\n",
    "        return -1\n",
    "    \n",
    "    i = (start + end) // 2\n",
    "    # left\n",
    "    \n",
    "    print (\"start is {} and end is {}\".format(start, end))\n",
    "    print (\"i is {}\".format(i))\n",
    "    print (\"array[i] is {}\".format(array[i]))\n",
    "    if i == array[i]:\n",
    "        return i\n",
    "    \n",
    "    left = magicIndexFinder3(array, start = start, end = i -1)\n",
    "    if left != -1:\n",
    "        return left\n",
    "    print (\"check1\")\n",
    "    # right\n",
    "    return magicIndexFinder3(array, start = i + 1, end = end)\n",
    "    print (\"check2\")"
   ]
  },
  {
   "cell_type": "code",
   "execution_count": 14,
   "metadata": {},
   "outputs": [
    {
     "data": {
      "text/plain": [
       "3"
      ]
     },
     "execution_count": 14,
     "metadata": {},
     "output_type": "execute_result"
    }
   ],
   "source": [
    "7//2"
   ]
  },
  {
   "cell_type": "code",
   "execution_count": 13,
   "metadata": {},
   "outputs": [
    {
     "name": "stdout",
     "output_type": "stream",
     "text": [
      "start is 0 and end is 10\n",
      "i is 5\n",
      "array[i] is 3\n",
      "start is 0 and end is 4\n",
      "i is 2\n",
      "array[i] is -1\n",
      "start is 0 and end is 1\n",
      "i is 0\n",
      "array[i] is -40\n",
      "check1\n",
      "start is 1 and end is 1\n",
      "i is 1\n",
      "array[i] is -20\n",
      "check1\n",
      "check1\n",
      "start is 3 and end is 4\n",
      "i is 3\n",
      "array[i] is 1\n",
      "check1\n",
      "start is 4 and end is 4\n",
      "i is 4\n",
      "array[i] is 2\n",
      "check1\n",
      "check1\n",
      "start is 6 and end is 10\n",
      "i is 8\n",
      "array[i] is 9\n",
      "start is 6 and end is 7\n",
      "i is 6\n",
      "array[i] is 5\n",
      "check1\n",
      "start is 7 and end is 7\n",
      "i is 7\n",
      "array[i] is 7\n"
     ]
    },
    {
     "data": {
      "text/plain": [
       "7"
      ]
     },
     "execution_count": 13,
     "metadata": {},
     "output_type": "execute_result"
    }
   ],
   "source": [
    "magicIndexFinder3(t2)"
   ]
  },
  {
   "cell_type": "code",
   "execution_count": 126,
   "metadata": {},
   "outputs": [
    {
     "name": "stdout",
     "output_type": "stream",
     "text": [
      "5\n",
      "go right with new index 6 10\n",
      "go left\n",
      "go right with new index 6 7\n",
      "6\n",
      "go right with new index 7 7\n"
     ]
    },
    {
     "data": {
      "text/plain": [
       "7"
      ]
     },
     "execution_count": 126,
     "metadata": {},
     "output_type": "execute_result"
    }
   ],
   "source": [
    "magicIndexFinder2(t2)"
   ]
  },
  {
   "cell_type": "code",
   "execution_count": 125,
   "metadata": {
    "scrolled": false
   },
   "outputs": [
    {
     "name": "stderr",
     "output_type": "stream",
     "text": [
      "E\n",
      "======================================================================\n",
      "ERROR: C:\\Users\\K\\AppData\\Roaming\\jupyter\\runtime\\kernel-3634917b-fe3e-425a-b099-f9e46db01c96 (unittest.loader._FailedTest)\n",
      "----------------------------------------------------------------------\n",
      "AttributeError: module '__main__' has no attribute 'C:\\Users\\K\\AppData\\Roaming\\jupyter\\runtime\\kernel-3634917b-fe3e-425a-b099-f9e46db01c96'\n",
      "\n",
      "----------------------------------------------------------------------\n",
      "Ran 1 test in 0.006s\n",
      "\n",
      "FAILED (errors=1)\n"
     ]
    },
    {
     "ename": "SystemExit",
     "evalue": "True",
     "output_type": "error",
     "traceback": [
      "An exception has occurred, use %tb to see the full traceback.\n",
      "\u001b[0;31mSystemExit\u001b[0m\u001b[0;31m:\u001b[0m True\n"
     ]
    },
    {
     "name": "stderr",
     "output_type": "stream",
     "text": [
      "C:\\Users\\K\\Anaconda3\\lib\\site-packages\\IPython\\core\\interactiveshell.py:2889: UserWarning: To exit: use 'exit', 'quit', or Ctrl-D.\n",
      "  warn(\"To exit: use 'exit', 'quit', or Ctrl-D.\", stacklevel=1)\n"
     ]
    }
   ],
   "source": [
    "import unittest\n",
    "class MyTest(unittest.TestCase):\n",
    "    \n",
    "    def test_magic_index(self):\n",
    "        \n",
    "        f = magicIndexFinder2\n",
    "        self.assertEqual( 1, f([0, 1, 2]))\n",
    "        self.assertEqual( 1, f([-2, 1, 3]))\n",
    "        self.assertEqual(-1, f([-2, 0, 1]))\n",
    "        self.assertEqual(-1, f([-2, -1, 1]))\n",
    "        self.assertEqual(-1, f([-3, -1, 1]))\n",
    "        self.assertEqual(-1, f([-3, -2, -1]))\n",
    "        self.assertEqual( 3, f([-4, 0, 1, 3]))\n",
    "        self.assertEqual( 1, f([-1, 1, 2, 4]))\n",
    "        self.assertEqual(-1, f([-1, 0, 1, 4]))\n",
    "        self.assertEqual(-1, f([-2, -1, 0, 4]))\n",
    "        self.assertEqual(-1, f([-3, -1, 0, 2]))\n",
    "        self.assertEqual(-1, f([1, 2, 3, 5, 6]))\n",
    "        self.assertEqual( 2, f([-5, 1, 2, 3, 5]))\n",
    "        self.assertEqual( 3, f([-4, -3, 0, 3, 5]))\n",
    "        self.assertEqual(-1, f([-5, -4, -1, 1, 2]))\n",
    "        self.assertEqual( 4, f([-3, 0, 1, 2, 4, 6]))\n",
    "        self.assertEqual(-1, f([-3, -2, -1, 0, 1, 4]))\n",
    "        self.assertEqual(-1, f([-4, -3, -2, 2, 3, 4]))\n",
    "        self.assertEqual(-1, f([-3, -2, 1, 4, 5, 6, 7]))\n",
    "        self.assertEqual(-1, f([-7, -2, 3, 5, 6, 7, 8]))\n",
    "        self.assertEqual(-1, f([-6, -5, -1, 2, 3, 4, 5]))\n",
    "        self.assertEqual(-1, f([-5, -3, -1, 1, 6, 7, 8]))\n",
    "        self.assertEqual(-1, f([-3, -2, -1, 1, 3, 4, 5]))\n",
    "        self.assertEqual(-1, f([-5, -4, -3, 4, 5, 7, 8, 9]))\n",
    "        self.assertEqual(-1, f([-7, -3, -2, -1, 1, 6, 7, 8]))\n",
    "        self.assertEqual(-1, f([-7, -6, 0, 1, 3, 4, 5, 6, 7]))\n",
    "        self.assertEqual( 5, f([-5, -4, -3, -2, 2, 5, 7, 8, 9]))\n",
    "        self.assertEqual(-1, f([-7, -6, -5, -4, 2, 3, 4, 5, 6]))\n",
    "        self.assertEqual( 5, f([-7, -6, -4, -1, 1, 5, 7, 8, 9, 10]))\n",
    "        self.assertEqual(10, f([-9, -7, -4, 0, 1, 2, 3, 6, 7, 8, 10]))\n",
    "        self.assertEqual( 8, f([-10, -9, -8, -7, -6, -5, 1, 2, 8, 10]))\n",
    "        self.assertEqual(-1, f([-10, -9, -8, -7, -5, -1, 0, 1, 5, 6, 9]))\n",
    "        self.assertEqual(-1, f([-11, -10, -9, -8, -7, -5, -1, 0, 1, 2, 8]))\n",
    "        self.assertEqual(-1, f([-11, -7, -6, -5, -2, -1, 8, 9, 10, 11, 12]))\n",
    "        self.assertEqual(-1, f([-12, -9, -4, -3, -2, 1, 2, 3, 4, 7, 8, 12]))\n",
    "        self.assertEqual( 8, f([-8, -7, -5, -4, -3, -1, 0, 7, 8, 9, 10, 11]))\n",
    "        self.assertEqual(11, f([-8, -7, -2, -1, 2, 3, 5, 6, 7, 8, 9, 11, 12]))\n",
    "        self.assertEqual(10, f([-11, -7, -6, -4, 0, 1, 2, 6, 7, 8, 10, 12, 13]))\n",
    "        self.assertEqual(12, f([-12, -11, -10, -9, -8, -7, 1, 2, 3, 4, 7, 9, 12]))\n",
    "        self.assertEqual( 6, f([-8, -7, -3, 1, 4, 5, 6, 7, 8, 9, 10, 11, 12, 13]))\n",
    "        self.assertEqual( 9, f([-10, -6, -4, -3, -2, -1, 2, 4, 8, 9, 10, 11, 12]))\n",
    "        self.assertEqual(11, f([-12, -11, -6, -5, -4, -3, -2, 0, 1, 3, 5, 11, 12]))\n",
    "        self.assertEqual(11, f([-12, -11, -10, -9, -8, -7, -1, 0, 4, 5, 10, 11, 13]))\n",
    "        self.assertEqual(12, f([-13, -12, -8, -6, -5, -4, 2, 3, 4, 6, 7, 8, 12, 14]))\n",
    "        self.assertEqual(-1, f([-10, -8, -7, -4, -3, -1, 0, 1, 2, 3, 4, 5, 6, 9, 12]))\n",
    "        self.assertEqual(-1, f([-8, -7, -6, -4, -3, 0, 2, 3, 4, 6, 7, 12, 13, 14, 15]))\n",
    "        self.assertEqual(12, f([-12, -11, -10, -9, -8, -7, -6, -5, -4, 3, 8, 9, 12, 13]))\n",
    "        self.assertEqual(14, f([-15, -11, -7, -5, -3, 0, 1, 4, 5, 8, 9, 10, 11, 12, 14]))\n",
    "        self.assertEqual(14, f([-12, -10, -9, -8, -7, -1, 0, 4, 5, 6, 7, 8, 10, 11, 14]))\n",
    "        self.assertEqual(13, f([-14, -13, -10, -9, -8, -4, -2, -1, 0, 1, 2, 5, 12, 13, 15]))\n",
    "\n",
    "if __name__ == \"__main__\":\n",
    "    unittest.main()"
   ]
  },
  {
   "cell_type": "code",
   "execution_count": null,
   "metadata": {
    "collapsed": true,
    "scrolled": true
   },
   "outputs": [],
   "source": []
  }
 ],
 "metadata": {
  "kernelspec": {
   "display_name": "Python 3",
   "language": "python",
   "name": "python3"
  },
  "language_info": {
   "codemirror_mode": {
    "name": "ipython",
    "version": 3
   },
   "file_extension": ".py",
   "mimetype": "text/x-python",
   "name": "python",
   "nbconvert_exporter": "python",
   "pygments_lexer": "ipython3",
   "version": "3.6.0"
  }
 },
 "nbformat": 4,
 "nbformat_minor": 2
}
