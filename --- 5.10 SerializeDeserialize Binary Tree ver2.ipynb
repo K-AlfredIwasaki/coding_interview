{
 "cells": [
  {
   "cell_type": "code",
   "execution_count": 48,
   "metadata": {},
   "outputs": [
    {
     "name": "stdout",
     "output_type": "stream",
     "text": [
      "(100 ( (50 ( (25 ( None | (30 ( None | None)))) | (75 ( (60 ( None | None)) | None)))) | (200 ( (125 ( None | None)) | (350 ( None | None))))))\n"
     ]
    }
   ],
   "source": [
    "from data_structure.binary_tree import *\n",
    "b = BinaryTree(100)\n",
    "b.left = BinaryTree(50)\n",
    "b.left.left = BinaryTree(25)\n",
    "b.left.left.right = BinaryTree(30)\n",
    "b.left.right = BinaryTree(75)\n",
    "b.left.right.left = BinaryTree(60)\n",
    "b.right = BinaryTree(200)\n",
    "b.right.left = BinaryTree(125)\n",
    "b.right.right = BinaryTree(350)\n",
    "\n",
    "print (b)"
   ]
  },
  {
   "cell_type": "code",
   "execution_count": 49,
   "metadata": {},
   "outputs": [
    {
     "name": "stdout",
     "output_type": "stream",
     "text": [
      "[100, 50, 25, 30, 75, 60, 200, 125, 350]\n"
     ]
    }
   ],
   "source": [
    "def preOrder(root, result = []):\n",
    "    if root == None:\n",
    "        return\n",
    "    \n",
    "    result.append(root.content)\n",
    "    preOrder(root.left)\n",
    "    preOrder(root.right)\n",
    "    \n",
    "    return result\n",
    "    \n",
    "t = preOrder(b)\n",
    "print (t)"
   ]
  },
  {
   "cell_type": "code",
   "execution_count": 50,
   "metadata": {
    "scrolled": true
   },
   "outputs": [
    {
     "name": "stdout",
     "output_type": "stream",
     "text": [
      "[25, 30, 50, 60, 75, 100, 125, 200, 350]\n"
     ]
    }
   ],
   "source": [
    "def inOrder(root, result = []):\n",
    "    if root == None:\n",
    "        return\n",
    "    \n",
    "    inOrder(root.left)\n",
    "    result.append(root.content)\n",
    "    inOrder(root.right)\n",
    "    \n",
    "    return result\n",
    "    \n",
    "r = inOrder(b)\n",
    "print (r)"
   ]
  },
  {
   "cell_type": "code",
   "execution_count": 51,
   "metadata": {
    "collapsed": true
   },
   "outputs": [],
   "source": [
    "def inOrder_print(root):\n",
    "    if root == None:\n",
    "        return\n",
    "    \n",
    "    inOrder_print(root.left)\n",
    "    print (root.content)\n",
    "    inOrder_print(root.right)"
   ]
  },
  {
   "cell_type": "code",
   "execution_count": 95,
   "metadata": {
    "collapsed": true
   },
   "outputs": [],
   "source": [
    "def preOrder_print(root):\n",
    "    if root == None:\n",
    "        return\n",
    "    \n",
    "    print (root.content)\n",
    "    preOrder_print(root.left)\n",
    "    preOrder_print(root.right)"
   ]
  },
  {
   "cell_type": "code",
   "execution_count": 99,
   "metadata": {},
   "outputs": [],
   "source": [
    "def construct_btree(pre_trav, in_trav, l, h , size):\n",
    "    # base\n",
    "    print (\"l: {} and h: {}\".format(l, h))\n",
    "    if construct_btree.preindex >= size or l > h: ###### IMPORTANT\n",
    "        return\n",
    "    \n",
    "    # get a root\n",
    "    root = BinaryTree(pre_trav[construct_btree.preindex])\n",
    "    print(\"root is {}\".format(root.content))\n",
    "    \n",
    "    # get an index of root\n",
    "    for i in range(0, size):\n",
    "        if in_trav[i] == pre_trav[construct_btree.preindex]:\n",
    "            break\n",
    "    print (\"i pointer in in_trav is {}\".format(i))        \n",
    "    \n",
    "    # update\n",
    "    construct_btree.preindex += 1\n",
    "    \n",
    "    # base\n",
    "    if l  == h:\n",
    "        return root\n",
    "    \n",
    "        \n",
    "    \n",
    "    # recursion\n",
    "    if i <= h:\n",
    "        print (\"-------------------------------------------------------------------\")\n",
    "        print (\"move onto left: {} and {} and right: {} and {}\".format(l, i-1, i+1, h))\n",
    "        print (\"---- left --------------------------------\")\n",
    "        root.left = construct_btree(pre_trav, in_trav, l, i-1, size)\n",
    "        print (\"---- right -------------------------------\")\n",
    "        root.right = construct_btree(pre_trav, in_trav, i+1, h, size)\n",
    "        \n",
    "    return root\n",
    "    \n",
    "construct_btree.preindex = 0"
   ]
  },
  {
   "cell_type": "code",
   "execution_count": 100,
   "metadata": {
    "scrolled": false
   },
   "outputs": [
    {
     "name": "stdout",
     "output_type": "stream",
     "text": [
      "l: 0 and h: 8\n",
      "root is 100\n",
      "i pointer in in_trav is 5\n",
      "-------------------------------------------------------------------\n",
      "move onto left: 0 and 4 and right: 6 and 8\n",
      "---- left --------------------------------\n",
      "l: 0 and h: 4\n",
      "root is 50\n",
      "i pointer in in_trav is 2\n",
      "-------------------------------------------------------------------\n",
      "move onto left: 0 and 1 and right: 3 and 4\n",
      "---- left --------------------------------\n",
      "l: 0 and h: 1\n",
      "root is 25\n",
      "i pointer in in_trav is 0\n",
      "-------------------------------------------------------------------\n",
      "move onto left: 0 and -1 and right: 1 and 1\n",
      "---- left --------------------------------\n",
      "l: 0 and h: -1\n",
      "---- right -------------------------------\n",
      "l: 1 and h: 1\n",
      "root is 30\n",
      "i pointer in in_trav is 1\n",
      "---- right -------------------------------\n",
      "l: 3 and h: 4\n",
      "root is 75\n",
      "i pointer in in_trav is 4\n",
      "-------------------------------------------------------------------\n",
      "move onto left: 3 and 3 and right: 5 and 4\n",
      "---- left --------------------------------\n",
      "l: 3 and h: 3\n",
      "root is 60\n",
      "i pointer in in_trav is 3\n",
      "---- right -------------------------------\n",
      "l: 5 and h: 4\n",
      "---- right -------------------------------\n",
      "l: 6 and h: 8\n",
      "root is 200\n",
      "i pointer in in_trav is 7\n",
      "-------------------------------------------------------------------\n",
      "move onto left: 6 and 6 and right: 8 and 8\n",
      "---- left --------------------------------\n",
      "l: 6 and h: 6\n",
      "root is 125\n",
      "i pointer in in_trav is 6\n",
      "---- right -------------------------------\n",
      "l: 8 and h: 8\n",
      "root is 350\n",
      "i pointer in in_trav is 8\n"
     ]
    }
   ],
   "source": [
    "result = construct_btree(t, r, 0, len(t)-1, len(t))"
   ]
  },
  {
   "cell_type": "code",
   "execution_count": 101,
   "metadata": {
    "scrolled": true
   },
   "outputs": [
    {
     "name": "stdout",
     "output_type": "stream",
     "text": [
      "(100 ( (50 ( (25 ( None | (30 ( None | None)))) | (75 ( (60 ( None | None)) | None)))) | (200 ( (125 ( None | None)) | (350 ( None | None))))))\n"
     ]
    }
   ],
   "source": [
    "print (result)"
   ]
  },
  {
   "cell_type": "code",
   "execution_count": 102,
   "metadata": {},
   "outputs": [
    {
     "name": "stdout",
     "output_type": "stream",
     "text": [
      "25\n",
      "30\n",
      "50\n",
      "60\n",
      "75\n",
      "100\n",
      "125\n",
      "200\n",
      "350\n"
     ]
    }
   ],
   "source": [
    "inOrder_print(result)"
   ]
  },
  {
   "cell_type": "code",
   "execution_count": 103,
   "metadata": {
    "scrolled": true
   },
   "outputs": [
    {
     "name": "stdout",
     "output_type": "stream",
     "text": [
      "100\n",
      "50\n",
      "25\n",
      "30\n",
      "75\n",
      "60\n",
      "200\n",
      "125\n",
      "350\n"
     ]
    }
   ],
   "source": [
    "preOrder_print(result)"
   ]
  }
 ],
 "metadata": {
  "kernelspec": {
   "display_name": "Python 3",
   "language": "python",
   "name": "python3"
  },
  "language_info": {
   "codemirror_mode": {
    "name": "ipython",
    "version": 3
   },
   "file_extension": ".py",
   "mimetype": "text/x-python",
   "name": "python",
   "nbconvert_exporter": "python",
   "pygments_lexer": "ipython3",
   "version": "3.6.0"
  }
 },
 "nbformat": 4,
 "nbformat_minor": 2
}
