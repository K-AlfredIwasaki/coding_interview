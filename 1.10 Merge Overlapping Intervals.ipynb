{
 "cells": [
  {
   "cell_type": "code",
   "execution_count": 1,
   "metadata": {
    "collapsed": true
   },
   "outputs": [],
   "source": [
    "inp = [[1, 5], [3, 7], [4, 6], [10, 12], [11, 15]]"
   ]
  },
  {
   "cell_type": "code",
   "execution_count": 4,
   "metadata": {},
   "outputs": [],
   "source": [
    "# case1 [1, 5] [3, 7] => [1, 7] update upper bound\n",
    "# case2 [1, 5] [2, 4] => [1, 5] merge to the original one\n",
    "# case3 [1, 5] [7, 10] => [1, 5] [7, 10] keep two\n",
    "\n",
    "def merge_intervals(inp):\n",
    "    outp = []\n",
    "    outp.append(inp[0])\n",
    "    \n",
    "    for i, pair in enumerate(inp):\n",
    "        if i == 0:\n",
    "            pass\n",
    "        # iterate from second item\n",
    "        \n",
    "        # check the bound\n",
    "        if outp[-1][0] <= pair[0] and pair[0] <= outp[-1][1]:\n",
    "            \n",
    "            if outp[-1][1] < pair[1]:\n",
    "                # overwrite upper boundary\n",
    "                outp[-1][1] = pair[1] # case 1\n",
    "                print ()\n",
    "            else:\n",
    "                pass # case 2\n",
    "        else:\n",
    "            outp.append(pair)\n",
    "    \n",
    "    return inp"
   ]
  },
  {
   "cell_type": "code",
   "execution_count": 5,
   "metadata": {},
   "outputs": [
    {
     "data": {
      "text/plain": [
       "[[1, 7], [3, 7], [4, 6], [10, 15], [11, 15]]"
      ]
     },
     "execution_count": 5,
     "metadata": {},
     "output_type": "execute_result"
    }
   ],
   "source": [
    "merge_intervals(inp)"
   ]
  }
 ],
 "metadata": {
  "kernelspec": {
   "display_name": "Python 3",
   "language": "python",
   "name": "python3"
  },
  "language_info": {
   "codemirror_mode": {
    "name": "ipython",
    "version": 3
   },
   "file_extension": ".py",
   "mimetype": "text/x-python",
   "name": "python",
   "nbconvert_exporter": "python",
   "pygments_lexer": "ipython3",
   "version": "3.6.0"
  }
 },
 "nbformat": 4,
 "nbformat_minor": 2
}
