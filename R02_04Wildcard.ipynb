{
 "cells": [
  {
   "cell_type": "code",
   "execution_count": 2,
   "metadata": {
    "collapsed": true
   },
   "outputs": [],
   "source": [
    "def wildcard_rec(s, i, result):\n",
    "    # base\n",
    "    if i == len(s):\n",
    "        print (result)\n",
    "        return\n",
    "    \n",
    "    # recursion\n",
    "    temp = s[i]\n",
    "    if temp == \"?\":\n",
    "        # 0\n",
    "        result.append(0)\n",
    "        wildcard_rec(s, i+1, result)\n",
    "        result.pop()\n",
    "        # 1\n",
    "        result.append(1)\n",
    "        wildcard_rec(s, i+1, result)\n",
    "        result.pop()\n",
    "    \n",
    "    else:\n",
    "        result.append(temp)\n",
    "        wildcard_rec(s, i+1, result)\n",
    "        result.pop()\n",
    "\n",
    "def wildcard(s):\n",
    "    i = 0\n",
    "    result = []\n",
    "    return wildcard_rec(s, i, result)"
   ]
  },
  {
   "cell_type": "code",
   "execution_count": 5,
   "metadata": {},
   "outputs": [
    {
     "name": "stdout",
     "output_type": "stream",
     "text": [
      "['1', 0, '0', 0, 0]\n",
      "['1', 0, '0', 0, 1]\n",
      "['1', 0, '0', 1, 0]\n",
      "['1', 0, '0', 1, 1]\n",
      "['1', 1, '0', 0, 0]\n",
      "['1', 1, '0', 0, 1]\n",
      "['1', 1, '0', 1, 0]\n",
      "['1', 1, '0', 1, 1]\n"
     ]
    }
   ],
   "source": [
    "wildcard(\"1?0??\")"
   ]
  },
  {
   "cell_type": "markdown",
   "metadata": {},
   "source": [
    "input string has a length n\n",
    "\n",
    "Time complexity O(2^n): number of nodes in the execution tree \n",
    "\n",
    "Space compexity O(n): height of the execution tree"
   ]
  }
 ],
 "metadata": {
  "kernelspec": {
   "display_name": "Python 3",
   "language": "python",
   "name": "python3"
  },
  "language_info": {
   "codemirror_mode": {
    "name": "ipython",
    "version": 3
   },
   "file_extension": ".py",
   "mimetype": "text/x-python",
   "name": "python",
   "nbconvert_exporter": "python",
   "pygments_lexer": "ipython3",
   "version": "3.6.0"
  }
 },
 "nbformat": 4,
 "nbformat_minor": 2
}
