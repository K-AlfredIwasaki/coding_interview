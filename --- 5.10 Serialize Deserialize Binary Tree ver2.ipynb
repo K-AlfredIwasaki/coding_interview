{
 "cells": [
  {
   "cell_type": "code",
   "execution_count": 60,
   "metadata": {
    "collapsed": true
   },
   "outputs": [],
   "source": [
    "from data_structure.binary_tree import *\n",
    "\n",
    "b = BinaryTree(100)\n",
    "b.left = BinaryTree(50)\n",
    "b.left.left = BinaryTree(25)\n",
    "b.left.right = BinaryTree(75)\n",
    "b.left.left.right = BinaryTree(35)\n",
    "b.right = BinaryTree(200)\n",
    "b.right.right = BinaryTree(300)"
   ]
  },
  {
   "cell_type": "code",
   "execution_count": 61,
   "metadata": {
    "collapsed": true
   },
   "outputs": [],
   "source": [
    "from collections import deque\n",
    "def serialize(root, result=deque()):\n",
    "    # base \n",
    "    if root == None:\n",
    "        result.append(\"S\")\n",
    "        return\n",
    "    \n",
    "    # recursion\n",
    "    result.append(root.content)\n",
    "    serialize(root.left)\n",
    "    serialize(root.right)\n",
    "    \n",
    "    return result"
   ]
  },
  {
   "cell_type": "code",
   "execution_count": 62,
   "metadata": {},
   "outputs": [
    {
     "data": {
      "text/plain": [
       "deque([100, 50, 25, 'S', 35, 'S', 'S', 75, 'S', 'S', 200, 'S', 300, 'S', 'S'])"
      ]
     },
     "execution_count": 62,
     "metadata": {},
     "output_type": "execute_result"
    }
   ],
   "source": [
    "s = serialize(b)\n",
    "s"
   ]
  },
  {
   "cell_type": "code",
   "execution_count": 63,
   "metadata": {
    "collapsed": true
   },
   "outputs": [],
   "source": [
    "def deserialize(stack):\n",
    "    # base\n",
    "    data = stack[0]\n",
    "    stack.popleft()\n",
    "    \n",
    "    if data == \"S\":\n",
    "        return\n",
    "    \n",
    "    # recursion\n",
    "    node = BinaryTree(data)\n",
    "    node.left = deserialize(stack)\n",
    "    node.right = deserialize(stack)\n",
    "    \n",
    "    return node"
   ]
  },
  {
   "cell_type": "code",
   "execution_count": 64,
   "metadata": {},
   "outputs": [
    {
     "name": "stdout",
     "output_type": "stream",
     "text": [
      "(100 ( (50 ( (25 ( None | (35 ( None | None)))) | (75 ( None | None)))) | (200 ( None | (300 ( None | None))))))\n"
     ]
    }
   ],
   "source": [
    "print (deserialize(s))"
   ]
  }
 ],
 "metadata": {
  "kernelspec": {
   "display_name": "Python 3",
   "language": "python",
   "name": "python3"
  },
  "language_info": {
   "codemirror_mode": {
    "name": "ipython",
    "version": 3
   },
   "file_extension": ".py",
   "mimetype": "text/x-python",
   "name": "python",
   "nbconvert_exporter": "python",
   "pygments_lexer": "ipython3",
   "version": "3.6.0"
  }
 },
 "nbformat": 4,
 "nbformat_minor": 2
}
