{
 "cells": [
  {
   "cell_type": "code",
   "execution_count": 16,
   "metadata": {
    "scrolled": false
   },
   "outputs": [
    {
     "name": "stdout",
     "output_type": "stream",
     "text": [
      "1=>2=>3=>4=>5=>6=>7=>8\n"
     ]
    }
   ],
   "source": [
    "from data_structure.linkedlist_simple import *\n",
    "\n",
    "l = LinkedList(1)\n",
    "l.next = LinkedList(2)\n",
    "l.next.next = LinkedList(3)\n",
    "l.next.next.next = LinkedList(4)\n",
    "l.next.next.next.next = LinkedList(5)\n",
    "l.next.next.next.next.next = LinkedList(6)\n",
    "l.next.next.next.next.next.next = LinkedList(7)\n",
    "l.next.next.next.next.next.next.next = LinkedList(8)\n",
    "\n",
    "print (l)"
   ]
  },
  {
   "cell_type": "code",
   "execution_count": 17,
   "metadata": {
    "collapsed": true
   },
   "outputs": [],
   "source": [
    "def reverse_k(node, k):\n",
    "    \n",
    "    current = node\n",
    "    prev_tail = None\n",
    "    \n",
    "    while current != None:\n",
    "        head = None\n",
    "        tail = None\n",
    "        count = 0\n",
    "        \n",
    "        while count < k and current != None: #### IMPORTANT\n",
    "            print(current.content)\n",
    "            temp = current\n",
    "            current = current.next\n",
    "            \n",
    "            temp.next = head\n",
    "            head = temp\n",
    "            \n",
    "            if not tail:\n",
    "                tail = temp\n",
    "            \n",
    "            count += 1\n",
    "            \n",
    "        if not prev_tail: \n",
    "            big_head = head\n",
    "            \n",
    "        else:\n",
    "            prev_tail.next = head\n",
    "        \n",
    "        prev_tail = tail\n",
    "    \n",
    "    return big_head"
   ]
  },
  {
   "cell_type": "code",
   "execution_count": 18,
   "metadata": {
    "scrolled": false
   },
   "outputs": [
    {
     "name": "stdout",
     "output_type": "stream",
     "text": [
      "1\n",
      "2\n",
      "3\n",
      "4\n",
      "5\n",
      "6\n",
      "7\n",
      "8\n",
      "6=>5=>4=>3=>2=>1=>8=>7\n"
     ]
    }
   ],
   "source": [
    "print(reverse_k(l, 6))"
   ]
  }
 ],
 "metadata": {
  "kernelspec": {
   "display_name": "Python 3",
   "language": "python",
   "name": "python3"
  },
  "language_info": {
   "codemirror_mode": {
    "name": "ipython",
    "version": 3
   },
   "file_extension": ".py",
   "mimetype": "text/x-python",
   "name": "python",
   "nbconvert_exporter": "python",
   "pygments_lexer": "ipython3",
   "version": "3.6.0"
  }
 },
 "nbformat": 4,
 "nbformat_minor": 2
}
