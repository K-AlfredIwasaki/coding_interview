{
 "cells": [
  {
   "cell_type": "code",
   "execution_count": 1,
   "metadata": {
    "collapsed": true
   },
   "outputs": [],
   "source": [
    "class Solution(object):\n",
    "    def numIslands(self, grid):\n",
    "        \"\"\"\n",
    "        :type grid: List[List[str]]\n",
    "        :rtype: int\n",
    "        \"\"\"\n",
    "        status = [[False for j in range(len(grid[0]))] for i in range(len(grid))]\n",
    "        count = 0\n",
    "        \n",
    "        for i in range(len(grid)):\n",
    "            for j in range(len(grid[0])):\n",
    "                \n",
    "                if grid[i][j] == \"1\" and status[i][j] == False:\n",
    "                    count += 1\n",
    "                    self.dfs(grid, status, i, j)    \n",
    "        \n",
    "        return count    \n",
    "        \n",
    "        \n",
    "    def dfs(self, grid, status, i, j):\n",
    "        \n",
    "        if 0 <= i and i < len(grid) and 0 <= j and j < len(grid[0]):\n",
    "            if grid[i][j] == \"0\" or status[i][j] == True:\n",
    "                return\n",
    "            \n",
    "            if grid[i][j] == \"1\" and status[i][j] == False:\n",
    "                status[i][j] = True\n",
    "        else:\n",
    "            return\n",
    "        \n",
    "        self.dfs(grid, status, i+1, j)\n",
    "        self.dfs(grid, status, i, j+1)\n",
    "        self.dfs(grid, status, i-1, j)\n",
    "        self.dfs(grid, status, i, j-1)"
   ]
  }
 ],
 "metadata": {
  "kernelspec": {
   "display_name": "Python 3",
   "language": "python",
   "name": "python3"
  },
  "language_info": {
   "codemirror_mode": {
    "name": "ipython",
    "version": 3
   },
   "file_extension": ".py",
   "mimetype": "text/x-python",
   "name": "python",
   "nbconvert_exporter": "python",
   "pygments_lexer": "ipython3",
   "version": "3.6.0"
  }
 },
 "nbformat": 4,
 "nbformat_minor": 2
}
