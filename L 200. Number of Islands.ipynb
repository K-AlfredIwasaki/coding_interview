{
 "cells": [
  {
   "cell_type": "code",
   "execution_count": 228,
   "metadata": {},
   "outputs": [
    {
     "data": {
      "text/plain": [
       "[['1', '1', '1'], ['0', '1', '0'], ['1', '1', '1']]"
      ]
     },
     "execution_count": 228,
     "metadata": {},
     "output_type": "execute_result"
    }
   ],
   "source": [
    "test = [[\"1\",\"1\",\"1\"],[\"0\",\"1\",\"0\"],[\"1\",\"1\",\"1\"]]\n",
    "\n",
    "test"
   ]
  },
  {
   "cell_type": "code",
   "execution_count": 231,
   "metadata": {},
   "outputs": [],
   "source": [
    "class Solution(object):\n",
    "    def numIslands(self, grid):\n",
    "        \"\"\"\n",
    "        :type grid: List[List[str]]\n",
    "        :rtype: int\n",
    "        \"\"\"\n",
    "        status = [[False for j in range(len(grid[0]))] for i in range(len(grid))]\n",
    "        count = 0\n",
    "        \n",
    "        for i in range(len(grid)):\n",
    "            for j in range(len(grid[0])):\n",
    "                \n",
    "                if grid[i][j] == \"1\" and status[i][j] == False:\n",
    "                    print (i, j)\n",
    "                    count += 1\n",
    "                    self.dfs(grid, status, i, j)\n",
    "                    print(status)\n",
    "                    \n",
    "        \n",
    "        return count,status      \n",
    "        \n",
    "        \n",
    "    def dfs(self, grid, status, i, j):\n",
    "        \n",
    "        if 0 <= i and i < len(grid) and 0 <= j and j < len(grid[0]):\n",
    "            if grid[i][j] == \"0\" or status[i][j] == True:\n",
    "                return\n",
    "            \n",
    "            if grid[i][j] == \"1\" and status[i][j] == False:\n",
    "                status[i][j] = True\n",
    "        else:\n",
    "            return\n",
    "        \n",
    "        self.dfs(grid, status, i+1, j)\n",
    "        self.dfs(grid, status, i, j+1)\n",
    "        self.dfs(grid, status, i-1, j)\n",
    "        self.dfs(grid, status, i, j-1)"
   ]
  },
  {
   "cell_type": "code",
   "execution_count": 232,
   "metadata": {
    "scrolled": true
   },
   "outputs": [
    {
     "name": "stdout",
     "output_type": "stream",
     "text": [
      "0 0\n",
      "[[True, True, True], [False, True, False], [True, True, True]]\n"
     ]
    },
    {
     "data": {
      "text/plain": [
       "(1, [[True, True, True], [False, True, False], [True, True, True]])"
      ]
     },
     "execution_count": 232,
     "metadata": {},
     "output_type": "execute_result"
    }
   ],
   "source": [
    "s = Solution()\n",
    "s.numIslands(test)"
   ]
  },
  {
   "cell_type": "code",
   "execution_count": 177,
   "metadata": {},
   "outputs": [
    {
     "data": {
      "text/plain": [
       "[[False, False, False, False, False],\n",
       " [False, False, False, False, False],\n",
       " [False, False, False, False, False],\n",
       " [False, False, False, False, False]]"
      ]
     },
     "execution_count": 177,
     "metadata": {},
     "output_type": "execute_result"
    }
   ],
   "source": [
    "[[False for j in range(len(test[0]))] for i in range(len(test))] # i: row, j: col"
   ]
  },
  {
   "cell_type": "code",
   "execution_count": null,
   "metadata": {
    "collapsed": true
   },
   "outputs": [],
   "source": []
  },
  {
   "cell_type": "code",
   "execution_count": null,
   "metadata": {
    "collapsed": true
   },
   "outputs": [],
   "source": []
  }
 ],
 "metadata": {
  "kernelspec": {
   "display_name": "Python 3",
   "language": "python",
   "name": "python3"
  },
  "language_info": {
   "codemirror_mode": {
    "name": "ipython",
    "version": 3
   },
   "file_extension": ".py",
   "mimetype": "text/x-python",
   "name": "python",
   "nbconvert_exporter": "python",
   "pygments_lexer": "ipython3",
   "version": "3.6.0"
  }
 },
 "nbformat": 4,
 "nbformat_minor": 2
}
