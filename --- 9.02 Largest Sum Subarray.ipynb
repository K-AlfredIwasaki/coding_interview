{
 "cells": [
  {
   "cell_type": "markdown",
   "metadata": {},
   "source": [
    "# Problem\n",
    "\n",
    "Given an array, find the contiguous subarray with the largest sum."
   ]
  },
  {
   "cell_type": "code",
   "execution_count": 1,
   "metadata": {
    "collapsed": true
   },
   "outputs": [],
   "source": [
    "arr = [-4, 2, -5, 1, 2, 3, 6, -5, 1]"
   ]
  },
  {
   "cell_type": "code",
   "execution_count": 17,
   "metadata": {
    "collapsed": true
   },
   "outputs": [],
   "source": [
    "def find_largest_subarray(arr):\n",
    "    \"\"\"\n",
    "    return the largest global max and the subarray for it\n",
    "    \"\"\"\n",
    "    global_max = None\n",
    "    current_max = None\n",
    "    start = 0\n",
    "    end = None\n",
    "    \n",
    "    for i, item in enumerate(arr):\n",
    "        \n",
    "        if not current_max:\n",
    "            current_max = item\n",
    "            global_max = item\n",
    "            \n",
    "        elif current_max < 0:\n",
    "            # reset\n",
    "            current_max = item\n",
    "            start = i\n",
    "            \n",
    "        elif current_max > 0:\n",
    "            # increment\n",
    "            current_max += item\n",
    "        \n",
    "        # update global_max\n",
    "        if current_max > global_max:\n",
    "            global_max = current_max\n",
    "            end = i\n",
    "        \n",
    "    return (global_max, arr[start:end+1])\n",
    "    \n",
    "        \n",
    "        "
   ]
  },
  {
   "cell_type": "code",
   "execution_count": 18,
   "metadata": {
    "scrolled": true
   },
   "outputs": [
    {
     "data": {
      "text/plain": [
       "(12, [1, 2, 3, 6])"
      ]
     },
     "execution_count": 18,
     "metadata": {},
     "output_type": "execute_result"
    }
   ],
   "source": [
    "find_largest_subarray(arr)"
   ]
  }
 ],
 "metadata": {
  "kernelspec": {
   "display_name": "Python 3",
   "language": "python",
   "name": "python3"
  },
  "language_info": {
   "codemirror_mode": {
    "name": "ipython",
    "version": 3
   },
   "file_extension": ".py",
   "mimetype": "text/x-python",
   "name": "python",
   "nbconvert_exporter": "python",
   "pygments_lexer": "ipython3",
   "version": "3.6.0"
  }
 },
 "nbformat": 4,
 "nbformat_minor": 2
}
