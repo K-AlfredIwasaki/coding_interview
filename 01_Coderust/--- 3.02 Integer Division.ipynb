{
 "cells": [
  {
   "cell_type": "markdown",
   "metadata": {},
   "source": [
    "# Problem\n",
    "\n",
    "Divide two integers without using '/' (division) or '*' (multiplication) operators."
   ]
  },
  {
   "cell_type": "code",
   "execution_count": 1,
   "metadata": {
    "collapsed": true
   },
   "outputs": [],
   "source": [
    "def integer_divide(x, y):\n",
    "    # base\n",
    "    if x == 0: # divisor is 0\n",
    "        return -1\n",
    "    if x > y: ############## IMPORTANT\n",
    "        return 0\n",
    "    elif x == y:\n",
    "        return 1\n",
    "    elif x == 1: ############## IMPORTANT\n",
    "        return y\n",
    "    \n",
    "    q = 1\n",
    "    val = x\n",
    "    \n",
    "    while val < y:\n",
    "        val <<= 1\n",
    "        q <<= 1\n",
    "        \n",
    "    if val > y:\n",
    "        val >>= 1\n",
    "        q >>= 1\n",
    "        return q + integer_divide(x, y - val)\n",
    "    \n",
    "    return q\n",
    "    "
   ]
  },
  {
   "cell_type": "code",
   "execution_count": 2,
   "metadata": {},
   "outputs": [
    {
     "data": {
      "text/plain": [
       "5"
      ]
     },
     "execution_count": 2,
     "metadata": {},
     "output_type": "execute_result"
    }
   ],
   "source": [
    "integer_divide(2, 10)"
   ]
  },
  {
   "cell_type": "code",
   "execution_count": 3,
   "metadata": {},
   "outputs": [
    {
     "data": {
      "text/plain": [
       "10"
      ]
     },
     "execution_count": 3,
     "metadata": {},
     "output_type": "execute_result"
    }
   ],
   "source": [
    "integer_divide(4, 40)"
   ]
  },
  {
   "cell_type": "code",
   "execution_count": 4,
   "metadata": {},
   "outputs": [
    {
     "data": {
      "text/plain": [
       "15"
      ]
     },
     "execution_count": 4,
     "metadata": {},
     "output_type": "execute_result"
    }
   ],
   "source": [
    "integer_divide(4, 60)"
   ]
  }
 ],
 "metadata": {
  "kernelspec": {
   "display_name": "Python 3",
   "language": "python",
   "name": "python3"
  },
  "language_info": {
   "codemirror_mode": {
    "name": "ipython",
    "version": 3
   },
   "file_extension": ".py",
   "mimetype": "text/x-python",
   "name": "python",
   "nbconvert_exporter": "python",
   "pygments_lexer": "ipython3",
   "version": "3.6.0"
  }
 },
 "nbformat": 4,
 "nbformat_minor": 2
}
