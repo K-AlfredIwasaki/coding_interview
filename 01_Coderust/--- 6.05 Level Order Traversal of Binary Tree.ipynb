{
 "cells": [
  {
   "cell_type": "markdown",
   "metadata": {},
   "source": [
    "# Problem\n",
    "\n",
    "Given root of a binary tree, display node values at each level. Node values for all levels should be displayed on separate lines.\n",
    "\n",
    "## might try DFS version"
   ]
  },
  {
   "cell_type": "code",
   "execution_count": 18,
   "metadata": {},
   "outputs": [],
   "source": [
    "from data_structure.binary_tree import *\n",
    "\n",
    "b = BinaryTree(100)\n",
    "b.left = BinaryTree(50)\n",
    "b.left.left = BinaryTree(25)\n",
    "b.left.left.left = BinaryTree(10)\n",
    "b.left.left.left.right = BinaryTree(5)\n",
    "b.left.right = BinaryTree(75)\n",
    "b.right = BinaryTree(200)\n",
    "b.right.left = BinaryTree(125)\n",
    "b.right.right = BinaryTree(350)"
   ]
  },
  {
   "cell_type": "code",
   "execution_count": 19,
   "metadata": {
    "collapsed": true
   },
   "outputs": [],
   "source": [
    "def levelorder_traversal(root):\n",
    "    # init\n",
    "    result = []\n",
    "    current_node = [root]\n",
    "    \n",
    "    while len(current_node) > 0:\n",
    "        new_nodes = []\n",
    "        current_result = []\n",
    "        print (result)\n",
    "        \n",
    "        for node in current_node:\n",
    "            print (node.content)\n",
    "            current_result.append(node.content)\n",
    "            \n",
    "            if node.left:\n",
    "                new_nodes.append(node.left)\n",
    "                \n",
    "            if node.right:\n",
    "                new_nodes.append(node.right)\n",
    "            \n",
    "        current_node = new_nodes\n",
    "        result.append(current_result)    \n",
    "        \n",
    "    return result"
   ]
  },
  {
   "cell_type": "code",
   "execution_count": 20,
   "metadata": {},
   "outputs": [
    {
     "name": "stdout",
     "output_type": "stream",
     "text": [
      "[]\n",
      "100\n",
      "[[100]]\n",
      "50\n",
      "200\n",
      "[[100], [50, 200]]\n",
      "25\n",
      "75\n",
      "125\n",
      "350\n",
      "[[100], [50, 200], [25, 75, 125, 350]]\n",
      "10\n",
      "[[100], [50, 200], [25, 75, 125, 350], [10]]\n",
      "5\n"
     ]
    },
    {
     "data": {
      "text/plain": [
       "[[100], [50, 200], [25, 75, 125, 350], [10], [5]]"
      ]
     },
     "execution_count": 20,
     "metadata": {},
     "output_type": "execute_result"
    }
   ],
   "source": [
    "levelorder_traversal(b)"
   ]
  }
 ],
 "metadata": {
  "kernelspec": {
   "display_name": "Python 3",
   "language": "python",
   "name": "python3"
  },
  "language_info": {
   "codemirror_mode": {
    "name": "ipython",
    "version": 3
   },
   "file_extension": ".py",
   "mimetype": "text/x-python",
   "name": "python",
   "nbconvert_exporter": "python",
   "pygments_lexer": "ipython3",
   "version": "3.6.0"
  }
 },
 "nbformat": 4,
 "nbformat_minor": 2
}
