{
 "cells": [
  {
   "cell_type": "markdown",
   "metadata": {},
   "source": [
    "# Problem\n",
    "\n",
    "Given an array, find the contiguous subarray with the largest sum."
   ]
  },
  {
   "cell_type": "code",
   "execution_count": 1,
   "metadata": {
    "collapsed": true
   },
   "outputs": [],
   "source": [
    "arr = [-4, 2, -5, 1, 2, 3, 6, -1, 5]"
   ]
  },
  {
   "cell_type": "code",
   "execution_count": 2,
   "metadata": {
    "collapsed": true
   },
   "outputs": [],
   "source": [
    "def longest_sum_subarray(arr):\n",
    "    \n",
    "    current_max = arr[0] \n",
    "    global_max = arr[0]\n",
    "    current_result = []\n",
    "    global_result = None\n",
    "    \n",
    "    for i in range(1, len(arr)):\n",
    "        \n",
    "        # update current_max \n",
    "        if current_max < 0:       ######################### IMPORTANT\n",
    "            current_max = arr[i]\n",
    "            current_result = [arr[i]]\n",
    "            \n",
    "        else:\n",
    "            current_max += arr[i]\n",
    "            current_result.append(arr[i])\n",
    "           \n",
    "        # update global\n",
    "        if global_max < current_max:\n",
    "            global_max = current_max\n",
    "            global_result = current_result.copy()  # use copy()\n",
    "            \n",
    "            \n",
    "    return global_max, global_result\n",
    "        \n",
    "        "
   ]
  },
  {
   "cell_type": "code",
   "execution_count": 3,
   "metadata": {
    "scrolled": true
   },
   "outputs": [
    {
     "data": {
      "text/plain": [
       "(16, [1, 2, 3, 6, -1, 5])"
      ]
     },
     "execution_count": 3,
     "metadata": {},
     "output_type": "execute_result"
    }
   ],
   "source": [
    "longest_sum_subarray(arr)"
   ]
  }
 ],
 "metadata": {
  "kernelspec": {
   "display_name": "Python 3",
   "language": "python",
   "name": "python3"
  },
  "language_info": {
   "codemirror_mode": {
    "name": "ipython",
    "version": 3
   },
   "file_extension": ".py",
   "mimetype": "text/x-python",
   "name": "python",
   "nbconvert_exporter": "python",
   "pygments_lexer": "ipython3",
   "version": "3.6.0"
  }
 },
 "nbformat": 4,
 "nbformat_minor": 2
}
