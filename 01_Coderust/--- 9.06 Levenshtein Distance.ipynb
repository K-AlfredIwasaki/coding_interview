{
 "cells": [
  {
   "cell_type": "code",
   "execution_count": 11,
   "metadata": {
    "collapsed": true
   },
   "outputs": [],
   "source": [
    "# need to check lower space solution"
   ]
  },
  {
   "cell_type": "code",
   "execution_count": 1,
   "metadata": {},
   "outputs": [
    {
     "data": {
      "text/plain": [
       "[[0, 0, 0, 0, 0, 0, 0],\n",
       " [0, 0, 0, 0, 0, 0, 0],\n",
       " [0, 0, 0, 0, 0, 0, 0],\n",
       " [0, 0, 0, 0, 0, 0, 0],\n",
       " [0, 0, 0, 0, 0, 0, 0],\n",
       " [0, 0, 0, 0, 0, 0, 0]]"
      ]
     },
     "execution_count": 1,
     "metadata": {},
     "output_type": "execute_result"
    }
   ],
   "source": [
    "str1 = \"abcdef\"\n",
    "str2 = \"azced\"\n"
   ]
  },
  {
   "cell_type": "code",
   "execution_count": 10,
   "metadata": {
    "collapsed": true
   },
   "outputs": [],
   "source": [
    "def edit_distance(str1, str2):\n",
    "    # base\n",
    "    if (str1 == str2):\n",
    "        return 0\n",
    "    if (len(str1) == 0):\n",
    "        return len(str2)\n",
    "    \n",
    "    if (len(str2) == 0):\n",
    "        return len(str1)\n",
    "    \n",
    "    d = [[0 for j in range(len(str1)+1)] for i in range(len(str2)+1)]\n",
    "    \n",
    "    for j in range(len(str1)+1):\n",
    "        d[0][j] = j\n",
    "        \n",
    "    for i in range(len(str2)+1):\n",
    "        d[i][0] = i\n",
    "        \n",
    "    for i in range(1, len(str2)+1):\n",
    "        for j in range(1, len(str1)+1):\n",
    "            if str1[j-1] == str2[i-1]:\n",
    "                d[i][j] = d[i-1][j-1]\n",
    "            else:\n",
    "                d[i][j] = min(d[i-1][j-1], d[i-1][j], d[i][j-1]) + 1\n",
    "                \n",
    "    print(d)\n",
    "                \n",
    "    return d[len(str2)][len(str1)]\n",
    "    "
   ]
  },
  {
   "cell_type": "code",
   "execution_count": 9,
   "metadata": {},
   "outputs": [
    {
     "name": "stdout",
     "output_type": "stream",
     "text": [
      "[[0, 1, 2, 3, 4, 5, 6], [1, 0, 1, 2, 3, 4, 5], [2, 1, 1, 2, 3, 4, 5], [3, 2, 2, 1, 2, 3, 4], [4, 3, 3, 2, 2, 2, 3], [5, 4, 4, 3, 2, 3, 3]]\n"
     ]
    },
    {
     "data": {
      "text/plain": [
       "3"
      ]
     },
     "execution_count": 9,
     "metadata": {},
     "output_type": "execute_result"
    }
   ],
   "source": [
    "edit_distance(str1, str2)"
   ]
  },
  {
   "cell_type": "code",
   "execution_count": null,
   "metadata": {
    "collapsed": true
   },
   "outputs": [],
   "source": []
  }
 ],
 "metadata": {
  "kernelspec": {
   "display_name": "Python 3",
   "language": "python",
   "name": "python3"
  },
  "language_info": {
   "codemirror_mode": {
    "name": "ipython",
    "version": 3
   },
   "file_extension": ".py",
   "mimetype": "text/x-python",
   "name": "python",
   "nbconvert_exporter": "python",
   "pygments_lexer": "ipython3",
   "version": "3.6.0"
  }
 },
 "nbformat": 4,
 "nbformat_minor": 2
}
