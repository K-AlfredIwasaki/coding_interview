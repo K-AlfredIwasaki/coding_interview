{
 "cells": [
  {
   "cell_type": "markdown",
   "metadata": {},
   "source": [
    "# Problem\n",
    "\n",
    "Given a double number, write a function to calculate its square root."
   ]
  },
  {
   "cell_type": "code",
   "execution_count": 34,
   "metadata": {
    "collapsed": true
   },
   "outputs": [],
   "source": [
    "def square_root(n):\n",
    "    \n",
    "    epcilon = 0.001\n",
    "    lower = 0\n",
    "    upper = n/2 + 1\n",
    "    \n",
    "    while lower < upper:\n",
    "        mid = (lower + upper) / 2\n",
    "        \n",
    "        if abs(mid ** 2 - n) < epcilon:\n",
    "            return mid\n",
    "        \n",
    "        elif mid ** 2 > n:\n",
    "            upper = mid\n",
    "            \n",
    "        elif mid ** 2 < n:\n",
    "            lower = mid\n",
    "            \n",
    "    return False"
   ]
  },
  {
   "cell_type": "code",
   "execution_count": 32,
   "metadata": {},
   "outputs": [
    {
     "data": {
      "text/plain": [
       "3.000091552734375"
      ]
     },
     "execution_count": 32,
     "metadata": {},
     "output_type": "execute_result"
    }
   ],
   "source": [
    "square_root(9)"
   ]
  }
 ],
 "metadata": {
  "kernelspec": {
   "display_name": "Python 3",
   "language": "python",
   "name": "python3"
  },
  "language_info": {
   "codemirror_mode": {
    "name": "ipython",
    "version": 3
   },
   "file_extension": ".py",
   "mimetype": "text/x-python",
   "name": "python",
   "nbconvert_exporter": "python",
   "pygments_lexer": "ipython3",
   "version": "3.6.0"
  }
 },
 "nbformat": 4,
 "nbformat_minor": 2
}
