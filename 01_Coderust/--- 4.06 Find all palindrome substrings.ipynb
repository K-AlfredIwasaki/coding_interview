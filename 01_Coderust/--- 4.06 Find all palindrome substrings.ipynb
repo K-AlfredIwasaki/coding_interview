{
 "cells": [
  {
   "cell_type": "code",
   "execution_count": 1,
   "metadata": {
    "collapsed": true
   },
   "outputs": [],
   "source": [
    "string = \"aabbbaa\""
   ]
  },
  {
   "cell_type": "code",
   "execution_count": 8,
   "metadata": {
    "collapsed": true
   },
   "outputs": [],
   "source": [
    "def find_palindromes_in_sub_string(input, j, k):\n",
    "    count = 0\n",
    "    while j >= 0 and k < len(input):\n",
    "        if input[j] != input[k]:\n",
    "            break\n",
    "        print (input[j: k + 1])\n",
    "        count += 1\n",
    "        \n",
    "        j -= 1\n",
    "        k += 1\n",
    "        \n",
    "    return count\n",
    "\n",
    "def find_all_palindrome_substrings2(input):\n",
    "    count = 0\n",
    "    \n",
    "    # iterate from start to end\n",
    "    for i in range(len(input)):\n",
    "        \n",
    "        # expand right and left (odd)\n",
    "        count += find_palindromes_in_sub_string(input, i - 1, i+ 1)\n",
    "        # expand to right (even)\n",
    "        count += find_palindromes_in_sub_string(input, i, i + 1)\n",
    "        \n",
    "    return count"
   ]
  },
  {
   "cell_type": "code",
   "execution_count": 9,
   "metadata": {},
   "outputs": [
    {
     "name": "stdout",
     "output_type": "stream",
     "text": [
      "aa\n",
      "bb\n",
      "bbb\n",
      "abbba\n",
      "aabbbaa\n",
      "bb\n",
      "aa\n"
     ]
    },
    {
     "data": {
      "text/plain": [
       "7"
      ]
     },
     "execution_count": 9,
     "metadata": {},
     "output_type": "execute_result"
    }
   ],
   "source": [
    "find_all_palindrome_substrings2(string)"
   ]
  },
  {
   "cell_type": "code",
   "execution_count": null,
   "metadata": {
    "collapsed": true
   },
   "outputs": [],
   "source": [
    "\n",
    "\n"
   ]
  }
 ],
 "metadata": {
  "kernelspec": {
   "display_name": "Python 3",
   "language": "python",
   "name": "python3"
  },
  "language_info": {
   "codemirror_mode": {
    "name": "ipython",
    "version": 3
   },
   "file_extension": ".py",
   "mimetype": "text/x-python",
   "name": "python",
   "nbconvert_exporter": "python",
   "pygments_lexer": "ipython3",
   "version": "3.6.0"
  }
 },
 "nbformat": 4,
 "nbformat_minor": 2
}
