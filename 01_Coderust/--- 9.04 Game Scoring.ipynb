{
 "cells": [
  {
   "cell_type": "markdown",
   "metadata": {},
   "source": [
    "# Problem\n",
    "\n",
    "Imagine a game (like baseball) where a player can score 1, 2 or 4 runs. Given a score \"n\", find the total number of ways score \"n\" can be reached."
   ]
  },
  {
   "cell_type": "code",
   "execution_count": 41,
   "metadata": {
    "collapsed": true
   },
   "outputs": [],
   "source": [
    "def game_scoring(n):\n",
    "    if n == 1:\n",
    "        return 1\n",
    "    if n <= 0:\n",
    "        return None\n",
    "    \n",
    "    memory = [0 for i in range(n+1)]\n",
    "    memory[0] = 1\n",
    "    \n",
    "    for i in range(1, n+1):\n",
    "        print (i)\n",
    "        n_4 = memory[i-4] if i - 4 >= 0 else 0\n",
    "        n_2 = memory[i-2] if i - 2 >= 0 else 0\n",
    "        n_1 = memory[i-1] if i - 1 >= 0 else 0\n",
    "        \n",
    "        memory[i] = n_1 + n_2 + n_4\n",
    "        print (\"memory[{}] is {}\".format(i, memory[i]))\n",
    "    \n",
    "    return memory[n]\n",
    "    "
   ]
  },
  {
   "cell_type": "code",
   "execution_count": 43,
   "metadata": {},
   "outputs": [
    {
     "name": "stdout",
     "output_type": "stream",
     "text": [
      "1\n",
      "memory[1] is 1\n",
      "2\n",
      "memory[2] is 2\n",
      "3\n",
      "memory[3] is 3\n",
      "4\n",
      "memory[4] is 6\n",
      "5\n",
      "memory[5] is 10\n",
      "6\n",
      "memory[6] is 18\n"
     ]
    },
    {
     "data": {
      "text/plain": [
       "18"
      ]
     },
     "execution_count": 43,
     "metadata": {},
     "output_type": "execute_result"
    }
   ],
   "source": [
    "game_scoring(6)"
   ]
  },
  {
   "cell_type": "code",
   "execution_count": 49,
   "metadata": {
    "collapsed": true
   },
   "outputs": [],
   "source": [
    "def game_scoring_recursion(n, result):\n",
    "    # base\n",
    "    if n < 0:\n",
    "        return 0\n",
    "    if result[n] > 0:\n",
    "        return result[n]\n",
    "    \n",
    "    # recursion\n",
    "    result[n] = game_scoring_recursion(n-1, result) +\\\n",
    "                game_scoring_recursion(n-2, result) +\\\n",
    "                game_scoring_recursion(n-4, result)\n",
    "    \n",
    "    return result[n]\n",
    "    \n",
    "def game_scoring(n):\n",
    "    if n <= 0:\n",
    "        return 0\n",
    "    \n",
    "    result = [0 for i in range(n+1)]\n",
    "    result[0] = 1\n",
    "    \n",
    "    return game_scoring_recursion(n, result)"
   ]
  },
  {
   "cell_type": "code",
   "execution_count": 50,
   "metadata": {},
   "outputs": [
    {
     "data": {
      "text/plain": [
       "10"
      ]
     },
     "execution_count": 50,
     "metadata": {},
     "output_type": "execute_result"
    }
   ],
   "source": [
    "game_scoring(5)"
   ]
  },
  {
   "cell_type": "code",
   "execution_count": 51,
   "metadata": {
    "collapsed": true
   },
   "outputs": [],
   "source": [
    "def scoring(n):\n",
    "    if n <= 0:\n",
    "        return 0\n",
    "    \n",
    "    # s(n-4) + s(n-2) + s(n-1) = s(n)\n",
    "    # base:  s(-3) + s(-1) + s(0) = s(1)\n",
    "    result = [0, 0, 0, 1]\n",
    "    \n",
    "    # iterate from 1 to n\n",
    "    for i in range(1, n+1):\n",
    "        current_sum = result[0] + result[2] + result[3]\n",
    "        \n",
    "        # update result\n",
    "        result[0] = result[1]\n",
    "        result[1] = result[2]\n",
    "        result[2] = result[3]\n",
    "        result[3] = current_sum\n",
    "        \n",
    "        return result[3]"
   ]
  }
 ],
 "metadata": {
  "kernelspec": {
   "display_name": "Python 3",
   "language": "python",
   "name": "python3"
  },
  "language_info": {
   "codemirror_mode": {
    "name": "ipython",
    "version": 3
   },
   "file_extension": ".py",
   "mimetype": "text/x-python",
   "name": "python",
   "nbconvert_exporter": "python",
   "pygments_lexer": "ipython3",
   "version": "3.6.0"
  }
 },
 "nbformat": 4,
 "nbformat_minor": 2
}
