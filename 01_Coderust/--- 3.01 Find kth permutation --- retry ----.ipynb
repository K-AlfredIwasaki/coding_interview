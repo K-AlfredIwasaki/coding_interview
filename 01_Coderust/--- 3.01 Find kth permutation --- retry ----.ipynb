{
 "cells": [
  {
   "cell_type": "code",
   "execution_count": 2,
   "metadata": {
    "collapsed": true
   },
   "outputs": [],
   "source": [
    "arr = [1, 3, 5, 9]"
   ]
  },
  {
   "cell_type": "code",
   "execution_count": 3,
   "metadata": {
    "collapsed": true
   },
   "outputs": [],
   "source": [
    "def factorial(n):\n",
    "    if n == 0 or n == 1:\n",
    "        return 1\n",
    "    return n * factorial (n- 1)"
   ]
  },
  {
   "cell_type": "code",
   "execution_count": 4,
   "metadata": {
    "collapsed": true
   },
   "outputs": [],
   "source": [
    "def permutation_builder(arr, k, result = \"\"):\n",
    "    # base\n",
    "    print (arr)\n",
    "    if len(arr) == 0:\n",
    "        print (result)\n",
    "        return result\n",
    "    \n",
    "    n = len(arr)\n",
    "    block_size = factorial(n-1)\n",
    "    selected_block = (k - 1) // block_size\n",
    "    \n",
    "    result += str(arr[selected_block])\n",
    "    \n",
    "    arr.remove(arr[selected_block])\n",
    "    \n",
    "    k = k - (block_size * selected_block)\n",
    "    \n",
    "    permutation_builder(arr, k, result)"
   ]
  },
  {
   "cell_type": "code",
   "execution_count": 5,
   "metadata": {
    "scrolled": true
   },
   "outputs": [
    {
     "name": "stdout",
     "output_type": "stream",
     "text": [
      "[1, 3, 5, 9]\n",
      "[1, 5, 9]\n",
      "[5, 9]\n",
      "[5]\n",
      "[]\n",
      "3195\n"
     ]
    }
   ],
   "source": [
    "permutation_builder(arr, 8)"
   ]
  },
  {
   "cell_type": "code",
   "execution_count": 7,
   "metadata": {
    "collapsed": true
   },
   "outputs": [],
   "source": [
    "arr = [1, 3, 5, 9]"
   ]
  },
  {
   "cell_type": "code",
   "execution_count": 6,
   "metadata": {
    "collapsed": true
   },
   "outputs": [],
   "source": [
    "# no recursion\n",
    "\n",
    "def k_permutation(arr, k):\n",
    "    \n",
    "    \n",
    "    \n",
    "    # init\n",
    "    result = []\n",
    "    arr.sort()\n",
    "    \n",
    "    while len(arr) > 0:\n",
    "        blocksize = factorial(len(arr)-1)\n",
    "        i = (k-1) // blocksize\n",
    "        print (i)\n",
    "        \n",
    "        if len(arr) <= i:\n",
    "            return False\n",
    "        \n",
    "        result.append(arr[i])\n",
    "        arr.remove(arr[i])\n",
    "        \n",
    "        k = k - i * blocksize\n",
    "    \n",
    "    return result"
   ]
  },
  {
   "cell_type": "code",
   "execution_count": 8,
   "metadata": {},
   "outputs": [
    {
     "name": "stdout",
     "output_type": "stream",
     "text": [
      "1\n",
      "0\n",
      "1\n",
      "0\n"
     ]
    },
    {
     "data": {
      "text/plain": [
       "[3, 1, 9, 5]"
      ]
     },
     "execution_count": 8,
     "metadata": {},
     "output_type": "execute_result"
    }
   ],
   "source": [
    "k_permutation(arr, 8)"
   ]
  }
 ],
 "metadata": {
  "kernelspec": {
   "display_name": "Python 3",
   "language": "python",
   "name": "python3"
  },
  "language_info": {
   "codemirror_mode": {
    "name": "ipython",
    "version": 3
   },
   "file_extension": ".py",
   "mimetype": "text/x-python",
   "name": "python",
   "nbconvert_exporter": "python",
   "pygments_lexer": "ipython3",
   "version": "3.6.0"
  }
 },
 "nbformat": 4,
 "nbformat_minor": 2
}
