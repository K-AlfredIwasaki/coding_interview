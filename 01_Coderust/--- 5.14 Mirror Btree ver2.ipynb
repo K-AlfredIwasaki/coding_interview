{
 "cells": [
  {
   "cell_type": "code",
   "execution_count": 71,
   "metadata": {
    "collapsed": true
   },
   "outputs": [],
   "source": [
    "from data_structure.binary_tree import *\n",
    "b = BinaryTree(100)\n",
    "b.left = BinaryTree(50)\n",
    "b.left.left = BinaryTree(25)\n",
    "b.left.right = BinaryTree(75)\n",
    "b.right = BinaryTree(200)\n",
    "b.right.left = BinaryTree(125)\n",
    "b.right.right = BinaryTree(350)"
   ]
  },
  {
   "cell_type": "code",
   "execution_count": 85,
   "metadata": {},
   "outputs": [],
   "source": [
    "### create a new tree\n",
    "def copy(root):\n",
    "    if root == None:\n",
    "        return\n",
    "    \n",
    "    b = BinaryTree(root.content)\n",
    "    current = b\n",
    "    current.left = copy(root.right)\n",
    "    current.right = copy(root.left)\n",
    "    \n",
    "    return b"
   ]
  },
  {
   "cell_type": "code",
   "execution_count": 72,
   "metadata": {
    "scrolled": true
   },
   "outputs": [
    {
     "name": "stdout",
     "output_type": "stream",
     "text": [
      "(100 ( (50 ( (25 ( None | None)) | (75 ( None | None)))) | (200 ( (125 ( None | None)) | (350 ( None | None))))))\n"
     ]
    }
   ],
   "source": [
    "print (b)"
   ]
  },
  {
   "cell_type": "code",
   "execution_count": 68,
   "metadata": {
    "scrolled": true
   },
   "outputs": [
    {
     "name": "stdout",
     "output_type": "stream",
     "text": [
      "(100 ( (200 ( (350 ( None | None)) | (125 ( None | None)))) | (50 ( (75 ( None | None)) | (25 ( None | None))))))\n"
     ]
    }
   ],
   "source": [
    "print (copy(b))"
   ]
  },
  {
   "cell_type": "code",
   "execution_count": 74,
   "metadata": {
    "collapsed": true
   },
   "outputs": [],
   "source": [
    "def mirror(root):\n",
    "    if root == None:\n",
    "        return\n",
    "    \n",
    "    # post-order traversal\n",
    "    if root.left != None:\n",
    "        mirror(root.left)\n",
    "        \n",
    "    if root.right != None:\n",
    "        mirror(root.right)\n",
    "    \n",
    "    # swap\n",
    "    root.left, root.right = root.right, root.left   "
   ]
  },
  {
   "cell_type": "code",
   "execution_count": 75,
   "metadata": {
    "collapsed": true
   },
   "outputs": [],
   "source": [
    "mirror(b)"
   ]
  },
  {
   "cell_type": "code",
   "execution_count": 77,
   "metadata": {},
   "outputs": [
    {
     "name": "stdout",
     "output_type": "stream",
     "text": [
      "(100 ( (200 ( (350 ( None | None)) | (125 ( None | None)))) | (50 ( (75 ( None | None)) | (25 ( None | None))))))\n"
     ]
    }
   ],
   "source": [
    "print (b)"
   ]
  },
  {
   "cell_type": "code",
   "execution_count": 78,
   "metadata": {
    "collapsed": true
   },
   "outputs": [],
   "source": [
    "def mirror(root):\n",
    "    if root == None:\n",
    "        return\n",
    "    \n",
    "    # swap\n",
    "    root.left, root.right = root.right, root.left  \n",
    "    \n",
    "    # pre-order traversal\n",
    "    if root.left != None:\n",
    "        mirror(root.left)\n",
    "        \n",
    "    if root.right != None:\n",
    "        mirror(root.right)"
   ]
  },
  {
   "cell_type": "code",
   "execution_count": 79,
   "metadata": {
    "collapsed": true
   },
   "outputs": [],
   "source": [
    "mirror(b)"
   ]
  },
  {
   "cell_type": "code",
   "execution_count": 81,
   "metadata": {},
   "outputs": [
    {
     "name": "stdout",
     "output_type": "stream",
     "text": [
      "(100 ( (50 ( (25 ( None | None)) | (75 ( None | None)))) | (200 ( (125 ( None | None)) | (350 ( None | None))))))\n"
     ]
    }
   ],
   "source": [
    "print (b)"
   ]
  },
  {
   "cell_type": "code",
   "execution_count": 82,
   "metadata": {
    "collapsed": true
   },
   "outputs": [],
   "source": [
    "def mirror(root):\n",
    "    if root == None:\n",
    "        return\n",
    "    \n",
    "    # swap\n",
    "    root.left, root.right = root.right, root.left  \n",
    "    \n",
    "    # pre-order traversal\n",
    "    mirror(root.left)\n",
    "    mirror(root.right)"
   ]
  },
  {
   "cell_type": "code",
   "execution_count": 83,
   "metadata": {
    "collapsed": true
   },
   "outputs": [],
   "source": [
    "mirror(b)"
   ]
  },
  {
   "cell_type": "code",
   "execution_count": 84,
   "metadata": {},
   "outputs": [
    {
     "name": "stdout",
     "output_type": "stream",
     "text": [
      "(100 ( (200 ( (350 ( None | None)) | (125 ( None | None)))) | (50 ( (75 ( None | None)) | (25 ( None | None))))))\n"
     ]
    }
   ],
   "source": [
    "print (b)"
   ]
  }
 ],
 "metadata": {
  "kernelspec": {
   "display_name": "Python 3",
   "language": "python",
   "name": "python3"
  },
  "language_info": {
   "codemirror_mode": {
    "name": "ipython",
    "version": 3
   },
   "file_extension": ".py",
   "mimetype": "text/x-python",
   "name": "python",
   "nbconvert_exporter": "python",
   "pygments_lexer": "ipython3",
   "version": "3.6.0"
  }
 },
 "nbformat": 4,
 "nbformat_minor": 2
}
