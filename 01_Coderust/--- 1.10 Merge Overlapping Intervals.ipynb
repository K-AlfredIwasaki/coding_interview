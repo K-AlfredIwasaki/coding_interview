{
 "cells": [
  {
   "cell_type": "code",
   "execution_count": 3,
   "metadata": {
    "collapsed": true
   },
   "outputs": [],
   "source": [
    "inp = [[1, 5], [3, 7], [4, 6], [10, 12], [11, 15]]"
   ]
  },
  {
   "cell_type": "code",
   "execution_count": 4,
   "metadata": {
    "collapsed": true
   },
   "outputs": [],
   "source": [
    "# case1 [1, 5] [3, 7] => [1, 7] update upper bound\n",
    "# case2 [1, 5] [2, 4] => [1, 5] merge to the original one\n",
    "# case3 [1, 5] [7, 10] => [1, 5] [7, 10] keep two\n",
    "\n",
    "def merge_intervals(inp):\n",
    "    outp = []\n",
    "    outp.append(inp[0])\n",
    "    \n",
    "    for i, pair in enumerate(inp):\n",
    "        if i == 0:\n",
    "            pass\n",
    "        # iterate from second item\n",
    "        \n",
    "        # check the bound\n",
    "        if outp[-1][0] <= pair[0] and pair[0] <= outp[-1][1]:\n",
    "            \n",
    "            if outp[-1][1] < pair[1]:\n",
    "                # overwrite upper boundary\n",
    "                outp[-1][1] = pair[1] # case 1\n",
    "            else:\n",
    "                pass # case 2\n",
    "        else:\n",
    "            outp.append(pair) # case 3\n",
    "    \n",
    "    return outp"
   ]
  },
  {
   "cell_type": "code",
   "execution_count": 5,
   "metadata": {
    "scrolled": true
   },
   "outputs": [
    {
     "data": {
      "text/plain": [
       "[[1, 7], [10, 15]]"
      ]
     },
     "execution_count": 5,
     "metadata": {},
     "output_type": "execute_result"
    }
   ],
   "source": [
    "merge_intervals(inp)"
   ]
  },
  {
   "cell_type": "code",
   "execution_count": 8,
   "metadata": {
    "collapsed": true
   },
   "outputs": [],
   "source": [
    "def merge_interval(arr_list):\n",
    "    if arr_list == None or len(arr_list) == 0:\n",
    "        return None\n",
    "    \n",
    "    # init\n",
    "    result = [arr_list[0]]\n",
    "    \n",
    "    for i in range(1, len(arr_list)):\n",
    "        x1 = result[-1][0]\n",
    "        y1 = result[-1][1]\n",
    "        x2 = arr_list[i][0]\n",
    "        y2 = arr_list[i][1]\n",
    "        \n",
    "        if y1 >= x2:\n",
    "            result[-1][1] = max(y1, y2)\n",
    "        else:\n",
    "            result.append(arr_list[i])\n",
    "            \n",
    "    return result\n",
    "        "
   ]
  },
  {
   "cell_type": "code",
   "execution_count": 9,
   "metadata": {},
   "outputs": [
    {
     "data": {
      "text/plain": [
       "[[1, 7], [10, 15]]"
      ]
     },
     "execution_count": 9,
     "metadata": {},
     "output_type": "execute_result"
    }
   ],
   "source": [
    "merge_interval(inp)"
   ]
  }
 ],
 "metadata": {
  "kernelspec": {
   "display_name": "Python 3",
   "language": "python",
   "name": "python3"
  },
  "language_info": {
   "codemirror_mode": {
    "name": "ipython",
    "version": 3
   },
   "file_extension": ".py",
   "mimetype": "text/x-python",
   "name": "python",
   "nbconvert_exporter": "python",
   "pygments_lexer": "ipython3",
   "version": "3.6.0"
  }
 },
 "nbformat": 4,
 "nbformat_minor": 2
}
