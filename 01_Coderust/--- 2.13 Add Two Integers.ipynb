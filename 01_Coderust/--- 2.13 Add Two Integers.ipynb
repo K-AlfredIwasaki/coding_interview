{
 "cells": [
  {
   "cell_type": "code",
   "execution_count": 47,
   "metadata": {
    "scrolled": true
   },
   "outputs": [
    {
     "name": "stdout",
     "output_type": "stream",
     "text": [
      "5=>7=>2=>9=>2\n",
      "1=>7=>1=>4=>8=>9\n"
     ]
    }
   ],
   "source": [
    "from data_structure.linkedlist_simple import *\n",
    "from data_structure.stack import *\n",
    "\n",
    "l = LinkedList(5)\n",
    "l.next = LinkedList(7)\n",
    "l.next.next = LinkedList(2)\n",
    "l.next.next.next = LinkedList(9)\n",
    "l.next.next.next.next = LinkedList(2)\n",
    "\n",
    "print (l)\n",
    "\n",
    "t = LinkedList(1)\n",
    "t.next = LinkedList(7)\n",
    "t.next.next = LinkedList(1)\n",
    "t.next.next.next = LinkedList(4)\n",
    "t.next.next.next.next = LinkedList(8)\n",
    "t.next.next.next.next.next = LinkedList(9)\n",
    "\n",
    "print (t)"
   ]
  },
  {
   "cell_type": "code",
   "execution_count": 48,
   "metadata": {},
   "outputs": [],
   "source": [
    "def add_two_list(a_lst, b_lst):\n",
    "    # pointers\n",
    "    a = a_lst\n",
    "    b = b_lst\n",
    "    \n",
    "    # carry the value\n",
    "    carry = 0\n",
    "    \n",
    "    while a != None:\n",
    "        if b == None:\n",
    "            total = a.content + carry\n",
    "        else:\n",
    "            total = a.content + b.content + carry\n",
    "            \n",
    "            \n",
    "        if total >= 10:\n",
    "            carry = total // 10\n",
    "            total = total - carry * 10\n",
    "        else:\n",
    "            carry = 0\n",
    "        \n",
    "        print (\"total is {}\".format(total))\n",
    "        a.content = total\n",
    "        \n",
    "        if a.next == None:\n",
    "            if carry > 0:\n",
    "                print (\"create a node\")\n",
    "                a.next = LinkedList(0)\n",
    "                \n",
    "            elif b != None and b.next != None:\n",
    "                print (\"create a node\")\n",
    "                a.next = LinkedList(0)\n",
    "            \n",
    "            else:\n",
    "                break\n",
    "            \n",
    "        a = a.next\n",
    "        \n",
    "        b = b.next if b != None else None\n",
    "        \n",
    "    return a_lst\n",
    "    "
   ]
  },
  {
   "cell_type": "code",
   "execution_count": 49,
   "metadata": {
    "scrolled": false
   },
   "outputs": [
    {
     "name": "stdout",
     "output_type": "stream",
     "text": [
      "total is 6\n",
      "total is 4\n",
      "total is 4\n",
      "total is 3\n",
      "total is 1\n",
      "create a node\n",
      "total is 0\n",
      "create a node\n",
      "total is 1\n",
      "6=>4=>4=>3=>1=>0=>1\n"
     ]
    }
   ],
   "source": [
    "print (add_two_list(l, t))"
   ]
  }
 ],
 "metadata": {
  "kernelspec": {
   "display_name": "Python 3",
   "language": "python",
   "name": "python3"
  },
  "language_info": {
   "codemirror_mode": {
    "name": "ipython",
    "version": 3
   },
   "file_extension": ".py",
   "mimetype": "text/x-python",
   "name": "python",
   "nbconvert_exporter": "python",
   "pygments_lexer": "ipython3",
   "version": "3.6.0"
  }
 },
 "nbformat": 4,
 "nbformat_minor": 2
}
