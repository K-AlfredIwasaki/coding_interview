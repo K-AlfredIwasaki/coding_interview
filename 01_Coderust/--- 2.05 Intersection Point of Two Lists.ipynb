{
 "cells": [
  {
   "cell_type": "code",
   "execution_count": 20,
   "metadata": {},
   "outputs": [
    {
     "name": "stdout",
     "output_type": "stream",
     "text": [
      "29=>23=>82=>11=>12=>27\n",
      "13=>4=>12=>27\n"
     ]
    }
   ],
   "source": [
    "from data_structure.linkedlist_simple import *\n",
    "\n",
    "l = LinkedList(29)\n",
    "l.next = LinkedList(23)\n",
    "l.next.next = LinkedList(82)\n",
    "l.next.next.next = LinkedList(11)\n",
    "l.next.next.next.next = LinkedList(12)\n",
    "l.next.next.next.next.next = LinkedList(27)\n",
    "print (l)\n",
    "\n",
    "t = LinkedList(13)\n",
    "t.next = LinkedList(4)\n",
    "t.next.next = LinkedList(12)\n",
    "t.next.next.next = LinkedList(27)\n",
    "print (t)"
   ]
  },
  {
   "cell_type": "code",
   "execution_count": 21,
   "metadata": {
    "collapsed": true
   },
   "outputs": [],
   "source": [
    "def get_length(head):\n",
    "    n = 0\n",
    "    current = head\n",
    "    while current != None:\n",
    "        current = current.next\n",
    "        n += 1\n",
    "        \n",
    "    return n"
   ]
  },
  {
   "cell_type": "code",
   "execution_count": 22,
   "metadata": {},
   "outputs": [
    {
     "data": {
      "text/plain": [
       "6"
      ]
     },
     "execution_count": 22,
     "metadata": {},
     "output_type": "execute_result"
    }
   ],
   "source": [
    "get_length(l)"
   ]
  },
  {
   "cell_type": "code",
   "execution_count": 27,
   "metadata": {
    "collapsed": true
   },
   "outputs": [],
   "source": [
    "def find_intersection(a, b):\n",
    "    a_length = get_length(a)\n",
    "    b_length = get_length(b)\n",
    "    \n",
    "    i = a\n",
    "    j = b\n",
    "    \n",
    "    # get pointers to the same position from the tail\n",
    "    if a_length > b_length:\n",
    "        gap = a_length - b_length\n",
    "        # traverce the gap\n",
    "        for i in range(gap):\n",
    "            a = a.next\n",
    "    else:\n",
    "        gap = b_length - a_length\n",
    "        for i in range(gap):\n",
    "            b = b.next\n",
    "            \n",
    "    # now traverse two lists\n",
    "    found = False\n",
    "    result = None\n",
    "    while a != None:\n",
    "        \n",
    "        if found:\n",
    "            if a.content == b.content:\n",
    "                pass\n",
    "            else:\n",
    "                found = False\n",
    "        else:\n",
    "            if a.content == b.content:\n",
    "                found = True\n",
    "                result = a.content\n",
    "            else:\n",
    "                pass\n",
    "        \n",
    "        a = a.next\n",
    "        b = b.next\n",
    "        \n",
    "    if found:\n",
    "        return result\n",
    "    else:\n",
    "        return \"Not found\"    "
   ]
  },
  {
   "cell_type": "code",
   "execution_count": 26,
   "metadata": {},
   "outputs": [
    {
     "data": {
      "text/plain": [
       "12"
      ]
     },
     "execution_count": 26,
     "metadata": {},
     "output_type": "execute_result"
    }
   ],
   "source": [
    "find_intersection(l, t)"
   ]
  }
 ],
 "metadata": {
  "kernelspec": {
   "display_name": "Python 3",
   "language": "python",
   "name": "python3"
  },
  "language_info": {
   "codemirror_mode": {
    "name": "ipython",
    "version": 3
   },
   "file_extension": ".py",
   "mimetype": "text/x-python",
   "name": "python",
   "nbconvert_exporter": "python",
   "pygments_lexer": "ipython3",
   "version": "3.6.0"
  }
 },
 "nbformat": 4,
 "nbformat_minor": 2
}
