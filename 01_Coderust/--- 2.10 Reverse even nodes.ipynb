{
 "cells": [
  {
   "cell_type": "code",
   "execution_count": 1,
   "metadata": {},
   "outputs": [
    {
     "name": "stdout",
     "output_type": "stream",
     "text": [
      "12=>10=>11=>2=>4=>22=>45=>128\n"
     ]
    }
   ],
   "source": [
    "from data_structure.linkedlist_simple import *\n",
    "from data_structure.stack import *\n",
    "\n",
    "l = LinkedList(12)\n",
    "l.next = LinkedList(10)\n",
    "l.next.next = LinkedList(11)\n",
    "l.next.next.next = LinkedList(2)\n",
    "l.next.next.next.next = LinkedList(4)\n",
    "l.next.next.next.next.next = LinkedList(22)\n",
    "l.next.next.next.next.next.next = LinkedList(45)\n",
    "l.next.next.next.next.next.next.next = LinkedList(128)\n",
    "\n",
    "print (l)"
   ]
  },
  {
   "cell_type": "code",
   "execution_count": 2,
   "metadata": {
    "collapsed": true
   },
   "outputs": [],
   "source": [
    "# appraoch 2\n",
    "# create a second list\n",
    "# merge the two list\n",
    "\n",
    "def reversed_even_nodes(l_list):\n",
    "    \n",
    "    current = l_list\n",
    "    even_list = None\n",
    "    \n",
    "    while current != None and current.next != None:\n",
    "        # remove even node\n",
    "        even = current.next\n",
    "        current.next = current.next.next\n",
    "\n",
    "        # add even node on the head of even_list\n",
    "        even.next = even_list\n",
    "        even_list = even\n",
    "\n",
    "        current = current.next\n",
    "        \n",
    "    print (even_list)\n",
    "    print (l_list)\n",
    "    return (l_list, even_list)"
   ]
  },
  {
   "cell_type": "code",
   "execution_count": 3,
   "metadata": {
    "scrolled": true
   },
   "outputs": [
    {
     "name": "stdout",
     "output_type": "stream",
     "text": [
      "128=>22=>2=>10\n",
      "12=>11=>4=>45\n"
     ]
    }
   ],
   "source": [
    "a_list, b_list = reversed_even_nodes(l)"
   ]
  },
  {
   "cell_type": "code",
   "execution_count": 4,
   "metadata": {
    "collapsed": true
   },
   "outputs": [],
   "source": [
    "def merge_two_list(a_list, b_list):\n",
    "    \n",
    "    # pointer\n",
    "    current = a_list\n",
    "    \n",
    "    # iterate until\n",
    "    while current != None:\n",
    "#         print (current.content)\n",
    "        # get the head of b_list\n",
    "        temp = b_list\n",
    "        if b_list.next != None:\n",
    "            b_list = b_list.next\n",
    "        \n",
    "#         print (b_list)\n",
    "        # insert this to a_list\n",
    "        temp.next = current.next\n",
    "        current.next = temp\n",
    "        \n",
    "        # move to the next node\n",
    "        # IMPORTANT: YOU JUST ADD A NEW NODE\n",
    "        current = current.next.next\n",
    "    \n",
    "    print (a_list)\n",
    "    return a_list"
   ]
  },
  {
   "cell_type": "code",
   "execution_count": 5,
   "metadata": {
    "scrolled": false
   },
   "outputs": [
    {
     "name": "stdout",
     "output_type": "stream",
     "text": [
      "12=>128=>11=>22=>4=>2=>45=>10\n"
     ]
    },
    {
     "data": {
      "text/plain": [
       "<data_structure.linkedlist_simple.LinkedList at 0x20759a97f60>"
      ]
     },
     "execution_count": 5,
     "metadata": {},
     "output_type": "execute_result"
    }
   ],
   "source": [
    "merge_two_list(a_list, b_list)"
   ]
  },
  {
   "cell_type": "code",
   "execution_count": 6,
   "metadata": {},
   "outputs": [
    {
     "name": "stdout",
     "output_type": "stream",
     "text": [
      "12=>10=>11=>2=>4=>22=>45=>128\n"
     ]
    }
   ],
   "source": [
    "l = LinkedList(12)\n",
    "l.next = LinkedList(10)\n",
    "l.next.next = LinkedList(11)\n",
    "l.next.next.next = LinkedList(2)\n",
    "l.next.next.next.next = LinkedList(4)\n",
    "l.next.next.next.next.next = LinkedList(22)\n",
    "l.next.next.next.next.next.next = LinkedList(45)\n",
    "l.next.next.next.next.next.next.next = LinkedList(128)\n",
    "\n",
    "print (l)"
   ]
  },
  {
   "cell_type": "code",
   "execution_count": 7,
   "metadata": {
    "collapsed": true
   },
   "outputs": [],
   "source": [
    "# approach 1\n",
    "# create a stack to store a content at even nodes\n",
    "# replace values at the even nodes with values stored in the stack\n",
    "\n",
    "def reverse_even_nodes(l_list):\n",
    "    \"\"\"\n",
    "    1. create the stack\n",
    "    2. replace the contents at even nodes\n",
    "    \"\"\"\n",
    "    # create stack to store contents at the even nodes\n",
    "    track = l_list\n",
    "    even = 1\n",
    "    s = Stack()\n",
    "    \n",
    "    while track != None:\n",
    "#         print (track.content)\n",
    "        if even % 2 == 0:\n",
    "            s.push(track.content)\n",
    "        \n",
    "        track = track.next\n",
    "        even += 1\n",
    "        \n",
    "    # replace contents at the even nodes in linkedlist with contents in the stack\n",
    "    track = l_list\n",
    "    even = 1\n",
    "    print (s)\n",
    "    \n",
    "    while track != None:\n",
    "        if even % 2 == 0:\n",
    "            print (s.peek())\n",
    "            track.content = s.pop()\n",
    "        \n",
    "        track = track.next\n",
    "        even += 1\n",
    "    \n",
    "    return l_list"
   ]
  },
  {
   "cell_type": "code",
   "execution_count": 8,
   "metadata": {
    "scrolled": true
   },
   "outputs": [
    {
     "name": "stdout",
     "output_type": "stream",
     "text": [
      "10=>2=>22=>128\n",
      "128\n",
      "22\n",
      "2\n",
      "10\n",
      "12=>128=>11=>22=>4=>2=>45=>10\n"
     ]
    }
   ],
   "source": [
    "l = reverse_even_nodes(l)\n",
    "print (l)"
   ]
  }
 ],
 "metadata": {
  "kernelspec": {
   "display_name": "Python 3",
   "language": "python",
   "name": "python3"
  },
  "language_info": {
   "codemirror_mode": {
    "name": "ipython",
    "version": 3
   },
   "file_extension": ".py",
   "mimetype": "text/x-python",
   "name": "python",
   "nbconvert_exporter": "python",
   "pygments_lexer": "ipython3",
   "version": "3.6.0"
  }
 },
 "nbformat": 4,
 "nbformat_minor": 2
}
