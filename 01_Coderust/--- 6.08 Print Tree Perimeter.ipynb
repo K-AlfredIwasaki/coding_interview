{
 "cells": [
  {
   "cell_type": "markdown",
   "metadata": {},
   "source": [
    "# Problem\n",
    "\n",
    "Given the root node of a binary tree, print nodes forming the boundary (perimeter)."
   ]
  },
  {
   "cell_type": "code",
   "execution_count": 18,
   "metadata": {},
   "outputs": [],
   "source": [
    "from data_structure.binary_tree import *\n",
    "\n",
    "b = BinaryTree(100)\n",
    "b.left = BinaryTree(50)\n",
    "b.left.left = BinaryTree(25)\n",
    "b.left.left.left = BinaryTree(10)\n",
    "b.left.left.left.right = BinaryTree(5)\n",
    "b.left.left.left.right.right = BinaryTree(3)\n",
    "b.left.right = BinaryTree(75)\n",
    "b.right = BinaryTree(200)\n",
    "b.right.left = BinaryTree(125)\n",
    "b.right.right = BinaryTree(350)"
   ]
  },
  {
   "cell_type": "code",
   "execution_count": 43,
   "metadata": {},
   "outputs": [],
   "source": [
    "from collections import deque\n",
    "\n",
    "def print_left(root):\n",
    "    while root != None:\n",
    "        \n",
    "        current_value = root.content\n",
    "        \n",
    "        if root.left != None:\n",
    "            root = root.left\n",
    "        \n",
    "        elif root.right != None:\n",
    "            root = root.right\n",
    "        \n",
    "        else: # leaf node\n",
    "            break\n",
    "            \n",
    "        print (current_value)\n",
    "        \n",
    "def print_right(root):\n",
    "    if root.right != None:\n",
    "        root = root.right ## skip root node which has been printed by print_left\n",
    "    else:\n",
    "        return\n",
    "    \n",
    "    while root != None:\n",
    "        \n",
    "        current_value = root.content\n",
    "        \n",
    "        if root.right != None:\n",
    "            root = root.right\n",
    "        \n",
    "        elif root.left != None:\n",
    "            root = root.left\n",
    "        \n",
    "        else: # leaf node\n",
    "            break\n",
    "            \n",
    "        print (current_value)\n",
    "\n",
    "def print_leaf(root):\n",
    "    # pre_order traversal\n",
    "    # print only when root == leaf\n",
    "    \n",
    "    if root == None:\n",
    "        return\n",
    "    \n",
    "    if root.left == None and root.right == None:\n",
    "        print (root.content)\n",
    "        \n",
    "    print_leaf(root.left)\n",
    "    print_leaf(root.right)"
   ]
  },
  {
   "cell_type": "code",
   "execution_count": 44,
   "metadata": {
    "collapsed": true
   },
   "outputs": [],
   "source": [
    "def print_perimeter(root):\n",
    "    if root != None:\n",
    "        print_left(root)\n",
    "        print_leaf(root)\n",
    "        print_right(root)"
   ]
  },
  {
   "cell_type": "code",
   "execution_count": 45,
   "metadata": {
    "scrolled": true
   },
   "outputs": [
    {
     "name": "stdout",
     "output_type": "stream",
     "text": [
      "100\n",
      "50\n",
      "25\n",
      "10\n",
      "5\n",
      "3\n",
      "75\n",
      "125\n",
      "350\n",
      "200\n"
     ]
    }
   ],
   "source": [
    "print_perimeter(b)"
   ]
  }
 ],
 "metadata": {
  "kernelspec": {
   "display_name": "Python 3",
   "language": "python",
   "name": "python3"
  },
  "language_info": {
   "codemirror_mode": {
    "name": "ipython",
    "version": 3
   },
   "file_extension": ".py",
   "mimetype": "text/x-python",
   "name": "python",
   "nbconvert_exporter": "python",
   "pygments_lexer": "ipython3",
   "version": "3.6.0"
  }
 },
 "nbformat": 4,
 "nbformat_minor": 2
}
