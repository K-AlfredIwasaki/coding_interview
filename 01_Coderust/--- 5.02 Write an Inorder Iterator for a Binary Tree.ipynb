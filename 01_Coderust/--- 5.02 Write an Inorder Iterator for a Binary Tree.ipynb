{
 "cells": [
  {
   "cell_type": "code",
   "execution_count": 44,
   "metadata": {
    "collapsed": true
   },
   "outputs": [],
   "source": [
    "from data_structure.binary_tree import *\n",
    "\n",
    "b = BinaryTree(100)\n",
    "b.left = BinaryTree(50)\n",
    "b.left.left = BinaryTree(25)\n",
    "b.left.right = BinaryTree(75)\n",
    "b.left.left.right = BinaryTree(35)\n",
    "b.right = BinaryTree(200)"
   ]
  },
  {
   "cell_type": "code",
   "execution_count": 68,
   "metadata": {
    "collapsed": true
   },
   "outputs": [],
   "source": [
    "from collections import deque\n",
    "\n",
    "class InorderIterator:\n",
    "    def __init__(self, root):\n",
    "        self.stack = deque()\n",
    "        \n",
    "        while root != None:\n",
    "            self.stack.append(root)\n",
    "            root = root.left\n",
    "    \n",
    "    def hasNext(self):\n",
    "        if len(self.stack) == 0:\n",
    "            return False\n",
    "        else:\n",
    "            return True\n",
    "    \n",
    "    def getNext(self):\n",
    "        if len(self.stack) == 0:\n",
    "            return None\n",
    "        \n",
    "        p = self.stack[-1].content\n",
    "        temp = self.stack[-1].right\n",
    "        self.stack.pop()\n",
    "        \n",
    "        while temp != None:\n",
    "            self.stack.append(temp)\n",
    "            temp = temp.left\n",
    "\n",
    "        return p"
   ]
  },
  {
   "cell_type": "code",
   "execution_count": 75,
   "metadata": {},
   "outputs": [
    {
     "name": "stdout",
     "output_type": "stream",
     "text": [
      "25\n",
      "35\n",
      "50\n",
      "75\n",
      "100\n",
      "200\n"
     ]
    }
   ],
   "source": [
    "t = InorderIterator(b)\n",
    "\n",
    "for i in range(10):\n",
    "    if t.hasNext() == False:\n",
    "        break\n",
    "    \n",
    "    print (t.getNext())"
   ]
  },
  {
   "cell_type": "code",
   "execution_count": 10,
   "metadata": {
    "collapsed": true
   },
   "outputs": [],
   "source": [
    "# reference\n",
    "\n",
    "from collections import deque\n",
    "\n",
    "def inorder_traversal(root):\n",
    "    if root == None: return None\n",
    "    \n",
    "    stack = deque()\n",
    "    \n",
    "    while root != None or len(stack) > 0:\n",
    "        if root != None: \n",
    "            stack.append(root)\n",
    "            root = root.left\n",
    "            continue\n",
    "        \n",
    "        root = stack[-1].right\n",
    "        print (stack[-1].content)\n",
    "        stack.pop()\n",
    "    "
   ]
  }
 ],
 "metadata": {
  "kernelspec": {
   "display_name": "Python 3",
   "language": "python",
   "name": "python3"
  },
  "language_info": {
   "codemirror_mode": {
    "name": "ipython",
    "version": 3
   },
   "file_extension": ".py",
   "mimetype": "text/x-python",
   "name": "python",
   "nbconvert_exporter": "python",
   "pygments_lexer": "ipython3",
   "version": "3.6.0"
  }
 },
 "nbformat": 4,
 "nbformat_minor": 2
}
