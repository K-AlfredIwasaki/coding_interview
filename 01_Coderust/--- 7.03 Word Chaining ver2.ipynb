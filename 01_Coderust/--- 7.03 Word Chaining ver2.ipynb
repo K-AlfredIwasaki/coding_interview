{
 "cells": [
  {
   "cell_type": "code",
   "execution_count": 90,
   "metadata": {},
   "outputs": [],
   "source": [
    "import random\n",
    "class Vertex: \n",
    "    def __init__(self, value):\n",
    "        self.id = value\n",
    "        self.visited = False\n",
    "        self.adj_vertices = []\n",
    "        self.in_vertices = []\n",
    "\n",
    "\n",
    "class Graph:\n",
    "    def __init__(self):\n",
    "        self.vert_dict = {} # self.id : vertex\n",
    "\n",
    "    # This method creates a graph from a list of words. A node of\n",
    "    # the graph contains a character representing the start or end\n",
    "    \n",
    "    # character of a word.\n",
    "    def create_graph(self, words_list):\n",
    "        for word in words_list:\n",
    "            start_char = word[0]\n",
    "            end_char = word[len(word) - 1]\n",
    "            \n",
    "            if start_char not in self.vert_dict:\n",
    "                self.vert_dict[start_char] = Vertex(start_char)\n",
    "            \n",
    "            if end_char not in self.vert_dict:\n",
    "                self.vert_dict[end_char] = Vertex(end_char)\n",
    "\n",
    "            # Add an edge from start vertex to end vertex\n",
    "            self.add_edge(self.vert_dict[start_char], self.vert_dict[end_char])\n",
    "    \n",
    "\n",
    "    # This method returns TRUE if all nodes of the graph have been visited\n",
    "    def all_visited(self):\n",
    "        for v in self.vert_dict.values():\n",
    "            if v.visited == False:\n",
    "                return False\n",
    "        return True\n",
    "\n",
    "# This method adds an edge from start vertex to end vertex by\n",
    "# adding the end vertex in the adjacency list of start vertex\n",
    "# It also adds the start vertex to the in_vertices of end vertex\n",
    "    def add_edge(self, start, end):\n",
    "        start.adj_vertices.append(end)\n",
    "        end.in_vertices.append(start)\n",
    "\n",
    "    # This method returns TRUE if out degree of each vertex is equal\n",
    "    # to its in degree, returns FALSE otherwise\n",
    "    def out_equals_in(self):\n",
    "        for vert_id in self.vert_dict:\n",
    "            out = len(self.vert_dict[vert_id].adj_vertices)\n",
    "            inn = len(self.vert_dict[vert_id].in_vertices)\n",
    "            if out != inn:\n",
    "                return False\n",
    "        return True\n",
    "\n",
    "  # This method returns TRUE if the graph has a cycle containing\n",
    "  # all the nodes, returns FALSE otherwise\n",
    "    def check_cycle_rec(self, node, starting_node):\n",
    "        node.visited = True\n",
    "\n",
    "        # Base case\n",
    "        # return TRUE if all nodes have been visited and there\n",
    "        # exists an edge from the last node being visited to the starting node\n",
    "        if self.all_visited():\n",
    "            for adj in node.adj_vertices:\n",
    "                if adj == starting_node:\n",
    "                    return True\n",
    "\n",
    "        # Recursive case\n",
    "        for adj in node.adj_vertices:\n",
    "            if adj.visited == False:\n",
    "                return self.check_cycle_rec(adj, starting_node)\n",
    "        \n",
    "        return False\n",
    "\n",
    "    def check_cycle(self):\n",
    "        # Empty list and single word cannot form a chain\n",
    "        if len(self.vert_dict) < 2:\n",
    "            return False\n",
    "        \n",
    "        # in == out\n",
    "        if not self.out_equals_in():\n",
    "            return False\n",
    "        \n",
    "        # check cycle\n",
    "        r = random.choice(list(self.vert_dict.values())) # pick random node\n",
    "        return self.check_cycle_rec(r, r) "
   ]
  },
  {
   "cell_type": "code",
   "execution_count": 86,
   "metadata": {},
   "outputs": [],
   "source": [
    "test = Graph()\n",
    "test.create_graph([\"eve\", \"eat\", \"ripe\", \"tear\", \"test\"])"
   ]
  },
  {
   "cell_type": "code",
   "execution_count": 88,
   "metadata": {
    "scrolled": true
   },
   "outputs": [
    {
     "data": {
      "text/plain": [
       "{'e': <__main__.Vertex at 0x286a339a128>,\n",
       " 'r': <__main__.Vertex at 0x286a339a7f0>,\n",
       " 't': <__main__.Vertex at 0x286a339a0b8>}"
      ]
     },
     "execution_count": 88,
     "metadata": {},
     "output_type": "execute_result"
    }
   ],
   "source": [
    "test.vert_dict"
   ]
  },
  {
   "cell_type": "code",
   "execution_count": 89,
   "metadata": {
    "scrolled": false
   },
   "outputs": [
    {
     "name": "stdout",
     "output_type": "stream",
     "text": [
      "True\n"
     ]
    }
   ],
   "source": [
    "print (test.check_cycle())"
   ]
  }
 ],
 "metadata": {
  "kernelspec": {
   "display_name": "Python 3",
   "language": "python",
   "name": "python3"
  },
  "language_info": {
   "codemirror_mode": {
    "name": "ipython",
    "version": 3
   },
   "file_extension": ".py",
   "mimetype": "text/x-python",
   "name": "python",
   "nbconvert_exporter": "python",
   "pygments_lexer": "ipython3",
   "version": "3.6.0"
  }
 },
 "nbformat": 4,
 "nbformat_minor": 2
}
