{
 "cells": [
  {
   "cell_type": "markdown",
   "metadata": {},
   "source": [
    "# Problem\n",
    "\n",
    "Given a sentence, reverse the order of words."
   ]
  },
  {
   "cell_type": "code",
   "execution_count": 70,
   "metadata": {
    "scrolled": false
   },
   "outputs": [
    {
     "name": "stdout",
     "output_type": "stream",
     "text": [
      "['t', 'e', 's', 't', '!', ' ', 't', 'e', 's', 't', ' ', 't', 'o', 'a', 's', 't', '!']\n"
     ]
    }
   ],
   "source": [
    "arr = list(\"test! test toast!\")\n",
    "print (arr)"
   ]
  },
  {
   "cell_type": "code",
   "execution_count": 71,
   "metadata": {},
   "outputs": [],
   "source": [
    "def reverse_all(arr, start, end):\n",
    "    while start < end:\n",
    "        arr[start], arr[end] = arr[end], arr[start]\n",
    "#         print (arr[start], arr[end])\n",
    "        start += 1\n",
    "        end += -1\n",
    "    return arr"
   ]
  },
  {
   "cell_type": "code",
   "execution_count": 74,
   "metadata": {},
   "outputs": [],
   "source": [
    "def reverse_words(arr):\n",
    "    \n",
    "    # revere the entier arr\n",
    "    reverse_all(arr, 0, len(arr) -1)\n",
    "    print (arr)\n",
    "    \n",
    "    reverse_complete = False\n",
    "    \n",
    "    start = 0\n",
    "    end = 0\n",
    "    while not reverse_complete:\n",
    "        \n",
    "        while arr[start] == \" \":\n",
    "            start += 1\n",
    "        \n",
    "        end = start\n",
    "        \n",
    "        while len(arr) > end and arr[end] != \" \": #### IMPORTANT\n",
    "            end += 1\n",
    "        \n",
    "        # reverse a word\n",
    "        reverse_all(arr, start, end-1)\n",
    "        print (arr)\n",
    "        \n",
    "        # set the pointer at the space\n",
    "        start = end\n",
    "        \n",
    "        if end >= len(arr) - 1:      #### IMPORTANT\n",
    "            reverse_complete = True\n",
    "            \n",
    "    return arr"
   ]
  },
  {
   "cell_type": "code",
   "execution_count": 73,
   "metadata": {
    "scrolled": false
   },
   "outputs": [
    {
     "name": "stdout",
     "output_type": "stream",
     "text": [
      "['!', 't', 's', 'a', 'o', 't', ' ', 't', 's', 'e', 't', ' ', '!', 't', 's', 'e', 't']\n",
      "['t', 'o', 'a', 's', 't', '!', ' ', 't', 's', 'e', 't', ' ', '!', 't', 's', 'e', 't']\n",
      "['t', 'o', 'a', 's', 't', '!', ' ', 't', 'e', 's', 't', ' ', '!', 't', 's', 'e', 't']\n",
      "['t', 'o', 'a', 's', 't', '!', ' ', 't', 'e', 's', 't', ' ', 't', 'e', 's', 't', '!']\n"
     ]
    },
    {
     "data": {
      "text/plain": [
       "['t',\n",
       " 'o',\n",
       " 'a',\n",
       " 's',\n",
       " 't',\n",
       " '!',\n",
       " ' ',\n",
       " 't',\n",
       " 'e',\n",
       " 's',\n",
       " 't',\n",
       " ' ',\n",
       " 't',\n",
       " 'e',\n",
       " 's',\n",
       " 't',\n",
       " '!']"
      ]
     },
     "execution_count": 73,
     "metadata": {},
     "output_type": "execute_result"
    }
   ],
   "source": [
    "reverse_words(arr)"
   ]
  }
 ],
 "metadata": {
  "kernelspec": {
   "display_name": "Python 3",
   "language": "python",
   "name": "python3"
  },
  "language_info": {
   "codemirror_mode": {
    "name": "ipython",
    "version": 3
   },
   "file_extension": ".py",
   "mimetype": "text/x-python",
   "name": "python",
   "nbconvert_exporter": "python",
   "pygments_lexer": "ipython3",
   "version": "3.6.0"
  }
 },
 "nbformat": 4,
 "nbformat_minor": 2
}
