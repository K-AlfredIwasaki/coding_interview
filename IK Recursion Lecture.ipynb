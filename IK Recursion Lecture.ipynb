{
 "cells": [
  {
   "cell_type": "markdown",
   "metadata": {},
   "source": [
    "# Problem 1: CountMaxPaths"
   ]
  },
  {
   "cell_type": "code",
   "execution_count": 34,
   "metadata": {
    "collapsed": true
   },
   "outputs": [],
   "source": [
    "r = 5\n",
    "c = 4\n",
    "grid = [[1, 2, 3, 4],\n",
    "        [5, 6, 7, 8],\n",
    "        [0.1, 0.2, 0.3, 0.4],\n",
    "        [12, 11, 10, 9],\n",
    "       [1.1, 1.2, 1.4, 1.5]]"
   ]
  },
  {
   "cell_type": "code",
   "execution_count": 35,
   "metadata": {
    "collapsed": true
   },
   "outputs": [],
   "source": [
    "def path_count_rec(grid, r, c):\n",
    "    \n",
    "    if r >= len(grid) or c >= len(grid[0]):\n",
    "        return 0\n",
    "    if r  == len(grid)-1 and c == len(grid[0]) - 1:\n",
    "        return 1\n",
    "    \n",
    "    count = path_count_rec(grid, r, c+1) + path_count_rec(grid, r+1, c)\n",
    "    \n",
    "    return count\n",
    "\n",
    "def path_count(grid):\n",
    "    \n",
    "    return path_count_rec(grid, 0, 0)"
   ]
  },
  {
   "cell_type": "code",
   "execution_count": 36,
   "metadata": {},
   "outputs": [
    {
     "data": {
      "text/plain": [
       "35"
      ]
     },
     "execution_count": 36,
     "metadata": {},
     "output_type": "execute_result"
    }
   ],
   "source": [
    "path_count(grid)"
   ]
  },
  {
   "cell_type": "code",
   "execution_count": 39,
   "metadata": {
    "collapsed": true
   },
   "outputs": [],
   "source": [
    "def path_print_rec(grid, r, c, path, k):\n",
    "    \n",
    "    if r >= len(grid) or c >= len(grid[0]):\n",
    "        return\n",
    "    if r  == len(grid)-1 and c == len(grid[0]) - 1:\n",
    "        path[k] = grid[r][c]\n",
    "        print (path)\n",
    "        return\n",
    "    \n",
    "    path[k] = grid[r][c]\n",
    "    path_print_rec(grid, r, c+1, path, k+1)\n",
    "    path_print_rec(grid, r+1, c, path, k+1)\n",
    "    \n",
    "\n",
    "def path_count(grid):\n",
    "    path = [0 for i in range(len(grid) + len(grid[0])-1)]\n",
    "    return path_print_rec(grid, 0, 0, path, 0)"
   ]
  },
  {
   "cell_type": "code",
   "execution_count": 41,
   "metadata": {},
   "outputs": [
    {
     "name": "stdout",
     "output_type": "stream",
     "text": [
      "[1, 2, 3, 4, 8, 0.4, 9, 1.5]\n",
      "[1, 2, 3, 7, 8, 0.4, 9, 1.5]\n",
      "[1, 2, 3, 7, 0.3, 0.4, 9, 1.5]\n",
      "[1, 2, 3, 7, 0.3, 10, 9, 1.5]\n",
      "[1, 2, 3, 7, 0.3, 10, 1.4, 1.5]\n",
      "[1, 2, 6, 7, 8, 0.4, 9, 1.5]\n",
      "[1, 2, 6, 7, 0.3, 0.4, 9, 1.5]\n",
      "[1, 2, 6, 7, 0.3, 10, 9, 1.5]\n",
      "[1, 2, 6, 7, 0.3, 10, 1.4, 1.5]\n",
      "[1, 2, 6, 0.2, 0.3, 0.4, 9, 1.5]\n",
      "[1, 2, 6, 0.2, 0.3, 10, 9, 1.5]\n",
      "[1, 2, 6, 0.2, 0.3, 10, 1.4, 1.5]\n",
      "[1, 2, 6, 0.2, 11, 10, 9, 1.5]\n",
      "[1, 2, 6, 0.2, 11, 10, 1.4, 1.5]\n",
      "[1, 2, 6, 0.2, 11, 1.2, 1.4, 1.5]\n",
      "[1, 5, 6, 7, 8, 0.4, 9, 1.5]\n",
      "[1, 5, 6, 7, 0.3, 0.4, 9, 1.5]\n",
      "[1, 5, 6, 7, 0.3, 10, 9, 1.5]\n",
      "[1, 5, 6, 7, 0.3, 10, 1.4, 1.5]\n",
      "[1, 5, 6, 0.2, 0.3, 0.4, 9, 1.5]\n",
      "[1, 5, 6, 0.2, 0.3, 10, 9, 1.5]\n",
      "[1, 5, 6, 0.2, 0.3, 10, 1.4, 1.5]\n",
      "[1, 5, 6, 0.2, 11, 10, 9, 1.5]\n",
      "[1, 5, 6, 0.2, 11, 10, 1.4, 1.5]\n",
      "[1, 5, 6, 0.2, 11, 1.2, 1.4, 1.5]\n",
      "[1, 5, 0.1, 0.2, 0.3, 0.4, 9, 1.5]\n",
      "[1, 5, 0.1, 0.2, 0.3, 10, 9, 1.5]\n",
      "[1, 5, 0.1, 0.2, 0.3, 10, 1.4, 1.5]\n",
      "[1, 5, 0.1, 0.2, 11, 10, 9, 1.5]\n",
      "[1, 5, 0.1, 0.2, 11, 10, 1.4, 1.5]\n",
      "[1, 5, 0.1, 0.2, 11, 1.2, 1.4, 1.5]\n",
      "[1, 5, 0.1, 12, 11, 10, 9, 1.5]\n",
      "[1, 5, 0.1, 12, 11, 10, 1.4, 1.5]\n",
      "[1, 5, 0.1, 12, 11, 1.2, 1.4, 1.5]\n",
      "[1, 5, 0.1, 12, 1.1, 1.2, 1.4, 1.5]\n"
     ]
    }
   ],
   "source": [
    "path_count(grid)"
   ]
  },
  {
   "cell_type": "raw",
   "metadata": {},
   "source": [
    "# Prob"
   ]
  }
 ],
 "metadata": {
  "kernelspec": {
   "display_name": "Python 3",
   "language": "python",
   "name": "python3"
  },
  "language_info": {
   "codemirror_mode": {
    "name": "ipython",
    "version": 3
   },
   "file_extension": ".py",
   "mimetype": "text/x-python",
   "name": "python",
   "nbconvert_exporter": "python",
   "pygments_lexer": "ipython3",
   "version": "3.6.0"
  }
 },
 "nbformat": 4,
 "nbformat_minor": 2
}
