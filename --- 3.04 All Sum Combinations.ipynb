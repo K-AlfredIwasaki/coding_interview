{
 "cells": [
  {
   "cell_type": "markdown",
   "metadata": {},
   "source": [
    "# Problem\n",
    "\n",
    "Given a positive integer, print all possible sum combinations using positive integers."
   ]
  },
  {
   "cell_type": "code",
   "execution_count": 18,
   "metadata": {},
   "outputs": [],
   "source": [
    "def generate_combo(target, current_sum = 0, start = 1 ,results = []):\n",
    "    # base\n",
    "    if current_sum == target:\n",
    "        print (results)\n",
    "        \n",
    "    for i in range(start, target): #### Start is to prevent duplicate combinations\n",
    "        temp_sum = current_sum + i\n",
    "        \n",
    "        if temp_sum <= target:\n",
    "            results.append(i)\n",
    "            generate_combo(target,temp_sum, i, results)\n",
    "            results.pop()  ####### This is critical #############################\n",
    "        else:\n",
    "            return"
   ]
  },
  {
   "cell_type": "code",
   "execution_count": 19,
   "metadata": {},
   "outputs": [
    {
     "name": "stdout",
     "output_type": "stream",
     "text": [
      "[1, 1, 1, 1, 1, 1, 1]\n",
      "[1, 1, 1, 1, 1, 2]\n",
      "[1, 1, 1, 1, 3]\n",
      "[1, 1, 1, 2, 2]\n",
      "[1, 1, 1, 4]\n",
      "[1, 1, 2, 3]\n",
      "[1, 1, 5]\n",
      "[1, 2, 2, 2]\n",
      "[1, 2, 4]\n",
      "[1, 3, 3]\n",
      "[1, 6]\n",
      "[2, 2, 3]\n",
      "[2, 5]\n",
      "[3, 4]\n"
     ]
    }
   ],
   "source": [
    "generate_combo(7)"
   ]
  }
 ],
 "metadata": {
  "kernelspec": {
   "display_name": "Python 3",
   "language": "python",
   "name": "python3"
  },
  "language_info": {
   "codemirror_mode": {
    "name": "ipython",
    "version": 3
   },
   "file_extension": ".py",
   "mimetype": "text/x-python",
   "name": "python",
   "nbconvert_exporter": "python",
   "pygments_lexer": "ipython3",
   "version": "3.6.0"
  }
 },
 "nbformat": 4,
 "nbformat_minor": 2
}
