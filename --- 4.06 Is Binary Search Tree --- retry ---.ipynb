{
 "cells": [
  {
   "cell_type": "markdown",
   "metadata": {},
   "source": [
    "### Problem\n",
    "Given a Binary Tree figure out whether it's a Binary Search Tree. A binary search tree holds the property that each node's key value is smaller than the key value of all nodes in the right subtree and greater than the key values of all nodes in the left subtree i.e. L < N < R."
   ]
  },
  {
   "cell_type": "code",
   "execution_count": 1,
   "metadata": {
    "collapsed": true
   },
   "outputs": [],
   "source": [
    "### Strategy:\n",
    "# Binary Search Tree has unique property that \n",
    "# inorder traversal of the tree has contents with ascending order\n",
    "# step1 create an array by inorder traversal\n",
    "# step2 check the array has contents with ascending order\n",
    "\n",
    "# run time complexity is O(n), linear\n",
    "# memory complexity is O(n), linear"
   ]
  },
  {
   "cell_type": "code",
   "execution_count": 3,
   "metadata": {
    "collapsed": true
   },
   "outputs": [],
   "source": [
    "from data_structure.binary_tree import *\n",
    "\n",
    "b = BinaryTree(100)\n",
    "b.left = BinaryTree(50)\n",
    "b.left.left = BinaryTree(25)\n",
    "b.left.right = BinaryTree(75)\n",
    "b.right = BinaryTree(200)\n",
    "b.right.left = BinaryTree(125)\n",
    "b.right.right = BinaryTree(350)"
   ]
  },
  {
   "cell_type": "code",
   "execution_count": 4,
   "metadata": {
    "collapsed": true
   },
   "outputs": [],
   "source": [
    "f = BinaryTree(100)\n",
    "f.left = BinaryTree(50)\n",
    "f.left.left = BinaryTree(25)\n",
    "f.left.right = BinaryTree(75)\n",
    "f.right = BinaryTree(200)\n",
    "f.right.left = BinaryTree(125)\n",
    "f.right.right = BinaryTree(50)"
   ]
  },
  {
   "cell_type": "code",
   "execution_count": 5,
   "metadata": {
    "collapsed": true
   },
   "outputs": [],
   "source": [
    "def inorder_traversal(b, returnList = []):\n",
    "    if b == None:\n",
    "        return returnList\n",
    "\n",
    "    inorder_traversal(b.left, returnList)\n",
    "    returnList.append(b.content)\n",
    "    inorder_traversal(b.right, returnList)\n",
    "    \n",
    "    return returnList"
   ]
  },
  {
   "cell_type": "code",
   "execution_count": 6,
   "metadata": {
    "collapsed": true
   },
   "outputs": [],
   "source": [
    "def check_order(array):\n",
    "    for i in range(0, len(array)-1):\n",
    "        print(array[i+1])\n",
    "        if array[i] < array[i+1]:\n",
    "            pass\n",
    "        else:\n",
    "            return False\n",
    "        \n",
    "    return True"
   ]
  },
  {
   "cell_type": "code",
   "execution_count": 7,
   "metadata": {
    "scrolled": false
   },
   "outputs": [
    {
     "name": "stdout",
     "output_type": "stream",
     "text": [
      "50\n",
      "75\n",
      "100\n",
      "125\n",
      "200\n",
      "350\n"
     ]
    },
    {
     "data": {
      "text/plain": [
       "True"
      ]
     },
     "execution_count": 7,
     "metadata": {},
     "output_type": "execute_result"
    }
   ],
   "source": [
    "check_order(inorder_traversal(b))"
   ]
  },
  {
   "cell_type": "code",
   "execution_count": 8,
   "metadata": {},
   "outputs": [
    {
     "data": {
      "text/plain": [
       "[25, 50, 75, 100, 125, 200, 350, 25, 50, 75, 100, 125, 200, 50]"
      ]
     },
     "execution_count": 8,
     "metadata": {},
     "output_type": "execute_result"
    }
   ],
   "source": [
    "inorder_traversal(f)"
   ]
  },
  {
   "cell_type": "code",
   "execution_count": 9,
   "metadata": {},
   "outputs": [
    {
     "name": "stdout",
     "output_type": "stream",
     "text": [
      "50\n",
      "75\n",
      "100\n",
      "125\n",
      "200\n",
      "350\n",
      "25\n"
     ]
    },
    {
     "data": {
      "text/plain": [
       "False"
      ]
     },
     "execution_count": 9,
     "metadata": {},
     "output_type": "execute_result"
    }
   ],
   "source": [
    "check_order(inorder_traversal(f))"
   ]
  },
  {
   "cell_type": "code",
   "execution_count": 10,
   "metadata": {
    "collapsed": true
   },
   "outputs": [],
   "source": [
    "### Strategy:\n",
    "# improve the solution with the bounds (min, max)\n",
    "\n",
    "# run time complexity is O(n), linear\n",
    "# memory complexity is O(h), O(long n) for a balanced tree and \n",
    "# the worst case can be O(n)"
   ]
  },
  {
   "cell_type": "code",
   "execution_count": 58,
   "metadata": {
    "collapsed": true
   },
   "outputs": [],
   "source": [
    "def check_bsearch_tree(b, min_v = None, max_v = None):\n",
    "    if b == None:\n",
    "        return True\n",
    "\n",
    "    if (min_v != None and b.content <= min_v) or\\\n",
    "    (max_v != None and b.content >= max_v):\n",
    "        return False\n",
    "    \n",
    "    left = check_bsearch_tree(b.left, min_v, b.content)    \n",
    "    right = check_bsearch_tree(b.right, b.content, max_v)\n",
    "    return left and right\n",
    "    \n",
    "    return True"
   ]
  },
  {
   "cell_type": "code",
   "execution_count": 59,
   "metadata": {
    "scrolled": false
   },
   "outputs": [
    {
     "data": {
      "text/plain": [
       "True"
      ]
     },
     "execution_count": 59,
     "metadata": {},
     "output_type": "execute_result"
    }
   ],
   "source": [
    "check_bsearch_tree(b)"
   ]
  },
  {
   "cell_type": "code",
   "execution_count": 60,
   "metadata": {
    "scrolled": true
   },
   "outputs": [
    {
     "data": {
      "text/plain": [
       "False"
      ]
     },
     "execution_count": 60,
     "metadata": {},
     "output_type": "execute_result"
    }
   ],
   "source": [
    "check_bsearch_tree(f)"
   ]
  },
  {
   "cell_type": "code",
   "execution_count": 14,
   "metadata": {
    "collapsed": true
   },
   "outputs": [],
   "source": [
    "### Strategy:\n",
    "# improve the solution by tracking the most recent node in the traversal and \n",
    "# check if it's larger than the preivous node\n",
    "\n",
    "# run time complexity is O(n), linear\n",
    "# memory complexity is O(h), O(long n) for a balanced tree and \n",
    "# the worst case can be O(n)"
   ]
  },
  {
   "cell_type": "code",
   "execution_count": 49,
   "metadata": {
    "collapsed": true
   },
   "outputs": [],
   "source": [
    "def check_bsearch_tree(b, track_value = None):\n",
    "    if b == None:\n",
    "        return True\n",
    "    \n",
    "    left = check_bsearch_tree(b.left, track_value)\n",
    "    \n",
    "    track = None\n",
    "    if track_value:\n",
    "        if b.content > track_value:\n",
    "            track_value = b.content\n",
    "            track = True\n",
    "        else:\n",
    "            print (\"track_value is {} and b.content is {}\".format(\n",
    "                track_value, b.content))\n",
    "            track = False\n",
    "    else:\n",
    "        track_value = b.content\n",
    "        track = True\n",
    "    \n",
    "    right = check_bsearch_tree(b.right, track_value)\n",
    "        \n",
    "    return left and right and track"
   ]
  },
  {
   "cell_type": "code",
   "execution_count": 50,
   "metadata": {},
   "outputs": [
    {
     "data": {
      "text/plain": [
       "True"
      ]
     },
     "execution_count": 50,
     "metadata": {},
     "output_type": "execute_result"
    }
   ],
   "source": [
    "check_bsearch_tree(b)"
   ]
  },
  {
   "cell_type": "code",
   "execution_count": 51,
   "metadata": {
    "scrolled": true
   },
   "outputs": [
    {
     "name": "stdout",
     "output_type": "stream",
     "text": [
      "track_value is 200 and b.content is 50\n"
     ]
    },
    {
     "data": {
      "text/plain": [
       "False"
      ]
     },
     "execution_count": 51,
     "metadata": {},
     "output_type": "execute_result"
    }
   ],
   "source": [
    "check_bsearch_tree(f)"
   ]
  },
  {
   "cell_type": "code",
   "execution_count": 37,
   "metadata": {},
   "outputs": [
    {
     "name": "stdout",
     "output_type": "stream",
     "text": [
      "(100 ( (50 ( (25 ( None | None)) | (75 ( None | None)))) | (200 ( (125 ( None | None)) | (50 ( None | None))))))\n"
     ]
    }
   ],
   "source": [
    "print (f)"
   ]
  }
 ],
 "metadata": {
  "kernelspec": {
   "display_name": "Python 3",
   "language": "python",
   "name": "python3"
  },
  "language_info": {
   "codemirror_mode": {
    "name": "ipython",
    "version": 3
   },
   "file_extension": ".py",
   "mimetype": "text/x-python",
   "name": "python",
   "nbconvert_exporter": "python",
   "pygments_lexer": "ipython3",
   "version": "3.6.0"
  }
 },
 "nbformat": 4,
 "nbformat_minor": 2
}
