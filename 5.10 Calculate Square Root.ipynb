{
 "cells": [
  {
   "cell_type": "markdown",
   "metadata": {},
   "source": [
    "# Problem\n",
    "\n",
    "Given a double number, write a function to calculate its square root."
   ]
  },
  {
   "cell_type": "code",
   "execution_count": 6,
   "metadata": {},
   "outputs": [],
   "source": [
    "epsilon = 0.00001\n",
    "def square_root(num):\n",
    "    start = 0\n",
    "    end = 1 + num/2\n",
    "    \n",
    "    found = False\n",
    "    while not found and start < end:\n",
    "\n",
    "        mid = (start + end) / 2\n",
    "        sqr = mid ** 2\n",
    "        \n",
    "        if abs(num - sqr) <= epsilon:\n",
    "            found = True\n",
    "            \n",
    "        elif num < sqr:\n",
    "            end = mid\n",
    "        \n",
    "        elif num > sqr:\n",
    "            start = mid\n",
    "            \n",
    "    if found:\n",
    "        return mid\n",
    "    \n",
    "    else:\n",
    "        return False\n",
    "            "
   ]
  },
  {
   "cell_type": "code",
   "execution_count": 7,
   "metadata": {},
   "outputs": [
    {
     "data": {
      "text/plain": [
       "3.999999761581421"
      ]
     },
     "execution_count": 7,
     "metadata": {},
     "output_type": "execute_result"
    }
   ],
   "source": [
    "square_root(16)"
   ]
  }
 ],
 "metadata": {
  "kernelspec": {
   "display_name": "Python 3",
   "language": "python",
   "name": "python3"
  },
  "language_info": {
   "codemirror_mode": {
    "name": "ipython",
    "version": 3
   },
   "file_extension": ".py",
   "mimetype": "text/x-python",
   "name": "python",
   "nbconvert_exporter": "python",
   "pygments_lexer": "ipython3",
   "version": "3.6.0"
  }
 },
 "nbformat": 4,
 "nbformat_minor": 2
}
