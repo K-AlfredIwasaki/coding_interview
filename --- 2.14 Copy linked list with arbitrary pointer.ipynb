{
 "cells": [
  {
   "cell_type": "code",
   "execution_count": 52,
   "metadata": {},
   "outputs": [],
   "source": [
    "class RandomListNode(object):\n",
    "    def __init__(self, x):\n",
    "        self.label = x\n",
    "        self.next = None\n",
    "        self.random = None\n",
    "    def __str__(self):\n",
    "        current = self\n",
    "        result = []\n",
    "        while current != None:\n",
    "            result.append(current.label)\n",
    "            current = current.next\n",
    "        return \"=>\".join(result)\n"
   ]
  },
  {
   "cell_type": "code",
   "execution_count": 53,
   "metadata": {},
   "outputs": [],
   "source": [
    "a = RandomListNode(\"a\")\n",
    "a.next = RandomListNode(\"b\")\n",
    "a.next.next = RandomListNode(\"c\")\n",
    "a.next.next.next = RandomListNode(\"d\")\n",
    "a.next.next.next.next = RandomListNode(\"e\")\n",
    "a.next.next.next.next.next = RandomListNode(\"f\")\n",
    "a.next.next.next.next.next.next = RandomListNode(\"g\")"
   ]
  },
  {
   "cell_type": "code",
   "execution_count": 54,
   "metadata": {
    "collapsed": true
   },
   "outputs": [],
   "source": [
    "a.random = a.next.next.next # a => d\n",
    "a.next.random = a.next.next.next.next # b => e\n",
    "a.next.next.random = a.next.next.next.next.next.next # c => g\n",
    "a.next.next.next.next.next.next.random = a # g => a"
   ]
  },
  {
   "cell_type": "code",
   "execution_count": 55,
   "metadata": {},
   "outputs": [
    {
     "name": "stdout",
     "output_type": "stream",
     "text": [
      "a=>b=>c=>d=>e=>f=>g\n"
     ]
    }
   ],
   "source": [
    "print(a)"
   ]
  },
  {
   "cell_type": "code",
   "execution_count": 56,
   "metadata": {},
   "outputs": [
    {
     "data": {
      "text/plain": [
       "'d'"
      ]
     },
     "execution_count": 56,
     "metadata": {},
     "output_type": "execute_result"
    }
   ],
   "source": [
    "a.random.label"
   ]
  },
  {
   "cell_type": "code",
   "execution_count": 57,
   "metadata": {},
   "outputs": [
    {
     "data": {
      "text/plain": [
       "'e'"
      ]
     },
     "execution_count": 57,
     "metadata": {},
     "output_type": "execute_result"
    }
   ],
   "source": [
    "a.next.random.label"
   ]
  },
  {
   "cell_type": "code",
   "execution_count": 58,
   "metadata": {
    "scrolled": false
   },
   "outputs": [
    {
     "data": {
      "text/plain": [
       "'g'"
      ]
     },
     "execution_count": 58,
     "metadata": {},
     "output_type": "execute_result"
    }
   ],
   "source": [
    "a.next.next.random.label"
   ]
  },
  {
   "cell_type": "code",
   "execution_count": 59,
   "metadata": {},
   "outputs": [
    {
     "data": {
      "text/plain": [
       "'a'"
      ]
     },
     "execution_count": 59,
     "metadata": {},
     "output_type": "execute_result"
    }
   ],
   "source": [
    "a.next.next.next.next.next.next.random.label"
   ]
  },
  {
   "cell_type": "code",
   "execution_count": 60,
   "metadata": {
    "collapsed": true
   },
   "outputs": [],
   "source": [
    "class Solution(object):\n",
    "    def copyRandomList(self, head):\n",
    "        \"\"\"\n",
    "        :type head: RandomListNode\n",
    "        :rtype: RandomListNode\n",
    "        \"\"\"\n",
    "        current = head\n",
    "        new_head = None\n",
    "        new = None\n",
    "        match_table = {} # old node and new node\n",
    "        while current != None:\n",
    "            if not new:\n",
    "                new = RandomListNode(current.label)\n",
    "                new_head = new\n",
    "                \n",
    "            else:\n",
    "                new.next = RandomListNode(current.label)\n",
    "                new = new.next\n",
    "            \n",
    "            match_table[current.label] = new ##### IMPORTANT\n",
    "            \n",
    "            if current.random:\n",
    "                new.random = current.random\n",
    "            \n",
    "            current = current.next\n",
    "        \n",
    "        current = new_head\n",
    "        while current != None:\n",
    "            if current.random:\n",
    "                current.random = match_table[current.random.label] ### IMPORTANT update to the new node            \n",
    "            \n",
    "            current = current.next\n",
    "            \n",
    "        return new_head"
   ]
  },
  {
   "cell_type": "code",
   "execution_count": 61,
   "metadata": {
    "collapsed": true
   },
   "outputs": [],
   "source": [
    "s = Solution()"
   ]
  },
  {
   "cell_type": "code",
   "execution_count": 62,
   "metadata": {},
   "outputs": [
    {
     "name": "stdout",
     "output_type": "stream",
     "text": [
      "a=>b=>c=>d=>e=>f=>g\n"
     ]
    }
   ],
   "source": [
    "new = s.copyRandomList(a)\n",
    "print (new)"
   ]
  },
  {
   "cell_type": "code",
   "execution_count": 63,
   "metadata": {},
   "outputs": [
    {
     "data": {
      "text/plain": [
       "'d'"
      ]
     },
     "execution_count": 63,
     "metadata": {},
     "output_type": "execute_result"
    }
   ],
   "source": [
    "new.random.label"
   ]
  },
  {
   "cell_type": "code",
   "execution_count": 64,
   "metadata": {},
   "outputs": [
    {
     "data": {
      "text/plain": [
       "'g'"
      ]
     },
     "execution_count": 64,
     "metadata": {},
     "output_type": "execute_result"
    }
   ],
   "source": [
    "new.next.next.random.label"
   ]
  },
  {
   "cell_type": "code",
   "execution_count": 65,
   "metadata": {},
   "outputs": [
    {
     "data": {
      "text/plain": [
       "'a'"
      ]
     },
     "execution_count": 65,
     "metadata": {},
     "output_type": "execute_result"
    }
   ],
   "source": [
    "new.next.next.next.next.next.next.random.label"
   ]
  }
 ],
 "metadata": {
  "kernelspec": {
   "display_name": "Python 3",
   "language": "python",
   "name": "python3"
  },
  "language_info": {
   "codemirror_mode": {
    "name": "ipython",
    "version": 3
   },
   "file_extension": ".py",
   "mimetype": "text/x-python",
   "name": "python",
   "nbconvert_exporter": "python",
   "pygments_lexer": "ipython3",
   "version": "3.6.0"
  }
 },
 "nbformat": 4,
 "nbformat_minor": 2
}
