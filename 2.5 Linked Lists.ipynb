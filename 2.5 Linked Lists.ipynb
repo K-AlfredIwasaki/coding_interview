{
 "cells": [
  {
   "cell_type": "code",
   "execution_count": 2,
   "metadata": {
    "collapsed": true
   },
   "outputs": [],
   "source": [
    "from random import randint\n",
    "\n",
    "class Node:\n",
    "    def __init__(self, value):\n",
    "        self.value = value\n",
    "        self.next = None\n",
    "\n",
    "    def __str__(self):\n",
    "        return str(self.value)\n",
    "\n",
    "class LinkedList:\n",
    "    def __init__(self):\n",
    "        self.head = None\n",
    "        self.tail = None\n",
    "\n",
    "    def addNode(self,value):\n",
    "        node = Node(value)\n",
    "        #if the old list is none, set new node as the first node\n",
    "        if self.head == None:\n",
    "            self.head = node\n",
    "            self.tail = node\n",
    "        else:\n",
    "            self.tail.next = node\n",
    "            self.tail = node\n",
    "\n",
    "    def __str__(self):\n",
    "        if self.head != None:\n",
    "            index = self.head\n",
    "            nodestore = [str(index.value)]\n",
    "            while index.next != None:\n",
    "                index = index.next\n",
    "                nodestore.append(str(index.value))\n",
    "            return \"LinkedList  [ \" + \"->\".join(nodestore) + \" ]\"\n",
    "        return \"LinkedList  []\"\n",
    "\n",
    "\n",
    "    #remove the first node that have the same value as the given node_value\n",
    "    def removeNode(self, node_value):\n",
    "        current = self.head\n",
    "        if current.value == node_value:\n",
    "            self.head = self.head.next\n",
    "        while(current.next != None):\n",
    "            if current.next.value == node_value:\n",
    "                current.next = current.next.next\n",
    "                break\n",
    "            else:\n",
    "                current = current.next\n",
    "                \n",
    "def randomLinkedList(length, min, max):\n",
    "    linkedlist = LinkedList()\n",
    "    for i in range(length):\n",
    "        value = randint(min, max)\n",
    "        linkedlist.addNode(value)\n",
    "    return linkedlist"
   ]
  },
  {
   "cell_type": "code",
   "execution_count": 17,
   "metadata": {
    "collapsed": false
   },
   "outputs": [
    {
     "name": "stdout",
     "output_type": "stream",
     "text": [
      "LinkedList  [ 8->4->6 ]\n"
     ]
    }
   ],
   "source": [
    "l1 = randomLinkedList(3, 0, 9)\n",
    "print (l1)"
   ]
  },
  {
   "cell_type": "code",
   "execution_count": 20,
   "metadata": {
    "collapsed": false
   },
   "outputs": [
    {
     "name": "stdout",
     "output_type": "stream",
     "text": [
      "LinkedList  [ 1->3->9 ]\n"
     ]
    }
   ],
   "source": [
    "l2 = randomLinkedList(3, 0, 9)\n",
    "print (l2)"
   ]
  },
  {
   "cell_type": "markdown",
   "metadata": {},
   "source": [
    "You have two numbers represented by a linked list, where each node contains a single digit. The digits are stored in reverse order, such that the 1’s digit is at the head of the list. Write a function that adds the two numbers and returns the sum as a linked list.\n",
    "\n",
    "EXAMPLE\n",
    "\n",
    "Input: (3 -> 1 -> 5), (5 -> 9 -> 2)\n",
    "\n",
    "Output: 8 -> 0 -> 8"
   ]
  },
  {
   "cell_type": "code",
   "execution_count": 18,
   "metadata": {
    "collapsed": true
   },
   "outputs": [],
   "source": [
    "def convertToDigit(linkedlist):\n",
    "    num = 0\n",
    "    mul = 1\n",
    "    current = linkedlist.head\n",
    "    while current != None:\n",
    "        num += current.value * mul\n",
    "        print(num)\n",
    "        mul = mul * 10\n",
    "        current = current.next\n",
    "    return num"
   ]
  },
  {
   "cell_type": "code",
   "execution_count": 19,
   "metadata": {
    "collapsed": false
   },
   "outputs": [
    {
     "name": "stdout",
     "output_type": "stream",
     "text": [
      "8\n",
      "48\n",
      "648\n"
     ]
    },
    {
     "data": {
      "text/plain": [
       "648"
      ]
     },
     "execution_count": 19,
     "metadata": {},
     "output_type": "execute_result"
    }
   ],
   "source": [
    "convertToDigit(l1)"
   ]
  },
  {
   "cell_type": "code",
   "execution_count": 21,
   "metadata": {
    "collapsed": true
   },
   "outputs": [],
   "source": [
    "def addLists(l1, l2):\n",
    "    return convertToDigit(l1) + convertToDigit(l2)"
   ]
  },
  {
   "cell_type": "code",
   "execution_count": 22,
   "metadata": {
    "collapsed": false
   },
   "outputs": [
    {
     "name": "stdout",
     "output_type": "stream",
     "text": [
      "8\n",
      "48\n",
      "648\n",
      "1\n",
      "31\n",
      "931\n"
     ]
    },
    {
     "data": {
      "text/plain": [
       "1579"
      ]
     },
     "execution_count": 22,
     "metadata": {},
     "output_type": "execute_result"
    }
   ],
   "source": [
    "addLists(l1, l2)"
   ]
  }
 ],
 "metadata": {
  "kernelspec": {
   "display_name": "Python 3",
   "language": "python",
   "name": "python3"
  },
  "language_info": {
   "codemirror_mode": {
    "name": "ipython",
    "version": 3
   },
   "file_extension": ".py",
   "mimetype": "text/x-python",
   "name": "python",
   "nbconvert_exporter": "python",
   "pygments_lexer": "ipython3",
   "version": "3.6.0"
  }
 },
 "nbformat": 4,
 "nbformat_minor": 2
}
