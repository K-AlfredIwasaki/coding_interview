{
 "cells": [
  {
   "cell_type": "code",
   "execution_count": 15,
   "metadata": {
    "collapsed": true
   },
   "outputs": [],
   "source": [
    "class DirectedGraph:\n",
    "    def __init__(self,content):\n",
    "        self.content = content\n",
    "        self.neighbours = []\n",
    "        \n",
    "n1 = DirectedGraph(1)\n",
    "n2 = DirectedGraph(2)\n",
    "n3 = DirectedGraph(3)\n",
    "n4 = DirectedGraph(4)\n",
    "n5 = DirectedGraph(5)\n",
    "n6 = DirectedGraph(6)\n",
    "\n",
    "n1.neighbours.append(n2)\n",
    "n2.neighbours.append(n3)\n",
    "n2.neighbours.append(n4)\n",
    "n4.neighbours.append(n5)\n",
    "n4.neighbours.append(n1)\n",
    "n5.neighbours.append(n6)"
   ]
  },
  {
   "cell_type": "code",
   "execution_count": 49,
   "metadata": {},
   "outputs": [],
   "source": [
    "from collections import deque\n",
    "def bfs(node):\n",
    "    if node == None or len(node.neighbours) == 0:\n",
    "        return node\n",
    "    \n",
    "    q = deque()\n",
    "    q.append(node)\n",
    "    visited = {}\n",
    "    print (node.content)\n",
    "    \n",
    "    while len(q) != 0:\n",
    "        \n",
    "        current = q.popleft()\n",
    "        visited[current] = True\n",
    "        \n",
    "        for neighbour in current.neighbours:\n",
    "            if neighbour not in visited:\n",
    "                print(neighbour.content)\n",
    "                q.append(neighbour)\n",
    "            else:\n",
    "                continue"
   ]
  },
  {
   "cell_type": "code",
   "execution_count": 50,
   "metadata": {
    "scrolled": false
   },
   "outputs": [
    {
     "name": "stdout",
     "output_type": "stream",
     "text": [
      "1\n",
      "2\n",
      "3\n",
      "4\n",
      "5\n",
      "6\n"
     ]
    }
   ],
   "source": [
    "bfs(n1)"
   ]
  },
  {
   "cell_type": "markdown",
   "metadata": {},
   "source": [
    "http://www.koderdojo.com/blog/depth-first-search-in-python-recursive-and-non-recursive-programming"
   ]
  },
  {
   "cell_type": "code",
   "execution_count": 53,
   "metadata": {
    "collapsed": true
   },
   "outputs": [],
   "source": [
    "def dfs(node):\n",
    "    if node == None or len(node.neighbours) == 0:\n",
    "        return node\n",
    "    \n",
    "    stack = deque()\n",
    "    stack.append(node)\n",
    "    visited = {}\n",
    "    \n",
    "    while len(stack) != 0:\n",
    "        \n",
    "        current = stack.pop()\n",
    "        \n",
    "        if current not in visited:\n",
    "            print(current.content)\n",
    "            \n",
    "            visited[current] = True\n",
    "            \n",
    "            for neighbour in current.neighbours:\n",
    "                stack.append(neighbour)"
   ]
  },
  {
   "cell_type": "code",
   "execution_count": 54,
   "metadata": {},
   "outputs": [
    {
     "name": "stdout",
     "output_type": "stream",
     "text": [
      "1\n",
      "2\n",
      "4\n",
      "5\n",
      "6\n",
      "3\n"
     ]
    }
   ],
   "source": [
    "dfs(n1)"
   ]
  },
  {
   "cell_type": "code",
   "execution_count": 72,
   "metadata": {
    "collapsed": true
   },
   "outputs": [],
   "source": [
    "def dfs_rec(node, visited={}):\n",
    "    if node == None:\n",
    "        return\n",
    "    \n",
    "    visited[node] = True\n",
    "    \n",
    "    for neighbour in node.neighbours:\n",
    "        \n",
    "        if neighbour not in visited:\n",
    "            print(neighbour.content)\n",
    "            visited = dfs_rec(neighbour, visited)\n",
    "            \n",
    "    return visited"
   ]
  },
  {
   "cell_type": "code",
   "execution_count": 73,
   "metadata": {
    "scrolled": false
   },
   "outputs": [
    {
     "name": "stdout",
     "output_type": "stream",
     "text": [
      "2\n",
      "3\n",
      "4\n",
      "5\n",
      "6\n"
     ]
    },
    {
     "data": {
      "text/plain": [
       "{<__main__.DirectedGraph at 0x20f2cdb9b00>: True,\n",
       " <__main__.DirectedGraph at 0x20f2cdb9ba8>: True,\n",
       " <__main__.DirectedGraph at 0x20f2cdb9dd8>: True,\n",
       " <__main__.DirectedGraph at 0x20f2cdb9128>: True,\n",
       " <__main__.DirectedGraph at 0x20f2cdb9940>: True,\n",
       " <__main__.DirectedGraph at 0x20f2cdb9e80>: True}"
      ]
     },
     "execution_count": 73,
     "metadata": {},
     "output_type": "execute_result"
    }
   ],
   "source": [
    "dfs_rec(n1)"
   ]
  }
 ],
 "metadata": {
  "kernelspec": {
   "display_name": "Python 3",
   "language": "python",
   "name": "python3"
  },
  "language_info": {
   "codemirror_mode": {
    "name": "ipython",
    "version": 3
   },
   "file_extension": ".py",
   "mimetype": "text/x-python",
   "name": "python",
   "nbconvert_exporter": "python",
   "pygments_lexer": "ipython3",
   "version": "3.6.0"
  }
 },
 "nbformat": 4,
 "nbformat_minor": 2
}
