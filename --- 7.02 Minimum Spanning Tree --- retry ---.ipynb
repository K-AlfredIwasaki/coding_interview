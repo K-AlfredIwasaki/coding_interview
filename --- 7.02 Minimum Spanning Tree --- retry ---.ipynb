{
 "cells": [
  {
   "cell_type": "markdown",
   "metadata": {},
   "source": [
    "http://www.bogotobogo.com/python/python_Prims_Spanning_Tree_Data_Structure.php"
   ]
  },
  {
   "cell_type": "code",
   "execution_count": 1,
   "metadata": {
    "collapsed": true,
    "scrolled": true
   },
   "outputs": [],
   "source": [
    "import sys\n",
    "from functools import total_ordering\n",
    "\n",
    "class Vertex:\n",
    "    def __init__(self, node):\n",
    "        self.id = node\n",
    "        self.adjacent = {}\n",
    "        # Set distance to infinity for all nodes\n",
    "        self.distance = sys.maxsize ### there is no maxint for python 3\n",
    "        # Mark all nodes unvisited        \n",
    "        self.visited = False  \n",
    "        # Predecessor\n",
    "        self.previous = None\n",
    "\n",
    "    def add_neighbor(self, neighbor, weight=0):\n",
    "        self.adjacent[neighbor] = weight\n",
    "\n",
    "    def get_connections(self):\n",
    "        return self.adjacent.keys()  \n",
    "\n",
    "    def get_id(self):\n",
    "        return self.id\n",
    "\n",
    "    def get_weight(self, neighbor):\n",
    "        return self.adjacent[neighbor]\n",
    "\n",
    "    def set_distance(self, dist):\n",
    "        self.distance = dist\n",
    "\n",
    "    def get_distance(self):\n",
    "        return self.distance\n",
    "\n",
    "    def set_previous(self, prev):\n",
    "        self.previous = prev\n",
    "\n",
    "    def set_visited(self):\n",
    "        self.visited = True\n",
    "\n",
    "    def __str__(self):\n",
    "        return str(self.id) + ' adjacent: ' + str([x.id for x in self.adjacent])\n",
    "    \n",
    "    def __lt__(self, other):  # we need to this to compare vertex and vertex\n",
    "        return self.distance < other.distance\n",
    "\n",
    "class Graph:\n",
    "    def __init__(self):\n",
    "        self.vert_dict = {}\n",
    "        self.num_vertices = 0\n",
    "\n",
    "    def __iter__(self):\n",
    "        return iter(self.vert_dict.values())\n",
    "\n",
    "    def add_vertex(self, node):\n",
    "        self.num_vertices = self.num_vertices + 1\n",
    "        new_vertex = Vertex(node)\n",
    "        self.vert_dict[node] = new_vertex\n",
    "        return new_vertex\n",
    "\n",
    "    def get_vertex(self, n):\n",
    "        if n in self.vert_dict:\n",
    "            return self.vert_dict[n]\n",
    "        else:\n",
    "            return None\n",
    "\n",
    "    def add_edge(self, frm, to, cost = 0):\n",
    "        if frm not in self.vert_dict:\n",
    "            self.add_vertex(frm)\n",
    "        if to not in self.vert_dict:\n",
    "            self.add_vertex(to)\n",
    "\n",
    "        self.vert_dict[frm].add_neighbor(self.vert_dict[to], cost)\n",
    "        self.vert_dict[to].add_neighbor(self.vert_dict[frm], cost)\n",
    "\n",
    "    def get_vertices(self):\n",
    "        return self.vert_dict.keys()\n",
    "\n",
    "    def set_previous(self, current):\n",
    "        self.previous = current\n",
    "\n",
    "    def get_previous(self, current):\n",
    "        return self.previous\n",
    "\n",
    "def shortest(v, path):\n",
    "    ''' make shortest path from v.previous'''\n",
    "    if v.previous:\n",
    "        path.append(v.previous.get_id())\n",
    "        shortest(v.previous, path)\n",
    "    return"
   ]
  },
  {
   "cell_type": "code",
   "execution_count": 1,
   "metadata": {
    "scrolled": false
   },
   "outputs": [
    {
     "ename": "NameError",
     "evalue": "name 'Graph' is not defined",
     "output_type": "error",
     "traceback": [
      "\u001b[0;31m---------------------------------------------------------------------------\u001b[0m",
      "\u001b[0;31mNameError\u001b[0m                                 Traceback (most recent call last)",
      "\u001b[0;32m<ipython-input-1-f8fcae960827>\u001b[0m in \u001b[0;36m<module>\u001b[0;34m()\u001b[0m\n\u001b[1;32m     49\u001b[0m \u001b[1;33m\u001b[0m\u001b[0m\n\u001b[1;32m     50\u001b[0m \u001b[1;33m\u001b[0m\u001b[0m\n\u001b[0;32m---> 51\u001b[0;31m \u001b[0mg\u001b[0m \u001b[1;33m=\u001b[0m \u001b[0mGraph\u001b[0m\u001b[1;33m(\u001b[0m\u001b[1;33m)\u001b[0m\u001b[1;33m\u001b[0m\u001b[0m\n\u001b[0m\u001b[1;32m     52\u001b[0m \u001b[1;33m\u001b[0m\u001b[0m\n\u001b[1;32m     53\u001b[0m \u001b[0mg\u001b[0m\u001b[1;33m.\u001b[0m\u001b[0madd_vertex\u001b[0m\u001b[1;33m(\u001b[0m\u001b[1;34m'a'\u001b[0m\u001b[1;33m)\u001b[0m\u001b[1;33m\u001b[0m\u001b[0m\n",
      "\u001b[0;31mNameError\u001b[0m: name 'Graph' is not defined"
     ]
    }
   ],
   "source": [
    "import heapq\n",
    "\n",
    "def dijkstra(aGraph, start):\n",
    "    \"\"\"\n",
    "    - initialize, set-up staring node(vertex), build a priority queue\n",
    "    - while loop\n",
    "        - get a vertex with the smallest distance\n",
    "        - update distance\n",
    "        - rebuild heap => back\n",
    "    \n",
    "    \"\"\"\n",
    "    print (\"Dijkstra's shortest path\")\n",
    "    # Set the distance for the start node to zero \n",
    "    start.set_distance(0)\n",
    "\n",
    "    # Put tuple pair into the priority queue\n",
    "    unvisited_queue = [(v.get_distance(),v) for v in aGraph]\n",
    "    heapq.heapify(unvisited_queue)\n",
    "\n",
    "    while len(unvisited_queue):\n",
    "        # Pops a vertex with the smallest distance \n",
    "        uv = heapq.heappop(unvisited_queue)\n",
    "        current = uv[1]\n",
    "        current.set_visited()\n",
    "\n",
    "        #for next in v.adjacent:\n",
    "        for next in current.adjacent:\n",
    "            # if visited, skip\n",
    "            if next.visited:\n",
    "                continue\n",
    "            \n",
    "            ###### Update dist ####################################################\n",
    "            new_dist = current.get_distance() + current.get_weight(next)\n",
    "            \n",
    "            if new_dist < next.get_distance():\n",
    "                next.set_distance(new_dist)\n",
    "                next.set_previous(current) ############# IMPORTANT\n",
    "                print ('updated : current = %s next = %s new_dist = %s' \\\n",
    "                        %(current.get_id(), next.get_id(), next.get_distance()))\n",
    "            else:\n",
    "                print ('not updated : current = %s next = %s new_dist = %s' \\\n",
    "                        %(current.get_id(), next.get_id(), next.get_distance()))\n",
    "\n",
    "        # Rebuild heap\n",
    "        # 1. Pop every item\n",
    "        while len(unvisited_queue):\n",
    "            heapq.heappop(unvisited_queue)\n",
    "        # 2. Put all vertices not visited into the queue\n",
    "        unvisited_queue = [(v.get_distance(),v) for v in aGraph if not v.visited]\n",
    "        heapq.heapify(unvisited_queue)\n",
    "\n",
    "\n",
    "g = Graph()\n",
    "\n",
    "g.add_vertex('a')\n",
    "g.add_vertex('b')\n",
    "g.add_vertex('c')\n",
    "g.add_vertex('d')\n",
    "g.add_vertex('e')\n",
    "g.add_vertex('f')\n",
    "\n",
    "g.add_edge('a', 'b', 7)  \n",
    "g.add_edge('a', 'c', 9)\n",
    "g.add_edge('a', 'f', 14)\n",
    "g.add_edge('b', 'c', 10)\n",
    "g.add_edge('b', 'd', 15)\n",
    "g.add_edge('c', 'd', 11)\n",
    "g.add_edge('c', 'f', 2)\n",
    "g.add_edge('d', 'e', 6)\n",
    "g.add_edge('e', 'f', 9)\n",
    "\n",
    "print ('Graph data:')\n",
    "for v in g:\n",
    "    for w in v.get_connections():\n",
    "        vid = v.get_id()\n",
    "        wid = w.get_id()\n",
    "        print ('( %s , %s, %3d)'  % ( vid, wid, v.get_weight(w)))"
   ]
  },
  {
   "cell_type": "code",
   "execution_count": 9,
   "metadata": {
    "scrolled": false
   },
   "outputs": [
    {
     "name": "stdout",
     "output_type": "stream",
     "text": [
      "a adjacent: ['b', 'c', 'f']\n"
     ]
    }
   ],
   "source": [
    "print (g.get_vertex('a'))"
   ]
  },
  {
   "cell_type": "code",
   "execution_count": 12,
   "metadata": {},
   "outputs": [
    {
     "name": "stdout",
     "output_type": "stream",
     "text": [
      "a adjacent: ['b', 'c', 'f']\n"
     ]
    }
   ],
   "source": [
    "vertex_a = g.get_vertex('a')\n",
    "print (vertex_a)"
   ]
  },
  {
   "cell_type": "code",
   "execution_count": 15,
   "metadata": {
    "scrolled": true
   },
   "outputs": [
    {
     "name": "stdout",
     "output_type": "stream",
     "text": [
      "b adjacent: ['a', 'c', 'd']\n",
      "c adjacent: ['a', 'b', 'd', 'f']\n",
      "f adjacent: ['a', 'c', 'e']\n"
     ]
    }
   ],
   "source": [
    "for adj in vertex_a.get_connections():\n",
    "    print (adj)"
   ]
  },
  {
   "cell_type": "code",
   "execution_count": 16,
   "metadata": {
    "scrolled": true
   },
   "outputs": [
    {
     "data": {
      "text/plain": [
       "'a'"
      ]
     },
     "execution_count": 16,
     "metadata": {},
     "output_type": "execute_result"
    }
   ],
   "source": [
    "vertex_a.id # vertex id"
   ]
  },
  {
   "cell_type": "code",
   "execution_count": 17,
   "metadata": {},
   "outputs": [
    {
     "data": {
      "text/plain": [
       "{<__main__.Vertex at 0x21841793748>: 7,\n",
       " <__main__.Vertex at 0x21841793e48>: 9,\n",
       " <__main__.Vertex at 0x218417937b8>: 14}"
      ]
     },
     "execution_count": 17,
     "metadata": {},
     "output_type": "execute_result"
    }
   ],
   "source": [
    "vertex_a.adjacent # adjacent vertices + edge to it"
   ]
  },
  {
   "cell_type": "code",
   "execution_count": 22,
   "metadata": {},
   "outputs": [
    {
     "data": {
      "text/plain": [
       "{'a': <__main__.Vertex at 0x21841793860>,\n",
       " 'b': <__main__.Vertex at 0x21841793748>,\n",
       " 'c': <__main__.Vertex at 0x21841793e48>,\n",
       " 'd': <__main__.Vertex at 0x21841793828>,\n",
       " 'e': <__main__.Vertex at 0x21841793e10>,\n",
       " 'f': <__main__.Vertex at 0x218417937b8>}"
      ]
     },
     "execution_count": 22,
     "metadata": {},
     "output_type": "execute_result"
    }
   ],
   "source": [
    "g.vert_dict # dict {self.id, vertex}"
   ]
  },
  {
   "cell_type": "code",
   "execution_count": 23,
   "metadata": {},
   "outputs": [
    {
     "data": {
      "text/plain": [
       "6"
      ]
     },
     "execution_count": 23,
     "metadata": {},
     "output_type": "execute_result"
    }
   ],
   "source": [
    "g.num_vertices # number of vertices"
   ]
  },
  {
   "cell_type": "code",
   "execution_count": 5,
   "metadata": {},
   "outputs": [
    {
     "name": "stdout",
     "output_type": "stream",
     "text": [
      "Dijkstra's shortest path\n",
      "updated : current = a next = b new_dist = 7\n",
      "updated : current = a next = c new_dist = 9\n",
      "updated : current = a next = f new_dist = 14\n",
      "not updated : current = b next = c new_dist = 9\n",
      "updated : current = b next = d new_dist = 22\n",
      "updated : current = c next = d new_dist = 20\n",
      "updated : current = c next = f new_dist = 11\n",
      "updated : current = f next = e new_dist = 20\n",
      "not updated : current = e next = d new_dist = 20\n",
      "The shortest path for d : ['a', 'c', 'd']\n",
      "The shortest path for e : ['a', 'c', 'f', 'e']\n",
      "The shortest path for f : ['a', 'c', 'f']\n"
     ]
    }
   ],
   "source": [
    "dijkstra(g, g.get_vertex('a')) \n",
    "\n",
    "for t in ['d','e','f']:\n",
    "    target = g.get_vertex(t)\n",
    "    path = [t]\n",
    "    shortest(target, path)\n",
    "    print ('The shortest path for %s : %s' %(t, path[::-1]))"
   ]
  }
 ],
 "metadata": {
  "kernelspec": {
   "display_name": "Python 3",
   "language": "python",
   "name": "python3"
  },
  "language_info": {
   "codemirror_mode": {
    "name": "ipython",
    "version": 3
   },
   "file_extension": ".py",
   "mimetype": "text/x-python",
   "name": "python",
   "nbconvert_exporter": "python",
   "pygments_lexer": "ipython3",
   "version": "3.6.0"
  }
 },
 "nbformat": 4,
 "nbformat_minor": 2
}
