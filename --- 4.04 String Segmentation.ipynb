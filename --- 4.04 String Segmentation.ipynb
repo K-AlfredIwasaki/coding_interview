{
 "cells": [
  {
   "cell_type": "code",
   "execution_count": 9,
   "metadata": {
    "collapsed": true
   },
   "outputs": [],
   "source": [
    "def can_segment_string(s, dic):\n",
    "    solved = []\n",
    "    return can_segment_string_rec(s, dic, solved)\n",
    "\n",
    "def can_segment_string_rec(s, dic, solved):\n",
    "    for i in range(1, len(s) + 1):\n",
    "        print (i)\n",
    "        \n",
    "        first = s[0: i]\n",
    "        print (\"first word is {}\".format(first))\n",
    "        \n",
    "        if first in dic.keys():\n",
    "            second = s[i:]\n",
    "            \n",
    "            # second is None => we found all elements in the s\n",
    "            if not second:\n",
    "                return Ture\n",
    "            \n",
    "            # second is found => done\n",
    "            elif second in dic.keys():\n",
    "                return True\n",
    "            \n",
    "            # second found in solved => break\n",
    "            elif second in solved:\n",
    "                return\n",
    "            \n",
    "            # second not found => resursive call\n",
    "            elif second not in solved:\n",
    "                if can_segment_string_rec(second, dic, solved):\n",
    "                    return True\n",
    "                solved.append(second)\n",
    "                \n",
    "        else:\n",
    "            solved.append(first)\n",
    "            \n",
    "    return False\n"
   ]
  },
  {
   "cell_type": "code",
   "execution_count": 10,
   "metadata": {},
   "outputs": [
    {
     "name": "stdout",
     "output_type": "stream",
     "text": [
      "{'hello': True, 'hell': True, 'on': True, 'now': True}\n"
     ]
    }
   ],
   "source": [
    "dic = {}\n",
    "for word in [\"hello\", \"hell\", \"on\", \"now\"]:\n",
    "    dic[word] = True\n",
    "    \n",
    "print (dic)"
   ]
  },
  {
   "cell_type": "code",
   "execution_count": 11,
   "metadata": {
    "scrolled": false
   },
   "outputs": [
    {
     "name": "stdout",
     "output_type": "stream",
     "text": [
      "1\n",
      "first word is h\n",
      "2\n",
      "first word is he\n",
      "3\n",
      "first word is hel\n",
      "4\n",
      "first word is hell\n",
      "1\n",
      "first word is o\n",
      "2\n",
      "first word is on\n",
      "1\n",
      "first word is o\n",
      "2\n",
      "first word is ow\n",
      "3\n",
      "first word is owo\n",
      "4\n",
      "first word is owon\n",
      "3\n",
      "first word is ono\n",
      "4\n",
      "first word is onow\n",
      "5\n",
      "first word is onowo\n",
      "6\n",
      "first word is onowon\n",
      "5\n",
      "first word is hello\n",
      "1\n",
      "first word is n\n",
      "2\n",
      "first word is no\n",
      "3\n",
      "first word is now\n"
     ]
    },
    {
     "data": {
      "text/plain": [
       "True"
      ]
     },
     "execution_count": 11,
     "metadata": {},
     "output_type": "execute_result"
    }
   ],
   "source": [
    "can_segment_string(\"hellonowon\", dic)"
   ]
  },
  {
   "cell_type": "code",
   "execution_count": 12,
   "metadata": {},
   "outputs": [
    {
     "name": "stdout",
     "output_type": "stream",
     "text": [
      "1\n",
      "first word is h\n",
      "2\n",
      "first word is he\n",
      "3\n",
      "first word is hel\n",
      "4\n",
      "first word is hell\n",
      "1\n",
      "first word is o\n",
      "2\n",
      "first word is on\n",
      "1\n",
      "first word is o\n",
      "2\n",
      "first word is ow\n",
      "3\n",
      "first word is owo\n",
      "4\n",
      "first word is owon\n",
      "5\n",
      "first word is owono\n",
      "6\n",
      "first word is owonon\n",
      "3\n",
      "first word is ono\n",
      "4\n",
      "first word is onow\n",
      "5\n",
      "first word is onowo\n",
      "6\n",
      "first word is onowon\n",
      "7\n",
      "first word is onowono\n",
      "8\n",
      "first word is onowonon\n",
      "5\n",
      "first word is hello\n",
      "1\n",
      "first word is n\n",
      "2\n",
      "first word is no\n",
      "3\n",
      "first word is now\n",
      "1\n",
      "first word is o\n",
      "2\n",
      "first word is on\n"
     ]
    },
    {
     "data": {
      "text/plain": [
       "True"
      ]
     },
     "execution_count": 12,
     "metadata": {},
     "output_type": "execute_result"
    }
   ],
   "source": [
    "can_segment_string(\"hellonowonon\", dic)"
   ]
  },
  {
   "cell_type": "code",
   "execution_count": null,
   "metadata": {
    "collapsed": true
   },
   "outputs": [],
   "source": []
  }
 ],
 "metadata": {
  "kernelspec": {
   "display_name": "Python 3",
   "language": "python",
   "name": "python3"
  },
  "language_info": {
   "codemirror_mode": {
    "name": "ipython",
    "version": 3
   },
   "file_extension": ".py",
   "mimetype": "text/x-python",
   "name": "python",
   "nbconvert_exporter": "python",
   "pygments_lexer": "ipython3",
   "version": "3.6.0"
  }
 },
 "nbformat": 4,
 "nbformat_minor": 2
}
