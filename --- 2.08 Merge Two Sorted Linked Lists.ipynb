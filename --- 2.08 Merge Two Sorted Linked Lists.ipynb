{
 "cells": [
  {
   "cell_type": "code",
   "execution_count": 1,
   "metadata": {
    "collapsed": true
   },
   "outputs": [],
   "source": [
    "# need to double check this solution"
   ]
  },
  {
   "cell_type": "code",
   "execution_count": 47,
   "metadata": {
    "scrolled": false
   },
   "outputs": [
    {
     "name": "stdout",
     "output_type": "stream",
     "text": [
      "4=>8=>11=>15\n",
      "2=>9=>10=>23\n"
     ]
    }
   ],
   "source": [
    "from data_structure.linkedlist_simple import *\n",
    "\n",
    "l = LinkedList(4)\n",
    "l.next = LinkedList(8)\n",
    "l.next.next = LinkedList(11)\n",
    "l.next.next.next = LinkedList(15)\n",
    "print (l)\n",
    "\n",
    "t = LinkedList(2)\n",
    "t.next = LinkedList(9)\n",
    "t.next.next = LinkedList(10)\n",
    "t.next.next.next = LinkedList(23)\n",
    "print (t)"
   ]
  },
  {
   "cell_type": "code",
   "execution_count": 48,
   "metadata": {
    "collapsed": true
   },
   "outputs": [],
   "source": [
    "def merge(a, b):\n",
    "    p1 = a\n",
    "    p2 = b\n",
    "    result = a\n",
    "    \n",
    "    # check first item\n",
    "    if p1.content > p2.content:\n",
    "        temp = p2.next\n",
    "        p2.next = p1\n",
    "        result = p2\n",
    "        p1 = p2\n",
    "        p2 = temp\n",
    "#     print(result)\n",
    "    \n",
    "    while p1.next != None and p2 != None:\n",
    "        \n",
    "        while p1.next != None and p1.next.content < p2.content:\n",
    "#             print (p1.content, p2.content)\n",
    "            p1 = p1.next\n",
    "        \n",
    "        # insert p2\n",
    "        temp = p2.next\n",
    "        p2.next = p1.next\n",
    "        p1.next = p2\n",
    "        \n",
    "        p1 = p2\n",
    "        p2 = temp\n",
    "#         print(result)\n",
    "    \n",
    "    return result"
   ]
  },
  {
   "cell_type": "code",
   "execution_count": 49,
   "metadata": {},
   "outputs": [
    {
     "name": "stdout",
     "output_type": "stream",
     "text": [
      "2=>4=>8=>9=>10=>11=>15=>23\n"
     ]
    }
   ],
   "source": [
    "print (merge(l, t))"
   ]
  }
 ],
 "metadata": {
  "kernelspec": {
   "display_name": "Python 3",
   "language": "python",
   "name": "python3"
  },
  "language_info": {
   "codemirror_mode": {
    "name": "ipython",
    "version": 3
   },
   "file_extension": ".py",
   "mimetype": "text/x-python",
   "name": "python",
   "nbconvert_exporter": "python",
   "pygments_lexer": "ipython3",
   "version": "3.6.0"
  }
 },
 "nbformat": 4,
 "nbformat_minor": 2
}
