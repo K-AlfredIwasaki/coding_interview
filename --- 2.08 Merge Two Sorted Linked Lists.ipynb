{
 "cells": [
  {
   "cell_type": "markdown",
   "metadata": {},
   "source": [
    "## Problem:\n",
    "Given two sorted linked lists, merge them such that resulting linked list is also sorted.\n",
    "\n",
    "Runtime complexity: O(m+n) where m and n are lengths of both linked lists.\n",
    "Memory complexity: O(1) constant"
   ]
  },
  {
   "cell_type": "code",
   "execution_count": 1,
   "metadata": {
    "scrolled": false
   },
   "outputs": [
    {
     "name": "stdout",
     "output_type": "stream",
     "text": [
      "4=>8=>11=>15\n",
      "2=>9=>10=>23\n"
     ]
    }
   ],
   "source": [
    "from data_structure.linkedlist_simple import *\n",
    "\n",
    "l = LinkedList(4)\n",
    "l.next = LinkedList(8)\n",
    "l.next.next = LinkedList(11)\n",
    "l.next.next.next = LinkedList(15)\n",
    "print (l)\n",
    "\n",
    "t = LinkedList(2)\n",
    "t.next = LinkedList(9)\n",
    "t.next.next = LinkedList(10)\n",
    "t.next.next.next = LinkedList(23)\n",
    "print (t)"
   ]
  },
  {
   "cell_type": "code",
   "execution_count": 2,
   "metadata": {
    "collapsed": true
   },
   "outputs": [],
   "source": [
    "def merge(a, b):\n",
    "    # if one of them is none\n",
    "    if a == None:\n",
    "        return b\n",
    "    elif b == None:\n",
    "        return a\n",
    "    \n",
    "    \n",
    "    # create new list - merged_list\n",
    "    head = None    \n",
    "    tail = None\n",
    "    \n",
    "    while a != None and b != None:\n",
    "        # pick which one to add to the merged_list\n",
    "        if a.content < b.content:\n",
    "            # a goes to the head\n",
    "            temp = a\n",
    "            a = a.next\n",
    "        else:\n",
    "            # b goes to the head\n",
    "            temp = b\n",
    "            b = b.next\n",
    "        \n",
    "        # add one to themerged_list\n",
    "        # if it's first item\n",
    "        if head == None:\n",
    "            tail = temp\n",
    "            head = temp\n",
    "            \n",
    "        else:\n",
    "            tail.next = temp\n",
    "            tail = temp\n",
    "    \n",
    "    # one while loop is over. either a or b might be remained\n",
    "    if a != None:\n",
    "        tail.next = a\n",
    "    if b != None:\n",
    "        tail.next = b\n",
    "        \n",
    "    return head     "
   ]
  },
  {
   "cell_type": "code",
   "execution_count": 3,
   "metadata": {},
   "outputs": [
    {
     "name": "stdout",
     "output_type": "stream",
     "text": [
      "2=>4=>8=>9=>10=>11=>15=>23\n"
     ]
    }
   ],
   "source": [
    "print (merge(l, t))"
   ]
  }
 ],
 "metadata": {
  "kernelspec": {
   "display_name": "Python 3",
   "language": "python",
   "name": "python3"
  },
  "language_info": {
   "codemirror_mode": {
    "name": "ipython",
    "version": 3
   },
   "file_extension": ".py",
   "mimetype": "text/x-python",
   "name": "python",
   "nbconvert_exporter": "python",
   "pygments_lexer": "ipython3",
   "version": "3.6.0"
  }
 },
 "nbformat": 4,
 "nbformat_minor": 2
}
