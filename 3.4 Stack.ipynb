{
 "cells": [
  {
   "cell_type": "code",
   "execution_count": 3,
   "metadata": {
    "collapsed": false
   },
   "outputs": [
    {
     "name": "stdout",
     "output_type": "stream",
     "text": [
      "[5, 4, 3, 2, 1]\n",
      "[]\n",
      "[]\n",
      "Disk 1 : Tower 1 -> 3\n",
      "Disk 2 : Tower 1 -> 2\n",
      "Disk 1 : Tower 3 -> 2\n",
      "Disk 3 : Tower 1 -> 3\n",
      "Disk 1 : Tower 2 -> 1\n",
      "Disk 2 : Tower 2 -> 3\n",
      "Disk 1 : Tower 1 -> 3\n",
      "Disk 4 : Tower 1 -> 2\n",
      "Disk 1 : Tower 3 -> 2\n",
      "Disk 2 : Tower 3 -> 1\n",
      "Disk 1 : Tower 2 -> 1\n",
      "Disk 3 : Tower 3 -> 2\n",
      "Disk 1 : Tower 1 -> 3\n",
      "Disk 2 : Tower 1 -> 2\n",
      "Disk 1 : Tower 3 -> 2\n",
      "Disk 5 : Tower 1 -> 3\n",
      "Disk 1 : Tower 2 -> 1\n",
      "Disk 2 : Tower 2 -> 3\n",
      "Disk 1 : Tower 1 -> 3\n",
      "Disk 3 : Tower 2 -> 1\n",
      "Disk 1 : Tower 3 -> 2\n",
      "Disk 2 : Tower 3 -> 1\n",
      "Disk 1 : Tower 2 -> 1\n",
      "Disk 4 : Tower 2 -> 3\n",
      "Disk 1 : Tower 1 -> 3\n",
      "Disk 2 : Tower 1 -> 2\n",
      "Disk 1 : Tower 3 -> 2\n",
      "Disk 3 : Tower 1 -> 3\n",
      "Disk 1 : Tower 2 -> 1\n",
      "Disk 2 : Tower 2 -> 3\n",
      "Disk 1 : Tower 1 -> 3\n",
      "[]\n",
      "[]\n",
      "[5, 4, 3, 2, 1]\n"
     ]
    }
   ],
   "source": [
    "class Hanoi:\n",
    "    \n",
    "    def __init__(self, size):\n",
    "        self.towers = [[], [], []]\n",
    "        self.size = size\n",
    "        self.towers[0] = [x for x in range(size, 0, -1)]\n",
    "\n",
    "    def playHanoi(self):\n",
    "        self.printTowers()\n",
    "        self.moveDisk(self.size, 1, 2, 3)\n",
    "        self.printTowers()\n",
    "\n",
    "    def moveDisk(self, size, fr, helper, to):\n",
    "        if size == 1:\n",
    "            data = self.towers[fr-1].pop()\n",
    "            self.towers[to-1].append(data)\n",
    "            print (\"Disk\", data, \": Tower\", fr, \"->\", to      )\n",
    "        else:\n",
    "            self.moveDisk(size - 1, fr, to, helper)\n",
    "            self.moveDisk(1, fr, helper, to)\n",
    "            self.moveDisk(size - 1, helper, fr, to)\n",
    "\n",
    "    def printTowers(self):\n",
    "        for i in self.towers:\n",
    "            print (i)\n",
    "\n",
    "\n",
    "\n",
    "\n",
    "#----------------test---------------\n",
    "hanoi = Hanoi(5)\n",
    "hanoi.playHanoi()"
   ]
  }
 ],
 "metadata": {
  "kernelspec": {
   "display_name": "Python 3",
   "language": "python",
   "name": "python3"
  },
  "language_info": {
   "codemirror_mode": {
    "name": "ipython",
    "version": 3
   },
   "file_extension": ".py",
   "mimetype": "text/x-python",
   "name": "python",
   "nbconvert_exporter": "python",
   "pygments_lexer": "ipython3",
   "version": "3.6.0"
  }
 },
 "nbformat": 4,
 "nbformat_minor": 2
}
