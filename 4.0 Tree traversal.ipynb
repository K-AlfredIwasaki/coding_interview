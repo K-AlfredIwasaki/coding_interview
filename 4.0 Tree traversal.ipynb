{
 "cells": [
  {
   "cell_type": "code",
   "execution_count": 1,
   "metadata": {
    "collapsed": true
   },
   "outputs": [],
   "source": [
    "import random\n",
    "\n",
    "class BinaryTree:\n",
    "    def __init__(self, content):\n",
    "        self.content = content\n",
    "        self.left = None\n",
    "        self.right = None\n",
    "        \n",
    "        self.depth = -1\n",
    "        \n",
    "    def __str__(self):\n",
    "        return \"(\" + str(self.content) + \" ( \" + str(self.left) + \" | \"  \\\n",
    "    + str(self.right) + \"))\""
   ]
  },
  {
   "cell_type": "code",
   "execution_count": 10,
   "metadata": {},
   "outputs": [
    {
     "name": "stdout",
     "output_type": "stream",
     "text": [
      "(20 ( (8 ( (6 ( (2 ( None | None)) | (7 ( None | None)))) | (10 ( None | None)))) | (22 ( (15 ( None | None)) | (30 ( None | None))))))\n"
     ]
    }
   ],
   "source": [
    "b = BinaryTree(20)\n",
    "b.left = BinaryTree(8)\n",
    "b.left.left = BinaryTree(6)\n",
    "b.left.left.left = BinaryTree(2)\n",
    "b.left.left.right = BinaryTree(7)\n",
    "b.left.right = BinaryTree(10)\n",
    "b.right = BinaryTree(22)\n",
    "b.right.left = BinaryTree(15)\n",
    "b.right.right = BinaryTree(30)\n",
    "print (b)"
   ]
  },
  {
   "cell_type": "code",
   "execution_count": 11,
   "metadata": {
    "collapsed": true
   },
   "outputs": [],
   "source": [
    "def preorder(tree):\n",
    "    if tree != None:\n",
    "        print(tree.content)\n",
    "        preorder(tree.left)\n",
    "        preorder(tree.right)\n",
    "\n",
    "def postorder(tree):\n",
    "    if tree != None:\n",
    "        postorder(tree.left)\n",
    "        postorder(tree.right)\n",
    "        print(tree.content)\n",
    "        \n",
    "def inorder(tree):\n",
    "    if tree != None:\n",
    "        inorder(tree.left)\n",
    "        print(tree.content)\n",
    "        inorder(tree.right)"
   ]
  },
  {
   "cell_type": "code",
   "execution_count": 12,
   "metadata": {
    "scrolled": true
   },
   "outputs": [
    {
     "name": "stdout",
     "output_type": "stream",
     "text": [
      "2\n",
      "6\n",
      "7\n",
      "8\n",
      "10\n",
      "20\n",
      "15\n",
      "22\n",
      "30\n"
     ]
    }
   ],
   "source": [
    "inorder(b)"
   ]
  },
  {
   "cell_type": "code",
   "execution_count": 13,
   "metadata": {
    "scrolled": true
   },
   "outputs": [
    {
     "name": "stdout",
     "output_type": "stream",
     "text": [
      "20\n",
      "8\n",
      "6\n",
      "2\n",
      "7\n",
      "10\n",
      "22\n",
      "15\n",
      "30\n"
     ]
    }
   ],
   "source": [
    "preorder(b)"
   ]
  },
  {
   "cell_type": "code",
   "execution_count": 14,
   "metadata": {},
   "outputs": [
    {
     "name": "stdout",
     "output_type": "stream",
     "text": [
      "2\n",
      "7\n",
      "6\n",
      "10\n",
      "8\n",
      "15\n",
      "30\n",
      "22\n",
      "20\n"
     ]
    }
   ],
   "source": [
    "postorder(b)"
   ]
  }
 ],
 "metadata": {
  "kernelspec": {
   "display_name": "Python 3",
   "language": "python",
   "name": "python3"
  },
  "language_info": {
   "codemirror_mode": {
    "name": "ipython",
    "version": 3
   },
   "file_extension": ".py",
   "mimetype": "text/x-python",
   "name": "python",
   "nbconvert_exporter": "python",
   "pygments_lexer": "ipython3",
   "version": "3.6.0"
  }
 },
 "nbformat": 4,
 "nbformat_minor": 2
}
