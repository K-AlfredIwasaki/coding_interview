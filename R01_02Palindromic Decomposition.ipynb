{
 "cells": [
  {
   "cell_type": "code",
   "execution_count": 4,
   "metadata": {
    "collapsed": true
   },
   "outputs": [],
   "source": [
    "def check_palindrome(string):\n",
    "    # base\n",
    "    if len(string) == 1:\n",
    "        return True\n",
    "    \n",
    "    start = 0\n",
    "    end = len(string) - 1\n",
    "    \n",
    "    while start < end:\n",
    "        if string[start] == string[end]:\n",
    "            start += 1\n",
    "            end -= 1\n",
    "            continue\n",
    "        else:\n",
    "            return False\n",
    "    \n",
    "    return True\n",
    "    "
   ]
  },
  {
   "cell_type": "code",
   "execution_count": 22,
   "metadata": {
    "collapsed": true
   },
   "outputs": [],
   "source": [
    "def palindromic_decompose_rec(string, i, result):\n",
    "    # base\n",
    "    if i == len(string):\n",
    "        print(result)\n",
    "        return\n",
    "    \n",
    "    # recursion\n",
    "    for j in range(i, len(string)):\n",
    "        # check if it's palindrome\n",
    "#         print(string[i:j+1])\n",
    "        if check_palindrome(string[i:j+1]):\n",
    "            \n",
    "            result.append(string[i:j+1])\n",
    "            palindromic_decompose_rec(string, j+1, result)\n",
    "            result.pop()\n",
    "\n",
    "def palindromic_decompose(string):\n",
    "    if string == None or len(string) == 0:\n",
    "        return string\n",
    "    \n",
    "    result = []\n",
    "    i = 0\n",
    "    return palindromic_decompose_rec(string, i, result)\n",
    "        "
   ]
  },
  {
   "cell_type": "code",
   "execution_count": 23,
   "metadata": {
    "scrolled": true
   },
   "outputs": [
    {
     "name": "stdout",
     "output_type": "stream",
     "text": [
      "['a', 'b', 'a', 'a', 'b', 'a']\n",
      "['a', 'b', 'a', 'aba']\n",
      "['a', 'b', 'aa', 'b', 'a']\n",
      "['a', 'baab', 'a']\n",
      "['aba', 'a', 'b', 'a']\n",
      "['aba', 'aba']\n",
      "['abaaba']\n"
     ]
    }
   ],
   "source": [
    "palindromic_decompose(\"abaaba\")"
   ]
  },
  {
   "cell_type": "code",
   "execution_count": 24,
   "metadata": {},
   "outputs": [
    {
     "name": "stdout",
     "output_type": "stream",
     "text": [
      "['a', 'b', 'r', 'a', 'c', 'a', 'd', 'a', 'b', 'r', 'a']\n",
      "['a', 'b', 'r', 'a', 'c', 'ada', 'b', 'r', 'a']\n",
      "['a', 'b', 'r', 'aca', 'd', 'a', 'b', 'r', 'a']\n"
     ]
    }
   ],
   "source": [
    "palindromic_decompose('abracadabra')"
   ]
  }
 ],
 "metadata": {
  "kernelspec": {
   "display_name": "Python 3",
   "language": "python",
   "name": "python3"
  },
  "language_info": {
   "codemirror_mode": {
    "name": "ipython",
    "version": 3
   },
   "file_extension": ".py",
   "mimetype": "text/x-python",
   "name": "python",
   "nbconvert_exporter": "python",
   "pygments_lexer": "ipython3",
   "version": "3.6.0"
  }
 },
 "nbformat": 4,
 "nbformat_minor": 2
}
