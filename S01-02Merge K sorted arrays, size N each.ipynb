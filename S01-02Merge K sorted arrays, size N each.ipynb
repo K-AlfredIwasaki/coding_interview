{
 "cells": [
  {
   "cell_type": "code",
   "execution_count": 19,
   "metadata": {
    "collapsed": true
   },
   "outputs": [],
   "source": [
    "# Definition for singly-linked list.\n",
    "class ListNode(object):\n",
    "    def __init__(self, x):\n",
    "        self.val = x\n",
    "        self.next = None"
   ]
  },
  {
   "cell_type": "code",
   "execution_count": 20,
   "metadata": {
    "collapsed": true
   },
   "outputs": [],
   "source": [
    "l1 = ListNode(1)\n",
    "l1.next = ListNode(3)\n",
    "l1.next.next = ListNode(5)\n",
    "l1.next.next.next = ListNode(7)\n",
    "l1.next.next.next.next = ListNode(9)\n",
    "\n",
    "l2 = ListNode(0)\n",
    "l2.next = ListNode(4)\n",
    "l2.next.next = ListNode(8)\n",
    "l2.next.next.next = ListNode(12)"
   ]
  },
  {
   "cell_type": "code",
   "execution_count": 21,
   "metadata": {},
   "outputs": [],
   "source": [
    "from queue import PriorityQueue"
   ]
  },
  {
   "cell_type": "code",
   "execution_count": 27,
   "metadata": {
    "collapsed": true
   },
   "outputs": [],
   "source": [
    "class Solution(object):\n",
    "    \n",
    "    def mergeKLists(self, lists):\n",
    "        \n",
    "        dummy = ListNode(None)\n",
    "        curr = dummy\n",
    "        \n",
    "        q = PriorityQueue()\n",
    "        \n",
    "        # store a head of each linked list in a PriorityQueue\n",
    "        for node in lists:\n",
    "            if node:\n",
    "                q.put((node.val, node))\n",
    "        \n",
    "        # build a Linked List\n",
    "        while q.qsize() > 0:\n",
    "            \n",
    "            # step1: get the lowest node from the PriorityQueue\n",
    "            curr.next = q.get()[1]\n",
    "            # curr pointer is at one of the LinkedList provided\n",
    "            curr = curr.next\n",
    "            \n",
    "            # step2: store the new node in the PriorityQueue\n",
    "            if curr.next:\n",
    "                q.put((curr.next.val, curr.next))\n",
    "                    \n",
    "        return dummy.next"
   ]
  },
  {
   "cell_type": "code",
   "execution_count": 23,
   "metadata": {
    "collapsed": true
   },
   "outputs": [],
   "source": [
    "s = Solution()"
   ]
  },
  {
   "cell_type": "code",
   "execution_count": 24,
   "metadata": {},
   "outputs": [],
   "source": [
    "result = s.mergeKLists([l1,l2])"
   ]
  },
  {
   "cell_type": "code",
   "execution_count": 25,
   "metadata": {},
   "outputs": [
    {
     "data": {
      "text/plain": [
       "0"
      ]
     },
     "execution_count": 25,
     "metadata": {},
     "output_type": "execute_result"
    }
   ],
   "source": [
    "result.val"
   ]
  },
  {
   "cell_type": "code",
   "execution_count": 26,
   "metadata": {},
   "outputs": [
    {
     "name": "stdout",
     "output_type": "stream",
     "text": [
      "0\n",
      "1\n",
      "3\n",
      "4\n",
      "5\n",
      "7\n",
      "8\n",
      "9\n",
      "12\n"
     ]
    }
   ],
   "source": [
    "while result != None:\n",
    "    print(result.val)\n",
    "    result = result.next"
   ]
  }
 ],
 "metadata": {
  "kernelspec": {
   "display_name": "Python 3",
   "language": "python",
   "name": "python3"
  },
  "language_info": {
   "codemirror_mode": {
    "name": "ipython",
    "version": 3
   },
   "file_extension": ".py",
   "mimetype": "text/x-python",
   "name": "python",
   "nbconvert_exporter": "python",
   "pygments_lexer": "ipython3",
   "version": "3.6.0"
  }
 },
 "nbformat": 4,
 "nbformat_minor": 2
}
