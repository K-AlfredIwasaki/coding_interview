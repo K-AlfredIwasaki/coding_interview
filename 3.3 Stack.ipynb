{
 "cells": [
  {
   "cell_type": "code",
   "execution_count": 20,
   "metadata": {
    "collapsed": false
   },
   "outputs": [],
   "source": [
    "class SetOfStacks():\n",
    "    \"\"\" list of list implementation \"\"\"\n",
    "    def __init__(self, stacksize = 10):\n",
    "        self.stacksize = stacksize\n",
    "        self.stacks = []\n",
    "        \n",
    "    def push(self, value):\n",
    "        # check if we need to add new stack or not\n",
    "        # two cases: no stack in stack, newest stack == stacksize\n",
    "        if (len(self.stacks) == 0) or (len(self.stacks[-1]) == self.stacksize):\n",
    "            self.stacks.append([])\n",
    "        self.stacks[-1].append(value)\n",
    "        \n",
    "    def pop(self):\n",
    "        # need to take care of complete blank stack\n",
    "        if len(self.stacks) == 0:\n",
    "            return None\n",
    "        last = self.stacks[-1].pop()\n",
    "        \n",
    "        # need to take care of blank stack\n",
    "        if len(self.stacks[-1]) == 0:\n",
    "            self.stacks.pop()\n",
    "        \n",
    "        return last\n",
    "    \n",
    "    # idx = number of sub-stack\n",
    "    # idx starts from 1\n",
    "    def popAt(self, idx):\n",
    "        if len(self.stacks[idx-1]) == 0 or idx < 1 or idx > len(self.stacks):\n",
    "            return None\n",
    "        else:\n",
    "            return self.stacks[idx-1].pop()\n",
    "    \n",
    "    def returnLst(self):\n",
    "        return self.stacks\n"
   ]
  },
  {
   "cell_type": "code",
   "execution_count": 21,
   "metadata": {
    "collapsed": false
   },
   "outputs": [
    {
     "data": {
      "text/plain": [
       "[[5, 5, 0, 0, 2, 5, 0, 6, 4, 0], [7, 9, 7, 4, 7, 5, 0, 2, 2, 0], [6, 0, 6, 3]]"
      ]
     },
     "execution_count": 21,
     "metadata": {},
     "output_type": "execute_result"
    }
   ],
   "source": [
    "s = SetOfStacks()\n",
    "for i in [randint(0,9) for i in range(25)]:\n",
    "    s.push(i)\n",
    "s.returnLst()\n",
    "s.pop()\n",
    "s.returnLst()"
   ]
  },
  {
   "cell_type": "code",
   "execution_count": 22,
   "metadata": {
    "collapsed": false
   },
   "outputs": [
    {
     "data": {
      "text/plain": [
       "[[5, 5, 0, 0, 2, 5, 0, 6, 4, 0], [7, 9, 7, 4, 7, 5, 0, 2, 2]]"
      ]
     },
     "execution_count": 22,
     "metadata": {},
     "output_type": "execute_result"
    }
   ],
   "source": [
    "for i in range(5):\n",
    "    s.pop()\n",
    "s.returnLst()"
   ]
  },
  {
   "cell_type": "code",
   "execution_count": 23,
   "metadata": {
    "collapsed": false,
    "scrolled": false
   },
   "outputs": [
    {
     "data": {
      "text/plain": [
       "2"
      ]
     },
     "execution_count": 23,
     "metadata": {},
     "output_type": "execute_result"
    }
   ],
   "source": [
    "s.popAt(2)"
   ]
  },
  {
   "cell_type": "code",
   "execution_count": 24,
   "metadata": {
    "collapsed": true
   },
   "outputs": [],
   "source": [
    "s.popAt(0)"
   ]
  },
  {
   "cell_type": "code",
   "execution_count": 25,
   "metadata": {
    "collapsed": false
   },
   "outputs": [
    {
     "data": {
      "text/plain": [
       "0"
      ]
     },
     "execution_count": 25,
     "metadata": {},
     "output_type": "execute_result"
    }
   ],
   "source": [
    "s.popAt(1)"
   ]
  },
  {
   "cell_type": "code",
   "execution_count": 26,
   "metadata": {
    "collapsed": false
   },
   "outputs": [
    {
     "data": {
      "text/plain": [
       "[[5, 5, 0, 0, 2, 5, 0, 6, 4], [7, 9, 7, 4, 7, 5, 0, 2]]"
      ]
     },
     "execution_count": 26,
     "metadata": {},
     "output_type": "execute_result"
    }
   ],
   "source": [
    "s.returnLst()"
   ]
  },
  {
   "cell_type": "code",
   "execution_count": null,
   "metadata": {
    "collapsed": true
   },
   "outputs": [],
   "source": []
  }
 ],
 "metadata": {
  "kernelspec": {
   "display_name": "Python 3",
   "language": "python",
   "name": "python3"
  },
  "language_info": {
   "codemirror_mode": {
    "name": "ipython",
    "version": 3
   },
   "file_extension": ".py",
   "mimetype": "text/x-python",
   "name": "python",
   "nbconvert_exporter": "python",
   "pygments_lexer": "ipython3",
   "version": "3.6.0"
  }
 },
 "nbformat": 4,
 "nbformat_minor": 2
}
