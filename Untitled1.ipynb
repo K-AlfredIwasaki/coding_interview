{
 "cells": [
  {
   "cell_type": "code",
   "execution_count": null,
   "metadata": {
    "collapsed": true
   },
   "outputs": [],
   "source": []
  },
  {
   "cell_type": "code",
   "execution_count": 36,
   "metadata": {
    "collapsed": true
   },
   "outputs": [],
   "source": []
  },
  {
   "cell_type": "code",
   "execution_count": 37,
   "metadata": {},
   "outputs": [
    {
     "name": "stdout",
     "output_type": "stream",
     "text": [
      "[]\n",
      "[1]\n",
      "[1, 1]\n",
      "[1, 1, 1]\n",
      "[1, 1, 1, 1]\n",
      "[1, 1, 1, 1, 1]\n",
      "[1, 1, 1, 1, 1, 1]\n",
      "[1, 1, 1, 1, 1, 1, 1]\n",
      "[1, 1, 1, 1, 1, 1, 1, 1]\n",
      "[1, 1, 1, 1, 1, 1, 1, 2]\n",
      "[1, 1, 1, 1, 1, 1, 1, 5]\n",
      "[1, 1, 1, 1, 1, 1, 2]\n",
      "[1, 1, 1, 1, 1, 1, 5]\n",
      "[1, 1, 1, 1, 1, 2]\n",
      "[1, 1, 1, 1, 1, 2, 2]\n",
      "[1, 1, 1, 1, 1, 2, 5]\n",
      "[1, 1, 1, 1, 1, 5]\n",
      "[1, 1, 1, 1, 2]\n",
      "[1, 1, 1, 1, 2, 2]\n",
      "[1, 1, 1, 1, 2, 5]\n",
      "[1, 1, 1, 1, 5]\n",
      "[1, 1, 1, 2]\n",
      "[1, 1, 1, 2, 2]\n",
      "[1, 1, 1, 2, 2, 2]\n",
      "[1, 1, 1, 2, 2, 5]\n",
      "[1, 1, 1, 2, 5]\n",
      "[1, 1, 1, 5]\n",
      "[1, 1, 2]\n",
      "[1, 1, 2, 2]\n",
      "[1, 1, 2, 2, 2]\n",
      "[1, 1, 2, 2, 5]\n",
      "[1, 1, 2, 5]\n",
      "[1, 1, 5]\n",
      "[1, 1, 5, 5]\n",
      "[1, 2]\n",
      "[1, 2, 2]\n",
      "[1, 2, 2, 2]\n",
      "[1, 2, 2, 2, 2]\n",
      "[1, 2, 2, 2, 5]\n",
      "[1, 2, 2, 5]\n",
      "[1, 2, 5]\n",
      "[1, 5]\n",
      "[1, 5, 5]\n",
      "[2]\n",
      "[2, 2]\n",
      "[2, 2, 2]\n",
      "[2, 2, 2, 2]\n",
      "[2, 2, 2, 5]\n",
      "[2, 2, 5]\n",
      "[2, 5]\n",
      "[2, 5, 5]\n",
      "[5]\n",
      "[5, 5]\n"
     ]
    },
    {
     "data": {
      "text/plain": [
       "[[1, 1, 1, 1, 1, 1, 1],\n",
       " [1, 1, 1, 1, 1, 2],\n",
       " [1, 1, 1, 2, 2],\n",
       " [1, 1, 5],\n",
       " [1, 2, 2, 2],\n",
       " [2, 5]]"
      ]
     },
     "execution_count": 37,
     "metadata": {},
     "output_type": "execute_result"
    }
   ],
   "source": []
  }
 ],
 "metadata": {
  "kernelspec": {
   "display_name": "Python 3",
   "language": "python",
   "name": "python3"
  },
  "language_info": {
   "codemirror_mode": {
    "name": "ipython",
    "version": 3
   },
   "file_extension": ".py",
   "mimetype": "text/x-python",
   "name": "python",
   "nbconvert_exporter": "python",
   "pygments_lexer": "ipython3",
   "version": "3.6.0"
  }
 },
 "nbformat": 4,
 "nbformat_minor": 2
}
