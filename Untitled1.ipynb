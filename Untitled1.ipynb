{
 "cells": [
  {
   "cell_type": "code",
   "execution_count": 1,
   "metadata": {},
   "outputs": [
    {
     "data": {
      "text/plain": [
       "[11, 12, 15, 17, 18, 23, 29, 33, 36, 47]"
      ]
     },
     "execution_count": 1,
     "metadata": {},
     "output_type": "execute_result"
    }
   ],
   "source": [
    "from random import randint\n",
    "t = sorted([randint(0, 50) for i in range(10)])\n",
    "t"
   ]
  },
  {
   "cell_type": "code",
   "execution_count": 15,
   "metadata": {},
   "outputs": [
    {
     "data": {
      "text/plain": [
       "[17, 18, 23, 29, 33, 36, 47, 11, 12, 15]"
      ]
     },
     "execution_count": 15,
     "metadata": {},
     "output_type": "execute_result"
    }
   ],
   "source": [
    "s = t[3:] + t[0:3]\n",
    "s"
   ]
  },
  {
   "cell_type": "code",
   "execution_count": 18,
   "metadata": {},
   "outputs": [],
   "source": [
    "def rotated_bsearch(arr, target):\n",
    "    # initialize\n",
    "    start = 0\n",
    "    end = len(arr) -1\n",
    "    \n",
    "    \n",
    "    while start <= end:\n",
    "        mid = (start + end) // 2\n",
    "        print (mid)\n",
    "        if arr[mid] == target:\n",
    "            return mid\n",
    "        elif arr[mid] < target:\n",
    "            if arr[mid] < arr[end] and target <= arr[end]:\n",
    "                start = mid + 1\n",
    "            elif arr[mid] > arr[end] and target > arr[end]:\n",
    "                start = mid + 1\n",
    "            elif arr[end] < target:\n",
    "                end = mid - 1\n",
    "        else:\n",
    "            if arr[start] < arr[mid] and arr[start] <= target:\n",
    "                end = mid - 1\n",
    "            elif arr[start] > arr[mid] and target < arr[start]:\n",
    "                end = mid - 1\n",
    "            elif arr[start] > target:\n",
    "                start = mid + 1\n",
    "    \n",
    "    return False\n",
    "            \n",
    "        "
   ]
  },
  {
   "cell_type": "code",
   "execution_count": 19,
   "metadata": {
    "scrolled": true
   },
   "outputs": [
    {
     "name": "stdout",
     "output_type": "stream",
     "text": [
      "4\n",
      "1\n",
      "0\n"
     ]
    },
    {
     "data": {
      "text/plain": [
       "0"
      ]
     },
     "execution_count": 19,
     "metadata": {},
     "output_type": "execute_result"
    }
   ],
   "source": [
    "rotated_bsearch(s, 17)"
   ]
  }
 ],
 "metadata": {
  "kernelspec": {
   "display_name": "Python 3",
   "language": "python",
   "name": "python3"
  },
  "language_info": {
   "codemirror_mode": {
    "name": "ipython",
    "version": 3
   },
   "file_extension": ".py",
   "mimetype": "text/x-python",
   "name": "python",
   "nbconvert_exporter": "python",
   "pygments_lexer": "ipython3",
   "version": "3.6.0"
  }
 },
 "nbformat": 4,
 "nbformat_minor": 2
}
