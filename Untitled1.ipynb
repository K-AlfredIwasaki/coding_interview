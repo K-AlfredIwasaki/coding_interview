{
 "cells": [
  {
   "cell_type": "code",
   "execution_count": 52,
   "metadata": {},
   "outputs": [],
   "source": [
    "arr = [1, 10, 3, 4, 5, 22, 10]"
   ]
  },
  {
   "cell_type": "code",
   "execution_count": 57,
   "metadata": {},
   "outputs": [],
   "source": [
    "def rotate(arr, start, end):\n",
    "    while start < end:\n",
    "        print (start, end)\n",
    "        arr[start], arr[end] = arr[end], arr[start]\n",
    "        start += 1\n",
    "        end += -1\n",
    "    \n",
    "    return arr\n",
    "    \n",
    "    \n",
    "def rotate_array(arr, n):\n",
    "    \n",
    "    # normalize num\n",
    "    n = n % len(arr)\n",
    "    if n < 0:\n",
    "        n = n + len(arr)\n",
    "    \n",
    "    # reverse\n",
    "    arr = rotate(arr, 0, len(arr) - 1)\n",
    "    arr = rotate(arr, 0, n-1)\n",
    "    arr = rotate(arr, n, len(arr)- 1)\n",
    "    \n",
    "    return arr\n",
    "    "
   ]
  },
  {
   "cell_type": "code",
   "execution_count": 59,
   "metadata": {
    "scrolled": false
   },
   "outputs": [
    {
     "name": "stdout",
     "output_type": "stream",
     "text": [
      "0 6\n",
      "1 5\n",
      "2 4\n",
      "[22, 10, 5, 4, 3, 10, 1]\n",
      "0 1\n",
      "test\n",
      "[10, 22, 5, 4, 3, 10, 1]\n",
      "2 6\n",
      "3 5\n",
      "[10, 22, 1, 10, 3, 4, 5]\n"
     ]
    },
    {
     "data": {
      "text/plain": [
       "[10, 22, 1, 10, 3, 4, 5]"
      ]
     },
     "execution_count": 59,
     "metadata": {},
     "output_type": "execute_result"
    }
   ],
   "source": [
    "rotate_array(arr, 2)"
   ]
  },
  {
   "cell_type": "code",
   "execution_count": 47,
   "metadata": {
    "scrolled": true
   },
   "outputs": [
    {
     "name": "stdout",
     "output_type": "stream",
     "text": [
      "0 1\n"
     ]
    },
    {
     "data": {
      "text/plain": [
       "[10, 1, 3, 4, 5, 22, 10]"
      ]
     },
     "execution_count": 47,
     "metadata": {},
     "output_type": "execute_result"
    }
   ],
   "source": [
    "rotate(arr, 0, 1)"
   ]
  },
  {
   "cell_type": "code",
   "execution_count": 42,
   "metadata": {
    "scrolled": true
   },
   "outputs": [
    {
     "name": "stdout",
     "output_type": "stream",
     "text": [
      "0 3\n",
      "1 2\n"
     ]
    },
    {
     "data": {
      "text/plain": [
       "[4, 3, 10, 1, 5, 22, 10]"
      ]
     },
     "execution_count": 42,
     "metadata": {},
     "output_type": "execute_result"
    }
   ],
   "source": [
    "rotate(arr, 0, 3)"
   ]
  }
 ],
 "metadata": {
  "kernelspec": {
   "display_name": "Python 3",
   "language": "python",
   "name": "python3"
  },
  "language_info": {
   "codemirror_mode": {
    "name": "ipython",
    "version": 3
   },
   "file_extension": ".py",
   "mimetype": "text/x-python",
   "name": "python",
   "nbconvert_exporter": "python",
   "pygments_lexer": "ipython3",
   "version": "3.6.0"
  }
 },
 "nbformat": 4,
 "nbformat_minor": 2
}
