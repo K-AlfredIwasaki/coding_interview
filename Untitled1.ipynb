{
 "cells": [
  {
   "cell_type": "code",
   "execution_count": 148,
   "metadata": {},
   "outputs": [
    {
     "name": "stdout",
     "output_type": "stream",
     "text": [
      "29=>100=>82=>11=>12=>27=>30\n"
     ]
    }
   ],
   "source": [
    "from data_structure.linkedlist_simple import *\n",
    "\n",
    "l = LinkedList(29)\n",
    "l.next = LinkedList(100)\n",
    "l.next.next = LinkedList(82)\n",
    "l.next.next.next = LinkedList(11)\n",
    "l.next.next.next.next = LinkedList(12)\n",
    "l.next.next.next.next.next = LinkedList(27)\n",
    "l.next.next.next.next.next.next = LinkedList(30)\n",
    "# l.next.next.next.next.next.next.next = LinkedList(100)\n",
    "print (l)"
   ]
  },
  {
   "cell_type": "code",
   "execution_count": 149,
   "metadata": {
    "collapsed": true
   },
   "outputs": [],
   "source": [
    "def split(head):\n",
    "    fast = head.next\n",
    "    slow = head\n",
    "    \n",
    "    while fast != None and fast.next != None:\n",
    "        fast = fast.next\n",
    "        if fast != None:\n",
    "            fast = fast.next\n",
    "            slow = slow.next\n",
    "            \n",
    "    temp = slow.next\n",
    "    slow.next = None\n",
    "            \n",
    "    return head, temp"
   ]
  },
  {
   "cell_type": "code",
   "execution_count": 150,
   "metadata": {
    "collapsed": true
   },
   "outputs": [],
   "source": [
    "def merge_two_lists(l1,l2):\n",
    "\n",
    "    # base\n",
    "    if l1 == None:\n",
    "        return l2\n",
    "    if l2 == None:\n",
    "        return l1\n",
    "    \n",
    "    p1 = l1\n",
    "    p2 = l2\n",
    "    new_head = None\n",
    "    new_tail = None\n",
    "    \n",
    "    while p1 != None and p2 != None:\n",
    "        # compare p1 and p2\n",
    "        if p1.content < p2.content:\n",
    "            temp = p1\n",
    "            p1 = p1.next\n",
    "            \n",
    "        else:\n",
    "            temp = p2\n",
    "            p2 = p2.next\n",
    "            \n",
    "        temp.next = None\n",
    "        if not new_head:\n",
    "            new_head = temp\n",
    "            new_tail = temp\n",
    "            \n",
    "        else:\n",
    "            new_tail.next = temp\n",
    "            new_tail = temp\n",
    "    \n",
    "    if p1:\n",
    "        new_tail.next = p1\n",
    "    \n",
    "    if p2:\n",
    "        new_tail.next = p2\n",
    "    \n",
    "    return new_head"
   ]
  },
  {
   "cell_type": "code",
   "execution_count": 151,
   "metadata": {
    "collapsed": true
   },
   "outputs": [],
   "source": [
    "def merge_sort_rec(head):\n",
    "    # base\n",
    "    if head == None or head.next == None:\n",
    "        return head\n",
    "    \n",
    "    # split\n",
    "    s1, s2 = split(head)\n",
    "    \n",
    "    # recursion\n",
    "    left = merge_sort_rec(s1)\n",
    "    right = merge_sort_rec(s2)\n",
    "    \n",
    "    return merge_two_lists(left, right)\n",
    "    \n",
    "\n",
    "def merge_sort(head):\n",
    "    \n",
    "    return merge_sort_rec(head)"
   ]
  },
  {
   "cell_type": "code",
   "execution_count": 152,
   "metadata": {
    "scrolled": false
   },
   "outputs": [
    {
     "name": "stdout",
     "output_type": "stream",
     "text": [
      "11=>12=>27=>29=>30=>82=>100\n"
     ]
    }
   ],
   "source": [
    "print (merge_sort(l))"
   ]
  }
 ],
 "metadata": {
  "kernelspec": {
   "display_name": "Python 3",
   "language": "python",
   "name": "python3"
  },
  "language_info": {
   "codemirror_mode": {
    "name": "ipython",
    "version": 3
   },
   "file_extension": ".py",
   "mimetype": "text/x-python",
   "name": "python",
   "nbconvert_exporter": "python",
   "pygments_lexer": "ipython3",
   "version": "3.6.0"
  }
 },
 "nbformat": 4,
 "nbformat_minor": 2
}
