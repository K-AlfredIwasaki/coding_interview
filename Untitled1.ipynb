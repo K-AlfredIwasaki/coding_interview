{
 "cells": [
  {
   "cell_type": "code",
   "execution_count": 150,
   "metadata": {
    "collapsed": true
   },
   "outputs": [],
   "source": [
    "arr = [[1, 5], [3, 7], [4, 6], [6, 8], [10, 12], [11, 15]]"
   ]
  },
  {
   "cell_type": "code",
   "execution_count": 152,
   "metadata": {},
   "outputs": [
    {
     "data": {
      "text/plain": [
       "[[1, 5]]"
      ]
     },
     "execution_count": 152,
     "metadata": {},
     "output_type": "execute_result"
    }
   ],
   "source": [
    "result = [arr[0]]\n",
    "result"
   ]
  },
  {
   "cell_type": "code",
   "execution_count": 153,
   "metadata": {
    "collapsed": true
   },
   "outputs": [],
   "source": [
    "def merge_interval(arr_list):\n",
    "    if arr_list == None or len(arr_list) == 0:\n",
    "        return None\n",
    "    \n",
    "    # init\n",
    "    result = [arr_list[0]]\n",
    "    \n",
    "    for i in range(1, len(arr)):\n",
    "        x1 = result[-1][0]\n",
    "        y1 = result[-1][1]\n",
    "        x2 = arr_list[i][0]\n",
    "        y2 = arr_list[i][1]\n",
    "        \n",
    "        if y1 >= x2:\n",
    "            result[-1][1] = max(y1, y2)\n",
    "        else:\n",
    "            result.append(arr_list[i])\n",
    "            \n",
    "    return result\n",
    "        \n",
    "\n",
    "    "
   ]
  },
  {
   "cell_type": "code",
   "execution_count": 154,
   "metadata": {},
   "outputs": [
    {
     "data": {
      "text/plain": [
       "[[1, 8], [10, 15]]"
      ]
     },
     "execution_count": 154,
     "metadata": {},
     "output_type": "execute_result"
    }
   ],
   "source": [
    "merge_interval(arr)"
   ]
  }
 ],
 "metadata": {
  "kernelspec": {
   "display_name": "Python 3",
   "language": "python",
   "name": "python3"
  },
  "language_info": {
   "codemirror_mode": {
    "name": "ipython",
    "version": 3
   },
   "file_extension": ".py",
   "mimetype": "text/x-python",
   "name": "python",
   "nbconvert_exporter": "python",
   "pygments_lexer": "ipython3",
   "version": "3.6.0"
  }
 },
 "nbformat": 4,
 "nbformat_minor": 2
}
