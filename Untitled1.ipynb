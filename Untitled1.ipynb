{
 "cells": [
  {
   "cell_type": "code",
   "execution_count": 1,
   "metadata": {},
   "outputs": [
    {
     "data": {
      "text/plain": [
       "2"
      ]
     },
     "execution_count": 1,
     "metadata": {},
     "output_type": "execute_result"
    }
   ],
   "source": [
    "5 // 2"
   ]
  },
  {
   "cell_type": "code",
   "execution_count": null,
   "metadata": {
    "collapsed": true
   },
   "outputs": [],
   "source": [
    "def find_intersection(l1, l2):\n",
    "    # find the length of l1 and l2\n",
    "    # then find the longer one\n",
    "    l1_length = 0\n",
    "    l2_length = 0\n",
    "    t1 = l1\n",
    "    t2 = l2\n",
    "    \n",
    "    while t1 != None:\n",
    "        l1_length += 1\n",
    "        t1 = t1.next\n",
    "        \n",
    "    while t2 != None:\n",
    "        l2_length += 1\n",
    "        t2 = t2.next\n",
    "    \n",
    "    # move the pointer to the intersection\n",
    "    if l1_length < l2_length:\n",
    "        # move l2\n",
    "        fast = l2\n",
    "        slow = l1\n",
    "        gap = l2_length - l1_length\n",
    "    else:\n",
    "        fast = l1\n",
    "        slow = l2\n",
    "        gap = l1_length - l2_length\n",
    "    \n",
    "    while gap != 0:\n",
    "        fast = fast.next\n",
    "        gap -= 1\n",
    "    \n",
    "    # move both pointers\n",
    "    match = None\n",
    "    while fast != None:\n",
    "        if match == None and fast.val == slow.val:\n",
    "            match = fast.val\n",
    "        \n",
    "        elif match != None and fast.val != slow.val:\n",
    "            match = None\n",
    "            \n",
    "        fast = fast.next\n",
    "        slow = slow.next\n",
    "            \n",
    "        \n",
    "        \n",
    "    if match:\n",
    "        return match\n",
    "    else:\n",
    "        return -1\n",
    "        \n",
    "        \n",
    "        \n",
    "        \n",
    "    \n",
    "    \n",
    "    \n",
    "    \n",
    "    "
   ]
  }
 ],
 "metadata": {
  "kernelspec": {
   "display_name": "Python 3",
   "language": "python",
   "name": "python3"
  },
  "language_info": {
   "codemirror_mode": {
    "name": "ipython",
    "version": 3
   },
   "file_extension": ".py",
   "mimetype": "text/x-python",
   "name": "python",
   "nbconvert_exporter": "python",
   "pygments_lexer": "ipython3",
   "version": "3.6.0"
  }
 },
 "nbformat": 4,
 "nbformat_minor": 2
}
