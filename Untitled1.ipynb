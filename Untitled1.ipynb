{
 "cells": [
  {
   "cell_type": "code",
   "execution_count": 5,
   "metadata": {
    "collapsed": true
   },
   "outputs": [],
   "source": [
    "grid = [[\"c\", \"a\", \"t\"],\n",
    "        [\"r\", \"r\", \"e\"],\n",
    "        [\"t\", \"o\", \"n\"]]\n",
    "\n",
    "dictionary = {\"cat\": True, \"cater\": True, \"art\": True, \"toon\": True}"
   ]
  },
  {
   "cell_type": "code",
   "execution_count": 23,
   "metadata": {},
   "outputs": [],
   "source": [
    "class Boggle:\n",
    "    def __init__(self, grid, dictionary):\n",
    "        self.grid = grid\n",
    "        self.dictionary = dictionary\n",
    "        self.state = [[False for j in range(len(grid))] for i in range(len(grid))]\n",
    "    \n",
    "    def find_all_neibghbors(self, x, y):\n",
    "        neighbors = []\n",
    "        l = len(self.grid)\n",
    "        for i in range(max(0, x-1), min(l, x+2)):\n",
    "            for j in range(max(0, y-1), min(l, y+2)):\n",
    "                if i == x and j == y:\n",
    "                    continue\n",
    "                if self.state[i][j] == False:\n",
    "                    neighbors.append([i,j])\n",
    "                    \n",
    "        return neighbors\n",
    "                \n",
    "    def find_all_words_rec(self, i, j, current, results):\n",
    "        # base\n",
    "        if len(current) > 0 and (current in self.dictionary):\n",
    "            results.add(current)\n",
    "            \n",
    "        for row, col in self.find_all_neibghbors(i, j):\n",
    "            \n",
    "            current += self.grid[row][col]\n",
    "            self.state[row][col] = True\n",
    "            \n",
    "            self.find_all_words_rec(row, col, current, results)\n",
    "            \n",
    "            current = current[:-1]\n",
    "            self.state[row][col] = False\n",
    "        \n",
    "        \n",
    "        \n",
    "    def find_all_words(self):\n",
    "        words = set([])\n",
    "        for i in range(len(self.grid)):\n",
    "            for j in range(len(self.grid)):\n",
    "                current = \"\"\n",
    "                self.find_all_words_rec(i, j, current, words)\n",
    "        \n",
    "        return words\n",
    "    "
   ]
  },
  {
   "cell_type": "code",
   "execution_count": 24,
   "metadata": {},
   "outputs": [],
   "source": [
    "b = Boggle(grid, dictionary)"
   ]
  },
  {
   "cell_type": "code",
   "execution_count": 25,
   "metadata": {},
   "outputs": [
    {
     "data": {
      "text/plain": [
       "[[False, False, False], [False, False, False], [False, False, False]]"
      ]
     },
     "execution_count": 25,
     "metadata": {},
     "output_type": "execute_result"
    }
   ],
   "source": [
    "b.state"
   ]
  },
  {
   "cell_type": "code",
   "execution_count": 26,
   "metadata": {
    "scrolled": false
   },
   "outputs": [
    {
     "data": {
      "text/plain": [
       "{'art', 'cat', 'cater'}"
      ]
     },
     "execution_count": 26,
     "metadata": {},
     "output_type": "execute_result"
    }
   ],
   "source": [
    "b.find_all_words()"
   ]
  }
 ],
 "metadata": {
  "kernelspec": {
   "display_name": "Python 3",
   "language": "python",
   "name": "python3"
  },
  "language_info": {
   "codemirror_mode": {
    "name": "ipython",
    "version": 3
   },
   "file_extension": ".py",
   "mimetype": "text/x-python",
   "name": "python",
   "nbconvert_exporter": "python",
   "pygments_lexer": "ipython3",
   "version": "3.6.0"
  }
 },
 "nbformat": 4,
 "nbformat_minor": 2
}
