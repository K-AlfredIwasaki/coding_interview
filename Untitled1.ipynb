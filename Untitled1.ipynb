{
 "cells": [
  {
   "cell_type": "code",
   "execution_count": 21,
   "metadata": {
    "collapsed": true
   },
   "outputs": [],
   "source": [
    "def print_all_sum_combo(target, current_sum = 0, start = 1, output = []):\n",
    "    # base\n",
    "    if current_sum == target:\n",
    "        print (output)\n",
    "        \n",
    "    # \n",
    "    for i in range(start, target): ### IMPORTANT start is the starting point\n",
    "        temp_sum = current_sum + i\n",
    "        if temp_sum <= target:\n",
    "            output.append(i)\n",
    "            print_all_sum_combo(target, temp_sum, i, output)\n",
    "            output.pop()         #### IMPORTANT\n",
    "        else:\n",
    "            return\n",
    "    "
   ]
  },
  {
   "cell_type": "code",
   "execution_count": 23,
   "metadata": {
    "scrolled": true
   },
   "outputs": [
    {
     "name": "stdout",
     "output_type": "stream",
     "text": [
      "[1, 1, 1, 1, 1, 1]\n",
      "[1, 1, 1, 1, 2]\n",
      "[1, 1, 1, 3]\n",
      "[1, 1, 2, 2]\n",
      "[1, 1, 4]\n",
      "[1, 2, 3]\n",
      "[1, 5]\n",
      "[2, 2, 2]\n",
      "[2, 4]\n",
      "[3, 3]\n"
     ]
    }
   ],
   "source": [
    "print_all_sum_combo(6)"
   ]
  }
 ],
 "metadata": {
  "kernelspec": {
   "display_name": "Python 3",
   "language": "python",
   "name": "python3"
  },
  "language_info": {
   "codemirror_mode": {
    "name": "ipython",
    "version": 3
   },
   "file_extension": ".py",
   "mimetype": "text/x-python",
   "name": "python",
   "nbconvert_exporter": "python",
   "pygments_lexer": "ipython3",
   "version": "3.6.0"
  }
 },
 "nbformat": 4,
 "nbformat_minor": 2
}
