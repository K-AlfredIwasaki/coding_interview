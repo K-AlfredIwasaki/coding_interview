{
 "cells": [
  {
   "cell_type": "code",
   "execution_count": 63,
   "metadata": {},
   "outputs": [],
   "source": [
    "import sys\n",
    "class Vertex():\n",
    "    \n",
    "    def __init__(self, node):\n",
    "        self.id = node\n",
    "        self.adjacent = {} # vertex:edge\n",
    "        self.visited = False\n",
    "        self.distance = sys.maxsize\n",
    "        self.previous = None\n",
    "        \n",
    "    def add_neighbor(self, neighbor, weight): # neghbor = vertex\n",
    "        self.adjacent[neighbor] = weight\n",
    "        \n",
    "    def __str__(self):\n",
    "        # print self.id and self.adjacent\n",
    "        neighbor = [vertex.id for vertex in self.adjacent]\n",
    "        \n",
    "        return (\"current vertex is {} and has adjacents: {}\".format(\n",
    "            self.id, \",\".join(neighbor) ))\n",
    "    \n",
    "    def get_edge(self, adjacent): # adjacent is vertex\n",
    "        return self.adjacent[adjacent]\n",
    "    \n",
    "    def __lt__(self, other):\n",
    "        return self.distance < other.distance\n",
    "        \n",
    "    \n",
    "class Graph():\n",
    "    \n",
    "    def __init__(self):\n",
    "        self.vert_dict = {} # self.id : vertex\n",
    "        \n",
    "    def add_edge(self, frm, to, weight):  # frm, to are vertex\n",
    "        # check if there are frm and to\n",
    "        if frm not in self.vert_dict:\n",
    "            self.vert_dict[frm] = Vertex(frm)\n",
    "        \n",
    "        if to not in self.vert_dict:\n",
    "            self.vert_dict[to] = Vertex(to)\n",
    "            \n",
    "        # add edge (weight) between frm and to\n",
    "        # both direction == undirected\n",
    "        self.vert_dict[frm].add_neighbor(self.vert_dict[to], weight)\n",
    "        self.vert_dict[to].add_neighbor(self.vert_dict[frm], weight)\n",
    "        \n",
    "    def add_vertex(self, node):\n",
    "        self.vert_dict[node] = Vertex(node)\n",
    "        \n",
    "    def __iter__(self):\n",
    "        return iter(self.vert_dict.values()) ### make a graph iterative"
   ]
  },
  {
   "cell_type": "code",
   "execution_count": 74,
   "metadata": {},
   "outputs": [],
   "source": [
    "import heapq\n",
    "\n",
    "def minimum_spanning_tree(aGraph, start):\n",
    "\n",
    "    # init\n",
    "    start.distance = 0\n",
    "        \n",
    "    # heapify\n",
    "    unvisited_queue = [(v.distance, v) for v in aGraph if v.visited != True]\n",
    "    heapq.heapify(unvisited_queue)\n",
    "    \n",
    "    while len(unvisited_queue) > 0:\n",
    "        # pop the item on the top of heap\n",
    "        uv = heapq.heappop(unvisited_queue)\n",
    "        current = uv[1] # vertex\n",
    "        current.visited = True\n",
    "        \n",
    "        # visit neighbors to update distance\n",
    "        for n in current.adjacent: # n = vertex\n",
    "            if n.visited:\n",
    "                continue\n",
    "            \n",
    "            # update distance\n",
    "            new_dist = current.distance + current.get_edge(n)\n",
    "            \n",
    "            if new_dist < n.distance:\n",
    "                n.distance = new_dist\n",
    "                n.previous = current\n",
    "                print (\"update: current = {} newxt = {} new_dist = {}\".format(\n",
    "                current.id, n.id, n.distance))\n",
    "                \n",
    "        while len(unvisited_queue) > 0:\n",
    "            heapq.heappop(unvisited_queue)\n",
    "            \n",
    "        unvisited_queue = [(v.distance, v) for v in aGraph if v.visited != True]\n",
    "        heapq.heapify(unvisited_queue)\n",
    "            "
   ]
  },
  {
   "cell_type": "code",
   "execution_count": 75,
   "metadata": {
    "collapsed": true
   },
   "outputs": [],
   "source": [
    "g = Graph()"
   ]
  },
  {
   "cell_type": "code",
   "execution_count": 76,
   "metadata": {},
   "outputs": [
    {
     "data": {
      "text/plain": [
       "{'a': <__main__.Vertex at 0x293cde0f160>,\n",
       " 'b': <__main__.Vertex at 0x293cde0f048>,\n",
       " 'c': <__main__.Vertex at 0x293cde0f1d0>,\n",
       " 'd': <__main__.Vertex at 0x293cde0f438>,\n",
       " 'e': <__main__.Vertex at 0x293cde0f2b0>,\n",
       " 'f': <__main__.Vertex at 0x293cde0f208>,\n",
       " 'g': <__main__.Vertex at 0x293cde0f128>}"
      ]
     },
     "execution_count": 76,
     "metadata": {},
     "output_type": "execute_result"
    }
   ],
   "source": [
    "# add vertices\n",
    "g.add_vertex(\"a\")\n",
    "g.add_vertex(\"b\")\n",
    "g.add_vertex(\"c\")\n",
    "g.add_vertex(\"d\")\n",
    "g.add_vertex(\"e\")\n",
    "g.add_vertex(\"f\")\n",
    "g.add_vertex(\"g\")\n",
    "\n",
    "# confirm\n",
    "g.vert_dict"
   ]
  },
  {
   "cell_type": "code",
   "execution_count": 77,
   "metadata": {
    "scrolled": false
   },
   "outputs": [
    {
     "name": "stdout",
     "output_type": "stream",
     "text": [
      "current vertex is a and has adjacents: b,c,d\n",
      "current vertex is b and has adjacents: a,d\n",
      "current vertex is c and has adjacents: a,e\n",
      "current vertex is d and has adjacents: a,b,g\n",
      "current vertex is e and has adjacents: c,g,f\n",
      "current vertex is f and has adjacents: e\n",
      "current vertex is g and has adjacents: d,e\n"
     ]
    }
   ],
   "source": [
    "# add edges\n",
    "g.add_edge('a', 'b', 2)\n",
    "g.add_edge('a', 'c', 1)\n",
    "g.add_edge('a', 'd', 2)\n",
    "g.add_edge('b', 'd', 3)\n",
    "g.add_edge('c', 'e', 2)\n",
    "g.add_edge('d', 'g', 2)\n",
    "g.add_edge('e', 'g', 2)\n",
    "g.add_edge('e', 'f', 1)\n",
    "\n",
    "# confirm\n",
    "for v in g:\n",
    "    print (v)"
   ]
  },
  {
   "cell_type": "code",
   "execution_count": 78,
   "metadata": {
    "scrolled": true
   },
   "outputs": [
    {
     "name": "stdout",
     "output_type": "stream",
     "text": [
      "update: current = a newxt = b new_dist = 2\n",
      "update: current = a newxt = c new_dist = 1\n",
      "update: current = a newxt = d new_dist = 2\n",
      "update: current = c newxt = e new_dist = 3\n",
      "update: current = d newxt = g new_dist = 4\n",
      "update: current = e newxt = f new_dist = 4\n"
     ]
    }
   ],
   "source": [
    "minimum_spanning_tree(g, g.vert_dict[\"a\"])"
   ]
  },
  {
   "cell_type": "code",
   "execution_count": 79,
   "metadata": {
    "collapsed": true
   },
   "outputs": [],
   "source": [
    "def shortest(v, path):\n",
    "    ''' make shortest path from v.previous'''\n",
    "    if v.previous:\n",
    "        path.append(v.previous.id)\n",
    "        shortest(v.previous, path)\n",
    "    return"
   ]
  },
  {
   "cell_type": "code",
   "execution_count": 80,
   "metadata": {},
   "outputs": [
    {
     "name": "stdout",
     "output_type": "stream",
     "text": [
      "The shortest path for d : ['a', 'd']\n",
      "The shortest path for e : ['a', 'c', 'e']\n",
      "The shortest path for f : ['a', 'c', 'e', 'f']\n"
     ]
    }
   ],
   "source": [
    "for t in ['d','e','f']:\n",
    "    target = g.vert_dict[t]\n",
    "    path = [t]\n",
    "    shortest(target, path)\n",
    "    print ('The shortest path for %s : %s' %(t, path[::-1]))"
   ]
  }
 ],
 "metadata": {
  "kernelspec": {
   "display_name": "Python 3",
   "language": "python",
   "name": "python3"
  },
  "language_info": {
   "codemirror_mode": {
    "name": "ipython",
    "version": 3
   },
   "file_extension": ".py",
   "mimetype": "text/x-python",
   "name": "python",
   "nbconvert_exporter": "python",
   "pygments_lexer": "ipython3",
   "version": "3.6.0"
  }
 },
 "nbformat": 4,
 "nbformat_minor": 2
}
