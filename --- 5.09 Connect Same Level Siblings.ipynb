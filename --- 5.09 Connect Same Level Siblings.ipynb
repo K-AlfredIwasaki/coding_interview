{
 "cells": [
  {
   "cell_type": "markdown",
   "metadata": {},
   "source": [
    "### Problem\n",
    "Given a binary tree, connect its siblings at each level. Let's consider the following binary tree as an example."
   ]
  },
  {
   "cell_type": "code",
   "execution_count": 8,
   "metadata": {
    "collapsed": true
   },
   "outputs": [],
   "source": [
    "### Strategy\n",
    "# breadth first search\n",
    "# runtime complexity O(n), linear\n",
    "# memory complexity O(1), constant"
   ]
  },
  {
   "cell_type": "code",
   "execution_count": 1,
   "metadata": {
    "collapsed": true
   },
   "outputs": [],
   "source": [
    "from data_structure.binary_tree import *\n",
    "b = BinaryTree(100)\n",
    "b.left = BinaryTree(50)\n",
    "b.left.left = BinaryTree(25)\n",
    "b.left.right = BinaryTree(75)\n",
    "b.right = BinaryTree(200)\n",
    "b.right.left = BinaryTree(125)\n",
    "b.right.right = BinaryTree(350)"
   ]
  },
  {
   "cell_type": "code",
   "execution_count": 6,
   "metadata": {
    "collapsed": true
   },
   "outputs": [],
   "source": [
    "def breadth_first_search(btree):\n",
    "    node_list = []\n",
    "    node_list.append(btree)\n",
    "    \n",
    "    result = []\n",
    "    \n",
    "    while len(node_list) > 0:\n",
    "        # get siblings of all the nodes in node_list\n",
    "        sibling_list = []\n",
    "        node_list_update = []\n",
    "        for node in node_list:\n",
    "            if node.left != None:\n",
    "                sibling_list.append(str(node.left.content))\n",
    "                node_list_update.append(node.left)\n",
    "            if node.right != None:\n",
    "                sibling_list.append(str(node.right.content))\n",
    "                node_list_update.append(node.right)\n",
    "        node_list = node_list_update\n",
    "        result.append(\"=>\".join(sibling_list))\n",
    "    \n",
    "    return result        "
   ]
  },
  {
   "cell_type": "code",
   "execution_count": 7,
   "metadata": {},
   "outputs": [
    {
     "data": {
      "text/plain": [
       "['50=>200', '25=>75=>125=>350', '']"
      ]
     },
     "execution_count": 7,
     "metadata": {},
     "output_type": "execute_result"
    }
   ],
   "source": [
    "breadth_first_search(b)"
   ]
  }
 ],
 "metadata": {
  "kernelspec": {
   "display_name": "Python 3",
   "language": "python",
   "name": "python3"
  },
  "language_info": {
   "codemirror_mode": {
    "name": "ipython",
    "version": 3
   },
   "file_extension": ".py",
   "mimetype": "text/x-python",
   "name": "python",
   "nbconvert_exporter": "python",
   "pygments_lexer": "ipython3",
   "version": "3.6.0"
  }
 },
 "nbformat": 4,
 "nbformat_minor": 2
}
