{
 "cells": [
  {
   "cell_type": "code",
   "execution_count": 24,
   "metadata": {},
   "outputs": [],
   "source": [
    "from collections import deque\n",
    "from data_structure.binary_tree import *\n",
    "\n",
    "b = BinaryTree(100)\n",
    "b.left = BinaryTree(50)\n",
    "b.left.left = BinaryTree(25)\n",
    "b.left.right = BinaryTree(75)\n",
    "b.left.left.right = BinaryTree(35)\n",
    "b.right = BinaryTree(200)"
   ]
  },
  {
   "cell_type": "code",
   "execution_count": 27,
   "metadata": {
    "collapsed": true
   },
   "outputs": [],
   "source": [
    "def inorder_iterative(root):\n",
    "    if root == None:\n",
    "        return\n",
    "    \n",
    "    stk = deque()\n",
    "    count = 0\n",
    "    \n",
    "    while (len(stk) != 0 or root != None):\n",
    "        if root != None:\n",
    "            stk.append(root)\n",
    "            root = root.left\n",
    "            continue\n",
    "            \n",
    "        print (stk[-1].content)\n",
    "        root = stk[-1].right\n",
    "        stk.pop()\n",
    "    "
   ]
  },
  {
   "cell_type": "code",
   "execution_count": 28,
   "metadata": {},
   "outputs": [
    {
     "name": "stdout",
     "output_type": "stream",
     "text": [
      "25\n",
      "35\n",
      "50\n",
      "75\n",
      "100\n",
      "200\n"
     ]
    }
   ],
   "source": [
    "inorder_iterative(b)"
   ]
  }
 ],
 "metadata": {
  "kernelspec": {
   "display_name": "Python 3",
   "language": "python",
   "name": "python3"
  },
  "language_info": {
   "codemirror_mode": {
    "name": "ipython",
    "version": 3
   },
   "file_extension": ".py",
   "mimetype": "text/x-python",
   "name": "python",
   "nbconvert_exporter": "python",
   "pygments_lexer": "ipython3",
   "version": "3.6.0"
  }
 },
 "nbformat": 4,
 "nbformat_minor": 2
}
