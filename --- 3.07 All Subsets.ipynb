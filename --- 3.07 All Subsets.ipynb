{
 "cells": [
  {
   "cell_type": "markdown",
   "metadata": {},
   "source": [
    "# Problem\n",
    "\n",
    "Find all subsets of a given set of integers."
   ]
  },
  {
   "cell_type": "code",
   "execution_count": 46,
   "metadata": {
    "collapsed": true
   },
   "outputs": [],
   "source": [
    "def all_subset(arr, current = [], n = 0, result = []):\n",
    "    print (\"----- layer {} ----------\".format(n))\n",
    "    print (\"current is {}\".format(current))\n",
    "    \n",
    "    if n == len(arr):\n",
    "        temp = current.copy() \n",
    "        ##### IMPORTANT. Otherwise, result[current, current, current,,,]\n",
    "        ##### all current point to the same item\n",
    "        result.append(temp)\n",
    "        print (\"one pattern is done with {}\".format(current))\n",
    "        print (\"result is  {}\".format(result))\n",
    "        current = []\n",
    "        return result\n",
    "        \n",
    "    for i in [0, 1]:\n",
    "        print (i)\n",
    "        if i == 0:\n",
    "            all_subset(arr, current, n + 1, result)\n",
    "            \n",
    "        if i == 1:\n",
    "            current.append(arr[n])\n",
    "            all_subset(arr, current , n + 1, result)\n",
    "            \n",
    "            current.pop() #### IMPORTANT\n",
    "            \n",
    "            \n",
    "    return result"
   ]
  },
  {
   "cell_type": "code",
   "execution_count": 45,
   "metadata": {
    "scrolled": true
   },
   "outputs": [
    {
     "name": "stdout",
     "output_type": "stream",
     "text": [
      "----- layer 0 ----------\n",
      "current is []\n",
      "0\n",
      "----- layer 1 ----------\n",
      "current is []\n",
      "0\n",
      "----- layer 2 ----------\n",
      "current is []\n",
      "0\n",
      "----- layer 3 ----------\n",
      "current is []\n",
      "0\n",
      "----- layer 4 ----------\n",
      "current is []\n",
      "one pattern is done with []\n",
      "result is  [[], [4], [3], [3, 4], [2], [2, 4], [2, 3], [2, 3, 4], []]\n",
      "1\n",
      "----- layer 4 ----------\n",
      "current is [5]\n",
      "one pattern is done with [5]\n",
      "result is  [[], [4], [3], [3, 4], [2], [2, 4], [2, 3], [2, 3, 4], [], [5]]\n",
      "1\n",
      "----- layer 3 ----------\n",
      "current is [4]\n",
      "0\n",
      "----- layer 4 ----------\n",
      "current is [4]\n",
      "one pattern is done with [4]\n",
      "result is  [[], [4], [3], [3, 4], [2], [2, 4], [2, 3], [2, 3, 4], [], [5], [4]]\n",
      "1\n",
      "----- layer 4 ----------\n",
      "current is [4, 5]\n",
      "one pattern is done with [4, 5]\n",
      "result is  [[], [4], [3], [3, 4], [2], [2, 4], [2, 3], [2, 3, 4], [], [5], [4], [4, 5]]\n",
      "1\n",
      "----- layer 2 ----------\n",
      "current is [3]\n",
      "0\n",
      "----- layer 3 ----------\n",
      "current is [3]\n",
      "0\n",
      "----- layer 4 ----------\n",
      "current is [3]\n",
      "one pattern is done with [3]\n",
      "result is  [[], [4], [3], [3, 4], [2], [2, 4], [2, 3], [2, 3, 4], [], [5], [4], [4, 5], [3]]\n",
      "1\n",
      "----- layer 4 ----------\n",
      "current is [3, 5]\n",
      "one pattern is done with [3, 5]\n",
      "result is  [[], [4], [3], [3, 4], [2], [2, 4], [2, 3], [2, 3, 4], [], [5], [4], [4, 5], [3], [3, 5]]\n",
      "1\n",
      "----- layer 3 ----------\n",
      "current is [3, 4]\n",
      "0\n",
      "----- layer 4 ----------\n",
      "current is [3, 4]\n",
      "one pattern is done with [3, 4]\n",
      "result is  [[], [4], [3], [3, 4], [2], [2, 4], [2, 3], [2, 3, 4], [], [5], [4], [4, 5], [3], [3, 5], [3, 4]]\n",
      "1\n",
      "----- layer 4 ----------\n",
      "current is [3, 4, 5]\n",
      "one pattern is done with [3, 4, 5]\n",
      "result is  [[], [4], [3], [3, 4], [2], [2, 4], [2, 3], [2, 3, 4], [], [5], [4], [4, 5], [3], [3, 5], [3, 4], [3, 4, 5]]\n",
      "1\n",
      "----- layer 1 ----------\n",
      "current is [2]\n",
      "0\n",
      "----- layer 2 ----------\n",
      "current is [2]\n",
      "0\n",
      "----- layer 3 ----------\n",
      "current is [2]\n",
      "0\n",
      "----- layer 4 ----------\n",
      "current is [2]\n",
      "one pattern is done with [2]\n",
      "result is  [[], [4], [3], [3, 4], [2], [2, 4], [2, 3], [2, 3, 4], [], [5], [4], [4, 5], [3], [3, 5], [3, 4], [3, 4, 5], [2]]\n",
      "1\n",
      "----- layer 4 ----------\n",
      "current is [2, 5]\n",
      "one pattern is done with [2, 5]\n",
      "result is  [[], [4], [3], [3, 4], [2], [2, 4], [2, 3], [2, 3, 4], [], [5], [4], [4, 5], [3], [3, 5], [3, 4], [3, 4, 5], [2], [2, 5]]\n",
      "1\n",
      "----- layer 3 ----------\n",
      "current is [2, 4]\n",
      "0\n",
      "----- layer 4 ----------\n",
      "current is [2, 4]\n",
      "one pattern is done with [2, 4]\n",
      "result is  [[], [4], [3], [3, 4], [2], [2, 4], [2, 3], [2, 3, 4], [], [5], [4], [4, 5], [3], [3, 5], [3, 4], [3, 4, 5], [2], [2, 5], [2, 4]]\n",
      "1\n",
      "----- layer 4 ----------\n",
      "current is [2, 4, 5]\n",
      "one pattern is done with [2, 4, 5]\n",
      "result is  [[], [4], [3], [3, 4], [2], [2, 4], [2, 3], [2, 3, 4], [], [5], [4], [4, 5], [3], [3, 5], [3, 4], [3, 4, 5], [2], [2, 5], [2, 4], [2, 4, 5]]\n",
      "1\n",
      "----- layer 2 ----------\n",
      "current is [2, 3]\n",
      "0\n",
      "----- layer 3 ----------\n",
      "current is [2, 3]\n",
      "0\n",
      "----- layer 4 ----------\n",
      "current is [2, 3]\n",
      "one pattern is done with [2, 3]\n",
      "result is  [[], [4], [3], [3, 4], [2], [2, 4], [2, 3], [2, 3, 4], [], [5], [4], [4, 5], [3], [3, 5], [3, 4], [3, 4, 5], [2], [2, 5], [2, 4], [2, 4, 5], [2, 3]]\n",
      "1\n",
      "----- layer 4 ----------\n",
      "current is [2, 3, 5]\n",
      "one pattern is done with [2, 3, 5]\n",
      "result is  [[], [4], [3], [3, 4], [2], [2, 4], [2, 3], [2, 3, 4], [], [5], [4], [4, 5], [3], [3, 5], [3, 4], [3, 4, 5], [2], [2, 5], [2, 4], [2, 4, 5], [2, 3], [2, 3, 5]]\n",
      "1\n",
      "----- layer 3 ----------\n",
      "current is [2, 3, 4]\n",
      "0\n",
      "----- layer 4 ----------\n",
      "current is [2, 3, 4]\n",
      "one pattern is done with [2, 3, 4]\n",
      "result is  [[], [4], [3], [3, 4], [2], [2, 4], [2, 3], [2, 3, 4], [], [5], [4], [4, 5], [3], [3, 5], [3, 4], [3, 4, 5], [2], [2, 5], [2, 4], [2, 4, 5], [2, 3], [2, 3, 5], [2, 3, 4]]\n",
      "1\n",
      "----- layer 4 ----------\n",
      "current is [2, 3, 4, 5]\n",
      "one pattern is done with [2, 3, 4, 5]\n",
      "result is  [[], [4], [3], [3, 4], [2], [2, 4], [2, 3], [2, 3, 4], [], [5], [4], [4, 5], [3], [3, 5], [3, 4], [3, 4, 5], [2], [2, 5], [2, 4], [2, 4, 5], [2, 3], [2, 3, 5], [2, 3, 4], [2, 3, 4, 5]]\n"
     ]
    },
    {
     "data": {
      "text/plain": [
       "[[],\n",
       " [4],\n",
       " [3],\n",
       " [3, 4],\n",
       " [2],\n",
       " [2, 4],\n",
       " [2, 3],\n",
       " [2, 3, 4],\n",
       " [],\n",
       " [5],\n",
       " [4],\n",
       " [4, 5],\n",
       " [3],\n",
       " [3, 5],\n",
       " [3, 4],\n",
       " [3, 4, 5],\n",
       " [2],\n",
       " [2, 5],\n",
       " [2, 4],\n",
       " [2, 4, 5],\n",
       " [2, 3],\n",
       " [2, 3, 5],\n",
       " [2, 3, 4],\n",
       " [2, 3, 4, 5]]"
      ]
     },
     "execution_count": 45,
     "metadata": {},
     "output_type": "execute_result"
    }
   ],
   "source": [
    "all_subset([2, 3, 4, 5])"
   ]
  },
  {
   "cell_type": "code",
   "execution_count": 39,
   "metadata": {
    "collapsed": true
   },
   "outputs": [],
   "source": [
    "def get_bit(num, bit):\n",
    "    temp = (1 << bit)\n",
    "    temp = temp & num\n",
    "    if temp == 0:\n",
    "        return 0\n",
    "    return 1\n",
    "\n",
    "def get_all_subsets(v, sets=[]):\n",
    "    subsets_count = 2 ** len(v)\n",
    "    for i in range(0, subsets_count):\n",
    "            st = []\n",
    "            for j in range(0, len(v)):\n",
    "                print (\"i is {},  j is {},  get_bit is {}\".format(i, j, get_bit(i, j)))\n",
    "                if get_bit(i, j) == 1:\n",
    "                    st.append(v[j])\n",
    "            sets.append(st)\n",
    "            \n",
    "    return sets"
   ]
  },
  {
   "cell_type": "code",
   "execution_count": 44,
   "metadata": {},
   "outputs": [
    {
     "data": {
      "text/plain": [
       "1"
      ]
     },
     "execution_count": 44,
     "metadata": {},
     "output_type": "execute_result"
    }
   ],
   "source": [
    "1 << 0"
   ]
  },
  {
   "cell_type": "code",
   "execution_count": 45,
   "metadata": {},
   "outputs": [
    {
     "data": {
      "text/plain": [
       "2"
      ]
     },
     "execution_count": 45,
     "metadata": {},
     "output_type": "execute_result"
    }
   ],
   "source": [
    "1 << 1"
   ]
  },
  {
   "cell_type": "code",
   "execution_count": 46,
   "metadata": {
    "scrolled": true
   },
   "outputs": [
    {
     "data": {
      "text/plain": [
       "4"
      ]
     },
     "execution_count": 46,
     "metadata": {},
     "output_type": "execute_result"
    }
   ],
   "source": [
    "1 << 2"
   ]
  },
  {
   "cell_type": "code",
   "execution_count": 48,
   "metadata": {},
   "outputs": [
    {
     "data": {
      "text/plain": [
       "0"
      ]
     },
     "execution_count": 48,
     "metadata": {},
     "output_type": "execute_result"
    }
   ],
   "source": [
    "4 & 8"
   ]
  },
  {
   "cell_type": "code",
   "execution_count": 40,
   "metadata": {
    "scrolled": false
   },
   "outputs": [
    {
     "name": "stdout",
     "output_type": "stream",
     "text": [
      "i is 0,  j is 0,  get_bit is 0\n",
      "i is 0,  j is 1,  get_bit is 0\n",
      "i is 0,  j is 2,  get_bit is 0\n",
      "i is 1,  j is 0,  get_bit is 1\n",
      "i is 1,  j is 1,  get_bit is 0\n",
      "i is 1,  j is 2,  get_bit is 0\n",
      "i is 2,  j is 0,  get_bit is 0\n",
      "i is 2,  j is 1,  get_bit is 1\n",
      "i is 2,  j is 2,  get_bit is 0\n",
      "i is 3,  j is 0,  get_bit is 1\n",
      "i is 3,  j is 1,  get_bit is 1\n",
      "i is 3,  j is 2,  get_bit is 0\n",
      "i is 4,  j is 0,  get_bit is 0\n",
      "i is 4,  j is 1,  get_bit is 0\n",
      "i is 4,  j is 2,  get_bit is 1\n",
      "i is 5,  j is 0,  get_bit is 1\n",
      "i is 5,  j is 1,  get_bit is 0\n",
      "i is 5,  j is 2,  get_bit is 1\n",
      "i is 6,  j is 0,  get_bit is 0\n",
      "i is 6,  j is 1,  get_bit is 1\n",
      "i is 6,  j is 2,  get_bit is 1\n",
      "i is 7,  j is 0,  get_bit is 1\n",
      "i is 7,  j is 1,  get_bit is 1\n",
      "i is 7,  j is 2,  get_bit is 1\n"
     ]
    },
    {
     "data": {
      "text/plain": [
       "[[], [2], [5], [2, 5], [7], [2, 7], [5, 7], [2, 5, 7]]"
      ]
     },
     "execution_count": 40,
     "metadata": {},
     "output_type": "execute_result"
    }
   ],
   "source": [
    "get_all_subsets([2, 5, 7])"
   ]
  }
 ],
 "metadata": {
  "kernelspec": {
   "display_name": "Python 3",
   "language": "python",
   "name": "python3"
  },
  "language_info": {
   "codemirror_mode": {
    "name": "ipython",
    "version": 3
   },
   "file_extension": ".py",
   "mimetype": "text/x-python",
   "name": "python",
   "nbconvert_exporter": "python",
   "pygments_lexer": "ipython3",
   "version": "3.6.0"
  }
 },
 "nbformat": 4,
 "nbformat_minor": 2
}
