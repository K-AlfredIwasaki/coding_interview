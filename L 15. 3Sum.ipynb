{
 "cells": [
  {
   "cell_type": "markdown",
   "metadata": {},
   "source": [
    "# Problem\n",
    "\n",
    "Given an array S of n integers, are there elements a, b, c in S such that a + b + c = 0? Find all unique triplets in the array which gives the sum of zero."
   ]
  },
  {
   "cell_type": "code",
   "execution_count": 1,
   "metadata": {
    "collapsed": true
   },
   "outputs": [],
   "source": [
    "S = [-1, 0, 1, 2, -1, -4]"
   ]
  },
  {
   "cell_type": "code",
   "execution_count": 2,
   "metadata": {
    "collapsed": true
   },
   "outputs": [],
   "source": [
    "S.sort()"
   ]
  },
  {
   "cell_type": "code",
   "execution_count": 3,
   "metadata": {},
   "outputs": [
    {
     "data": {
      "text/plain": [
       "[-4, -1, -1, 0, 1, 2]"
      ]
     },
     "execution_count": 3,
     "metadata": {},
     "output_type": "execute_result"
    }
   ],
   "source": [
    "S"
   ]
  },
  {
   "cell_type": "code",
   "execution_count": 49,
   "metadata": {},
   "outputs": [],
   "source": [
    "def threeSum(nums):\n",
    "    # sort the array (list)\n",
    "    nums.sort()\n",
    "    \n",
    "    result = []\n",
    "    \n",
    "    # iterate\n",
    "    for i in range(len(nums)-2):\n",
    "        print (\"------------ now i = {} --------------------\".format(i))\n",
    "        if i > 0 and nums[i] == nums[i-1]: ############# IMPORTANT\n",
    "            continue\n",
    "            \n",
    "        j = i+1\n",
    "        k = len(nums) - 1\n",
    "                \n",
    "        while j < k:            \n",
    "            c = nums[i]\n",
    "            a = nums[j]\n",
    "            b = nums[k]\n",
    "            \n",
    "            total = a + b + c\n",
    "            print (\"a, b, c = ({}, {}, {})\".format(a, b, c))\n",
    "            print (\"total is {}\".format(total))\n",
    "            print (\"i, j, k = ({}, {}, {})\".format(i, j, k))\n",
    "            \n",
    "            if total == 0:\n",
    "                result.append([a, b, c])\n",
    "                \n",
    "                # skip duplicates #################### IMPORTANT\n",
    "                while j < k and nums[j] == nums[j+1]:\n",
    "                    j += 1\n",
    "                while j < k and nums[k] == nums[k-1]:\n",
    "                    k -= 1\n",
    "                    \n",
    "                j += 1\n",
    "                k -= 1\n",
    "                \n",
    "            if total < 0:\n",
    "                j += 1\n",
    "            \n",
    "            if total > 0:\n",
    "                k += -1\n",
    "                \n",
    "    return result"
   ]
  },
  {
   "cell_type": "code",
   "execution_count": 50,
   "metadata": {
    "scrolled": false
   },
   "outputs": [
    {
     "name": "stdout",
     "output_type": "stream",
     "text": [
      "------------ now i = 0 --------------------\n",
      "a, b, c = (-1, 2, -4)\n",
      "total is -3\n",
      "i, j, k = (0, 1, 5)\n",
      "a, b, c = (-1, 2, -4)\n",
      "total is -3\n",
      "i, j, k = (0, 2, 5)\n",
      "a, b, c = (0, 2, -4)\n",
      "total is -2\n",
      "i, j, k = (0, 3, 5)\n",
      "a, b, c = (1, 2, -4)\n",
      "total is -1\n",
      "i, j, k = (0, 4, 5)\n",
      "------------ now i = 1 --------------------\n",
      "a, b, c = (-1, 2, -1)\n",
      "total is 0\n",
      "i, j, k = (1, 2, 5)\n",
      "a, b, c = (0, 1, -1)\n",
      "total is 0\n",
      "i, j, k = (1, 3, 4)\n",
      "------------ now i = 2 --------------------\n",
      "------------ now i = 3 --------------------\n",
      "a, b, c = (1, 2, 0)\n",
      "total is 3\n",
      "i, j, k = (3, 4, 5)\n"
     ]
    },
    {
     "data": {
      "text/plain": [
       "[[-1, 2, -1], [0, 1, -1]]"
      ]
     },
     "execution_count": 50,
     "metadata": {},
     "output_type": "execute_result"
    }
   ],
   "source": [
    "threeSum(S)"
   ]
  }
 ],
 "metadata": {
  "kernelspec": {
   "display_name": "Python 3",
   "language": "python",
   "name": "python3"
  },
  "language_info": {
   "codemirror_mode": {
    "name": "ipython",
    "version": 3
   },
   "file_extension": ".py",
   "mimetype": "text/x-python",
   "name": "python",
   "nbconvert_exporter": "python",
   "pygments_lexer": "ipython3",
   "version": "3.6.0"
  }
 },
 "nbformat": 4,
 "nbformat_minor": 2
}
