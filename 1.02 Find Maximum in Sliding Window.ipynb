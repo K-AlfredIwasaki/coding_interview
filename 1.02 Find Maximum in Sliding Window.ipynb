{
 "cells": [
  {
   "cell_type": "code",
   "execution_count": 2,
   "metadata": {},
   "outputs": [],
   "source": [
    "from collections import deque"
   ]
  },
  {
   "cell_type": "code",
   "execution_count": 46,
   "metadata": {
    "collapsed": true
   },
   "outputs": [],
   "source": [
    "arr = [5, 10, 2, -5, 14, 15, 3, 10, 30, 15]"
   ]
  },
  {
   "cell_type": "code",
   "execution_count": 47,
   "metadata": {
    "collapsed": true
   },
   "outputs": [],
   "source": [
    "def find_max_sliding_window(arr, window_size):\n",
    "    \n",
    "    if window_size > len(arr):\n",
    "        return\n",
    "    \n",
    "    # first window check\n",
    "    window = deque()\n",
    "    \n",
    "    # find out max for first window\n",
    "    for i in range(0, window_size):\n",
    "        while window and arr[i] >= arr[window[-1]]:\n",
    "            window.pop()\n",
    "            \n",
    "        window.append(i)\n",
    "        \n",
    "    print (arr[window[0]])\n",
    "    print (window)\n",
    "    print (\"--------------------- first window done ----------------\")\n",
    "    \n",
    "    for i in range(window_size, len(arr)):\n",
    "        print (\"i is {}\".format(i))\n",
    "        print (window)\n",
    "        #remove all numbers that are smaller than current number\n",
    "        # from the tail of list\n",
    "        while window and arr[i] >= arr[window[-1]]:\n",
    "            print (window)\n",
    "            print (\"compare arr[i] {} and arr[window[-1]]  {}\".format(arr[i], arr[window[-1]]))\n",
    "            window.pop()\n",
    "            \n",
    "        print (\"test\")\n",
    "            \n",
    "        # remove first number if it doesn't fall in the window anymore\n",
    "        if window and (window[0] <= i - window_size):\n",
    "            window.popleft()\n",
    "            \n",
    "        window.append(i)\n",
    "        print (arr[window[0]])\n",
    "        print (window)\n",
    "        print (\"----------- ending next window --------------------\")"
   ]
  },
  {
   "cell_type": "code",
   "execution_count": 48,
   "metadata": {},
   "outputs": [
    {
     "name": "stdout",
     "output_type": "stream",
     "text": [
      "10\n",
      "deque([1, 2])\n",
      "--------------------- first window done ----------------\n",
      "i is 3\n",
      "deque([1, 2])\n",
      "test\n",
      "10\n",
      "deque([1, 2, 3])\n",
      "----------- ending next window --------------------\n",
      "i is 4\n",
      "deque([1, 2, 3])\n",
      "deque([1, 2, 3])\n",
      "compare arr[i] 14 and arr[window[-1]]  -5\n",
      "deque([1, 2])\n",
      "compare arr[i] 14 and arr[window[-1]]  2\n",
      "deque([1])\n",
      "compare arr[i] 14 and arr[window[-1]]  10\n",
      "test\n",
      "14\n",
      "deque([4])\n",
      "----------- ending next window --------------------\n",
      "i is 5\n",
      "deque([4])\n",
      "deque([4])\n",
      "compare arr[i] 15 and arr[window[-1]]  14\n",
      "test\n",
      "15\n",
      "deque([5])\n",
      "----------- ending next window --------------------\n",
      "i is 6\n",
      "deque([5])\n",
      "test\n",
      "15\n",
      "deque([5, 6])\n",
      "----------- ending next window --------------------\n",
      "i is 7\n",
      "deque([5, 6])\n",
      "deque([5, 6])\n",
      "compare arr[i] 10 and arr[window[-1]]  3\n",
      "test\n",
      "15\n",
      "deque([5, 7])\n",
      "----------- ending next window --------------------\n",
      "i is 8\n",
      "deque([5, 7])\n",
      "deque([5, 7])\n",
      "compare arr[i] 30 and arr[window[-1]]  10\n",
      "deque([5])\n",
      "compare arr[i] 30 and arr[window[-1]]  15\n",
      "test\n",
      "30\n",
      "deque([8])\n",
      "----------- ending next window --------------------\n",
      "i is 9\n",
      "deque([8])\n",
      "test\n",
      "30\n",
      "deque([8, 9])\n",
      "----------- ending next window --------------------\n"
     ]
    }
   ],
   "source": [
    "find_max_sliding_window(arr, 3)"
   ]
  }
 ],
 "metadata": {
  "kernelspec": {
   "display_name": "Python 3",
   "language": "python",
   "name": "python3"
  },
  "language_info": {
   "codemirror_mode": {
    "name": "ipython",
    "version": 3
   },
   "file_extension": ".py",
   "mimetype": "text/x-python",
   "name": "python",
   "nbconvert_exporter": "python",
   "pygments_lexer": "ipython3",
   "version": "3.6.0"
  }
 },
 "nbformat": 4,
 "nbformat_minor": 2
}
