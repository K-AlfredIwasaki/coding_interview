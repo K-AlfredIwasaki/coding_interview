{
 "cells": [
  {
   "cell_type": "code",
   "execution_count": 1,
   "metadata": {
    "scrolled": true
   },
   "outputs": [
    {
     "data": {
      "text/plain": [
       "'\\nDesign an algorithm and write code to find the first common ancestor of \\ntwo nodes in a binary tree. Avoid storing additional nodes in a data structure.\\nNOTE: This is not necessarily a binary search tree\\n'"
      ]
     },
     "execution_count": 1,
     "metadata": {},
     "output_type": "execute_result"
    }
   ],
   "source": [
    "'''\n",
    "Design an algorithm and write code to find the first common ancestor of \n",
    "two nodes in a binary tree. Avoid storing additional nodes in a data structure.\n",
    "NOTE: This is not necessarily a binary search tree\n",
    "'''\n"
   ]
  },
  {
   "cell_type": "code",
   "execution_count": 2,
   "metadata": {
    "collapsed": true
   },
   "outputs": [],
   "source": [
    "class BinaryTree:\n",
    "    \n",
    "    def __init__(self, content):\n",
    "        self.content = content\n",
    "        self.left = None\n",
    "        self.right = None\n",
    "            \n",
    "    def __str__(self):\n",
    "        return \"(\" + str(self.content) + \" ( \" + str(self.left) + \" | \"\\\n",
    "    + str(self.right) + \"))\""
   ]
  },
  {
   "cell_type": "code",
   "execution_count": 4,
   "metadata": {},
   "outputs": [],
   "source": [
    "b = BinaryTree(2)\n",
    "b.left = BinaryTree(5)\n",
    "b.left.left = BinaryTree(10)\n",
    "b.left.right = BinaryTree(4)\n",
    "b.left.left.left = BinaryTree(15)\n",
    "b.left.left.left.left = BinaryTree(20)\n",
    "b.left.left.left.right = BinaryTree(50)\n",
    "b.right = BinaryTree(7)\n",
    "b.right.left = BinaryTree(25)\n",
    "b.right.right = BinaryTree(30)"
   ]
  },
  {
   "cell_type": "code",
   "execution_count": 5,
   "metadata": {
    "collapsed": true
   },
   "outputs": [
    {
     "name": "stdout",
     "output_type": "stream",
     "text": [
      "(2 ( (5 ( (10 ( (15 ( (20 ( None | None)) | (50 ( None | None)))) | None)) | (4 ( None | None)))) | (7 ( (25 ( None | None)) | (30 ( None | None))))))\n"
     ]
    }
   ],
   "source": [
    "print (b)"
   ]
  },
  {
   "cell_type": "code",
   "execution_count": 8,
   "metadata": {
    "collapsed": true
   },
   "outputs": [],
   "source": [
    "### without links to parents\n",
    "\n",
    "# helper function\n",
    "def cover(btree, node):\n",
    "    # base case\n",
    "    if btree == None: return False\n",
    "    if btree == node: return True\n",
    "    \n",
    "    # general relationship\n",
    "    l = cover(btree.left, node)\n",
    "    r = cover(btree.right, node)\n",
    "    \n",
    "    return l or r"
   ]
  },
  {
   "cell_type": "code",
   "execution_count": 9,
   "metadata": {
    "collapsed": true
   },
   "outputs": [],
   "source": [
    "def commonAncestor(btree, p, q):\n",
    "    # base case\n",
    "    if btree == None: return None\n",
    "    if btree == p or btree == q: return btree\n",
    "    \n",
    "    # action\n",
    "    is_p_on_left = cover(btree.left, p)\n",
    "    is_q_on_left = cover(btree.left, q)\n",
    "    \n",
    "    \n",
    "    # true and false or false and true => they are on different sides --- done\n",
    "    # true and true => both on the left --- recursive on the left\n",
    "    # false and false => both on the right --- recursive on the right\n",
    "    \n",
    "    if is_p_on_left != is_q_on_left:\n",
    "        return btree\n",
    "    \n",
    "    if is_p_on_left == True:\n",
    "        return commonAncestor(btree.left, p, q)\n",
    "    \n",
    "    if is_p_on_left == False:\n",
    "        return commonAncestor(btree.right, p, q)\n",
    "    "
   ]
  },
  {
   "cell_type": "code",
   "execution_count": 15,
   "metadata": {},
   "outputs": [
    {
     "name": "stdout",
     "output_type": "stream",
     "text": [
      "2\n",
      "5\n",
      "2\n"
     ]
    }
   ],
   "source": [
    "# ------------- test --------------------------------------\n",
    "# p, q are on different side\n",
    "print (commonAncestor(b, b.left.left.left.left, b.right.right).content)\n",
    "\n",
    "# p, q are on the left\n",
    "print (commonAncestor(b, b.left.left.left.left, b.left.right).content)\n",
    "\n",
    "# p, q are on the right and p is root\n",
    "print (commonAncestor(b, b, b.right.right).content)"
   ]
  }
 ],
 "metadata": {
  "kernelspec": {
   "display_name": "Python 3",
   "language": "python",
   "name": "python3"
  },
  "language_info": {
   "codemirror_mode": {
    "name": "ipython",
    "version": 3
   },
   "file_extension": ".py",
   "mimetype": "text/x-python",
   "name": "python",
   "nbconvert_exporter": "python",
   "pygments_lexer": "ipython3",
   "version": "3.6.0"
  }
 },
 "nbformat": 4,
 "nbformat_minor": 2
}
