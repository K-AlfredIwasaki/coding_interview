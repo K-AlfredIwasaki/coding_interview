{
 "cells": [
  {
   "cell_type": "code",
   "execution_count": 23,
   "metadata": {
    "collapsed": true
   },
   "outputs": [],
   "source": [
    "class Vertex():\n",
    "    \n",
    "    def __init__(self, node):\n",
    "        self.node = node\n",
    "        self.adjacent = {} # vertex : edge\n",
    "        \n",
    "    def add_neighbor_edge(self, vertex, edge):\n",
    "        self.adjacent[vertex] = edge\n",
    "        \n",
    "    def __str__(self):\n",
    "        neighbors = \",\".join([vertex.node for vertex in self.adjacent])\n",
    "        return (\"current node is {} and its neighbors are {}\".format(self.node, neighbors))\n",
    "        \n",
    "class Graph():\n",
    "    \n",
    "    def __init__(self):\n",
    "        self.vert_dict = {} # node : vertex\n",
    "        \n",
    "    def add_vertex(self, node):\n",
    "        self.vert_dict[node] = Vertex(node)\n",
    "        \n",
    "    def add_edge(self, frm, to, edge): # frm, to are node not vertex\n",
    "        # check if frm and to are already in vert_dict\n",
    "        if frm not in self.vert_dict.keys():\n",
    "            self.add_vertex(frm)\n",
    "        if to not in self.vert_dict.keys():\n",
    "            self.add_vertex(to)\n",
    "            \n",
    "        # add undirected edge\n",
    "        self.vert_dict[frm].add_neighbor_edge(self.vert_dict[to], edge)\n",
    "        self.vert_dict[to].add_neighbor_edge(self.vert_dict[frm], edge)\n",
    "            "
   ]
  },
  {
   "cell_type": "code",
   "execution_count": 24,
   "metadata": {
    "collapsed": true
   },
   "outputs": [],
   "source": [
    "g = Graph()"
   ]
  },
  {
   "cell_type": "code",
   "execution_count": 25,
   "metadata": {},
   "outputs": [
    {
     "data": {
      "text/plain": [
       "{'a': <__main__.Vertex at 0x25c1e7282b0>,\n",
       " 'b': <__main__.Vertex at 0x25c1e728208>,\n",
       " 'c': <__main__.Vertex at 0x25c1e728240>,\n",
       " 'd': <__main__.Vertex at 0x25c1e728278>,\n",
       " 'e': <__main__.Vertex at 0x25c1e728080>,\n",
       " 'f': <__main__.Vertex at 0x25c1e7280f0>,\n",
       " 'g': <__main__.Vertex at 0x25c1e728128>}"
      ]
     },
     "execution_count": 25,
     "metadata": {},
     "output_type": "execute_result"
    }
   ],
   "source": [
    "g.add_vertex(\"a\")\n",
    "g.add_vertex(\"b\")\n",
    "g.add_vertex(\"c\")\n",
    "g.add_vertex(\"d\")\n",
    "g.add_vertex(\"e\")\n",
    "g.add_vertex(\"f\")\n",
    "g.add_vertex(\"g\")\n",
    "\n",
    "g.vert_dict"
   ]
  },
  {
   "cell_type": "code",
   "execution_count": 26,
   "metadata": {
    "scrolled": false
   },
   "outputs": [
    {
     "name": "stdout",
     "output_type": "stream",
     "text": [
      "current node is a and its neighbors are \n",
      "current node is b and its neighbors are \n",
      "current node is c and its neighbors are \n",
      "current node is d and its neighbors are \n",
      "current node is e and its neighbors are \n",
      "current node is f and its neighbors are \n",
      "current node is g and its neighbors are \n"
     ]
    }
   ],
   "source": [
    "for node in g.vert_dict.values():\n",
    "    print (node)"
   ]
  },
  {
   "cell_type": "code",
   "execution_count": 27,
   "metadata": {},
   "outputs": [],
   "source": [
    "g.add_edge(\"a\", \"b\", 2)\n",
    "g.add_edge(\"a\", \"c\", 1)\n",
    "g.add_edge(\"a\", \"d\", 2)\n",
    "g.add_edge(\"c\", \"e\", 2)\n",
    "g.add_edge(\"c\", \"d\", 1)\n",
    "g.add_edge(\"d\", \"g\", 2)\n",
    "g.add_edge(\"b\", \"d\", 3)\n",
    "g.add_edge(\"e\", \"f\", 4)"
   ]
  },
  {
   "cell_type": "code",
   "execution_count": 28,
   "metadata": {},
   "outputs": [
    {
     "name": "stdout",
     "output_type": "stream",
     "text": [
      "current node is a and its neighbors are b,c,d\n",
      "current node is b and its neighbors are a,d\n",
      "current node is c and its neighbors are a,e,d\n",
      "current node is d and its neighbors are a,c,g,b\n",
      "current node is e and its neighbors are c,f\n",
      "current node is f and its neighbors are e\n",
      "current node is g and its neighbors are d\n"
     ]
    }
   ],
   "source": [
    "for node in g.vert_dict.values():\n",
    "    print (node)"
   ]
  }
 ],
 "metadata": {
  "kernelspec": {
   "display_name": "Python 3",
   "language": "python",
   "name": "python3"
  },
  "language_info": {
   "codemirror_mode": {
    "name": "ipython",
    "version": 3
   },
   "file_extension": ".py",
   "mimetype": "text/x-python",
   "name": "python",
   "nbconvert_exporter": "python",
   "pygments_lexer": "ipython3",
   "version": "3.6.0"
  }
 },
 "nbformat": 4,
 "nbformat_minor": 2
}
