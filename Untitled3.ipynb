{
 "cells": [
  {
   "cell_type": "code",
   "execution_count": null,
   "metadata": {
    "collapsed": true
   },
   "outputs": [],
   "source": [
    "class Node:\n",
    "    def __init__(self, k, v):\n",
    "        self.key = k\n",
    "        self.val = v\n",
    "        self.prev = None\n",
    "        self.next = None\n",
    "\n",
    "\n",
    "class LRUCache(object):\n",
    "\n",
    "    def __init__(self, capacity):\n",
    "        self.capacity = capacity\n",
    "        self.map = {}\n",
    "        self.head = Node('head', None)     ################## IMPORTANT\n",
    "        self.tail = Node('tail', None)     ################## IMPORTANT\n",
    "        self.head.next = self.tail\n",
    "        self.tail.prev = self.head\n",
    "        \n",
    "    \n",
    "    \n",
    "    def get(self, key):\n",
    "    \"\"\"move the node accessed to the tail\"\"\"\n",
    "        if key not in self.map:\n",
    "            return -1\n",
    "        \n",
    "        # move the node to the tail\n",
    "        node = self.map[key]\n",
    "        self._evict(node)\n",
    "        self._add_to_tail(node)\n",
    "        return node.val\n",
    "\n",
    "    \n",
    "    def put(self, key, value):\n",
    "    \"\"\" add the node \"\"\"\n",
    "        if key in self.map: #### IMPORTANT\n",
    "            self._eivict(self.map[key])\n",
    "            \n",
    "        node = Node(key, value)\n",
    "        self._add_to_tail(node)\n",
    "        self.map[key] = node\n",
    "        \n",
    "        if len(self.map) > self.capacity:\n",
    "            node = self.head.next\n",
    "            self._evict(node)\n",
    "            del self.map[node.key]\n",
    "    \n",
    "    \n",
    "    def _evict(self, node):\n",
    "    \"\"\" evict the node at the head\"\"\"\n",
    "        p = node.prev\n",
    "        n = node.next\n",
    "        p.next = n\n",
    "        n.prev = p\n",
    "    \n",
    "    \n",
    "    def _add_to_tail(self, node)\n",
    "    \"\"\" add the node to the tail\"\"\"\n",
    "        p = self.tail.prev\n",
    "        p.next = node\n",
    "        self.tail.prev = node\n",
    "        node.prev = p\n",
    "        node.next = self.tail\n",
    "    "
   ]
  }
 ],
 "metadata": {
  "kernelspec": {
   "display_name": "Python 3",
   "language": "python",
   "name": "python3"
  },
  "language_info": {
   "codemirror_mode": {
    "name": "ipython",
    "version": 3
   },
   "file_extension": ".py",
   "mimetype": "text/x-python",
   "name": "python",
   "nbconvert_exporter": "python",
   "pygments_lexer": "ipython3",
   "version": "3.6.0"
  }
 },
 "nbformat": 4,
 "nbformat_minor": 2
}
