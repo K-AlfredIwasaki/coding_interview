{
 "cells": [
  {
   "cell_type": "code",
   "execution_count": 3,
   "metadata": {
    "collapsed": true
   },
   "outputs": [],
   "source": [
    "def generate_parentheses(num, left = 0, right = 0, current = [], result = []):\n",
    "    # base\n",
    "    if left == num and right == num:\n",
    "        print (current)\n",
    "        temp = current.copy() ##### IMPORTANT\n",
    "        result.append(temp)\n",
    "        current = []\n",
    "        return\n",
    "        \n",
    "    if left < num: ##### NOTE this is not elif\n",
    "        current.append(\"{\")\n",
    "        generate_parentheses(num, left + 1, right, current, result)\n",
    "        current.pop() ##### IMP\n",
    "    \n",
    "    if right < left: ##### NOTE this is not elif\n",
    "        current.append(\"}\")\n",
    "        generate_parentheses(num, left, right + 1, current, result)\n",
    "        current.pop()\n",
    "        \n",
    "    return result"
   ]
  },
  {
   "cell_type": "code",
   "execution_count": 4,
   "metadata": {},
   "outputs": [
    {
     "name": "stdout",
     "output_type": "stream",
     "text": [
      "['{', '{', '{', '}', '}', '}']\n",
      "['{', '{', '}', '{', '}', '}']\n",
      "['{', '{', '}', '}', '{', '}']\n",
      "['{', '}', '{', '{', '}', '}']\n",
      "['{', '}', '{', '}', '{', '}']\n"
     ]
    },
    {
     "data": {
      "text/plain": [
       "[['{', '{', '{', '}', '}', '}'],\n",
       " ['{', '{', '}', '{', '}', '}'],\n",
       " ['{', '{', '}', '}', '{', '}'],\n",
       " ['{', '}', '{', '{', '}', '}'],\n",
       " ['{', '}', '{', '}', '{', '}']]"
      ]
     },
     "execution_count": 4,
     "metadata": {},
     "output_type": "execute_result"
    }
   ],
   "source": [
    "generate_parentheses(3)"
   ]
  }
 ],
 "metadata": {
  "kernelspec": {
   "display_name": "Python 3",
   "language": "python",
   "name": "python3"
  },
  "language_info": {
   "codemirror_mode": {
    "name": "ipython",
    "version": 3
   },
   "file_extension": ".py",
   "mimetype": "text/x-python",
   "name": "python",
   "nbconvert_exporter": "python",
   "pygments_lexer": "ipython3",
   "version": "3.6.0"
  }
 },
 "nbformat": 4,
 "nbformat_minor": 2
}
