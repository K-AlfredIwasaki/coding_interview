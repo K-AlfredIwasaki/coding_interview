{
 "cells": [
  {
   "cell_type": "code",
   "execution_count": 21,
   "metadata": {},
   "outputs": [],
   "source": [
    "arr = [1, 3, 5, 9]"
   ]
  },
  {
   "cell_type": "code",
   "execution_count": 22,
   "metadata": {},
   "outputs": [],
   "source": [
    "def factorial(n):\n",
    "    if n == 0 or n == 1:\n",
    "        return 1\n",
    "    return n * factorial (n- 1)"
   ]
  },
  {
   "cell_type": "code",
   "execution_count": 23,
   "metadata": {
    "collapsed": true
   },
   "outputs": [],
   "source": [
    "def permutation_builder(arr, k, result = \"\"):\n",
    "    # base\n",
    "    print (arr)\n",
    "    if len(arr) == 0:\n",
    "        print (result)\n",
    "        return result\n",
    "    \n",
    "    n = len(arr)\n",
    "    block_size = factorial(n-1)\n",
    "    selected_block = (k - 1) // block_size\n",
    "    \n",
    "    result += str(arr[selected_block])\n",
    "    \n",
    "    arr.remove(arr[selected_block])\n",
    "    \n",
    "    k = k - (block_size * selected_block)\n",
    "    \n",
    "    permutation_builder(arr, k, result)"
   ]
  },
  {
   "cell_type": "code",
   "execution_count": 24,
   "metadata": {},
   "outputs": [
    {
     "name": "stdout",
     "output_type": "stream",
     "text": [
      "[1, 3, 5, 9]\n",
      "[1, 5, 9]\n",
      "[5, 9]\n",
      "[5]\n",
      "[]\n",
      "3195\n"
     ]
    }
   ],
   "source": [
    "permutation_builder(arr, 8)"
   ]
  }
 ],
 "metadata": {
  "kernelspec": {
   "display_name": "Python 3",
   "language": "python",
   "name": "python3"
  },
  "language_info": {
   "codemirror_mode": {
    "name": "ipython",
    "version": 3
   },
   "file_extension": ".py",
   "mimetype": "text/x-python",
   "name": "python",
   "nbconvert_exporter": "python",
   "pygments_lexer": "ipython3",
   "version": "3.6.0"
  }
 },
 "nbformat": 4,
 "nbformat_minor": 2
}
