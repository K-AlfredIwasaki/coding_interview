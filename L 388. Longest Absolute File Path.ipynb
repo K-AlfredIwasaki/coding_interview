{
 "cells": [
  {
   "cell_type": "code",
   "execution_count": 3,
   "metadata": {
    "collapsed": true
   },
   "outputs": [],
   "source": [
    "test = \"dir\\n\\tsubdir1\\n\\t\\tfile1.ext\\n\\t\\tsubsubdir1\\n\\tsubdir2\\n\\t\\tsubsubdir2\\n\\t\\t\\tfile2.ext\""
   ]
  },
  {
   "cell_type": "code",
   "execution_count": 17,
   "metadata": {},
   "outputs": [
    {
     "name": "stdout",
     "output_type": "stream",
     "text": [
      "['dir', '\\tsubdir1', '\\t\\tfile1.ext', '\\t\\tsubsubdir1', '\\tsubdir2', '\\t\\tsubsubdir2', '\\t\\t\\tfile2.ext']\n"
     ]
    }
   ],
   "source": [
    "print (test.split('\\n'))"
   ]
  },
  {
   "cell_type": "code",
   "execution_count": 15,
   "metadata": {
    "collapsed": true
   },
   "outputs": [],
   "source": [
    "def lengthLongestPath(input):\n",
    "    path, maxLen = [], 0\n",
    "    print \n",
    "    for s in input.split('\\n'):\n",
    "        print (\"----------------------------------------------\")\n",
    "        print (\"current s is {}\".format(s))\n",
    "        print (\"current path is {}\".format(path))\n",
    "        path[s.count('\\t'):] = [len(s.strip('\\t'))] ####### This is important\n",
    "        print (\"current path is {}\".format(path))\n",
    "        maxLen = max(maxLen, sum(path)+len(path)-1 if '.' in s else 0)\n",
    "        print (\"current maxLen is {}\".format(maxLen))\n",
    "    return maxLen"
   ]
  },
  {
   "cell_type": "code",
   "execution_count": 16,
   "metadata": {},
   "outputs": [
    {
     "name": "stdout",
     "output_type": "stream",
     "text": [
      "----------------------------------------------\n",
      "current s is dir\n",
      "current path is []\n",
      "current path is [3]\n",
      "current maxLen is 0\n",
      "----------------------------------------------\n",
      "current s is \tsubdir1\n",
      "current path is [3]\n",
      "current path is [3, 7]\n",
      "current maxLen is 0\n",
      "----------------------------------------------\n",
      "current s is \t\tfile1.ext\n",
      "current path is [3, 7]\n",
      "current path is [3, 7, 9]\n",
      "current maxLen is 21\n",
      "----------------------------------------------\n",
      "current s is \t\tsubsubdir1\n",
      "current path is [3, 7, 9]\n",
      "current path is [3, 7, 10]\n",
      "current maxLen is 21\n",
      "----------------------------------------------\n",
      "current s is \tsubdir2\n",
      "current path is [3, 7, 10]\n",
      "current path is [3, 7]\n",
      "current maxLen is 21\n",
      "----------------------------------------------\n",
      "current s is \t\tsubsubdir2\n",
      "current path is [3, 7]\n",
      "current path is [3, 7, 10]\n",
      "current maxLen is 21\n",
      "----------------------------------------------\n",
      "current s is \t\t\tfile2.ext\n",
      "current path is [3, 7, 10]\n",
      "current path is [3, 7, 10, 9]\n",
      "current maxLen is 32\n"
     ]
    },
    {
     "data": {
      "text/plain": [
       "32"
      ]
     },
     "execution_count": 16,
     "metadata": {},
     "output_type": "execute_result"
    }
   ],
   "source": [
    "lengthLongestPath(test)"
   ]
  }
 ],
 "metadata": {
  "kernelspec": {
   "display_name": "Python 3",
   "language": "python",
   "name": "python3"
  },
  "language_info": {
   "codemirror_mode": {
    "name": "ipython",
    "version": 3
   },
   "file_extension": ".py",
   "mimetype": "text/x-python",
   "name": "python",
   "nbconvert_exporter": "python",
   "pygments_lexer": "ipython3",
   "version": "3.6.0"
  }
 },
 "nbformat": 4,
 "nbformat_minor": 2
}
