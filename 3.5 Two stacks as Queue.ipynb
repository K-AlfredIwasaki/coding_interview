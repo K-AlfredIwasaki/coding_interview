{
 "cells": [
  {
   "cell_type": "code",
   "execution_count": 23,
   "metadata": {
    "collapsed": false
   },
   "outputs": [],
   "source": [
    "class Stack():\n",
    "    \n",
    "    def __init__(self):\n",
    "        self.stackList = []\n",
    "        self.size = 0\n",
    "        \n",
    "    def push(self, item):\n",
    "        self.stackList.append(item)\n",
    "        self.size += 1\n",
    "    \n",
    "    def pop(self):\n",
    "        self.size += -1\n",
    "        return self.stackList.pop()\n",
    "    \n",
    "    def __str__(self):\n",
    "        return \"->\".join([str(i) for i in self.stackList])\n",
    "    \n",
    "    def peek(self):\n",
    "        return self.stackList[self.size-1]\n",
    "\n",
    "class MyQueue():\n",
    "    \n",
    "    def __init__(self):\n",
    "        self.front_stack = Stack()\n",
    "        self.back_stack = Stack()\n",
    "    \n",
    "    def eq(self, data):\n",
    "        self.back_stack.push(data)\n",
    "        \n",
    "    def dq(self):\n",
    "        if self.front_stack.size == 0:\n",
    "            self.rebuild()\n",
    "        return self.front_stack.pop()\n",
    "            \n",
    "    def peek_front(self):\n",
    "        if self.front_stack.size == 0:\n",
    "            self.rebuild()\n",
    "        return self.front_stack.peek()\n",
    "        \n",
    "    def rebuild(self):\n",
    "        while self.back_stack.size > 0:\n",
    "            self.front_stack.push(self.back_stack.pop())\n",
    "        \n",
    "        "
   ]
  },
  {
   "cell_type": "code",
   "execution_count": 24,
   "metadata": {
    "collapsed": false
   },
   "outputs": [
    {
     "name": "stdout",
     "output_type": "stream",
     "text": [
      "front stack is \n",
      "back stack is 17->10->12->13->3\n",
      "17\n",
      "10\n",
      "10\n",
      "12\n",
      "front stack is 3->13->12\n",
      "back stack is \n",
      "12\n",
      "front stack is 3->13\n",
      "back stack is 5->6->7\n"
     ]
    }
   ],
   "source": [
    "a = MyQueue()\n",
    "from random import randint\n",
    "for i in [17, 10, 12, 13, 3]:\n",
    "    a.eq(i)\n",
    "print (\"front stack is {}\".format(a.front_stack))\n",
    "print (\"back stack is {}\".format(a.back_stack))\n",
    "print (a.dq())\n",
    "print (a.peek_front())\n",
    "print (a.dq())\n",
    "print (a.peek_front())\n",
    "\n",
    "print (\"front stack is {}\".format(a.front_stack))\n",
    "print (\"back stack is {}\".format(a.back_stack))\n",
    "a.eq(5)\n",
    "a.eq(6)\n",
    "a.eq(7)\n",
    "print(a.dq())\n",
    "print (\"front stack is {}\".format(a.front_stack))\n",
    "print (\"back stack is {}\".format(a.back_stack))"
   ]
  }
 ],
 "metadata": {
  "kernelspec": {
   "display_name": "Python 3",
   "language": "python",
   "name": "python3"
  },
  "language_info": {
   "codemirror_mode": {
    "name": "ipython",
    "version": 3
   },
   "file_extension": ".py",
   "mimetype": "text/x-python",
   "name": "python",
   "nbconvert_exporter": "python",
   "pygments_lexer": "ipython3",
   "version": "3.6.0"
  }
 },
 "nbformat": 4,
 "nbformat_minor": 2
}
