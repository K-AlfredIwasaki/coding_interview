{
 "cells": [
  {
   "cell_type": "code",
   "execution_count": null,
   "metadata": {
    "collapsed": true
   },
   "outputs": [],
   "source": [
    "# sudo code -- two parts\n",
    "\n",
    "########### step one:\n",
    "# def _find_words_rec(self, i, j, current, words):\n",
    "# generate all the word combinations starting from grid[i][j]\n",
    "# key is recursion with all neighbors\n",
    "# thus we need small function to get all neighbor indices given starting index (i, j)\n",
    "\n",
    "########### step step:\n",
    "# def find_all_words(self):\n",
    "# run def_find_words_rec at all the positions in grid --- thus two for loop (row x col)\n"
   ]
  },
  {
   "cell_type": "code",
   "execution_count": 77,
   "metadata": {
    "collapsed": true
   },
   "outputs": [],
   "source": [
    "class Boggle():\n",
    "  #code assumes that both dimensions of grid are same\n",
    "    def __init__(self, grid, dictionary):\n",
    "        self.grid = grid\n",
    "        self.dictionary = dictionary\n",
    "        self.state = [[False for x in range(len(grid))] \\\n",
    "                      for y in range(len(grid))]\n",
    "\n",
    "    def find_all_nbrs(self, x, y): \n",
    "        # find indices of all neighbors\n",
    "        nbrs = []\n",
    "        for i in range(max(0, x - 1), min(x + 2, len(self.grid))):\n",
    "            for j in range(max(0, y - 1), min(y + 2, len(self.grid))):\n",
    "                if i == x and j == y:\n",
    "                    continue          \n",
    "                if self.state[i][j] == False:\n",
    "                    nbrs.append([i, j])\n",
    "        return nbrs\n",
    "\n",
    "    def find_words_rec(self, i, j, current, words):\n",
    "\n",
    "        ### base case if current is found in dict => done\n",
    "        if len(current) > 0 and (current in self.dictionary):\n",
    "            words.add(current)\n",
    "\n",
    "    # we can really speed up our algorithm if we have prefix method available\n",
    "    # for our dictionary by using code like below\n",
    "    \n",
    "    #if not dictionary.is_prefix(current):\n",
    "    #  // if current word is not prefix of any word in dictionary\n",
    "    #  // we don't need to continue with search\n",
    "    #  return\n",
    "\n",
    "        nbrs = self.find_all_nbrs(i, j)\n",
    "        \n",
    "        ### create recursion with all neighbors\n",
    "        for pr in nbrs:  \n",
    "            first = pr[0]\n",
    "            second = pr[1]  \n",
    "            \n",
    "            # update\n",
    "            current += self.grid[first][second]\n",
    "            self.state[first][second] = True\n",
    "            \n",
    "            self.find_words_rec(first, second, current, words)\n",
    "            \n",
    "            # back tracking\n",
    "            current = current[:-1] #equivalent to current = current[0:len(current) - 1]\n",
    "            self.state[first][second] = False\n",
    "\n",
    "    def find_all_words(self):\n",
    "        words = set([])\n",
    "        for i in range(0, len(self.grid)):\n",
    "            for j in range(0, len(self.grid)):\n",
    "                current_word = \"\"\n",
    "                self.find_words_rec(i, j, current_word, words)\n",
    "        return words"
   ]
  },
  {
   "cell_type": "code",
   "execution_count": 80,
   "metadata": {
    "scrolled": true
   },
   "outputs": [],
   "source": [
    "b = Boggle(matrix, [\"cat\"])"
   ]
  },
  {
   "cell_type": "code",
   "execution_count": 81,
   "metadata": {},
   "outputs": [
    {
     "data": {
      "text/plain": [
       "[[0, 0], [0, 1], [0, 2], [1, 0], [1, 2], [2, 0], [2, 1], [2, 2]]"
      ]
     },
     "execution_count": 81,
     "metadata": {},
     "output_type": "execute_result"
    }
   ],
   "source": [
    "b.find_all_nbrs(1, 1)"
   ]
  },
  {
   "cell_type": "code",
   "execution_count": null,
   "metadata": {
    "collapsed": true
   },
   "outputs": [],
   "source": []
  },
  {
   "cell_type": "code",
   "execution_count": null,
   "metadata": {
    "collapsed": true
   },
   "outputs": [],
   "source": []
  },
  {
   "cell_type": "code",
   "execution_count": null,
   "metadata": {
    "collapsed": true
   },
   "outputs": [],
   "source": []
  },
  {
   "cell_type": "code",
   "execution_count": 1,
   "metadata": {
    "collapsed": true
   },
   "outputs": [],
   "source": [
    "matrix = [[\"c\", \"a\", \"t\"],\n",
    "         [\"r\", \"r\", \"e\"],\n",
    "         [\"t\", \"o\", \"n\"]]"
   ]
  },
  {
   "cell_type": "code",
   "execution_count": 2,
   "metadata": {
    "collapsed": true
   },
   "outputs": [],
   "source": [
    "def first_char_search(matrix, word):\n",
    "    \n",
    "    for i in range(len(matrix)): # rows\n",
    "        for j in range(len(matrix[0])): # cols\n",
    "            if matrix[i][j] == word[0]:\n",
    "                return (i, j)\n",
    "    return False"
   ]
  },
  {
   "cell_type": "code",
   "execution_count": 3,
   "metadata": {},
   "outputs": [
    {
     "data": {
      "text/plain": [
       "(0, 0)"
      ]
     },
     "execution_count": 3,
     "metadata": {},
     "output_type": "execute_result"
    }
   ],
   "source": [
    "first_char_search(matrix, \"cat\")"
   ]
  },
  {
   "cell_type": "code",
   "execution_count": 58,
   "metadata": {
    "collapsed": true
   },
   "outputs": [],
   "source": [
    "def word_matching(matrix, word):\n",
    "    # find the first char in matrix\n",
    "    starting_idx = first_char_search(matrix, word)\n",
    "    \n",
    "    if not starting_idx:\n",
    "        return False\n",
    "    \n",
    "    return word_matching_recursion(matrix, word, starting_idx, 1)    "
   ]
  },
  {
   "cell_type": "code",
   "execution_count": 59,
   "metadata": {},
   "outputs": [],
   "source": [
    "def word_matching_recursion(matrix, word, starting_idx, count):\n",
    "    # base\n",
    "    if count == len(word):\n",
    "        return True\n",
    "    print (\"current search char is {}\".format(word[count]))\n",
    "    \n",
    "    # find word[count] in adjacent of starting_idx:\n",
    "    i = starting_idx[0]\n",
    "    j = starting_idx[1]\n",
    "    print (i, j)\n",
    "    adj_row_s = i - 1 if i - 1 >= 0 else i\n",
    "    adj_row_e = i + 1 if i + 1 < len(matrix) else i\n",
    "    adj_col_s = j - 1 if i - 1 >= 0 else i\n",
    "    adj_col_e = j + 1 if i - 1 < len(matrix[0]) else i\n",
    "    print (adj_row_s, adj_row_e)\n",
    "    print (adj_col_s, adj_col_e)\n",
    "    \n",
    "    for row in range(adj_row_s, adj_row_e+1):\n",
    "        for col in range(adj_col_s, adj_col_e+1):\n",
    "            print (matrix[row][col] == word[count])\n",
    "            print (matrix[row][col])\n",
    "            if matrix[row][col] == word[count] and (row != i or col != j):\n",
    "                print (\"test\")\n",
    "                print (row, col)\n",
    "                starting_idx = (row, col)\n",
    "                return word_matching_recursion(matrix, word, starting_idx, count+1)\n",
    "            \n",
    "    return False"
   ]
  },
  {
   "cell_type": "code",
   "execution_count": 60,
   "metadata": {},
   "outputs": [
    {
     "name": "stdout",
     "output_type": "stream",
     "text": [
      "current search char is a\n",
      "0 0\n",
      "0 1\n",
      "0 1\n",
      "False\n",
      "c\n",
      "True\n",
      "a\n",
      "test\n",
      "0 1\n",
      "current search char is t\n",
      "0 1\n",
      "0 1\n",
      "0 2\n",
      "False\n",
      "c\n",
      "False\n",
      "a\n",
      "True\n",
      "t\n",
      "test\n",
      "0 2\n"
     ]
    },
    {
     "data": {
      "text/plain": [
       "True"
      ]
     },
     "execution_count": 60,
     "metadata": {},
     "output_type": "execute_result"
    }
   ],
   "source": [
    "word_matching(matrix, \"cat\")"
   ]
  }
 ],
 "metadata": {
  "kernelspec": {
   "display_name": "Python 3",
   "language": "python",
   "name": "python3"
  },
  "language_info": {
   "codemirror_mode": {
    "name": "ipython",
    "version": 3
   },
   "file_extension": ".py",
   "mimetype": "text/x-python",
   "name": "python",
   "nbconvert_exporter": "python",
   "pygments_lexer": "ipython3",
   "version": "3.6.0"
  }
 },
 "nbformat": 4,
 "nbformat_minor": 2
}
