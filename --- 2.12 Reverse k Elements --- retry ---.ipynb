{
 "cells": [
  {
   "cell_type": "markdown",
   "metadata": {},
   "source": [
    "# Problem\n",
    "\n",
    "Given a singly linked list and an integer 'k', reverse every 'k' elements. If k <= 1, then input list is unchanged. If k >= n (n is the length of linked list), then reverse the whole linked list."
   ]
  },
  {
   "cell_type": "code",
   "execution_count": 22,
   "metadata": {
    "scrolled": false
   },
   "outputs": [
    {
     "name": "stdout",
     "output_type": "stream",
     "text": [
      "29=>23=>13=>11=>12=>27\n",
      "13=>11=>12=>27\n"
     ]
    }
   ],
   "source": [
    "from data_structure.linkedlist_simple import *\n",
    "\n",
    "l = LinkedList(29)\n",
    "l.next = LinkedList(23)\n",
    "l.next.next = LinkedList(13)\n",
    "l.next.next.next = LinkedList(11)\n",
    "l.next.next.next.next = LinkedList(12)\n",
    "l.next.next.next.next.next = LinkedList(27)\n",
    "print (l)\n",
    "\n",
    "t.next = LinkedList(11)\n",
    "t.next.next = LinkedList(12)\n",
    "t.next.next.next = LinkedList(27)\n",
    "print (t)"
   ]
  },
  {
   "cell_type": "code",
   "execution_count": 23,
   "metadata": {
    "collapsed": true
   },
   "outputs": [],
   "source": [
    "def get_length(head):\n",
    "    n = 0\n",
    "    while head != None:\n",
    "        head = head.next\n",
    "        n += 1\n",
    "    \n",
    "    return n "
   ]
  },
  {
   "cell_type": "code",
   "execution_count": 24,
   "metadata": {
    "collapsed": true
   },
   "outputs": [],
   "source": [
    "def find_insertion_point(a, b):\n",
    "    a_len = get_length(a)\n",
    "    b_len = get_length(b)\n",
    "    \n",
    "    gap = a_len - b_len\n",
    "    if gap > 0:\n",
    "        while gap > 0:\n",
    "            a = a.next\n",
    "            gap += -1\n",
    "    elif gap < 0:\n",
    "        gap = - gap\n",
    "        while gap > 0:\n",
    "            b = b.next\n",
    "            gap += -1\n",
    "    \n",
    "    found = False\n",
    "    while a != None:\n",
    "        \n",
    "        # not found\n",
    "        if not found and a.content == b.content:\n",
    "            found = True\n",
    "            result = a.content\n",
    "            \n",
    "        ###  found\n",
    "        elif found and a.content != b.content:\n",
    "            return False\n",
    "           \n",
    "        a = a.next\n",
    "        b = b.next\n",
    "        \n",
    "    return (result, True)\n",
    "            \n",
    "    \n",
    "        "
   ]
  },
  {
   "cell_type": "code",
   "execution_count": 25,
   "metadata": {},
   "outputs": [
    {
     "data": {
      "text/plain": [
       "(13, True)"
      ]
     },
     "execution_count": 25,
     "metadata": {},
     "output_type": "execute_result"
    }
   ],
   "source": [
    "find_insertion_point(l, t)"
   ]
  }
 ],
 "metadata": {
  "kernelspec": {
   "display_name": "Python 3",
   "language": "python",
   "name": "python3"
  },
  "language_info": {
   "codemirror_mode": {
    "name": "ipython",
    "version": 3
   },
   "file_extension": ".py",
   "mimetype": "text/x-python",
   "name": "python",
   "nbconvert_exporter": "python",
   "pygments_lexer": "ipython3",
   "version": "3.6.0"
  }
 },
 "nbformat": 4,
 "nbformat_minor": 2
}
