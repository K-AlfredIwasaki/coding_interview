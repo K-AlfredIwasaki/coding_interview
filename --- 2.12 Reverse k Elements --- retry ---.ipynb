{
 "cells": [
  {
   "cell_type": "markdown",
   "metadata": {},
   "source": [
    "Given a singly linked list and an integer 'k', reverse every 'k' elements. If k <= 1, then input list is unchanged. If k >= n (n is the length of linked list), then reverse the whole linked list."
   ]
  },
  {
   "cell_type": "code",
   "execution_count": 20,
   "metadata": {
    "scrolled": true
   },
   "outputs": [
    {
     "name": "stdout",
     "output_type": "stream",
     "text": [
      "12=>10=>11=>2=>4=>22=>45=>128\n"
     ]
    }
   ],
   "source": [
    "from data_structure.linkedlist_simple import *\n",
    "from data_structure.stack import *\n",
    "\n",
    "l = LinkedList(12)\n",
    "l.next = LinkedList(10)\n",
    "l.next.next = LinkedList(11)\n",
    "l.next.next.next = LinkedList(2)\n",
    "l.next.next.next.next = LinkedList(4)\n",
    "l.next.next.next.next.next = LinkedList(22)\n",
    "l.next.next.next.next.next.next = LinkedList(45)\n",
    "l.next.next.next.next.next.next.next = LinkedList(128)\n",
    "\n",
    "print (l)"
   ]
  },
  {
   "cell_type": "code",
   "execution_count": 21,
   "metadata": {
    "collapsed": true
   },
   "outputs": [],
   "source": [
    "def reverse_k_nodes(l_lst, k):\n",
    "    \n",
    "    if k <= 1 or l_lst == None:\n",
    "        return l_lst\n",
    "    \n",
    "    result = None\n",
    "    prev_tail = None\n",
    "    \n",
    "    while l_lst != None:\n",
    "        current_head = None\n",
    "        current_tail = l_lst\n",
    "        \n",
    "        # this loop is for one set of k rotations\n",
    "        n = k\n",
    "        while l_lst != None and n > 0:\n",
    "            \n",
    "            # move temp to the head\n",
    "            temp = l_lst.next\n",
    "            l_lst.next = current_head\n",
    "            \n",
    "            # update markers - 1 current_head\n",
    "            current_head = l_lst\n",
    "            \n",
    "            # update markers - 2 l_lst\n",
    "            l_lst = temp\n",
    "            \n",
    "            # update markers - 3 n\n",
    "            n += -1 ################### Do not forget\n",
    "            \n",
    "        \n",
    "        # once the first loop is done\n",
    "        if result == None:\n",
    "            result = current_head ################### Do not forget\n",
    "            \n",
    "        if prev_tail != None:\n",
    "            prev_tail.next = current_head\n",
    "        \n",
    "        \n",
    "        prev_tail = current_tail\n",
    "        \n",
    "    return result\n",
    "    "
   ]
  },
  {
   "cell_type": "code",
   "execution_count": 22,
   "metadata": {},
   "outputs": [
    {
     "name": "stdout",
     "output_type": "stream",
     "text": [
      "11=>10=>12=>22=>4=>2=>128=>45\n"
     ]
    }
   ],
   "source": [
    "print (reverse_k_nodes(l, 3))"
   ]
  }
 ],
 "metadata": {
  "kernelspec": {
   "display_name": "Python 3",
   "language": "python",
   "name": "python3"
  },
  "language_info": {
   "codemirror_mode": {
    "name": "ipython",
    "version": 3
   },
   "file_extension": ".py",
   "mimetype": "text/x-python",
   "name": "python",
   "nbconvert_exporter": "python",
   "pygments_lexer": "ipython3",
   "version": "3.6.0"
  }
 },
 "nbformat": 4,
 "nbformat_minor": 2
}
