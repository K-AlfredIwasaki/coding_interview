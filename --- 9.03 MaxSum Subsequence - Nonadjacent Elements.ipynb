{
 "cells": [
  {
   "cell_type": "markdown",
   "metadata": {},
   "source": [
    "# Problem\n",
    "\n",
    "Find an efficient algorithm to find maximum sum of a subsequence in an array such that no consecutive elements are part of this subsequence.\n",
    "\n",
    "## next time, store indices for the maximum sum subsequence!"
   ]
  },
  {
   "cell_type": "code",
   "execution_count": 12,
   "metadata": {
    "collapsed": true
   },
   "outputs": [],
   "source": [
    "arr = [1, -1, 6, -4, 2, 2]"
   ]
  },
  {
   "cell_type": "code",
   "execution_count": 29,
   "metadata": {
    "collapsed": true
   },
   "outputs": [],
   "source": [
    "def find_max_sum_nonadjacent(arr):\n",
    "    if len(arr) < 1:\n",
    "        return 0\n",
    "    elif (len(arr) == 1):\n",
    "        return arr[0]\n",
    "    \n",
    "    n_1 = 0\n",
    "    n_2 = 0\n",
    "    result = 0\n",
    "    \n",
    "    for num in arr:        \n",
    "        # update result\n",
    "        result = max(n_1, n_2 + num)\n",
    "        print (\"result is {}\".format(result))\n",
    "\n",
    "        # update pointers\n",
    "        n_2 = n_1\n",
    "        n_1 = result\n",
    "        \n",
    "    return result\n",
    "        \n",
    "        \n",
    "    "
   ]
  },
  {
   "cell_type": "code",
   "execution_count": 30,
   "metadata": {},
   "outputs": [
    {
     "name": "stdout",
     "output_type": "stream",
     "text": [
      "result is 1\n",
      "result is 1\n",
      "result is 7\n",
      "result is 7\n",
      "result is 9\n",
      "result is 9\n"
     ]
    },
    {
     "data": {
      "text/plain": [
       "9"
      ]
     },
     "execution_count": 30,
     "metadata": {},
     "output_type": "execute_result"
    }
   ],
   "source": [
    "find_max_sum_nonadjacent(arr)"
   ]
  }
 ],
 "metadata": {
  "kernelspec": {
   "display_name": "Python 3",
   "language": "python",
   "name": "python3"
  },
  "language_info": {
   "codemirror_mode": {
    "name": "ipython",
    "version": 3
   },
   "file_extension": ".py",
   "mimetype": "text/x-python",
   "name": "python",
   "nbconvert_exporter": "python",
   "pygments_lexer": "ipython3",
   "version": "3.6.0"
  }
 },
 "nbformat": 4,
 "nbformat_minor": 2
}
