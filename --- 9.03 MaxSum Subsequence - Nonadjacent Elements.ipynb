{
 "cells": [
  {
   "cell_type": "markdown",
   "metadata": {},
   "source": [
    "# Problem\n",
    "\n",
    "Find an efficient algorithm to find maximum sum of a subsequence in an array such that no consecutive elements are part of this subsequence.\n",
    "\n",
    "## next time, store indices for the maximum sum subsequence!"
   ]
  },
  {
   "cell_type": "code",
   "execution_count": 3,
   "metadata": {
    "collapsed": true
   },
   "outputs": [],
   "source": [
    "arr = [1, -1, 6, -4, 2, 2]"
   ]
  },
  {
   "cell_type": "code",
   "execution_count": 4,
   "metadata": {
    "collapsed": true
   },
   "outputs": [],
   "source": [
    "# time linear\n",
    "# memory constant\n",
    "\n",
    "def find_max_sum_nonadjacent(arr):\n",
    "    if len(arr) < 1:\n",
    "        return 0\n",
    "    elif (len(arr) == 1):\n",
    "        return arr[0]\n",
    "    \n",
    "    n_1 = 0\n",
    "    n_2 = 0\n",
    "    result = 0\n",
    "    \n",
    "    for num in arr:        \n",
    "        # update result\n",
    "        result = max(n_1, n_2 + num)\n",
    "        print (\"result is {}\".format(result))\n",
    "\n",
    "        # update pointers\n",
    "        n_2 = n_1\n",
    "        n_1 = result\n",
    "        \n",
    "    return result\n",
    "        \n",
    "        \n",
    "    "
   ]
  },
  {
   "cell_type": "code",
   "execution_count": 5,
   "metadata": {
    "scrolled": false
   },
   "outputs": [
    {
     "name": "stdout",
     "output_type": "stream",
     "text": [
      "result is 1\n",
      "result is 1\n",
      "result is 7\n",
      "result is 7\n",
      "result is 9\n",
      "result is 9\n"
     ]
    },
    {
     "data": {
      "text/plain": [
       "9"
      ]
     },
     "execution_count": 5,
     "metadata": {},
     "output_type": "execute_result"
    }
   ],
   "source": [
    "find_max_sum_nonadjacent(arr)"
   ]
  },
  {
   "cell_type": "code",
   "execution_count": 6,
   "metadata": {
    "collapsed": true
   },
   "outputs": [],
   "source": [
    "# time linear\n",
    "# memory linear\n",
    "\n",
    "def max_sum(array):\n",
    "    if len(array) < 1:\n",
    "        return 0\n",
    "    \n",
    "    elif len(array) == 1:\n",
    "        return array[0]\n",
    "    \n",
    "    global_max = [array[0], max(array[0], array[1])]\n",
    "    \n",
    "    for i in range(2, len(array)):\n",
    "        current_max = max(global_max[i-2] + array[i], global_max[i-1])\n",
    "        global_max.append(current_max)\n",
    "        \n",
    "        \n",
    "    return global_max[len(array)-1]"
   ]
  },
  {
   "cell_type": "code",
   "execution_count": 8,
   "metadata": {},
   "outputs": [
    {
     "data": {
      "text/plain": [
       "9"
      ]
     },
     "execution_count": 8,
     "metadata": {},
     "output_type": "execute_result"
    }
   ],
   "source": [
    "max_sum(arr)"
   ]
  }
 ],
 "metadata": {
  "kernelspec": {
   "display_name": "Python 3",
   "language": "python",
   "name": "python3"
  },
  "language_info": {
   "codemirror_mode": {
    "name": "ipython",
    "version": 3
   },
   "file_extension": ".py",
   "mimetype": "text/x-python",
   "name": "python",
   "nbconvert_exporter": "python",
   "pygments_lexer": "ipython3",
   "version": "3.6.0"
  }
 },
 "nbformat": 4,
 "nbformat_minor": 2
}
