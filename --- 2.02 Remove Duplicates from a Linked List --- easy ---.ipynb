{
 "cells": [
  {
   "cell_type": "markdown",
   "metadata": {},
   "source": [
    "# Problem\n",
    "\n",
    "Remove duplicate nodes from linked list of integers while keeping only the first occurrence of duplicates."
   ]
  },
  {
   "cell_type": "code",
   "execution_count": 4,
   "metadata": {
    "scrolled": false
   },
   "outputs": [
    {
     "name": "stdout",
     "output_type": "stream",
     "text": [
      "12=>10=>10=>2=>4=>22=>4=>128\n"
     ]
    }
   ],
   "source": [
    "from data_structure.linkedlist_simple import *\n",
    "\n",
    "l = LinkedList(12)\n",
    "l.next = LinkedList(10)\n",
    "l.next.next = LinkedList(10)\n",
    "l.next.next.next = LinkedList(2)\n",
    "l.next.next.next.next = LinkedList(4)\n",
    "l.next.next.next.next.next = LinkedList(22)\n",
    "l.next.next.next.next.next.next = LinkedList(4)\n",
    "l.next.next.next.next.next.next.next = LinkedList(128)\n",
    "\n",
    "print (l)"
   ]
  },
  {
   "cell_type": "code",
   "execution_count": 13,
   "metadata": {
    "collapsed": true
   },
   "outputs": [],
   "source": [
    "def remove_duplicates(head):\n",
    "    current = head\n",
    "    d = {}\n",
    "    d[current.content] = True\n",
    "    \n",
    "    while current.next != None:\n",
    "        \n",
    "        if current.next.content in d.keys():\n",
    "            current.next = current.next.next\n",
    "            \n",
    "        else:\n",
    "            d[current.next.content] = True\n",
    "            current = current.next\n",
    "        \n",
    "    return head\n",
    "        "
   ]
  },
  {
   "cell_type": "code",
   "execution_count": 14,
   "metadata": {},
   "outputs": [
    {
     "name": "stdout",
     "output_type": "stream",
     "text": [
      "12=>10=>2=>4=>22=>128\n"
     ]
    }
   ],
   "source": [
    "print (remove_duplicates(l))"
   ]
  },
  {
   "cell_type": "code",
   "execution_count": 5,
   "metadata": {
    "collapsed": true
   },
   "outputs": [],
   "source": [
    "# use hash table\n",
    "# time O(n), memory O(n)\n",
    "# use previous and current pointer\n",
    "\n",
    "def remove_duplicate2(head):\n",
    "    # init\n",
    "    dic = {}\n",
    "    current = head\n",
    "    previous = None\n",
    "    \n",
    "    while current != None:\n",
    "        if current.content not in dic.keys():\n",
    "            dic[current.content] = True\n",
    "            \n",
    "        else:\n",
    "            # skip the duplicate\n",
    "            previous.next = current.next\n",
    "            current = previous\n",
    "            \n",
    "        previous = current\n",
    "        current = current.next\n",
    "        \n",
    "    return head"
   ]
  },
  {
   "cell_type": "code",
   "execution_count": 6,
   "metadata": {},
   "outputs": [
    {
     "name": "stdout",
     "output_type": "stream",
     "text": [
      "12=>10=>2=>4=>22=>128\n"
     ]
    }
   ],
   "source": [
    "print (remove_duplicate2(l))"
   ]
  }
 ],
 "metadata": {
  "kernelspec": {
   "display_name": "Python 3",
   "language": "python",
   "name": "python3"
  },
  "language_info": {
   "codemirror_mode": {
    "name": "ipython",
    "version": 3
   },
   "file_extension": ".py",
   "mimetype": "text/x-python",
   "name": "python",
   "nbconvert_exporter": "python",
   "pygments_lexer": "ipython3",
   "version": "3.6.0"
  }
 },
 "nbformat": 4,
 "nbformat_minor": 2
}
