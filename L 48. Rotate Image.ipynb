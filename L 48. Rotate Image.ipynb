{
 "cells": [
  {
   "cell_type": "markdown",
   "metadata": {},
   "source": [
    "https://discuss.leetcode.com/topic/6796/a-common-method-to-rotate-the-image"
   ]
  },
  {
   "cell_type": "code",
   "execution_count": 25,
   "metadata": {
    "collapsed": true
   },
   "outputs": [],
   "source": [
    "test = [[1, 2, 3],\n",
    "        [4, 5, 6],\n",
    "        [7, 8, 9]]"
   ]
  },
  {
   "cell_type": "code",
   "execution_count": 22,
   "metadata": {
    "collapsed": true
   },
   "outputs": [],
   "source": [
    "def rotate(grid):\n",
    "    # reverse up to down\n",
    "    length = len(grid)\n",
    "    start = 0\n",
    "    end =  length - 1\n",
    "    while start < end:\n",
    "        grid[start], grid[end] = grid[end], grid[start]\n",
    "        start += 1\n",
    "        end += -1  \n",
    "        \n",
    "    print (grid)\n",
    "        \n",
    "    # swap symmetry\n",
    "    for i in range(length):\n",
    "        for j in range(i+1, length):\n",
    "            grid[i][j], grid[j][i] = grid[j][i], grid[i][j]\n",
    "            \n",
    "            \n",
    "    return grid"
   ]
  },
  {
   "cell_type": "code",
   "execution_count": 23,
   "metadata": {},
   "outputs": [
    {
     "name": "stdout",
     "output_type": "stream",
     "text": [
      "[[7, 8, 9], [4, 5, 6], [1, 2, 3]]\n"
     ]
    },
    {
     "data": {
      "text/plain": [
       "[[7, 4, 1], [8, 5, 2], [9, 6, 3]]"
      ]
     },
     "execution_count": 23,
     "metadata": {},
     "output_type": "execute_result"
    }
   ],
   "source": [
    "rotate(test)"
   ]
  },
  {
   "cell_type": "code",
   "execution_count": 35,
   "metadata": {
    "collapsed": true
   },
   "outputs": [],
   "source": [
    "test = [[1, 2, 3],\n",
    "        [4, 5, 6],\n",
    "        [7, 8, 9]]"
   ]
  },
  {
   "cell_type": "code",
   "execution_count": 36,
   "metadata": {
    "collapsed": true
   },
   "outputs": [],
   "source": [
    "def anti_rotate(grid):\n",
    "    # reverse left to right\n",
    "    length = len(grid)\n",
    "    \n",
    "    for i in range(length):\n",
    "        start = 0\n",
    "        end =  length - 1\n",
    "        while start < end:\n",
    "            grid[i][start], grid[i][end] = grid[i][end], grid[i][start]\n",
    "            start += 1\n",
    "            end += -1\n",
    "\n",
    "    print (grid)\n",
    "        \n",
    "    # swap symmetry\n",
    "    for i in range(length):\n",
    "        for j in range(i+1, length):\n",
    "            grid[i][j], grid[j][i] = grid[j][i], grid[i][j]\n",
    "            \n",
    "            \n",
    "    return grid"
   ]
  },
  {
   "cell_type": "code",
   "execution_count": 37,
   "metadata": {},
   "outputs": [
    {
     "name": "stdout",
     "output_type": "stream",
     "text": [
      "[[3, 2, 1], [6, 5, 4], [9, 8, 7]]\n"
     ]
    },
    {
     "data": {
      "text/plain": [
       "[[3, 6, 9], [2, 5, 8], [1, 4, 7]]"
      ]
     },
     "execution_count": 37,
     "metadata": {},
     "output_type": "execute_result"
    }
   ],
   "source": [
    "anti_rotate(test)"
   ]
  }
 ],
 "metadata": {
  "kernelspec": {
   "display_name": "Python 3",
   "language": "python",
   "name": "python3"
  },
  "language_info": {
   "codemirror_mode": {
    "name": "ipython",
    "version": 3
   },
   "file_extension": ".py",
   "mimetype": "text/x-python",
   "name": "python",
   "nbconvert_exporter": "python",
   "pygments_lexer": "ipython3",
   "version": "3.6.0"
  }
 },
 "nbformat": 4,
 "nbformat_minor": 2
}
