{
 "cells": [
  {
   "cell_type": "code",
   "execution_count": 1,
   "metadata": {
    "collapsed": false
   },
   "outputs": [
    {
     "data": {
      "text/plain": [
       "'\\nGiven a circular linked list, implement an algorithm\\nwhich returns the node at the beginning of the loop\\n'"
      ]
     },
     "execution_count": 1,
     "metadata": {},
     "output_type": "execute_result"
    }
   ],
   "source": [
    "\n",
    "\n",
    "\"\"\"\n",
    "Given a circular linked list, implement an algorithm\n",
    "which returns the node at the beginning of the loop\n",
    "\"\"\""
   ]
  },
  {
   "cell_type": "code",
   "execution_count": 14,
   "metadata": {
    "collapsed": true
   },
   "outputs": [],
   "source": [
    "class Node():\n",
    "    \n",
    "    def __init__(self):\n",
    "        self.data = None\n",
    "        self.next = None\n",
    "\n",
    "class LinkedList():\n",
    "    \n",
    "    def __init__(self):\n",
    "        self.head = None\n",
    "        self.tail = None\n",
    "        \n",
    "    def __str__(self):\n",
    "        result = []\n",
    "        current = self.head\n",
    "        while current != None:\n",
    "            result.append(str(current.data))\n",
    "            current = current.next\n",
    "        return \"->\".join(result)\n",
    "    \n",
    "    def get(self, idx):\n",
    "        current = self.head\n",
    "        count = 0\n",
    "        for i in range(idx-1):\n",
    "            current = current.next\n",
    "        return current\n",
    "        \n",
    "    def add(self, value):\n",
    "        node = Node()\n",
    "        node.data = value\n",
    "        if self.head == None:\n",
    "            self.head = node\n",
    "            self.tail = node\n",
    "            \n",
    "        else:\n",
    "            self.tail.next = node\n",
    "            self.tail = node"
   ]
  },
  {
   "cell_type": "code",
   "execution_count": 15,
   "metadata": {
    "collapsed": false
   },
   "outputs": [
    {
     "name": "stdout",
     "output_type": "stream",
     "text": [
      "1->2->3->4->5->6->7->8->9->10\n"
     ]
    }
   ],
   "source": [
    "l1 = LinkedList()\n",
    "for i in range(1, 11):\n",
    "    l1.add(i)\n",
    "    \n",
    "print (l1)"
   ]
  },
  {
   "cell_type": "code",
   "execution_count": 20,
   "metadata": {
    "collapsed": false
   },
   "outputs": [],
   "source": [
    "l1.tail.next = l1.get(5)"
   ]
  },
  {
   "cell_type": "code",
   "execution_count": 29,
   "metadata": {
    "collapsed": true
   },
   "outputs": [],
   "source": [
    "def findloop(List):\n",
    "    p1 = List.head.next # slow runner\n",
    "    p2 = List.head.next.next # fast runner\n",
    "    \n",
    "    # collide\n",
    "    while p1 != p2:\n",
    "        p1 = p1.next\n",
    "        p2 = p2.next.next\n",
    "    \n",
    "    # reset p1\n",
    "    p1 = List.head\n",
    "    \n",
    "    # collide them again\n",
    "    while p1 != p2:\n",
    "        p1 = p1.next\n",
    "        p2 = p2.next\n",
    "    \n",
    "    return p1.data"
   ]
  },
  {
   "cell_type": "code",
   "execution_count": 30,
   "metadata": {
    "collapsed": false,
    "scrolled": true
   },
   "outputs": [
    {
     "data": {
      "text/plain": [
       "5"
      ]
     },
     "execution_count": 30,
     "metadata": {},
     "output_type": "execute_result"
    }
   ],
   "source": [
    "findloop(l1)"
   ]
  }
 ],
 "metadata": {
  "kernelspec": {
   "display_name": "Python 3",
   "language": "python",
   "name": "python3"
  },
  "language_info": {
   "codemirror_mode": {
    "name": "ipython",
    "version": 3
   },
   "file_extension": ".py",
   "mimetype": "text/x-python",
   "name": "python",
   "nbconvert_exporter": "python",
   "pygments_lexer": "ipython3",
   "version": "3.6.0"
  }
 },
 "nbformat": 4,
 "nbformat_minor": 2
}
