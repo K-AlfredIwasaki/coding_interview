{
 "cells": [
  {
   "cell_type": "code",
   "execution_count": 1,
   "metadata": {
    "collapsed": true
   },
   "outputs": [],
   "source": [
    "class Node():\n",
    "    \n",
    "    def __init__(self):\n",
    "        self.data = None\n",
    "        self.next = None\n",
    "        \n",
    "class LinkedList():\n",
    "    \n",
    "    def __init__(self):\n",
    "        self.head = None\n",
    "        self.tail = None\n",
    "        \n",
    "    def add(self, item):\n",
    "        # create a node to add\n",
    "        node = Node()\n",
    "        node.data = item\n",
    "        \n",
    "        # special case\n",
    "        if self.head == None:\n",
    "            self.head = node\n",
    "            self.tail = node\n",
    "        else:\n",
    "            # update tail reference\n",
    "            self.tail.next = node\n",
    "            # update tail itself\n",
    "            self.tail = node\n",
    "            \n",
    "    def find(self, idx):\n",
    "        current = self.head\n",
    "        for i in range(idx):\n",
    "            current = current.next\n",
    "        return current\n",
    "        \n",
    "        \n",
    "    def __str__(self):\n",
    "        result = []\n",
    "        current = self.head\n",
    "        while current != None:\n",
    "            # get value\n",
    "            result.append(str(current.data))\n",
    "            # update current\n",
    "            current = current.next\n",
    "        \n",
    "        return \"->\".join(result)\n",
    "        "
   ]
  },
  {
   "cell_type": "code",
   "execution_count": 2,
   "metadata": {
    "collapsed": false,
    "scrolled": true
   },
   "outputs": [
    {
     "name": "stdout",
     "output_type": "stream",
     "text": [
      "1->14->18->8->0->11->19->5->4->18->5->15->17->3->10->6->13->3->3->7\n"
     ]
    }
   ],
   "source": [
    "from random import randint\n",
    "l1 = LinkedList()\n",
    "for i in range(20):\n",
    "    l1.add(randint(0, 20))\n",
    "print(l1)"
   ]
  },
  {
   "cell_type": "code",
   "execution_count": 3,
   "metadata": {
    "collapsed": false,
    "scrolled": true
   },
   "outputs": [
    {
     "data": {
      "text/plain": [
       "<__main__.Node at 0x1ddc6d928d0>"
      ]
     },
     "execution_count": 3,
     "metadata": {},
     "output_type": "execute_result"
    }
   ],
   "source": [
    "l1.find(5)"
   ]
  },
  {
   "cell_type": "code",
   "execution_count": 4,
   "metadata": {
    "collapsed": true
   },
   "outputs": [],
   "source": [
    "l1.tail.next = l1.find(5)"
   ]
  },
  {
   "cell_type": "code",
   "execution_count": 5,
   "metadata": {
    "collapsed": false
   },
   "outputs": [
    {
     "name": "stdout",
     "output_type": "stream",
     "text": [
      "1\n",
      "14\n",
      "18\n",
      "8\n",
      "0\n",
      "11\n",
      "19\n",
      "5\n",
      "4\n",
      "18\n",
      "5\n",
      "15\n",
      "17\n",
      "3\n",
      "10\n",
      "6\n",
      "13\n",
      "3\n",
      "3\n",
      "7\n",
      "11\n",
      "19\n",
      "5\n",
      "4\n",
      "18\n",
      "5\n",
      "15\n",
      "17\n",
      "3\n",
      "10\n"
     ]
    }
   ],
   "source": [
    "current = l1.head\n",
    "for i in range(30):\n",
    "    print(current.data)\n",
    "    current = current.next"
   ]
  },
  {
   "cell_type": "code",
   "execution_count": 8,
   "metadata": {
    "collapsed": false
   },
   "outputs": [],
   "source": [
    "def circularCheck(List):\n",
    "    # create two pointers\n",
    "    fast = List.head # two steps at a time\n",
    "    slow = List.head # one step at a time\n",
    "    collide = False\n",
    "    \n",
    "    # let them collide\n",
    "    while not collide and fast.next != None:\n",
    "        \n",
    "        # move pointers\n",
    "        fast = fast.next.next\n",
    "        slow = slow.next\n",
    "        \n",
    "        # stop them when they collide\n",
    "        if fast == slow:\n",
    "            collide = True\n",
    "            \n",
    "    if collide == False:\n",
    "        print (\"this is not a cirular linkedlist\")\n",
    "    \n",
    "    # move the fast back to the head\n",
    "    fast = List.head\n",
    "    collide = False\n",
    "    \n",
    "    # find the next collision point\n",
    "    # which is the entrance of the loop\n",
    "    while not collide:\n",
    "        fast = fast.next\n",
    "        slow = slow.next\n",
    "        if fast == slow:\n",
    "            collide = True\n",
    "            \n",
    "    return fast.data"
   ]
  },
  {
   "cell_type": "code",
   "execution_count": 9,
   "metadata": {
    "collapsed": false
   },
   "outputs": [
    {
     "name": "stdout",
     "output_type": "stream",
     "text": [
      "18\n",
      "14\n",
      "0\n",
      "18\n",
      "19\n",
      "8\n",
      "4\n",
      "0\n",
      "5\n",
      "11\n",
      "17\n",
      "19\n",
      "10\n",
      "5\n",
      "13\n",
      "4\n",
      "3\n",
      "18\n",
      "11\n",
      "5\n",
      "5\n",
      "15\n",
      "18\n",
      "17\n",
      "15\n",
      "3\n",
      "3\n",
      "10\n",
      "6\n",
      "6\n"
     ]
    },
    {
     "data": {
      "text/plain": [
       "11"
      ]
     },
     "execution_count": 9,
     "metadata": {},
     "output_type": "execute_result"
    }
   ],
   "source": [
    "circularCheck(l1)"
   ]
  }
 ],
 "metadata": {
  "kernelspec": {
   "display_name": "Python 3",
   "language": "python",
   "name": "python3"
  },
  "language_info": {
   "codemirror_mode": {
    "name": "ipython",
    "version": 3
   },
   "file_extension": ".py",
   "mimetype": "text/x-python",
   "name": "python",
   "nbconvert_exporter": "python",
   "pygments_lexer": "ipython3",
   "version": "3.6.0"
  }
 },
 "nbformat": 4,
 "nbformat_minor": 2
}
