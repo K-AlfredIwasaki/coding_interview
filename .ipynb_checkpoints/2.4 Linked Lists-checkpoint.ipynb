{
 "cells": [
  {
   "cell_type": "code",
   "execution_count": 79,
   "metadata": {
    "collapsed": true
   },
   "outputs": [],
   "source": [
    "from random import randint\n",
    "\n",
    "class Node:\n",
    "    def __init__(self, value):\n",
    "        self.value = value\n",
    "        self.next = None\n",
    "\n",
    "    def __str__(self):\n",
    "        return str(self.value)\n",
    "\n",
    "class LinkedList:\n",
    "    def __init__(self):\n",
    "        self.head = None\n",
    "        self.tail = None\n",
    "\n",
    "    def addNode(self,value):\n",
    "        node = Node(value)\n",
    "        #if the old list is none, set new node as the first node\n",
    "        if self.head == None:\n",
    "            self.head = node\n",
    "            self.tail = node\n",
    "        else:\n",
    "            self.tail.next = node\n",
    "            self.tail = node\n",
    "\n",
    "    def __str__(self):\n",
    "        if self.head != None:\n",
    "            index = self.head\n",
    "            nodestore = [str(index.value)]\n",
    "            while index.next != None:\n",
    "                index = index.next\n",
    "                nodestore.append(str(index.value))\n",
    "            return \"LinkedList  [ \" + \"->\".join(nodestore) + \" ]\"\n",
    "        return \"LinkedList  []\"\n",
    "\n",
    "\n",
    "    #remove the first node that have the same value as the given node_value\n",
    "    def removeNode(self, node_value):\n",
    "        current = self.head\n",
    "        if current.value == node_value:\n",
    "            self.head = self.head.next\n",
    "        while(current.next != None):\n",
    "            if current.next.value == node_value:\n",
    "                current.next = current.next.next\n",
    "                break\n",
    "            else:\n",
    "                current = current.next\n",
    "                \n",
    "def randomLinkedList(length, min, max):\n",
    "    linkedlist = LinkedList()\n",
    "    for i in range(length):\n",
    "        value = randint(min, max)\n",
    "        linkedlist.addNode(value)\n",
    "    return linkedlist"
   ]
  },
  {
   "cell_type": "code",
   "execution_count": 42,
   "metadata": {
    "collapsed": false
   },
   "outputs": [
    {
     "name": "stdout",
     "output_type": "stream",
     "text": [
      "LinkedList  [ 31->12->27->49->7->27->28->33->3->26 ]\n"
     ]
    }
   ],
   "source": [
    "#----------------test-----------------\n",
    "L = randomLinkedList(10, 0, 50)\n",
    "print (L)"
   ]
  },
  {
   "cell_type": "code",
   "execution_count": 58,
   "metadata": {
    "collapsed": false
   },
   "outputs": [],
   "source": [
    "def partition_single(lList, v):\n",
    "    if lList.head != None:\n",
    "        p1 = lList.head\n",
    "        p2 = lList.head.next\n",
    "        \n",
    "        while p2 != None:\n",
    "            if p2.value < v:\n",
    "                p1.next = p2.next\n",
    "                p2.next = lList.head\n",
    "                lList.head = p2\n",
    "                p2 = p1.next\n",
    "            else:\n",
    "                p1 = p1.next\n",
    "                p2 = p2.next\n"
   ]
  },
  {
   "cell_type": "code",
   "execution_count": 59,
   "metadata": {
    "collapsed": false
   },
   "outputs": [
    {
     "name": "stdout",
     "output_type": "stream",
     "text": [
      "LinkedList  [ 26->3->27->7->12->28->33->49 ]\n"
     ]
    }
   ],
   "source": [
    "partition_single(L, 28)\n",
    "print (L)"
   ]
  },
  {
   "cell_type": "markdown",
   "metadata": {},
   "source": [
    "## try partition double solutions as well"
   ]
  }
 ],
 "metadata": {
  "kernelspec": {
   "display_name": "Python 3",
   "language": "python",
   "name": "python3"
  },
  "language_info": {
   "codemirror_mode": {
    "name": "ipython",
    "version": 3
   },
   "file_extension": ".py",
   "mimetype": "text/x-python",
   "name": "python",
   "nbconvert_exporter": "python",
   "pygments_lexer": "ipython3",
   "version": "3.6.0"
  }
 },
 "nbformat": 4,
 "nbformat_minor": 2
}
