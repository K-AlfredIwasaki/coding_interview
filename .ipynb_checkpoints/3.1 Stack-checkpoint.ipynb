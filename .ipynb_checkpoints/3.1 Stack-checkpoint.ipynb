{
 "cells": [
  {
   "cell_type": "markdown",
   "metadata": {},
   "source": [
    "Describe how you could use a single array to implement three stacks.\n",
    "\n",
    "- Push\n",
    "- Pop\n",
    "- Peek\n",
    "- IsEmpty\n",
    "- StackTop"
   ]
  },
  {
   "cell_type": "code",
   "execution_count": 7,
   "metadata": {
    "collapsed": false
   },
   "outputs": [],
   "source": [
    "\"\"\"\n",
    "Divide the array in three equal parts and \n",
    "allow the individual stack to grow \n",
    "in that limited space \n",
    "(note: “[“ means inclusive, while “(“ means exclusive of the end point).\n",
    "\n",
    "»for stack 1, we will use [0, n/3)\n",
    "»for stack 2, we will use [n/3, 2n/3)\n",
    "»for stack 3, we will use [2n/3, n)\n",
    "\n",
    "\"\"\"\n",
    "\n",
    "class SingleArrayStacks(object):\n",
    "    \n",
    "    def __init__(self, stacksize = 100, number = 3):\n",
    "        self.stacksize = stacksize\n",
    "        self.number = number\n",
    "        \n",
    "        # create a single array\n",
    "        self.array = [None] * self.stacksize * self.number\n",
    "        \n",
    "        # stack pointers to track top element in each stack\n",
    "        self.pointer = [-1] * self.number \n",
    "    \n",
    "    # it adds a new item to the top of the stack.\n",
    "    # it needs the item and return nothing\n",
    "    def push(self, stacknum, value):\n",
    "        # space check\n",
    "        if self.pointer[stacknum] + 1 >= self.stacksize:\n",
    "            print (\"Out of space\")\n",
    "        else:\n",
    "            self.pointer[stacknum] += 1\n",
    "            self.array[self.stacktop(stacknum)] = value\n",
    "    \n",
    "    # it removes the top item from the stack.\n",
    "    # it needs \"stacknum\" and returns the item.\n",
    "    def pop(self, stacknum):\n",
    "        if self.pointer[stacknum] < 0:\n",
    "            return \"Trying to pop an empty stack.\"\n",
    "        else:\n",
    "            data = self.array[self.stacktop(stacknum)]\n",
    "            self.array[self.stacktop(stacknum)] = None\n",
    "            self.pointer[stacknum] -= 1\n",
    "            return data\n",
    "    \n",
    "    # it returns the top item from the stack but does not remove it.\n",
    "    # it needs \"stacknum\" and returns the item.\n",
    "    def peek(self, stacknum):\n",
    "        if self.pointer[stacknum] < 0:\n",
    "            print (\"Empty stack\")\n",
    "        else:\n",
    "            return self.array[self.stacktop(stacknum)]\n",
    "    \n",
    "    # it tests to see whether the stack is empty.\n",
    "    # it needs \"stacknum\" and returns a boolean value\n",
    "    def isEmpty(self, stacknum):\n",
    "        return self.pointer[stacknum] == -1\n",
    "    \n",
    "    # it returns a index of the top item from the stack\n",
    "    # it needs \"stacknum\"\n",
    "    def stacktop(self, stacknum):\n",
    "        return self.stacksize * stacknum + self.pointer[stacknum]"
   ]
  },
  {
   "cell_type": "code",
   "execution_count": 9,
   "metadata": {
    "collapsed": false
   },
   "outputs": [
    {
     "name": "stdout",
     "output_type": "stream",
     "text": [
      "Trying to pop an empty stack.\n",
      "13\n",
      "30\n",
      "20\n"
     ]
    }
   ],
   "source": [
    "#-----------------test-----------------\n",
    "if __name__ == \"__main__\":\n",
    "    array = SingleArrayStacks()\n",
    "    array.push(2, 11)\n",
    "    array.push(2, 13)\n",
    "    print (array.pop(0))  # Trying to pop an empty stack.\n",
    "    print (array.peek(2)) # 13\n",
    "    array.push(0, 20)\n",
    "    array.push(0, 30)\n",
    "    print (array.pop(0))  # 30\n",
    "    print (array.peek(0)) # 20"
   ]
  }
 ],
 "metadata": {
  "kernelspec": {
   "display_name": "Python 3",
   "language": "python",
   "name": "python3"
  },
  "language_info": {
   "codemirror_mode": {
    "name": "ipython",
    "version": 3
   },
   "file_extension": ".py",
   "mimetype": "text/x-python",
   "name": "python",
   "nbconvert_exporter": "python",
   "pygments_lexer": "ipython3",
   "version": "3.6.0"
  }
 },
 "nbformat": 4,
 "nbformat_minor": 2
}
