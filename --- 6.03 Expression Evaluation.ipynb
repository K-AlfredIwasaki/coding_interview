{
 "cells": [
  {
   "cell_type": "markdown",
   "metadata": {},
   "source": [
    "# Problem\n",
    "\n",
    "Given an arithmetic expression, evaluate it."
   ]
  },
  {
   "cell_type": "code",
   "execution_count": 32,
   "metadata": {
    "collapsed": true
   },
   "outputs": [],
   "source": [
    "test1 = \"6+4/2*2+12/3/4*3*3\"\n",
    "test2 = \"6+4/2+2*2\""
   ]
  },
  {
   "cell_type": "code",
   "execution_count": 33,
   "metadata": {
    "collapsed": true
   },
   "outputs": [],
   "source": [
    "from collections import deque"
   ]
  },
  {
   "cell_type": "code",
   "execution_count": 36,
   "metadata": {},
   "outputs": [],
   "source": [
    "def evaluation(formula): \n",
    "    stack = deque()\n",
    "    \n",
    "    # first loop to calculate * and /\n",
    "    for i in range(len(formula)):\n",
    "        \n",
    "        \n",
    "        item = formula[i]\n",
    "        \n",
    "        if len(stack) > 0 and stack[-1] == \"/\":\n",
    "            stack.pop()\n",
    "            temp = float(stack.pop()) / float(item)\n",
    "            stack.append(temp)\n",
    "            \n",
    "        \n",
    "        elif len(stack) > 0 and stack[-1] == \"*\":\n",
    "            stack.pop()\n",
    "            temp = float(stack.pop()) * float(item)\n",
    "            stack.append(temp)\n",
    "        \n",
    "        else:\n",
    "            stack.append(item)\n",
    "            \n",
    "        print (stack)\n",
    "    \n",
    "    # second loop to calculate + and -\n",
    "    result = None\n",
    "    operator = None\n",
    "    for item in stack:\n",
    "        \n",
    "        if result == None:\n",
    "            result = float(item)\n",
    "        \n",
    "        elif item in [\"+\", \"-\"]:\n",
    "            operator = item\n",
    "        \n",
    "        else: # if digit\n",
    "            if operator == \"+\":\n",
    "                result = result + float(item)\n",
    "            else:\n",
    "                result = result - float(item)\n",
    "            \n",
    "    \n",
    "    return result\n",
    "            "
   ]
  },
  {
   "cell_type": "code",
   "execution_count": 37,
   "metadata": {
    "scrolled": true
   },
   "outputs": [
    {
     "name": "stdout",
     "output_type": "stream",
     "text": [
      "deque(['6'])\n",
      "deque(['6', '+'])\n",
      "deque(['6', '+', '4'])\n",
      "deque(['6', '+', '4', '/'])\n",
      "deque(['6', '+', 2.0])\n",
      "deque(['6', '+', 2.0, '*'])\n",
      "deque(['6', '+', 4.0])\n",
      "deque(['6', '+', 4.0, '+'])\n",
      "deque(['6', '+', 4.0, '+', '1'])\n",
      "deque(['6', '+', 4.0, '+', '1', '2'])\n",
      "deque(['6', '+', 4.0, '+', '1', '2', '/'])\n",
      "deque(['6', '+', 4.0, '+', '1', 0.6666666666666666])\n",
      "deque(['6', '+', 4.0, '+', '1', 0.6666666666666666, '/'])\n",
      "deque(['6', '+', 4.0, '+', '1', 0.16666666666666666])\n",
      "deque(['6', '+', 4.0, '+', '1', 0.16666666666666666, '*'])\n",
      "deque(['6', '+', 4.0, '+', '1', 0.5])\n",
      "deque(['6', '+', 4.0, '+', '1', 0.5, '*'])\n",
      "deque(['6', '+', 4.0, '+', '1', 1.5])\n"
     ]
    },
    {
     "data": {
      "text/plain": [
       "12.5"
      ]
     },
     "execution_count": 37,
     "metadata": {},
     "output_type": "execute_result"
    }
   ],
   "source": [
    "evaluation(test1)"
   ]
  }
 ],
 "metadata": {
  "kernelspec": {
   "display_name": "Python 3",
   "language": "python",
   "name": "python3"
  },
  "language_info": {
   "codemirror_mode": {
    "name": "ipython",
    "version": 3
   },
   "file_extension": ".py",
   "mimetype": "text/x-python",
   "name": "python",
   "nbconvert_exporter": "python",
   "pygments_lexer": "ipython3",
   "version": "3.6.0"
  }
 },
 "nbformat": 4,
 "nbformat_minor": 2
}
