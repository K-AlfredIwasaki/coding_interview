{
 "cells": [
  {
   "cell_type": "markdown",
   "metadata": {},
   "source": [
    "How would you design a stack which, in addition to push and pop, also has a function min which returns the minimum element? Push, pop and min should all operate in O(1) time."
   ]
  },
  {
   "cell_type": "code",
   "execution_count": 27,
   "metadata": {
    "collapsed": true
   },
   "outputs": [],
   "source": [
    "\"\"\"\n",
    "Use an additional python list to keep track of mins\n",
    "\"\"\"\n",
    "\n",
    "class StackWithMin():\n",
    "    \"\"\" stack with a method to return the minimum element\"\"\"\n",
    "    def __init__(self):\n",
    "        self.items = []\n",
    "        self.min = []\n",
    "        \n",
    "    def push(self, item):\n",
    "        self.items.append(item)\n",
    "        \n",
    "        if len(self.min) == 0:\n",
    "            self.min.append(item)\n",
    "        else:\n",
    "            previous_min = self.get_min()\n",
    "            if previous_min < item:\n",
    "                self.min.append(previous_min)\n",
    "            else:\n",
    "                self.min.append(item)\n",
    "               \n",
    "    def pop(self):\n",
    "        if len(self.items) == 0:\n",
    "            return None\n",
    "        \n",
    "        self.min.pop()\n",
    "        return self.items.pop()\n",
    "    \n",
    "    \n",
    "    def isEmpty(self):\n",
    "        return self.size == 0\n",
    "        \n",
    "    def size(self):\n",
    "        return len(self.items)\n",
    "        \n",
    "    def get_min(self):\n",
    "        if self.size() == 0:\n",
    "            return None\n",
    "        else:\n",
    "            return self.min[-1]\n",
    "        "
   ]
  },
  {
   "cell_type": "code",
   "execution_count": 28,
   "metadata": {
    "collapsed": false
   },
   "outputs": [
    {
     "data": {
      "text/plain": [
       "[22, 52, 57, 78, 36, 75, 79, 95, 56, 43]"
      ]
     },
     "execution_count": 28,
     "metadata": {},
     "output_type": "execute_result"
    }
   ],
   "source": [
    "from random import randrange\n",
    "S1 = StackWithMin()\n",
    "test_list = [randrange(100) for x in range(10)]\n",
    "test_list"
   ]
  },
  {
   "cell_type": "code",
   "execution_count": 29,
   "metadata": {
    "collapsed": false
   },
   "outputs": [
    {
     "data": {
      "text/plain": [
       "10"
      ]
     },
     "execution_count": 29,
     "metadata": {},
     "output_type": "execute_result"
    }
   ],
   "source": [
    "for num in test_list:\n",
    "    S1.push(num)\n",
    "    \n",
    "S1.size()"
   ]
  },
  {
   "cell_type": "code",
   "execution_count": 30,
   "metadata": {
    "collapsed": false,
    "scrolled": false
   },
   "outputs": [
    {
     "name": "stdout",
     "output_type": "stream",
     "text": [
      "new pop 43\n",
      "new min 22\n",
      "new pop 56\n",
      "new min 22\n",
      "new pop 95\n",
      "new min 22\n",
      "new pop 79\n",
      "new min 22\n",
      "new pop 75\n",
      "new min 22\n",
      "new pop 36\n",
      "new min 22\n",
      "new pop 78\n",
      "new min 22\n",
      "new pop 57\n",
      "new min 22\n",
      "new pop 52\n",
      "new min 22\n",
      "new pop 22\n",
      "new min None\n"
     ]
    }
   ],
   "source": [
    "for i in range(len(test_list)):\n",
    "    print (\"new pop\", S1.pop())\n",
    "    print(\"new min\", S1.get_min())"
   ]
  },
  {
   "cell_type": "code",
   "execution_count": null,
   "metadata": {
    "collapsed": true
   },
   "outputs": [],
   "source": []
  }
 ],
 "metadata": {
  "kernelspec": {
   "display_name": "Python 3",
   "language": "python",
   "name": "python3"
  },
  "language_info": {
   "codemirror_mode": {
    "name": "ipython",
    "version": 3
   },
   "file_extension": ".py",
   "mimetype": "text/x-python",
   "name": "python",
   "nbconvert_exporter": "python",
   "pygments_lexer": "ipython3",
   "version": "3.6.0"
  }
 },
 "nbformat": 4,
 "nbformat_minor": 2
}
