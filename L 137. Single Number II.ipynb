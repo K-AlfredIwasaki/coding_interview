{
 "cells": [
  {
   "cell_type": "markdown",
   "metadata": {},
   "source": [
    "https://discuss.leetcode.com/topic/10791/python-bitwise-solution\n",
    "https://discuss.leetcode.com/topic/43166/java-o-n-easy-to-understand-solution-easily-extended-to-any-times-of-occurance"
   ]
  },
  {
   "cell_type": "code",
   "execution_count": 96,
   "metadata": {
    "collapsed": true
   },
   "outputs": [],
   "source": [
    "class Solution():\n",
    "# @param A, a list of integer\n",
    "# @return an integer\n",
    "    def singleNumber(self, A):\n",
    "        ans = 0\n",
    "        # think about the number in 32 bits\n",
    "        for i in range(0,32):\n",
    "            count = 0\n",
    "            \n",
    "            # how many 1s are there in each bit i\n",
    "            for a in A:\n",
    "                \n",
    "                if ((a >> i) & 1) == 1: # what it does?\n",
    "                    count+=1\n",
    "              \n",
    "            # set a bit on i (starting from i = 0)\n",
    "            # only when count % 3 == 1\n",
    "            print (\"there are {} of 1s in bit {}\".format(count, i))\n",
    "            ans |= ((count % 3) << i)\n",
    "            \n",
    "        return self.convert(ans)\n",
    "        \n",
    "\n",
    "    def convert(self,x):\n",
    "        if x >= 2**31:\n",
    "            x -= 2**32\n",
    "        return x"
   ]
  },
  {
   "cell_type": "code",
   "execution_count": 97,
   "metadata": {
    "collapsed": true
   },
   "outputs": [],
   "source": [
    "s = Solution()"
   ]
  },
  {
   "cell_type": "code",
   "execution_count": 98,
   "metadata": {
    "scrolled": false
   },
   "outputs": [
    {
     "name": "stdout",
     "output_type": "stream",
     "text": [
      "there are 3 of 1s in bit 0\n",
      "there are 4 of 1s in bit 1\n",
      "there are 0 of 1s in bit 2\n",
      "there are 0 of 1s in bit 3\n",
      "there are 0 of 1s in bit 4\n",
      "there are 0 of 1s in bit 5\n",
      "there are 0 of 1s in bit 6\n",
      "there are 0 of 1s in bit 7\n",
      "there are 0 of 1s in bit 8\n",
      "there are 0 of 1s in bit 9\n",
      "there are 0 of 1s in bit 10\n",
      "there are 0 of 1s in bit 11\n",
      "there are 0 of 1s in bit 12\n",
      "there are 0 of 1s in bit 13\n",
      "there are 0 of 1s in bit 14\n",
      "there are 0 of 1s in bit 15\n",
      "there are 0 of 1s in bit 16\n",
      "there are 0 of 1s in bit 17\n",
      "there are 0 of 1s in bit 18\n",
      "there are 0 of 1s in bit 19\n",
      "there are 0 of 1s in bit 20\n",
      "there are 0 of 1s in bit 21\n",
      "there are 0 of 1s in bit 22\n",
      "there are 0 of 1s in bit 23\n",
      "there are 0 of 1s in bit 24\n",
      "there are 0 of 1s in bit 25\n",
      "there are 0 of 1s in bit 26\n",
      "there are 0 of 1s in bit 27\n",
      "there are 0 of 1s in bit 28\n",
      "there are 0 of 1s in bit 29\n",
      "there are 0 of 1s in bit 30\n",
      "there are 0 of 1s in bit 31\n"
     ]
    },
    {
     "data": {
      "text/plain": [
       "2"
      ]
     },
     "execution_count": 98,
     "metadata": {},
     "output_type": "execute_result"
    }
   ],
   "source": [
    "s.singleNumber([2, 3, 3, 3])"
   ]
  }
 ],
 "metadata": {
  "kernelspec": {
   "display_name": "Python 3",
   "language": "python",
   "name": "python3"
  },
  "language_info": {
   "codemirror_mode": {
    "name": "ipython",
    "version": 3
   },
   "file_extension": ".py",
   "mimetype": "text/x-python",
   "name": "python",
   "nbconvert_exporter": "python",
   "pygments_lexer": "ipython3",
   "version": "3.6.0"
  }
 },
 "nbformat": 4,
 "nbformat_minor": 2
}
