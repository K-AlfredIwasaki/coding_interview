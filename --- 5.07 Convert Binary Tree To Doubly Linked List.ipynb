{
 "cells": [
  {
   "cell_type": "markdown",
   "metadata": {},
   "source": [
    "# Problem\n",
    "\n",
    "Given a binary tree, convert it to a doubly linked list such that the order of doubly linked list is the same as in-order traversal of the binary tree."
   ]
  },
  {
   "cell_type": "code",
   "execution_count": 23,
   "metadata": {
    "scrolled": true
   },
   "outputs": [
    {
     "name": "stdout",
     "output_type": "stream",
     "text": [
      "(100 ( (50 ( (25 ( None | (30 ( None | None)))) | (75 ( (60 ( None | None)) | None)))) | (200 ( (125 ( None | None)) | (350 ( None | None))))))\n"
     ]
    }
   ],
   "source": [
    "from data_structure.binary_tree import *\n",
    "b = BinaryTree(100)\n",
    "b.left = BinaryTree(50)\n",
    "b.left.left = BinaryTree(25)\n",
    "b.left.left.right = BinaryTree(30)\n",
    "b.left.right = BinaryTree(75)\n",
    "b.left.right.left = BinaryTree(60)\n",
    "b.right = BinaryTree(200)\n",
    "b.right.left = BinaryTree(125)\n",
    "b.right.right = BinaryTree(350)\n",
    "\n",
    "print (b)"
   ]
  },
  {
   "cell_type": "code",
   "execution_count": 24,
   "metadata": {},
   "outputs": [],
   "source": [
    "### solution one  --- super efficient\n",
    "### use static so taht the same value is accessible in calls\n",
    "# http://www.geeksforgeeks.org/convert-given-binary-tree-doubly-linked-list-set-3/\n",
    "\n",
    "def convert_to_double(root):\n",
    "    # base case\n",
    "    if root == None:\n",
    "        return\n",
    "    print (root.content)\n",
    "    \n",
    "    convert_to_double(root.left)\n",
    "    \n",
    "    # now convert this node\n",
    "    if convert_to_double.prev == None:\n",
    "        print(\"head is {}\".format(root.content))\n",
    "    else:\n",
    "        print (\"prev is {}\".format(convert_to_double.prev.content))\n",
    "        root.left = convert_to_double.prev\n",
    "        convert_to_double.prev.right = root\n",
    "        \n",
    "    convert_to_double.prev = root\n",
    "    \n",
    "    convert_to_double(root.right)\n",
    "    \n",
    "    \n",
    "def convert_to_double2(root):\n",
    "    convert_to_double.prev = None ######### IMPORTANT\n",
    "    \n",
    "    convert_to_double(root)\n",
    "    \n",
    "    while root.left != None:\n",
    "        root = root.left\n",
    "        \n",
    "    return root"
   ]
  },
  {
   "cell_type": "code",
   "execution_count": 25,
   "metadata": {
    "scrolled": false
   },
   "outputs": [
    {
     "name": "stdout",
     "output_type": "stream",
     "text": [
      "100\n",
      "50\n",
      "25\n",
      "head is 25\n",
      "30\n",
      "prev is 25\n",
      "prev is 30\n",
      "75\n",
      "60\n",
      "prev is 50\n",
      "prev is 60\n",
      "prev is 75\n",
      "200\n",
      "125\n",
      "prev is 100\n",
      "prev is 125\n",
      "350\n",
      "prev is 200\n"
     ]
    }
   ],
   "source": [
    "converted_b = convert_to_double2(b)"
   ]
  },
  {
   "cell_type": "code",
   "execution_count": 18,
   "metadata": {},
   "outputs": [
    {
     "name": "stdout",
     "output_type": "stream",
     "text": [
      "25\n",
      "30\n",
      "50\n",
      "60\n",
      "75\n",
      "100\n",
      "125\n",
      "200\n",
      "350\n"
     ]
    }
   ],
   "source": [
    "while converted_b != None:\n",
    "    print (converted_b.content)\n",
    "    converted_b = converted_b.right"
   ]
  },
  {
   "cell_type": "code",
   "execution_count": null,
   "metadata": {
    "collapsed": true
   },
   "outputs": [],
   "source": [
    "### solution one  --- super efficient\n",
    "### use static so taht the same value is accessible in calls\n",
    "# http://www.geeksforgeeks.org/convert-a-given-binary-tree-to-doubly-linked-list-set-2/\n",
    "\n",
    "\n",
    "class Node:\n",
    "     \n",
    "    # Constructor to create a new tree node\n",
    "    def __init__(self, data):\n",
    "        self.data = data \n",
    "        self.left = None\n",
    "        self.right = None\n",
    " \n",
    "# Standard Inorder traversal of tree\n",
    "def inorder(root):\n",
    "    if root == None:\n",
    "        return\n",
    "     \n",
    "    inorder(root.left)\n",
    "    print (\"\\t%d\" %(root.data))\n",
    "    inorder(root.right)\n",
    "\n",
    "# Changes left pointers to work as previous pointers\n",
    "# in converted DLL\n",
    "# The function simply does inorder traversal of \n",
    "# Binary Tree and updates\n",
    "# left pointer using previously visited node\n",
    "def fixPrevPtr(root):\n",
    "    if root == None:\n",
    "        return\n",
    "    \n",
    "    fixPrevPtr(root.left)\n",
    "    \n",
    "    root.left = fixPrevPtr.pre\n",
    "    if root.left:\n",
    "        print (\"root.left is {}\".format(root.left.data))\n",
    "    else:\n",
    "        print (\"root.left is None\")\n",
    "    fixPrevPtr.pre = root \n",
    "    print (\"fixPrevPrt.pre is {}\".format(root.data))\n",
    "    \n",
    "    fixPrevPtr(root.right)\n",
    "\n",
    "# Changes right pointers to work as nexr pointers in\n",
    "# converted DLL \n",
    "def fixNextPtr(root):\n",
    " \n",
    "    prev = None\n",
    "    # Find the right most node in BT or last node in DLL\n",
    "    while(root and root.right != None):\n",
    "        root = root.right \n",
    " \n",
    "    # Start from the rightmost node, traverse back using\n",
    "    # left pointers\n",
    "    # While traversing, change right pointer of nodes \n",
    "    while(root and root.left != None):\n",
    "        prev = root \n",
    "        root = root.left \n",
    "        root.right = prev\n",
    " \n",
    "    # The leftmost node is head of linked list, return it\n",
    "    return root \n",
    " \n",
    "# The main function that converts BST to DLL and returns\n",
    "# head of DLL\n",
    "def BTToDLL(root):\n",
    "     \n",
    "    # Set the previous pointer \n",
    "    fixPrevPtr(root)\n",
    " \n",
    "    # Set the next pointer and return head of DLL\n",
    "    return fixNextPtr(root)\n",
    " \n",
    "# Traversses the DLL from left to right \n",
    "def printList(root):\n",
    "    while(root != None):\n",
    "        print (\"\\t%d\" %(root.data))\n",
    "        root = root.right\n",
    " \n",
    "# Driver program to test above function\n",
    "root = Node(10)\n",
    "root.left = Node(12)\n",
    "root.right = Node(15)\n",
    "root.left.left = Node(25)\n",
    "root.left.right = Node(30)\n",
    "root.right.left = Node(36)\n",
    " \n",
    "print (\"\\n\\t\\t Inorder Tree Traversal\\n\")\n",
    "inorder(root)\n",
    " \n",
    "# Static variable pre for function fixPrevPtr\n",
    "fixPrevPtr.pre = None ######################################### IMPORTANT ##########################\n",
    "head = BTToDLL(root)\n",
    " \n",
    "print (\"\\n\\n\\t\\tDLL Traversal\\n\")\n",
    "printList(head)"
   ]
  }
 ],
 "metadata": {
  "kernelspec": {
   "display_name": "Python 3",
   "language": "python",
   "name": "python3"
  },
  "language_info": {
   "codemirror_mode": {
    "name": "ipython",
    "version": 3
   },
   "file_extension": ".py",
   "mimetype": "text/x-python",
   "name": "python",
   "nbconvert_exporter": "python",
   "pygments_lexer": "ipython3",
   "version": "3.6.0"
  }
 },
 "nbformat": 4,
 "nbformat_minor": 2
}
