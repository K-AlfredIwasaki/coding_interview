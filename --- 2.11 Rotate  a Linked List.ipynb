{
 "cells": [
  {
   "cell_type": "code",
   "execution_count": 80,
   "metadata": {
    "scrolled": false
   },
   "outputs": [
    {
     "name": "stdout",
     "output_type": "stream",
     "text": [
      "12=>10=>11=>2=>4=>22=>45=>128\n"
     ]
    }
   ],
   "source": [
    "from data_structure.linkedlist_simple import *\n",
    "from data_structure.stack import *\n",
    "\n",
    "l = LinkedList(12)\n",
    "l.next = LinkedList(10)\n",
    "l.next.next = LinkedList(11)\n",
    "l.next.next.next = LinkedList(2)\n",
    "l.next.next.next.next = LinkedList(4)\n",
    "l.next.next.next.next.next = LinkedList(22)\n",
    "l.next.next.next.next.next.next = LinkedList(45)\n",
    "l.next.next.next.next.next.next.next = LinkedList(128)\n",
    "\n",
    "print (l)"
   ]
  },
  {
   "cell_type": "code",
   "execution_count": 81,
   "metadata": {
    "collapsed": true
   },
   "outputs": [],
   "source": [
    "\"\"\"\n",
    "1. get the length of a linked list\n",
    "2. split the \n",
    "\"\"\"\n",
    "\n",
    "def get_length_and_tail(l_lst):\n",
    "    current = l_lst\n",
    "    counter = 1\n",
    "    while current.next != None:\n",
    "        current = current.next\n",
    "        counter += 1\n",
    "    \n",
    "    return (counter, current)\n",
    "    \n",
    "def adjust_rotations(n, length):\n",
    "        \n",
    "    if n >= length:\n",
    "        n = n % length\n",
    "        \n",
    "    elif n < 0:\n",
    "        n = n % -length + length\n",
    "    \n",
    "    return n\n",
    "\n",
    "\n",
    "def rotate_lst(l_lst, n):\n",
    "    print (l_lst)\n",
    "    \n",
    "    # get lengthand tail\n",
    "    length, tail = get_length_and_tail(l_lst)\n",
    "    \n",
    "    # get convert n if necessary\n",
    "    n = adjust_rotations(n, length)\n",
    "    \n",
    "    if n == 0:\n",
    "        return l_lst\n",
    "        \n",
    "    # let's rotate\n",
    "    # 1. move pointer to the node before split\n",
    "    # 2. split and connect\n",
    "    current = l_lst\n",
    "    split_count = length - n - 1\n",
    "    \n",
    "    while split_count != 0:\n",
    "        current = current.next\n",
    "        split_count += -1\n",
    "    \n",
    "    print (\"current node {}\".format(current.content))\n",
    "    \n",
    "    # split\n",
    "    new_head = current.next # IMPORTANT\n",
    "    current.next = None # set new end of list\n",
    "    \n",
    "    print (l_lst)\n",
    "    \n",
    "    # connect\n",
    "    tail.next = l_lst\n",
    "    \n",
    "    return new_head"
   ]
  },
  {
   "cell_type": "code",
   "execution_count": 82,
   "metadata": {},
   "outputs": [
    {
     "name": "stdout",
     "output_type": "stream",
     "text": [
      "12=>10=>11=>2=>4=>22=>45=>128\n",
      "current node 4\n",
      "12=>10=>11=>2=>4\n",
      "22=>45=>128=>12=>10=>11=>2=>4\n"
     ]
    }
   ],
   "source": [
    "print (rotate_lst(l, 3))"
   ]
  }
 ],
 "metadata": {
  "kernelspec": {
   "display_name": "Python 3",
   "language": "python",
   "name": "python3"
  },
  "language_info": {
   "codemirror_mode": {
    "name": "ipython",
    "version": 3
   },
   "file_extension": ".py",
   "mimetype": "text/x-python",
   "name": "python",
   "nbconvert_exporter": "python",
   "pygments_lexer": "ipython3",
   "version": "3.6.0"
  }
 },
 "nbformat": 4,
 "nbformat_minor": 2
}
