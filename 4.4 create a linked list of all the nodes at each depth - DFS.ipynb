{
 "cells": [
  {
   "cell_type": "code",
   "execution_count": 3,
   "metadata": {
    "collapsed": true
   },
   "outputs": [],
   "source": [
    "from data_structure.linkedlist_simple import *"
   ]
  },
  {
   "cell_type": "code",
   "execution_count": 4,
   "metadata": {
    "collapsed": true
   },
   "outputs": [],
   "source": [
    "import random\n",
    "\n",
    "class BinaryTree:\n",
    "    def __init__(self, content, left=None, right=None):\n",
    "        self.content = content\n",
    "        self.left = left\n",
    "        self.right = right\n",
    "        \n",
    "        self.depth = -1\n",
    "        \n",
    "    def __str__(self):\n",
    "        return \"(\" + str(self.content) + \" ( \" + str(self.left) + \" | \"  \\\n",
    "    + str(self.right) + \"))\""
   ]
  },
  {
   "cell_type": "code",
   "execution_count": 5,
   "metadata": {
    "collapsed": true
   },
   "outputs": [],
   "source": [
    "# test case1\n",
    "def make_random_balanced_tree(depth):\n",
    "    if depth > 0:\n",
    "        tree = BinaryTree(random.randint(0, 100))\n",
    "        tree.left = make_random_balanced_tree(depth - 1)\n",
    "        tree.right = make_random_balanced_tree(depth - 1)\n",
    "        return tree\n",
    "    else:\n",
    "        return None"
   ]
  },
  {
   "cell_type": "code",
   "execution_count": 15,
   "metadata": {
    "scrolled": true
   },
   "outputs": [
    {
     "name": "stdout",
     "output_type": "stream",
     "text": [
      "(74 ( (50 ( (25 ( (58 ( (27 ( None | None)) | (38 ( None | None)))) | (56 ( (43 ( None | None)) | (41 ( None | None)))))) | (56 ( (7 ( (59 ( None | None)) | (83 ( None | None)))) | (80 ( (46 ( None | None)) | (12 ( None | None)))))))) | (43 ( (96 ( (41 ( (31 ( None | None)) | (44 ( None | None)))) | (62 ( (30 ( None | None)) | (76 ( None | None)))))) | (47 ( (51 ( (64 ( None | None)) | (62 ( None | None)))) | (45 ( (7 ( None | None)) | (56 ( None | None))))))))))\n"
     ]
    }
   ],
   "source": [
    "b = make_random_balanced_tree(5)\n",
    "print (b)"
   ]
  },
  {
   "cell_type": "code",
   "execution_count": 16,
   "metadata": {
    "scrolled": true
   },
   "outputs": [
    {
     "data": {
      "text/plain": [
       "[[74],\n",
       " [50, 43],\n",
       " [25, 56, 96, 47],\n",
       " [58, 56, 7, 80, 41, 62, 51, 45],\n",
       " [27, 38, 43, 41, 59, 83, 46, 12, 31, 44, 30, 76, 64, 62, 7, 56]]"
      ]
     },
     "execution_count": 16,
     "metadata": {},
     "output_type": "execute_result"
    }
   ],
   "source": [
    "def btree_to_llists(btree, return_list = [], depth = 1):\n",
    "    \"\"\"\n",
    "    modificaiton of pre-order traversal\n",
    "    \"\"\"\n",
    "    # base case\n",
    "    if btree == None:\n",
    "        return return_list\n",
    "    \n",
    "    # general relationship\n",
    "    ## action - check if this is visited or not\n",
    "    if depth > len(return_list):\n",
    "        # first visit\n",
    "        return_list.append([btree.content])\n",
    "    else:\n",
    "        # second~ visit\n",
    "        return_list[depth-1].append(btree.content)\n",
    "        \n",
    "    ## recrusion\n",
    "    return_list = btree_to_llists(btree.left, return_list, depth = depth + 1)\n",
    "    return_list = btree_to_llists(btree.right, return_list, depth = depth + 1)\n",
    "    \n",
    "    return return_list\n",
    "\n",
    "btree_to_llists(b)"
   ]
  },
  {
   "cell_type": "code",
   "execution_count": null,
   "metadata": {
    "collapsed": true
   },
   "outputs": [],
   "source": []
  },
  {
   "cell_type": "code",
   "execution_count": 7,
   "metadata": {
    "collapsed": true
   },
   "outputs": [],
   "source": [
    "# depth first search\n",
    "def btree_to_llists(btree,depth=1,returnlist=[]):\n",
    "    ### three things to track: node, depth, returnList(result)\n",
    "    \n",
    "    \n",
    "    # first item in the depth\n",
    "    # think when depth = 1, len = 0 thus len < depth\n",
    "    if len(returnlist) < depth:\n",
    "        returnlist.append(LinkedList(btree.content))\n",
    "\n",
    "    # non-first item in teh depth\n",
    "    else:\n",
    "        ll=LinkedList(btree.content)\n",
    "        ll.next=returnlist[depth-1]\n",
    "        returnlist[depth-1]=ll\n",
    "\n",
    "    ### general relationship\n",
    "    if btree.left != None:\n",
    "        returnlist = btree_to_llists(btree.left,depth+1,returnlist)\n",
    "    if btree.right != None:\n",
    "        returnlist = btree_to_llists(btree.right,depth+1,returnlist)\n",
    "\n",
    "    return returnlist"
   ]
  },
  {
   "cell_type": "code",
   "execution_count": 8,
   "metadata": {},
   "outputs": [
    {
     "name": "stdout",
     "output_type": "stream",
     "text": [
      "test\n",
      "test\n",
      "test\n",
      "test\n",
      "test\n",
      "test\n",
      "test\n",
      "1: ( 44None )\n",
      "2: ( 27( 48None ) )\n",
      "3: ( 96( 40( 94( 41None ) ) ) )\n"
     ]
    }
   ],
   "source": [
    "count=0\n",
    "for ll in btree_to_llists(b):\n",
    "    count += 1\n",
    "    print (str(count) + \": \" + str(ll))"
   ]
  }
 ],
 "metadata": {
  "kernelspec": {
   "display_name": "Python 3",
   "language": "python",
   "name": "python3"
  },
  "language_info": {
   "codemirror_mode": {
    "name": "ipython",
    "version": 3
   },
   "file_extension": ".py",
   "mimetype": "text/x-python",
   "name": "python",
   "nbconvert_exporter": "python",
   "pygments_lexer": "ipython3",
   "version": "3.6.0"
  }
 },
 "nbformat": 4,
 "nbformat_minor": 2
}
