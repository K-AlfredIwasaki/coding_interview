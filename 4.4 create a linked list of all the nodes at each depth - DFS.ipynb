{
 "cells": [
  {
   "cell_type": "code",
   "execution_count": 1,
   "metadata": {
    "collapsed": true
   },
   "outputs": [],
   "source": [
    "class LinkedList:\n",
    "    def __init__(self,content):\n",
    "        self.content = content\n",
    "        self.next = None\n",
    "\n",
    "    def __str__(self):\n",
    "        return \"( \" + str(self.content) + str(self.next) + \" )\""
   ]
  },
  {
   "cell_type": "code",
   "execution_count": 2,
   "metadata": {
    "collapsed": true
   },
   "outputs": [],
   "source": [
    "import random\n",
    "\n",
    "class BinaryTree:\n",
    "    def __init__(self, content, left=None, right=None):\n",
    "        self.content = content\n",
    "        self.left = left\n",
    "        self.right = right\n",
    "        \n",
    "        self.depth = -1\n",
    "        \n",
    "    def __str__(self):\n",
    "        return \"(\" + str(self.content) + \" ( \" + str(self.left) + \" | \"  \\\n",
    "    + str(self.right) + \"))\""
   ]
  },
  {
   "cell_type": "code",
   "execution_count": 3,
   "metadata": {
    "collapsed": true
   },
   "outputs": [],
   "source": [
    "# test case1\n",
    "def make_random_balanced_tree(depth):\n",
    "    if depth > 0:\n",
    "        tree = BinaryTree(random.randint(0, 100))\n",
    "        tree.left = make_random_balanced_tree(depth - 1)\n",
    "        tree.right = make_random_balanced_tree(depth - 1)\n",
    "        return tree\n",
    "    else:\n",
    "        return None"
   ]
  },
  {
   "cell_type": "code",
   "execution_count": 4,
   "metadata": {
    "scrolled": false
   },
   "outputs": [
    {
     "name": "stdout",
     "output_type": "stream",
     "text": [
      "(4 ( (61 ( (31 ( None | None)) | (82 ( None | None)))) | (7 ( (62 ( None | None)) | (27 ( None | None))))))\n"
     ]
    }
   ],
   "source": [
    "b = make_random_balanced_tree(3)\n",
    "print (b)"
   ]
  },
  {
   "cell_type": "code",
   "execution_count": 5,
   "metadata": {
    "collapsed": true
   },
   "outputs": [],
   "source": [
    "# depth first search\n",
    "def btree_to_llists(btree,depth=1,returnlist=[]):\n",
    "    ### three things to track: node, depth, returnList(result)\n",
    "    print (\"test\") \n",
    "    # first item in the depth\n",
    "    # think when depth = 1, len = 0 thus len < depth\n",
    "    if len(returnlist) < depth:\n",
    "        returnlist.append(LinkedList(btree.content))\n",
    "\n",
    "    # non-first item in teh depth\n",
    "    else:\n",
    "        ll=LinkedList(btree.content)\n",
    "        ll.next=returnlist[depth-1]\n",
    "        returnlist[depth-1]=ll\n",
    "\n",
    "    ### general relationship\n",
    "    if btree.left != None:\n",
    "        returnlist = btree_to_llists(btree.left,depth+1,returnlist)\n",
    "    if btree.right != None:\n",
    "        returnlist = btree_to_llists(btree.right,depth+1,returnlist)\n",
    "\n",
    "    return returnlist"
   ]
  },
  {
   "cell_type": "code",
   "execution_count": 6,
   "metadata": {},
   "outputs": [
    {
     "name": "stdout",
     "output_type": "stream",
     "text": [
      "test\n",
      "test\n",
      "test\n",
      "test\n",
      "test\n",
      "test\n",
      "test\n",
      "1: ( 4None )\n",
      "2: ( 7( 61None ) )\n",
      "3: ( 27( 62( 82( 31None ) ) ) )\n"
     ]
    }
   ],
   "source": [
    "count=0\n",
    "for ll in btree_to_llists(b):\n",
    "    count += 1\n",
    "    print (str(count) + \": \" + str(ll))"
   ]
  }
 ],
 "metadata": {
  "kernelspec": {
   "display_name": "Python 3",
   "language": "python",
   "name": "python3"
  },
  "language_info": {
   "codemirror_mode": {
    "name": "ipython",
    "version": 3
   },
   "file_extension": ".py",
   "mimetype": "text/x-python",
   "name": "python",
   "nbconvert_exporter": "python",
   "pygments_lexer": "ipython3",
   "version": "3.6.0"
  }
 },
 "nbformat": 4,
 "nbformat_minor": 2
}
