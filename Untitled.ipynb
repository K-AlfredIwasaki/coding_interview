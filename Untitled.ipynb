{
 "cells": [
  {
   "cell_type": "code",
   "execution_count": 14,
   "metadata": {
    "collapsed": true
   },
   "outputs": [],
   "source": [
    "arr = [0, 1, 2, 2, 2, 3, 4, 5, 7, 7, 9, 12]"
   ]
  },
  {
   "cell_type": "code",
   "execution_count": 24,
   "metadata": {
    "collapsed": true
   },
   "outputs": [],
   "source": [
    "def find_low(arr, num):\n",
    "    start = 0\n",
    "    end = len(arr) - 1\n",
    "    \n",
    "    while start <= end:\n",
    "        mid = (start + end) // 2\n",
    "        \n",
    "        print (\"mid is {}\".format(mid))\n",
    "        print (\"arr[mid] is {}\".format(arr[mid]))\n",
    "        \n",
    "        if arr[mid] == num:\n",
    "            end = mid - 1\n",
    "        elif num < arr[mid]: # go left\n",
    "            end = mid - 1\n",
    "        else: # go right\n",
    "            start = mid + 1\n",
    "        \n",
    "        print (\"start is {} and end is {}\".format(start, end))\n",
    "        \n",
    "    if arr[start] == num:\n",
    "        return start"
   ]
  },
  {
   "cell_type": "code",
   "execution_count": 32,
   "metadata": {
    "collapsed": true
   },
   "outputs": [],
   "source": [
    "def find_high(arr, num):\n",
    "    start = 0\n",
    "    end = len(arr) - 1\n",
    "    \n",
    "    while start <= end:\n",
    "        mid = (start + end) // 2\n",
    "        \n",
    "        print (\"mid is {}\".format(mid))\n",
    "        print (\"arr[mid] is {}\".format(arr[mid]))\n",
    "        \n",
    "        if arr[mid] == num:\n",
    "            start = mid + 1\n",
    "        elif num < arr[mid]: # go left\n",
    "            end = mid - 1\n",
    "        else: # go right\n",
    "            start = mid + 1\n",
    "        \n",
    "        print (\"start is {} and end is {}\".format(start, end))\n",
    "        \n",
    "    if arr[end] == num:\n",
    "        return end"
   ]
  },
  {
   "cell_type": "code",
   "execution_count": 33,
   "metadata": {},
   "outputs": [
    {
     "name": "stdout",
     "output_type": "stream",
     "text": [
      "mid is 5\n",
      "arr[mid] is 3\n",
      "start is 0 and end is 4\n",
      "mid is 2\n",
      "arr[mid] is 2\n",
      "start is 3 and end is 4\n",
      "mid is 3\n",
      "arr[mid] is 2\n",
      "start is 4 and end is 4\n",
      "mid is 4\n",
      "arr[mid] is 2\n",
      "start is 5 and end is 4\n"
     ]
    },
    {
     "data": {
      "text/plain": [
       "4"
      ]
     },
     "execution_count": 33,
     "metadata": {},
     "output_type": "execute_result"
    }
   ],
   "source": [
    "find_high(arr, 2)"
   ]
  },
  {
   "cell_type": "code",
   "execution_count": 25,
   "metadata": {},
   "outputs": [
    {
     "name": "stdout",
     "output_type": "stream",
     "text": [
      "mid is 5\n",
      "arr[mid] is 3\n",
      "start is 0 and end is 4\n",
      "mid is 2\n",
      "arr[mid] is 2\n",
      "start is 0 and end is 1\n",
      "mid is 0\n",
      "arr[mid] is 0\n",
      "start is 1 and end is 1\n",
      "mid is 1\n",
      "arr[mid] is 1\n",
      "start is 2 and end is 1\n"
     ]
    },
    {
     "data": {
      "text/plain": [
       "2"
      ]
     },
     "execution_count": 25,
     "metadata": {},
     "output_type": "execute_result"
    }
   ],
   "source": [
    "find_low(arr, 2)"
   ]
  },
  {
   "cell_type": "code",
   "execution_count": 26,
   "metadata": {
    "scrolled": false
   },
   "outputs": [
    {
     "name": "stdout",
     "output_type": "stream",
     "text": [
      "mid is 5\n",
      "arr[mid] is 3\n",
      "start is 6 and end is 11\n",
      "mid is 8\n",
      "arr[mid] is 7\n",
      "start is 6 and end is 7\n",
      "mid is 6\n",
      "arr[mid] is 4\n",
      "start is 7 and end is 7\n",
      "mid is 7\n",
      "arr[mid] is 5\n",
      "start is 8 and end is 7\n"
     ]
    },
    {
     "data": {
      "text/plain": [
       "8"
      ]
     },
     "execution_count": 26,
     "metadata": {},
     "output_type": "execute_result"
    }
   ],
   "source": [
    "find_low(arr, 7)"
   ]
  }
 ],
 "metadata": {
  "kernelspec": {
   "display_name": "Python 3",
   "language": "python",
   "name": "python3"
  },
  "language_info": {
   "codemirror_mode": {
    "name": "ipython",
    "version": 3
   },
   "file_extension": ".py",
   "mimetype": "text/x-python",
   "name": "python",
   "nbconvert_exporter": "python",
   "pygments_lexer": "ipython3",
   "version": "3.6.0"
  }
 },
 "nbformat": 4,
 "nbformat_minor": 2
}
