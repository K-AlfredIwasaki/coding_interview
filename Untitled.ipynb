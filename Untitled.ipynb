{
 "cells": [
  {
   "cell_type": "code",
   "execution_count": 3,
   "metadata": {
    "collapsed": true
   },
   "outputs": [],
   "source": [
    "from collections import deque"
   ]
  },
  {
   "cell_type": "code",
   "execution_count": 6,
   "metadata": {
    "scrolled": true
   },
   "outputs": [
    {
     "name": "stdout",
     "output_type": "stream",
     "text": [
      "(20 ( (8 ( (6 ( (2 ( None | None)) | (7 ( None | None)))) | (10 ( None | None)))) | (22 ( (15 ( None | None)) | (30 ( None | None))))))\n"
     ]
    }
   ],
   "source": [
    "from data_structure.binary_tree import *\n",
    "b = BinaryTree(20)\n",
    "b.left = BinaryTree(8)\n",
    "b.left.left = BinaryTree(6)\n",
    "b.left.left.left = BinaryTree(2)\n",
    "b.left.left.right = BinaryTree(7)\n",
    "b.left.right = BinaryTree(10)\n",
    "b.right = BinaryTree(22)\n",
    "b.right.left = BinaryTree(15)\n",
    "b.right.right = BinaryTree(30)\n",
    "print (b)"
   ]
  },
  {
   "cell_type": "code",
   "execution_count": 12,
   "metadata": {},
   "outputs": [],
   "source": [
    "def inorder_traversal(head):\n",
    "    stack = deque()\n",
    "    while head != None or len(stack) != 0:\n",
    "        if head != None:\n",
    "            stack.append(head)\n",
    "            head = head.left\n",
    "            continue\n",
    "        \n",
    "        if len(stack) != 0:\n",
    "            head = stack[-1].right\n",
    "            print (stack[-1].content)\n",
    "            stack.pop()\n"
   ]
  },
  {
   "cell_type": "code",
   "execution_count": 13,
   "metadata": {},
   "outputs": [
    {
     "name": "stdout",
     "output_type": "stream",
     "text": [
      "2\n",
      "6\n",
      "7\n",
      "8\n",
      "10\n",
      "20\n",
      "15\n",
      "22\n",
      "30\n"
     ]
    }
   ],
   "source": [
    "inorder_traversal(b)"
   ]
  }
 ],
 "metadata": {
  "kernelspec": {
   "display_name": "Python 3",
   "language": "python",
   "name": "python3"
  },
  "language_info": {
   "codemirror_mode": {
    "name": "ipython",
    "version": 3
   },
   "file_extension": ".py",
   "mimetype": "text/x-python",
   "name": "python",
   "nbconvert_exporter": "python",
   "pygments_lexer": "ipython3",
   "version": "3.6.0"
  }
 },
 "nbformat": 4,
 "nbformat_minor": 2
}
