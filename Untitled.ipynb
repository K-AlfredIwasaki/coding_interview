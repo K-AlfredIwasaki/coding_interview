{
 "cells": [
  {
   "cell_type": "code",
   "execution_count": 17,
   "metadata": {
    "collapsed": true
   },
   "outputs": [],
   "source": [
    "arr = [52, 22, 67, 31, 80, 23, 53, 70, 93, 2]"
   ]
  },
  {
   "cell_type": "code",
   "execution_count": 18,
   "metadata": {
    "collapsed": true
   },
   "outputs": [],
   "source": [
    "def partition(arr, start, end):\n",
    "    pivot_idx = start\n",
    "    pivot_val = arr[start]\n",
    "    start += 1\n",
    "    \n",
    "    while start <= end:\n",
    "        while arr[start] < pivot_val:\n",
    "            start += 1\n",
    "        while arr[end] > pivot_val:\n",
    "            end += -1\n",
    "            \n",
    "        if start < end:\n",
    "            arr[start], arr[end] = arr[end], arr[start]\n",
    "        \n",
    "    arr[pivot_idx], arr[end] = arr[end], arr[pivot_idx]\n",
    "    \n",
    "    return end"
   ]
  },
  {
   "cell_type": "code",
   "execution_count": 19,
   "metadata": {
    "collapsed": true
   },
   "outputs": [],
   "source": [
    "def quicksort(arr, start, end):\n",
    "    if start < end:\n",
    "        idx = partition(arr, start, end)\n",
    "        quicksort(arr, start, idx - 1)\n",
    "        quicksort(arr, idx + 1, end)\n",
    "\n",
    "    return arr"
   ]
  },
  {
   "cell_type": "code",
   "execution_count": 20,
   "metadata": {},
   "outputs": [
    {
     "data": {
      "text/plain": [
       "[2, 22, 23, 31, 52, 53, 67, 70, 80, 93]"
      ]
     },
     "execution_count": 20,
     "metadata": {},
     "output_type": "execute_result"
    }
   ],
   "source": [
    "quicksort(arr, 0, len(arr) - 1)"
   ]
  }
 ],
 "metadata": {
  "kernelspec": {
   "display_name": "Python 3",
   "language": "python",
   "name": "python3"
  },
  "language_info": {
   "codemirror_mode": {
    "name": "ipython",
    "version": 3
   },
   "file_extension": ".py",
   "mimetype": "text/x-python",
   "name": "python",
   "nbconvert_exporter": "python",
   "pygments_lexer": "ipython3",
   "version": "3.6.0"
  }
 },
 "nbformat": 4,
 "nbformat_minor": 2
}
