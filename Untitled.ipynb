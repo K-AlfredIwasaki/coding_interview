{
 "cells": [
  {
   "cell_type": "code",
   "execution_count": 48,
   "metadata": {
    "collapsed": false
   },
   "outputs": [],
   "source": [
    "\"\"\"\n",
    "use a single array to implement three stacks\n",
    "\"\"\"\n",
    "class singleArrayThreeStack():\n",
    "    \n",
    "    def __init__(self, stackNum=3, stackLen=10):\n",
    "        self.stack = [0] * stackNum * stackLen\n",
    "        self.pointers = [0] * stackNum\n",
    "        self.stackLen = stackLen\n",
    "        \n",
    "    def add(self, stackPos, item):\n",
    "        # check if the stack is full?\n",
    "        if self.pointers[stackPos-1] >= self.stackLen - 1:\n",
    "            print(\"stack {} is full\".format(stackPos))\n",
    "        else:\n",
    "            p = self.getPos(stackPos)\n",
    "            self.stack[p] = item\n",
    "            self.pointers[stackPos-1] += 1\n",
    "            \n",
    "    def __str__(self):\n",
    "        return \"->\".join(str(i) for i in self.stack)\n",
    "    \n",
    "    def getPos(self, stackPos):\n",
    "        return (stackPos-1) * self.stackLen + self.pointers[stackPos-1]"
   ]
  },
  {
   "cell_type": "code",
   "execution_count": 49,
   "metadata": {
    "collapsed": true
   },
   "outputs": [],
   "source": [
    "stack = singleArrayThreeStack()"
   ]
  },
  {
   "cell_type": "code",
   "execution_count": 50,
   "metadata": {
    "collapsed": false
   },
   "outputs": [
    {
     "name": "stdout",
     "output_type": "stream",
     "text": [
      "0->0->0->0->0->0->0->0->0->0->0->0->0->0->0->0->0->0->0->0->0->0->0->0->0->0->0->0->0->0\n"
     ]
    }
   ],
   "source": [
    "print(stack)"
   ]
  },
  {
   "cell_type": "code",
   "execution_count": 51,
   "metadata": {
    "collapsed": false
   },
   "outputs": [
    {
     "name": "stdout",
     "output_type": "stream",
     "text": [
      "0\n",
      "1\n",
      "2\n",
      "3\n",
      "4\n",
      "5\n",
      "6\n",
      "7\n",
      "8\n",
      "9\n",
      "stack 1 is full\n",
      "stack 2 is full\n",
      "stack 3 is full\n",
      "10\n",
      "stack 1 is full\n",
      "stack 2 is full\n",
      "stack 3 is full\n"
     ]
    }
   ],
   "source": [
    "from random import randint\n",
    "for i in range(11):\n",
    "    print (i)\n",
    "    stack.add(1, randint(0, 20))\n",
    "    stack.add(2, randint(0, 20))\n",
    "    stack.add(3, randint(0, 20))"
   ]
  },
  {
   "cell_type": "code",
   "execution_count": 47,
   "metadata": {
    "collapsed": false
   },
   "outputs": [
    {
     "name": "stdout",
     "output_type": "stream",
     "text": [
      "18->12->17->12->4->4->3->15->2->0->9->1->13->0->11->9->16->2->10->0->2->5->9->3->19->14->8->4->15->0\n"
     ]
    }
   ],
   "source": [
    "print(stack)"
   ]
  }
 ],
 "metadata": {
  "kernelspec": {
   "display_name": "Python 3",
   "language": "python",
   "name": "python3"
  },
  "language_info": {
   "codemirror_mode": {
    "name": "ipython",
    "version": 3
   },
   "file_extension": ".py",
   "mimetype": "text/x-python",
   "name": "python",
   "nbconvert_exporter": "python",
   "pygments_lexer": "ipython3",
   "version": "3.6.0"
  }
 },
 "nbformat": 4,
 "nbformat_minor": 2
}
