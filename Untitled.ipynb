{
 "cells": [
  {
   "cell_type": "code",
   "execution_count": 81,
   "metadata": {
    "scrolled": false
   },
   "outputs": [
    {
     "name": "stdout",
     "output_type": "stream",
     "text": [
      "12=>5=>22=>8=>3=>9=>20=>2\n"
     ]
    }
   ],
   "source": [
    "from data_structure.linkedlist_simple import *\n",
    "\n",
    "l = LinkedList(12)\n",
    "l.next = LinkedList(5)\n",
    "l.next.next = LinkedList(22)\n",
    "l.next.next.next = LinkedList(8)\n",
    "l.next.next.next.next = LinkedList(3)\n",
    "l.next.next.next.next.next = LinkedList(9)\n",
    "l.next.next.next.next.next.next = LinkedList(20)\n",
    "l.next.next.next.next.next.next.next = LinkedList(2)\n",
    "\n",
    "print (l)"
   ]
  },
  {
   "cell_type": "code",
   "execution_count": 82,
   "metadata": {
    "collapsed": true
   },
   "outputs": [],
   "source": [
    "def split_half(head):\n",
    "    fast = head\n",
    "    n = 0\n",
    "    while fast != None:\n",
    "        fast = fast.next\n",
    "        n += 1\n",
    "        \n",
    "    n = n // 2\n",
    "    \n",
    "    a = head\n",
    "    b = None\n",
    "    \n",
    "    while n > 1:\n",
    "        head = head.next\n",
    "        n -= 1\n",
    "    \n",
    "    b = head.next\n",
    "    head.next = None\n",
    "    \n",
    "    return a, b\n",
    "\n",
    "def merge(a, b):\n",
    "    if a == None and b == None:\n",
    "        return\n",
    "    elif a == None:\n",
    "        return b\n",
    "    elif b == None:\n",
    "        return a\n",
    "        \n",
    "    \n",
    "    result = None\n",
    "    tail = None\n",
    "    while a != None and b != None:\n",
    "        \n",
    "        if a.content < b.content:\n",
    "            temp = a\n",
    "            a = a.next\n",
    "        else:\n",
    "            temp = b\n",
    "            b = b.next\n",
    "        \n",
    "        # first item\n",
    "        if not result:\n",
    "            result = temp\n",
    "            tail = temp\n",
    "        # following items\n",
    "        else:\n",
    "            tail.next = temp\n",
    "            tail = temp\n",
    "    \n",
    "    if a != None:\n",
    "        tail.next = a\n",
    "        \n",
    "    if b != None:\n",
    "        tail.next = b\n",
    "        \n",
    "    return result"
   ]
  },
  {
   "cell_type": "code",
   "execution_count": 83,
   "metadata": {
    "collapsed": true
   },
   "outputs": [],
   "source": [
    "def merge_sort(head):\n",
    "    # base\n",
    "    if head == None:\n",
    "        return\n",
    "    \n",
    "    if head.next == None:\n",
    "        return head\n",
    "        \n",
    "    # split\n",
    "    a, b = split_half(head)\n",
    "    \n",
    "    # recursion\n",
    "    left = merge_sort(a)\n",
    "    right = merge_sort(b)\n",
    "    \n",
    "    return merge(left, right)\n",
    "        "
   ]
  },
  {
   "cell_type": "code",
   "execution_count": 84,
   "metadata": {},
   "outputs": [
    {
     "name": "stdout",
     "output_type": "stream",
     "text": [
      "2=>3=>5=>8=>9=>12=>20=>22\n"
     ]
    }
   ],
   "source": [
    "print (merge_sort(l))"
   ]
  }
 ],
 "metadata": {
  "kernelspec": {
   "display_name": "Python 3",
   "language": "python",
   "name": "python3"
  },
  "language_info": {
   "codemirror_mode": {
    "name": "ipython",
    "version": 3
   },
   "file_extension": ".py",
   "mimetype": "text/x-python",
   "name": "python",
   "nbconvert_exporter": "python",
   "pygments_lexer": "ipython3",
   "version": "3.6.0"
  }
 },
 "nbformat": 4,
 "nbformat_minor": 2
}
