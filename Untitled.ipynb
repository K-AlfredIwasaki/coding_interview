{
 "cells": [
  {
   "cell_type": "code",
   "execution_count": 1,
   "metadata": {
    "collapsed": true
   },
   "outputs": [],
   "source": [
    "class Vertex():\n",
    "    \n",
    "    def __init__(self, node):\n",
    "        self.node = node\n",
    "        self.adjacent = {} # vertex : edge\n",
    "        \n",
    "    def add_neighbor(self, vertex, weight):\n",
    "        self.adjacent[vertex] = weight\n",
    "        \n",
    "    def __str__(self):\n",
    "        # print self.node and self.adjacent\n",
    "        neighbors = \",\".join(vertex.node for vertex in self.adjacent)\n",
    "        return (\"current node is {} and its neighbors are {}\".format(self.node, neighbors))\n",
    "        \n",
    "class Graph():\n",
    "    \n",
    "    def __init__(self):\n",
    "        self.vert_dict = {} # node: vertex\n",
    "        \n",
    "    def add_vertex(self, node):\n",
    "        self.vert_dict[node] = Vertex(node)\n",
    "        \n",
    "    def add_edge(self, frm, to, weight): # frm and to are node not vertex\n",
    "        \n",
    "        # confirm there are frm and to if not create vertex with frm/to\n",
    "        if frm not in self.vert_dict.keys():\n",
    "            self.add_vertex(frm)\n",
    "            \n",
    "        if to not in self.vert_dict.keys():\n",
    "            self.add_vertex(to)\n",
    "            \n",
    "        # add edge with weight\n",
    "        self.vert_dict[frm].add_neighbor(self.vert_dict[to], weight)\n",
    "        self.vert_dict[to].add_neighbor(self.vert_dict[frm], weight)\n",
    "        "
   ]
  },
  {
   "cell_type": "code",
   "execution_count": 2,
   "metadata": {
    "collapsed": true
   },
   "outputs": [],
   "source": [
    "g = Graph()"
   ]
  },
  {
   "cell_type": "code",
   "execution_count": 3,
   "metadata": {
    "collapsed": true
   },
   "outputs": [],
   "source": [
    "g.add_vertex(\"a\")\n",
    "g.add_vertex(\"b\")\n",
    "g.add_vertex(\"c\")\n",
    "g.add_vertex(\"d\")\n",
    "g.add_vertex(\"e\")\n",
    "g.add_vertex(\"f\")\n",
    "g.add_vertex(\"g\")"
   ]
  },
  {
   "cell_type": "code",
   "execution_count": 4,
   "metadata": {},
   "outputs": [
    {
     "data": {
      "text/plain": [
       "{'a': <__main__.Vertex at 0x197c7e65828>,\n",
       " 'b': <__main__.Vertex at 0x197c7e65588>,\n",
       " 'c': <__main__.Vertex at 0x197c7e65860>,\n",
       " 'd': <__main__.Vertex at 0x197c7e65908>,\n",
       " 'e': <__main__.Vertex at 0x197c7e65940>,\n",
       " 'f': <__main__.Vertex at 0x197c7e65978>,\n",
       " 'g': <__main__.Vertex at 0x197c7e65898>}"
      ]
     },
     "execution_count": 4,
     "metadata": {},
     "output_type": "execute_result"
    }
   ],
   "source": [
    "g.vert_dict"
   ]
  },
  {
   "cell_type": "code",
   "execution_count": 6,
   "metadata": {
    "scrolled": true
   },
   "outputs": [
    {
     "name": "stdout",
     "output_type": "stream",
     "text": [
      "current node is a and its neighbors are \n",
      "current node is b and its neighbors are \n",
      "current node is c and its neighbors are \n",
      "current node is d and its neighbors are \n",
      "current node is e and its neighbors are \n",
      "current node is f and its neighbors are \n",
      "current node is g and its neighbors are \n"
     ]
    }
   ],
   "source": [
    "for node in g.vert_dict:\n",
    "    print (g.vert_dict[node])"
   ]
  },
  {
   "cell_type": "code",
   "execution_count": 8,
   "metadata": {
    "collapsed": true
   },
   "outputs": [],
   "source": [
    "g.add_edge(\"a\", \"b\", 2)\n",
    "g.add_edge(\"a\", \"c\", 1)\n",
    "g.add_edge(\"a\", \"d\", 2)\n",
    "g.add_edge(\"c\", \"e\", 2)\n",
    "g.add_edge(\"c\", \"d\", 1)\n",
    "g.add_edge(\"e\", \"f\", 1)\n",
    "g.add_edge(\"e\", \"g\", 2)\n",
    "g.add_edge(\"b\", \"d\", 3)\n",
    "g.add_edge(\"d\", \"g\", 2)"
   ]
  },
  {
   "cell_type": "code",
   "execution_count": 9,
   "metadata": {},
   "outputs": [
    {
     "name": "stdout",
     "output_type": "stream",
     "text": [
      "current node is a and its neighbors are b,c,d\n",
      "current node is b and its neighbors are a,d\n",
      "current node is c and its neighbors are a,e,d\n",
      "current node is d and its neighbors are a,c,b,g\n",
      "current node is e and its neighbors are c,f,g\n",
      "current node is f and its neighbors are e\n",
      "current node is g and its neighbors are e,d\n"
     ]
    }
   ],
   "source": [
    "for node in g.vert_dict:\n",
    "    print (g.vert_dict[node])"
   ]
  }
 ],
 "metadata": {
  "kernelspec": {
   "display_name": "Python 3",
   "language": "python",
   "name": "python3"
  },
  "language_info": {
   "codemirror_mode": {
    "name": "ipython",
    "version": 3
   },
   "file_extension": ".py",
   "mimetype": "text/x-python",
   "name": "python",
   "nbconvert_exporter": "python",
   "pygments_lexer": "ipython3",
   "version": "3.6.0"
  }
 },
 "nbformat": 4,
 "nbformat_minor": 2
}
