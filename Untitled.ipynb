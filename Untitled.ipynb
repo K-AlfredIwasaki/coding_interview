{
 "cells": [
  {
   "cell_type": "code",
   "execution_count": 55,
   "metadata": {
    "collapsed": true
   },
   "outputs": [],
   "source": [
    "from data_structure.binary_tree import *\n",
    "\n",
    "b = BinaryTree(\"a\")\n",
    "b.left = BinaryTree(\"b\")\n",
    "b.left.left = BinaryTree(\"c\")\n",
    "b.left.left.left = BinaryTree(\"d\")\n",
    "b.left.left.right = BinaryTree(\"e\")\n",
    "b.left.right = BinaryTree(\"f\")\n",
    "b.left.right.left = BinaryTree(\"g\")\n",
    "b.left.right.left.left = BinaryTree(\"h\")\n",
    "b.left.right.left.left.left = BinaryTree(\"i\")\n",
    "b.left.right.left.left.left.left = BinaryTree(\"0\")\n",
    "b.left.right.left.left.left.left.left = BinaryTree(\"0\")\n",
    "b.left.right.left.right = BinaryTree(\"k\")\n",
    "b.left.right.right = BinaryTree(\"l\")\n",
    "b.left.right.right.right = BinaryTree(\"m\")\n",
    "b.left.right.right.right.right = BinaryTree(\"0\")\n",
    "b.left.right.right.right.right.left = BinaryTree(\"0\")\n",
    "b.left.right.right.right.right.left.left = BinaryTree(\"0\")\n",
    "b.right = BinaryTree(\"n\")"
   ]
  },
  {
   "cell_type": "code",
   "execution_count": 56,
   "metadata": {
    "collapsed": true
   },
   "outputs": [],
   "source": [
    "def max_diameter_rec(root):\n",
    "    # base\n",
    "    if root == None:\n",
    "        return 0, 0\n",
    "    \n",
    "    # recursion\n",
    "    l_height, l_diam = max_diameter_rec(root.left)\n",
    "    r_height, r_diam = max_diameter_rec(root.right)\n",
    "    \n",
    "    current_diam = l_height + 1 + r_height\n",
    "    max_diam = max(current_diam, l_diam, r_diam)\n",
    "    max_height = max(l_height, r_height) + 1\n",
    "    \n",
    "    return max_height, max_diam\n",
    "    "
   ]
  },
  {
   "cell_type": "code",
   "execution_count": 57,
   "metadata": {},
   "outputs": [
    {
     "data": {
      "text/plain": [
       "(8, 11)"
      ]
     },
     "execution_count": 57,
     "metadata": {},
     "output_type": "execute_result"
    }
   ],
   "source": [
    "max_diameter_rec(b)"
   ]
  }
 ],
 "metadata": {
  "kernelspec": {
   "display_name": "Python 3",
   "language": "python",
   "name": "python3"
  },
  "language_info": {
   "codemirror_mode": {
    "name": "ipython",
    "version": 3
   },
   "file_extension": ".py",
   "mimetype": "text/x-python",
   "name": "python",
   "nbconvert_exporter": "python",
   "pygments_lexer": "ipython3",
   "version": "3.6.0"
  }
 },
 "nbformat": 4,
 "nbformat_minor": 2
}
