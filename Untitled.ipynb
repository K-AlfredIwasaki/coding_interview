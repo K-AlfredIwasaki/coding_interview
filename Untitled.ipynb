{
 "cells": [
  {
   "cell_type": "code",
   "execution_count": 20,
   "metadata": {},
   "outputs": [],
   "source": [
    "array = [2, 4, 4, 4, 122, 122, 122, 10, 10, 10, 55, 55, 55]"
   ]
  },
  {
   "cell_type": "code",
   "execution_count": 24,
   "metadata": {
    "collapsed": true
   },
   "outputs": [],
   "source": [
    "num = 50"
   ]
  },
  {
   "cell_type": "code",
   "execution_count": 28,
   "metadata": {
    "scrolled": false
   },
   "outputs": [],
   "source": [
    "num>>= 4"
   ]
  },
  {
   "cell_type": "code",
   "execution_count": 29,
   "metadata": {},
   "outputs": [
    {
     "data": {
      "text/plain": [
       "3"
      ]
     },
     "execution_count": 29,
     "metadata": {},
     "output_type": "execute_result"
    }
   ],
   "source": [
    "num"
   ]
  },
  {
   "cell_type": "code",
   "execution_count": 30,
   "metadata": {},
   "outputs": [
    {
     "data": {
      "text/plain": [
       "'0b11'"
      ]
     },
     "execution_count": 30,
     "metadata": {},
     "output_type": "execute_result"
    }
   ],
   "source": [
    "bin(num)"
   ]
  },
  {
   "cell_type": "code",
   "execution_count": 21,
   "metadata": {
    "collapsed": true
   },
   "outputs": [],
   "source": [
    "def find_single_number(array):\n",
    "    result = 0\n",
    "    # count a bit in each digit if the count % 3 != 0 then add that digit to result\n",
    "    for i in range(32):\n",
    "        count = 0\n",
    "        for item in array:\n",
    "            if (item >> i) & 1 == 1:\n",
    "                count += 1\n",
    "        \n",
    "        print (\"there are {} of 1s in bit {}\".format(count, i))\n",
    "        result |= ((count % 3) << i)\n",
    "        \n",
    "    if result >= 2**31:\n",
    "        result -= 2**32\n",
    "        \n",
    "    return result"
   ]
  },
  {
   "cell_type": "code",
   "execution_count": 22,
   "metadata": {},
   "outputs": [
    {
     "name": "stdout",
     "output_type": "stream",
     "text": [
      "there are 3 of 1s in bit 0\n",
      "there are 10 of 1s in bit 1\n",
      "there are 6 of 1s in bit 2\n",
      "there are 6 of 1s in bit 3\n",
      "there are 6 of 1s in bit 4\n",
      "there are 6 of 1s in bit 5\n",
      "there are 3 of 1s in bit 6\n",
      "there are 0 of 1s in bit 7\n",
      "there are 0 of 1s in bit 8\n",
      "there are 0 of 1s in bit 9\n",
      "there are 0 of 1s in bit 10\n",
      "there are 0 of 1s in bit 11\n",
      "there are 0 of 1s in bit 12\n",
      "there are 0 of 1s in bit 13\n",
      "there are 0 of 1s in bit 14\n",
      "there are 0 of 1s in bit 15\n",
      "there are 0 of 1s in bit 16\n",
      "there are 0 of 1s in bit 17\n",
      "there are 0 of 1s in bit 18\n",
      "there are 0 of 1s in bit 19\n",
      "there are 0 of 1s in bit 20\n",
      "there are 0 of 1s in bit 21\n",
      "there are 0 of 1s in bit 22\n",
      "there are 0 of 1s in bit 23\n",
      "there are 0 of 1s in bit 24\n",
      "there are 0 of 1s in bit 25\n",
      "there are 0 of 1s in bit 26\n",
      "there are 0 of 1s in bit 27\n",
      "there are 0 of 1s in bit 28\n",
      "there are 0 of 1s in bit 29\n",
      "there are 0 of 1s in bit 30\n",
      "there are 0 of 1s in bit 31\n"
     ]
    },
    {
     "data": {
      "text/plain": [
       "2"
      ]
     },
     "execution_count": 22,
     "metadata": {},
     "output_type": "execute_result"
    }
   ],
   "source": [
    "find_single_number(array)"
   ]
  }
 ],
 "metadata": {
  "kernelspec": {
   "display_name": "Python 3",
   "language": "python",
   "name": "python3"
  },
  "language_info": {
   "codemirror_mode": {
    "name": "ipython",
    "version": 3
   },
   "file_extension": ".py",
   "mimetype": "text/x-python",
   "name": "python",
   "nbconvert_exporter": "python",
   "pygments_lexer": "ipython3",
   "version": "3.6.0"
  }
 },
 "nbformat": 4,
 "nbformat_minor": 2
}
