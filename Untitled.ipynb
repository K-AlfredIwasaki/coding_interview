{
 "cells": [
  {
   "cell_type": "code",
   "execution_count": 36,
   "metadata": {},
   "outputs": [],
   "source": [
    "arr = [52, 22, 60, 3, 99, 23, 11, 2, 20]"
   ]
  },
  {
   "cell_type": "code",
   "execution_count": 37,
   "metadata": {
    "scrolled": false
   },
   "outputs": [
    {
     "name": "stdout",
     "output_type": "stream",
     "text": [
      "pivot_value is 52, start is 0\n",
      "arr[start] 22, pivot_value 52\n",
      "start is 1\n",
      "[52, 22, 60, 3, 99, 23, 11, 2, 20]\n",
      "arr[start] 20, pivot_value 52\n",
      "start is 2\n",
      "arr[start] 3, pivot_value 52\n",
      "start is 3\n",
      "[52, 22, 20, 3, 99, 23, 11, 2, 60]\n",
      "arr[start] 2, pivot_value 52\n",
      "start is 4\n",
      "arr[start] 23, pivot_value 52\n",
      "start is 5\n",
      "arr[start] 11, pivot_value 52\n",
      "start is 6\n",
      "[52, 22, 20, 3, 2, 23, 11, 99, 60]\n",
      "[11, 22, 20, 3, 2, 23, 52, 99, 60]\n",
      "-------------one partition done -----------------------\n",
      "pivot_value is 11, start is 0\n",
      "[11, 22, 20, 3, 2, 23, 52, 99, 60]\n",
      "arr[start] 2, pivot_value 11\n",
      "start is 1\n",
      "[11, 2, 20, 3, 22, 23, 52, 99, 60]\n",
      "arr[start] 3, pivot_value 11\n",
      "start is 2\n",
      "[11, 2, 3, 20, 22, 23, 52, 99, 60]\n",
      "[3, 2, 11, 20, 22, 23, 52, 99, 60]\n",
      "-------------one partition done -----------------------\n",
      "pivot_value is 3, start is 0\n",
      "[2, 3, 11, 20, 22, 23, 52, 99, 60]\n",
      "-------------one partition done -----------------------\n",
      "pivot_value is 20, start is 3\n",
      "[2, 3, 11, 20, 22, 23, 52, 99, 60]\n",
      "[2, 3, 11, 20, 22, 23, 52, 99, 60]\n",
      "-------------one partition done -----------------------\n",
      "pivot_value is 22, start is 4\n",
      "[2, 3, 11, 20, 23, 22, 52, 99, 60]\n",
      "-------------one partition done -----------------------\n",
      "pivot_value is 99, start is 7\n",
      "[2, 3, 11, 20, 23, 22, 52, 60, 99]\n",
      "-------------one partition done -----------------------\n"
     ]
    },
    {
     "data": {
      "text/plain": [
       "[2, 3, 11, 20, 23, 22, 52, 60, 99]"
      ]
     },
     "execution_count": 37,
     "metadata": {},
     "output_type": "execute_result"
    }
   ],
   "source": [
    "def partition(arr, start, end):\n",
    "    pivot_value = arr[start]\n",
    "    print (\"pivot_value is {}, start is {}\".format(pivot_value, start))\n",
    "    pivot = start\n",
    "    start += 1\n",
    "    \n",
    "    while start < end: ##\n",
    "        \n",
    "        while arr[start] < pivot_value:\n",
    "            print (\"arr[start] {}, pivot_value {}\".format(arr[start], pivot_value))\n",
    "            print (\"start is {}\".format(start))\n",
    "            start += 1\n",
    "            \n",
    "        while arr[end] > pivot_value:\n",
    "            end += -1\n",
    "            \n",
    "        print(arr)\n",
    "            \n",
    "        if start < end:\n",
    "            arr[start], arr[end] = arr[end], arr[start]\n",
    "            \n",
    "    arr[pivot], arr[end] = arr[end], arr[pivot]\n",
    "    \n",
    "    print(arr)\n",
    "    print(\"-------------one partition done -----------------------\")\n",
    "    \n",
    "    return end\n",
    "    \n",
    "def quick_sort(arr, start, end):\n",
    "    if start < end:\n",
    "        pivot = partition(arr, start, end)\n",
    "        quick_sort(arr, start, pivot - 1)\n",
    "        quick_sort(arr, pivot + 1, end)\n",
    "\n",
    "    return arr\n",
    "    \n",
    "quick_sort(arr, 0, len(arr)-1)\n",
    "    "
   ]
  }
 ],
 "metadata": {
  "kernelspec": {
   "display_name": "Python 3",
   "language": "python",
   "name": "python3"
  },
  "language_info": {
   "codemirror_mode": {
    "name": "ipython",
    "version": 3
   },
   "file_extension": ".py",
   "mimetype": "text/x-python",
   "name": "python",
   "nbconvert_exporter": "python",
   "pygments_lexer": "ipython3",
   "version": "3.6.0"
  }
 },
 "nbformat": 4,
 "nbformat_minor": 2
}
