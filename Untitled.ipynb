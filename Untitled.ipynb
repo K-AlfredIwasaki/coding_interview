{
 "cells": [
  {
   "cell_type": "code",
   "execution_count": 24,
   "metadata": {},
   "outputs": [],
   "source": [
    "def division(dividend, divisor):\n",
    "    temp = divisor\n",
    "    quotient = 1\n",
    "    result = 0\n",
    "    solved = False\n",
    "    \n",
    "    while not solved or temp < dividend:\n",
    "    \n",
    "        while temp < dividend:\n",
    "            temp <<= 1\n",
    "            quotient <<= 1\n",
    "\n",
    "        if temp == dividend:\n",
    "            return result + quotient\n",
    "        \n",
    "        elif temp > dividend:\n",
    "            temp >>= 1\n",
    "            quotient >>= 1\n",
    "            \n",
    "            result += quotient\n",
    "            quotient = 1\n",
    "            dividend -= temp\n",
    "            temp = divisor\n",
    "            print (\"temp is {}, dividned is {}\".format(temp, dividend))\n",
    "    \n",
    "    if temp < dividend:\n",
    "        return \"not divisable\""
   ]
  },
  {
   "cell_type": "code",
   "execution_count": 26,
   "metadata": {
    "scrolled": true
   },
   "outputs": [
    {
     "name": "stdout",
     "output_type": "stream",
     "text": [
      "temp is 4, dividned is 8\n"
     ]
    },
    {
     "data": {
      "text/plain": [
       "10"
      ]
     },
     "execution_count": 26,
     "metadata": {},
     "output_type": "execute_result"
    }
   ],
   "source": [
    "division(40, 4)"
   ]
  }
 ],
 "metadata": {
  "kernelspec": {
   "display_name": "Python 3",
   "language": "python",
   "name": "python3"
  },
  "language_info": {
   "codemirror_mode": {
    "name": "ipython",
    "version": 3
   },
   "file_extension": ".py",
   "mimetype": "text/x-python",
   "name": "python",
   "nbconvert_exporter": "python",
   "pygments_lexer": "ipython3",
   "version": "3.6.0"
  }
 },
 "nbformat": 4,
 "nbformat_minor": 2
}
