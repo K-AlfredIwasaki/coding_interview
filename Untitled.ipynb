{
 "cells": [
  {
   "cell_type": "code",
   "execution_count": 35,
   "metadata": {
    "collapsed": true
   },
   "outputs": [],
   "source": [
    "def all_subsets(current_ints, current_sub=\"\"):\n",
    "    print (current_ints)\n",
    "#     print (current_sub)\n",
    "    if len(current_ints) == 0:\n",
    "        print(\"done with {}\".format( current_sub))\n",
    "        return\n",
    "    \n",
    "    for i in [0, 1]:\n",
    "        if i == 0:\n",
    "            temp = current_ints.pop()\n",
    "            all_subsets(current_ints, current_sub)\n",
    "            current_ints.append(temp)\n",
    "            \n",
    "        elif i == 1:\n",
    "            temp = current_ints.pop()\n",
    "            all_subsets(current_ints, current_sub + str(temp))\n",
    "            current_ints.append(temp)\n",
    "            current"
   ]
  },
  {
   "cell_type": "code",
   "execution_count": 36,
   "metadata": {},
   "outputs": [
    {
     "name": "stdout",
     "output_type": "stream",
     "text": [
      "[2, 3, 4]\n",
      "[2, 3]\n",
      "[2]\n",
      "[]\n",
      "done with \n",
      "[]\n",
      "done with 2\n",
      "[2]\n",
      "[]\n",
      "done with 3\n",
      "[]\n",
      "done with 32\n",
      "[2, 3]\n",
      "[2]\n",
      "[]\n",
      "done with 4\n",
      "[]\n",
      "done with 42\n",
      "[2]\n",
      "[]\n",
      "done with 43\n",
      "[]\n",
      "done with 432\n"
     ]
    }
   ],
   "source": [
    "all_subsets([2, 3, 4])"
   ]
  }
 ],
 "metadata": {
  "kernelspec": {
   "display_name": "Python 3",
   "language": "python",
   "name": "python3"
  },
  "language_info": {
   "codemirror_mode": {
    "name": "ipython",
    "version": 3
   },
   "file_extension": ".py",
   "mimetype": "text/x-python",
   "name": "python",
   "nbconvert_exporter": "python",
   "pygments_lexer": "ipython3",
   "version": "3.6.0"
  }
 },
 "nbformat": 4,
 "nbformat_minor": 2
}
