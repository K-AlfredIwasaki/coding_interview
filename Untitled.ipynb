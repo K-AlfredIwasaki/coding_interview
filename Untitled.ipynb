{
 "cells": [
  {
   "cell_type": "code",
   "execution_count": 28,
   "metadata": {
    "scrolled": true
   },
   "outputs": [
    {
     "name": "stdout",
     "output_type": "stream",
     "text": [
      "12=>10=>11=>2=>4=>22=>45=>128\n"
     ]
    }
   ],
   "source": [
    "from data_structure.linkedlist_simple import *\n",
    "\n",
    "l = LinkedList(12)\n",
    "l.next = LinkedList(10)\n",
    "l.next.next = LinkedList(11)\n",
    "l.next.next.next = LinkedList(2)\n",
    "l.next.next.next.next = LinkedList(4)\n",
    "l.next.next.next.next.next = LinkedList(22)\n",
    "l.next.next.next.next.next.next = LinkedList(45)\n",
    "l.next.next.next.next.next.next.next = LinkedList(128)\n",
    "\n",
    "print (l)"
   ]
  },
  {
   "cell_type": "code",
   "execution_count": 29,
   "metadata": {
    "collapsed": true
   },
   "outputs": [],
   "source": [
    "def reverse_k_elements(head, k):\n",
    "    big_head = head\n",
    "    p_tail = None\n",
    "    \n",
    "    while head != None:\n",
    "        c_tail = head\n",
    "        c_head = None\n",
    "        \n",
    "        n = k\n",
    "        while head != None and n != 0:\n",
    "            temp = head.next\n",
    "            head.next = c_head\n",
    "            \n",
    "            c_head = head\n",
    "            print (c_head)\n",
    "            head = temp\n",
    "            n += -1\n",
    "            \n",
    "        if p_tail:\n",
    "            p_tail.next = c_head\n",
    "        else:\n",
    "            big_head = c_head\n",
    "        \n",
    "        p_tail = c_tail\n",
    "        \n",
    "    return big_head"
   ]
  },
  {
   "cell_type": "code",
   "execution_count": 30,
   "metadata": {},
   "outputs": [
    {
     "name": "stdout",
     "output_type": "stream",
     "text": [
      "12\n",
      "10=>12\n",
      "11=>10=>12\n",
      "2\n",
      "4=>2\n",
      "22=>4=>2\n",
      "45\n",
      "128=>45\n",
      "11=>10=>12=>22=>4=>2=>128=>45\n"
     ]
    }
   ],
   "source": [
    "print (reverse_k_elements(l, 3))"
   ]
  }
 ],
 "metadata": {
  "kernelspec": {
   "display_name": "Python 3",
   "language": "python",
   "name": "python3"
  },
  "language_info": {
   "codemirror_mode": {
    "name": "ipython",
    "version": 3
   },
   "file_extension": ".py",
   "mimetype": "text/x-python",
   "name": "python",
   "nbconvert_exporter": "python",
   "pygments_lexer": "ipython3",
   "version": "3.6.0"
  }
 },
 "nbformat": 4,
 "nbformat_minor": 2
}
