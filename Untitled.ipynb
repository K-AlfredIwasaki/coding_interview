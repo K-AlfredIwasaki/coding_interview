{
 "cells": [
  {
   "cell_type": "markdown",
   "metadata": {},
   "source": [
    "# Problem\n",
    "\n"
   ]
  },
  {
   "cell_type": "code",
   "execution_count": 32,
   "metadata": {
    "scrolled": true
   },
   "outputs": [
    {
     "data": {
      "text/plain": [
       "['t', 's', 't', 'b']"
      ]
     },
     "execution_count": 32,
     "metadata": {},
     "output_type": "execute_result"
    }
   ],
   "source": [
    "string = \"tstb\"\n",
    "arr = list(string)\n",
    "arr"
   ]
  },
  {
   "cell_type": "code",
   "execution_count": 33,
   "metadata": {},
   "outputs": [
    {
     "data": {
      "text/plain": [
       "{'b', 's', 't'}"
      ]
     },
     "execution_count": 33,
     "metadata": {},
     "output_type": "execute_result"
    }
   ],
   "source": [
    "set(arr)"
   ]
  },
  {
   "cell_type": "code",
   "execution_count": 34,
   "metadata": {
    "collapsed": true
   },
   "outputs": [],
   "source": [
    "def permute_string(arr, combo = []):\n",
    "    # base\n",
    "    if len(arr) == 1:\n",
    "        \n",
    "        combo.append(arr[-1])\n",
    "    \n",
    "        print (combo)\n",
    "        \n",
    "        combo.pop()\n",
    "        \n",
    "        return\n",
    "    \n",
    "    # get unique characters in arr\n",
    "    # this is to prevent duplicate combinations caused by duplicate characters in the arr\n",
    "    uniques = set(arr)\n",
    "    \n",
    "    # recursive\n",
    "    for i in uniques:\n",
    "        combo.append(i)\n",
    "        arr.remove(i)\n",
    "        \n",
    "        permute_string(arr, combo)\n",
    "        \n",
    "        combo.pop()\n",
    "        arr.append(i)\n",
    "    "
   ]
  },
  {
   "cell_type": "code",
   "execution_count": 35,
   "metadata": {
    "scrolled": false
   },
   "outputs": [
    {
     "name": "stdout",
     "output_type": "stream",
     "text": [
      "['t', 't', 's', 'b']\n",
      "['t', 't', 'b', 's']\n",
      "['t', 's', 't', 'b']\n",
      "['t', 's', 'b', 't']\n",
      "['t', 'b', 't', 's']\n",
      "['t', 'b', 's', 't']\n",
      "['s', 't', 't', 'b']\n",
      "['s', 't', 'b', 't']\n",
      "['s', 'b', 't', 't']\n",
      "['b', 't', 't', 's']\n",
      "['b', 't', 's', 't']\n",
      "['b', 's', 't', 't']\n"
     ]
    }
   ],
   "source": [
    "permute_string(arr)"
   ]
  }
 ],
 "metadata": {
  "kernelspec": {
   "display_name": "Python 3",
   "language": "python",
   "name": "python3"
  },
  "language_info": {
   "codemirror_mode": {
    "name": "ipython",
    "version": 3
   },
   "file_extension": ".py",
   "mimetype": "text/x-python",
   "name": "python",
   "nbconvert_exporter": "python",
   "pygments_lexer": "ipython3",
   "version": "3.6.0"
  }
 },
 "nbformat": 4,
 "nbformat_minor": 2
}
