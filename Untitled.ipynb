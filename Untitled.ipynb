{
 "cells": [
  {
   "cell_type": "code",
   "execution_count": 12,
   "metadata": {
    "scrolled": false
   },
   "outputs": [
    {
     "name": "stdout",
     "output_type": "stream",
     "text": [
      "\n",
      "\t\t Inorder Tree Traversal\n",
      "\n",
      "\t25\n",
      "\t12\n",
      "\t30\n",
      "\t10\n",
      "\t36\n",
      "\t15\n",
      "root.left is None\n",
      "fixPrevPrt.pre is 25\n",
      "root.left is 25\n",
      "fixPrevPrt.pre is 12\n",
      "root.left is 12\n",
      "fixPrevPrt.pre is 30\n",
      "root.left is 30\n",
      "fixPrevPrt.pre is 10\n",
      "root.left is 10\n",
      "fixPrevPrt.pre is 36\n",
      "root.left is 36\n",
      "fixPrevPrt.pre is 15\n",
      "\n",
      "\n",
      "\t\tDLL Traversal\n",
      "\n",
      "\t25\n",
      "\t12\n",
      "\t30\n",
      "\t10\n",
      "\t36\n",
      "\t15\n"
     ]
    }
   ],
   "source": []
  }
 ],
 "metadata": {
  "kernelspec": {
   "display_name": "Python 3",
   "language": "python",
   "name": "python3"
  },
  "language_info": {
   "codemirror_mode": {
    "name": "ipython",
    "version": 3
   },
   "file_extension": ".py",
   "mimetype": "text/x-python",
   "name": "python",
   "nbconvert_exporter": "python",
   "pygments_lexer": "ipython3",
   "version": "3.6.0"
  }
 },
 "nbformat": 4,
 "nbformat_minor": 2
}
