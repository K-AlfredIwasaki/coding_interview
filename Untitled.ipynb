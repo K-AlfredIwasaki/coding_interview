{
 "cells": [
  {
   "cell_type": "code",
   "execution_count": 34,
   "metadata": {},
   "outputs": [
    {
     "name": "stdout",
     "output_type": "stream",
     "text": [
      "(100 ( (-50 ( (25 ( None | None)) | (25 ( None | None)))) | (200 ( (125 ( None | None)) | (350 ( None | None))))))\n"
     ]
    }
   ],
   "source": [
    "from data_structure.binary_tree import *\n",
    "b = BinaryTree(100)\n",
    "b.left = BinaryTree(-50)\n",
    "b.left.left = BinaryTree(25)\n",
    "b.left.right = BinaryTree(25)\n",
    "b.right = BinaryTree(200)\n",
    "b.right.left = BinaryTree(125)\n",
    "b.right.right = BinaryTree(350)\n",
    "\n",
    "print (b)"
   ]
  },
  {
   "cell_type": "code",
   "execution_count": 37,
   "metadata": {
    "collapsed": true
   },
   "outputs": [],
   "source": [
    "# focus on tracking sum\n",
    "\n",
    "def delete_zero_sum_rec(root):\n",
    "    # base\n",
    "    if root == None:\n",
    "        return 0\n",
    "    \n",
    "    # recursion\n",
    "    left_total = delete_zero_sum_rec(root.left)\n",
    "    if left_total == 0:\n",
    "        root.left = None\n",
    "    \n",
    "    right_total = delete_zero_sum_rec(root.right)\n",
    "    if right_total == 0:\n",
    "        root.right = None\n",
    "    \n",
    "    return (root.content + right_total + left_total)\n",
    "\n",
    "def delete_zero_sum(root):\n",
    "    if root != None:\n",
    "        sum = delete_zero_sum_rec(root)\n",
    "        if sum == 0:\n",
    "            root = None"
   ]
  },
  {
   "cell_type": "code",
   "execution_count": 38,
   "metadata": {},
   "outputs": [],
   "source": [
    "delete_zero_sum(b)"
   ]
  },
  {
   "cell_type": "code",
   "execution_count": 39,
   "metadata": {},
   "outputs": [
    {
     "name": "stdout",
     "output_type": "stream",
     "text": [
      "(100 ( None | (200 ( (125 ( None | None)) | (350 ( None | None))))))\n"
     ]
    }
   ],
   "source": [
    "print (b)"
   ]
  }
 ],
 "metadata": {
  "kernelspec": {
   "display_name": "Python 3",
   "language": "python",
   "name": "python3"
  },
  "language_info": {
   "codemirror_mode": {
    "name": "ipython",
    "version": 3
   },
   "file_extension": ".py",
   "mimetype": "text/x-python",
   "name": "python",
   "nbconvert_exporter": "python",
   "pygments_lexer": "ipython3",
   "version": "3.6.0"
  }
 },
 "nbformat": 4,
 "nbformat_minor": 2
}
