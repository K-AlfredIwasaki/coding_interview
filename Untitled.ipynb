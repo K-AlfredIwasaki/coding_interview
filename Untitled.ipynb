{
 "cells": [
  {
   "cell_type": "code",
   "execution_count": null,
   "metadata": {
    "collapsed": true
   },
   "outputs": [],
   "source": []
  },
  {
   "cell_type": "markdown",
   "metadata": {},
   "source": [
    "http://www.geeksforgeeks.org/length-of-the-longest-valid-substring/"
   ]
  },
  {
   "cell_type": "code",
   "execution_count": 9,
   "metadata": {
    "collapsed": true
   },
   "outputs": [],
   "source": [
    "def findMaxLen(string):\n",
    "    n = len(string)\n",
    " \n",
    "    # Create a stack and push -1 as initial index to it.\n",
    "    stk = []\n",
    "    stk.append(-1)\n",
    " \n",
    "    # Initialize result\n",
    "    result = 0\n",
    " \n",
    "    # Traverse all characters of given string\n",
    "    for i in range(n):\n",
    "        print(stk)\n",
    "     \n",
    "        # If opening bracket, push index of it\n",
    "        if string[i] == '(':\n",
    "            stk.append(i)\n",
    " \n",
    "        else:    # If closing bracket, i.e., str[i] = ')'\n",
    "     \n",
    "            # Pop the previous opening bracket's index\n",
    "            stk.pop()\n",
    "     \n",
    "            # Check if this length formed with base of\n",
    "            # current valid substring is more than max \n",
    "            # so far\n",
    "            if len(stk) != 0:\n",
    "                result = max(result, i - stk[-1])\n",
    " \n",
    "            # If stack is empty. push current index as \n",
    "            # base for next valid substring (if any)\n",
    "            else:\n",
    "                stk.append(i)\n",
    " \n",
    "    return result"
   ]
  },
  {
   "cell_type": "code",
   "execution_count": 11,
   "metadata": {},
   "outputs": [
    {
     "name": "stdout",
     "output_type": "stream",
     "text": [
      "[-1]\n",
      "[-1, 0]\n",
      "[-1, 0, 1]\n",
      "[-1, 0, 1, 2]\n",
      "[-1, 0, 1, 2, 3]\n",
      "[-1, 0, 1, 2, 3, 4]\n",
      "[-1, 0, 1, 2, 3]\n",
      "[-1, 0, 1, 2]\n",
      "[-1, 0, 1, 2, 7]\n",
      "[-1, 0, 1, 2, 7, 8]\n",
      "[-1, 0, 1, 2, 7, 8, 9]\n",
      "[-1, 0, 1, 2, 7, 8, 9, 10]\n"
     ]
    },
    {
     "data": {
      "text/plain": [
       "4"
      ]
     },
     "execution_count": 11,
     "metadata": {},
     "output_type": "execute_result"
    }
   ],
   "source": [
    "findMaxLen(\"((((())(((()\")"
   ]
  }
 ],
 "metadata": {
  "kernelspec": {
   "display_name": "Python 3",
   "language": "python",
   "name": "python3"
  },
  "language_info": {
   "codemirror_mode": {
    "name": "ipython",
    "version": 3
   },
   "file_extension": ".py",
   "mimetype": "text/x-python",
   "name": "python",
   "nbconvert_exporter": "python",
   "pygments_lexer": "ipython3",
   "version": "3.6.0"
  }
 },
 "nbformat": 4,
 "nbformat_minor": 2
}
