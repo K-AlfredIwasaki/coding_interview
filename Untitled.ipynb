{
 "cells": [
  {
   "cell_type": "code",
   "execution_count": 19,
   "metadata": {
    "collapsed": true
   },
   "outputs": [],
   "source": [
    "class DirectedGraph:\n",
    "    def __init__(self,content):\n",
    "        self.content = content\n",
    "        self.neighbours = []\n",
    "        \n",
    "n1 = DirectedGraph(1)\n",
    "n2 = DirectedGraph(2)\n",
    "n3 = DirectedGraph(3)\n",
    "n4 = DirectedGraph(4)\n",
    "n5 = DirectedGraph(5)\n",
    "n6 = DirectedGraph(6)\n",
    "\n",
    "n1.neighbours.append(n2)\n",
    "n2.neighbours.append(n3)\n",
    "n2.neighbours.append(n4)\n",
    "n4.neighbours.append(n5)\n",
    "n4.neighbours.append(n1)"
   ]
  },
  {
   "cell_type": "code",
   "execution_count": 20,
   "metadata": {},
   "outputs": [],
   "source": [
    "def routeFinder(node1, node2, visitedNodes = [], visitedRoutes = {}):\n",
    "    # base case\n",
    "    if node1 == node2:\n",
    "        return True\n",
    "    \n",
    "    route = str(hash(node1)) + \",\" + str(hash(node2))\n",
    "    if route in visitedRoutes.keys():\n",
    "        return visitedRoutes[route]\n",
    "    \n",
    "    if node1 not in visitedNodes:\n",
    "        visitedNodes.append(node1)\n",
    "    \n",
    "    \n",
    "    # general relationship\n",
    "    nodefound = False\n",
    "    for node in node1.neighbours:\n",
    "        if node not in visitedNodes:\n",
    "            # first visit to the node\n",
    "            visitedNodes.append(node)\n",
    "        else:\n",
    "            # non-first visit\n",
    "            continue\n",
    "        \n",
    "        # recursive\n",
    "        nodefound = routeFinder(node, node2, visitedNodes, visitedRoutes)\n",
    "        \n",
    "        if nodefound:\n",
    "            break\n",
    "        \n",
    "    # update trackers\n",
    "    visitedRoutes[route] = nodefound\n",
    "    \n",
    "    return nodefound"
   ]
  },
  {
   "cell_type": "code",
   "execution_count": 21,
   "metadata": {
    "scrolled": true
   },
   "outputs": [
    {
     "data": {
      "text/plain": [
       "True"
      ]
     },
     "execution_count": 21,
     "metadata": {},
     "output_type": "execute_result"
    }
   ],
   "source": [
    "routeFinder(n1, n3)"
   ]
  }
 ],
 "metadata": {
  "kernelspec": {
   "display_name": "Python 3",
   "language": "python",
   "name": "python3"
  },
  "language_info": {
   "codemirror_mode": {
    "name": "ipython",
    "version": 3
   },
   "file_extension": ".py",
   "mimetype": "text/x-python",
   "name": "python",
   "nbconvert_exporter": "python",
   "pygments_lexer": "ipython3",
   "version": "3.6.0"
  }
 },
 "nbformat": 4,
 "nbformat_minor": 2
}
