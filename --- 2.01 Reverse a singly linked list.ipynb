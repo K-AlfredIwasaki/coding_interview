{
 "cells": [
  {
   "cell_type": "code",
   "execution_count": 1,
   "metadata": {
    "scrolled": false
   },
   "outputs": [],
   "source": [
    "# import linked list class\n",
    "from data_structure.linkedlist import *\n",
    "\n",
    "# import stack class\n",
    "from data_structure.stack import *"
   ]
  },
  {
   "cell_type": "code",
   "execution_count": 2,
   "metadata": {
    "scrolled": true
   },
   "outputs": [
    {
     "name": "stdout",
     "output_type": "stream",
     "text": [
      "LinkedList [ 3=>1=>6=>16=>6 ]\n"
     ]
    }
   ],
   "source": [
    "from random import randint\n",
    "linkedlist = LinkedList()\n",
    "for i in range(5):\n",
    "    value = randint(0, 20)\n",
    "    linkedlist.addNode(value)\n",
    "    \n",
    "print (linkedlist)"
   ]
  },
  {
   "cell_type": "code",
   "execution_count": 3,
   "metadata": {},
   "outputs": [
    {
     "name": "stdout",
     "output_type": "stream",
     "text": [
      "LinkedList [ 6=>16=>6=>1=>3 ]\n"
     ]
    }
   ],
   "source": [
    "## solution1 ##\n",
    "## Runtime complexity O(n) linear\n",
    "## Memory compexity O(1) constant\n",
    "\n",
    "def reverse_linked_list(original_list):\n",
    "    if original_list.head == None or original_list.head.next == None:\n",
    "        return original_list\n",
    "    else:\n",
    "        pointer1 = original_list.head.next\n",
    "        \n",
    "        reversed_list = LinkedList()\n",
    "        original_list.head.next = reversed_list.head\n",
    "        reversed_list.head = original_list.head\n",
    "#         print (reversed_list)\n",
    "        \n",
    "        pointer2 = reversed_list.head\n",
    "        \n",
    "        while pointer1 != None:\n",
    "            pointer2 = pointer1\n",
    "            pointer1 = pointer1.next\n",
    "            \n",
    "            pointer2.next = reversed_list.head\n",
    "            reversed_list.head = pointer2\n",
    "            \n",
    "        return reversed_list\n",
    "    \n",
    "print (reverse_linked_list(linkedlist))"
   ]
  },
  {
   "cell_type": "code",
   "execution_count": 10,
   "metadata": {},
   "outputs": [
    {
     "name": "stdout",
     "output_type": "stream",
     "text": [
      "LinkedList [ 20=>11=>4=>15=>12 ]\n"
     ]
    }
   ],
   "source": [
    "from random import randint\n",
    "linkedlist = LinkedList()\n",
    "for i in range(5):\n",
    "    value = randint(0, 20)\n",
    "    linkedlist.addNode(value)\n",
    "    \n",
    "print (linkedlist)"
   ]
  },
  {
   "cell_type": "code",
   "execution_count": 11,
   "metadata": {
    "scrolled": false
   },
   "outputs": [
    {
     "name": "stdout",
     "output_type": "stream",
     "text": [
      "LinkedList [ 12=>15=>4=>11=>20 ]\n"
     ]
    }
   ],
   "source": [
    "## solution2 ##\n",
    "## Runtime complexity O(n) linear\n",
    "## Memory compexity O(n) linear\n",
    "\n",
    "\n",
    "def reverse_linked_list(original_list):\n",
    "    stack = Stack()\n",
    "    pointer = original_list.head\n",
    "    while pointer != None:\n",
    "        stack.push(pointer.value)\n",
    "        pointer = pointer.next\n",
    "    \n",
    "    l_list = LinkedList()\n",
    "    while stack.size() != 0:\n",
    "        l_list.addNode(stack.pop())\n",
    "    return l_list\n",
    "        \n",
    "print (reverse_linked_list(linkedlist))"
   ]
  }
 ],
 "metadata": {
  "kernelspec": {
   "display_name": "Python 3",
   "language": "python",
   "name": "python3"
  },
  "language_info": {
   "codemirror_mode": {
    "name": "ipython",
    "version": 3
   },
   "file_extension": ".py",
   "mimetype": "text/x-python",
   "name": "python",
   "nbconvert_exporter": "python",
   "pygments_lexer": "ipython3",
   "version": "3.6.0"
  }
 },
 "nbformat": 4,
 "nbformat_minor": 2
}
