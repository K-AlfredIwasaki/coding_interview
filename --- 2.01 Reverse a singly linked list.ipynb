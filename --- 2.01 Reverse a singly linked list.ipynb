{
 "cells": [
  {
   "cell_type": "code",
   "execution_count": 3,
   "metadata": {
    "collapsed": true,
    "scrolled": false
   },
   "outputs": [],
   "source": [
    "# import linked list class\n",
    "from data_structure.linkedlist import *\n",
    "\n",
    "# import stack class\n",
    "from data_structure.stack import *"
   ]
  },
  {
   "cell_type": "code",
   "execution_count": 4,
   "metadata": {
    "scrolled": true
   },
   "outputs": [
    {
     "name": "stdout",
     "output_type": "stream",
     "text": [
      "LinkedList [ 17=>1=>14=>9=>9 ]\n"
     ]
    }
   ],
   "source": [
    "from random import randint\n",
    "linkedlist = LinkedList()\n",
    "for i in range(5):\n",
    "    value = randint(0, 20)\n",
    "    linkedlist.addNode(value)\n",
    "    \n",
    "print (linkedlist)"
   ]
  },
  {
   "cell_type": "code",
   "execution_count": 5,
   "metadata": {},
   "outputs": [
    {
     "name": "stdout",
     "output_type": "stream",
     "text": [
      "LinkedList [ 9=>9=>14=>1=>17 ]\n"
     ]
    }
   ],
   "source": [
    "## solution1 ##\n",
    "## Runtime complexity O(n) linear\n",
    "## Memory compexity O(1) constant\n",
    "\n",
    "def reverse_linked_list(original_list):\n",
    "    if original_list.head == None or original_list.head.next == None:\n",
    "        return original_list\n",
    "    else:\n",
    "        pointer1 = original_list.head.next\n",
    "        \n",
    "        reversed_list = LinkedList()\n",
    "        original_list.head.next = reversed_list.head\n",
    "        reversed_list.head = original_list.head\n",
    "#         print (reversed_list)\n",
    "        \n",
    "        pointer2 = reversed_list.head\n",
    "        \n",
    "        while pointer1 != None:\n",
    "            pointer2 = pointer1\n",
    "            pointer1 = pointer1.next\n",
    "            \n",
    "            pointer2.next = reversed_list.head\n",
    "            reversed_list.head = pointer2\n",
    "            \n",
    "        return reversed_list\n",
    "    \n",
    "print (reverse_linked_list(linkedlist))"
   ]
  },
  {
   "cell_type": "code",
   "execution_count": 11,
   "metadata": {
    "collapsed": true
   },
   "outputs": [],
   "source": [
    "## solution1.5\n",
    "## same to solution1 but with simpler linked list implementation (no head, no tail)\n",
    "\n",
    "def reverse_linked_list2(head):\n",
    "    if head == None or head.next == None:\n",
    "        return head\n",
    "    \n",
    "    c_head = None\n",
    "    \n",
    "    while head != None:\n",
    "        temp = head.next\n",
    "        if not c_head:\n",
    "            head.next = None\n",
    "            c_head = head\n",
    "            \n",
    "            \n",
    "        else:\n",
    "            head.next = c_head\n",
    "            c_head = head\n",
    "            \n",
    "        head = temp\n",
    "        \n",
    "    return c_head"
   ]
  },
  {
   "cell_type": "code",
   "execution_count": 9,
   "metadata": {},
   "outputs": [
    {
     "name": "stdout",
     "output_type": "stream",
     "text": [
      "1=>2=>3=>4=>5\n"
     ]
    }
   ],
   "source": [
    "from data_structure.linkedlist_simple import *\n",
    "from data_structure.stack import *\n",
    "\n",
    "l = LinkedList(1)\n",
    "l.next = LinkedList(2)\n",
    "l.next.next = LinkedList(3)\n",
    "l.next.next.next = LinkedList(4)\n",
    "l.next.next.next.next = LinkedList(5)\n",
    "\n",
    "print (l)"
   ]
  },
  {
   "cell_type": "code",
   "execution_count": 10,
   "metadata": {},
   "outputs": [
    {
     "name": "stdout",
     "output_type": "stream",
     "text": [
      "5=>4=>3=>2=>1\n"
     ]
    }
   ],
   "source": [
    "print (reverse_linked_list2(l))"
   ]
  },
  {
   "cell_type": "code",
   "execution_count": 10,
   "metadata": {},
   "outputs": [
    {
     "name": "stdout",
     "output_type": "stream",
     "text": [
      "LinkedList [ 20=>11=>4=>15=>12 ]\n"
     ]
    }
   ],
   "source": [
    "from random import randint\n",
    "linkedlist = LinkedList()\n",
    "for i in range(5):\n",
    "    value = randint(0, 20)\n",
    "    linkedlist.addNode(value)\n",
    "    \n",
    "print (linkedlist)"
   ]
  },
  {
   "cell_type": "code",
   "execution_count": 11,
   "metadata": {
    "scrolled": false
   },
   "outputs": [
    {
     "name": "stdout",
     "output_type": "stream",
     "text": [
      "LinkedList [ 12=>15=>4=>11=>20 ]\n"
     ]
    }
   ],
   "source": [
    "## solution2 ##\n",
    "## Runtime complexity O(n) linear\n",
    "## Memory compexity O(n) linear\n",
    "\n",
    "\n",
    "def reverse_linked_list(original_list):\n",
    "    stack = Stack()\n",
    "    pointer = original_list.head\n",
    "    while pointer != None:\n",
    "        stack.push(pointer.value)\n",
    "        pointer = pointer.next\n",
    "    \n",
    "    l_list = LinkedList()\n",
    "    while stack.size() != 0:\n",
    "        l_list.addNode(stack.pop())\n",
    "    return l_list\n",
    "        \n",
    "print (reverse_linked_list(linkedlist))"
   ]
  }
 ],
 "metadata": {
  "kernelspec": {
   "display_name": "Python 3",
   "language": "python",
   "name": "python3"
  },
  "language_info": {
   "codemirror_mode": {
    "name": "ipython",
    "version": 3
   },
   "file_extension": ".py",
   "mimetype": "text/x-python",
   "name": "python",
   "nbconvert_exporter": "python",
   "pygments_lexer": "ipython3",
   "version": "3.6.0"
  }
 },
 "nbformat": 4,
 "nbformat_minor": 2
}
