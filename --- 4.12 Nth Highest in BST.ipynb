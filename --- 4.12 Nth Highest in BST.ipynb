{
 "cells": [
  {
   "cell_type": "code",
   "execution_count": 5,
   "metadata": {
    "collapsed": true
   },
   "outputs": [],
   "source": [
    "from data_structure.binary_tree import *\n",
    "b = BinaryTree(100)\n",
    "b.left = BinaryTree(50)\n",
    "b.left.left = BinaryTree(25)\n",
    "b.left.right = BinaryTree(75)\n",
    "b.right = BinaryTree(200)\n",
    "b.right.left = BinaryTree(125)\n",
    "b.right.right = BinaryTree(350)"
   ]
  },
  {
   "cell_type": "code",
   "execution_count": 6,
   "metadata": {},
   "outputs": [],
   "source": [
    "# reverse inorder traversal\n",
    "current_count = 0\n",
    "def reverse_inorder_traversal(btree, n):\n",
    "    # baes\n",
    "    if btree == None:\n",
    "        return\n",
    "    \n",
    "    result = reverse_inorder_traversal(btree.right, n)\n",
    "    if result != None:\n",
    "        return result\n",
    "    \n",
    "    # increment the count when visit a node in inorder traversal order\n",
    "    global current_count\n",
    "    current_count += 1\n",
    "    \n",
    "    if n == current_count:\n",
    "        return btree.content\n",
    "        \n",
    "    result = reverse_inorder_traversal(btree.left, n)\n",
    "    if result != None:\n",
    "        return result\n",
    "    \n",
    "    return None"
   ]
  },
  {
   "cell_type": "code",
   "execution_count": 7,
   "metadata": {},
   "outputs": [
    {
     "data": {
      "text/plain": [
       "100"
      ]
     },
     "execution_count": 7,
     "metadata": {},
     "output_type": "execute_result"
    }
   ],
   "source": [
    "reverse_inorder_traversal(b, 4)"
   ]
  }
 ],
 "metadata": {
  "kernelspec": {
   "display_name": "Python 3",
   "language": "python",
   "name": "python3"
  },
  "language_info": {
   "codemirror_mode": {
    "name": "ipython",
    "version": 3
   },
   "file_extension": ".py",
   "mimetype": "text/x-python",
   "name": "python",
   "nbconvert_exporter": "python",
   "pygments_lexer": "ipython3",
   "version": "3.6.0"
  }
 },
 "nbformat": 4,
 "nbformat_minor": 2
}
