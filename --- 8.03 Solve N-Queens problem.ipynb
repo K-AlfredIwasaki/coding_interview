{
 "cells": [
  {
   "cell_type": "code",
   "execution_count": 141,
   "metadata": {},
   "outputs": [],
   "source": [
    "def isSafe(board, row, col):\n",
    "    # check row on the left\n",
    "    for i in range(col):\n",
    "        if board[row][i] == 1:\n",
    "            return False\n",
    "    \n",
    "    # check upper diagonal on te left\n",
    "    for i, j in zip(range(row, -1, -1), range(col, -1, -1)):\n",
    "        if board[i][j] == 1:\n",
    "            return False\n",
    "    \n",
    "    # check lower diagonal on the left\n",
    "    for i, j in zip(range(row, len(board), 1), range(col, -1, -1)):\n",
    "        if board[i][j] == 1:\n",
    "            return False\n",
    "    \n",
    "    return True"
   ]
  },
  {
   "cell_type": "code",
   "execution_count": 158,
   "metadata": {},
   "outputs": [],
   "source": [
    "import copy\n",
    "def solveNQ_rec(board, col, results):\n",
    "    \n",
    "    if col == len(board):\n",
    "        \n",
    "        results.append(copy.deepcopy(board)) ################## IMPORTANT\n",
    "        return \n",
    "    \n",
    "    # consider all rows in \"col\"\n",
    "    for i in range(len(board)):\n",
    "        if isSafe(board, i, col):\n",
    "            # place queen\n",
    "            board[i][col] = 1\n",
    "            \n",
    "            # recursion to palce rest of the queens col by col\n",
    "            solveNQ_rec(board, col+1, results)\n",
    "            \n",
    "            # backtrack\n",
    "            board[i][col] = 0"
   ]
  },
  {
   "cell_type": "code",
   "execution_count": 159,
   "metadata": {},
   "outputs": [],
   "source": [
    "def solveNQ(n):\n",
    "    board = [[0 for j in range(n)] for i in range(n)]\n",
    "    results = []\n",
    "    \n",
    "    solveNQ_rec(board, 0, results)\n",
    "    \n",
    "    return results\n",
    "    "
   ]
  },
  {
   "cell_type": "code",
   "execution_count": 160,
   "metadata": {},
   "outputs": [
    {
     "data": {
      "text/plain": [
       "[[[0, 0, 1, 0], [1, 0, 0, 0], [0, 0, 0, 1], [0, 1, 0, 0]],\n",
       " [[0, 1, 0, 0], [0, 0, 0, 1], [1, 0, 0, 0], [0, 0, 1, 0]]]"
      ]
     },
     "execution_count": 160,
     "metadata": {},
     "output_type": "execute_result"
    }
   ],
   "source": [
    "solveNQ(4)"
   ]
  }
 ],
 "metadata": {
  "kernelspec": {
   "display_name": "Python 3",
   "language": "python",
   "name": "python3"
  },
  "language_info": {
   "codemirror_mode": {
    "name": "ipython",
    "version": 3
   },
   "file_extension": ".py",
   "mimetype": "text/x-python",
   "name": "python",
   "nbconvert_exporter": "python",
   "pygments_lexer": "ipython3",
   "version": "3.6.0"
  }
 },
 "nbformat": 4,
 "nbformat_minor": 2
}
