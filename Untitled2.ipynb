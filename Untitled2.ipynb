{
 "cells": [
  {
   "cell_type": "code",
   "execution_count": 13,
   "metadata": {},
   "outputs": [
    {
     "data": {
      "text/plain": [
       "'tst'"
      ]
     },
     "execution_count": 13,
     "metadata": {},
     "output_type": "execute_result"
    }
   ],
   "source": [
    "\"\".join([\"t\", \"s\", \"t\"])"
   ]
  },
  {
   "cell_type": "code",
   "execution_count": 28,
   "metadata": {},
   "outputs": [],
   "source": [
    "class Vertex():\n",
    "    def __init__(self, node):\n",
    "        self.node = node\n",
    "        self.adjacent = {}  # vertex, edge\n",
    "        \n",
    "    def add_neighbor(self, vertex, edge):\n",
    "        self.adjacent[vertex] = edge\n",
    "        \n",
    "    def __str__(self):\n",
    "        # print self.node and a node of each neighbor\n",
    "        n = \", \".join([vertex.node for vertex in self.adjacent])\n",
    "        return (\"self.node is {} and has neighbors {}\".format(self.node, n))\n",
    "    \n",
    "    \n",
    "class Graph():\n",
    "    \n",
    "    def __init__(self):\n",
    "        self.vert_dict = {}  # node, vertex\n",
    "        \n",
    "    def add_vertex(self, node):\n",
    "        vertex = Vertex(node)\n",
    "        self.vert_dict[node] = vertex\n",
    "        \n",
    "    def add_neighbor_edge(self, frm, to , edge): # frm, to, node\n",
    "        if frm not in self.vert_dict:\n",
    "            self.add_vertex(frm)\n",
    "            \n",
    "        if to not in self.vert_dict:\n",
    "            self.add_vertex(to)\n",
    "            \n",
    "        # connect in both direction since this is undirected graph\n",
    "        self.vert_dict[frm].add_neighbor(self.vert_dict[to], edge)\n",
    "        self.vert_dict[to].add_neighbor(self.vert_dict[frm], edge)\n",
    "                "
   ]
  },
  {
   "cell_type": "code",
   "execution_count": 29,
   "metadata": {
    "collapsed": true
   },
   "outputs": [],
   "source": [
    "g = Graph()"
   ]
  },
  {
   "cell_type": "code",
   "execution_count": 30,
   "metadata": {
    "collapsed": true
   },
   "outputs": [],
   "source": [
    "g.add_vertex(\"a\")\n",
    "g.add_vertex(\"b\")\n",
    "g.add_vertex(\"c\")\n",
    "g.add_vertex(\"d\")\n",
    "g.add_vertex(\"e\")\n",
    "g.add_vertex(\"f\")"
   ]
  },
  {
   "cell_type": "code",
   "execution_count": 31,
   "metadata": {},
   "outputs": [
    {
     "data": {
      "text/plain": [
       "{'a': <__main__.Vertex at 0x2ac69797128>,\n",
       " 'b': <__main__.Vertex at 0x2ac697970f0>,\n",
       " 'c': <__main__.Vertex at 0x2ac69797160>,\n",
       " 'd': <__main__.Vertex at 0x2ac69797198>,\n",
       " 'e': <__main__.Vertex at 0x2ac697971d0>,\n",
       " 'f': <__main__.Vertex at 0x2ac69797208>}"
      ]
     },
     "execution_count": 31,
     "metadata": {},
     "output_type": "execute_result"
    }
   ],
   "source": [
    "g.vert_dict"
   ]
  },
  {
   "cell_type": "code",
   "execution_count": 32,
   "metadata": {},
   "outputs": [
    {
     "name": "stdout",
     "output_type": "stream",
     "text": [
      "a\n",
      "self.node is a and has neighbors \n",
      "b\n",
      "self.node is b and has neighbors \n",
      "c\n",
      "self.node is c and has neighbors \n",
      "d\n",
      "self.node is d and has neighbors \n",
      "e\n",
      "self.node is e and has neighbors \n",
      "f\n",
      "self.node is f and has neighbors \n"
     ]
    }
   ],
   "source": [
    "for node in g.vert_dict:\n",
    "    print (node)\n",
    "    print (g.vert_dict[node])"
   ]
  },
  {
   "cell_type": "code",
   "execution_count": 33,
   "metadata": {},
   "outputs": [],
   "source": [
    "g.add_neighbor_edge(\"a\", \"b\",  2)\n",
    "g.add_neighbor_edge(\"a\", \"f\",  3)\n",
    "g.add_neighbor_edge(\"c\", \"f\",  2)\n",
    "g.add_neighbor_edge(\"c\", \"d\",  4)\n",
    "g.add_neighbor_edge(\"d\", \"e\",  5)\n",
    "g.add_neighbor_edge(\"b\", \"d\",  -3)\n",
    "g.add_neighbor_edge(\"a\", \"d\",  10)"
   ]
  },
  {
   "cell_type": "code",
   "execution_count": 34,
   "metadata": {
    "scrolled": false
   },
   "outputs": [
    {
     "name": "stdout",
     "output_type": "stream",
     "text": [
      "self.node is a and has neighbors b, f, d\n"
     ]
    }
   ],
   "source": [
    "print (g.vert_dict[\"a\"])"
   ]
  },
  {
   "cell_type": "code",
   "execution_count": 35,
   "metadata": {
    "scrolled": false
   },
   "outputs": [
    {
     "name": "stdout",
     "output_type": "stream",
     "text": [
      "a\n",
      "self.node is a and has neighbors b, f, d\n",
      "b\n",
      "self.node is b and has neighbors a, d\n",
      "c\n",
      "self.node is c and has neighbors f, d\n",
      "d\n",
      "self.node is d and has neighbors c, e, b, a\n",
      "e\n",
      "self.node is e and has neighbors d\n",
      "f\n",
      "self.node is f and has neighbors a, c\n"
     ]
    }
   ],
   "source": [
    "for node in g.vert_dict:\n",
    "    print (node)\n",
    "    print (g.vert_dict[node])"
   ]
  }
 ],
 "metadata": {
  "kernelspec": {
   "display_name": "Python 3",
   "language": "python",
   "name": "python3"
  },
  "language_info": {
   "codemirror_mode": {
    "name": "ipython",
    "version": 3
   },
   "file_extension": ".py",
   "mimetype": "text/x-python",
   "name": "python",
   "nbconvert_exporter": "python",
   "pygments_lexer": "ipython3",
   "version": "3.6.0"
  }
 },
 "nbformat": 4,
 "nbformat_minor": 2
}
