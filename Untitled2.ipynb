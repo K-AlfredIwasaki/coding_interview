{
 "cells": [
  {
   "cell_type": "code",
   "execution_count": 13,
   "metadata": {},
   "outputs": [],
   "source": [
    "# stack\n",
    "\n",
    "class Hanoi:\n",
    "    \n",
    "    def __init__(self, size):\n",
    "        self.towers = [[], [], []]\n",
    "        self.size = size\n",
    "        self.towers[0] = [x for x in range(size, 0, -1)]\n",
    "        \n",
    "    def playHanoi(self):\n",
    "        self.printTowers()\n",
    "        self.moveDisk(self.size, 1, 2, 3)\n",
    "        self.printTowers()\n",
    "        \n",
    "    def moveDisk(self, size, fr, sp, to):\n",
    "        # base case\n",
    "        if size == 1:\n",
    "            data = self.towers[fr-1].pop()\n",
    "            self.towers[to-1].append(data)\n",
    "            print (\"Disk\", data, \": Tower\", fr, \"->\", to      )\n",
    "        else:\n",
    "            self.moveDisk(size-1, fr, to, sp)\n",
    "            self.moveDisk(1, fr, sp, to)\n",
    "            self.moveDisk(size-1, sp, fr, to)\n",
    "        \n",
    "    def printTowers(self):\n",
    "        for i in self.towers:\n",
    "            print (i)"
   ]
  },
  {
   "cell_type": "code",
   "execution_count": 14,
   "metadata": {},
   "outputs": [
    {
     "name": "stdout",
     "output_type": "stream",
     "text": [
      "[5, 4, 3, 2, 1]\n",
      "[]\n",
      "[]\n",
      "Disk 1 : Tower 1 -> 3\n",
      "Disk 2 : Tower 1 -> 2\n",
      "Disk 1 : Tower 3 -> 2\n",
      "Disk 3 : Tower 1 -> 3\n",
      "Disk 1 : Tower 2 -> 1\n",
      "Disk 2 : Tower 2 -> 3\n",
      "Disk 1 : Tower 1 -> 3\n",
      "Disk 4 : Tower 1 -> 2\n",
      "Disk 1 : Tower 3 -> 2\n",
      "Disk 2 : Tower 3 -> 1\n",
      "Disk 1 : Tower 2 -> 1\n",
      "Disk 3 : Tower 3 -> 2\n",
      "Disk 1 : Tower 1 -> 3\n",
      "Disk 2 : Tower 1 -> 2\n",
      "Disk 1 : Tower 3 -> 2\n",
      "Disk 5 : Tower 1 -> 3\n",
      "Disk 1 : Tower 2 -> 1\n",
      "Disk 2 : Tower 2 -> 3\n",
      "Disk 1 : Tower 1 -> 3\n",
      "Disk 3 : Tower 2 -> 1\n",
      "Disk 1 : Tower 3 -> 2\n",
      "Disk 2 : Tower 3 -> 1\n",
      "Disk 1 : Tower 2 -> 1\n",
      "Disk 4 : Tower 2 -> 3\n",
      "Disk 1 : Tower 1 -> 3\n",
      "Disk 2 : Tower 1 -> 2\n",
      "Disk 1 : Tower 3 -> 2\n",
      "Disk 3 : Tower 1 -> 3\n",
      "Disk 1 : Tower 2 -> 1\n",
      "Disk 2 : Tower 2 -> 3\n",
      "Disk 1 : Tower 1 -> 3\n",
      "[]\n",
      "[]\n",
      "[5, 4, 3, 2, 1]\n"
     ]
    }
   ],
   "source": [
    "h = Hanoi(5)\n",
    "h.playHanoi()"
   ]
  }
 ],
 "metadata": {
  "kernelspec": {
   "display_name": "Python 3",
   "language": "python",
   "name": "python3"
  },
  "language_info": {
   "codemirror_mode": {
    "name": "ipython",
    "version": 3
   },
   "file_extension": ".py",
   "mimetype": "text/x-python",
   "name": "python",
   "nbconvert_exporter": "python",
   "pygments_lexer": "ipython3",
   "version": "3.6.0"
  }
 },
 "nbformat": 4,
 "nbformat_minor": 2
}
