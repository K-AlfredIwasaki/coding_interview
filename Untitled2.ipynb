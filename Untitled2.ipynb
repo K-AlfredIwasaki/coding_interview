{
 "cells": [
  {
   "cell_type": "code",
   "execution_count": 113,
   "metadata": {
    "scrolled": true
   },
   "outputs": [
    {
     "name": "stdout",
     "output_type": "stream",
     "text": [
      "12=>10=>10=>2=>4=>22=>4=>128\n"
     ]
    }
   ],
   "source": [
    "from data_structure.linkedlist_simple import *\n",
    "\n",
    "l = LinkedList(12)\n",
    "l.next = LinkedList(10)\n",
    "l.next.next = LinkedList(10)\n",
    "l.next.next.next = LinkedList(2)\n",
    "l.next.next.next.next = LinkedList(4)\n",
    "l.next.next.next.next.next = LinkedList(22)\n",
    "l.next.next.next.next.next.next = LinkedList(4)\n",
    "l.next.next.next.next.next.next.next = LinkedList(128)\n",
    "\n",
    "print (l)"
   ]
  },
  {
   "cell_type": "code",
   "execution_count": 114,
   "metadata": {
    "collapsed": true
   },
   "outputs": [],
   "source": [
    "def swap_nth_with_head(head, n):\n",
    "    if n == 1 or head == None or head.next == None:\n",
    "        return head\n",
    "    \n",
    "    current = head\n",
    "    previous = None\n",
    "    count = 1\n",
    "    while count < n and current.next != None:\n",
    "        previous = current\n",
    "        current = current.next\n",
    "        count += 1\n",
    "    \n",
    "    # if n is out of range\n",
    "    if count != n:\n",
    "        return False\n",
    "    \n",
    "    # replace the head with the node at nth\n",
    "    previous.next = head\n",
    "    temp = head.next\n",
    "    head.next = current.next\n",
    "    \n",
    "    # put the node at nth(current) to the head\n",
    "    current.next = temp\n",
    "    \n",
    "    return current"
   ]
  },
  {
   "cell_type": "code",
   "execution_count": 115,
   "metadata": {
    "scrolled": false
   },
   "outputs": [
    {
     "name": "stdout",
     "output_type": "stream",
     "text": [
      "current is 10=>10=>2=>4=>22=>4=>128\n",
      "10=>12=>10=>2=>4=>22=>4=>128\n"
     ]
    }
   ],
   "source": [
    "print (swap_nth_with_head(l, 2))"
   ]
  }
 ],
 "metadata": {
  "kernelspec": {
   "display_name": "Python 3",
   "language": "python",
   "name": "python3"
  },
  "language_info": {
   "codemirror_mode": {
    "name": "ipython",
    "version": 3
   },
   "file_extension": ".py",
   "mimetype": "text/x-python",
   "name": "python",
   "nbconvert_exporter": "python",
   "pygments_lexer": "ipython3",
   "version": "3.6.0"
  }
 },
 "nbformat": 4,
 "nbformat_minor": 2
}
