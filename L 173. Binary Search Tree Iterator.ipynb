{
 "cells": [
  {
   "cell_type": "code",
   "execution_count": 1,
   "metadata": {
    "collapsed": true
   },
   "outputs": [],
   "source": [
    "class TreeNode(object):\n",
    "    def __init__(self, x):\n",
    "        self.val = x\n",
    "        self.left = None\n",
    "        self.right = None"
   ]
  },
  {
   "cell_type": "code",
   "execution_count": 7,
   "metadata": {},
   "outputs": [],
   "source": [
    "t = TreeNode(100)\n",
    "t.left = TreeNode(75)\n",
    "t.left.left = TreeNode(50)\n",
    "t.left.left.right = TreeNode(60)\n",
    "t.left.left.right.right = TreeNode(65)\n",
    "t.right = TreeNode(150)\n",
    "t.right.right = TreeNode(300)"
   ]
  },
  {
   "cell_type": "code",
   "execution_count": 28,
   "metadata": {
    "collapsed": true
   },
   "outputs": [],
   "source": [
    "from collections import deque\n",
    "\n",
    "class BSTIterator(object):\n",
    "    \n",
    "    def __init__(self, root):\n",
    "        self.stack = deque()\n",
    "        while root != None:\n",
    "            self.stack.append(root)\n",
    "            root = root.left\n",
    "\n",
    "    def hasNext(self):\n",
    "        if len(self.stack) > 0:\n",
    "            return True\n",
    "        else:\n",
    "            return False\n",
    "\n",
    "    def next(self):\n",
    "        root = self.stack[-1].right\n",
    "        temp = self.stack.pop()\n",
    "        \n",
    "        # update stack\n",
    "        while root != None:\n",
    "            self.stack.append(root)\n",
    "            root = root.left\n",
    "        \n",
    "        return temp.val\n",
    "        "
   ]
  },
  {
   "cell_type": "code",
   "execution_count": 29,
   "metadata": {},
   "outputs": [],
   "source": [
    "i, v = BSTIterator(t), []\n",
    "while i.hasNext(): v.append(i.next())"
   ]
  },
  {
   "cell_type": "code",
   "execution_count": 30,
   "metadata": {},
   "outputs": [
    {
     "data": {
      "text/plain": [
       "[50, 60, 65, 75, 100, 150, 300]"
      ]
     },
     "execution_count": 30,
     "metadata": {},
     "output_type": "execute_result"
    }
   ],
   "source": [
    "v"
   ]
  },
  {
   "cell_type": "code",
   "execution_count": null,
   "metadata": {
    "collapsed": true
   },
   "outputs": [],
   "source": [
    "\n",
    "def in_order_iterative(root):\n",
    "    if root == None:\n",
    "        return\n",
    "    \n",
    "    stack = deque()\n",
    "    while len(stack) != 0 or root != None:\n",
    "        while root != None:\n",
    "            stack.append(root)\n",
    "            root = root.left\n",
    "\n",
    "        # once it hits None\n",
    "        # update root node\n",
    "        root = stack[-1].right\n",
    "        temp = stack.pop()\n",
    "        print (temp.val)"
   ]
  },
  {
   "cell_type": "code",
   "execution_count": 11,
   "metadata": {},
   "outputs": [
    {
     "name": "stdout",
     "output_type": "stream",
     "text": [
      "100\n",
      "75\n",
      "50\n",
      "60\n",
      "65\n",
      "150\n",
      "300\n"
     ]
    }
   ],
   "source": [
    "def pre_order(root):\n",
    "    # base\n",
    "    if root == None:\n",
    "        return\n",
    "    \n",
    "    # recursion\n",
    "    print (root.val)\n",
    "    pre_order(root.left)\n",
    "    pre_order(root.right)\n",
    "\n",
    "pre_order(t)"
   ]
  },
  {
   "cell_type": "code",
   "execution_count": 14,
   "metadata": {},
   "outputs": [
    {
     "name": "stdout",
     "output_type": "stream",
     "text": [
      "50\n",
      "60\n",
      "65\n",
      "75\n",
      "100\n",
      "150\n",
      "300\n"
     ]
    }
   ],
   "source": [
    "def in_order(root):\n",
    "    # base\n",
    "    if root == None:\n",
    "        return\n",
    "    \n",
    "    in_order(root.left)\n",
    "    print (root.val)\n",
    "    in_order(root.right)\n",
    "\n",
    "in_order(t)"
   ]
  },
  {
   "cell_type": "code",
   "execution_count": 15,
   "metadata": {},
   "outputs": [
    {
     "name": "stdout",
     "output_type": "stream",
     "text": [
      "65\n",
      "60\n",
      "50\n",
      "75\n",
      "300\n",
      "150\n",
      "100\n"
     ]
    }
   ],
   "source": [
    "def post_order(root):\n",
    "    # base\n",
    "    if root == None:\n",
    "        return\n",
    "    \n",
    "    post_order(root.left)\n",
    "    post_order(root.right)\n",
    "    print(root.val)\n",
    "    \n",
    "post_order(t)"
   ]
  },
  {
   "cell_type": "code",
   "execution_count": 22,
   "metadata": {},
   "outputs": [],
   "source": []
  },
  {
   "cell_type": "code",
   "execution_count": 23,
   "metadata": {},
   "outputs": [
    {
     "name": "stdout",
     "output_type": "stream",
     "text": [
      "50\n",
      "60\n",
      "65\n",
      "75\n",
      "100\n",
      "150\n",
      "300\n"
     ]
    }
   ],
   "source": [
    "in_order_iterative(t)"
   ]
  }
 ],
 "metadata": {
  "kernelspec": {
   "display_name": "Python 3",
   "language": "python",
   "name": "python3"
  },
  "language_info": {
   "codemirror_mode": {
    "name": "ipython",
    "version": 3
   },
   "file_extension": ".py",
   "mimetype": "text/x-python",
   "name": "python",
   "nbconvert_exporter": "python",
   "pygments_lexer": "ipython3",
   "version": "3.6.0"
  }
 },
 "nbformat": 4,
 "nbformat_minor": 2
}
