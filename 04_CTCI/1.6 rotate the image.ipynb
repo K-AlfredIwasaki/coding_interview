{
 "cells": [
  {
   "cell_type": "code",
   "execution_count": 114,
   "metadata": {},
   "outputs": [],
   "source": [
    "class MatrixProcessor:\n",
    "\n",
    "    def __init__(self, matrix):\n",
    "        self.n=len(matrix)\n",
    "        self.m=len(matrix[0])\n",
    "        self.matrix = matrix\n",
    "\n",
    "    def __str__(self):\n",
    "\n",
    "        # Iterating over rows and the matrix via a generator,\n",
    "        # and joining the cell and then row into the final string output\n",
    "        return ''.join(\"%s%s%s\" % (\"[\", ''.join(\"%s%s%s\" % (\" \", str(cell), \" \")\n",
    "                                                for cell in row), \"]\\n\") for row in self.matrix)\n",
    "    \n",
    "#     def rotate90cw(self):\n",
    "        \n",
    "#         columnlist = [[] for i in range((self.m))]\n",
    "#         print(columnlist)\n",
    "#         [[columnlist[i].append(row[i]) for i in range(len(row))] for row in reversed(self.matrix)]\n",
    "#         print(columnlist)\n",
    "#         self.matrix = columnlist\n",
    "\n",
    "    def rotate90cw(self):\n",
    "        # create a blank matrix\n",
    "        columnlist = [[] for i in range((self.m))]\n",
    "        \n",
    "        # transform a column to a row\n",
    "        \n",
    "        # iterate over rows\n",
    "        for row in reversed(self.matrix):\n",
    "            \n",
    "            # the first item in a row to the first row in the columnlist\n",
    "            # ......................\n",
    "            # the nth item in a row to the nth row in the columnlist\n",
    "            for i in range(len(row)):\n",
    "                columnlist[i].append(row[i])\n",
    "        self.matrix = columnlist\n",
    "        "
   ]
  },
  {
   "cell_type": "code",
   "execution_count": 110,
   "metadata": {
    "scrolled": false
   },
   "outputs": [],
   "source": [
    "mat1= MatrixProcessor([[1,2,3,4],[5,6,7,8],[9,10,11,12],[13,14,15,16]])"
   ]
  },
  {
   "cell_type": "code",
   "execution_count": 111,
   "metadata": {},
   "outputs": [],
   "source": [
    "mat1.rotate90cw()"
   ]
  },
  {
   "cell_type": "code",
   "execution_count": 115,
   "metadata": {},
   "outputs": [
    {
     "name": "stdout",
     "output_type": "stream",
     "text": [
      "[ 13  9  5  1 ]\n",
      "[ 14  10  6  2 ]\n",
      "[ 15  11  7  3 ]\n",
      "[ 16  12  8  4 ]\n",
      "\n"
     ]
    }
   ],
   "source": [
    "print (mat1)"
   ]
  }
 ],
 "metadata": {
  "kernelspec": {
   "display_name": "Python 3",
   "language": "python",
   "name": "python3"
  },
  "language_info": {
   "codemirror_mode": {
    "name": "ipython",
    "version": 3
   },
   "file_extension": ".py",
   "mimetype": "text/x-python",
   "name": "python",
   "nbconvert_exporter": "python",
   "pygments_lexer": "ipython3",
   "version": "3.6.0"
  }
 },
 "nbformat": 4,
 "nbformat_minor": 2
}
