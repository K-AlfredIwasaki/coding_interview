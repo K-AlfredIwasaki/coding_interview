{
 "cells": [
  {
   "cell_type": "code",
   "execution_count": 60,
   "metadata": {
    "collapsed": true
   },
   "outputs": [],
   "source": [
    "import random\n",
    "\n",
    "class BinaryTree:\n",
    "    def __init__(self, content):\n",
    "        self.content = content\n",
    "        self.left = None\n",
    "        self.right = None\n",
    "        self.parent = None\n",
    "        \n",
    "    def addRightChild(self, content):\n",
    "        self.right = BinaryTree(content)\n",
    "        self.right.parent = self\n",
    "        \n",
    "    def addLeftChild(self, content):\n",
    "        self.left = BinaryTree(content)\n",
    "        self.left.parent = self\n",
    "  \n",
    "    def __str__(self):\n",
    "        return \"(\" + str(self.content) + \" ( \" + str(self.left) + \" | \"  \\\n",
    "    + str(self.right) + \"))\""
   ]
  },
  {
   "cell_type": "code",
   "execution_count": 61,
   "metadata": {
    "scrolled": true
   },
   "outputs": [
    {
     "name": "stdout",
     "output_type": "stream",
     "text": [
      "(12 ( (7 ( (3 ( None | None)) | (10 ( None | None)))) | (20 ( None | (22 ( None | None))))))\n"
     ]
    }
   ],
   "source": [
    "b = BinaryTree(12)\n",
    "b.addRightChild(20)\n",
    "b.right.addRightChild(22)\n",
    "b.addLeftChild(7)\n",
    "b.left.addRightChild(10)\n",
    "b.left.addLeftChild(3)\n",
    "\n",
    "print (b)"
   ]
  },
  {
   "cell_type": "code",
   "execution_count": 63,
   "metadata": {},
   "outputs": [
    {
     "name": "stdout",
     "output_type": "stream",
     "text": [
      "(20 ( None | (22 ( None | None))))\n"
     ]
    }
   ],
   "source": [
    "print (b.right.right.parent)"
   ]
  },
  {
   "cell_type": "code",
   "execution_count": 73,
   "metadata": {
    "collapsed": true
   },
   "outputs": [],
   "source": [
    "def findInOrderSuccessor(btree):\n",
    "    if btree is None:\n",
    "        return None\n",
    "    \n",
    "    # there are some scenario to think about\n",
    "    # first thinkg to do is check if btree.right exists\n",
    "    \n",
    "    \n",
    "    if btree.right == None:\n",
    "        # two cases: no successor and parent scenario\n",
    "        \n",
    "        result = btree.parent\n",
    "        while result != None and result.content <= btree.content:\n",
    "            result = result.parent\n",
    "        \n",
    "        # if there is no parent which is larger than the node\n",
    "        # this is when the node is the very end of the in-order traversal\n",
    "        if result == None:\n",
    "            return None\n",
    "        else:\n",
    "            return result\n",
    "        \n",
    "    else:\n",
    "        # one case: left most in the node.right tree\n",
    "        result = btree.right\n",
    "        while result != None and result.left != None:\n",
    "            result = result.left\n",
    "        return result"
   ]
  },
  {
   "cell_type": "code",
   "execution_count": 74,
   "metadata": {},
   "outputs": [
    {
     "name": "stdout",
     "output_type": "stream",
     "text": [
      "None\n"
     ]
    }
   ],
   "source": [
    "print (findInOrderSuccessor(b.right.right))"
   ]
  }
 ],
 "metadata": {
  "kernelspec": {
   "display_name": "Python 3",
   "language": "python",
   "name": "python3"
  },
  "language_info": {
   "codemirror_mode": {
    "name": "ipython",
    "version": 3
   },
   "file_extension": ".py",
   "mimetype": "text/x-python",
   "name": "python",
   "nbconvert_exporter": "python",
   "pygments_lexer": "ipython3",
   "version": "3.6.0"
  }
 },
 "nbformat": 4,
 "nbformat_minor": 2
}
