{
 "cells": [
  {
   "cell_type": "markdown",
   "metadata": {},
   "source": [
    "Implement an algorithm to find the nth to last element of a singly linked list."
   ]
  },
  {
   "cell_type": "code",
   "execution_count": 1,
   "metadata": {
    "collapsed": true
   },
   "outputs": [],
   "source": [
    "from random import randint\n",
    "\n",
    "class Node:\n",
    "    def __init__(self, value):\n",
    "        self.value = value\n",
    "        self.next = None\n",
    "\n",
    "    def __str__(self):\n",
    "        return str(self.value)\n",
    "\n",
    "class LinkedList:\n",
    "    def __init__(self):\n",
    "        self.head = None\n",
    "        self.tail = None\n",
    "\n",
    "    def addNode(self,value):\n",
    "        node = Node(value)\n",
    "        #if the old list is none, set new node as the first node\n",
    "        if self.head == None:\n",
    "            self.head = node\n",
    "            self.tail = node\n",
    "        else:\n",
    "            self.tail.next = node\n",
    "            self.tail = node\n",
    "\n",
    "    def __str__(self):\n",
    "        if self.head != None:\n",
    "            index = self.head\n",
    "            nodestore = [str(index.value)]\n",
    "            while index.next != None:\n",
    "                index = index.next\n",
    "                nodestore.append(str(index.value))\n",
    "            return \"LinkedList  [ \" + \"->\".join(nodestore) + \" ]\"\n",
    "        return \"LinkedList  []\"\n",
    "\n",
    "\n",
    "    #remove the first node that have the same value as the given node_value\n",
    "    def removeNode(self, node_value):\n",
    "        current = self.head\n",
    "        if current.value == node_value:\n",
    "            self.head = self.head.next\n",
    "        while(current.next != None):\n",
    "            if current.next.value == node_value:\n",
    "                current.next = current.next.next\n",
    "                break\n",
    "            else:\n",
    "                current = current.next"
   ]
  },
  {
   "cell_type": "code",
   "execution_count": 2,
   "metadata": {
    "collapsed": true
   },
   "outputs": [],
   "source": [
    "def randomLinkedList(length, min, max):\n",
    "    linkedlist = LinkedList()\n",
    "    for i in range(length):\n",
    "        value = randint(min, max)\n",
    "        linkedlist.addNode(value)\n",
    "    return linkedlist"
   ]
  },
  {
   "cell_type": "code",
   "execution_count": 24,
   "metadata": {
    "collapsed": false
   },
   "outputs": [
    {
     "name": "stdout",
     "output_type": "stream",
     "text": [
      "LinkedList  [ 19->4->4->1->19->6->20->20->18->20 ]\n"
     ]
    }
   ],
   "source": [
    "l1 = randomLinkedList(10, 0, 20)\n",
    "print (l1)"
   ]
  },
  {
   "cell_type": "markdown",
   "metadata": {},
   "source": [
    "Algorithm:\n",
    "1. Create two pointers, p1 and p2, that point to the beginning of the node.\n",
    "2. Increment p2 by n-1 positions, to make it point to the nth node from the beginning (to make the distance of n between p1 and p2).\n",
    "3. Check for p2->next == null if yes return value of p1, otherwise increment p1 and p2. If next of p2 is null it means p1 points to the nth node from the last as the distance between the two is n.\n",
    "4. Repeat Step 3."
   ]
  },
  {
   "cell_type": "code",
   "execution_count": 36,
   "metadata": {
    "collapsed": false,
    "scrolled": true
   },
   "outputs": [],
   "source": [
    "# if n = 1, return the last element\n",
    "def findNthLast(LL, n):\n",
    "    if LL.head == None:\n",
    "        return \"linked list doesn't exist\"\n",
    "    else:\n",
    "        pointer1 = LL.head\n",
    "        for i in range(n-1):\n",
    "            if pointer1.next != None:\n",
    "                pointer1 = pointer1.next\n",
    "            else:\n",
    "                return \"n exceeds the length of linkedlist\"\n",
    "        \n",
    "        pointer2 = LL.head\n",
    "        while pointer1.next != None:\n",
    "            pointer1 = pointer1.next\n",
    "            pointer2 = pointer2.next\n",
    "            \n",
    "        return pointer2.value"
   ]
  },
  {
   "cell_type": "code",
   "execution_count": 37,
   "metadata": {
    "collapsed": false
   },
   "outputs": [
    {
     "data": {
      "text/plain": [
       "20"
      ]
     },
     "execution_count": 37,
     "metadata": {},
     "output_type": "execute_result"
    }
   ],
   "source": [
    "findNthLast(l1, 1)"
   ]
  },
  {
   "cell_type": "code",
   "execution_count": 38,
   "metadata": {
    "collapsed": true
   },
   "outputs": [],
   "source": [
    "def kth_to_last(linkedlist, k):\n",
    "    if k <= 0:\n",
    "        return \"invalid k\"\n",
    "    pointer2 = linkedlist.head\n",
    "    for i in range(k-1):\n",
    "        if pointer2.next != None:\n",
    "            pointer2 = pointer2.next\n",
    "        else:\n",
    "            return \"k exceeds the length of linkedlist\"\n",
    "    print(pointer2.value)\n",
    "    pointer1 = linkedlist.head\n",
    "    while pointer2.next != None:\n",
    "        pointer2 = pointer2.next\n",
    "        pointer1 = pointer1.next\n",
    "    return pointer1.value"
   ]
  },
  {
   "cell_type": "code",
   "execution_count": 39,
   "metadata": {
    "collapsed": false
   },
   "outputs": [
    {
     "name": "stdout",
     "output_type": "stream",
     "text": [
      "4\n"
     ]
    },
    {
     "data": {
      "text/plain": [
       "18"
      ]
     },
     "execution_count": 39,
     "metadata": {},
     "output_type": "execute_result"
    }
   ],
   "source": [
    "kth_to_last(l1, 2)"
   ]
  }
 ],
 "metadata": {
  "kernelspec": {
   "display_name": "Python 3",
   "language": "python",
   "name": "python3"
  },
  "language_info": {
   "codemirror_mode": {
    "name": "ipython",
    "version": 3
   },
   "file_extension": ".py",
   "mimetype": "text/x-python",
   "name": "python",
   "nbconvert_exporter": "python",
   "pygments_lexer": "ipython3",
   "version": "3.6.0"
  }
 },
 "nbformat": 4,
 "nbformat_minor": 2
}
