{
 "cells": [
  {
   "cell_type": "code",
   "execution_count": 46,
   "metadata": {
    "collapsed": true
   },
   "outputs": [],
   "source": [
    "class BinaryTreeNode:\n",
    "\n",
    "    def __init__(self, value):\n",
    "        self.value = value\n",
    "        self.left = None\n",
    "        self.right = None\n",
    "        self.parent = None\n",
    "\n",
    "    def setLeft(self, leftvalue):\n",
    "        leftnode = BinaryTreeNode(leftvalue)\n",
    "        self.left = leftnode\n",
    "        if leftnode != None:\n",
    "            leftnode.parent = self\n",
    "\n",
    "    def setRight(self, rightvalue):\n",
    "        rightnode = BinaryTreeNode(rightvalue)\n",
    "        self.right = rightnode\n",
    "        if rightnode != None:\n",
    "            rightnode.parent = self\n",
    "            \n",
    "    def __str__(self):\n",
    "        return  \"(\" + str(self.value) + \" ( \" + str(self.left) + \" | \" +\\\n",
    "    str(self.right) + \"))\"\n",
    "        \n",
    "    "
   ]
  },
  {
   "cell_type": "code",
   "execution_count": 47,
   "metadata": {},
   "outputs": [
    {
     "name": "stdout",
     "output_type": "stream",
     "text": [
      "(1 ( (2 ( (4 ( None | None)) | (5 ( (7 ( None | None)) | None)))) | (3 ( (3 ( None | None)) | (4 ( None | None))))))\n"
     ]
    }
   ],
   "source": [
    "root = BinaryTreeNode(1)\n",
    "root.setLeft(2)\n",
    "root.setRight(3)\n",
    "root.left.setLeft(4)\n",
    "root.left.setRight(5)\n",
    "root.right.setLeft(3)\n",
    "root.right.setRight(4)\n",
    "root.left.right.setLeft(7)\n",
    "print (root)"
   ]
  },
  {
   "cell_type": "code",
   "execution_count": 63,
   "metadata": {},
   "outputs": [
    {
     "data": {
      "text/plain": [
       "2"
      ]
     },
     "execution_count": 63,
     "metadata": {},
     "output_type": "execute_result"
    }
   ],
   "source": [
    "root.left.right.parent.value"
   ]
  },
  {
   "cell_type": "code",
   "execution_count": 48,
   "metadata": {
    "collapsed": true
   },
   "outputs": [],
   "source": [
    "## simple function to print all the possible total values \n",
    "## that each route from a node can get\n",
    "\n",
    "def sumGetter(node, returnVal=0):\n",
    "    # base case\n",
    "    if node == None:\n",
    "        return 0\n",
    "    \n",
    "    # action\n",
    "    returnVal = returnVal + node.value\n",
    "    \n",
    "    print(returnVal)\n",
    "    # general relationship\n",
    "    \n",
    "    sumGetter(node.left, returnVal)\n",
    "    sumGetter(node.right, returnVal)"
   ]
  },
  {
   "cell_type": "code",
   "execution_count": 49,
   "metadata": {
    "scrolled": true
   },
   "outputs": [
    {
     "name": "stdout",
     "output_type": "stream",
     "text": [
      "1\n",
      "3\n",
      "7\n",
      "8\n",
      "15\n",
      "4\n",
      "7\n",
      "8\n"
     ]
    }
   ],
   "source": [
    "sumGetter(root)"
   ]
  },
  {
   "cell_type": "code",
   "execution_count": 66,
   "metadata": {
    "scrolled": true
   },
   "outputs": [
    {
     "name": "stdout",
     "output_type": "stream",
     "text": [
      "1\n",
      "route is 1\n",
      "3\n",
      "route is 2<-1\n",
      "7\n",
      "route is 4<-2<-1\n",
      "8\n",
      "route is 5<-2<-1\n",
      "15\n",
      "route is 7<-5<-2<-1\n",
      "4\n",
      "route is 3<-1\n",
      "7\n",
      "route is 3<-3<-1\n",
      "8\n",
      "route is 4<-3<-1\n"
     ]
    }
   ],
   "source": [
    "# customize above to return route togther with sum value\n",
    "\n",
    "def sumGetter2(node, returnVal=0, route = []):\n",
    "    # base case\n",
    "    if node == None:\n",
    "        return 0, []\n",
    "    \n",
    "    # action\n",
    "    returnVal = returnVal + node.value\n",
    "    route.append(node.value)\n",
    "    \n",
    "    print(returnVal)\n",
    "    print (\"route is {}\".format(printRoute(node)))\n",
    "    # general relationship\n",
    "    \n",
    "    sumGetter2(node.left, returnVal, route)\n",
    "    sumGetter2(node.right, returnVal, route)\n",
    "    \n",
    "def printRoute(node):\n",
    "    current = node\n",
    "    result = []\n",
    "    while current != None:\n",
    "        result.append(str(current.value))\n",
    "        current = current.parent\n",
    "        \n",
    "    return \"<-\".join(result)\n",
    "\n",
    "sumGetter2(root)"
   ]
  },
  {
   "cell_type": "code",
   "execution_count": 80,
   "metadata": {},
   "outputs": [
    {
     "data": {
      "text/plain": [
       "4"
      ]
     },
     "execution_count": 80,
     "metadata": {},
     "output_type": "execute_result"
    }
   ],
   "source": [
    "[1, 2, 3, 4].pop()"
   ]
  },
  {
   "cell_type": "code",
   "execution_count": 83,
   "metadata": {},
   "outputs": [
    {
     "name": "stdout",
     "output_type": "stream",
     "text": [
      "route is 5<-2<-1\n",
      "[1, 2, 5]\n",
      "route is 4<-3<-1\n",
      "[1, 3, 4]\n"
     ]
    }
   ],
   "source": [
    "# print only when givenNum == returnVal\n",
    "\n",
    "def sumGetter3(node, givenVal, returnVal=0, route = None, depth = 0):\n",
    "    ### base case\n",
    "    if node == None:\n",
    "        return 0\n",
    "    if route == None:\n",
    "        route = []\n",
    "    \n",
    "    ### action\n",
    "    returnVal = returnVal + node.value\n",
    "    \n",
    "    # check if this depth has been visited before\n",
    "    if len(route) < depth + 1:\n",
    "        # first visit\n",
    "        route.append(node.value)\n",
    "    else:\n",
    "        # non-first visit\n",
    "        route[depth] = node.value\n",
    "    \n",
    "    if givenVal == returnVal:\n",
    "        print (\"route is {}\".format(printRoute(node)))\n",
    "        print(route)\n",
    "        \n",
    "    ### general relationship\n",
    "    \n",
    "    sumGetter3(node.left, givenVal, returnVal, route, depth + 1)\n",
    "    sumGetter3(node.right, givenVal, returnVal, route, depth + 1)\n",
    "    \n",
    "    # after go left and right, then go up\n",
    "    # when going up, remove current node\n",
    "    route = route.pop()\n",
    "    \n",
    "def printRoute(node):\n",
    "    current = node\n",
    "    result = []\n",
    "    while current != None:\n",
    "        result.append(str(current.value))\n",
    "        current = current.parent\n",
    "        \n",
    "    return \"<-\".join(result)\n",
    "\n",
    "\n",
    "sumGetter3(root, 8)"
   ]
  },
  {
   "cell_type": "code",
   "execution_count": 70,
   "metadata": {},
   "outputs": [
    {
     "name": "stdout",
     "output_type": "stream",
     "text": [
      "8\n",
      "route is 5<-2<-1\n",
      "8\n",
      "route is 4<-3<-1\n"
     ]
    }
   ],
   "source": [
    "# optimize this, we don't need to keep route\n",
    "\n",
    "def sumGetter3(node, givenVal, returnVal=0):\n",
    "    # base case\n",
    "    if node == None:\n",
    "        return 0\n",
    "    \n",
    "    # action\n",
    "    returnVal = returnVal + node.value\n",
    "    \n",
    "    if givenVal == returnVal:\n",
    "        print(returnVal)\n",
    "        print (\"route is {}\".format(printRoute(node)))\n",
    "    # general relationship\n",
    "    \n",
    "    sumGetter3(node.left, givenVal, returnVal)\n",
    "    sumGetter3(node.right, givenVal, returnVal)\n",
    "    \n",
    "def printRoute(node):\n",
    "    current = node\n",
    "    result = []\n",
    "    while current != None:\n",
    "        result.append(str(current.value))\n",
    "        current = current.parent\n",
    "        \n",
    "    return \"<-\".join(result)\n",
    "\n",
    "\n",
    "sumGetter3(root, 8)"
   ]
  }
 ],
 "metadata": {
  "kernelspec": {
   "display_name": "Python 3",
   "language": "python",
   "name": "python3"
  },
  "language_info": {
   "codemirror_mode": {
    "name": "ipython",
    "version": 3
   },
   "file_extension": ".py",
   "mimetype": "text/x-python",
   "name": "python",
   "nbconvert_exporter": "python",
   "pygments_lexer": "ipython3",
   "version": "3.6.0"
  }
 },
 "nbformat": 4,
 "nbformat_minor": 2
}
