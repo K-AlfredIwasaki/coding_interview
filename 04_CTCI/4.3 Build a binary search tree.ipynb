{
 "cells": [
  {
   "cell_type": "code",
   "execution_count": 1,
   "metadata": {
    "collapsed": true
   },
   "outputs": [],
   "source": [
    "class BinaryTree:\n",
    "    def __init__(self, content, left = None, right = None):\n",
    "        self.content = content\n",
    "        self.left = left\n",
    "        self.right = right\n",
    "\n",
    "    def __str__(self):\n",
    "        return \"( \" + str(self.content) + \" ( \" + str(self.left) +\\\n",
    "    \" | \" + str(self.right) + \"))\" "
   ]
  },
  {
   "cell_type": "code",
   "execution_count": 2,
   "metadata": {
    "collapsed": true
   },
   "outputs": [],
   "source": [
    "def build_tree(array):\n",
    "    # base case\n",
    "    if len(array) == 0:\n",
    "        return None\n",
    "    \n",
    "    # general relationship to be returned (recursive)\n",
    "    \n",
    "    cut = len(array) // 2\n",
    "    return BinaryTree( array[cut],\n",
    "                     build_tree(array[0:cut])\n",
    "                     ,build_tree(array[cut+1:]))"
   ]
  },
  {
   "cell_type": "code",
   "execution_count": 3,
   "metadata": {
    "collapsed": true
   },
   "outputs": [],
   "source": [
    "intarray1=[1,2,3,4,5,6,7,8,9,10,12,15,18,22,43,144,515]"
   ]
  },
  {
   "cell_type": "code",
   "execution_count": 4,
   "metadata": {},
   "outputs": [
    {
     "name": "stdout",
     "output_type": "stream",
     "text": [
      "( 9 ( ( 5 ( ( 3 ( ( 2 ( ( 1 ( None | None)) | None)) | ( 4 ( None | None)))) | ( 7 ( ( 6 ( None | None)) | ( 8 ( None | None)))))) | ( 22 ( ( 15 ( ( 12 ( ( 10 ( None | None)) | None)) | ( 18 ( None | None)))) | ( 144 ( ( 43 ( None | None)) | ( 515 ( None | None))))))))\n"
     ]
    }
   ],
   "source": [
    "print (build_tree(intarray1))\n"
   ]
  }
 ],
 "metadata": {
  "kernelspec": {
   "display_name": "Python 3",
   "language": "python",
   "name": "python3"
  },
  "language_info": {
   "codemirror_mode": {
    "name": "ipython",
    "version": 3
   },
   "file_extension": ".py",
   "mimetype": "text/x-python",
   "name": "python",
   "nbconvert_exporter": "python",
   "pygments_lexer": "ipython3",
   "version": "3.6.0"
  }
 },
 "nbformat": 4,
 "nbformat_minor": 2
}
