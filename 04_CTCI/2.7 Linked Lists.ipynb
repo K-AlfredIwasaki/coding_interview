{
 "cells": [
  {
   "cell_type": "code",
   "execution_count": 1,
   "metadata": {
    "collapsed": false
   },
   "outputs": [
    {
     "data": {
      "text/plain": [
       "'\\nImplement a function to check if a linked list is a palindrome\\n'"
      ]
     },
     "execution_count": 1,
     "metadata": {},
     "output_type": "execute_result"
    }
   ],
   "source": [
    "\"\"\"\n",
    "Implement a function to check if a linked list is a palindrome\n",
    "\"\"\""
   ]
  },
  {
   "cell_type": "code",
   "execution_count": 18,
   "metadata": {
    "collapsed": true
   },
   "outputs": [],
   "source": [
    "class Node():\n",
    "    \n",
    "    def __init__(self):\n",
    "        self.data = None\n",
    "        self.next = None\n",
    "        \n",
    "class LinkedList():\n",
    "    \n",
    "    def __init__(self):\n",
    "        self.head = None\n",
    "        self.tail = None\n",
    "    \n",
    "    def add(self, value):\n",
    "        node = Node()\n",
    "        node.data = value\n",
    "        \n",
    "        # consider two cases: first item or other\n",
    "        if self.head == None:\n",
    "            # if first item\n",
    "            self.head = node\n",
    "            self.tail = node\n",
    "        else:\n",
    "            # if others\n",
    "            # update reference and tail\n",
    "            self.tail.next = node\n",
    "            self.tail = node\n",
    "    \n",
    "    def __str__(self):\n",
    "        current = self.head\n",
    "        result = []\n",
    "        while current != None:\n",
    "            result.append(str(current.data))\n",
    "            current = current.next\n",
    "        \n",
    "        return \"->\".join(result)\n",
    "            "
   ]
  },
  {
   "cell_type": "code",
   "execution_count": 19,
   "metadata": {
    "collapsed": true
   },
   "outputs": [],
   "source": [
    "from random import randint\n",
    "l1 = LinkedList()"
   ]
  },
  {
   "cell_type": "code",
   "execution_count": 20,
   "metadata": {
    "collapsed": false
   },
   "outputs": [],
   "source": [
    "for i in range(10):\n",
    "    l1.add(randint(0, 20))"
   ]
  },
  {
   "cell_type": "code",
   "execution_count": 21,
   "metadata": {
    "collapsed": false
   },
   "outputs": [
    {
     "name": "stdout",
     "output_type": "stream",
     "text": [
      "18->16->3->20->20->11->10->1->9->10\n"
     ]
    }
   ],
   "source": [
    "print (l1)"
   ]
  },
  {
   "cell_type": "code",
   "execution_count": 24,
   "metadata": {
    "collapsed": true
   },
   "outputs": [],
   "source": [
    "class Stack():\n",
    "    \n",
    "    def __init__(self):\n",
    "        self.stackList = []\n",
    "        \n",
    "    def add(self, item):\n",
    "        self.stackList.append(item)\n",
    "    \n",
    "    def pop(self):\n",
    "        return self.stackList.pop()\n",
    "    \n",
    "    def __str__(self):\n",
    "        return \"->\".join([str(i) for i in self.stackList])"
   ]
  },
  {
   "cell_type": "code",
   "execution_count": 26,
   "metadata": {
    "collapsed": true
   },
   "outputs": [],
   "source": [
    "from random import randint\n",
    "s1 = Stack()"
   ]
  },
  {
   "cell_type": "code",
   "execution_count": 27,
   "metadata": {
    "collapsed": false
   },
   "outputs": [],
   "source": [
    "for i in range(10):\n",
    "    s1.add(randint(0, 20))"
   ]
  },
  {
   "cell_type": "code",
   "execution_count": 30,
   "metadata": {
    "collapsed": false
   },
   "outputs": [
    {
     "name": "stdout",
     "output_type": "stream",
     "text": [
      "19->11->2->19->14->4->16->0->10->15\n"
     ]
    }
   ],
   "source": [
    "print (s1)"
   ]
  },
  {
   "cell_type": "code",
   "execution_count": 31,
   "metadata": {
    "collapsed": false
   },
   "outputs": [
    {
     "data": {
      "text/plain": [
       "15"
      ]
     },
     "execution_count": 31,
     "metadata": {},
     "output_type": "execute_result"
    }
   ],
   "source": [
    "s1.pop()"
   ]
  },
  {
   "cell_type": "code",
   "execution_count": 32,
   "metadata": {
    "collapsed": false,
    "scrolled": true
   },
   "outputs": [
    {
     "name": "stdout",
     "output_type": "stream",
     "text": [
      "19->11->2->19->14->4->16->0->10\n"
     ]
    }
   ],
   "source": [
    "print(s1)"
   ]
  },
  {
   "cell_type": "code",
   "execution_count": 80,
   "metadata": {
    "collapsed": false
   },
   "outputs": [],
   "source": [
    "\"\"\"\n",
    "runner strategy! fast and slow to get the half of the items to stack\n",
    "then, remove the items in stack one by one if it matches with an item in LL\n",
    "\n",
    "\"\"\"\n",
    "\n",
    "def palindromeCheck(l):\n",
    "    if l.head == None:\n",
    "        return None\n",
    "    \n",
    "    s = Stack()\n",
    "    fast = l.head\n",
    "    slow = l.head\n",
    "    \n",
    "    while fast != None and fast.next != None:\n",
    "        s.add(slow.data)\n",
    "        fast = fast.next.next\n",
    "        slow = slow.next\n",
    "    \n",
    "    # consider the linkedlist is odds\n",
    "    if fast != None:\n",
    "        slow = slow.next\n",
    "    \n",
    "    print(s)\n",
    "    \n",
    "    test = True\n",
    "    while slow != None and test == True:\n",
    "        if s.pop() != slow.data:\n",
    "            test = False\n",
    "        else:\n",
    "            slow = slow.next\n",
    "    \n",
    "    return test\n"
   ]
  },
  {
   "cell_type": "code",
   "execution_count": 55,
   "metadata": {
    "collapsed": false,
    "scrolled": false
   },
   "outputs": [
    {
     "name": "stdout",
     "output_type": "stream",
     "text": [
      "18->16->3->20\n"
     ]
    },
    {
     "data": {
      "text/plain": [
       "False"
      ]
     },
     "execution_count": 55,
     "metadata": {},
     "output_type": "execute_result"
    }
   ],
   "source": [
    "palindromeCheck(l1)"
   ]
  },
  {
   "cell_type": "code",
   "execution_count": 38,
   "metadata": {
    "collapsed": false
   },
   "outputs": [
    {
     "name": "stdout",
     "output_type": "stream",
     "text": [
      "18->16->3->20->20->11->10->1->9->10\n"
     ]
    }
   ],
   "source": [
    "print(l1)"
   ]
  },
  {
   "cell_type": "code",
   "execution_count": 47,
   "metadata": {
    "collapsed": true
   },
   "outputs": [],
   "source": [
    "l2 = LinkedList()"
   ]
  },
  {
   "cell_type": "code",
   "execution_count": 48,
   "metadata": {
    "collapsed": true
   },
   "outputs": [],
   "source": [
    "l2.add(1)\n",
    "l2.add(2)\n",
    "l2.add(3)\n",
    "l2.add(2)\n",
    "l2.add(1)"
   ]
  },
  {
   "cell_type": "code",
   "execution_count": 49,
   "metadata": {
    "collapsed": false
   },
   "outputs": [
    {
     "name": "stdout",
     "output_type": "stream",
     "text": [
      "1->2->3->2->1\n"
     ]
    }
   ],
   "source": [
    "print(l2)"
   ]
  },
  {
   "cell_type": "code",
   "execution_count": 81,
   "metadata": {
    "collapsed": false,
    "scrolled": false
   },
   "outputs": [
    {
     "name": "stdout",
     "output_type": "stream",
     "text": [
      "1->2\n"
     ]
    },
    {
     "data": {
      "text/plain": [
       "True"
      ]
     },
     "execution_count": 81,
     "metadata": {},
     "output_type": "execute_result"
    }
   ],
   "source": [
    "palindromeCheck(l2)"
   ]
  }
 ],
 "metadata": {
  "kernelspec": {
   "display_name": "Python 3",
   "language": "python",
   "name": "python3"
  },
  "language_info": {
   "codemirror_mode": {
    "name": "ipython",
    "version": 3
   },
   "file_extension": ".py",
   "mimetype": "text/x-python",
   "name": "python",
   "nbconvert_exporter": "python",
   "pygments_lexer": "ipython3",
   "version": "3.6.0"
  }
 },
 "nbformat": 4,
 "nbformat_minor": 2
}
