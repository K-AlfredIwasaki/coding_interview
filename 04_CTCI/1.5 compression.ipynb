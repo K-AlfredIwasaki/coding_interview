{
 "cells": [
  {
   "cell_type": "code",
   "execution_count": 40,
   "metadata": {
    "collapsed": true
   },
   "outputs": [],
   "source": [
    "t = \"aabccccaaaa\""
   ]
  },
  {
   "cell_type": "code",
   "execution_count": 59,
   "metadata": {
    "collapsed": true
   },
   "outputs": [],
   "source": [
    "def simpleCompress(compstring):\n",
    "    outstring=[]\n",
    "    lastchar=\"\"  # string buffer\n",
    "    charcount=0\n",
    "    for char in compstring:\n",
    "        if char==lastchar:\n",
    "            charcount += 1\n",
    "        else:\n",
    "            # when mismatch\n",
    "            if lastchar != \"\":\n",
    "                outstring.append(lastchar)\n",
    "                outstring.append(str(charcount))\n",
    "            # when match\n",
    "            charcount = 1\n",
    "        lastchar=char            \n",
    "    \n",
    "    #final write\n",
    "    outstring.append(lastchar)\n",
    "    outstring.append(str(charcount))\n",
    "    \n",
    "    return \"\".join(outstring) if len(outstring)<len(compstring) else compstring\n",
    "        "
   ]
  },
  {
   "cell_type": "code",
   "execution_count": 60,
   "metadata": {},
   "outputs": [
    {
     "data": {
      "text/plain": [
       "'a2b1c4a4'"
      ]
     },
     "execution_count": 60,
     "metadata": {},
     "output_type": "execute_result"
    }
   ],
   "source": [
    "simpleCompress(t)"
   ]
  }
 ],
 "metadata": {
  "kernelspec": {
   "display_name": "Python 3",
   "language": "python",
   "name": "python3"
  },
  "language_info": {
   "codemirror_mode": {
    "name": "ipython",
    "version": 3
   },
   "file_extension": ".py",
   "mimetype": "text/x-python",
   "name": "python",
   "nbconvert_exporter": "python",
   "pygments_lexer": "ipython3",
   "version": "3.6.0"
  }
 },
 "nbformat": 4,
 "nbformat_minor": 2
}
