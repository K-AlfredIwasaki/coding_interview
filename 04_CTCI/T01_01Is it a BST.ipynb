{
 "cells": [
  {
   "cell_type": "markdown",
   "metadata": {},
   "source": [
    "https://www.educative.io/collection/page/5642554087309312/5679846214598656/290001"
   ]
  },
  {
   "cell_type": "markdown",
   "metadata": {},
   "source": [
    "# Approach1: min < current.node < max"
   ]
  },
  {
   "cell_type": "code",
   "execution_count": 4,
   "metadata": {
    "collapsed": true
   },
   "outputs": [],
   "source": [
    "import sys\n",
    "\n",
    "def is_bst_rec(root, min_val, max_val):\n",
    "    if root == None:\n",
    "        return True\n",
    "    \n",
    "    if root.content < min_val or root.content > max_val:\n",
    "        return False\n",
    "    \n",
    "    l = is_bst_rec(root.left, min_val, root.content)\n",
    "    r = is_bst_rec(root.right, root.content, max_val)\n",
    "    \n",
    "    return l and r\n",
    "\n",
    "def is_bst(root):\n",
    "    \n",
    "    return is_bst_rec(root, -sys.maxsize, sys.maxsize)"
   ]
  },
  {
   "cell_type": "markdown",
   "metadata": {},
   "source": [
    "Time complexity O(n): based on the number of nodes in a tree\n",
    "\n",
    "Space compexity O(h): = O(logn) for a balanced tree and = O(n) for the worst case"
   ]
  },
  {
   "cell_type": "markdown",
   "metadata": {},
   "source": [
    "# Approach2: Inorder traversal is sorted"
   ]
  },
  {
   "cell_type": "code",
   "execution_count": 1,
   "metadata": {
    "collapsed": true
   },
   "outputs": [],
   "source": [
    "def is_binary_search_tree(root):\n",
    "    \n",
    "    prev = -1\n",
    "    return is_binary_search_tree_rec(root)\n",
    "\n",
    "def is_binary_search_tree_rec(root):\n",
    "    global prev\n",
    "    \n",
    "    if root == None:\n",
    "        return True\n",
    "    \n",
    "    if is_binary_search_tree_rec(root.left) == False:\n",
    "        return False\n",
    "    \n",
    "    if prev > root.content and prev != -1:\n",
    "        return False\n",
    "    \n",
    "    prev = root.content\n",
    "    \n",
    "    if is_binary_search_tree_rec(root.right) == False:\n",
    "        return False\n",
    "    \n",
    "    return True"
   ]
  },
  {
   "cell_type": "markdown",
   "metadata": {},
   "source": [
    "Time complexity O(n): based on the number of nodes in a tree\n",
    "\n",
    "Space compexity O(h): = O(logn) for a balanced tree and = O(n) for the worst case"
   ]
  }
 ],
 "metadata": {
  "kernelspec": {
   "display_name": "Python 3",
   "language": "python",
   "name": "python3"
  },
  "language_info": {
   "codemirror_mode": {
    "name": "ipython",
    "version": 3
   },
   "file_extension": ".py",
   "mimetype": "text/x-python",
   "name": "python",
   "nbconvert_exporter": "python",
   "pygments_lexer": "ipython3",
   "version": "3.6.0"
  }
 },
 "nbformat": 4,
 "nbformat_minor": 2
}
