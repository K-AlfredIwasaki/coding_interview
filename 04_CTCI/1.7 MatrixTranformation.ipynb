{
 "cells": [
  {
   "cell_type": "code",
   "execution_count": 36,
   "metadata": {},
   "outputs": [
    {
     "data": {
      "text/plain": [
       "[[2, 19, 27, 16, 10, 38, 39, 14, 12, 16, 22, 15, 1, 28, 0, 27, 23, 40, 18, 1],\n",
       " [23, 34, 24, 28, 35, 5, 40, 10, 31, 14, 32, 24, 2, 32, 18, 34, 7, 24, 38, 36],\n",
       " [21, 9, 24, 31, 15, 24, 13, 36, 1, 13, 14, 7, 1, 0, 35, 18, 8, 12, 28, 5],\n",
       " [13, 21, 34, 20, 16, 26, 10, 2, 39, 9, 24, 14, 4, 5, 22, 5, 40, 31, 19, 25],\n",
       " [34, 25, 6, 25, 37, 8, 26, 10, 32, 39, 35, 0, 34, 22, 1, 22, 14, 25, 2, 34],\n",
       " [0, 39, 37, 11, 14, 26, 17, 16, 30, 30, 1, 27, 2, 40, 3, 20, 30, 16, 35, 39],\n",
       " [21, 19, 15, 39, 7, 7, 35, 9, 27, 35, 4, 31, 2, 38, 38, 7, 8, 18, 31, 7],\n",
       " [38, 13, 1, 15, 37, 16, 40, 10, 4, 35, 31, 28, 18, 27, 40, 16, 13, 31, 32, 9],\n",
       " [32, 11, 2, 14, 18, 5, 14, 40, 15, 26, 18, 19, 9, 39, 22, 1, 9, 15, 16, 19],\n",
       " [0, 33, 17, 19, 13, 18, 29, 33, 9, 5, 11, 38, 22, 0, 14, 5, 14, 24, 3, 21]]"
      ]
     },
     "execution_count": 36,
     "metadata": {},
     "output_type": "execute_result"
    }
   ],
   "source": [
    "from random import randint\n",
    "# create 10 x 20\n",
    "s2 = []\n",
    "for i in range(10):\n",
    "    s2.append([randint(0, 40) for i in range(20)])\n",
    "s2"
   ]
  },
  {
   "cell_type": "code",
   "execution_count": 23,
   "metadata": {
    "collapsed": true
   },
   "outputs": [],
   "source": [
    "def transformMatrix(s):\n",
    "    row = len(s)\n",
    "    col = len(s[0])\n",
    "    \n",
    "    searchCols = [x for x in range(col)]\n",
    "    \n",
    "    for r in range(len(s)):\n",
    "        for c in searchCols:\n",
    "            if s[r][c] == 0:\n",
    "                # change all elements in the row to 0\n",
    "                for i in range(col):\n",
    "                    s[r][i] = 0\n",
    "                # change all elements in the col to 0\n",
    "                for i in range(row):\n",
    "                    s[i][c] = 0\n",
    "                \n",
    "                # remove c from serachCols\n",
    "                searchCols.remove(c)\n",
    "    return s\n",
    "        "
   ]
  },
  {
   "cell_type": "code",
   "execution_count": 37,
   "metadata": {
    "scrolled": true
   },
   "outputs": [
    {
     "data": {
      "text/plain": [
       "[[0, 0, 0, 0, 0, 0, 0, 0, 0, 0, 0, 0, 0, 0, 0, 0, 0, 0, 0, 0],\n",
       " [0, 34, 0, 28, 0, 5, 0, 10, 0, 14, 0, 0, 2, 0, 0, 0, 0, 0, 0, 0],\n",
       " [0, 0, 0, 0, 0, 0, 0, 0, 0, 0, 0, 0, 0, 0, 0, 0, 0, 0, 0, 0],\n",
       " [0, 21, 0, 20, 0, 26, 0, 2, 0, 9, 0, 0, 4, 0, 0, 0, 0, 0, 0, 0],\n",
       " [0, 0, 0, 0, 0, 0, 0, 0, 0, 0, 0, 0, 0, 0, 0, 0, 0, 0, 0, 0],\n",
       " [0, 0, 0, 0, 0, 0, 0, 0, 0, 0, 0, 0, 0, 0, 0, 0, 0, 0, 0, 0],\n",
       " [0, 19, 0, 39, 0, 7, 0, 9, 0, 35, 0, 0, 2, 0, 0, 0, 0, 0, 0, 0],\n",
       " [0, 13, 0, 15, 0, 16, 0, 10, 0, 35, 0, 0, 18, 0, 0, 0, 0, 0, 0, 0],\n",
       " [0, 11, 0, 14, 0, 5, 0, 40, 0, 26, 0, 0, 9, 0, 0, 0, 0, 0, 0, 0],\n",
       " [0, 33, 0, 19, 0, 18, 0, 33, 0, 5, 0, 0, 22, 0, 0, 0, 0, 0, 0, 0]]"
      ]
     },
     "execution_count": 37,
     "metadata": {},
     "output_type": "execute_result"
    }
   ],
   "source": [
    "transformMatrix(s2)"
   ]
  },
  {
   "cell_type": "code",
   "execution_count": 11,
   "metadata": {},
   "outputs": [],
   "source": [
    "class MatrixProcessor:\n",
    "    \n",
    "    def __init__(self, matrix):\n",
    "        self.n = len(matrix) # rows\n",
    "        self.m = len(matrix[0]) # cols\n",
    "        self.matrix = matrix\n",
    "        \n",
    "    def __str__(self):\n",
    "        rowstring = \"\"\n",
    "        for row in self.matrix:\n",
    "            rowstring = rowstring + \"[\"\n",
    "            for cell in row:\n",
    "                rowstring = rowstring + \" \" + str(cell) + \" \"\n",
    "            rowstring = rowstring + \"]\\n\"\n",
    "        return rowstring\n",
    "            \n",
    "    def zeroProcess(self):\n",
    "        # initialize with two lists to store cols and rows including 0\n",
    "        columnstrozero = []\n",
    "        rowstozero = []\n",
    "        \n",
    "        # find all 0s in the matrix\n",
    "        # row\n",
    "        for rowcount, row in enumerate(self.matrix):\n",
    "            # go through each row col by col\n",
    "            for cellcount, cell in enumerate(row):\n",
    "                if cell == 0:\n",
    "                    # store col and row of 0 found\n",
    "                    columnstrozero.append(cellcount)\n",
    "                    rowstozero.append(rowcount)\n",
    "            \n",
    "        # once finding all 0s, set 0 for cols and rows\n",
    "        for rownum in rowstozero:\n",
    "            self.zeroRow(rownum)\n",
    "                \n",
    "        for colnum in columnstrozero:\n",
    "            self.zeroColumn(colnum)\n",
    "            \n",
    "    def zeroRow(self, rownum):\n",
    "        # replace the row with [0, 0,,,]\n",
    "        self.matrix[rownum] = [0 for i in range(0, self.m)]\n",
    "    \n",
    "    def zeroColumn(self, colnum):\n",
    "        # go each row and replace a value in the column with 0\n",
    "        for row in self.matrix:\n",
    "            row[colnum] = 0\n",
    "                \n",
    "                \n",
    "            "
   ]
  },
  {
   "cell_type": "code",
   "execution_count": 12,
   "metadata": {},
   "outputs": [
    {
     "name": "stdout",
     "output_type": "stream",
     "text": [
      "M by N matrix has dimensions 3 by 4\n",
      "Visual representation of contents:\n",
      "[ 1  2  3 ]\n",
      "[ 4  5  0 ]\n",
      "[ 7  8  9 ]\n",
      "[ 0  11  12 ]\n",
      "\n",
      "Visual representation of contents after zeroing all rows/columns containing a zero:\n",
      "[ 0  2  0 ]\n",
      "[ 0  0  0 ]\n",
      "[ 0  8  0 ]\n",
      "[ 0  0  0 ]\n",
      "\n"
     ]
    }
   ],
   "source": [
    "#testing\n",
    "        \n",
    "mat1= MatrixProcessor([[1,2,3],[4,5,0],[7,8,9],[0,11,12]])\n",
    "\n",
    "print (\"M by N matrix has dimensions \" + str(mat1.m) + \" by \" + str(mat1.n))\n",
    "\n",
    "print (\"Visual representation of contents:\")\n",
    "print (str(mat1))\n",
    "\n",
    "\n",
    "mat1.zeroProcess()\n",
    "print (\"Visual representation of contents after zeroing all rows/columns containing a zero:\")\n",
    "print (str(mat1))\n"
   ]
  }
 ],
 "metadata": {
  "kernelspec": {
   "display_name": "Python 3",
   "language": "python",
   "name": "python3"
  },
  "language_info": {
   "codemirror_mode": {
    "name": "ipython",
    "version": 3
   },
   "file_extension": ".py",
   "mimetype": "text/x-python",
   "name": "python",
   "nbconvert_exporter": "python",
   "pygments_lexer": "ipython3",
   "version": "3.6.0"
  }
 },
 "nbformat": 4,
 "nbformat_minor": 2
}
