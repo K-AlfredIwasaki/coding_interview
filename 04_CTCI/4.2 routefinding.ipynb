{
 "cells": [
  {
   "cell_type": "code",
   "execution_count": 2,
   "metadata": {
    "collapsed": true
   },
   "outputs": [],
   "source": [
    "class DirectedGraph:\n",
    "    def __init__(self,content):\n",
    "        self.content = content\n",
    "        self.neighbours = []\n",
    "        \n",
    "n1 = DirectedGraph(1)\n",
    "n2 = DirectedGraph(2)\n",
    "n3 = DirectedGraph(3)\n",
    "n4 = DirectedGraph(4)\n",
    "n5 = DirectedGraph(5)\n",
    "n6 = DirectedGraph(6)\n",
    "\n",
    "n1.neighbours.append(n2)\n",
    "n2.neighbours.append(n3)\n",
    "n2.neighbours.append(n4)\n",
    "n4.neighbours.append(n5)\n",
    "n4.neighbours.append(n1)"
   ]
  },
  {
   "cell_type": "code",
   "execution_count": 4,
   "metadata": {
    "collapsed": true
   },
   "outputs": [],
   "source": [
    "# depth first search with recursion\n",
    "\n",
    "def is_route_between(node1,node2,visitedNode={},visitedRoute={}):\n",
    "    # base case\n",
    "    if node1==node2:\n",
    "        return True\n",
    "    \n",
    "    # check if the route has been visited\n",
    "    route = str(hash(node1)) + \",\" + str(hash(node2))\n",
    "    if route in visitedRoute:\n",
    "        return visitedRoute[route]    \n",
    "    \n",
    "    nodefound=False\n",
    "    \n",
    "    # iterate through all neighbours\n",
    "    for neighbour in node1.neighbours:\n",
    "        \n",
    "        # check if visited\n",
    "        if neighbour not in visitedNode:\n",
    "            visitedNode[neighbour] = True\n",
    "            nodefound = is_route_between(neighbour,node2, visitedNode,visitedRoute)\n",
    "        \n",
    "        if nodefound:\n",
    "            break\n",
    "    \n",
    "    # store the result for the route\n",
    "    visitedRoute[route] = nodefound\n",
    "    \n",
    "    return nodefound"
   ]
  },
  {
   "cell_type": "code",
   "execution_count": 5,
   "metadata": {},
   "outputs": [
    {
     "data": {
      "text/plain": [
       "True"
      ]
     },
     "execution_count": 5,
     "metadata": {},
     "output_type": "execute_result"
    }
   ],
   "source": [
    "is_route_between(n2, n5)"
   ]
  },
  {
   "cell_type": "code",
   "execution_count": 3,
   "metadata": {
    "collapsed": true
   },
   "outputs": [],
   "source": [
    "# depth first search with stack\n",
    "\n",
    "from collections import deque\n",
    "\n",
    "# dfs with stack\n",
    "def route_finding(node1, node2):\n",
    "    \n",
    "    visited = {}\n",
    "    stack = deque()\n",
    "    stack.append(node1)\n",
    "    \n",
    "    while len(stack) != 0:\n",
    "        \n",
    "        current = stack.pop()\n",
    "        print(current.content)\n",
    "        visited[current] = True\n",
    "        \n",
    "        for neighbour in current.neighbours:\n",
    "            \n",
    "            if neighbour == node2:\n",
    "                return True\n",
    "            \n",
    "            if neighbour not in visited:\n",
    "                stack.append(neighbour)\n",
    "        \n",
    "    return False"
   ]
  },
  {
   "cell_type": "code",
   "execution_count": 3,
   "metadata": {
    "collapsed": true
   },
   "outputs": [],
   "source": [
    "# breadth first search\n",
    "\n",
    "from queue import deque\n",
    "\n",
    "def is_route_between2(node1, node2):\n",
    "    \n",
    "    if node1 is node2:\n",
    "        return True\n",
    "    \n",
    "    elif node1 is None or node2 is None:\n",
    "        return False\n",
    "    \n",
    "    visited = set([node1, node2])\n",
    "    \n",
    "    queue = deque([node1])\n",
    "    \n",
    "    while len(queue) != 0:\n",
    "        \n",
    "        node = queue.popleft() ################# IMPORTANT\n",
    "        \n",
    "        for child in node.neighbours:\n",
    "            print (child.content)\n",
    "            \n",
    "            if child is node2:\n",
    "                return True\n",
    "            \n",
    "            elif child not in visited:\n",
    "                visited.add(child)\n",
    "                queue.append(child)\n",
    "                \n",
    "    return False"
   ]
  },
  {
   "cell_type": "code",
   "execution_count": 21,
   "metadata": {
    "scrolled": true
   },
   "outputs": [
    {
     "name": "stdout",
     "output_type": "stream",
     "text": [
      "3\n",
      "4\n",
      "5\n"
     ]
    },
    {
     "data": {
      "text/plain": [
       "True"
      ]
     },
     "execution_count": 21,
     "metadata": {},
     "output_type": "execute_result"
    }
   ],
   "source": [
    "is_route_between2(n2, n5)"
   ]
  },
  {
   "cell_type": "code",
   "execution_count": null,
   "metadata": {
    "collapsed": true
   },
   "outputs": [],
   "source": []
  },
  {
   "cell_type": "code",
   "execution_count": 4,
   "metadata": {},
   "outputs": [
    {
     "data": {
      "text/plain": [
       "4"
      ]
     },
     "execution_count": 4,
     "metadata": {},
     "output_type": "execute_result"
    }
   ],
   "source": [
    "n2.neighbours[1].content"
   ]
  },
  {
   "cell_type": "code",
   "execution_count": 5,
   "metadata": {
    "scrolled": true
   },
   "outputs": [
    {
     "data": {
      "text/plain": [
       "1"
      ]
     },
     "execution_count": 5,
     "metadata": {},
     "output_type": "execute_result"
    }
   ],
   "source": [
    "from queue import deque\n",
    "d = deque([n1])\n",
    "len(d)"
   ]
  },
  {
   "cell_type": "code",
   "execution_count": 114,
   "metadata": {},
   "outputs": [
    {
     "data": {
      "text/plain": [
       "<__main__.DirectedGraph at 0x26f49d88f98>"
      ]
     },
     "execution_count": 114,
     "metadata": {},
     "output_type": "execute_result"
    }
   ],
   "source": [
    "d.popleft()"
   ]
  },
  {
   "cell_type": "code",
   "execution_count": 115,
   "metadata": {},
   "outputs": [
    {
     "data": {
      "text/plain": [
       "<__main__.DirectedGraph at 0x26f49d88be0>"
      ]
     },
     "execution_count": 115,
     "metadata": {},
     "output_type": "execute_result"
    }
   ],
   "source": [
    "d = deque([n2])\n",
    "d.popleft()"
   ]
  },
  {
   "cell_type": "code",
   "execution_count": null,
   "metadata": {
    "collapsed": true
   },
   "outputs": [],
   "source": []
  }
 ],
 "metadata": {
  "kernelspec": {
   "display_name": "Python 3",
   "language": "python",
   "name": "python3"
  },
  "language_info": {
   "codemirror_mode": {
    "name": "ipython",
    "version": 3
   },
   "file_extension": ".py",
   "mimetype": "text/x-python",
   "name": "python",
   "nbconvert_exporter": "python",
   "pygments_lexer": "ipython3",
   "version": "3.6.0"
  }
 },
 "nbformat": 4,
 "nbformat_minor": 2
}
