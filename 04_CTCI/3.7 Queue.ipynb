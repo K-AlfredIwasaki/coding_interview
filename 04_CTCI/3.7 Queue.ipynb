{
 "cells": [
  {
   "cell_type": "code",
   "execution_count": 41,
   "metadata": {
    "collapsed": true
   },
   "outputs": [],
   "source": [
    "class Node():\n",
    "    \n",
    "    def __init__(self):\n",
    "        self.data = None\n",
    "        self.next = None\n",
    "        \n",
    "class LinkedList():\n",
    "    \n",
    "    def __init__(self):\n",
    "        self.head = None\n",
    "        self.tail = None\n",
    "        \n",
    "    def add(self, animal):\n",
    "        node = Node()\n",
    "        node.data = animal\n",
    "        if self.head == None:\n",
    "            self.head = node\n",
    "            self.tail = node\n",
    "        else:\n",
    "            self.tail.next = node\n",
    "            self.tail = node\n",
    "        \n",
    "    def getAndRemove(self):\n",
    "        if self.head == None:\n",
    "            return None\n",
    "        else:\n",
    "            temp = self.head\n",
    "            self.head = self.head.next\n",
    "            temp.next = None\n",
    "            return temp.data\n",
    "        \n",
    "    def getLen(self):\n",
    "        current = self.head\n",
    "        count = 0\n",
    "        while current != None:\n",
    "            count += 1\n",
    "            current = current.next\n",
    "            \n",
    "    def __str__(self):\n",
    "        current = self.head\n",
    "        result = []\n",
    "        while current != None:\n",
    "            result.append(current.data)\n",
    "            current = current.next\n",
    "        return \"->\".join(str(i) for i in result)\n",
    "            \n"
   ]
  },
  {
   "cell_type": "code",
   "execution_count": 6,
   "metadata": {
    "collapsed": false
   },
   "outputs": [
    {
     "name": "stdout",
     "output_type": "stream",
     "text": [
      "(1, 1)->(2, 1)->(3, 1)\n"
     ]
    }
   ],
   "source": [
    "l = LinkedList()\n",
    "l.add((1,1))\n",
    "l.add((2,1))\n",
    "l.add((3,1))\n",
    "print(l)"
   ]
  },
  {
   "cell_type": "code",
   "execution_count": 7,
   "metadata": {
    "collapsed": false,
    "scrolled": true
   },
   "outputs": [
    {
     "data": {
      "text/plain": [
       "1"
      ]
     },
     "execution_count": 7,
     "metadata": {},
     "output_type": "execute_result"
    }
   ],
   "source": [
    "l.getAndRemove()"
   ]
  },
  {
   "cell_type": "code",
   "execution_count": null,
   "metadata": {
    "collapsed": false
   },
   "outputs": [],
   "source": [
    "print (l)"
   ]
  },
  {
   "cell_type": "code",
   "execution_count": 64,
   "metadata": {
    "collapsed": false
   },
   "outputs": [],
   "source": [
    "class AnimalQueue():\n",
    "    \n",
    "    def __init__(self):\n",
    "        self.dogList = LinkedList()\n",
    "        self.catList = LinkedList()\n",
    "        self.time_stamp = 0\n",
    "        \n",
    "    def enqueue(self, animal_type, animal_name):\n",
    "        if animal_type == \"dog\":\n",
    "            self.dogList.add((animal_name, self.time_stamp))\n",
    "            self.time_stamp += 1\n",
    "        elif animal_type == \"cat\":\n",
    "            self.catList.add((animal_name, self.time_stamp))\n",
    "            self.time_stamp += 1\n",
    "        else:\n",
    "            return \"invalid animal type\"\n",
    "        \n",
    "    def dequeue_any(self):\n",
    "        dog = self.dogList.getAndRemove() if not self.dogList.getLen() == 0 else (None, -1)\n",
    "        cat = self.catList.getAndRemove() if not self.catList.getLen() == 0 else (None, -1)\n",
    "        if dog[1] == -1 and cat[1] == -1:\n",
    "            return None\n",
    "        elif dog[1] < cat[1]:\n",
    "            self.catList.add(cat)\n",
    "            return \"dog #{}\".format(dog[0])\n",
    "        else:\n",
    "            self.dogList.add(dog)\n",
    "            return \"cat #{}\".format(cat[0])\n",
    "    \n",
    "    def dequeue_dog(self):\n",
    "        if not self.dogList.getLen() == 0:\n",
    "            return \"dog #{}\".format(self.dogList.getAndRemove()[0])\n",
    "    \n",
    "    def dequeue_cat(self):\n",
    "        if not self.catList.getLen() == 0:\n",
    "            return \"cat #{}\".format(self.catList.getAndRemove()[0])\n",
    "    "
   ]
  },
  {
   "cell_type": "code",
   "execution_count": 65,
   "metadata": {
    "collapsed": true
   },
   "outputs": [],
   "source": [
    "Q = AnimalQueue()\n",
    "Q.enqueue(\"dog\", 1)\n",
    "Q.enqueue(\"cat\", 11)\n",
    "Q.enqueue(\"cat\", 22)\n",
    "Q.enqueue(\"dog\", 10)\n",
    "Q.enqueue(\"cat\", 11)\n",
    "Q.enqueue(\"dog\", 56)\n",
    "Q.enqueue(\"dog\", 2)\n",
    "Q.enqueue(\"cat\", 3)\n",
    "Q.enqueue(\"cat\", 7)"
   ]
  },
  {
   "cell_type": "code",
   "execution_count": 66,
   "metadata": {
    "collapsed": false
   },
   "outputs": [
    {
     "name": "stdout",
     "output_type": "stream",
     "text": [
      "(1, 0)->(10, 3)->(56, 5)->(2, 6)\n"
     ]
    }
   ],
   "source": [
    "print (Q.dogList)"
   ]
  },
  {
   "cell_type": "code",
   "execution_count": 67,
   "metadata": {
    "collapsed": false,
    "scrolled": true
   },
   "outputs": [
    {
     "name": "stdout",
     "output_type": "stream",
     "text": [
      "(11, 1)->(22, 2)->(11, 4)->(3, 7)->(7, 8)\n"
     ]
    }
   ],
   "source": [
    "print (Q.catList)"
   ]
  },
  {
   "cell_type": "code",
   "execution_count": 68,
   "metadata": {
    "collapsed": false,
    "scrolled": true
   },
   "outputs": [
    {
     "data": {
      "text/plain": [
       "'dog #1'"
      ]
     },
     "execution_count": 68,
     "metadata": {},
     "output_type": "execute_result"
    }
   ],
   "source": [
    "Q.dequeue_dog()"
   ]
  },
  {
   "cell_type": "code",
   "execution_count": 69,
   "metadata": {
    "collapsed": false
   },
   "outputs": [
    {
     "data": {
      "text/plain": [
       "'cat #11'"
      ]
     },
     "execution_count": 69,
     "metadata": {},
     "output_type": "execute_result"
    }
   ],
   "source": [
    "Q.dequeue_any()"
   ]
  },
  {
   "cell_type": "code",
   "execution_count": 70,
   "metadata": {
    "collapsed": false
   },
   "outputs": [
    {
     "data": {
      "text/plain": [
       "'cat #22'"
      ]
     },
     "execution_count": 70,
     "metadata": {},
     "output_type": "execute_result"
    }
   ],
   "source": [
    "Q.dequeue_cat()"
   ]
  },
  {
   "cell_type": "code",
   "execution_count": 71,
   "metadata": {
    "collapsed": false
   },
   "outputs": [
    {
     "data": {
      "text/plain": [
       "'cat #11'"
      ]
     },
     "execution_count": 71,
     "metadata": {},
     "output_type": "execute_result"
    }
   ],
   "source": [
    "Q.dequeue_any()"
   ]
  }
 ],
 "metadata": {
  "kernelspec": {
   "display_name": "Python 3",
   "language": "python",
   "name": "python3"
  },
  "language_info": {
   "codemirror_mode": {
    "name": "ipython",
    "version": 3
   },
   "file_extension": ".py",
   "mimetype": "text/x-python",
   "name": "python",
   "nbconvert_exporter": "python",
   "pygments_lexer": "ipython3",
   "version": "3.6.0"
  }
 },
 "nbformat": 4,
 "nbformat_minor": 2
}
