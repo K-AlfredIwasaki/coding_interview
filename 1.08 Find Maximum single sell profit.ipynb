{
 "cells": [
  {
   "cell_type": "markdown",
   "metadata": {},
   "source": [
    "Given a list of stock prices for n days, find the maximum profit with a single buy/sell activity"
   ]
  },
  {
   "cell_type": "code",
   "execution_count": 22,
   "metadata": {
    "collapsed": true
   },
   "outputs": [],
   "source": [
    "l = [8, 5, 12, 9, 19, 1]\n",
    "l2 = [21, 12, 11, 9, 6, 3]"
   ]
  },
  {
   "cell_type": "code",
   "execution_count": 83,
   "metadata": {
    "collapsed": true
   },
   "outputs": [],
   "source": [
    "from data_structure.stack import *\n",
    "\"\"\"\n",
    "brute force approach\n",
    "1. traverse right to left to seek maximum selling point\n",
    "2. traverse left to right and calculate margin if number is smaller than the min value\n",
    "\"\"\"\n",
    "\n",
    "def maximize_profit1(arr):\n",
    "    sell_arr = Stack()\n",
    "    \n",
    "    track = None\n",
    "    for item in arr:\n",
    "        if track == None:\n",
    "            sell_arr.push(item)\n",
    "            track = item\n",
    "        else:\n",
    "            if item > track:\n",
    "                sell_arr.push(item)\n",
    "                track = item\n",
    "        \n",
    "            else:\n",
    "                sell_arr.push(track)\n",
    "    \n",
    "    print (\"confirm the stack {}\".format(sell_arr))\n",
    "    \n",
    "    profit, deal = None, (None, None)\n",
    "    best_buy = None\n",
    "    i = 0\n",
    "    while not sell_arr.isEmpty():\n",
    "        sell = sell_arr.pop()\n",
    "        buy = arr[i]\n",
    "        print (\"sell is {}\".format(sell))\n",
    "        print (\"buy is {}\".format(buy))\n",
    "        print (\"best_buy is {}\".format(best_buy))\n",
    "        \n",
    "        i += 1\n",
    "        if best_buy == None:\n",
    "            profit, deal = sell-buy, (sell, buy)\n",
    "            best_buy = buy\n",
    "        elif profit < sell-buy:\n",
    "            profit, deal = sell-buy, (sell, buy)\n",
    "            best_buy = buy\n",
    "        else:\n",
    "            pass\n",
    "        print (\"current profit is {}\".format(profit))\n",
    "        \n",
    "    \n",
    "    return profit, deal  "
   ]
  },
  {
   "cell_type": "code",
   "execution_count": 84,
   "metadata": {
    "scrolled": true
   },
   "outputs": [
    {
     "name": "stdout",
     "output_type": "stream",
     "text": [
      "confirm the stack 8=>8=>12=>12=>19=>19\n",
      "sell is 19\n",
      "buy is 8\n",
      "best_buy is None\n",
      "current profit is 11\n",
      "sell is 19\n",
      "buy is 5\n",
      "best_buy is 8\n",
      "current profit is 14\n",
      "sell is 12\n",
      "buy is 12\n",
      "best_buy is 5\n",
      "current profit is 14\n",
      "sell is 12\n",
      "buy is 9\n",
      "best_buy is 5\n",
      "current profit is 14\n",
      "sell is 8\n",
      "buy is 19\n",
      "best_buy is 5\n",
      "current profit is 14\n",
      "sell is 8\n",
      "buy is 1\n",
      "best_buy is 5\n",
      "current profit is 14\n"
     ]
    },
    {
     "data": {
      "text/plain": [
       "(14, (19, 5))"
      ]
     },
     "execution_count": 84,
     "metadata": {},
     "output_type": "execute_result"
    }
   ],
   "source": [
    "maximize_profit1(l)"
   ]
  },
  {
   "cell_type": "code",
   "execution_count": 44,
   "metadata": {},
   "outputs": [],
   "source": [
    "\"\"\"\n",
    "1. set the baseline with first and second item in the array provided\n",
    "2. update c_buy and c_sell if better\n",
    "\"\"\"\n",
    "\n",
    "def maximize_profit(arr):\n",
    "    if arr == None or len(arr) < 2:\n",
    "        return None\n",
    "    \n",
    "    # set the baseline\n",
    "    c_buy = arr[0]\n",
    "    c_sell = arr[1]\n",
    "    profit, sell_buy = c_sell-c_buy, (c_sell, c_buy)\n",
    "    \n",
    "    for i, num in enumerate(arr):\n",
    "        # iterate from second item\n",
    "        if i == 0:\n",
    "            pass\n",
    "        else:\n",
    "            # update c_buy and c_sell\n",
    "            if num < c_buy:\n",
    "                c_buy = num\n",
    "                c_sell = None\n",
    "                \n",
    "            else:\n",
    "                if c_sell == None or c_sell < num:\n",
    "                    c_sell = num\n",
    "        \n",
    "            print (\"current buy is {}\".format(c_buy))\n",
    "            print (\"current sell is {}\".format(c_sell))\n",
    "\n",
    "            # update the maximum profit and sell_buy\n",
    "            if c_sell != None and c_sell - c_buy > profit:\n",
    "                profit, sell_buy = c_sell-c_buy, (c_sell, c_buy)\n",
    "\n",
    "    return profit, sell_buy\n",
    "        "
   ]
  },
  {
   "cell_type": "code",
   "execution_count": 45,
   "metadata": {
    "scrolled": true
   },
   "outputs": [
    {
     "name": "stdout",
     "output_type": "stream",
     "text": [
      "current buy is 5\n",
      "current sell is None\n",
      "current buy is 5\n",
      "current sell is 12\n",
      "current buy is 5\n",
      "current sell is 12\n",
      "current buy is 5\n",
      "current sell is 19\n",
      "current buy is 1\n",
      "current sell is None\n"
     ]
    },
    {
     "data": {
      "text/plain": [
       "(14, (19, 5))"
      ]
     },
     "execution_count": 45,
     "metadata": {},
     "output_type": "execute_result"
    }
   ],
   "source": [
    "maximize_profit(l)"
   ]
  },
  {
   "cell_type": "code",
   "execution_count": 46,
   "metadata": {
    "scrolled": true
   },
   "outputs": [
    {
     "name": "stdout",
     "output_type": "stream",
     "text": [
      "current buy is 12\n",
      "current sell is None\n",
      "current buy is 11\n",
      "current sell is None\n",
      "current buy is 9\n",
      "current sell is None\n",
      "current buy is 6\n",
      "current sell is None\n",
      "current buy is 3\n",
      "current sell is None\n"
     ]
    },
    {
     "data": {
      "text/plain": [
       "(-9, (12, 21))"
      ]
     },
     "execution_count": 46,
     "metadata": {},
     "output_type": "execute_result"
    }
   ],
   "source": [
    "maximize_profit(l2)"
   ]
  }
 ],
 "metadata": {
  "kernelspec": {
   "display_name": "Python 3",
   "language": "python",
   "name": "python3"
  },
  "language_info": {
   "codemirror_mode": {
    "name": "ipython",
    "version": 3
   },
   "file_extension": ".py",
   "mimetype": "text/x-python",
   "name": "python",
   "nbconvert_exporter": "python",
   "pygments_lexer": "ipython3",
   "version": "3.6.0"
  }
 },
 "nbformat": 4,
 "nbformat_minor": 2
}
