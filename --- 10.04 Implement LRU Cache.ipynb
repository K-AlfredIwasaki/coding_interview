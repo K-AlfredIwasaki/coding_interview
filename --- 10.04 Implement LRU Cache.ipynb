{
 "cells": [
  {
   "cell_type": "code",
   "execution_count": 41,
   "metadata": {
    "collapsed": true
   },
   "outputs": [],
   "source": [
    "class Node:\n",
    "    def __init__(self, k, v):\n",
    "        self.key = k\n",
    "        self.val = v\n",
    "        self.prev = None\n",
    "        self.next = None\n",
    "\n",
    "\n",
    "class LRUCache(object):\n",
    "\n",
    "    def __init__(self, capacity):\n",
    "        self.capacity = capacity\n",
    "        self.map = {}\n",
    "        self.head = Node('head', None)     ################## IMPORTANT\n",
    "        self.tail = Node('tail', None)     ################## IMPORTANT\n",
    "        self.head.next = self.tail\n",
    "        self.tail.prev = self.head\n",
    "        \n",
    "\n",
    "    def get(self, key):\n",
    "        \"\"\" move the node accessed to the tail\"\"\"\n",
    "        if key in self.map.keys():\n",
    "            \n",
    "            # move the node to the tail\n",
    "            node = self.map[key]\n",
    "            self._evict(node)\n",
    "            self._add_to_tail(node)\n",
    "            return node.val\n",
    "        else:\n",
    "            return -1\n",
    "            \n",
    "    def put(self, key, value):\n",
    "        \"\"\" add the node        \"\"\"\n",
    "        if key in self.map.keys():\n",
    "            self._evict(self.map[key])\n",
    "        \n",
    "        # move the node to the tail\n",
    "        node = Node(key, value)\n",
    "        self._add_to_tail(node)\n",
    "        self.map[key] = node\n",
    "        \n",
    "        if len(self.map) > self.capacity: ################### IMPORTANT\n",
    "            node = self.head.next\n",
    "            self._evict(node)\n",
    "            del self.map[node.key]\n",
    "    \n",
    "    def _evict(self, node):\n",
    "        \"\"\"evict node from linkedlist\"\"\"\n",
    "        p = node.prev\n",
    "        n = node.next\n",
    "        p.next = n\n",
    "        n.prev = p\n",
    "    \n",
    "    def _add_to_tail(self, node):\n",
    "        \"\"\"add node to the tail\"\"\"\n",
    "        p = self.tail.prev\n",
    "        p.next = node\n",
    "        self.tail.prev = node\n",
    "        node.prev = p\n",
    "        node.next = self.tail\n",
    "        "
   ]
  },
  {
   "cell_type": "code",
   "execution_count": 42,
   "metadata": {
    "collapsed": true
   },
   "outputs": [],
   "source": [
    "cache = LRUCache(4)"
   ]
  },
  {
   "cell_type": "code",
   "execution_count": 43,
   "metadata": {
    "collapsed": true
   },
   "outputs": [],
   "source": [
    "cache.put(1, 1)\n",
    "cache.put(2, 2)\n",
    "cache.put(3, 3)\n",
    "cache.put(4, 4)"
   ]
  },
  {
   "cell_type": "code",
   "execution_count": 44,
   "metadata": {
    "scrolled": true
   },
   "outputs": [
    {
     "data": {
      "text/plain": [
       "1"
      ]
     },
     "execution_count": 44,
     "metadata": {},
     "output_type": "execute_result"
    }
   ],
   "source": [
    "cache.get(1)"
   ]
  },
  {
   "cell_type": "code",
   "execution_count": 45,
   "metadata": {
    "scrolled": true
   },
   "outputs": [
    {
     "data": {
      "text/plain": [
       "2"
      ]
     },
     "execution_count": 45,
     "metadata": {},
     "output_type": "execute_result"
    }
   ],
   "source": [
    "cache.get(2)"
   ]
  },
  {
   "cell_type": "code",
   "execution_count": 46,
   "metadata": {},
   "outputs": [
    {
     "name": "stdout",
     "output_type": "stream",
     "text": [
      "3\n",
      "4\n",
      "1\n",
      "2\n"
     ]
    }
   ],
   "source": [
    "print (cache.head.next.val)\n",
    "print (cache.head.next.next.val)\n",
    "print (cache.head.next.next.next.val)\n",
    "print (cache.head.next.next.next.next.val)"
   ]
  },
  {
   "cell_type": "code",
   "execution_count": 47,
   "metadata": {
    "collapsed": true
   },
   "outputs": [],
   "source": [
    "cache.put(5, 5)"
   ]
  },
  {
   "cell_type": "code",
   "execution_count": 48,
   "metadata": {},
   "outputs": [
    {
     "name": "stdout",
     "output_type": "stream",
     "text": [
      "4\n",
      "1\n",
      "2\n",
      "5\n"
     ]
    }
   ],
   "source": [
    "print (cache.head.next.val)\n",
    "print (cache.head.next.next.val)\n",
    "print (cache.head.next.next.next.val)\n",
    "print (cache.head.next.next.next.next.val)"
   ]
  },
  {
   "cell_type": "code",
   "execution_count": 49,
   "metadata": {},
   "outputs": [
    {
     "data": {
      "text/plain": [
       "1"
      ]
     },
     "execution_count": 49,
     "metadata": {},
     "output_type": "execute_result"
    }
   ],
   "source": [
    "cache.get(1)"
   ]
  },
  {
   "cell_type": "code",
   "execution_count": 50,
   "metadata": {},
   "outputs": [
    {
     "name": "stdout",
     "output_type": "stream",
     "text": [
      "4\n",
      "2\n",
      "5\n",
      "1\n"
     ]
    }
   ],
   "source": [
    "print (cache.head.next.val)\n",
    "print (cache.head.next.next.val)\n",
    "print (cache.head.next.next.next.val)\n",
    "print (cache.head.next.next.next.next.val)"
   ]
  }
 ],
 "metadata": {
  "kernelspec": {
   "display_name": "Python 3",
   "language": "python",
   "name": "python3"
  },
  "language_info": {
   "codemirror_mode": {
    "name": "ipython",
    "version": 3
   },
   "file_extension": ".py",
   "mimetype": "text/x-python",
   "name": "python",
   "nbconvert_exporter": "python",
   "pygments_lexer": "ipython3",
   "version": "3.6.0"
  }
 },
 "nbformat": 4,
 "nbformat_minor": 2
}
