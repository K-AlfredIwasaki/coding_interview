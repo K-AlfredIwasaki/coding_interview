{
 "cells": [
  {
   "cell_type": "code",
   "execution_count": 8,
   "metadata": {
    "collapsed": true
   },
   "outputs": [],
   "source": [
    "def queen_placement(grid, col, row):\n",
    "    l = len(grid)\n",
    "    \n",
    "    # upper diagonal\n",
    "    for r, c in zip(range(row, -1, -1), range(col, -1, -1)):\n",
    "        if grid[r][c] == 1:\n",
    "            return False\n",
    "        \n",
    "    # lower diagnoal\n",
    "    for r, c in zip(range(row, l, +1), range(col, -1, -1)):\n",
    "        if grid[r][c] == 1:\n",
    "            return False\n",
    "        \n",
    "    # horizontal\n",
    "    for c in range(0, col):\n",
    "        if grid[row][c] == 1:\n",
    "            return False\n",
    "        \n",
    "    return True"
   ]
  },
  {
   "cell_type": "code",
   "execution_count": 10,
   "metadata": {
    "collapsed": true
   },
   "outputs": [],
   "source": [
    "def n_queens_rec(grid, i):\n",
    "    # base\n",
    "    l = len(grid)\n",
    "    if i == l:\n",
    "        print(grid)\n",
    "        return\n",
    "    \n",
    "    # recursion\n",
    "    for j in range(l):\n",
    "        if queen_placement(grid, col=i, row=j):\n",
    "            grid[j][i] = 1\n",
    "            n_queens_rec(grid, i+1)\n",
    "            grid[j][i] = 0\n",
    "\n",
    "def n_queens(n):\n",
    "    \n",
    "    grid = [[0 for c in range(n)] for r in range(n)]\n",
    "    \n",
    "    return n_queens_rec(grid, i=0)\n",
    "        "
   ]
  },
  {
   "cell_type": "code",
   "execution_count": 12,
   "metadata": {},
   "outputs": [
    {
     "name": "stdout",
     "output_type": "stream",
     "text": [
      "[[0, 0, 0, 1, 0, 0], [1, 0, 0, 0, 0, 0], [0, 0, 0, 0, 1, 0], [0, 1, 0, 0, 0, 0], [0, 0, 0, 0, 0, 1], [0, 0, 1, 0, 0, 0]]\n",
      "[[0, 0, 0, 0, 1, 0], [0, 0, 1, 0, 0, 0], [1, 0, 0, 0, 0, 0], [0, 0, 0, 0, 0, 1], [0, 0, 0, 1, 0, 0], [0, 1, 0, 0, 0, 0]]\n",
      "[[0, 1, 0, 0, 0, 0], [0, 0, 0, 1, 0, 0], [0, 0, 0, 0, 0, 1], [1, 0, 0, 0, 0, 0], [0, 0, 1, 0, 0, 0], [0, 0, 0, 0, 1, 0]]\n",
      "[[0, 0, 1, 0, 0, 0], [0, 0, 0, 0, 0, 1], [0, 1, 0, 0, 0, 0], [0, 0, 0, 0, 1, 0], [1, 0, 0, 0, 0, 0], [0, 0, 0, 1, 0, 0]]\n"
     ]
    }
   ],
   "source": [
    "n_queens(6)"
   ]
  }
 ],
 "metadata": {
  "kernelspec": {
   "display_name": "Python 3",
   "language": "python",
   "name": "python3"
  },
  "language_info": {
   "codemirror_mode": {
    "name": "ipython",
    "version": 3
   },
   "file_extension": ".py",
   "mimetype": "text/x-python",
   "name": "python",
   "nbconvert_exporter": "python",
   "pygments_lexer": "ipython3",
   "version": "3.6.0"
  }
 },
 "nbformat": 4,
 "nbformat_minor": 2
}
