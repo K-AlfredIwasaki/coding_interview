{
 "cells": [
  {
   "cell_type": "markdown",
   "metadata": {},
   "source": [
    "# Problem\n",
    "\n",
    "Inorder successor of a node in binary tree is the next node in inorder traversal. Write a method to find inorder successor of a given binary tree node in binary search tree without parent pointers"
   ]
  },
  {
   "cell_type": "code",
   "execution_count": 18,
   "metadata": {
    "collapsed": true
   },
   "outputs": [],
   "source": [
    "from data_structure.binary_tree import *\n",
    "b = BinaryTree(100)\n",
    "b.left = BinaryTree(50)\n",
    "b.left.left = BinaryTree(25)\n",
    "b.left.right = BinaryTree(75)\n",
    "b.right = BinaryTree(200)\n",
    "b.right.left = BinaryTree(125)\n",
    "b.right.right = BinaryTree(350)"
   ]
  },
  {
   "cell_type": "code",
   "execution_count": 19,
   "metadata": {
    "scrolled": false
   },
   "outputs": [
    {
     "name": "stdout",
     "output_type": "stream",
     "text": [
      "(100 ( (50 ( (25 ( None | None)) | (75 ( None | None)))) | (200 ( (125 ( None | None)) | (350 ( None | None))))))\n"
     ]
    }
   ],
   "source": [
    "print (b)"
   ]
  },
  {
   "cell_type": "code",
   "execution_count": 20,
   "metadata": {},
   "outputs": [
    {
     "data": {
      "text/plain": [
       "100"
      ]
     },
     "execution_count": 20,
     "metadata": {},
     "output_type": "execute_result"
    }
   ],
   "source": [
    "b.content"
   ]
  },
  {
   "cell_type": "code",
   "execution_count": 21,
   "metadata": {
    "collapsed": true
   },
   "outputs": [],
   "source": [
    "from collections import deque"
   ]
  },
  {
   "cell_type": "code",
   "execution_count": 22,
   "metadata": {},
   "outputs": [],
   "source": [
    "def inorder_successor(root, target):\n",
    "    \n",
    "    # find the target node\n",
    "    found = False\n",
    "    stack = deque()\n",
    "    \n",
    "    while not found and root != None:\n",
    "        print (root.content)\n",
    "        if root.content == target:\n",
    "            found = True\n",
    "        elif root.content < target:\n",
    "            stack.append(root)\n",
    "            root = root.right\n",
    "        elif root.content > target:\n",
    "            stack.append(root)\n",
    "            root = root.left\n",
    "    \n",
    "    if not found:\n",
    "        return \"target is not found in the bst\"\n",
    "    \n",
    "    # search for the inorder successor\n",
    "    \n",
    "    # successor = right child\n",
    "    if root.right != None:\n",
    "        return root.right.content\n",
    "    \n",
    "    while stack and stack[-1].content < target:\n",
    "        stack.pop()\n",
    "        \n",
    "    if stack:\n",
    "        return stack[-1].content\n",
    "    \n",
    "    else:\n",
    "        return \"there is no successor\"\n",
    "    "
   ]
  },
  {
   "cell_type": "code",
   "execution_count": 23,
   "metadata": {
    "scrolled": false
   },
   "outputs": [
    {
     "name": "stdout",
     "output_type": "stream",
     "text": [
      "100\n",
      "50\n",
      "75\n"
     ]
    },
    {
     "data": {
      "text/plain": [
       "100"
      ]
     },
     "execution_count": 23,
     "metadata": {},
     "output_type": "execute_result"
    }
   ],
   "source": [
    "inorder_successor(b, 75)"
   ]
  }
 ],
 "metadata": {
  "kernelspec": {
   "display_name": "Python 3",
   "language": "python",
   "name": "python3"
  },
  "language_info": {
   "codemirror_mode": {
    "name": "ipython",
    "version": 3
   },
   "file_extension": ".py",
   "mimetype": "text/x-python",
   "name": "python",
   "nbconvert_exporter": "python",
   "pygments_lexer": "ipython3",
   "version": "3.6.0"
  }
 },
 "nbformat": 4,
 "nbformat_minor": 2
}
