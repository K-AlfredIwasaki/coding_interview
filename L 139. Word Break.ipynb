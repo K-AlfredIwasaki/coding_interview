{
 "cells": [
  {
   "cell_type": "code",
   "execution_count": 73,
   "metadata": {
    "collapsed": true
   },
   "outputs": [],
   "source": [
    "s = \"testtest\""
   ]
  },
  {
   "cell_type": "code",
   "execution_count": 75,
   "metadata": {},
   "outputs": [
    {
     "data": {
      "text/plain": [
       "'te'"
      ]
     },
     "execution_count": 75,
     "metadata": {},
     "output_type": "execute_result"
    }
   ],
   "source": [
    "s[4:6]"
   ]
  },
  {
   "cell_type": "code",
   "execution_count": 86,
   "metadata": {
    "collapsed": true
   },
   "outputs": [],
   "source": [
    "class Solution(object):\n",
    "    def wordBreak_rec(self, s, result, wordDict, pos):\n",
    "        print(\"loop---------------------------------------------\")\n",
    "        print (\"current pos is {}\".format(pos))\n",
    "        # base\n",
    "        if pos == len(s):\n",
    "            return\n",
    "        \n",
    "        for i in range(pos+1, len(s)+1):\n",
    "            print (\"current i is {}\".format(i))\n",
    "            if s[pos:i] not in wordDict:\n",
    "                continue\n",
    "            \n",
    "            result.append(s[pos:i])            \n",
    "            self.wordBreak_rec(s, result,wordDict, i)\n",
    "        \n",
    "        return result \n",
    "    \n",
    "    def wordBreak(self, s, wordDict):\n",
    "        \"\"\"\n",
    "        :type s: str\n",
    "        :type wordDict: List[str]\n",
    "        :rtype: bool\n",
    "        \"\"\"\n",
    "        result = []\n",
    "        return self.wordBreak_rec(s, result, wordDict, 0)\n",
    "        \n",
    "   "
   ]
  },
  {
   "cell_type": "code",
   "execution_count": 87,
   "metadata": {
    "collapsed": true
   },
   "outputs": [],
   "source": [
    "s = Solution()"
   ]
  },
  {
   "cell_type": "code",
   "execution_count": 89,
   "metadata": {},
   "outputs": [
    {
     "name": "stdout",
     "output_type": "stream",
     "text": [
      "loop---------------------------------------------\n",
      "current pos is 0\n",
      "current i is 1\n",
      "current i is 2\n",
      "current i is 3\n",
      "current i is 4\n",
      "loop---------------------------------------------\n",
      "current pos is 4\n",
      "current i is 5\n",
      "current i is 6\n",
      "current i is 7\n",
      "current i is 8\n",
      "loop---------------------------------------------\n",
      "current pos is 8\n",
      "current i is 9\n",
      "current i is 10\n",
      "current i is 11\n",
      "current i is 12\n",
      "loop---------------------------------------------\n",
      "current pos is 12\n",
      "current i is 9\n",
      "current i is 10\n",
      "current i is 11\n",
      "current i is 12\n",
      "current i is 5\n",
      "current i is 6\n",
      "current i is 7\n",
      "current i is 8\n",
      "current i is 9\n",
      "current i is 10\n",
      "current i is 11\n",
      "current i is 12\n"
     ]
    },
    {
     "data": {
      "text/plain": [
       "['leet', 'code', 'TESt']"
      ]
     },
     "execution_count": 89,
     "metadata": {},
     "output_type": "execute_result"
    }
   ],
   "source": [
    "s.wordBreak(\"leetcodeTESt\", [\"leet\", \"code\", \"TESt\"])"
   ]
  }
 ],
 "metadata": {
  "kernelspec": {
   "display_name": "Python 3",
   "language": "python",
   "name": "python3"
  },
  "language_info": {
   "codemirror_mode": {
    "name": "ipython",
    "version": 3
   },
   "file_extension": ".py",
   "mimetype": "text/x-python",
   "name": "python",
   "nbconvert_exporter": "python",
   "pygments_lexer": "ipython3",
   "version": "3.6.0"
  }
 },
 "nbformat": 4,
 "nbformat_minor": 2
}
