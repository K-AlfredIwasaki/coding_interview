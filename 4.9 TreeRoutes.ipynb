{
 "cells": [
  {
   "cell_type": "code",
   "execution_count": 3,
   "metadata": {
    "collapsed": true
   },
   "outputs": [],
   "source": [
    "class BinaryTreeNode:\n",
    "\n",
    "    def __init__(self, value):\n",
    "        self.value = value\n",
    "        self.left = None\n",
    "        self.right = None\n",
    "        self.parent = None\n",
    "\n",
    "    def setLeft(self, leftvalue):\n",
    "        leftnode = BinaryTreeNode(leftvalue)\n",
    "        self.left = leftnode\n",
    "        if leftnode != None:\n",
    "            leftnode.parent = self\n",
    "\n",
    "    def setRight(self, rightvalue):\n",
    "        rightnode = BinaryTreeNode(rightvalue)\n",
    "        self.right = rightnode\n",
    "        if rightnode != None:\n",
    "            rightnode.parent = self"
   ]
  },
  {
   "cell_type": "code",
   "execution_count": 6,
   "metadata": {
    "collapsed": true
   },
   "outputs": [],
   "source": [
    "def findSum(node, givenSum, path=None, depth=0):\n",
    "    # base case --- if it reaches a leaf\n",
    "    if node is None:\n",
    "        return None\n",
    "    \n",
    "    # initialize the path list\n",
    "    if path is None:\n",
    "        path = []\n",
    "    \n",
    "    # rewrite existing item in the path list\n",
    "    if len(path) > depth:\n",
    "        path[depth] = node.value\n",
    "        \n",
    "    # append new item to the path list\n",
    "    else:\n",
    "        path.append(node.value)\n",
    "    \n",
    "    # Look up to see if there are paths end up with this node \n",
    "    # and sum to the given value\n",
    "    temp = 0\n",
    "    for i in range(depth, -1, -1): # look \"up\"\n",
    "        temp += path[i]\n",
    "        if temp == givenSum:\n",
    "            printPath(path, i, depth)\n",
    "    \n",
    "    findSum(node.left, givenSum, path, depth+1)\n",
    "    findSum(node.right, givenSum, path, depth+1)\n",
    "\n",
    "\n",
    "def printPath(path, start, end):\n",
    "    for i in range(start, end + 1):\n",
    "        print (path[i],)\n",
    "    print (\"\")"
   ]
  },
  {
   "cell_type": "code",
   "execution_count": 13,
   "metadata": {
    "collapsed": true
   },
   "outputs": [],
   "source": [
    "def findSum(node, givenSum, path=None, depth=0):\n",
    "    #print(path)\n",
    "    # base case --- if it reaches a leaf\n",
    "    if node is None:\n",
    "        return None\n",
    "    \n",
    "    # initialize the path list\n",
    "    if path is None:\n",
    "        path = []\n",
    "    \n",
    "    # very important --- first visit or non-first visit in the depth\n",
    "    if len(path) < depth + 1:\n",
    "        # first time --- append\n",
    "        path.append(node.value)\n",
    "        \n",
    "    else:\n",
    "        # non-first visit --- rewrite\n",
    "        path[depth] = node.value\n",
    "        \n",
    "    \n",
    "    # Look up to see if there are paths end up with this node \n",
    "    # and sum to the given value\n",
    "    temp = 0\n",
    "    for i in range(depth, -1, -1): # look \"up\"\n",
    "        temp += path[i]\n",
    "        #print (\"temp is {}\".format(temp))\n",
    "        if temp == givenSum:\n",
    "            printPath(path, i, depth)\n",
    "    \n",
    "    findSum(node.left, givenSum, path, depth+1)\n",
    "    findSum(node.right, givenSum, path, depth+1)\n",
    "\n",
    "\n",
    "def printPath(path, start, end):\n",
    "    for i in range(start, end + 1):\n",
    "        print (path[i],)\n",
    "    print (\"\")"
   ]
  },
  {
   "cell_type": "code",
   "execution_count": 14,
   "metadata": {},
   "outputs": [],
   "source": [
    "# --------------test----------------\n",
    "#               1\n",
    "#              / \\\n",
    "#             2   3\n",
    "#            / \\ / \\\n",
    "#           4  5 3  4 \n",
    "#             /\n",
    "#            7\n",
    "# Sum = 7\n",
    "# Path:\n",
    "# 1 2 4\n",
    "# 2 5\n",
    "# 7\n",
    "# 1 3 3\n",
    "# 3 4\n",
    "\n",
    "def main():\n",
    "    givenSum = 10\n",
    "    root = BinaryTreeNode(1)\n",
    "    root.setLeft(2)\n",
    "    root.setRight(3)\n",
    "    root.left.setLeft(4)\n",
    "    root.left.setRight(5)\n",
    "    root.right.setLeft(3)\n",
    "    root.right.setRight(4)\n",
    "    root.left.right.setLeft(7)\n",
    "\n",
    "    findSum(root, givenSum)\n",
    "\n",
    "\n",
    "if __name__ == \"__main__\":\n",
    "    main()"
   ]
  },
  {
   "cell_type": "code",
   "execution_count": null,
   "metadata": {
    "collapsed": true
   },
   "outputs": [],
   "source": []
  }
 ],
 "metadata": {
  "kernelspec": {
   "display_name": "Python 3",
   "language": "python",
   "name": "python3"
  },
  "language_info": {
   "codemirror_mode": {
    "name": "ipython",
    "version": 3
   },
   "file_extension": ".py",
   "mimetype": "text/x-python",
   "name": "python",
   "nbconvert_exporter": "python",
   "pygments_lexer": "ipython3",
   "version": "3.6.0"
  }
 },
 "nbformat": 4,
 "nbformat_minor": 2
}
