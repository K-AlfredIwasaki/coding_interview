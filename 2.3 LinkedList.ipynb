{
 "cells": [
  {
   "cell_type": "code",
   "execution_count": 1,
   "metadata": {
    "collapsed": true
   },
   "outputs": [],
   "source": [
    "from random import randint\n",
    "\n",
    "class Node:\n",
    "    def __init__(self, value):\n",
    "        self.value = value\n",
    "        self.next = None\n",
    "\n",
    "    def __str__(self):\n",
    "        return str(self.value)\n",
    "\n",
    "class LinkedList:\n",
    "    def __init__(self):\n",
    "        self.head = None\n",
    "        self.tail = None\n",
    "\n",
    "    def addNode(self,value):\n",
    "        node = Node(value)\n",
    "        #if the old list is none, set new node as the first node\n",
    "        if self.head == None:\n",
    "            self.head = node\n",
    "            self.tail = node\n",
    "        else:\n",
    "            self.tail.next = node\n",
    "            self.tail = node\n",
    "\n",
    "    def __str__(self):\n",
    "        if self.head != None:\n",
    "            index = self.head\n",
    "            nodestore = [str(index.value)]\n",
    "            while index.next != None:\n",
    "                index = index.next\n",
    "                nodestore.append(str(index.value))\n",
    "            return \"LinkedList  [ \" + \"->\".join(nodestore) + \" ]\"\n",
    "        return \"LinkedList  []\"\n",
    "\n",
    "\n",
    "    #remove the first node that have the same value as the given node_value\n",
    "    def removeNode(self, node_value):\n",
    "        current = self.head\n",
    "        if current.value == node_value:\n",
    "            self.head = self.head.next\n",
    "        while(current.next != None):\n",
    "            if current.next.value == node_value:\n",
    "                current.next = current.next.next\n",
    "                break\n",
    "            else:\n",
    "                current = current.next\n",
    "                \n",
    "def randomLinkedList(length, min, max):\n",
    "    linkedlist = LinkedList()\n",
    "    for i in range(length):\n",
    "        value = randint(min, max)\n",
    "        linkedlist.addNode(value)\n",
    "    return linkedlist"
   ]
  },
  {
   "cell_type": "code",
   "execution_count": 36,
   "metadata": {
    "collapsed": false
   },
   "outputs": [
    {
     "name": "stdout",
     "output_type": "stream",
     "text": [
      "LinkedList  [ 18->0->1->1->4->3->19->16->16 ]\n"
     ]
    }
   ],
   "source": [
    "l1 = randomLinkedList(9, 0, 20)\n",
    "print (l1)"
   ]
  },
  {
   "cell_type": "code",
   "execution_count": 37,
   "metadata": {
    "collapsed": true
   },
   "outputs": [],
   "source": [
    "def deleteNode(linkedlist, node):\n",
    "    if node.next != None:\n",
    "        node.value = node.next.value\n",
    "        node.next = node.next.next  \n",
    "    \n",
    "    # if the given node is the last one, no way to delete it.\n",
    "    # Here we set the last one's value to None\n",
    "    else:\n",
    "        node.value = None"
   ]
  },
  {
   "cell_type": "code",
   "execution_count": 38,
   "metadata": {
    "collapsed": false
   },
   "outputs": [
    {
     "name": "stdout",
     "output_type": "stream",
     "text": [
      "LinkedList  [ 18->0->1->4->3->19->16->16 ]\n"
     ]
    }
   ],
   "source": [
    "node =l1.head.next.next\n",
    "deleteNode(l1, node)\n",
    "print (l1)"
   ]
  }
 ],
 "metadata": {
  "kernelspec": {
   "display_name": "Python 3",
   "language": "python",
   "name": "python3"
  },
  "language_info": {
   "codemirror_mode": {
    "name": "ipython",
    "version": 3
   },
   "file_extension": ".py",
   "mimetype": "text/x-python",
   "name": "python",
   "nbconvert_exporter": "python",
   "pygments_lexer": "ipython3",
   "version": "3.6.0"
  }
 },
 "nbformat": 4,
 "nbformat_minor": 2
}
