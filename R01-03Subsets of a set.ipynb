{
 "cells": [
  {
   "cell_type": "code",
   "execution_count": 11,
   "metadata": {
    "collapsed": true
   },
   "outputs": [],
   "source": [
    "def print_all_subsets_rec(original_set, i, current, result):\n",
    "    # base\n",
    "    if i == len(original_set):\n",
    "        result.append(current.copy())\n",
    "        return\n",
    "        \n",
    "    \n",
    "    # recursion\n",
    "    # without\n",
    "    print_all_subsets_rec(original_set, i+1, current, result)\n",
    "    \n",
    "    # with\n",
    "    current.add(original_set[i])\n",
    "    print_all_subsets_rec(original_set, i+1, current, result)\n",
    "    current.remove(original_set[i])\n",
    "    \n",
    "def print_all_subsets(original_set):\n",
    "    if len(original_set) == 0:\n",
    "        return None\n",
    "    \n",
    "    i = 0\n",
    "    current = set([])\n",
    "    result = []\n",
    "    print_all_subsets_rec(original_set, i, current, result)\n",
    "    \n",
    "    return result"
   ]
  },
  {
   "cell_type": "code",
   "execution_count": 13,
   "metadata": {
    "scrolled": false
   },
   "outputs": [
    {
     "data": {
      "text/plain": [
       "[set(),\n",
       " {'c'},\n",
       " {'b'},\n",
       " {'b', 'c'},\n",
       " {'a'},\n",
       " {'a', 'c'},\n",
       " {'a', 'b'},\n",
       " {'a', 'b', 'c'}]"
      ]
     },
     "execution_count": 13,
     "metadata": {},
     "output_type": "execute_result"
    }
   ],
   "source": [
    "print_all_subsets([\"a\", \"b\", \"c\"])"
   ]
  },
  {
   "cell_type": "markdown",
   "metadata": {},
   "source": [
    "Time complexity: O(2^n x n) = # binary tree nodes x print\n",
    "\n",
    "Space compexity: O(n) = height"
   ]
  }
 ],
 "metadata": {
  "kernelspec": {
   "display_name": "Python 3",
   "language": "python",
   "name": "python3"
  },
  "language_info": {
   "codemirror_mode": {
    "name": "ipython",
    "version": 3
   },
   "file_extension": ".py",
   "mimetype": "text/x-python",
   "name": "python",
   "nbconvert_exporter": "python",
   "pygments_lexer": "ipython3",
   "version": "3.6.0"
  }
 },
 "nbformat": 4,
 "nbformat_minor": 2
}
