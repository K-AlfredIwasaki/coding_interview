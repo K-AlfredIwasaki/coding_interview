{
 "cells": [
  {
   "cell_type": "markdown",
   "metadata": {},
   "source": [
    "# Problem: \n",
    "Given a string, find the length of the longest substring without repeating characters.\n",
    "\n",
    "- Given \"abcabcbb\", the answer is \"abc\", which the length is 3.\n",
    "- Given \"bbbbb\", the answer is \"b\", with the length of 1.\n",
    "- Given \"pwwkew\", the answer is \"wke\", with the length of 3. Note that the answer must be a substring, \"pwke\" is a subsequence and not a substring."
   ]
  },
  {
   "cell_type": "code",
   "execution_count": 2,
   "metadata": {
    "collapsed": true
   },
   "outputs": [],
   "source": [
    "s = \"abcabcbbb\""
   ]
  },
  {
   "cell_type": "code",
   "execution_count": 5,
   "metadata": {},
   "outputs": [
    {
     "name": "stdout",
     "output_type": "stream",
     "text": [
      "continue\n",
      "test\n",
      "continue\n"
     ]
    }
   ],
   "source": [
    "for i, chr in enumerate(\"str\"):\n",
    "    if i == 1:\n",
    "        print (\"test\")\n",
    "        continue\n",
    "    print (\"continue\")"
   ]
  },
  {
   "cell_type": "code",
   "execution_count": 12,
   "metadata": {},
   "outputs": [
    {
     "data": {
      "text/plain": [
       "0"
      ]
     },
     "execution_count": 12,
     "metadata": {},
     "output_type": "execute_result"
    }
   ],
   "source": [
    "len(test.keys())"
   ]
  },
  {
   "cell_type": "code",
   "execution_count": 34,
   "metadata": {
    "collapsed": true
   },
   "outputs": [],
   "source": [
    "arr = \"pwwkew\""
   ]
  },
  {
   "cell_type": "code",
   "execution_count": 41,
   "metadata": {},
   "outputs": [],
   "source": [
    "def find_longest_substr(s):\n",
    "    longest_substr_idx = [] # store index\n",
    "    current_chrs = dict() # check if a char in the dict is O(1)\n",
    "    c_head = None\n",
    "    c_tail = None\n",
    "    \n",
    "    for i, chr in enumerate(s):\n",
    "        print (current_chrs.keys())\n",
    "        \n",
    "        if chr not in current_chrs.keys():\n",
    "            \n",
    "            # update dict\n",
    "            current_chrs[chr] = True\n",
    "            # update idx\n",
    "            if c_head == None:\n",
    "                c_head = i\n",
    "                c_tail = i\n",
    "            else:\n",
    "                c_tail = i\n",
    "            \n",
    "        else:\n",
    "            # update longest_substr_idx\n",
    "            current_length = c_tail - c_head + 1\n",
    "            if len(longest_substr_idx):\n",
    "                longest_length = longest_substr_idx[-1] - longest_substr_idx[0] + 1\n",
    "            else:\n",
    "                longest_length = 0\n",
    "            \n",
    "            \n",
    "            if current_length > longest_length:\n",
    "                longest_substr_idx = [c_head, c_tail]\n",
    "                \n",
    "                \n",
    "            # clear the current_chrs, current_idxs\n",
    "            current_chrs = dict()\n",
    "            current_idxs = []\n",
    "            \n",
    "            # store first items\n",
    "            current_chrs[chr] = True\n",
    "            current_idxs.append(i)\n",
    "    \n",
    "    print(longest_substr_idx[-1])\n",
    "    return s[longest_substr_idx[0]:longest_substr_idx[-1]+1]\n",
    "            \n",
    "            \n",
    "        "
   ]
  },
  {
   "cell_type": "code",
   "execution_count": 42,
   "metadata": {},
   "outputs": [
    {
     "name": "stdout",
     "output_type": "stream",
     "text": [
      "dict_keys([])\n",
      "dict_keys(['p'])\n",
      "dict_keys(['p', 'w'])\n",
      "dict_keys(['w'])\n",
      "dict_keys(['w', 'k'])\n",
      "dict_keys(['w', 'k', 'e'])\n",
      "4\n"
     ]
    },
    {
     "data": {
      "text/plain": [
       "'pwwke'"
      ]
     },
     "execution_count": 42,
     "metadata": {},
     "output_type": "execute_result"
    }
   ],
   "source": [
    "find_longest_substr(arr)"
   ]
  }
 ],
 "metadata": {
  "kernelspec": {
   "display_name": "Python 3",
   "language": "python",
   "name": "python3"
  },
  "language_info": {
   "codemirror_mode": {
    "name": "ipython",
    "version": 3
   },
   "file_extension": ".py",
   "mimetype": "text/x-python",
   "name": "python",
   "nbconvert_exporter": "python",
   "pygments_lexer": "ipython3",
   "version": "3.6.0"
  }
 },
 "nbformat": 4,
 "nbformat_minor": 2
}
