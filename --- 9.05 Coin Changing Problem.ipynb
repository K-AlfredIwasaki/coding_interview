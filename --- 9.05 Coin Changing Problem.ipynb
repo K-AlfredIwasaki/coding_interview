{
 "cells": [
  {
   "cell_type": "markdown",
   "metadata": {},
   "source": [
    "# Problem\n",
    "\n",
    "Given coin denominations and the total amount, find out the number​ of ways to make the change."
   ]
  },
  {
   "cell_type": "code",
   "execution_count": 1,
   "metadata": {
    "collapsed": true
   },
   "outputs": [],
   "source": [
    "denom = [1, 2, 5]\n",
    "amount = 7"
   ]
  },
  {
   "cell_type": "code",
   "execution_count": 19,
   "metadata": {
    "collapsed": true
   },
   "outputs": [],
   "source": [
    "# permutation approach similar to 9.02, 3.04 and so forth\n",
    "# time complexity Exponential\n",
    "\n",
    "def get_changes(denom, amount, track_sum = 0, changes = [], results = []):\n",
    "    # base\n",
    "    if amount == track_sum:\n",
    "        print (changes)\n",
    "        temp = changes.copy()\n",
    "        results.append(temp)\n",
    "        return\n",
    "        \n",
    "    # recursion\n",
    "    for item in denom:\n",
    "        if item + track_sum <= amount:\n",
    "            changes.append(item)\n",
    "            temp_denom = [ i for i in denom if i >= item] #### IMPORTANT\n",
    "            get_changes(temp_denom, amount, track_sum + item, changes, results)\n",
    "            changes.pop()\n",
    "            # track_sum += - item # this is not necessary \n",
    "            # because we update using variable \"track sum + item\" in the recursion call"
   ]
  },
  {
   "cell_type": "code",
   "execution_count": 17,
   "metadata": {
    "scrolled": false
   },
   "outputs": [
    {
     "name": "stdout",
     "output_type": "stream",
     "text": [
      "[1, 1, 1, 1, 1, 1, 1]\n",
      "[1, 1, 1, 1, 1, 2]\n",
      "[1, 1, 1, 2, 2]\n",
      "[1, 1, 5]\n",
      "[1, 2, 2, 2]\n",
      "[2, 5]\n"
     ]
    }
   ],
   "source": [
    "get_changes(denom, 7)"
   ]
  },
  {
   "cell_type": "code",
   "execution_count": 6,
   "metadata": {
    "collapsed": true
   },
   "outputs": [],
   "source": [
    "# slightly modified version\n",
    "def coin_change(coins, target, previous=0, current=[], result=[]):\n",
    "    # base\n",
    "    if sum(current) == target:\n",
    "        temp = current.copy()\n",
    "        result.append(temp)\n",
    "        \n",
    "    if sum(current) > target:\n",
    "        return\n",
    "    \n",
    "    # recusion for each coin\n",
    "    for i, coin in enumerate(coins):\n",
    "        if i < previous:\n",
    "            continue\n",
    "        current.append(coin)\n",
    "        coin_change(coins, target, i, current, result)\n",
    "        current.pop()\n",
    "        \n",
    "    return result"
   ]
  },
  {
   "cell_type": "code",
   "execution_count": 7,
   "metadata": {
    "scrolled": false
   },
   "outputs": [
    {
     "data": {
      "text/plain": [
       "[[1, 1, 1, 1, 1, 1, 1],\n",
       " [1, 1, 1, 1, 1, 2],\n",
       " [1, 1, 1, 2, 2],\n",
       " [1, 1, 5],\n",
       " [1, 2, 2, 2],\n",
       " [2, 5]]"
      ]
     },
     "execution_count": 7,
     "metadata": {},
     "output_type": "execute_result"
    }
   ],
   "source": [
    "coin_change([1, 2, 5], 7)"
   ]
  },
  {
   "cell_type": "code",
   "execution_count": 1,
   "metadata": {
    "collapsed": true
   },
   "outputs": [],
   "source": [
    "# backtracking\n",
    "\n",
    "def coin_changing_rec(target, coins, i, count, result):\n",
    "    # base\n",
    "    if target == 0:\n",
    "        count.append(1)\n",
    "        result = result + 1\n",
    "        print(count)\n",
    "        print(\"count\")\n",
    "        return\n",
    "    \n",
    "    if target < 0:\n",
    "        return\n",
    "    \n",
    "    # recursion\n",
    "    for j,coin in enumerate(coins[i:]):\n",
    "        \n",
    "        coin_changing_rec(target-coin, coins, j, count, result)\n",
    "    \n",
    "    return count, result"
   ]
  },
  {
   "cell_type": "code",
   "execution_count": 2,
   "metadata": {},
   "outputs": [
    {
     "name": "stdout",
     "output_type": "stream",
     "text": [
      "[1]\n",
      "count\n",
      "[1, 1]\n",
      "count\n",
      "[1, 1, 1]\n",
      "count\n",
      "[1, 1, 1, 1]\n",
      "count\n",
      "[1, 1, 1, 1, 1]\n",
      "count\n"
     ]
    },
    {
     "data": {
      "text/plain": [
       "([1, 1, 1, 1, 1], 0)"
      ]
     },
     "execution_count": 2,
     "metadata": {},
     "output_type": "execute_result"
    }
   ],
   "source": [
    "coin_changing_rec(5, [1,2,4], 0, [], 0)"
   ]
  },
  {
   "cell_type": "markdown",
   "metadata": {},
   "source": [
    "http://www.geeksforgeeks.org/dynamic-programming-set-7-coin-change/"
   ]
  },
  {
   "cell_type": "code",
   "execution_count": 49,
   "metadata": {
    "collapsed": true
   },
   "outputs": [],
   "source": [
    "def solve_coin_change_dp(denominations, amount):\n",
    "    # this solution requires O(amount) space to store solution\n",
    "    # until current amount.\n",
    "    \n",
    "    # initialize\n",
    "    # solution[i] will store the number of solutions for value i ########### IMPORTANT\n",
    "    # we need amount + 1 rows as the table is constructed in bottom up matter \n",
    "    # using the base case (i = 0)\n",
    "    solution = [0 for i in range(0, amount + 1)]\n",
    "    \n",
    "    # base case (if given value is 0)\n",
    "    solution[0] = 1\n",
    "    \n",
    "    # pick all coins one by one and update the solution[] \n",
    "    # after the index greater than or equal to the value of picked coin\n",
    "    for den in denominations:\n",
    "        for i in range(den, amount + 1):\n",
    "            solution[i] += solution[i - den] \n",
    "\n",
    "    return solution[len(solution)- 1] # number of methods"
   ]
  },
  {
   "cell_type": "code",
   "execution_count": 48,
   "metadata": {
    "scrolled": true
   },
   "outputs": [
    {
     "data": {
      "text/plain": [
       "8"
      ]
     },
     "execution_count": 48,
     "metadata": {},
     "output_type": "execute_result"
    }
   ],
   "source": [
    "solve_coin_change_dp([1, 2, 5], 9)"
   ]
  }
 ],
 "metadata": {
  "kernelspec": {
   "display_name": "Python 3",
   "language": "python",
   "name": "python3"
  },
  "language_info": {
   "codemirror_mode": {
    "name": "ipython",
    "version": 3
   },
   "file_extension": ".py",
   "mimetype": "text/x-python",
   "name": "python",
   "nbconvert_exporter": "python",
   "pygments_lexer": "ipython3",
   "version": "3.6.0"
  }
 },
 "nbformat": 4,
 "nbformat_minor": 2
}
