{
 "cells": [
  {
   "cell_type": "markdown",
   "metadata": {},
   "source": [
    "# Problem\n",
    "\n",
    "Given coin denominations and the total amount, find out the number​ of ways to make the change."
   ]
  },
  {
   "cell_type": "code",
   "execution_count": 1,
   "metadata": {
    "collapsed": true
   },
   "outputs": [],
   "source": [
    "denom = [1, 2, 5]\n",
    "amount = 7"
   ]
  },
  {
   "cell_type": "code",
   "execution_count": 19,
   "metadata": {
    "collapsed": true
   },
   "outputs": [],
   "source": [
    "# permutation approach similar to 9.02, 3.04 and so forth\n",
    "# time complexity Exponential\n",
    "\n",
    "def get_changes(denom, amount, track_sum = 0, changes = [], results = []):\n",
    "    # base\n",
    "    if amount == track_sum:\n",
    "        print (changes)\n",
    "        temp = changes.copy()\n",
    "        results.append(temp)\n",
    "        return\n",
    "        \n",
    "    # recursion\n",
    "    for item in denom:\n",
    "        if item + track_sum <= amount:\n",
    "            changes.append(item)\n",
    "            temp_denom = [ i for i in denom if i >= item] #### IMPORTANT\n",
    "            get_changes(temp_denom, amount, track_sum + item, changes, results)\n",
    "            changes.pop()\n",
    "            # track_sum += - item # this is not necessary \n",
    "            # because we update using variable \"track sum + item\" in the recursion call"
   ]
  },
  {
   "cell_type": "code",
   "execution_count": 17,
   "metadata": {
    "scrolled": false
   },
   "outputs": [
    {
     "name": "stdout",
     "output_type": "stream",
     "text": [
      "[1, 1, 1, 1, 1, 1, 1]\n",
      "[1, 1, 1, 1, 1, 2]\n",
      "[1, 1, 1, 2, 2]\n",
      "[1, 1, 5]\n",
      "[1, 2, 2, 2]\n",
      "[2, 5]\n"
     ]
    }
   ],
   "source": [
    "get_changes(denom, 7)"
   ]
  },
  {
   "cell_type": "markdown",
   "metadata": {},
   "source": [
    "http://www.geeksforgeeks.org/dynamic-programming-set-7-coin-change/"
   ]
  },
  {
   "cell_type": "code",
   "execution_count": 49,
   "metadata": {
    "collapsed": true
   },
   "outputs": [],
   "source": [
    "def solve_coin_change_dp(denominations, amount):\n",
    "    # this solution requires O(amount) space to store solution\n",
    "    # until current amount.\n",
    "    \n",
    "    # initialize\n",
    "    # solution[i] will store the number of solutions for value i ########### IMPORTANT\n",
    "    # we need amount + 1 rows as the table is constructed in bottom up matter \n",
    "    # using the base case (i = 0)\n",
    "    solution = [0 for i in range(0, amount + 1)]\n",
    "    \n",
    "    # base case (if given value is 0)\n",
    "    solution[0] = 1\n",
    "    \n",
    "    # pick all coins one by one and update the solution[] \n",
    "    # after the index greater than or equal to the value of picked coin\n",
    "    for den in denominations:\n",
    "        for i in range(den, amount + 1):\n",
    "            solution[i] += solution[i - den] \n",
    "\n",
    "    return solution[len(solution)- 1] # number of methods"
   ]
  },
  {
   "cell_type": "code",
   "execution_count": 48,
   "metadata": {
    "scrolled": true
   },
   "outputs": [
    {
     "data": {
      "text/plain": [
       "8"
      ]
     },
     "execution_count": 48,
     "metadata": {},
     "output_type": "execute_result"
    }
   ],
   "source": [
    "solve_coin_change_dp([1, 2, 5], 9)"
   ]
  }
 ],
 "metadata": {
  "kernelspec": {
   "display_name": "Python 3",
   "language": "python",
   "name": "python3"
  },
  "language_info": {
   "codemirror_mode": {
    "name": "ipython",
    "version": 3
   },
   "file_extension": ".py",
   "mimetype": "text/x-python",
   "name": "python",
   "nbconvert_exporter": "python",
   "pygments_lexer": "ipython3",
   "version": "3.6.0"
  }
 },
 "nbformat": 4,
 "nbformat_minor": 2
}
