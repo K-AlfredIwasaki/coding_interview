{
 "cells": [
  {
   "cell_type": "markdown",
   "metadata": {},
   "source": [
    "# Problem\n",
    "\n",
    "Given a string s, find the longest palindromic substring in s. You may assume that the maximum length of s is 1000."
   ]
  },
  {
   "cell_type": "code",
   "execution_count": 80,
   "metadata": {
    "collapsed": true
   },
   "outputs": [],
   "source": [
    "string = \"abbabad\""
   ]
  },
  {
   "cell_type": "code",
   "execution_count": 106,
   "metadata": {
    "collapsed": true
   },
   "outputs": [],
   "source": [
    "class Solution(object):\n",
    "    def palindrom_check(self, string, i, result=\"\", odds = True):\n",
    "    \n",
    "        if odds:\n",
    "            j = i - 1\n",
    "            k = i + 1\n",
    "        else:\n",
    "            j = i\n",
    "            k = i + 1\n",
    "\n",
    "        while j >= 0 and k < len(string):\n",
    "            if string[j] == string[k]:\n",
    "\n",
    "                # update results\n",
    "                if len(result) > 0:\n",
    "                    if len(result) < len(string[j:k+1]):\n",
    "                        result = string[j:k+1]        \n",
    "                else:\n",
    "                    result = string[j:k+1]\n",
    "\n",
    "                # update pointers\n",
    "                j += -1\n",
    "                k += +1\n",
    "\n",
    "                continue\n",
    "            break\n",
    "\n",
    "\n",
    "        return result\n",
    "    \n",
    "    def longestPalindrome(self, s):\n",
    "        \"\"\"\n",
    "        :type s: str\n",
    "        :rtype: str\n",
    "        \"\"\"\n",
    "        if len(s) == 0 or len(s) == 1:\n",
    "            return s\n",
    "        \n",
    "        result = s[0]\n",
    "        for i in range(len(s)):\n",
    "\n",
    "            # check odds palindrome\n",
    "            result = self.palindrom_check(s, i, result = result, odds = True)\n",
    "            # check even palindrome\n",
    "            result = self.palindrom_check(s, i, result = result, odds = False)\n",
    "\n",
    "        return result"
   ]
  },
  {
   "cell_type": "code",
   "execution_count": 107,
   "metadata": {
    "collapsed": true
   },
   "outputs": [],
   "source": [
    "s = Solution()"
   ]
  },
  {
   "cell_type": "code",
   "execution_count": 108,
   "metadata": {},
   "outputs": [
    {
     "data": {
      "text/plain": [
       "'abba'"
      ]
     },
     "execution_count": 108,
     "metadata": {},
     "output_type": "execute_result"
    }
   ],
   "source": [
    "s.longestPalindrome(string)"
   ]
  }
 ],
 "metadata": {
  "kernelspec": {
   "display_name": "Python 3",
   "language": "python",
   "name": "python3"
  },
  "language_info": {
   "codemirror_mode": {
    "name": "ipython",
    "version": 3
   },
   "file_extension": ".py",
   "mimetype": "text/x-python",
   "name": "python",
   "nbconvert_exporter": "python",
   "pygments_lexer": "ipython3",
   "version": "3.6.0"
  }
 },
 "nbformat": 4,
 "nbformat_minor": 2
}
