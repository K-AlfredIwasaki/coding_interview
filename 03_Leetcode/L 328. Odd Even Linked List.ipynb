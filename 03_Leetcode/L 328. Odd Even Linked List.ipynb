{
 "cells": [
  {
   "cell_type": "code",
   "execution_count": 7,
   "metadata": {
    "collapsed": true
   },
   "outputs": [],
   "source": [
    "class ListNode(object):\n",
    "    def __init__(self, x):\n",
    "        self.val = x\n",
    "        self.next = None\n",
    "        \n",
    "    def __str__(self):\n",
    "\n",
    "    \tcurrent = self\n",
    "    \tresult = []\n",
    "    \twhile current != None:\n",
    "    \t\tresult.append(str(current.val))\n",
    "    \t\tcurrent = current.next\n",
    "\n",
    "    \treturn \"=>\".join(result)\n"
   ]
  },
  {
   "cell_type": "code",
   "execution_count": 89,
   "metadata": {},
   "outputs": [
    {
     "name": "stdout",
     "output_type": "stream",
     "text": [
      "1=>2=>3=>4=>5=>6=>7\n"
     ]
    }
   ],
   "source": [
    "l = ListNode(1)\n",
    "l.next = ListNode(2)\n",
    "l.next.next = ListNode(3)\n",
    "l.next.next.next = ListNode(4)\n",
    "l.next.next.next.next = ListNode(5)\n",
    "l.next.next.next.next.next = ListNode(6)\n",
    "l.next.next.next.next.next.next = ListNode(7)\n",
    "\n",
    "print (l)"
   ]
  },
  {
   "cell_type": "code",
   "execution_count": 90,
   "metadata": {},
   "outputs": [],
   "source": [
    "def odd_even(head):\n",
    "    even = None\n",
    "    odd = head\n",
    "    \n",
    "    traversal = False\n",
    "    while not traversal:\n",
    "        print (head)\n",
    "        \n",
    "        if head == None:\n",
    "            return head\n",
    "        \n",
    "        if head.next == None:\n",
    "            return head\n",
    "        \n",
    "        temp = odd.next\n",
    "        if temp != None:\n",
    "            odd.next = temp.next\n",
    "        else:\n",
    "            odd.next = None\n",
    "            \n",
    "        if even == None:\n",
    "            even = temp\n",
    "            even_head = even\n",
    "        else:\n",
    "            even.next = temp\n",
    "            even = temp\n",
    "        \n",
    "        if odd.next == None:\n",
    "            traversal = True\n",
    "        else:\n",
    "            odd = odd.next\n",
    "    \n",
    "    odd.next = even_head\n",
    "    \n",
    "    return head"
   ]
  },
  {
   "cell_type": "code",
   "execution_count": 91,
   "metadata": {
    "scrolled": false
   },
   "outputs": [
    {
     "name": "stdout",
     "output_type": "stream",
     "text": [
      "1=>2=>3=>4=>5=>6=>7\n",
      "1=>3=>4=>5=>6=>7\n",
      "1=>3=>5=>6=>7\n",
      "1=>3=>5=>7\n"
     ]
    }
   ],
   "source": [
    "result = (odd_even(l))"
   ]
  },
  {
   "cell_type": "code",
   "execution_count": 92,
   "metadata": {},
   "outputs": [
    {
     "name": "stdout",
     "output_type": "stream",
     "text": [
      "1=>3=>5=>7=>2=>4=>6\n"
     ]
    }
   ],
   "source": [
    "print (result)"
   ]
  }
 ],
 "metadata": {
  "kernelspec": {
   "display_name": "Python 3",
   "language": "python",
   "name": "python3"
  },
  "language_info": {
   "codemirror_mode": {
    "name": "ipython",
    "version": 3
   },
   "file_extension": ".py",
   "mimetype": "text/x-python",
   "name": "python",
   "nbconvert_exporter": "python",
   "pygments_lexer": "ipython3",
   "version": "3.6.0"
  }
 },
 "nbformat": 4,
 "nbformat_minor": 2
}
