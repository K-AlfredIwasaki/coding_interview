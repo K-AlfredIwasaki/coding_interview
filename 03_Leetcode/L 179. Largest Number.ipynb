{
 "cells": [
  {
   "cell_type": "markdown",
   "metadata": {},
   "source": [
    "https://discuss.leetcode.com/topic/7722/python-simple-solution-in-4-lines/5\n",
    "\n",
    "https://discuss.leetcode.com/topic/22175/python-different-solutions-bubble-insertion-selection-merge-quick-sorts"
   ]
  },
  {
   "cell_type": "code",
   "execution_count": 11,
   "metadata": {
    "collapsed": true
   },
   "outputs": [],
   "source": [
    "# quick sort, in-place\n",
    "class Solution():\n",
    "    def compare(self, n1, n2):\n",
    "        return str(n1) + str(n2) > str(n2) + str(n1)\n",
    "    \n",
    "    def largestNumber(self, nums):\n",
    "        self.quickSort(nums, 0, len(nums)-1)\n",
    "        return str(int(\"\".join(map(str, nums)))) \n",
    "\n",
    "    def quickSort(self, nums, l, r):\n",
    "        if l >= r:\n",
    "            return \n",
    "        pos = self.partition(nums, l, r)\n",
    "        self.quickSort(nums, l, pos-1)\n",
    "        self.quickSort(nums, pos+1, r)\n",
    "\n",
    "    def partition(self, nums, l, r):\n",
    "        low = l\n",
    "        while l < r:\n",
    "            if self.compare(nums[l], nums[r]):\n",
    "                nums[l], nums[low] = nums[low], nums[l]\n",
    "                low += 1\n",
    "            l += 1\n",
    "        nums[low], nums[r] = nums[r], nums[low]\n",
    "        print(nums)\n",
    "        return low"
   ]
  },
  {
   "cell_type": "code",
   "execution_count": 22,
   "metadata": {
    "scrolled": true
   },
   "outputs": [
    {
     "name": "stdout",
     "output_type": "stream",
     "text": [
      "[91, 52, 7, 34, 22, 11, 2, 11]\n",
      "[91, 52, 7, 34, 22, 11, 2, 11]\n",
      "[91, 7, 52, 34, 22, 11, 2, 11]\n",
      "[91, 7, 52, 34, 22, 2, 11, 11]\n"
     ]
    },
    {
     "data": {
      "text/plain": [
       "'91752342221111'"
      ]
     },
     "execution_count": 22,
     "metadata": {},
     "output_type": "execute_result"
    }
   ],
   "source": [
    "s  = Solution()\n",
    "s.largestNumber([91, 11, 52, 7, 34, 11, 2, 22])"
   ]
  },
  {
   "cell_type": "code",
   "execution_count": 23,
   "metadata": {},
   "outputs": [
    {
     "name": "stdout",
     "output_type": "stream",
     "text": [
      "[91, 52, 7, 34, 11, 11, 2, 22]\n"
     ]
    },
    {
     "data": {
      "text/plain": [
       "3"
      ]
     },
     "execution_count": 23,
     "metadata": {},
     "output_type": "execute_result"
    }
   ],
   "source": [
    "s.partition([91, 11, 52, 7, 34, 11, 2, 22], 0, 4)"
   ]
  },
  {
   "cell_type": "code",
   "execution_count": null,
   "metadata": {
    "collapsed": true
   },
   "outputs": [],
   "source": []
  }
 ],
 "metadata": {
  "kernelspec": {
   "display_name": "Python 3",
   "language": "python",
   "name": "python3"
  },
  "language_info": {
   "codemirror_mode": {
    "name": "ipython",
    "version": 3
   },
   "file_extension": ".py",
   "mimetype": "text/x-python",
   "name": "python",
   "nbconvert_exporter": "python",
   "pygments_lexer": "ipython3",
   "version": "3.6.0"
  }
 },
 "nbformat": 4,
 "nbformat_minor": 2
}
