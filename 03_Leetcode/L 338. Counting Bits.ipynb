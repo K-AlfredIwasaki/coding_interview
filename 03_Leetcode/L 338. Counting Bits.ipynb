{
 "cells": [
  {
   "cell_type": "code",
   "execution_count": 21,
   "metadata": {
    "collapsed": true
   },
   "outputs": [],
   "source": [
    "class Solution(object):\n",
    "    def addOneBit(self, bits, j = 0):\n",
    "        if bits[j] == 0:\n",
    "                bits[j] = 1\n",
    "                return bits\n",
    "\n",
    "        bits[j] = 0\n",
    "        self.addOneBit(bits, j+1)\n",
    "\n",
    "        return bits\n",
    "\n",
    "    def countBits(self, num):\n",
    "        \"\"\"\n",
    "        :type num: int\n",
    "        :rtype: List[int]\n",
    "        \"\"\"\n",
    "        # 32 bits\n",
    "        bits = [0 for i in range(32)]\n",
    "        result = [0]\n",
    "        for i in range(1, num+1):\n",
    "            \n",
    "            # caclulate bits for i\n",
    "            # by incrementing bits\n",
    "            bits = self.addOneBit(bits)\n",
    "            result.append(sum(bits))\n",
    "        \n",
    "        return result"
   ]
  },
  {
   "cell_type": "code",
   "execution_count": 19,
   "metadata": {
    "collapsed": true
   },
   "outputs": [],
   "source": [
    "s = Solution()"
   ]
  },
  {
   "cell_type": "code",
   "execution_count": 20,
   "metadata": {},
   "outputs": [
    {
     "data": {
      "text/plain": [
       "[0, 1, 1, 2, 1, 2]"
      ]
     },
     "execution_count": 20,
     "metadata": {},
     "output_type": "execute_result"
    }
   ],
   "source": [
    "s.countBits(5)"
   ]
  }
 ],
 "metadata": {
  "kernelspec": {
   "display_name": "Python 3",
   "language": "python",
   "name": "python3"
  },
  "language_info": {
   "codemirror_mode": {
    "name": "ipython",
    "version": 3
   },
   "file_extension": ".py",
   "mimetype": "text/x-python",
   "name": "python",
   "nbconvert_exporter": "python",
   "pygments_lexer": "ipython3",
   "version": "3.6.0"
  }
 },
 "nbformat": 4,
 "nbformat_minor": 2
}
