{
 "cells": [
  {
   "cell_type": "markdown",
   "metadata": {},
   "source": [
    "# Problem\n",
    "\n",
    "Given head pointer of a linked list, sort it in ascending order using insertion sort."
   ]
  },
  {
   "cell_type": "code",
   "execution_count": 2,
   "metadata": {
    "scrolled": true
   },
   "outputs": [
    {
     "name": "stdout",
     "output_type": "stream",
     "text": [
      "12=>10=>11=>2=>4=>22=>45=>128\n"
     ]
    }
   ],
   "source": [
    "from data_structure.linkedlist_simple import *\n",
    "\n",
    "l = LinkedList(12)\n",
    "l.next = LinkedList(10)\n",
    "l.next.next = LinkedList(11)\n",
    "l.next.next.next = LinkedList(2)\n",
    "l.next.next.next.next = LinkedList(4)\n",
    "l.next.next.next.next.next = LinkedList(22)\n",
    "l.next.next.next.next.next.next = LinkedList(45)\n",
    "l.next.next.next.next.next.next.next = LinkedList(128)\n",
    "\n",
    "print (l)"
   ]
  },
  {
   "cell_type": "code",
   "execution_count": 17,
   "metadata": {
    "collapsed": true
   },
   "outputs": [],
   "source": [
    "def insertion_sort(head):\n",
    "    current = head\n",
    "    new_head = None\n",
    "    \n",
    "    while current != None:\n",
    "        temp = current.next\n",
    "        \n",
    "        # first item\n",
    "        if new_head == None:\n",
    "            current.next = None\n",
    "            new_head = current\n",
    "            \n",
    "        # following items\n",
    "        else:\n",
    "            # need to find where to insert\n",
    "            p = new_head\n",
    "            \n",
    "            # case1 insert before the new_head\n",
    "            if p.content > current.content:\n",
    "                current.next = p\n",
    "                new_head = current\n",
    "            \n",
    "            # case2 otherwise\n",
    "            else:\n",
    "                \n",
    "                while p.next != None and current.content > p.next.content:\n",
    "                    p = p.next\n",
    "\n",
    "                current.next = p.next\n",
    "                p.next = current        \n",
    "\n",
    "        current = temp\n",
    "    \n",
    "    return new_head\n",
    "        "
   ]
  },
  {
   "cell_type": "code",
   "execution_count": 18,
   "metadata": {},
   "outputs": [
    {
     "name": "stdout",
     "output_type": "stream",
     "text": [
      "2=>4=>10=>11=>12=>22=>45=>128\n"
     ]
    }
   ],
   "source": [
    "print (insertion_sort(l))"
   ]
  },
  {
   "cell_type": "code",
   "execution_count": 1,
   "metadata": {
    "collapsed": true
   },
   "outputs": [],
   "source": [
    "def insertion_sort(head):\n",
    "    \n",
    "    result = None\n",
    "    \n",
    "    # use four pointers: head and temp for the original linked list\n",
    "    # current and previous for the result linked list\n",
    "    \n",
    "    while head != None:\n",
    "        \n",
    "        temp = head.next\n",
    "        current = result\n",
    "        previous = None\n",
    "        \n",
    "        if not result:\n",
    "            head.next = None\n",
    "            result = head\n",
    "        \n",
    "        else:\n",
    "            # find where to insert in the result (linked list)\n",
    "            while current != None and head.content > current.content:\n",
    "                previous = current\n",
    "                current = current.next\n",
    "                \n",
    "            # add it to the tail\n",
    "            if current == None:\n",
    "                \n",
    "                previous.next = head\n",
    "                head.next = None\n",
    "                # no update to result pointer\n",
    "                \n",
    "            # add it to the head\n",
    "            elif current == result:\n",
    "                \n",
    "                head.next = current\n",
    "                result = head\n",
    "                \n",
    "            # insert it in the middle\n",
    "            else:\n",
    "                \n",
    "                previous.next = head\n",
    "                head.next = current\n",
    "        \n",
    "        \n",
    "        head = temp\n",
    "        \n",
    "    return result"
   ]
  },
  {
   "cell_type": "code",
   "execution_count": 3,
   "metadata": {},
   "outputs": [
    {
     "name": "stdout",
     "output_type": "stream",
     "text": [
      "2=>4=>10=>11=>12=>22=>45=>128\n"
     ]
    }
   ],
   "source": [
    "print (insertion_sort(l))"
   ]
  }
 ],
 "metadata": {
  "kernelspec": {
   "display_name": "Python 3",
   "language": "python",
   "name": "python3"
  },
  "language_info": {
   "codemirror_mode": {
    "name": "ipython",
    "version": 3
   },
   "file_extension": ".py",
   "mimetype": "text/x-python",
   "name": "python",
   "nbconvert_exporter": "python",
   "pygments_lexer": "ipython3",
   "version": "3.6.0"
  }
 },
 "nbformat": 4,
 "nbformat_minor": 2
}
