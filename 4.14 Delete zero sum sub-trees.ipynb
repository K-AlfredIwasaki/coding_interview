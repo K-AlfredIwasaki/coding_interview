{
 "cells": [
  {
   "cell_type": "code",
   "execution_count": 18,
   "metadata": {},
   "outputs": [
    {
     "name": "stdout",
     "output_type": "stream",
     "text": [
      "(7 ( (7 ( (3 ( (-2 ( None | None)) | (-1 ( None | None)))) | None)) | (3 ( (1 ( (10 ( (-5 ( None | None)) | None)) | (-1 ( None | None)))) | (-3 ( None | None))))))\n"
     ]
    }
   ],
   "source": [
    "from data_structure.binary_tree import *\n",
    "\n",
    "b = BinaryTree(7)\n",
    "b.left = BinaryTree(7)\n",
    "b.left.left = BinaryTree(3)\n",
    "b.left.left.left = BinaryTree(-2)\n",
    "b.left.left.right = BinaryTree(-1)\n",
    "\n",
    "b.right = BinaryTree(3)\n",
    "b.right.right = BinaryTree(-3)\n",
    "b.right.left = BinaryTree(1)\n",
    "b.right.left.right = BinaryTree(-1)\n",
    "b.right.left.left = BinaryTree(10)\n",
    "b.right.left.left.left = BinaryTree(-5)\n",
    "\n",
    "\n",
    "print (b)"
   ]
  },
  {
   "cell_type": "code",
   "execution_count": 15,
   "metadata": {
    "collapsed": true
   },
   "outputs": [],
   "source": [
    "def trim(btree):\n",
    "    # base case\n",
    "    if btree == None:\n",
    "        return 0\n",
    "    \n",
    "    left = trim(btree.left)\n",
    "    if left == 0:\n",
    "        btree.left = None\n",
    "    right = trim(btree.right)\n",
    "    if right == 0:\n",
    "        btree.right = None\n",
    "        \n",
    "    sum = left + right + btree.content\n",
    "    \n",
    "    return sum\n",
    "    "
   ]
  },
  {
   "cell_type": "code",
   "execution_count": 19,
   "metadata": {},
   "outputs": [
    {
     "name": "stdout",
     "output_type": "stream",
     "text": [
      "(7 ( (7 ( None | None)) | (3 ( (1 ( (10 ( (-5 ( None | None)) | None)) | (-1 ( None | None)))) | (-3 ( None | None))))))\n"
     ]
    }
   ],
   "source": [
    "def trim_return_btree(btree):\n",
    "    if btree != None:\n",
    "        tree_sum = trim(btree)\n",
    "        return btree\n",
    "\n",
    "print (trim_return_btree(b))"
   ]
  }
 ],
 "metadata": {
  "kernelspec": {
   "display_name": "Python 3",
   "language": "python",
   "name": "python3"
  },
  "language_info": {
   "codemirror_mode": {
    "name": "ipython",
    "version": 3
   },
   "file_extension": ".py",
   "mimetype": "text/x-python",
   "name": "python",
   "nbconvert_exporter": "python",
   "pygments_lexer": "ipython3",
   "version": "3.6.0"
  }
 },
 "nbformat": 4,
 "nbformat_minor": 2
}
