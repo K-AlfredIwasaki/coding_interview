{
 "cells": [
  {
   "cell_type": "code",
   "execution_count": 234,
   "metadata": {
    "collapsed": true
   },
   "outputs": [],
   "source": [
    "class Node:\n",
    "    def __init__(self, d):\n",
    "        self.data = d\n",
    "        self.neighbors = [] ## store vertex not self.data"
   ]
  },
  {
   "cell_type": "code",
   "execution_count": 236,
   "metadata": {
    "collapsed": true
   },
   "outputs": [],
   "source": [
    "a = Node(\"a\")\n",
    "b = Node(\"b\")\n",
    "c = Node(\"c\")\n",
    "d = Node(\"d\")\n",
    "e = Node(\"e\")\n",
    "f = Node(\"f\")"
   ]
  },
  {
   "cell_type": "code",
   "execution_count": 242,
   "metadata": {
    "collapsed": true
   },
   "outputs": [],
   "source": [
    "a.neighbors = [b, e, f]\n",
    "b.neighbors = [a, c, e]\n",
    "# c.neighbors = None\n",
    "d.neighbors = [c, e]\n",
    "e.neighbors = [b]\n",
    "# f.neighbors = None"
   ]
  },
  {
   "cell_type": "code",
   "execution_count": 243,
   "metadata": {},
   "outputs": [
    {
     "name": "stdout",
     "output_type": "stream",
     "text": [
      "[<__main__.Node object at 0x00000250FECA7048>, <__main__.Node object at 0x00000250FECDC898>, <__main__.Node object at 0x00000250FECDC668>]\n",
      "[<__main__.Node object at 0x00000250FECDC9E8>, <__main__.Node object at 0x00000250FECDC940>, <__main__.Node object at 0x00000250FECDC898>]\n",
      "[]\n",
      "[<__main__.Node object at 0x00000250FECDC940>, <__main__.Node object at 0x00000250FECDC898>]\n",
      "[<__main__.Node object at 0x00000250FECA7048>]\n",
      "[]\n"
     ]
    }
   ],
   "source": [
    "for vertex in [a, b, c, d, e, f]:\n",
    "    print (vertex.neighbors)"
   ]
  },
  {
   "cell_type": "code",
   "execution_count": 244,
   "metadata": {
    "collapsed": true
   },
   "outputs": [],
   "source": [
    "def clone_rec(root, nodes_completed):\n",
    "    # base\n",
    "    if root == None:\n",
    "        return None\n",
    "    \n",
    "    current_node = Node(root.data)\n",
    "    nodes_completed[root] = current_node\n",
    "    \n",
    "    for p in root.neighbors:\n",
    "        if p not in nodes_completed.keys():\n",
    "            # recursion\n",
    "            result = clone_rec(p, nodes_completed)\n",
    "            current_node.neighbors.append(result)\n",
    "            \n",
    "        else:\n",
    "            current_node.neighbors.append(p)\n",
    "    \n",
    "    return current_node\n",
    "            \n",
    "def clone(root):\n",
    "    \n",
    "    nodes_completed = {}\n",
    "    \n",
    "    return clone_rec(root, nodes_completed)"
   ]
  },
  {
   "cell_type": "code",
   "execution_count": 245,
   "metadata": {},
   "outputs": [],
   "source": [
    "result = clone(a)"
   ]
  },
  {
   "cell_type": "code",
   "execution_count": 256,
   "metadata": {},
   "outputs": [
    {
     "name": "stdout",
     "output_type": "stream",
     "text": [
      "----- neighbors of b\n",
      "a\n",
      "c\n",
      "e\n",
      "----- neighbors of e\n",
      "b\n",
      "----- neighbors of f\n"
     ]
    }
   ],
   "source": [
    "for vertex in result.neighbors:\n",
    "    print (\"----- neighbors of {}\".format(vertex.data))\n",
    "    for n in vertex.neighbors:\n",
    "        print(n.data)\n"
   ]
  }
 ],
 "metadata": {
  "kernelspec": {
   "display_name": "Python 3",
   "language": "python",
   "name": "python3"
  },
  "language_info": {
   "codemirror_mode": {
    "name": "ipython",
    "version": 3
   },
   "file_extension": ".py",
   "mimetype": "text/x-python",
   "name": "python",
   "nbconvert_exporter": "python",
   "pygments_lexer": "ipython3",
   "version": "3.6.0"
  }
 },
 "nbformat": 4,
 "nbformat_minor": 2
}
