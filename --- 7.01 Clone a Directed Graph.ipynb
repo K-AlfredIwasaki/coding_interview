{
 "cells": [
  {
   "cell_type": "code",
   "execution_count": 234,
   "metadata": {
    "collapsed": true
   },
   "outputs": [],
   "source": [
    "class Node:\n",
    "    def __init__(self, d):\n",
    "        self.data = d\n",
    "        self.neighbors = [] ## store vertex not self.data"
   ]
  },
  {
   "cell_type": "code",
   "execution_count": 236,
   "metadata": {
    "collapsed": true
   },
   "outputs": [],
   "source": [
    "a = Node(\"a\")\n",
    "b = Node(\"b\")\n",
    "c = Node(\"c\")\n",
    "d = Node(\"d\")\n",
    "e = Node(\"e\")\n",
    "f = Node(\"f\")"
   ]
  },
  {
   "cell_type": "code",
   "execution_count": 242,
   "metadata": {
    "collapsed": true
   },
   "outputs": [],
   "source": [
    "a.neighbors = [b, e, f]\n",
    "b.neighbors = [a, c, e]\n",
    "# c.neighbors = None\n",
    "d.neighbors = [c, e]\n",
    "e.neighbors = [b]\n",
    "# f.neighbors = None"
   ]
  },
  {
   "cell_type": "code",
   "execution_count": 243,
   "metadata": {
    "scrolled": true
   },
   "outputs": [
    {
     "name": "stdout",
     "output_type": "stream",
     "text": [
      "[<__main__.Node object at 0x00000250FECA7048>, <__main__.Node object at 0x00000250FECDC898>, <__main__.Node object at 0x00000250FECDC668>]\n",
      "[<__main__.Node object at 0x00000250FECDC9E8>, <__main__.Node object at 0x00000250FECDC940>, <__main__.Node object at 0x00000250FECDC898>]\n",
      "[]\n",
      "[<__main__.Node object at 0x00000250FECDC940>, <__main__.Node object at 0x00000250FECDC898>]\n",
      "[<__main__.Node object at 0x00000250FECA7048>]\n",
      "[]\n"
     ]
    }
   ],
   "source": [
    "for vertex in [a, b, c, d, e, f]:\n",
    "    print (vertex.neighbors)"
   ]
  },
  {
   "cell_type": "code",
   "execution_count": 244,
   "metadata": {
    "collapsed": true
   },
   "outputs": [],
   "source": [
    "def clone_rec(root, nodes_completed):\n",
    "    # base\n",
    "    if root == None:\n",
    "        return None\n",
    "    \n",
    "    current_node = Node(root.data)\n",
    "    nodes_completed[root] = current_node\n",
    "    \n",
    "    for p in root.neighbors:\n",
    "        if p not in nodes_completed:\n",
    "            # recursion\n",
    "            result = clone_rec(p, nodes_completed)\n",
    "            current_node.neighbors.append(result)\n",
    "            \n",
    "        else:\n",
    "            current_node.neighbors.append(p)\n",
    "    \n",
    "    return current_node\n",
    "            \n",
    "def clone(root):\n",
    "    \n",
    "    nodes_completed = {}\n",
    "    \n",
    "    return clone_rec(root, nodes_completed)"
   ]
  },
  {
   "cell_type": "code",
   "execution_count": 245,
   "metadata": {
    "collapsed": true
   },
   "outputs": [],
   "source": [
    "result = clone(a)"
   ]
  },
  {
   "cell_type": "code",
   "execution_count": 256,
   "metadata": {},
   "outputs": [
    {
     "name": "stdout",
     "output_type": "stream",
     "text": [
      "----- neighbors of b\n",
      "a\n",
      "c\n",
      "e\n",
      "----- neighbors of e\n",
      "b\n",
      "----- neighbors of f\n"
     ]
    }
   ],
   "source": [
    "for vertex in result.neighbors:\n",
    "    print (\"----- neighbors of {}\".format(vertex.data))\n",
    "    for n in vertex.neighbors:\n",
    "        print(n.data)\n"
   ]
  },
  {
   "cell_type": "code",
   "execution_count": 1,
   "metadata": {
    "collapsed": true
   },
   "outputs": [],
   "source": [
    "from collections import deque\n",
    "def clone_bfs(root):\n",
    "    \n",
    "    new_root = DirectedGraph(root.content)\n",
    "    q = deque()\n",
    "    q.append(root)\n",
    "    \n",
    "    # two trackers\n",
    "    generated = {root: new_root}\n",
    "    visited = {}\n",
    "    \n",
    "    while q:\n",
    "        # dequeue to update current node\n",
    "        current = q.popleft()\n",
    "        \n",
    "        # update the visited tracker\n",
    "        visited[current] = True\n",
    "        \n",
    "        if current not in generated:\n",
    "            copied_node = DirectedGraph(current.content)\n",
    "            match[current] = copied_node\n",
    "            \n",
    "        for n in current.neighbours:\n",
    "            # same to normal BFS\n",
    "            if n not in visited:\n",
    "                q.append(n)\n",
    "                \n",
    "            # check if a node is copied\n",
    "            if n not in generated:\n",
    "                copied_node = DirectedGraph(n.content)\n",
    "                generated[n] = copied_node\n",
    "            \n",
    "            # check if a copied node is in neighbours\n",
    "            if generated[n] not in generated[current].neighbours:\n",
    "                generated[current].neighbours.append(generated[n])\n",
    "                \n",
    "                \n",
    "    return new_root  "
   ]
  }
 ],
 "metadata": {
  "kernelspec": {
   "display_name": "Python 3",
   "language": "python",
   "name": "python3"
  },
  "language_info": {
   "codemirror_mode": {
    "name": "ipython",
    "version": 3
   },
   "file_extension": ".py",
   "mimetype": "text/x-python",
   "name": "python",
   "nbconvert_exporter": "python",
   "pygments_lexer": "ipython3",
   "version": "3.6.0"
  }
 },
 "nbformat": 4,
 "nbformat_minor": 2
}
