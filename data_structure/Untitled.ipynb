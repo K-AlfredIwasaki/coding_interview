{
 "cells": [
  {
   "cell_type": "code",
   "execution_count": 54,
   "metadata": {},
   "outputs": [
    {
     "data": {
      "text/plain": [
       "True"
      ]
     },
     "execution_count": 54,
     "metadata": {},
     "output_type": "execute_result"
    }
   ],
   "source": [
    "\"a\" in {\"a\": True, \"b\": False}"
   ]
  },
  {
   "cell_type": "code",
   "execution_count": 55,
   "metadata": {},
   "outputs": [],
   "source": [
    "import sys\n",
    "import heapq\n",
    "class Vertex():\n",
    "    \n",
    "    def __init__(self, node):\n",
    "        self.id = node\n",
    "        self.adjacent = {} # neighbor(vertex) : edge\n",
    "        self.distance = sys.maxsize\n",
    "        self.visited = False\n",
    "        self.previous = None\n",
    "        \n",
    "    def add_adjacent(self, vertex, edge):\n",
    "        self.adjacent[vertex] = edge\n",
    "        \n",
    "    def get_edge(self, vertex):\n",
    "        return self.adjacent[vertex]\n",
    "    \n",
    "    def __str__(self): # self.id + adacents\n",
    "        adjacent = [vertex.id for vertex in self.adjacent]\n",
    "        return (\"id is {} and neighbors are {}\".format(self.id, \",\".join(adjacent)))\n",
    "    \n",
    "    def __lt__(self, other):\n",
    "        return self.distance < other.distance\n",
    "        \n",
    "class Graph():\n",
    "    \n",
    "    def __init__(self):\n",
    "        self.vert_dict = {} # id : vertex\n",
    "        \n",
    "    def __iter__(self):\n",
    "        return iter(self.vert_dict.values())\n",
    "        \n",
    "        \n",
    "    def add_vertex(self, node):\n",
    "        self.vert_dict[node] = Vertex(node)\n",
    "        \n",
    "    def add_edge(self, frm, to, edge): # frm and to are node not vertex\n",
    "        # check if there is frm and to in self.vert_dict\n",
    "        if frm not in self.vert_dict:\n",
    "            self.add_vertex(frm)\n",
    "            \n",
    "        if to not in self.vert_dict:\n",
    "            self.add_vertex(to)\n",
    "            \n",
    "        # add edge\n",
    "        self.vert_dict[frm].add_adjacent(self.vert_dict[to], edge)\n",
    "        self.vert_dict[to].add_adjacent(self.vert_dict[frm], edge)"
   ]
  },
  {
   "cell_type": "code",
   "execution_count": 56,
   "metadata": {},
   "outputs": [
    {
     "data": {
      "text/plain": [
       "{'a': <__main__.Vertex at 0x15ea769e978>,\n",
       " 'b': <__main__.Vertex at 0x15ea769e208>,\n",
       " 'c': <__main__.Vertex at 0x15ea769e9b0>,\n",
       " 'd': <__main__.Vertex at 0x15ea769e908>,\n",
       " 'e': <__main__.Vertex at 0x15ea769e780>,\n",
       " 'f': <__main__.Vertex at 0x15ea769e7f0>,\n",
       " 'g': <__main__.Vertex at 0x15ea769e358>}"
      ]
     },
     "execution_count": 56,
     "metadata": {},
     "output_type": "execute_result"
    }
   ],
   "source": [
    "g = Graph()\n",
    "g.add_vertex('a')\n",
    "g.add_vertex('b')\n",
    "g.add_vertex('c')\n",
    "g.add_vertex('d')\n",
    "g.add_vertex('e')\n",
    "g.add_vertex('f')\n",
    "g.add_vertex('g')\n",
    "\n",
    "g.vert_dict"
   ]
  },
  {
   "cell_type": "code",
   "execution_count": 57,
   "metadata": {},
   "outputs": [],
   "source": [
    "g.add_edge(\"a\", \"b\", 2)\n",
    "g.add_edge(\"a\", \"c\", 1)\n",
    "g.add_edge(\"a\", \"d\", 2)\n",
    "g.add_edge(\"c\", \"b\", 1)\n",
    "g.add_edge(\"c\", \"e\", 2)\n",
    "g.add_edge(\"d\", \"g\", 2)\n",
    "g.add_edge(\"d\", \"b\", 3)\n",
    "g.add_edge(\"e\", \"f\", 1)\n",
    "g.add_edge(\"e\", \"g\", 2)"
   ]
  },
  {
   "cell_type": "code",
   "execution_count": 58,
   "metadata": {
    "scrolled": true
   },
   "outputs": [
    {
     "name": "stdout",
     "output_type": "stream",
     "text": [
      "id is a and neighbors are b,c,d\n",
      "id is b and neighbors are a,c,d\n",
      "id is c and neighbors are a,b,e\n",
      "id is d and neighbors are a,g,b\n",
      "id is e and neighbors are c,f,g\n",
      "id is f and neighbors are e\n",
      "id is g and neighbors are d,e\n"
     ]
    }
   ],
   "source": [
    "for v in g.vert_dict.values():\n",
    "    print (v)"
   ]
  },
  {
   "cell_type": "code",
   "execution_count": 59,
   "metadata": {
    "collapsed": true
   },
   "outputs": [],
   "source": [
    "def mst(aGraph, starting_vertex):\n",
    "    # init\n",
    "    starting_vertex.distance = 0\n",
    "    \n",
    "    # create heap\n",
    "    unvisited_queue = [(v.distance, v) for v in aGraph]\n",
    "    heapq.heapify(unvisited_queue)\n",
    "    \n",
    "    while len(unvisited_queue) > 0:\n",
    "        # pop item from the heap\n",
    "        uv = heapq.heappop(unvisited_queue)\n",
    "        current = uv[1]\n",
    "        current.visited = True\n",
    "        \n",
    "        # update distance of neighbors\n",
    "        for n in current.adjacent:\n",
    "            new_distance = current.get_edge(n) + current.distance\n",
    "            \n",
    "            if new_distance < n.distance:\n",
    "                n.distance = new_distance\n",
    "                n.previous = current\n",
    "                print (\"update: current = {}, next = {}, new_dist = {}\".format(\n",
    "                current.id, n.id, new_distance))\n",
    "    \n",
    "        # rebuild heap\n",
    "        unvisited_queue = [(v.distance, v) for v in aGraph if v.visited == False]\n",
    "        heapq.heapify(unvisited_queue)"
   ]
  },
  {
   "cell_type": "code",
   "execution_count": 60,
   "metadata": {
    "scrolled": false
   },
   "outputs": [
    {
     "name": "stdout",
     "output_type": "stream",
     "text": [
      "update: current = a, next = b, new_dist = 2\n",
      "update: current = a, next = c, new_dist = 1\n",
      "update: current = a, next = d, new_dist = 2\n",
      "update: current = c, next = e, new_dist = 3\n",
      "update: current = d, next = g, new_dist = 4\n",
      "update: current = e, next = f, new_dist = 4\n"
     ]
    }
   ],
   "source": [
    "mst(g, g.vert_dict[\"a\"])"
   ]
  },
  {
   "cell_type": "code",
   "execution_count": 61,
   "metadata": {
    "collapsed": true
   },
   "outputs": [],
   "source": [
    "def shortest(v, path):\n",
    "    if v.previous:\n",
    "        path.append(v.previous.id)\n",
    "        shortest(v.previous, path)\n",
    "    return"
   ]
  },
  {
   "cell_type": "code",
   "execution_count": 64,
   "metadata": {},
   "outputs": [
    {
     "name": "stdout",
     "output_type": "stream",
     "text": [
      "None\n"
     ]
    },
    {
     "data": {
      "text/plain": [
       "['f', 'e', 'c', 'a']"
      ]
     },
     "execution_count": 64,
     "metadata": {},
     "output_type": "execute_result"
    }
   ],
   "source": [
    "target = g.vert_dict['f']\n",
    "path = ['f']\n",
    "print (shortest(target, path))\n",
    "path"
   ]
  },
  {
   "cell_type": "code",
   "execution_count": null,
   "metadata": {
    "collapsed": true
   },
   "outputs": [],
   "source": []
  }
 ],
 "metadata": {
  "kernelspec": {
   "display_name": "Python 3",
   "language": "python",
   "name": "python3"
  },
  "language_info": {
   "codemirror_mode": {
    "name": "ipython",
    "version": 3
   },
   "file_extension": ".py",
   "mimetype": "text/x-python",
   "name": "python",
   "nbconvert_exporter": "python",
   "pygments_lexer": "ipython3",
   "version": "3.6.0"
  }
 },
 "nbformat": 4,
 "nbformat_minor": 2
}
