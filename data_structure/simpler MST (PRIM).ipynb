{
 "cells": [
  {
   "cell_type": "code",
   "execution_count": 1,
   "metadata": {
    "collapsed": true
   },
   "outputs": [],
   "source": [
    "import sys\n",
    "from functools import total_ordering\n",
    "\n",
    "class Vertex():\n",
    "    \"\"\"\n",
    "    ---- simplest implementation\n",
    "    self.id\n",
    "    self.adjacent = dict {adjacent vertex: edge}\n",
    "    \n",
    "    --- methods\n",
    "    self.add_neighbor --- neighbor + edge(weight) \n",
    "    __str__ --- self.id + neighbors\n",
    "    \n",
    "    \"\"\"\n",
    "    def __init__(self, node):\n",
    "        self.id = node\n",
    "        self.adjacent = {}\n",
    "        self.distance = sys.maxsize\n",
    "        self.visited = False\n",
    "        self.previous = None\n",
    "    \n",
    "    def add_neighbor(self, neighbor, weight=0):\n",
    "        self.adjacent[neighbor] = weight\n",
    "        \n",
    "    def get_edge_value(self, neighbor):\n",
    "        return self.adjacent[neighbor]\n",
    "        \n",
    "    def __str__(self):\n",
    "        neighbor = []\n",
    "        for vertex in self.adjacent:\n",
    "            neighbor.append(vertex.id)\n",
    "        neighbor = \" \".join(neighbor)\n",
    "        \n",
    "        return (\"id is {} neighbors are {}\".format(self.id, neighbor))\n",
    "    \n",
    "    def __lt__(self, other):  # we need to this to compare vertex and vertex\n",
    "        return self.distance < other.distance\n",
    "    \n",
    "class Graph():\n",
    "    \"\"\"\n",
    "    --- simplest implementation\n",
    "    self.vert_dict = dict {self.id : vertex}\n",
    "    \n",
    "    --- methods\n",
    "    add_vertex ---- supply just id\n",
    "    add_edge ---- two ids and weight for edge\n",
    "    \n",
    "    \"\"\"\n",
    "    \n",
    "    def __init__(self):\n",
    "        self.vert_dict = {}\n",
    "        \n",
    "    def __iter__(self): #### Make a Graph iterative\n",
    "        return iter(self.vert_dict.values())\n",
    "        \n",
    "    def add_vertex(self, node):\n",
    "        self.vert_dict[node] = Vertex(node)\n",
    "        \n",
    "    def add_edge(self, frm, to, cost = 0):\n",
    "        # check if there is frm and to in self.vert_dict\n",
    "        if frm not in self.vert_dict:\n",
    "            self.vert_dict[frm] = Vertex(frm)\n",
    "            \n",
    "        if to not in self.vert_dict:\n",
    "            self.vert_dict[to] = Vertex(to)\n",
    "            \n",
    "        # add edge\n",
    "        self.vert_dict[frm].add_neighbor(self.vert_dict[to], cost)\n",
    "        self.vert_dict[to].add_neighbor(self.vert_dict[frm], cost)"
   ]
  },
  {
   "cell_type": "code",
   "execution_count": 2,
   "metadata": {
    "collapsed": true
   },
   "outputs": [],
   "source": [
    "g = Graph()\n",
    "\n",
    "g.add_vertex('a')\n",
    "g.add_vertex('b')\n",
    "g.add_vertex('c')\n",
    "g.add_vertex('d')\n",
    "g.add_vertex('e')\n",
    "g.add_vertex('f')\n",
    "\n",
    "g.add_edge('a', 'b', 7)  \n",
    "g.add_edge('a', 'c', 9)\n",
    "g.add_edge('a', 'f', 14)\n",
    "g.add_edge('b', 'c', 10)\n",
    "g.add_edge('b', 'd', 15)\n",
    "g.add_edge('c', 'd', 11)\n",
    "g.add_edge('c', 'f', 2)\n",
    "g.add_edge('d', 'e', 6)\n",
    "g.add_edge('e', 'f', 9)"
   ]
  },
  {
   "cell_type": "code",
   "execution_count": 3,
   "metadata": {
    "collapsed": true
   },
   "outputs": [],
   "source": [
    "import heapq\n",
    "\n",
    "def dijkstra(aGraph, start):\n",
    "    \"\"\"\n",
    "    - initialize, set-up staring node (vertex), build a priority queue\n",
    "    - while loop\n",
    "        - get a vertex with the smallest distance\n",
    "        - update distance\n",
    "        - rebuild heap => back\n",
    "    \n",
    "    \"\"\"\n",
    "    print (\"Dijkstra's shortest path\")\n",
    "    \n",
    "    # init\n",
    "    start.distance = 0\n",
    "    \n",
    "    # create a heap\n",
    "    unvisited_queue = [(v.distance, v) for v in aGraph]\n",
    "    heapq.heapify(unvisited_queue)\n",
    "    \n",
    "    while len(unvisited_queue) > 0:\n",
    "        # pop a vertex with the smallest distance\n",
    "        uv = heapq.heappop(unvisited_queue)\n",
    "        print (\"------------------------------------------------\")\n",
    "        current = uv[1] # vertex\n",
    "        current.visited = True\n",
    "        \n",
    "        # visit neighbors\n",
    "        for n in current.adjacent: # n is vertex\n",
    "            if n.visited:\n",
    "                continue\n",
    "                \n",
    "            # update distance\n",
    "            new_dist = current.distance + current.get_edge_value(n)\n",
    "            \n",
    "            if new_dist < n.distance:\n",
    "                n.distance = new_dist\n",
    "                n.previous = current\n",
    "                print (\"updated: current = {} next = {} new_dist = {}\".format(\n",
    "                current.id, n.id, n.distance))\n",
    "        \n",
    "        while len(unvisited_queue) > 0:\n",
    "            heapq.heappop(unvisited_queue)\n",
    "\n",
    "        unvisited_queue = [(v.distance, v) for v in aGraph if not v.visited]\n",
    "        heapq.heapify(unvisited_queue)"
   ]
  },
  {
   "cell_type": "code",
   "execution_count": 4,
   "metadata": {
    "collapsed": true
   },
   "outputs": [],
   "source": [
    "def shortest(v, path):\n",
    "    ''' make shortest path from v.previous'''\n",
    "    if v.previous:\n",
    "        path.append(v.previous.id)\n",
    "        shortest(v.previous, path)\n",
    "    return"
   ]
  },
  {
   "cell_type": "code",
   "execution_count": 5,
   "metadata": {
    "scrolled": false
   },
   "outputs": [
    {
     "name": "stdout",
     "output_type": "stream",
     "text": [
      "Dijkstra's shortest path\n",
      "------------------------------------------------\n",
      "updated: current = a next = b new_dist = 7\n",
      "updated: current = a next = c new_dist = 9\n",
      "updated: current = a next = f new_dist = 14\n",
      "------------------------------------------------\n",
      "updated: current = b next = d new_dist = 22\n",
      "------------------------------------------------\n",
      "updated: current = c next = d new_dist = 20\n",
      "updated: current = c next = f new_dist = 11\n",
      "------------------------------------------------\n",
      "updated: current = f next = e new_dist = 20\n",
      "------------------------------------------------\n",
      "------------------------------------------------\n"
     ]
    }
   ],
   "source": [
    "dijkstra(g, g.vert_dict['a']) "
   ]
  },
  {
   "cell_type": "code",
   "execution_count": 6,
   "metadata": {
    "scrolled": false
   },
   "outputs": [
    {
     "name": "stdout",
     "output_type": "stream",
     "text": [
      "id is a neighbors are b c f\n",
      "id is b neighbors are a c d\n",
      "id is c neighbors are a b d f\n",
      "id is d neighbors are b c e\n",
      "id is e neighbors are d f\n",
      "id is f neighbors are a c e\n"
     ]
    }
   ],
   "source": [
    "for i in g:\n",
    "    print (i)"
   ]
  },
  {
   "cell_type": "code",
   "execution_count": 7,
   "metadata": {},
   "outputs": [
    {
     "data": {
      "text/plain": [
       "{'a': <__main__.Vertex at 0x2a0c8ae5ac8>,\n",
       " 'b': <__main__.Vertex at 0x2a0c8ae5ba8>,\n",
       " 'c': <__main__.Vertex at 0x2a0c8ae5c18>,\n",
       " 'd': <__main__.Vertex at 0x2a0c8ae5c50>,\n",
       " 'e': <__main__.Vertex at 0x2a0c8ae5c88>,\n",
       " 'f': <__main__.Vertex at 0x2a0c8ae5cc0>}"
      ]
     },
     "execution_count": 7,
     "metadata": {},
     "output_type": "execute_result"
    }
   ],
   "source": [
    "g.vert_dict"
   ]
  },
  {
   "cell_type": "code",
   "execution_count": 8,
   "metadata": {
    "scrolled": true
   },
   "outputs": [
    {
     "name": "stdout",
     "output_type": "stream",
     "text": [
      "The shortest path for d : ['a', 'c', 'd']\n",
      "The shortest path for e : ['a', 'c', 'f', 'e']\n",
      "The shortest path for f : ['a', 'c', 'f']\n"
     ]
    }
   ],
   "source": [
    "for t in ['d','e','f']:\n",
    "    target = g.vert_dict[t]\n",
    "    path = [t]\n",
    "    shortest(target, path)\n",
    "    print ('The shortest path for %s : %s' %(t, path[::-1]))"
   ]
  }
 ],
 "metadata": {
  "kernelspec": {
   "display_name": "Python 3",
   "language": "python",
   "name": "python3"
  },
  "language_info": {
   "codemirror_mode": {
    "name": "ipython",
    "version": 3
   },
   "file_extension": ".py",
   "mimetype": "text/x-python",
   "name": "python",
   "nbconvert_exporter": "python",
   "pygments_lexer": "ipython3",
   "version": "3.6.0"
  }
 },
 "nbformat": 4,
 "nbformat_minor": 2
}
