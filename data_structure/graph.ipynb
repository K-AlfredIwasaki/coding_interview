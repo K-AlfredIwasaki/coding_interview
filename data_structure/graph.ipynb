{
 "cells": [
  {
   "cell_type": "code",
   "execution_count": 19,
   "metadata": {
    "collapsed": true
   },
   "outputs": [],
   "source": [
    "class Vertex():\n",
    "    \"\"\"\n",
    "    ---- simplest implementation\n",
    "    self.id\n",
    "    self.adjacent = dict {adjacent vertex: edge}\n",
    "    \n",
    "    --- additoinals\n",
    "    self.distance = distance from the starting point\n",
    "    self.visited = False\n",
    "    seff.previous - None\n",
    "    \n",
    "    --- methods\n",
    "    self.add_neighbor --- neighbor + edge(weight) \n",
    "    __str__ --- self.id + neighbors\n",
    "    \n",
    "    \"\"\"\n",
    "    def __init__(self, node):\n",
    "        self.id = node\n",
    "        self.adjacent = {}\n",
    "        \n",
    "    def add_neighbor(self, neighbor, weight = 0): ## neighbor is vertex\n",
    "        self.adjacent[neighbor] = weight\n",
    "        \n",
    "    def __str__(self):\n",
    "        return str(self.id) + ' adjacent: ' + str([x.id for x in self.adjacent])\n",
    "\n",
    "class Graph():\n",
    "    \"\"\"\n",
    "    --- simplest implementation\n",
    "    self.vert_dict = dict {self.id : vertex}\n",
    "    \n",
    "    --- additionals\n",
    "    self.num_vertices\n",
    "    \n",
    "    --- methods\n",
    "    add_vetex ---- supply just id\n",
    "    add_edge ---- two ids and weight for edge\n",
    "    \n",
    "    \n",
    "    \"\"\"\n",
    "    \n",
    "    def __init__(self):\n",
    "        self.vert_dict = {}\n",
    "    \n",
    "    def add_vertex(self, node):\n",
    "        new_vertex = Vertex(node)\n",
    "        self.vert_dict[node] = new_vertex\n",
    "        return new_vertex\n",
    "    \n",
    "    def add_edge(self, frm, to, cost = 0):\n",
    "        # add vertex if not\n",
    "        if frm not in self.vert_dict:\n",
    "            self.add_vertex(frm)\n",
    "        if to not in self.vert_dict:\n",
    "            sefl.add_vertex(to)\n",
    "            \n",
    "        # add edge in both directions (undirected)\n",
    "        self.vert_dict[frm].add_neighbor(self.vert_dict[to], cost) # add neighbor \"to\" to a base \"frm\" as \"cost\" = weight for edge\n",
    "        self.vert_dict[to].add_neighbor(self.vert_dict[frm], cost) # do same thing from the opposite side\n",
    "    "
   ]
  },
  {
   "cell_type": "code",
   "execution_count": 20,
   "metadata": {
    "collapsed": true
   },
   "outputs": [],
   "source": [
    "g = Graph()"
   ]
  },
  {
   "cell_type": "code",
   "execution_count": 21,
   "metadata": {},
   "outputs": [
    {
     "data": {
      "text/plain": [
       "<__main__.Vertex at 0x253f5bfb518>"
      ]
     },
     "execution_count": 21,
     "metadata": {},
     "output_type": "execute_result"
    }
   ],
   "source": [
    "g.add_vertex(\"a\")\n",
    "g.add_vertex(\"b\")\n",
    "g.add_vertex(\"c\")\n",
    "g.add_vertex(\"d\")\n",
    "g.add_vertex(\"e\")\n",
    "g.add_vertex(\"f\")\n",
    "g.add_vertex(\"g\")"
   ]
  },
  {
   "cell_type": "code",
   "execution_count": 22,
   "metadata": {},
   "outputs": [
    {
     "data": {
      "text/plain": [
       "{'a': <__main__.Vertex at 0x253f5bfbeb8>,\n",
       " 'b': <__main__.Vertex at 0x253f5bfbe80>,\n",
       " 'c': <__main__.Vertex at 0x253f5bfb5f8>,\n",
       " 'd': <__main__.Vertex at 0x253f5bfb4a8>,\n",
       " 'e': <__main__.Vertex at 0x253f5bfb400>,\n",
       " 'f': <__main__.Vertex at 0x253f5bfb438>,\n",
       " 'g': <__main__.Vertex at 0x253f5bfb518>}"
      ]
     },
     "execution_count": 22,
     "metadata": {},
     "output_type": "execute_result"
    }
   ],
   "source": [
    "g.vert_dict"
   ]
  },
  {
   "cell_type": "code",
   "execution_count": 23,
   "metadata": {},
   "outputs": [],
   "source": [
    "g.add_edge(\"a\", \"b\", 2)\n",
    "g.add_edge(\"a\", \"c\", 1)\n",
    "g.add_edge(\"a\", \"d\", 2)\n",
    "g.add_edge(\"b\", \"d\", 3)\n",
    "g.add_edge(\"c\", \"d\", 1)\n",
    "g.add_edge(\"d\", \"g\", 2)\n",
    "g.add_edge(\"c\", \"e\", 2)\n",
    "g.add_edge(\"e\", \"f\", 1)\n",
    "g.add_edge(\"e\", \"g\", 2)"
   ]
  },
  {
   "cell_type": "code",
   "execution_count": 24,
   "metadata": {},
   "outputs": [],
   "source": [
    "vertex_a = g.vert_dict[\"a\"]"
   ]
  },
  {
   "cell_type": "code",
   "execution_count": 25,
   "metadata": {},
   "outputs": [
    {
     "name": "stdout",
     "output_type": "stream",
     "text": [
      "a adjacent: ['b', 'c', 'd']\n"
     ]
    }
   ],
   "source": [
    "print (vertex_a)"
   ]
  },
  {
   "cell_type": "code",
   "execution_count": 34,
   "metadata": {
    "scrolled": true
   },
   "outputs": [
    {
     "name": "stdout",
     "output_type": "stream",
     "text": [
      "vertex a has a neghbor b which is connected by edge 2\n",
      "vertex a has a neghbor c which is connected by edge 1\n",
      "vertex a has a neghbor d which is connected by edge 2\n"
     ]
    }
   ],
   "source": [
    "# get edges to vertex a\n",
    "for vertex in vertex_a.adjacent:\n",
    "    print (\"vertex a has a neghbor {} which is connected by edge {}\".format(vertex.id,\n",
    "                                                                            vertex_a.adjacent[vertex]))"
   ]
  },
  {
   "cell_type": "code",
   "execution_count": null,
   "metadata": {
    "collapsed": true
   },
   "outputs": [],
   "source": []
  }
 ],
 "metadata": {
  "kernelspec": {
   "display_name": "Python 3",
   "language": "python",
   "name": "python3"
  },
  "language_info": {
   "codemirror_mode": {
    "name": "ipython",
    "version": 3
   },
   "file_extension": ".py",
   "mimetype": "text/x-python",
   "name": "python",
   "nbconvert_exporter": "python",
   "pygments_lexer": "ipython3",
   "version": "3.6.0"
  }
 },
 "nbformat": 4,
 "nbformat_minor": 2
}
