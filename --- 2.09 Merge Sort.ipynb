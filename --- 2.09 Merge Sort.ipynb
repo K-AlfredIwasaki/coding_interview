{
 "cells": [
  {
   "cell_type": "code",
   "execution_count": null,
   "metadata": {
    "collapsed": true
   },
   "outputs": [],
   "source": [
    "### double check merge function"
   ]
  },
  {
   "cell_type": "code",
   "execution_count": 114,
   "metadata": {
    "scrolled": false
   },
   "outputs": [
    {
     "name": "stdout",
     "output_type": "stream",
     "text": [
      "12=>10=>11=>2=>4=>22=>45=>128\n"
     ]
    }
   ],
   "source": [
    "from data_structure.linkedlist_simple import *\n",
    "\n",
    "l = LinkedList(12)\n",
    "l.next = LinkedList(10)\n",
    "l.next.next = LinkedList(11)\n",
    "l.next.next.next = LinkedList(2)\n",
    "l.next.next.next.next = LinkedList(4)\n",
    "l.next.next.next.next.next = LinkedList(22)\n",
    "l.next.next.next.next.next.next = LinkedList(45)\n",
    "l.next.next.next.next.next.next.next = LinkedList(128)\n",
    "\n",
    "print (l)"
   ]
  },
  {
   "cell_type": "code",
   "execution_count": 113,
   "metadata": {
    "scrolled": false
   },
   "outputs": [
    {
     "name": "stdout",
     "output_type": "stream",
     "text": [
      "merging 10 and 12\n",
      "merging complete: 10=>12\n",
      "10=>12\n"
     ]
    }
   ],
   "source": [
    "a = LinkedList(10)\n",
    "b = LinkedList(12)\n",
    "print ((merge(a, b)))"
   ]
  },
  {
   "cell_type": "code",
   "execution_count": 115,
   "metadata": {},
   "outputs": [],
   "source": [
    "def merge(a, b):\n",
    "    print (\"merging {} and {}\".format(a, b))\n",
    "    \n",
    "    if a == None:\n",
    "        return b\n",
    "    if b == None:\n",
    "        return a\n",
    "    \n",
    "    p1 = a\n",
    "    p2 = b\n",
    "    result = a\n",
    "    \n",
    "    # check first item\n",
    "    if p1.content > p2.content:\n",
    "        temp = p2.next\n",
    "        p2.next = p1\n",
    "        result = p2\n",
    "        p1 = p2\n",
    "        p2 = temp\n",
    "#     print(result)\n",
    "    \n",
    "    \n",
    "    while p1 != None and p2 != None:\n",
    "        \n",
    "        while p1.next != None and p1.next.content < p2.content:\n",
    "            print (p1.content, p2.content)\n",
    "            p1 = p1.next\n",
    "        \n",
    "        # insert p2\n",
    "        temp = p2.next\n",
    "        p2.next = p1.next\n",
    "        p1.next = p2\n",
    "        \n",
    "        p1 = p2\n",
    "        p2 = temp\n",
    "    print(\"merging complete: {}\".format(result))\n",
    "    \n",
    "    return result"
   ]
  },
  {
   "cell_type": "code",
   "execution_count": 116,
   "metadata": {},
   "outputs": [],
   "source": [
    "def split_in_half(head, first_second):\n",
    "    \n",
    "    if head == None:\n",
    "        return\n",
    "        \n",
    "    if head.next == None:\n",
    "        \n",
    "        first_second[0] = head\n",
    "        first_second[1] = None\n",
    "        \n",
    "    else:\n",
    "        slow = head\n",
    "        fast = head.next\n",
    "        \n",
    "        while fast != None:\n",
    "            \n",
    "            fast = fast.next\n",
    "            \n",
    "            if fast != None:\n",
    "                \n",
    "                fast = fast.next\n",
    "                slow = slow.next\n",
    "                \n",
    "        first_second[0] = head\n",
    "        print (\"first half is {}\".format(first_second[0]))\n",
    "        first_second[1] = slow.next\n",
    "        print (\"Second half is {}\".format(first_second[1]))\n",
    "        \n",
    "        slow.next = None"
   ]
  },
  {
   "cell_type": "code",
   "execution_count": 117,
   "metadata": {
    "collapsed": true
   },
   "outputs": [],
   "source": [
    "def merge_sort(head):\n",
    "    # base case\n",
    "    if head == None or head.next == None:\n",
    "        return head\n",
    "    \n",
    "    first_second = [None, None]\n",
    "    \n",
    "    # split at the half\n",
    "    split_in_half(head, first_second)\n",
    "    \n",
    "    first_second[0] = merge_sort(first_second[0])\n",
    "    first_second[1] = merge_sort(first_second[1])\n",
    "    \n",
    "    merged = merge(first_second[0], first_second[1])\n",
    "    print (\"\\n merged = {} \\n\".format(merged))\n",
    "    return merged\n",
    "    "
   ]
  },
  {
   "cell_type": "code",
   "execution_count": 118,
   "metadata": {
    "scrolled": false
   },
   "outputs": [
    {
     "name": "stdout",
     "output_type": "stream",
     "text": [
      "first half is 12=>10=>11=>2=>4=>22=>45=>128\n",
      "Second half is 4=>22=>45=>128\n",
      "first half is 12=>10=>11=>2\n",
      "Second half is 11=>2\n",
      "first half is 12=>10\n",
      "Second half is 10\n",
      "merging 12 and 10\n",
      "merging complete: 10=>12\n",
      "\n",
      " merged = 10=>12 \n",
      "\n",
      "first half is 11=>2\n",
      "Second half is 2\n",
      "merging 11 and 2\n",
      "merging complete: 2=>11\n",
      "\n",
      " merged = 2=>11 \n",
      "\n",
      "merging 10=>12 and 2=>11\n",
      "2 11\n",
      "merging complete: 2=>10=>11=>12\n",
      "\n",
      " merged = 2=>10=>11=>12 \n",
      "\n",
      "first half is 4=>22=>45=>128\n",
      "Second half is 45=>128\n",
      "first half is 4=>22\n",
      "Second half is 22\n",
      "merging 4 and 22\n",
      "merging complete: 4=>22\n",
      "\n",
      " merged = 4=>22 \n",
      "\n",
      "first half is 45=>128\n",
      "Second half is 128\n",
      "merging 45 and 128\n",
      "merging complete: 45=>128\n",
      "\n",
      " merged = 45=>128 \n",
      "\n",
      "merging 4=>22 and 45=>128\n",
      "4 45\n",
      "merging complete: 4=>22=>45=>128\n",
      "\n",
      " merged = 4=>22=>45=>128 \n",
      "\n",
      "merging 2=>10=>11=>12 and 4=>22=>45=>128\n",
      "4 22\n",
      "10 22\n",
      "11 22\n",
      "merging complete: 2=>4=>10=>11=>12=>22=>45=>128\n",
      "\n",
      " merged = 2=>4=>10=>11=>12=>22=>45=>128 \n",
      "\n",
      "2=>4=>10=>11=>12=>22=>45=>128\n"
     ]
    }
   ],
   "source": [
    "print (merge_sort(l))"
   ]
  }
 ],
 "metadata": {
  "kernelspec": {
   "display_name": "Python 3",
   "language": "python",
   "name": "python3"
  },
  "language_info": {
   "codemirror_mode": {
    "name": "ipython",
    "version": 3
   },
   "file_extension": ".py",
   "mimetype": "text/x-python",
   "name": "python",
   "nbconvert_exporter": "python",
   "pygments_lexer": "ipython3",
   "version": "3.6.0"
  }
 },
 "nbformat": 4,
 "nbformat_minor": 2
}
