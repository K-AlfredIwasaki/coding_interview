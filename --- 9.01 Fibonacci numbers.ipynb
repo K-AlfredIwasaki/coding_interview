{
 "cells": [
  {
   "cell_type": "markdown",
   "metadata": {},
   "source": [
    "# Problem\n",
    "\n",
    "Find the nth fibonacci number."
   ]
  },
  {
   "cell_type": "code",
   "execution_count": 3,
   "metadata": {
    "collapsed": true
   },
   "outputs": [],
   "source": [
    "### Solution 1\n",
    "\n",
    "def fibonacci(n):\n",
    "    # base\n",
    "    if n == 0:\n",
    "        return 1\n",
    "    elif n == 1:\n",
    "        return 1\n",
    "    \n",
    "    temp = fibonacci(n-1) + fibonacci(n-2)\n",
    "    \n",
    "    return temp"
   ]
  },
  {
   "cell_type": "code",
   "execution_count": 2,
   "metadata": {
    "scrolled": true
   },
   "outputs": [
    {
     "data": {
      "text/plain": [
       "89"
      ]
     },
     "execution_count": 2,
     "metadata": {},
     "output_type": "execute_result"
    }
   ],
   "source": [
    "fibonacci(10)"
   ]
  },
  {
   "cell_type": "code",
   "execution_count": 9,
   "metadata": {
    "collapsed": true
   },
   "outputs": [],
   "source": [
    "### Solution 2\n",
    "# we only need to track n - 1 and n -2\n",
    "\n",
    "def dynamic_fibonacci(n):\n",
    "    \n",
    "    # base case\n",
    "    if (n == 0 | n == 1): return n\n",
    "    \n",
    "    n_2 = 0\n",
    "    n_1 = 1\n",
    "    result = n_1 + n_2\n",
    "    \n",
    "    i = 2\n",
    "    while i <= n: ########## IMPORTANT\n",
    "        n_2 = n_1\n",
    "        n_1 = result\n",
    "        result = n_1 + n_2\n",
    "        \n",
    "        i += 1\n",
    "        \n",
    "    return result    \n",
    "    "
   ]
  },
  {
   "cell_type": "code",
   "execution_count": 7,
   "metadata": {},
   "outputs": [
    {
     "data": {
      "text/plain": [
       "89"
      ]
     },
     "execution_count": 7,
     "metadata": {},
     "output_type": "execute_result"
    }
   ],
   "source": [
    "dynamic_fibonacci(10)"
   ]
  }
 ],
 "metadata": {
  "kernelspec": {
   "display_name": "Python 3",
   "language": "python",
   "name": "python3"
  },
  "language_info": {
   "codemirror_mode": {
    "name": "ipython",
    "version": 3
   },
   "file_extension": ".py",
   "mimetype": "text/x-python",
   "name": "python",
   "nbconvert_exporter": "python",
   "pygments_lexer": "ipython3",
   "version": "3.6.0"
  }
 },
 "nbformat": 4,
 "nbformat_minor": 2
}
