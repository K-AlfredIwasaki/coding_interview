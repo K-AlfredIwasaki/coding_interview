{
 "cells": [
  {
   "cell_type": "markdown",
   "metadata": {},
   "source": [
    "http://www.bogotobogo.com/python/python_graph_data_structures.php"
   ]
  },
  {
   "cell_type": "code",
   "execution_count": 4,
   "metadata": {},
   "outputs": [],
   "source": [
    "class Vertex:\n",
    "    def __init__(self, node):\n",
    "        self.id = node\n",
    "        self.adjacent = {}\n",
    "\n",
    "    def __str__(self):\n",
    "        return str(self.id) + ' adjacent: ' + str([x.id for x in self.adjacent])\n",
    "\n",
    "    def add_neighbor(self, neighbor, weight=0):\n",
    "        self.adjacent[neighbor] = weight\n",
    "\n",
    "    def get_connections(self):\n",
    "        return self.adjacent.keys()  \n",
    "\n",
    "    def get_id(self):\n",
    "        return self.id\n",
    "\n",
    "    def get_weight(self, neighbor):\n",
    "        return self.adjacent[neighbor]\n",
    "\n",
    "class Graph:\n",
    "    def __init__(self):\n",
    "        self.vert_dict = {}\n",
    "        self.num_vertices = 0\n",
    "\n",
    "    def __iter__(self):\n",
    "        return iter(self.vert_dict.values())\n",
    "\n",
    "    def add_vertex(self, node):\n",
    "        self.num_vertices = self.num_vertices + 1\n",
    "        new_vertex = Vertex(node)\n",
    "        self.vert_dict[node] = new_vertex\n",
    "        return new_vertex\n",
    "\n",
    "    def get_vertex(self, n):\n",
    "        if n in self.vert_dict:\n",
    "            return self.vert_dict[n]\n",
    "        else:\n",
    "            return None\n",
    "\n",
    "    def add_edge(self, frm, to, cost = 0):\n",
    "        if frm not in self.vert_dict:\n",
    "            self.add_vertex(frm)\n",
    "        if to not in self.vert_dict:\n",
    "            self.add_vertex(to)\n",
    "\n",
    "        self.vert_dict[frm].add_neighbor(self.vert_dict[to], cost)\n",
    "        self.vert_dict[to].add_neighbor(self.vert_dict[frm], cost)\n",
    "\n",
    "    def get_vertices(self):\n",
    "        return self.vert_dict.keys()"
   ]
  },
  {
   "cell_type": "code",
   "execution_count": 7,
   "metadata": {},
   "outputs": [],
   "source": [
    "g = Graph()\n",
    "\n",
    "g.add_vertex('a')\n",
    "g.add_vertex('b')\n",
    "g.add_vertex('c')\n",
    "g.add_vertex('d')\n",
    "g.add_vertex('e')\n",
    "g.add_vertex('f')\n",
    "\n",
    "g.add_edge('a', 'b', 7)  \n",
    "g.add_edge('a', 'c', 9)\n",
    "g.add_edge('a', 'f', 14)\n",
    "g.add_edge('b', 'c', 10)\n",
    "g.add_edge('b', 'd', 15)\n",
    "g.add_edge('c', 'd', 11)\n",
    "g.add_edge('c', 'f', 2)\n",
    "g.add_edge('d', 'e', 6)\n",
    "g.add_edge('e', 'f', 9)"
   ]
  },
  {
   "cell_type": "code",
   "execution_count": 14,
   "metadata": {},
   "outputs": [
    {
     "name": "stdout",
     "output_type": "stream",
     "text": [
      "( Vertex is a and adjacent vertex is b are connected by edge 7)\n",
      "( Vertex is a and adjacent vertex is c are connected by edge 9)\n",
      "( Vertex is a and adjacent vertex is f are connected by edge 14)\n",
      "( Vertex is b and adjacent vertex is a are connected by edge 7)\n",
      "( Vertex is b and adjacent vertex is c are connected by edge 10)\n",
      "( Vertex is b and adjacent vertex is d are connected by edge 15)\n",
      "( Vertex is c and adjacent vertex is a are connected by edge 9)\n",
      "( Vertex is c and adjacent vertex is b are connected by edge 10)\n",
      "( Vertex is c and adjacent vertex is d are connected by edge 11)\n",
      "( Vertex is c and adjacent vertex is f are connected by edge 2)\n",
      "( Vertex is d and adjacent vertex is b are connected by edge 15)\n",
      "( Vertex is d and adjacent vertex is c are connected by edge 11)\n",
      "( Vertex is d and adjacent vertex is e are connected by edge 6)\n",
      "( Vertex is e and adjacent vertex is d are connected by edge 6)\n",
      "( Vertex is e and adjacent vertex is f are connected by edge 9)\n",
      "( Vertex is f and adjacent vertex is a are connected by edge 14)\n",
      "( Vertex is f and adjacent vertex is c are connected by edge 2)\n",
      "( Vertex is f and adjacent vertex is e are connected by edge 9)\n",
      "g.vert_dict[a]=a adjacent: ['b', 'c', 'f']\n",
      "g.vert_dict[b]=b adjacent: ['a', 'c', 'd']\n",
      "g.vert_dict[c]=c adjacent: ['a', 'b', 'd', 'f']\n",
      "g.vert_dict[d]=d adjacent: ['b', 'c', 'e']\n",
      "g.vert_dict[e]=e adjacent: ['d', 'f']\n",
      "g.vert_dict[f]=f adjacent: ['a', 'c', 'e']\n"
     ]
    }
   ],
   "source": [
    "# iterate each vertex\n",
    "for v in g:\n",
    "\n",
    "    # iterate each connection for a vertex\n",
    "    for w in v.get_connections():\n",
    "        vid = v.get_id()\n",
    "        wid = w.get_id()\n",
    "        print ('( Vertex is {v} and adjacent vertex is {w} are connected by edge {e})'.format(\n",
    "            v = vid, w = wid, e = v.get_weight(w)))\n",
    "\n",
    "for v in g:\n",
    "    print ('g.vert_dict[{}]={}'.format(v.get_id(), g.vert_dict[v.get_id()]))"
   ]
  },
  {
   "cell_type": "code",
   "execution_count": null,
   "metadata": {
    "collapsed": true
   },
   "outputs": [],
   "source": []
  }
 ],
 "metadata": {
  "kernelspec": {
   "display_name": "Python 3",
   "language": "python",
   "name": "python3"
  },
  "language_info": {
   "codemirror_mode": {
    "name": "ipython",
    "version": 3
   },
   "file_extension": ".py",
   "mimetype": "text/x-python",
   "name": "python",
   "nbconvert_exporter": "python",
   "pygments_lexer": "ipython3",
   "version": "3.6.0"
  }
 },
 "nbformat": 4,
 "nbformat_minor": 2
}
