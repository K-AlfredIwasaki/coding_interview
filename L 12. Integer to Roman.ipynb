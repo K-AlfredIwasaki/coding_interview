{
 "cells": [
  {
   "cell_type": "markdown",
   "metadata": {},
   "source": [
    "# Problem\n",
    "Given an integer, convert it to a roman numeral.\n",
    "\n",
    "Input is guaranteed to be within the range from 1 to 3999."
   ]
  },
  {
   "cell_type": "code",
   "execution_count": 3,
   "metadata": {},
   "outputs": [],
   "source": [
    "# http://literacy.kent.edu/Minigrants/Cinci/romanchart.htm"
   ]
  },
  {
   "cell_type": "code",
   "execution_count": 26,
   "metadata": {},
   "outputs": [],
   "source": [
    "def convert_to_roman_numerical(num):\n",
    "    k = num // 1000   # 1000s digit\n",
    "    h = num // 100 - k*10 # 100s digit\n",
    "    t = num // 10 - k * 100 - h * 10 # 10s digit\n",
    "    z = num - k * 1000 - h * 100 - t * 10 # 1s digit\n",
    "    \n",
    "    z_table = ['I', 'II', 'III', 'IV', 'V', 'VI', 'VII', 'VIII', 'IX']\n",
    "    t_table = ['X', 'XX', 'XXX', 'XL', 'L', 'LX', 'LXX', 'LXXX', 'XC']\n",
    "    h_table = ['C', 'CC', 'CCC', 'CD', 'D', 'DC', 'DCC', 'DCCC', 'CM']\n",
    "    k_table = ['M', 'MM', 'MMM']\n",
    "    \n",
    "    result = \"\"\n",
    "    if k != 0:\n",
    "        result += k_table[k-1]\n",
    "    if h != 0:\n",
    "        result += h_table[h-1]\n",
    "    if t != 0:\n",
    "        result += t_table[t-1]\n",
    "    if z != 0:\n",
    "        result += z_table[z-1]\n",
    "    \n",
    "    return result    "
   ]
  },
  {
   "cell_type": "code",
   "execution_count": 25,
   "metadata": {},
   "outputs": [
    {
     "data": {
      "text/plain": [
       "'CXCIX'"
      ]
     },
     "execution_count": 25,
     "metadata": {},
     "output_type": "execute_result"
    }
   ],
   "source": [
    "convert_to_roman_numerical(199)"
   ]
  }
 ],
 "metadata": {
  "kernelspec": {
   "display_name": "Python 3",
   "language": "python",
   "name": "python3"
  },
  "language_info": {
   "codemirror_mode": {
    "name": "ipython",
    "version": 3
   },
   "file_extension": ".py",
   "mimetype": "text/x-python",
   "name": "python",
   "nbconvert_exporter": "python",
   "pygments_lexer": "ipython3",
   "version": "3.6.0"
  }
 },
 "nbformat": 4,
 "nbformat_minor": 2
}
