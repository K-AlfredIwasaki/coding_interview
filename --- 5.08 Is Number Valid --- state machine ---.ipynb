{
 "cells": [
  {
   "cell_type": "markdown",
   "metadata": {},
   "source": [
    "# Problem\n",
    "\n",
    "Given an input string, determine if it makes a valid number or not."
   ]
  },
  {
   "cell_type": "code",
   "execution_count": 28,
   "metadata": {},
   "outputs": [],
   "source": [
    "example1 = '+.0001'\n",
    "example2 = '-12.0001'\n",
    "example3 = '+12.0.0.0'\n"
   ]
  },
  {
   "cell_type": "code",
   "execution_count": 34,
   "metadata": {
    "collapsed": true
   },
   "outputs": [],
   "source": [
    "def validate_num(string):\n",
    "    valid = True\n",
    "    state = None # \"integer\", \"decimal\"\n",
    "    \n",
    "    digit = {}\n",
    "    for i in range(10):\n",
    "        digit[str(i)] = True  ################ IMPROTANT make it string\n",
    "    print (digit)\n",
    "    \n",
    "    count = 0\n",
    "    while valid and count < len(string):\n",
    "        item = string[count]\n",
    "        print (item)\n",
    "        print (state)\n",
    "        \n",
    "        if not state:\n",
    "            # accept \".\" or [0-9]\n",
    "            if item in [\"+\", \"-\"]:\n",
    "                pass\n",
    "            elif item == \".\":\n",
    "                state = \"decimal\"\n",
    "            elif item in digit.keys():\n",
    "                state = \"integer\"\n",
    "            else:\n",
    "                valid = False\n",
    "            \n",
    "        elif state == \"decimal\":\n",
    "            if item in digit.keys():\n",
    "                pass\n",
    "            else:\n",
    "                valid = False\n",
    "        \n",
    "        elif state == \"integer\":\n",
    "            if item in digit.keys():\n",
    "                pass\n",
    "            elif item == \".\":\n",
    "                state = \"decimal\"\n",
    "            else:\n",
    "                valid = False                \n",
    "        \n",
    "        count += 1\n",
    "    \n",
    "    return valid"
   ]
  },
  {
   "cell_type": "code",
   "execution_count": 33,
   "metadata": {
    "scrolled": true
   },
   "outputs": [
    {
     "name": "stdout",
     "output_type": "stream",
     "text": [
      "{'0': True, '1': True, '2': True, '3': True, '4': True, '5': True, '6': True, '7': True, '8': True, '9': True}\n",
      "+\n",
      "None\n",
      "1\n",
      "None\n",
      "2\n",
      "integer\n",
      ".\n",
      "integer\n",
      "0\n",
      "decimal\n",
      ".\n",
      "decimal\n"
     ]
    },
    {
     "data": {
      "text/plain": [
       "False"
      ]
     },
     "execution_count": 33,
     "metadata": {},
     "output_type": "execute_result"
    }
   ],
   "source": [
    "validate_num(example3)"
   ]
  }
 ],
 "metadata": {
  "kernelspec": {
   "display_name": "Python 3",
   "language": "python",
   "name": "python3"
  },
  "language_info": {
   "codemirror_mode": {
    "name": "ipython",
    "version": 3
   },
   "file_extension": ".py",
   "mimetype": "text/x-python",
   "name": "python",
   "nbconvert_exporter": "python",
   "pygments_lexer": "ipython3",
   "version": "3.6.0"
  }
 },
 "nbformat": 4,
 "nbformat_minor": 2
}
