{
 "cells": [
  {
   "cell_type": "markdown",
   "metadata": {},
   "source": [
    "Write code to remove duplicates from an unsorted linked list.\n",
    "FOLLOW UP\n",
    "How would you solve this problem if a temporary buffer is not allowed?"
   ]
  },
  {
   "cell_type": "code",
   "execution_count": 2,
   "metadata": {
    "collapsed": true
   },
   "outputs": [],
   "source": [
    "from random import randint\n",
    "\n",
    "class Node:\n",
    "    def __init__(self, value):\n",
    "        self.value = value\n",
    "        self.next = None\n",
    "\n",
    "    def __str__(self):\n",
    "        return str(self.value)\n",
    "\n",
    "class LinkedList:\n",
    "    def __init__(self):\n",
    "        self.head = None\n",
    "        self.tail = None\n",
    "\n",
    "    def addNode(self,value):\n",
    "        node = Node(value)\n",
    "        #if the old list is none, set new node as the first node\n",
    "        if self.head == None:\n",
    "            self.head = node\n",
    "            self.tail = node\n",
    "        else:\n",
    "            self.tail.next = node\n",
    "            self.tail = node\n",
    "\n",
    "    def __str__(self):\n",
    "        if self.head != None:\n",
    "            index = self.head\n",
    "            nodestore = [str(index.value)]\n",
    "            while index.next != None:\n",
    "                index = index.next\n",
    "                nodestore.append(str(index.value))\n",
    "            return \"LinkedList  [ \" + \"->\".join(nodestore) + \" ]\"\n",
    "        return \"LinkedList  []\"\n",
    "\n",
    "\n",
    "    #remove the first node that have the same value as the given node_value\n",
    "    def removeNode(self, node_value):\n",
    "        current = self.head\n",
    "        if current.value == node_value:\n",
    "            self.head = self.head.next\n",
    "        while(current.next != None):\n",
    "            if current.next.value == node_value:\n",
    "                current.next = current.next.next\n",
    "                break\n",
    "            else:\n",
    "                current = current.next"
   ]
  },
  {
   "cell_type": "code",
   "execution_count": 3,
   "metadata": {
    "collapsed": true
   },
   "outputs": [],
   "source": [
    "def randomLinkedList(length, min, max):\n",
    "    linkedlist = LinkedList()\n",
    "    for i in range(length):\n",
    "        value = randint(min, max)\n",
    "        linkedlist.addNode(value)\n",
    "    return linkedlist"
   ]
  },
  {
   "cell_type": "code",
   "execution_count": 1,
   "metadata": {
    "collapsed": true
   },
   "outputs": [],
   "source": [
    "# use a hash table, O(n)\n",
    "def deleteDups(linkedlist):\n",
    "    if (linkedlist.head != None):\n",
    "        currNode = linkedlist.head\n",
    "        dic =  {currNode.value: True}\n",
    "        while currNode.next != None:\n",
    "            if currNode.next.value in dic:\n",
    "                currNode.next = currNode.next.next\n",
    "            else:\n",
    "                dic[currNode.next.value] = True\n",
    "                currNode = currNode.next\n",
    "                \n",
    "# don't use additional space, O(n^2)\n",
    "def removeDuplications2(l):\n",
    "    current = l.head\n",
    "    while current != None:\n",
    "        runner = current\n",
    "        \n",
    "        while runner.next != None:\n",
    "            if runner.next.value == current.value:\n",
    "                runner.next = runner.next.next\n",
    "            else:\n",
    "                runner = runner.next\n",
    "            \n",
    "        current = current.next"
   ]
  },
  {
   "cell_type": "code",
   "execution_count": 6,
   "metadata": {},
   "outputs": [
    {
     "name": "stdout",
     "output_type": "stream",
     "text": [
      "LinkedList  [ 6->7->3->5->4->7->7->4->5 ]\n",
      "LinkedList  [ 6->7->3->5->4 ]\n"
     ]
    }
   ],
   "source": [
    "L1 = randomLinkedList(9, 3, 7)\n",
    "print (L1)\n",
    "deleteDups(L1)\n",
    "print (L1)"
   ]
  }
 ],
 "metadata": {
  "kernelspec": {
   "display_name": "Python 3",
   "language": "python",
   "name": "python3"
  },
  "language_info": {
   "codemirror_mode": {
    "name": "ipython",
    "version": 3
   },
   "file_extension": ".py",
   "mimetype": "text/x-python",
   "name": "python",
   "nbconvert_exporter": "python",
   "pygments_lexer": "ipython3",
   "version": "3.6.0"
  }
 },
 "nbformat": 4,
 "nbformat_minor": 2
}
