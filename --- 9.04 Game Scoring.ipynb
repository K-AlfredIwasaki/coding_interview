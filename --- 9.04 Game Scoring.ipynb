{
 "cells": [
  {
   "cell_type": "code",
   "execution_count": 77,
   "metadata": {},
   "outputs": [],
   "source": [
    "#Scoring options are 1, 2, 4\n",
    "def scoring_options_rec(n, result):\n",
    "    print (\"result for {} is {}\".format(n, result))\n",
    "    \n",
    "    # two base cases\n",
    "    if n < 0:\n",
    "        return 0\n",
    "\n",
    "    if result[n] > 0:\n",
    "        return result[n]\n",
    "\n",
    "    # recursion\n",
    "    result[n] = scoring_options_rec(n-1, result) + \\\n",
    "              scoring_options_rec(n-2, result) + \\\n",
    "              scoring_options_rec(n-4, result)\n",
    "\n",
    "    return result[n]\n",
    "\n",
    "def scoring_options(n):\n",
    "    if n <= 0 :\n",
    "        return 0\n",
    "\n",
    "    result = [0 for i in range(n+1)] #### IMPORTANT n + 1 because result[0] = 1 This is 1 or 2 or 4\n",
    "    result[0] = 1\n",
    "\n",
    "    scoring_options_rec(n, result);\n",
    "\n",
    "    return result[n]"
   ]
  },
  {
   "cell_type": "code",
   "execution_count": 78,
   "metadata": {
    "scrolled": true
   },
   "outputs": [
    {
     "name": "stdout",
     "output_type": "stream",
     "text": [
      "result for 5 is [1, 0, 0, 0, 0, 0]\n",
      "result for 4 is [1, 0, 0, 0, 0, 0]\n",
      "result for 3 is [1, 0, 0, 0, 0, 0]\n",
      "result for 2 is [1, 0, 0, 0, 0, 0]\n",
      "result for 1 is [1, 0, 0, 0, 0, 0]\n",
      "result for 0 is [1, 0, 0, 0, 0, 0]\n",
      "result for -1 is [1, 0, 0, 0, 0, 0]\n",
      "result for -3 is [1, 0, 0, 0, 0, 0]\n",
      "result for 0 is [1, 1, 0, 0, 0, 0]\n",
      "result for -2 is [1, 1, 0, 0, 0, 0]\n",
      "result for 1 is [1, 1, 2, 0, 0, 0]\n",
      "result for -1 is [1, 1, 2, 0, 0, 0]\n",
      "result for 2 is [1, 1, 2, 3, 0, 0]\n",
      "result for 0 is [1, 1, 2, 3, 0, 0]\n",
      "result for 3 is [1, 1, 2, 3, 6, 0]\n",
      "result for 1 is [1, 1, 2, 3, 6, 0]\n"
     ]
    },
    {
     "data": {
      "text/plain": [
       "10"
      ]
     },
     "execution_count": 78,
     "metadata": {},
     "output_type": "execute_result"
    }
   ],
   "source": [
    "scoring_options(5)"
   ]
  },
  {
   "cell_type": "code",
   "execution_count": 83,
   "metadata": {
    "collapsed": true
   },
   "outputs": [],
   "source": [
    "#Scoring options are 1, 2, 4\n",
    "def scoring_options_dp(n):\n",
    "    if n <= 0:\n",
    "        return 0\n",
    "\n",
    "    #Max score is 4. Hence we need to save \n",
    "    #last 4 ways to calculate the number of ways\n",
    "    #for a given n\n",
    "    #save the base case on last index of the vector\n",
    "    result = [0,0,0,1]\n",
    "\n",
    "    for i in range(1, n+1):\n",
    "        current_sum = result[3] + result[2] + result[0]\n",
    "\n",
    "    #slide left all the results in each iteration\n",
    "    #result for current i will be saved at last index\n",
    "        result[0] = result[1]\n",
    "        result[1] = result[2]\n",
    "        result[2] = result[3]\n",
    "        result[3] = current_sum\n",
    "\n",
    "    return result[3]"
   ]
  },
  {
   "cell_type": "code",
   "execution_count": 84,
   "metadata": {},
   "outputs": [
    {
     "data": {
      "text/plain": [
       "10"
      ]
     },
     "execution_count": 84,
     "metadata": {},
     "output_type": "execute_result"
    }
   ],
   "source": [
    "scoring_options_dp(5)"
   ]
  }
 ],
 "metadata": {
  "kernelspec": {
   "display_name": "Python 3",
   "language": "python",
   "name": "python3"
  },
  "language_info": {
   "codemirror_mode": {
    "name": "ipython",
    "version": 3
   },
   "file_extension": ".py",
   "mimetype": "text/x-python",
   "name": "python",
   "nbconvert_exporter": "python",
   "pygments_lexer": "ipython3",
   "version": "3.6.0"
  }
 },
 "nbformat": 4,
 "nbformat_minor": 2
}
