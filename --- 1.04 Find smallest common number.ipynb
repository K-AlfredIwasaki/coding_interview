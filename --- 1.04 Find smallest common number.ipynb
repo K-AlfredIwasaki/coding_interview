{
 "cells": [
  {
   "cell_type": "code",
   "execution_count": 61,
   "metadata": {
    "collapsed": true
   },
   "outputs": [],
   "source": [
    "arr1 = [1, 10, 3, 4, 5, 22, 10]\n",
    "arr2 = [-1, 4, 5, 6, 7, 8, 50]\n",
    "arr3 = [1, 6, 10, 14]"
   ]
  },
  {
   "cell_type": "code",
   "execution_count": 67,
   "metadata": {
    "collapsed": true
   },
   "outputs": [],
   "source": [
    "def find_least_common_number(a,b,c):\n",
    "    i=0\n",
    "    j=0\n",
    "    k=0\n",
    "\n",
    "    while i < len(a) and j < len(b) and k < len(c):\n",
    "\n",
    "    # Found the smallest common number\n",
    "        if a[i] == b[j] and b[j] == c[k]:\n",
    "            return a[i]\n",
    "\n",
    "# Let's advance the iterator\n",
    "# for the smallest value.\n",
    "\n",
    "        if a[i] <= b[j] and a[i] <= c[k]:\n",
    "            i+=1\n",
    "        elif b[j] <= a[i] and b[j] <= c[k]:\n",
    "            j+=1\n",
    "        elif c[k] <= a[i] and c[k] <= b[j]:\n",
    "            k+=1\n",
    "\n",
    "    return -1\n",
    "            "
   ]
  },
  {
   "cell_type": "code",
   "execution_count": 69,
   "metadata": {},
   "outputs": [
    {
     "data": {
      "text/plain": [
       "-1"
      ]
     },
     "execution_count": 69,
     "metadata": {},
     "output_type": "execute_result"
    }
   ],
   "source": [
    "find_least_common_number(arr1, arr2, arr3)"
   ]
  }
 ],
 "metadata": {
  "kernelspec": {
   "display_name": "Python 3",
   "language": "python",
   "name": "python3"
  },
  "language_info": {
   "codemirror_mode": {
    "name": "ipython",
    "version": 3
   },
   "file_extension": ".py",
   "mimetype": "text/x-python",
   "name": "python",
   "nbconvert_exporter": "python",
   "pygments_lexer": "ipython3",
   "version": "3.6.0"
  }
 },
 "nbformat": 4,
 "nbformat_minor": 2
}
