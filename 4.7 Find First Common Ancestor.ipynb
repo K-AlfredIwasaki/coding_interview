{
 "cells": [
  {
   "cell_type": "code",
   "execution_count": 6,
   "metadata": {},
   "outputs": [
    {
     "data": {
      "text/plain": [
       "'\\nDesign an algorithm and write code to find the first common ancestor of \\ntwo nodes in a binary tree. Avoid storing additional nodes in a data structure.\\nNOTE: This is not necessarily a binary search tree\\n'"
      ]
     },
     "execution_count": 6,
     "metadata": {},
     "output_type": "execute_result"
    }
   ],
   "source": [
    "'''\n",
    "Design an algorithm and write code to find the first common ancestor of \n",
    "two nodes in a binary tree. Avoid storing additional nodes in a data structure.\n",
    "NOTE: This is not necessarily a binary search tree\n",
    "'''"
   ]
  },
  {
   "cell_type": "code",
   "execution_count": 3,
   "metadata": {
    "collapsed": true
   },
   "outputs": [],
   "source": [
    "import random\n",
    "\n",
    "class BinaryTree:\n",
    "    def __init__(self, content):\n",
    "        self.content = content\n",
    "        self.left = None\n",
    "        self.right = None\n",
    "        \n",
    "        self.depth = -1\n",
    "        \n",
    "    def __str__(self):\n",
    "        return \"(\" + str(self.content) + \" ( \" + str(self.left) + \" | \"  \\\n",
    "    + str(self.right) + \"))\""
   ]
  },
  {
   "cell_type": "code",
   "execution_count": 4,
   "metadata": {
    "collapsed": true
   },
   "outputs": [],
   "source": [
    "b = BinaryTree(20)\n",
    "b.left = BinaryTree(8)\n",
    "b.left.left = BinaryTree(6)\n",
    "b.left.left.left = BinaryTree(2)\n",
    "b.left.left.right = BinaryTree(7)\n",
    "b.left.right = BinaryTree(10)\n",
    "b.right = BinaryTree(22)\n",
    "b.right.left = BinaryTree(15)\n",
    "b.right.right = BinaryTree(30)"
   ]
  },
  {
   "cell_type": "code",
   "execution_count": 4,
   "metadata": {
    "scrolled": true
   },
   "outputs": [
    {
     "name": "stdout",
     "output_type": "stream",
     "text": [
      "(20 ( (8 ( (6 ( (2 ( None | None)) | (7 ( None | None)))) | (10 ( None | None)))) | (22 ( (15 ( None | None)) | (30 ( None | None))))))\n"
     ]
    }
   ],
   "source": [
    "print (b)"
   ]
  },
  {
   "cell_type": "code",
   "execution_count": null,
   "metadata": {
    "collapsed": true
   },
   "outputs": [],
   "source": [
    "### simpler solution\n",
    "\n",
    "# helper function\n",
    "def cover(btree, node):\n",
    "    # base case\n",
    "    if btree == None: return False\n",
    "    if btree == node: return True\n",
    "    \n",
    "    # general relationship\n",
    "    l = cover(btree.left, node)\n",
    "    r = cover(btree.right, node)\n",
    "    \n",
    "    return l or r\n",
    "\n",
    "def commonAncestor(btree, p, q):\n",
    "    # base case\n",
    "    if btree == None: return None\n",
    "    if btree == p or btree == q: return btree\n",
    "    \n",
    "    # action\n",
    "    is_p_on_left = cover(btree.left, p)\n",
    "    is_q_on_left = cover(btree.left, q)\n",
    "    \n",
    "    \n",
    "    # true and false or false and true => they are on different sides --- done\n",
    "    # true and true => both on the left --- recursive on the left\n",
    "    # false and false => both on the right --- recursive on the right\n",
    "    \n",
    "    if is_p_on_left != is_q_on_left:\n",
    "        return btree\n",
    "    \n",
    "    if is_p_on_left == True:\n",
    "        return commonAncestor(btree.left, p, q)\n",
    "    \n",
    "    if is_p_on_left == False:\n",
    "        return commonAncestor(btree.right, p, q)"
   ]
  },
  {
   "cell_type": "code",
   "execution_count": 13,
   "metadata": {},
   "outputs": [
    {
     "data": {
      "text/plain": [
       "False"
      ]
     },
     "execution_count": 13,
     "metadata": {},
     "output_type": "execute_result"
    }
   ],
   "source": [
    "True and False"
   ]
  },
  {
   "cell_type": "code",
   "execution_count": 24,
   "metadata": {
    "collapsed": true
   },
   "outputs": [],
   "source": [
    "def commonAncestor_2(root, p, q):\n",
    "    result = commonAncestor2_helper(root, p, q)\n",
    "    if result[1]:\n",
    "        return result[0]\n",
    "    return None\n",
    "\n",
    "def commonAncestor2_helper(root, p, q):\n",
    "    if root is None:\n",
    "        return None, False\n",
    "    if root is p and root is q:\n",
    "        return root, True\n",
    "    \n",
    "    left = commonAncestor2_helper(root.left, p, q)\n",
    "    if left[1] == True:     # Already found ancestor in the subtree\n",
    "        return left\n",
    "    \n",
    "    right = commonAncestor2_helper(root.right, p, q)\n",
    "    if right[1] == True:    # Already found ancestor in the subtree\n",
    "        return right\n",
    "    \n",
    "    # If One of subtree return p and one of subtree return q, found common ancestor\n",
    "    if left[0] != None and right[0] != None:\n",
    "        return root, True\n",
    "    \n",
    "    # If root is p or q and one of the subtrees contain q or p, the root is common ancestor\n",
    "    # If no p or q in the subtree, return root, False\n",
    "   \n",
    "elif root is p or root is q:\n",
    "        isAncestor = True if left[0] != None or right[0] != None else False\n",
    "        return root, isAncestor\n",
    "    \n",
    "    # The rest condition:\n",
    "    # 1) One of the subtree contains only p or q, another subtree is None, return p or q, False\n",
    "    # 2) None of subtrees contain p or q, return None, False\n",
    "    else:\n",
    "        return left[0] if left[0] != None else right[0], False\n"
   ]
  },
  {
   "cell_type": "code",
   "execution_count": 12,
   "metadata": {},
   "outputs": [
    {
     "data": {
      "text/plain": [
       "20"
      ]
     },
     "execution_count": 12,
     "metadata": {},
     "output_type": "execute_result"
    }
   ],
   "source": [
    "commonAncestor_2(b, b.left.left, b.right.right).content"
   ]
  },
  {
   "cell_type": "code",
   "execution_count": 22,
   "metadata": {
    "collapsed": true
   },
   "outputs": [],
   "source": [
    "def commonAncestor_2(root, p, q):\n",
    "    result = commonAncestor2_helper(root, p, q)\n",
    "    if result[1]:\n",
    "        return result[0]\n",
    "    return None\n",
    "\n",
    "def commonAncestor2_helper(root, p, q):\n",
    "    # return two values:\n",
    "    # anc: one is a node that matches either p or q\n",
    "    # found: the other is a boolean that tells if ancestor is found\n",
    "    \n",
    "    # base case\n",
    "    if root is None:\n",
    "        return None, False\n",
    "    if root is p and root is q:\n",
    "        return root, True\n",
    "    if root is p or root is q:\n",
    "        return root, False\n",
    "    \n",
    "    # recursive\n",
    "    left_anc, left_found = commonAncestor2_helper(root.left, p, q)    \n",
    "    right_anc, right_found = commonAncestor2_helper(root.right, p, q)\n",
    "    \n",
    "    # Case1: Already found ancestor in the subtree\n",
    "    if left_found == True:     \n",
    "        return left_anc, left_found\n",
    "    if right_found == True:\n",
    "        return right_anc, left_found\n",
    "    \n",
    "    # Case2: root is common ancestor ver1\n",
    "    # If one of subtree return p and one of subtree return q, \n",
    "    # found common ancestor\n",
    "    if left_anc != None and right_anc != None:\n",
    "        return root, True\n",
    "    \n",
    "    # Case3: root is common ancestor ver2\n",
    "    # If root is p or q and one of the subtrees contain q or p, \n",
    "    # the root is common ancestor\n",
    "    # If no p or q in the subtree, return root, False\n",
    "    elif root is p or root is q:\n",
    "        isAncestor = True if left_anc != None or right_anc != None else False\n",
    "        return root, isAncestor\n",
    "    \n",
    "    # Case4: common ancestor not found, just update\n",
    "    # The rest condition:\n",
    "    # 1) One of the subtree contains only p or q, another subtree is None, return p or q, False\n",
    "    # 2) None of subtrees contain p or q, return None, False\n",
    "    else:\n",
    "        return left_anc if left_anc != None else right_anc, False\n"
   ]
  },
  {
   "cell_type": "code",
   "execution_count": 23,
   "metadata": {},
   "outputs": [
    {
     "data": {
      "text/plain": [
       "20"
      ]
     },
     "execution_count": 23,
     "metadata": {},
     "output_type": "execute_result"
    }
   ],
   "source": [
    "commonAncestor_2(b, b.left.left, b.right.right).content"
   ]
  }
 ],
 "metadata": {
  "kernelspec": {
   "display_name": "Python 3",
   "language": "python",
   "name": "python3"
  },
  "language_info": {
   "codemirror_mode": {
    "name": "ipython",
    "version": 3
   },
   "file_extension": ".py",
   "mimetype": "text/x-python",
   "name": "python",
   "nbconvert_exporter": "python",
   "pygments_lexer": "ipython3",
   "version": "3.6.0"
  }
 },
 "nbformat": 4,
 "nbformat_minor": 2
}
