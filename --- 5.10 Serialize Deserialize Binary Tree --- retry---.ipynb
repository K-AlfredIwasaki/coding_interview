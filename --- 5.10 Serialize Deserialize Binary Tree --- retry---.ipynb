{
 "cells": [
  {
   "cell_type": "markdown",
   "metadata": {},
   "source": [
    "### Problem\n",
    "Serialize binary tree to a file and then deserialize back to tree such that original and deserialized trees are identical."
   ]
  },
  {
   "cell_type": "code",
   "execution_count": 131,
   "metadata": {
    "collapsed": true
   },
   "outputs": [],
   "source": [
    "# strategy: pre-order traversal"
   ]
  },
  {
   "cell_type": "code",
   "execution_count": 49,
   "metadata": {
    "collapsed": true
   },
   "outputs": [],
   "source": [
    "from data_structure.binary_tree import *\n",
    "b = BinaryTree(100)\n",
    "b.left = BinaryTree(50)\n",
    "b.left.left = BinaryTree(25)\n",
    "b.left.right = BinaryTree(75)\n",
    "# b.left.right.left = BinaryTree(20)\n",
    "b.right = BinaryTree(200)\n",
    "b.right.left = BinaryTree(125)\n",
    "b.right.right = BinaryTree(350)"
   ]
  },
  {
   "cell_type": "code",
   "execution_count": 132,
   "metadata": {
    "collapsed": true
   },
   "outputs": [],
   "source": [
    "# runtime complexity O(n), linear\n",
    "# memory complexity O(logn) \n",
    "# resursive solution has O(h) memory complexity as it will consume memory on the stack up \n",
    "# to the height of binary tree h.\n",
    "# it will be O(logn) for balanced treee and in worst case can be O(n)\n",
    "def serialize(btree, returnList=[]):\n",
    "    # base case\n",
    "    if btree == None:\n",
    "        returnList.append(None)\n",
    "        return returnList\n",
    "    \n",
    "    # store the content\n",
    "    returnList.append(btree.content)\n",
    "\n",
    "    # recursion\n",
    "    returnList = serialize(btree.left, returnList)\n",
    "    returnList = serialize(btree.right, returnList)\n",
    "    \n",
    "    return returnList"
   ]
  },
  {
   "cell_type": "code",
   "execution_count": 122,
   "metadata": {
    "collapsed": true
   },
   "outputs": [],
   "source": [
    "from data_structure.binary_tree import *\n",
    "b = BinaryTree(100)\n",
    "b.left = BinaryTree(50)\n",
    "b.left.left = BinaryTree(25)\n",
    "b.left.right = BinaryTree(75)\n",
    "b.left.right.left = BinaryTree(20)\n",
    "b.right = BinaryTree(200)\n",
    "b.right.left = BinaryTree(125)\n",
    "b.right.right = BinaryTree(350)"
   ]
  },
  {
   "cell_type": "code",
   "execution_count": 123,
   "metadata": {
    "scrolled": false
   },
   "outputs": [
    {
     "data": {
      "text/plain": [
       "[100,\n",
       " 50,\n",
       " 25,\n",
       " None,\n",
       " None,\n",
       " 75,\n",
       " 20,\n",
       " None,\n",
       " None,\n",
       " None,\n",
       " 200,\n",
       " 125,\n",
       " None,\n",
       " None,\n",
       " 350,\n",
       " None,\n",
       " None]"
      ]
     },
     "execution_count": 123,
     "metadata": {},
     "output_type": "execute_result"
    }
   ],
   "source": [
    "lst = serialize(b)\n",
    "lst"
   ]
  },
  {
   "cell_type": "code",
   "execution_count": 133,
   "metadata": {
    "collapsed": true
   },
   "outputs": [],
   "source": [
    "def deserialize(lst):\n",
    "    print (lst)\n",
    "    if lst[0] != None: \n",
    "        btree = BinaryTree(lst[0])\n",
    "        lst.pop(0)\n",
    "    else:\n",
    "        lst.pop(0)\n",
    "        return\n",
    "    \n",
    "    \n",
    "    btree.left = deserialize(lst)\n",
    "    btree.right = deserialize(lst)\n",
    "    \n",
    "    return btree"
   ]
  },
  {
   "cell_type": "code",
   "execution_count": 125,
   "metadata": {
    "scrolled": true
   },
   "outputs": [
    {
     "name": "stdout",
     "output_type": "stream",
     "text": [
      "[100, 50, 25, None, None, 75, 20, None, None, None, 200, 125, None, None, 350, None, None]\n",
      "[50, 25, None, None, 75, 20, None, None, None, 200, 125, None, None, 350, None, None]\n",
      "[25, None, None, 75, 20, None, None, None, 200, 125, None, None, 350, None, None]\n",
      "[None, None, 75, 20, None, None, None, 200, 125, None, None, 350, None, None]\n",
      "[None, 75, 20, None, None, None, 200, 125, None, None, 350, None, None]\n",
      "[75, 20, None, None, None, 200, 125, None, None, 350, None, None]\n",
      "[20, None, None, None, 200, 125, None, None, 350, None, None]\n",
      "[None, None, None, 200, 125, None, None, 350, None, None]\n",
      "[None, None, 200, 125, None, None, 350, None, None]\n",
      "[None, 200, 125, None, None, 350, None, None]\n",
      "[200, 125, None, None, 350, None, None]\n",
      "[125, None, None, 350, None, None]\n",
      "[None, None, 350, None, None]\n",
      "[None, 350, None, None]\n",
      "[350, None, None]\n",
      "[None, None]\n",
      "[None]\n"
     ]
    }
   ],
   "source": [
    "b = deserialize(lst)"
   ]
  },
  {
   "cell_type": "code",
   "execution_count": 126,
   "metadata": {
    "collapsed": true
   },
   "outputs": [],
   "source": [
    "def traversal(b):\n",
    "    if b == None:\n",
    "        return\n",
    "    \n",
    "    print(b.content)\n",
    "    traversal(b.left)\n",
    "    traversal(b.right)"
   ]
  },
  {
   "cell_type": "code",
   "execution_count": 128,
   "metadata": {},
   "outputs": [
    {
     "data": {
      "text/plain": [
       "20"
      ]
     },
     "execution_count": 128,
     "metadata": {},
     "output_type": "execute_result"
    }
   ],
   "source": [
    "b.left.right.left.content"
   ]
  },
  {
   "cell_type": "code",
   "execution_count": 130,
   "metadata": {},
   "outputs": [
    {
     "data": {
      "text/plain": [
       "350"
      ]
     },
     "execution_count": 130,
     "metadata": {},
     "output_type": "execute_result"
    }
   ],
   "source": [
    "b.right.right.content"
   ]
  }
 ],
 "metadata": {
  "kernelspec": {
   "display_name": "Python 3",
   "language": "python",
   "name": "python3"
  },
  "language_info": {
   "codemirror_mode": {
    "name": "ipython",
    "version": 3
   },
   "file_extension": ".py",
   "mimetype": "text/x-python",
   "name": "python",
   "nbconvert_exporter": "python",
   "pygments_lexer": "ipython3",
   "version": "3.6.0"
  }
 },
 "nbformat": 4,
 "nbformat_minor": 2
}
