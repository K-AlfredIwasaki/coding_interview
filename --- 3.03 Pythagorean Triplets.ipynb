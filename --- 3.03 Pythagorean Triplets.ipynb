{
 "cells": [
  {
   "cell_type": "markdown",
   "metadata": {},
   "source": [
    "# Problem\n",
    "\n",
    "Given an integer array find all Pythagorean triplets. "
   ]
  },
  {
   "cell_type": "code",
   "execution_count": 2,
   "metadata": {
    "collapsed": true
   },
   "outputs": [],
   "source": [
    "arr = [4, 16, 1, 2, 3, 5, 6, 8, 25, 10]"
   ]
  },
  {
   "cell_type": "code",
   "execution_count": 4,
   "metadata": {
    "collapsed": true
   },
   "outputs": [],
   "source": [
    "def find_pythagorean_tri(arr):\n",
    "    # sort the array --- time O(nlogn)\n",
    "    arr.sort() # inplace sort\n",
    "    results = []\n",
    "    \n",
    "    a, b = 0, 0\n",
    "    for i, c in enumerate(arr):\n",
    "        start = 0\n",
    "        end = len(arr) - 1\n",
    "        \n",
    "        while start < end:\n",
    "            \n",
    "            if i == start:\n",
    "                start += 1\n",
    "            elif i == end:\n",
    "                end -= 1\n",
    "            \n",
    "            a = arr[start]\n",
    "            b = arr[end]\n",
    "            total = a**2 + b**2 - c**2\n",
    "            \n",
    "            if total == 0:\n",
    "                print (a, b, c)\n",
    "                results.append([a, b, c])\n",
    "                break               ######### IMPORTANT\n",
    "                \n",
    "            elif total > 0:\n",
    "                end += -1\n",
    "            \n",
    "            else:\n",
    "                start += 1\n",
    "            \n",
    "    return results"
   ]
  },
  {
   "cell_type": "code",
   "execution_count": 5,
   "metadata": {
    "scrolled": false
   },
   "outputs": [
    {
     "name": "stdout",
     "output_type": "stream",
     "text": [
      "3 4 5\n",
      "6 8 10\n"
     ]
    },
    {
     "data": {
      "text/plain": [
       "[[3, 4, 5], [6, 8, 10]]"
      ]
     },
     "execution_count": 5,
     "metadata": {},
     "output_type": "execute_result"
    }
   ],
   "source": [
    "find_pythagorean_tri(arr)"
   ]
  },
  {
   "cell_type": "code",
   "execution_count": 6,
   "metadata": {
    "collapsed": true
   },
   "outputs": [],
   "source": [
    "# binary search approach for each item from the tail\n",
    "def pythagorean_tri(arr):\n",
    "    # sort\n",
    "    arr.sort()\n",
    "    \n",
    "    # iterate from the last item in \n",
    "    i = len(arr) - 1\n",
    "    while i > 1:\n",
    "        start = 0\n",
    "        end = i - 1\n",
    "        while start < end:\n",
    "            # base\n",
    "            a = arr[start] ** 2\n",
    "            b = arr[end] ** 2\n",
    "            c = arr[i] ** 2\n",
    "            if a + b == c:\n",
    "                print (a, b, c)\n",
    "                break\n",
    "            elif a + b < c:\n",
    "                start += 1\n",
    "            elif a + b > c:\n",
    "                end -= 1\n",
    "                \n",
    "        i -= 1"
   ]
  },
  {
   "cell_type": "code",
   "execution_count": 8,
   "metadata": {},
   "outputs": [
    {
     "name": "stdout",
     "output_type": "stream",
     "text": [
      "36 64 100\n",
      "9 16 25\n"
     ]
    }
   ],
   "source": [
    "pythagorean_tri(arr)"
   ]
  }
 ],
 "metadata": {
  "kernelspec": {
   "display_name": "Python 3",
   "language": "python",
   "name": "python3"
  },
  "language_info": {
   "codemirror_mode": {
    "name": "ipython",
    "version": 3
   },
   "file_extension": ".py",
   "mimetype": "text/x-python",
   "name": "python",
   "nbconvert_exporter": "python",
   "pygments_lexer": "ipython3",
   "version": "3.6.0"
  }
 },
 "nbformat": 4,
 "nbformat_minor": 2
}
