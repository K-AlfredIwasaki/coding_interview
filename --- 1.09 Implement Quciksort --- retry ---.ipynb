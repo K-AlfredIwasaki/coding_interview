{
 "cells": [
  {
   "cell_type": "code",
   "execution_count": 2,
   "metadata": {
    "collapsed": true
   },
   "outputs": [],
   "source": [
    "arr = [52, 22, 67, 31, 80, 23, 53, 70, 93, 2]"
   ]
  },
  {
   "cell_type": "code",
   "execution_count": 3,
   "metadata": {
    "collapsed": true
   },
   "outputs": [],
   "source": [
    "# Below partition is using Hoare's algorithm.\n",
    "def partition(arr, low, high):\n",
    "    pivot_value = arr[low]\n",
    "    i = low\n",
    "    j = high\n",
    "\n",
    "    while i < j:  ########################### Important #####################################\n",
    "        \n",
    "        while i <= high and arr[i] <= pivot_value: ### i <= high\n",
    "            i += 1\n",
    "        while arr[j] > pivot_value:\n",
    "            j -= 1\n",
    "            \n",
    "        if i < j: #### important\n",
    "        # swap arr[i], arr[j]\n",
    "            arr[i], arr[j] = arr[j], arr[i]\n",
    "        else:\n",
    "            break\n",
    "\n",
    "    arr[low], arr[j] = arr[j], arr[low]\n",
    "\n",
    "    # return the pivot index\n",
    "    return j\n",
    "\n",
    "def quick_sort_rec(a, l, h):\n",
    "    if h > l:  ############################# Important #####################################\n",
    "        \n",
    "        pivot_index = partition(a, l, h)\n",
    "        quick_sort_rec(a, l, pivot_index - 1)\n",
    "        quick_sort_rec(a, pivot_index + 1, h)\n",
    "\n",
    "def quick_sort(a):\n",
    "    quick_sort_rec(a, 0, len(a) - 1)\n",
    "    \n",
    "    return a"
   ]
  },
  {
   "cell_type": "code",
   "execution_count": 4,
   "metadata": {},
   "outputs": [
    {
     "data": {
      "text/plain": [
       "[2, 22, 23, 31, 52, 53, 67, 70, 80, 93]"
      ]
     },
     "execution_count": 4,
     "metadata": {},
     "output_type": "execute_result"
    }
   ],
   "source": [
    "quick_sort(arr)"
   ]
  }
 ],
 "metadata": {
  "kernelspec": {
   "display_name": "Python 3",
   "language": "python",
   "name": "python3"
  },
  "language_info": {
   "codemirror_mode": {
    "name": "ipython",
    "version": 3
   },
   "file_extension": ".py",
   "mimetype": "text/x-python",
   "name": "python",
   "nbconvert_exporter": "python",
   "pygments_lexer": "ipython3",
   "version": "3.6.0"
  }
 },
 "nbformat": 4,
 "nbformat_minor": 2
}
