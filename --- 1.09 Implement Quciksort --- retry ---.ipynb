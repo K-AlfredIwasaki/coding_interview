{
 "cells": [
  {
   "cell_type": "code",
   "execution_count": 9,
   "metadata": {
    "collapsed": true
   },
   "outputs": [],
   "source": [
    "# Below partition is using Hoare's algorithm.\n",
    "def partition(arr, low, high):\n",
    "    pivot_value = arr[low]\n",
    "    i = low\n",
    "    j = high\n",
    "\n",
    "    while i < j:\n",
    "        while i <= high and arr[i] <= pivot_value:\n",
    "            i += 1\n",
    "        while arr[j] > pivot_value:\n",
    "            j -= 1\n",
    "        if i < j:\n",
    "        # swap arr[i], arr[j]\n",
    "            arr[i], arr[j] = arr[j], arr[i]\n",
    "        else:\n",
    "            break\n",
    "\n",
    "    arr[low] = arr[j]\n",
    "    arr[j] = pivot_value\n",
    "\n",
    "    # return the pivot index\n",
    "    return j\n",
    "\n",
    "def quick_sort_rec(a, l, h):\n",
    "    if h > l:\n",
    "        pivot_index = partition(a, l, h)\n",
    "        quick_sort_rec(a, l, pivot_index - 1)\n",
    "        quick_sort_rec(a, pivot_index + 1, h)\n",
    "\n",
    "def quick_sort(a):\n",
    "    quick_sort_rec(a, 0, len(a) - 1)"
   ]
  },
  {
   "cell_type": "code",
   "execution_count": 10,
   "metadata": {
    "collapsed": true
   },
   "outputs": [],
   "source": [
    "quick_sort(arr)"
   ]
  },
  {
   "cell_type": "code",
   "execution_count": 17,
   "metadata": {},
   "outputs": [
    {
     "name": "stdout",
     "output_type": "stream",
     "text": [
      "Output after partition [20, 26]\n"
     ]
    },
    {
     "data": {
      "text/plain": [
       "(1, [20, 26])"
      ]
     },
     "execution_count": 17,
     "metadata": {},
     "output_type": "execute_result"
    }
   ],
   "source": [
    "partition(arr3, 0, 1)"
   ]
  },
  {
   "cell_type": "code",
   "execution_count": 15,
   "metadata": {},
   "outputs": [
    {
     "data": {
      "text/plain": [
       "[17, 26, 20]"
      ]
     },
     "execution_count": 15,
     "metadata": {},
     "output_type": "execute_result"
    }
   ],
   "source": [
    "arr2"
   ]
  },
  {
   "cell_type": "code",
   "execution_count": 11,
   "metadata": {},
   "outputs": [
    {
     "data": {
      "text/plain": [
       "[17, 20, 26, 31, 44, 54, 55, 77, 93]"
      ]
     },
     "execution_count": 11,
     "metadata": {},
     "output_type": "execute_result"
    }
   ],
   "source": [
    "arr"
   ]
  },
  {
   "cell_type": "code",
   "execution_count": 16,
   "metadata": {
    "collapsed": true
   },
   "outputs": [],
   "source": [
    "arr = [54, 26, 93, 17, 77, 31, 44, 55, 20]\n",
    "arr2 = [17, 26, 20]\n",
    "arr3 = [26, 20]\n",
    "def partition(arr, start, end):\n",
    "    \n",
    "    pivot_value = arr[start]\n",
    "    left = start + 1\n",
    "    right = end\n",
    "    \n",
    "    while left < right:\n",
    "        \n",
    "        \n",
    "        # left traversal\n",
    "        while arr[left] < pivot_value and left <= end:\n",
    "#             print (\"left is {}\".format(arr[left]))\n",
    "            left += 1\n",
    "        \n",
    "        while arr[right] > pivot_value:\n",
    "#             print (\"right is {}\".format(arr[right]))\n",
    "            right += -1\n",
    "        \n",
    "        print (left, right)\n",
    "        if left < right:\n",
    "            arr[left], arr[right] = arr[right], arr[left]\n",
    "        \n",
    "        break \n",
    "        \n",
    "    # swap\n",
    "    arr[start] = arr[right]\n",
    "    arr[right] = pivot_value\n",
    "    print (\"Output after partition {}\".format(arr))\n",
    "    \n",
    "    return right, arr       "
   ]
  },
  {
   "cell_type": "code",
   "execution_count": 8,
   "metadata": {},
   "outputs": [
    {
     "name": "stdout",
     "output_type": "stream",
     "text": [
      "1 0\n",
      "Output after partition [17, 26, 20]\n"
     ]
    },
    {
     "data": {
      "text/plain": [
       "(0, [17, 26, 20])"
      ]
     },
     "execution_count": 8,
     "metadata": {},
     "output_type": "execute_result"
    }
   ],
   "source": [
    "partition(arr2, 0, len(arr2) -1 )"
   ]
  },
  {
   "cell_type": "code",
   "execution_count": null,
   "metadata": {
    "scrolled": false
   },
   "outputs": [],
   "source": [
    "def quick_sort(arr, start=0, end=None):\n",
    "    if end == None:\n",
    "        end = len(arr) -1\n",
    "    print (start, end)\n",
    "    # base\n",
    "    if start == end:\n",
    "        return\n",
    "    \n",
    "    pivot, new_arr = partition(arr)\n",
    "    print (\"where is pivot {}\".format(pivot))\n",
    "    quick_sort(new_arr, start, pivot-1)\n",
    "    quick_sort(new_arr, pivot+1, end)\n",
    "    \n",
    "    return arr\n",
    "\n",
    "quick_sort(arr)"
   ]
  }
 ],
 "metadata": {
  "kernelspec": {
   "display_name": "Python 3",
   "language": "python",
   "name": "python3"
  },
  "language_info": {
   "codemirror_mode": {
    "name": "ipython",
    "version": 3
   },
   "file_extension": ".py",
   "mimetype": "text/x-python",
   "name": "python",
   "nbconvert_exporter": "python",
   "pygments_lexer": "ipython3",
   "version": "3.6.0"
  }
 },
 "nbformat": 4,
 "nbformat_minor": 2
}
