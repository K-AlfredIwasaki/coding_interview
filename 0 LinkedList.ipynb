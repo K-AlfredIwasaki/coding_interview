{
 "cells": [
  {
   "cell_type": "markdown",
   "metadata": {},
   "source": [
    "## LinkedList\n",
    "\n",
    "### Master adding and removing nodes\n",
    "- Be careful about where the pointer is after removing and adding your target node. Write a diagram to show where it is."
   ]
  },
  {
   "cell_type": "code",
   "execution_count": 208,
   "metadata": {
    "collapsed": true
   },
   "outputs": [],
   "source": [
    "from data_structure.linkedlist_simple import *\n",
    "from data_structure.stack import *"
   ]
  },
  {
   "cell_type": "code",
   "execution_count": 238,
   "metadata": {
    "scrolled": false
   },
   "outputs": [
    {
     "name": "stdout",
     "output_type": "stream",
     "text": [
      "12=>10=>11=>2=>4=>22=>45=>128\n"
     ]
    }
   ],
   "source": [
    "l = LinkedList(12)\n",
    "l.next = LinkedList(10)\n",
    "l.next.next = LinkedList(11)\n",
    "l.next.next.next = LinkedList(2)\n",
    "l.next.next.next.next = LinkedList(4)\n",
    "l.next.next.next.next.next = LinkedList(22)\n",
    "l.next.next.next.next.next.next = LinkedList(45)\n",
    "l.next.next.next.next.next.next.next = LinkedList(128)\n",
    "\n",
    "print (l)"
   ]
  },
  {
   "cell_type": "code",
   "execution_count": 8,
   "metadata": {},
   "outputs": [
    {
     "data": {
      "text/plain": [
       "-5"
      ]
     },
     "execution_count": 8,
     "metadata": {},
     "output_type": "execute_result"
    }
   ],
   "source": [
    "-12 % -7"
   ]
  },
  {
   "cell_type": "markdown",
   "metadata": {},
   "source": [
    "## Insert a node"
   ]
  },
  {
   "cell_type": "code",
   "execution_count": 239,
   "metadata": {},
   "outputs": [
    {
     "name": "stdout",
     "output_type": "stream",
     "text": [
      "12=>111=>10=>11=>2=>4=>22=>45=>128\n"
     ]
    }
   ],
   "source": [
    "temp = LinkedList(111)\n",
    "\n",
    "temp.next = l.next\n",
    "l.next = temp\n",
    "print (l)"
   ]
  },
  {
   "cell_type": "markdown",
   "metadata": {},
   "source": [
    "## Add a node to the head"
   ]
  },
  {
   "cell_type": "code",
   "execution_count": 240,
   "metadata": {
    "scrolled": true
   },
   "outputs": [
    {
     "name": "stdout",
     "output_type": "stream",
     "text": [
      "777=>12=>111=>10=>11=>2=>4=>22=>45=>128\n"
     ]
    }
   ],
   "source": [
    "temp = LinkedList(777)\n",
    "\n",
    "temp.next = l\n",
    "l = temp\n",
    "print (l)"
   ]
  },
  {
   "cell_type": "markdown",
   "metadata": {},
   "source": [
    "## Add a node to the tail"
   ]
  },
  {
   "cell_type": "code",
   "execution_count": 241,
   "metadata": {
    "scrolled": true
   },
   "outputs": [
    {
     "name": "stdout",
     "output_type": "stream",
     "text": [
      "777=>12=>111=>10=>11=>2=>4=>22=>45=>128=>999\n"
     ]
    }
   ],
   "source": [
    "temp = LinkedList(999)\n",
    "\n",
    "current = l\n",
    "while current != None:\n",
    "    if current.next == None:\n",
    "        current.next = temp\n",
    "        break\n",
    "        \n",
    "    else:\n",
    "        current = current.next\n",
    "\n",
    "print (l)"
   ]
  },
  {
   "cell_type": "code",
   "execution_count": 242,
   "metadata": {},
   "outputs": [
    {
     "name": "stdout",
     "output_type": "stream",
     "text": [
      "12=>10=>11=>2=>4=>22=>45=>128\n"
     ]
    }
   ],
   "source": [
    "l = LinkedList(12)\n",
    "l.next = LinkedList(10)\n",
    "l.next.next = LinkedList(11)\n",
    "l.next.next.next = LinkedList(2)\n",
    "l.next.next.next.next = LinkedList(4)\n",
    "l.next.next.next.next.next = LinkedList(22)\n",
    "l.next.next.next.next.next.next = LinkedList(45)\n",
    "l.next.next.next.next.next.next.next = LinkedList(128)\n",
    "\n",
    "print (l)"
   ]
  },
  {
   "cell_type": "markdown",
   "metadata": {},
   "source": [
    "## Remove a node from the tail"
   ]
  },
  {
   "cell_type": "code",
   "execution_count": 243,
   "metadata": {},
   "outputs": [
    {
     "name": "stdout",
     "output_type": "stream",
     "text": [
      "12=>10=>11=>2=>4=>22=>45\n"
     ]
    }
   ],
   "source": [
    "current = l\n",
    "while current.next != None: ## IMPORTANT\n",
    "    if current.next.next == None:\n",
    "        current.next = None\n",
    "    else:\n",
    "        current = current.next\n",
    "        \n",
    "print (l)"
   ]
  },
  {
   "cell_type": "markdown",
   "metadata": {},
   "source": [
    "## Remove a node from the head"
   ]
  },
  {
   "cell_type": "code",
   "execution_count": 244,
   "metadata": {
    "scrolled": true
   },
   "outputs": [
    {
     "name": "stdout",
     "output_type": "stream",
     "text": [
      "10=>11=>2=>4=>22=>45\n"
     ]
    },
    {
     "data": {
      "text/plain": [
       "12"
      ]
     },
     "execution_count": 244,
     "metadata": {},
     "output_type": "execute_result"
    }
   ],
   "source": [
    "temp = l\n",
    "l = l.next\n",
    "temp.next = None\n",
    "\n",
    "print (l)\n",
    "temp.content"
   ]
  },
  {
   "cell_type": "markdown",
   "metadata": {},
   "source": [
    "## Remove a node in the middle"
   ]
  },
  {
   "cell_type": "code",
   "execution_count": 245,
   "metadata": {
    "scrolled": true
   },
   "outputs": [
    {
     "name": "stdout",
     "output_type": "stream",
     "text": [
      "10=>11=>2=>4=>22=>45\n"
     ]
    }
   ],
   "source": [
    "# let's remove 2\n",
    "print (l)"
   ]
  },
  {
   "cell_type": "code",
   "execution_count": 246,
   "metadata": {},
   "outputs": [
    {
     "name": "stdout",
     "output_type": "stream",
     "text": [
      "10=>11=>4=>22=>45\n",
      "2=>4=>22=>45\n"
     ]
    }
   ],
   "source": [
    "# approach 1 -- one pointer\n",
    "current = l\n",
    "while current.next != None: # IMPORTANT current.next not current\n",
    "    if current.next.content == 2:\n",
    "        # store the target node\n",
    "        temp = current.next \n",
    "        \n",
    "        # remove the target node\n",
    "        current.next = current.next.next\n",
    "        \n",
    "        # IMPORTANT: do not update the location of the current pointer\n",
    "        # if you do, you cannot check the current.next\n",
    "        \n",
    "    else: # this is IMPORTANT\n",
    "        current = current.next\n",
    "\n",
    "print (l)\n",
    "print (temp)"
   ]
  },
  {
   "cell_type": "code",
   "execution_count": 247,
   "metadata": {},
   "outputs": [
    {
     "name": "stdout",
     "output_type": "stream",
     "text": [
      "10=>11=>4=>22=>45\n"
     ]
    }
   ],
   "source": [
    "# let's remove 4\n",
    "print (l)"
   ]
  },
  {
   "cell_type": "code",
   "execution_count": 248,
   "metadata": {},
   "outputs": [
    {
     "name": "stdout",
     "output_type": "stream",
     "text": [
      "10=>11=>22=>45\n",
      "22=>45\n",
      "11=>22=>45\n"
     ]
    }
   ],
   "source": [
    "# approach 2 -- two pointers\n",
    "fast = l\n",
    "slow = None\n",
    "while fast != None:\n",
    "    if fast.content == 4:\n",
    "        # store the target node\n",
    "        temp = fast\n",
    "        \n",
    "        # remove the target node\n",
    "        slow.next = fast.next\n",
    "        \n",
    "        # IMPORTANT: WHERE IS FAST!!!\n",
    "        fast = slow.next\n",
    "        \n",
    "        break\n",
    "    else:\n",
    "        slow = fast\n",
    "        fast = fast.next\n",
    "\n",
    "print (l)\n",
    "print (fast)\n",
    "print (slow)"
   ]
  }
 ],
 "metadata": {
  "kernelspec": {
   "display_name": "Python 3",
   "language": "python",
   "name": "python3"
  },
  "language_info": {
   "codemirror_mode": {
    "name": "ipython",
    "version": 3
   },
   "file_extension": ".py",
   "mimetype": "text/x-python",
   "name": "python",
   "nbconvert_exporter": "python",
   "pygments_lexer": "ipython3",
   "version": "3.6.0"
  }
 },
 "nbformat": 4,
 "nbformat_minor": 2
}
