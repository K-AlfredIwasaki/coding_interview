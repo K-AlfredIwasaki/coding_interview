{
 "cells": [
  {
   "cell_type": "code",
   "execution_count": 1,
   "metadata": {
    "collapsed": true
   },
   "outputs": [],
   "source": [
    "matrix = [[5, 4, 3, 9],\n",
    "         [2, 0, 7, 6],\n",
    "         [1, 3, 4, 0],\n",
    "         [9, 8, 3, 4]]"
   ]
  },
  {
   "cell_type": "code",
   "execution_count": 5,
   "metadata": {
    "collapsed": true
   },
   "outputs": [],
   "source": [
    "def make_col_row_zero(matrix):\n",
    "    ### find zeros\n",
    "    zero_rows = {}\n",
    "    zero_cols = {}\n",
    "    \n",
    "    for i in range(len(matrix)): # each row\n",
    "        for j in range(len(matrix[0])): # each col\n",
    "            if matrix[i][j] == 0:\n",
    "                if i not in zero_rows.keys():\n",
    "                    zero_rows[i] = True\n",
    "                if j not in zero_cols.keys():\n",
    "                    zero_cols[j] = True\n",
    "    \n",
    "    ### replace with zeros\n",
    "    # rows\n",
    "    \n",
    "    for i in zero_rows.keys():\n",
    "        for j in range(len(matrix[0])):\n",
    "            matrix[i][j] = 0\n",
    "            \n",
    "    # cols\n",
    "    for j in zero_cols.keys():\n",
    "        for i in range(len(matrix)):\n",
    "            matrix[i][j] = 0\n",
    "            \n",
    "    return matrix"
   ]
  },
  {
   "cell_type": "code",
   "execution_count": 6,
   "metadata": {},
   "outputs": [
    {
     "data": {
      "text/plain": [
       "[[5, 0, 3, 0], [0, 0, 0, 0], [0, 0, 0, 0], [9, 0, 3, 0]]"
      ]
     },
     "execution_count": 6,
     "metadata": {},
     "output_type": "execute_result"
    }
   ],
   "source": [
    "make_col_row_zero(matrix)"
   ]
  }
 ],
 "metadata": {
  "kernelspec": {
   "display_name": "Python 3",
   "language": "python",
   "name": "python3"
  },
  "language_info": {
   "codemirror_mode": {
    "name": "ipython",
    "version": 3
   },
   "file_extension": ".py",
   "mimetype": "text/x-python",
   "name": "python",
   "nbconvert_exporter": "python",
   "pygments_lexer": "ipython3",
   "version": "3.6.0"
  }
 },
 "nbformat": 4,
 "nbformat_minor": 2
}
