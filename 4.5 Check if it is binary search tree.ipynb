{
 "cells": [
  {
   "cell_type": "code",
   "execution_count": 6,
   "metadata": {
    "collapsed": true
   },
   "outputs": [],
   "source": [
    "import random\n",
    "\n",
    "class BinaryTree:\n",
    "    def __init__(self, content):\n",
    "        self.content = content\n",
    "        self.left = None\n",
    "        self.right = None\n",
    "        \n",
    "        self.depth = -1\n",
    "        \n",
    "    def __str__(self):\n",
    "        return \"(\" + str(self.content) + \" ( \" + str(self.left) + \" | \"  \\\n",
    "    + str(self.right) + \"))\""
   ]
  },
  {
   "cell_type": "code",
   "execution_count": 7,
   "metadata": {
    "collapsed": true,
    "scrolled": true
   },
   "outputs": [],
   "source": [
    "b = BinaryTree(20)\n",
    "b.left = BinaryTree(8)\n",
    "b.left.left = BinaryTree(6)\n",
    "b.left.left.left = BinaryTree(2)\n",
    "b.left.left.right = BinaryTree(7)\n",
    "b.left.right = BinaryTree(10)\n",
    "b.right = BinaryTree(22)\n",
    "b.right.left = BinaryTree(15)\n",
    "b.right.right = BinaryTree(30)"
   ]
  },
  {
   "cell_type": "code",
   "execution_count": 8,
   "metadata": {
    "scrolled": true
   },
   "outputs": [
    {
     "name": "stdout",
     "output_type": "stream",
     "text": [
      "(20 ( (8 ( (6 ( (2 ( None | None)) | (7 ( None | None)))) | (10 ( None | None)))) | (22 ( (15 ( None | None)) | (30 ( None | None))))))\n"
     ]
    }
   ],
   "source": [
    "print (b)"
   ]
  },
  {
   "cell_type": "code",
   "execution_count": 29,
   "metadata": {
    "collapsed": true
   },
   "outputs": [],
   "source": [
    "# solution 1: in-order traversal\n",
    "def inorder(tree):\n",
    "    if tree == None:\n",
    "        return []\n",
    "    return inorder(tree.left) + [tree.content] + inorder(tree.right)\n",
    "\n",
    "def validateBsearchTree(tree):\n",
    "    l = inorder(tree)\n",
    "    return sorted(l) == l"
   ]
  },
  {
   "cell_type": "code",
   "execution_count": 30,
   "metadata": {},
   "outputs": [
    {
     "data": {
      "text/plain": [
       "[2, 6, 7, 8, 10, 20, 15, 22, 30]"
      ]
     },
     "execution_count": 30,
     "metadata": {},
     "output_type": "execute_result"
    }
   ],
   "source": [
    "inorder(b)"
   ]
  },
  {
   "cell_type": "code",
   "execution_count": 10,
   "metadata": {
    "scrolled": false
   },
   "outputs": [
    {
     "data": {
      "text/plain": [
       "False"
      ]
     },
     "execution_count": 10,
     "metadata": {},
     "output_type": "execute_result"
    }
   ],
   "source": [
    "validateBsearchTree(b)"
   ]
  },
  {
   "cell_type": "code",
   "execution_count": 22,
   "metadata": {},
   "outputs": [],
   "source": [
    "# solution 2: min-max range\n",
    "def validateBsearchTree2(tree, minVal = None, maxVal = None):\n",
    "    # base\n",
    "    if tree == None:\n",
    "        return True\n",
    "    \n",
    "    if (minVal != None and tree.content <= minVal) or\\\n",
    "        (maxVal != None and tree.content >= maxVal):\n",
    "        return False\n",
    "    \n",
    "    left = validateBsearchTree2(tree.left, minVal, tree.content)\n",
    "    right = validateBsearchTree2(tree.right, tree.content, maxVal)\n",
    "    if (left == False) or (right == False):\n",
    "        return False\n",
    "    \n",
    "    return True"
   ]
  },
  {
   "cell_type": "code",
   "execution_count": 23,
   "metadata": {
    "scrolled": true
   },
   "outputs": [
    {
     "data": {
      "text/plain": [
       "False"
      ]
     },
     "execution_count": 23,
     "metadata": {},
     "output_type": "execute_result"
    }
   ],
   "source": [
    "validateBsearchTree2(b)"
   ]
  }
 ],
 "metadata": {
  "kernelspec": {
   "display_name": "Python 3",
   "language": "python",
   "name": "python3"
  },
  "language_info": {
   "codemirror_mode": {
    "name": "ipython",
    "version": 3
   },
   "file_extension": ".py",
   "mimetype": "text/x-python",
   "name": "python",
   "nbconvert_exporter": "python",
   "pygments_lexer": "ipython3",
   "version": "3.6.0"
  }
 },
 "nbformat": 4,
 "nbformat_minor": 2
}
