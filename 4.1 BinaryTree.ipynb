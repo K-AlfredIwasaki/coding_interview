{
 "cells": [
  {
   "cell_type": "code",
   "execution_count": 4,
   "metadata": {
    "collapsed": true
   },
   "outputs": [],
   "source": [
    "import random\n",
    "\n",
    "class BinaryTree:\n",
    "    def __init__(self, content):\n",
    "        self.content = content\n",
    "        self.left = None\n",
    "        self.right = None\n",
    "        \n",
    "        self.depth = -1\n",
    "        \n",
    "    def __str__(self):\n",
    "        return \"(\" + str(self.content) + \" ( \" + str(self.left) + \" | \"  \\\n",
    "    + str(self.right) + \"))\""
   ]
  },
  {
   "cell_type": "code",
   "execution_count": 5,
   "metadata": {
    "collapsed": true
   },
   "outputs": [],
   "source": [
    "# O(n^2) naive algorithm\n",
    "# depth is called repeatedly on the same nodes\n",
    "\n",
    "def is_balanced_binary_tree(btree):\n",
    "    if btree is None:\n",
    "        return True\n",
    "    \n",
    "    # check all the nodes in a tree\n",
    "    return (abs(depth(btree.left) - depth(btree.right)) <= 1 and \\\n",
    "           is_balanced_binary_tree(btree.left) and \\\n",
    "            is_balanced_binary_tree(btree.right))\n",
    "\n",
    "def depth(btree):\n",
    "    if btree is None:\n",
    "        return 0\n",
    "    else:\n",
    "        if btree.depth != -1:\n",
    "            return btree.depth\n",
    "        else:\n",
    "            btree.depth = 1 + max(depth(btree.left), depth(btree.right))\n",
    "            return btree.depth"
   ]
  },
  {
   "cell_type": "code",
   "execution_count": 6,
   "metadata": {
    "collapsed": true
   },
   "outputs": [],
   "source": [
    "# efficient algorithm, get heights of subtrees and \n",
    "# check subtrees if balanced at the same time\n",
    "\n",
    "def is_balanced_binary_tree2(btree):\n",
    "    return checkBalance(btree)[0]\n",
    "\n",
    "def checkBalance(btree):\n",
    "    # base case\n",
    "    if btree == None:\n",
    "        return True, 0\n",
    "    \n",
    "    # general relationship\n",
    "    left_balanced, left_depth = checkBalance(btree.left)\n",
    "    right_balanced, right_depth = checkBalance(btree.right)\n",
    "    \n",
    "    balanced = (abs(left_depth - right_depth) <= 1) and\\\n",
    "        left_balanced and right_balanced\n",
    "    btree.depth = 1 + max(left_depth, right_depth)\n",
    "    \n",
    "    return balanced, btree.depth"
   ]
  },
  {
   "cell_type": "code",
   "execution_count": 7,
   "metadata": {},
   "outputs": [
    {
     "name": "stdout",
     "output_type": "stream",
     "text": [
      "(69 ( None | None))\n",
      "(14 ( None | None))\n",
      "(51 ( None | None))\n",
      "(82 ( None | None))\n",
      "(9 ( None | None))\n",
      "(21 ( None | None))\n"
     ]
    }
   ],
   "source": [
    "# test case1\n",
    "\n",
    "bt = BinaryTree(random.randint(0, 100))\n",
    "print (bt)\n",
    "for c1 in range(0, 5):\n",
    "    bt2 = BinaryTree(random.randint(0, 100))\n",
    "    print(bt2)\n",
    "    bt2.left = bt\n",
    "    bt = bt2"
   ]
  },
  {
   "cell_type": "code",
   "execution_count": 8,
   "metadata": {},
   "outputs": [
    {
     "data": {
      "text/plain": [
       "False"
      ]
     },
     "execution_count": 8,
     "metadata": {},
     "output_type": "execute_result"
    }
   ],
   "source": [
    "is_balanced_binary_tree(bt)"
   ]
  },
  {
   "cell_type": "code",
   "execution_count": 10,
   "metadata": {},
   "outputs": [
    {
     "name": "stdout",
     "output_type": "stream",
     "text": [
      "(50 ( (14 ( (79 ( None | None)) | (66 ( None | None)))) | (87 ( (97 ( None | None)) | (99 ( None | None))))))\n"
     ]
    }
   ],
   "source": [
    "# test case2\n",
    "\n",
    "def make_random_balanced_tree(depth):\n",
    "    if depth > 0:\n",
    "        tree = BinaryTree(random.randint(0, 100))\n",
    "        tree.left = make_random_balanced_tree(depth - 1)\n",
    "        tree.right = make_random_balanced_tree(depth - 1)\n",
    "        return tree\n",
    "    else:\n",
    "        return None\n",
    "    \n",
    "balanced_tree = make_random_balanced_tree(3)\n",
    "print (balanced_tree)"
   ]
  }
 ],
 "metadata": {
  "kernelspec": {
   "display_name": "Python 3",
   "language": "python",
   "name": "python3"
  },
  "language_info": {
   "codemirror_mode": {
    "name": "ipython",
    "version": 3
   },
   "file_extension": ".py",
   "mimetype": "text/x-python",
   "name": "python",
   "nbconvert_exporter": "python",
   "pygments_lexer": "ipython3",
   "version": "3.6.0"
  }
 },
 "nbformat": 4,
 "nbformat_minor": 2
}
