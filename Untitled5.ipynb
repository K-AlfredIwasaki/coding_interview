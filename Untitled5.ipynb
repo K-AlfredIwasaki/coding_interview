{
 "cells": [
  {
   "cell_type": "code",
   "execution_count": null,
   "metadata": {
    "collapsed": true
   },
   "outputs": [],
   "source": [
    "def find_median(ptr):\n",
    "    if ptr.next = ptr:\n",
    "        return ptr\n",
    "    \n",
    "    # find the starting point in the circle\n",
    "    fast = ptr.next\n",
    "    slow = ptr\n",
    "    find = False\n",
    "    while not find:\n",
    "        if fast.val < slow.val:\n",
    "            find = True\n",
    "            continue\n",
    "        \n",
    "        fast = fast.next\n",
    "        slow = slow.next\n",
    "    \n",
    "    # move fast untile it meets slow\n",
    "    length = 1\n",
    "    meet = False\n",
    "    while not meet:\n",
    "        if fast == slow:\n",
    "            meet = True\n",
    "            continue\n",
    "        \n",
    "        fast = fast.next\n",
    "        length += 1\n",
    "    \n",
    "    half = length // 2\n",
    "    fast = fast.next\n",
    "    if length % 2 == 0:\n",
    "        while half != 0:\n",
    "            fast = fast.next\n",
    "            slow = slow.next\n",
    "            half -= 1\n",
    "        \n",
    "        result = (fast.val + slow.val) / 2\n",
    "        \n",
    "    \n",
    "    else:\n",
    "        while half != 0:\n",
    "            fast = fast.next\n",
    "            half -= 1\n",
    "            \n",
    "        result = fast.val\n",
    "            \n",
    "    \n",
    "    return result\n",
    "                \n",
    "    "
   ]
  }
 ],
 "metadata": {
  "kernelspec": {
   "display_name": "Python 3",
   "language": "python",
   "name": "python3"
  },
  "language_info": {
   "codemirror_mode": {
    "name": "ipython",
    "version": 3
   },
   "file_extension": ".py",
   "mimetype": "text/x-python",
   "name": "python",
   "nbconvert_exporter": "python",
   "pygments_lexer": "ipython3",
   "version": "3.6.0"
  }
 },
 "nbformat": 4,
 "nbformat_minor": 2
}
