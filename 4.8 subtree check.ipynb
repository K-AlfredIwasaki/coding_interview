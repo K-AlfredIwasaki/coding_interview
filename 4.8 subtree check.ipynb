{
 "cells": [
  {
   "cell_type": "markdown",
   "metadata": {},
   "source": [
    "\"\"\"\n",
    "You have two very large binary trees: T1, with millions of nodes, \n",
    "and T2, with hundreds of nodes.\n",
    "Create an algorithm to decide if T2 is a subtree of T1\n",
    "\"\"\""
   ]
  },
  {
   "cell_type": "code",
   "execution_count": 22,
   "metadata": {},
   "outputs": [
    {
     "name": "stdout",
     "output_type": "stream",
     "text": [
      "(20 ( (8 ( (6 ( (2 ( None | None)) | (7 ( None | None)))) | (10 ( None | None)))) | (22 ( (15 ( None | None)) | (30 ( None | None))))))\n"
     ]
    }
   ],
   "source": [
    "class BinaryTree:\n",
    "    def __init__(self, content):\n",
    "        self.content = content\n",
    "        self.left = None\n",
    "        self.right = None\n",
    "        \n",
    "        self.depth = -1\n",
    "        \n",
    "    def __str__(self):\n",
    "        return \"(\" + str(self.content) + \" ( \" + str(self.left) + \" | \"  \\\n",
    "    + str(self.right) + \"))\"\n",
    "    \n",
    "b = BinaryTree(20)\n",
    "b.left = BinaryTree(8)\n",
    "b.left.left = BinaryTree(6)\n",
    "b.left.left.left = BinaryTree(2)\n",
    "b.left.left.right = BinaryTree(7)\n",
    "b.left.right = BinaryTree(10)\n",
    "b.right = BinaryTree(22)\n",
    "b.right.left = BinaryTree(15)\n",
    "b.right.right = BinaryTree(30)\n",
    "\n",
    "print(b)"
   ]
  },
  {
   "cell_type": "code",
   "execution_count": 48,
   "metadata": {
    "collapsed": true
   },
   "outputs": [],
   "source": [
    "# ---------- solution1 --------------------------------\n",
    "## use in-order search and pre-order search\n",
    "## make sure to mark null values\n",
    "\n",
    "\n",
    "def inOrderTraversal(node, returnlist = []):\n",
    "    if node == None:\n",
    "        return returnlist.append(\"0\")\n",
    "    \n",
    "    inOrderTraversal(node.left)\n",
    "    returnlist.append(str(node.content))\n",
    "    inOrderTraversal(node.right)\n",
    "\n",
    "    return \"\".join(returnlist)\n",
    "\n",
    "def preOrderTraversal(node, returnlist = []):\n",
    "    if node == None:\n",
    "        return returnlist.append(\"0\")\n",
    "    \n",
    "    returnlist.append(str(node.content))\n",
    "    preOrderTraversal(node.left)\n",
    "    preOrderTraversal(node.right)\n",
    "\n",
    "    return \"\".join(returnlist)\n",
    "\n",
    "def subtreeCheck(node1, node2):\n",
    "    check1 = inOrderTraversal(node2) in inOrderTraversal(node1)\n",
    "    check2 = preOrderTraversal(node2) in preOrderTraversal(node1)\n",
    "    \n",
    "    return check1 and check2"
   ]
  },
  {
   "cell_type": "code",
   "execution_count": 36,
   "metadata": {},
   "outputs": [
    {
     "data": {
      "text/plain": [
       "True"
      ]
     },
     "execution_count": 36,
     "metadata": {},
     "output_type": "execute_result"
    }
   ],
   "source": [
    "subtreeCheck(b, b.left)"
   ]
  },
  {
   "cell_type": "code",
   "execution_count": 45,
   "metadata": {
    "collapsed": true
   },
   "outputs": [],
   "source": [
    "# ---------- solution2 --------------------------------\n",
    "# t1 is a big tree, t2 is a small tree\n",
    "def containsTree(t1, t2):\n",
    "    if t1 == None or t2 == None:\n",
    "        return False\n",
    "    return is_subtree_of(t1, t2)\n",
    "\n",
    "def is_subtree_of(t1,t2):\n",
    "    if t1.content == t2.content:\n",
    "        return matchTree(t1, t2)\n",
    "    \n",
    "    return is_subtree_of(t1.left, t2) or is_subtree_of(t1.right, t2)\n",
    "    \n",
    "def matchTree(t1, t2):\n",
    "    # three base cases:\n",
    "    # both none\n",
    "    if t1 == None and t2 == None:\n",
    "        return True\n",
    "    \n",
    "    # either is empty\n",
    "    if t1 == None or t2 == None:\n",
    "        return False\n",
    "    \n",
    "    # don't match\n",
    "    if t1.content != t2.content:\n",
    "        return False\n",
    "    \n",
    "    # recurse both left \"and\" right\n",
    "    return (matchTree(t1.left, t2.left)) and (matchTree(t1.right, t2.right))"
   ]
  },
  {
   "cell_type": "code",
   "execution_count": 47,
   "metadata": {},
   "outputs": [
    {
     "data": {
      "text/plain": [
       "True"
      ]
     },
     "execution_count": 47,
     "metadata": {},
     "output_type": "execute_result"
    }
   ],
   "source": [
    "containsTree(b, b.left)"
   ]
  }
 ],
 "metadata": {
  "kernelspec": {
   "display_name": "Python 3",
   "language": "python",
   "name": "python3"
  },
  "language_info": {
   "codemirror_mode": {
    "name": "ipython",
    "version": 3
   },
   "file_extension": ".py",
   "mimetype": "text/x-python",
   "name": "python",
   "nbconvert_exporter": "python",
   "pygments_lexer": "ipython3",
   "version": "3.6.0"
  }
 },
 "nbformat": 4,
 "nbformat_minor": 2
}
