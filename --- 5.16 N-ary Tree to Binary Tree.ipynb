{
 "cells": [
  {
   "cell_type": "code",
   "execution_count": 13,
   "metadata": {
    "collapsed": true
   },
   "outputs": [],
   "source": [
    "d = {123: True, 124: True, 125: True}"
   ]
  },
  {
   "cell_type": "code",
   "execution_count": 14,
   "metadata": {},
   "outputs": [
    {
     "data": {
      "text/plain": [
       "3"
      ]
     },
     "execution_count": 14,
     "metadata": {},
     "output_type": "execute_result"
    }
   ],
   "source": [
    "len(d)"
   ]
  },
  {
   "cell_type": "code",
   "execution_count": 15,
   "metadata": {
    "collapsed": true
   },
   "outputs": [],
   "source": [
    "class N_ary():\n",
    "    \n",
    "    def __init__(self, node):\n",
    "        self.id = node\n",
    "        self.child = {} # id : node\n",
    "        \n",
    "    def __str__(self):\n",
    "        children = \",\".join(str(i) for i in self.child.keys())\n",
    "        return (\"id: {} and child(ren): {}\".format(self.id, children))\n",
    "        \n",
    "    def __iter__(self):\n",
    "        return iter(self.child.values())\n",
    "        \n",
    "    def get_child(self, node):\n",
    "        return self.child[node]\n",
    "    \n",
    "    def has_child(self):\n",
    "        return len(self.child) > 0\n",
    "    \n",
    "#     def add_child(self, node):\n",
    "#         self.child[node] = N_ary(node)"
   ]
  },
  {
   "cell_type": "code",
   "execution_count": 24,
   "metadata": {
    "collapsed": true
   },
   "outputs": [],
   "source": [
    "n = N_ary(1)\n",
    "n.child[2] = N_ary(2)\n",
    "n.child[3] = N_ary(3)\n",
    "n.child[4] = N_ary(4)\n",
    "\n",
    "n.get_child(3).child[5] = N_ary(5)\n",
    "n.get_child(3).child[6] = N_ary(6)"
   ]
  },
  {
   "cell_type": "code",
   "execution_count": null,
   "metadata": {
    "collapsed": true
   },
   "outputs": [],
   "source": []
  },
  {
   "cell_type": "code",
   "execution_count": 19,
   "metadata": {
    "collapsed": true
   },
   "outputs": [],
   "source": [
    "class BinaryTree:\n",
    "    def __init__(self, content, left=None, right=None):\n",
    "        self.content = content\n",
    "        self.left = left\n",
    "        self.right = right\n",
    "        \n",
    "        self.depth = -1\n",
    "        \n",
    "    def __str__(self):\n",
    "        return \"(\" + str(self.content) + \" ( \" + str(self.left) + \" | \"  \\\n",
    "    + str(self.right) + \"))\""
   ]
  },
  {
   "cell_type": "code",
   "execution_count": 73,
   "metadata": {
    "collapsed": true
   },
   "outputs": [],
   "source": [
    "def n_ary_to_btree(root, left_extention = True):\n",
    "    # base\n",
    "    if root == None:\n",
    "        return\n",
    "    \n",
    "    # pre-order\n",
    "    b = BinaryTree(root.id)\n",
    "    lastnode = b\n",
    "    # get children\n",
    "    print(\"current root is {}\".format(root))\n",
    "    \n",
    "    if not root.has_child:\n",
    "        return b\n",
    "    \n",
    "    for child in root.child.keys():\n",
    "        \n",
    "        if left_extention:\n",
    "            print (\"------ extending left --------------------------------\")\n",
    "            \n",
    "            current = root.get_child(child)\n",
    "            print(\"current child is {}\".format(current))\n",
    "            \n",
    "            if current.has_child:\n",
    "                lastnode.left = n_ary_to_btree(current, False)\n",
    "                lastnode = lastnode.left\n",
    "            else:\n",
    "                lastnode.left = BinaryTree(child)\n",
    "                lastnode = lastnode.left\n",
    "        else:\n",
    "            print (\"------ extending right --------------------------------\")\n",
    "            \n",
    "            current = root.get_child(child)\n",
    "            print(\"current child is {}\".format(current))\n",
    "            if current.has_child:\n",
    "                lastnode.right = n_ary_to_btree(current, True)\n",
    "                lastnode = lastnode.right\n",
    "            else:\n",
    "                lastnode.right = BinaryTree(child)\n",
    "                lastnode = lastnode.right\n",
    "                \n",
    "    return b"
   ]
  },
  {
   "cell_type": "code",
   "execution_count": 74,
   "metadata": {
    "scrolled": false
   },
   "outputs": [
    {
     "name": "stdout",
     "output_type": "stream",
     "text": [
      "current root is id: 1 and child(ren): 2,3,4\n",
      "------ extending left --------------------------------\n",
      "current child is id: 2 and child(ren): \n",
      "current root is id: 2 and child(ren): \n",
      "------ extending left --------------------------------\n",
      "current child is id: 3 and child(ren): 5,6\n",
      "current root is id: 3 and child(ren): 5,6\n",
      "------ extending right --------------------------------\n",
      "current child is id: 5 and child(ren): \n",
      "current root is id: 5 and child(ren): \n",
      "------ extending right --------------------------------\n",
      "current child is id: 6 and child(ren): \n",
      "current root is id: 6 and child(ren): \n",
      "------ extending left --------------------------------\n",
      "current child is id: 4 and child(ren): \n",
      "current root is id: 4 and child(ren): \n"
     ]
    }
   ],
   "source": [
    "btree = n_ary_to_btree(n)"
   ]
  },
  {
   "cell_type": "code",
   "execution_count": 75,
   "metadata": {},
   "outputs": [
    {
     "name": "stdout",
     "output_type": "stream",
     "text": [
      "(1 ( (2 ( (3 ( (4 ( None | None)) | (5 ( None | (6 ( None | None)))))) | None)) | None))\n"
     ]
    }
   ],
   "source": [
    "print (btree)"
   ]
  },
  {
   "cell_type": "code",
   "execution_count": null,
   "metadata": {
    "collapsed": true
   },
   "outputs": [],
   "source": []
  }
 ],
 "metadata": {
  "kernelspec": {
   "display_name": "Python 3",
   "language": "python",
   "name": "python3"
  },
  "language_info": {
   "codemirror_mode": {
    "name": "ipython",
    "version": 3
   },
   "file_extension": ".py",
   "mimetype": "text/x-python",
   "name": "python",
   "nbconvert_exporter": "python",
   "pygments_lexer": "ipython3",
   "version": "3.6.0"
  }
 },
 "nbformat": 4,
 "nbformat_minor": 2
}
