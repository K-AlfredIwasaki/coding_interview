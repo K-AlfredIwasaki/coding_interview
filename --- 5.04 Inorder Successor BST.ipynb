{
 "cells": [
  {
   "cell_type": "code",
   "execution_count": 1,
   "metadata": {
    "collapsed": true
   },
   "outputs": [],
   "source": [
    "from data_structure.binary_tree import *\n",
    "\n",
    "b = BinaryTree(100)\n",
    "b.left = BinaryTree(50)\n",
    "b.left.left = BinaryTree(25)\n",
    "b.left.right = BinaryTree(75)\n",
    "b.left.left.right = BinaryTree(35)\n",
    "b.right = BinaryTree(200)"
   ]
  },
  {
   "cell_type": "code",
   "execution_count": 24,
   "metadata": {
    "collapsed": true
   },
   "outputs": [],
   "source": [
    "from collections import deque"
   ]
  },
  {
   "cell_type": "code",
   "execution_count": 27,
   "metadata": {},
   "outputs": [],
   "source": [
    "def in_order_successor(root, target):\n",
    "    \n",
    "    stack = deque()\n",
    "    found = False\n",
    "    \n",
    "    while root != None or len(stack) > 0:\n",
    "        if root != None:\n",
    "            stack.append(root)\n",
    "            root = root.left\n",
    "            continue\n",
    "        \n",
    "        root = stack[-1].right\n",
    "        if found:\n",
    "            print (stack[-1].content)\n",
    "            break\n",
    "    \n",
    "        if stack[-1].content == target:\n",
    "            found = True\n",
    "        \n",
    "        stack.pop()\n",
    "    "
   ]
  },
  {
   "cell_type": "code",
   "execution_count": 29,
   "metadata": {},
   "outputs": [
    {
     "name": "stdout",
     "output_type": "stream",
     "text": [
      "75\n"
     ]
    }
   ],
   "source": [
    "in_order_successor(b, 50)"
   ]
  },
  {
   "cell_type": "code",
   "execution_count": 33,
   "metadata": {
    "collapsed": true
   },
   "outputs": [],
   "source": [
    "def find_min(root):\n",
    "    if root == None:\n",
    "        return None\n",
    "    \n",
    "    while root.left != None:\n",
    "        root = root.left\n",
    "        \n",
    "    return root.content"
   ]
  },
  {
   "cell_type": "code",
   "execution_count": 34,
   "metadata": {
    "collapsed": true
   },
   "outputs": [],
   "source": [
    "def inorder_successor_bst(root, target):\n",
    "    if root == None:\n",
    "        return None\n",
    "    \n",
    "    successor = None\n",
    "    \n",
    "    while root != None:\n",
    "        if root.content > target:\n",
    "            successor = root.content ######################### Important\n",
    "            root = root.left\n",
    "            \n",
    "        elif root.content < target:\n",
    "            root = root.right\n",
    "        \n",
    "        else: ### find it\n",
    "            if root.right != None:\n",
    "                successor = find_min(root.right)\n",
    "            break\n",
    "        \n",
    "    return successor"
   ]
  },
  {
   "cell_type": "code",
   "execution_count": 35,
   "metadata": {},
   "outputs": [
    {
     "data": {
      "text/plain": [
       "75"
      ]
     },
     "execution_count": 35,
     "metadata": {},
     "output_type": "execute_result"
    }
   ],
   "source": [
    "inorder_successor_bst(b, 50)"
   ]
  }
 ],
 "metadata": {
  "kernelspec": {
   "display_name": "Python 3",
   "language": "python",
   "name": "python3"
  },
  "language_info": {
   "codemirror_mode": {
    "name": "ipython",
    "version": 3
   },
   "file_extension": ".py",
   "mimetype": "text/x-python",
   "name": "python",
   "nbconvert_exporter": "python",
   "pygments_lexer": "ipython3",
   "version": "3.6.0"
  }
 },
 "nbformat": 4,
 "nbformat_minor": 2
}
