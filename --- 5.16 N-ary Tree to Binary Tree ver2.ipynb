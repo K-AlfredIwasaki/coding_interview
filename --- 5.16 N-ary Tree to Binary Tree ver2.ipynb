{
 "cells": [
  {
   "cell_type": "code",
   "execution_count": 92,
   "metadata": {
    "collapsed": true
   },
   "outputs": [],
   "source": [
    "class N_ary():\n",
    "    \n",
    "    def __init__(self, node):\n",
    "        self.id = node\n",
    "        self.child = {} # id : node\n",
    "        \n",
    "    def __str__(self):\n",
    "        children = \",\".join(str(i) for i in self.child.keys())\n",
    "        return (\"id: {} and child(ren): {}\".format(self.id, children))\n",
    "        \n",
    "    def __iter__(self):\n",
    "        return iter(self.child.values())\n",
    "        \n",
    "    def get_child(self, node):\n",
    "        return self.child[node]\n",
    "    \n",
    "    def has_child(self):\n",
    "        return len(self.child) > 0\n",
    "    \n",
    "#     def add_child(self, node):\n",
    "#         self.child[node] = N_ary(node)"
   ]
  },
  {
   "cell_type": "code",
   "execution_count": 93,
   "metadata": {
    "collapsed": true
   },
   "outputs": [],
   "source": [
    "class BinaryTree:\n",
    "    def __init__(self, content, left=None, right=None):\n",
    "        self.content = content\n",
    "        self.left = left\n",
    "        self.right = right\n",
    "        \n",
    "        self.depth = -1\n",
    "        \n",
    "    def __str__(self):\n",
    "        return \"(\" + str(self.content) + \" ( \" + str(self.left) + \" | \"  \\\n",
    "    + str(self.right) + \"))\""
   ]
  },
  {
   "cell_type": "code",
   "execution_count": 94,
   "metadata": {
    "collapsed": true
   },
   "outputs": [],
   "source": [
    "n = N_ary(1)\n",
    "n.child[2] = N_ary(2)\n",
    "n.child[3] = N_ary(3)\n",
    "n.child[4] = N_ary(4)\n",
    "n.get_child(3).child[5] = N_ary(5)\n",
    "n.get_child(3).child[6] = N_ary(6)"
   ]
  },
  {
   "cell_type": "code",
   "execution_count": 122,
   "metadata": {
    "collapsed": true
   },
   "outputs": [],
   "source": [
    "def n_ary_to_btree(n_ary):\n",
    "    \n",
    "    return n_ary_to_btree_rec(n_ary)\n",
    "def n_ary_to_btree_rec(n_ary, left = True):\n",
    "    # base\n",
    "    if n_ary == None:\n",
    "        return\n",
    "    \n",
    "    b = BinaryTree(n_ary.id)\n",
    "    lastnode = b                  ##################IMPORTANT traverse tree\n",
    "    \n",
    "    # recursion\n",
    "    if left:\n",
    "        for child in n_ary.child.values():\n",
    "            lastnode.left = n_ary_to_btree_rec(child, False)\n",
    "            lastnode = lastnode.left\n",
    "            \n",
    "    else:\n",
    "        for child in n_ary.child.values():\n",
    "            lastnode.right = n_ary_to_btree_rec(child, True)\n",
    "            lastnode = lastnode.right\n",
    "    \n",
    "    return b"
   ]
  },
  {
   "cell_type": "code",
   "execution_count": 123,
   "metadata": {
    "scrolled": true
   },
   "outputs": [
    {
     "name": "stdout",
     "output_type": "stream",
     "text": [
      "(1 ( (2 ( (3 ( (4 ( None | None)) | (5 ( None | (6 ( None | None)))))) | None)) | None))\n"
     ]
    }
   ],
   "source": [
    "b = n_ary_to_btree(n)\n",
    "print (b)"
   ]
  },
  {
   "cell_type": "code",
   "execution_count": 117,
   "metadata": {},
   "outputs": [],
   "source": [
    "def btree_to_n_ary(root):\n",
    "    \n",
    "    return btree_to_n_ary_rec(root)\n",
    "\n",
    "def btree_to_n_ary_rec(root, left = True):\n",
    "    # base\n",
    "    if root == None:\n",
    "        left = True if left == False else False\n",
    "        return\n",
    "    \n",
    "    n_ary = N_ary(root.content)\n",
    "    temp = root                       ################# IMPORTANT traverse Tree\n",
    "    \n",
    "\n",
    "    # recursion\n",
    "    if left:\n",
    "        while temp.left != None:\n",
    "            c = btree_to_n_ary_rec(temp.left, False)\n",
    "            n_ary.child[c.id] = c\n",
    "            temp = temp.left\n",
    "    \n",
    "    else:\n",
    "        while temp.right != None:\n",
    "            c = btree_to_n_ary_rec(temp.right, True)\n",
    "            n_ary.child[c.id] = c\n",
    "            temp = temp.right\n",
    "\n",
    "    return n_ary"
   ]
  },
  {
   "cell_type": "code",
   "execution_count": 118,
   "metadata": {},
   "outputs": [],
   "source": [
    "n_ary_out =  btree_to_n_ary(b)"
   ]
  },
  {
   "cell_type": "code",
   "execution_count": 119,
   "metadata": {},
   "outputs": [
    {
     "data": {
      "text/plain": [
       "1"
      ]
     },
     "execution_count": 119,
     "metadata": {},
     "output_type": "execute_result"
    }
   ],
   "source": [
    "n_ary_out.id"
   ]
  },
  {
   "cell_type": "code",
   "execution_count": 120,
   "metadata": {
    "scrolled": false
   },
   "outputs": [
    {
     "data": {
      "text/plain": [
       "{2: <__main__.N_ary at 0x18499d24080>,\n",
       " 3: <__main__.N_ary at 0x18499d24ef0>,\n",
       " 4: <__main__.N_ary at 0x18499d24c18>}"
      ]
     },
     "execution_count": 120,
     "metadata": {},
     "output_type": "execute_result"
    }
   ],
   "source": [
    "n_ary_out.child"
   ]
  },
  {
   "cell_type": "code",
   "execution_count": 121,
   "metadata": {},
   "outputs": [
    {
     "data": {
      "text/plain": [
       "{5: <__main__.N_ary at 0x18499d24be0>, 6: <__main__.N_ary at 0x18499d24da0>}"
      ]
     },
     "execution_count": 121,
     "metadata": {},
     "output_type": "execute_result"
    }
   ],
   "source": [
    "n_ary_out.child[3].child"
   ]
  }
 ],
 "metadata": {
  "kernelspec": {
   "display_name": "Python 3",
   "language": "python",
   "name": "python3"
  },
  "language_info": {
   "codemirror_mode": {
    "name": "ipython",
    "version": 3
   },
   "file_extension": ".py",
   "mimetype": "text/x-python",
   "name": "python",
   "nbconvert_exporter": "python",
   "pygments_lexer": "ipython3",
   "version": "3.6.0"
  }
 },
 "nbformat": 4,
 "nbformat_minor": 2
}
