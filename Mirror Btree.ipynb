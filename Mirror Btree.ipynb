{
 "cells": [
  {
   "cell_type": "markdown",
   "metadata": {},
   "source": [
    "## Problem\n",
    "Given the root node of a binary tree, swap the 'left' and 'right' children for each node."
   ]
  },
  {
   "cell_type": "code",
   "execution_count": 94,
   "metadata": {
    "collapsed": true
   },
   "outputs": [],
   "source": [
    "from data_structure.binary_tree import *\n",
    "b = BinaryTree(100)\n",
    "b.left = BinaryTree(50)\n",
    "b.left.left = BinaryTree(25)\n",
    "b.left.right = BinaryTree(75)\n",
    "b.right = BinaryTree(200)\n",
    "b.right.right = BinaryTree(350)"
   ]
  },
  {
   "cell_type": "code",
   "execution_count": 95,
   "metadata": {},
   "outputs": [
    {
     "name": "stdout",
     "output_type": "stream",
     "text": [
      "100\n",
      "50\n",
      "25\n",
      "75\n",
      "200\n",
      "350\n"
     ]
    }
   ],
   "source": [
    "def pre_order(btree):\n",
    "    if btree == None:\n",
    "        return\n",
    "    \n",
    "    print (btree.content)\n",
    "    pre_order(btree.left)\n",
    "    pre_order(btree.right)\n",
    "    \n",
    "pre_order(b)"
   ]
  },
  {
   "cell_type": "code",
   "execution_count": 85,
   "metadata": {},
   "outputs": [],
   "source": [
    "def reverse_btree(btree, r_btree=None, track = 1):\n",
    "    print (\"{} loop\".format(track))\n",
    "    # base\n",
    "    if r_btree == None:\n",
    "        r_btree = BinaryTree(btree.content)\n",
    "            \n",
    "    # recursion\n",
    "    print(\"btree is {}\".format(btree.content))\n",
    "    r_btree.content = btree.content\n",
    "    \n",
    "    if btree.left != None:\n",
    "        print(\"left\")\n",
    "        r_btree.right = BinaryTree(None)\n",
    "        reverse_btree(btree.left, r_btree.right, track+1)\n",
    "    \n",
    "    if btree.right != None:\n",
    "        print(\"right\")\n",
    "        r_btree.left = BinaryTree(None)\n",
    "        reverse_btree(btree.right, r_btree.left, track+1)\n",
    "    \n",
    "    print(\"{} loop ends\".format(track))\n",
    "    return r_btree"
   ]
  },
  {
   "cell_type": "code",
   "execution_count": 86,
   "metadata": {
    "scrolled": true
   },
   "outputs": [
    {
     "name": "stdout",
     "output_type": "stream",
     "text": [
      "1 loop\n",
      "btree is 100\n",
      "left\n",
      "2 loop\n",
      "btree is 50\n",
      "left\n",
      "3 loop\n",
      "btree is 25\n",
      "3 loop ends\n",
      "right\n",
      "3 loop\n",
      "btree is 75\n",
      "3 loop ends\n",
      "2 loop ends\n",
      "right\n",
      "2 loop\n",
      "btree is 200\n",
      "right\n",
      "3 loop\n",
      "btree is 350\n",
      "3 loop ends\n",
      "2 loop ends\n",
      "1 loop ends\n"
     ]
    }
   ],
   "source": [
    "r = reverse_btree(b)"
   ]
  },
  {
   "cell_type": "code",
   "execution_count": 87,
   "metadata": {
    "scrolled": true
   },
   "outputs": [
    {
     "name": "stdout",
     "output_type": "stream",
     "text": [
      "100\n",
      "200\n",
      "350\n",
      "50\n",
      "75\n",
      "25\n"
     ]
    }
   ],
   "source": [
    "pre_order(r)"
   ]
  },
  {
   "cell_type": "code",
   "execution_count": 88,
   "metadata": {
    "collapsed": true
   },
   "outputs": [],
   "source": [
    "# pre-order flip\n",
    "def flip(btree):\n",
    "    if btree == None:\n",
    "        return\n",
    "    print(btree.content)\n",
    "    \n",
    "    btree.right, btree.left = btree.left, btree.right\n",
    "    flip(btree.left)\n",
    "    flip(btree.right)\n",
    "    \n",
    "    return btree"
   ]
  },
  {
   "cell_type": "code",
   "execution_count": 89,
   "metadata": {
    "scrolled": false
   },
   "outputs": [
    {
     "name": "stdout",
     "output_type": "stream",
     "text": [
      "100\n",
      "200\n",
      "350\n",
      "50\n",
      "75\n",
      "25\n"
     ]
    }
   ],
   "source": [
    "r = flip(b)"
   ]
  },
  {
   "cell_type": "code",
   "execution_count": 90,
   "metadata": {
    "scrolled": true
   },
   "outputs": [
    {
     "name": "stdout",
     "output_type": "stream",
     "text": [
      "100\n",
      "200\n",
      "350\n",
      "50\n",
      "75\n",
      "25\n"
     ]
    }
   ],
   "source": [
    "in_order(r)"
   ]
  },
  {
   "cell_type": "code",
   "execution_count": 96,
   "metadata": {
    "collapsed": true
   },
   "outputs": [],
   "source": [
    "# post-order flip\n",
    "def flip(btree):\n",
    "    if btree == None:\n",
    "        return\n",
    "    print(btree.content)\n",
    "    \n",
    "    flip(btree.left)\n",
    "    flip(btree.right)\n",
    "    \n",
    "    btree.right, btree.left = btree.left, btree.right\n",
    "    \n",
    "    return btree"
   ]
  },
  {
   "cell_type": "code",
   "execution_count": 97,
   "metadata": {
    "scrolled": true
   },
   "outputs": [
    {
     "name": "stdout",
     "output_type": "stream",
     "text": [
      "100\n",
      "50\n",
      "25\n",
      "75\n",
      "200\n",
      "350\n"
     ]
    }
   ],
   "source": [
    "r = flip(b)"
   ]
  },
  {
   "cell_type": "code",
   "execution_count": 98,
   "metadata": {},
   "outputs": [
    {
     "name": "stdout",
     "output_type": "stream",
     "text": [
      "100\n",
      "200\n",
      "350\n",
      "50\n",
      "75\n",
      "25\n"
     ]
    }
   ],
   "source": [
    "in_order(r)"
   ]
  }
 ],
 "metadata": {
  "kernelspec": {
   "display_name": "Python 3",
   "language": "python",
   "name": "python3"
  },
  "language_info": {
   "codemirror_mode": {
    "name": "ipython",
    "version": 3
   },
   "file_extension": ".py",
   "mimetype": "text/x-python",
   "name": "python",
   "nbconvert_exporter": "python",
   "pygments_lexer": "ipython3",
   "version": "3.6.0"
  }
 },
 "nbformat": 4,
 "nbformat_minor": 2
}
